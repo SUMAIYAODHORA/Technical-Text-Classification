{
  "metadata": {
    "kernelspec": {
      "language": "python",
      "display_name": "Python 3",
      "name": "python3"
    },
    "language_info": {
      "name": "python",
      "version": "3.7.12",
      "mimetype": "text/x-python",
      "codemirror_mode": {
        "name": "ipython",
        "version": 3
      },
      "pygments_lexer": "ipython3",
      "nbconvert_exporter": "python",
      "file_extension": ".py"
    },
    "kaggle": {
      "accelerator": "gpu",
      "dataSources": [
        {
          "sourceId": 2143,
          "sourceType": "datasetVersion",
          "datasetId": 1192
        },
        {
          "sourceId": 8367137,
          "sourceType": "datasetVersion",
          "datasetId": 4973748
        },
        {
          "sourceId": 8367156,
          "sourceType": "datasetVersion",
          "datasetId": 4973762
        }
      ],
      "dockerImageVersionId": 30357,
      "isInternetEnabled": true,
      "language": "python",
      "sourceType": "notebook",
      "isGpuEnabled": true
    },
    "colab": {
      "provenance": []
    }
  },
  "nbformat_minor": 0,
  "nbformat": 4,
  "cells": [
    {
      "cell_type": "code",
      "source": [
        "import numpy as np # linear algebra\n",
        "import pandas as pd # data processing, CSV file I/O (e.g. pd.read_csv)\n",
        "\n",
        "# Input data files are available in the read-only \"../input/\" directory\n",
        "# For example, running this (by clicking run or pressing Shift+Enter) will list all files under the input directory\n",
        "\n",
        "import os\n",
        "for dirname, _, filenames in os.walk('/kaggle/input'):\n",
        "    for filename in filenames:\n",
        "        print(os.path.join(dirname, filename))"
      ],
      "metadata": {
        "_uuid": "8f2839f25d086af736a60e9eeb907d3b93b6e0e5",
        "_cell_guid": "b1076dfc-b9ad-4769-8c92-a6c4dae69d19",
        "execution": {
          "iopub.status.busy": "2024-05-13T17:08:24.480362Z",
          "iopub.execute_input": "2024-05-13T17:08:24.480756Z",
          "iopub.status.idle": "2024-05-13T17:08:24.491019Z",
          "shell.execute_reply.started": "2024-05-13T17:08:24.480722Z",
          "shell.execute_reply": "2024-05-13T17:08:24.490050Z"
        },
        "trusted": true,
        "id": "VTxTlPrANLMC",
        "outputId": "a3a348a5-6710-4d52-fba9-b2d131222b7e"
      },
      "execution_count": null,
      "outputs": [
        {
          "name": "stdout",
          "text": "/kaggle/input/news-articles/Articles.csv\n/kaggle/input/thesis2/merged.csv\n/kaggle/input/kalpurushfont/Siyamrupali.ttf\n",
          "output_type": "stream"
        }
      ]
    },
    {
      "cell_type": "code",
      "source": [
        "%%time\n",
        "import os\n",
        "from glob import glob\n",
        "import numpy as np\n",
        "import matplotlib.pyplot as plt\n",
        "%matplotlib inline\n",
        "import pandas as pd\n",
        "import seaborn as sns\n",
        "import re\n",
        "import nltk\n",
        "import json\n",
        "from sklearn.preprocessing import MultiLabelBinarizer\n",
        "from sklearn.metrics import confusion_matrix\n",
        "from sklearn.metrics import classification_report\n",
        "from sklearn.model_selection import train_test_split\n",
        "from sklearn.linear_model import LogisticRegression\n",
        "from sklearn.tree import DecisionTreeClassifier\n",
        "from sklearn.ensemble import RandomForestClassifier\n",
        "from sklearn.linear_model import SGDClassifier\n",
        "from sklearn.naive_bayes import MultinomialNB\n",
        "from sklearn.ensemble import VotingClassifier\n",
        "from sklearn.ensemble import BaggingClassifier\n",
        "from sklearn.ensemble import AdaBoostClassifier, RandomForestClassifier, ExtraTreesClassifier\n",
        "from sklearn.svm import SVC\n",
        "from sklearn.metrics import accuracy_score,precision_score,recall_score,f1_score,roc_auc_score\n",
        "from sklearn.metrics import average_precision_score,roc_auc_score, roc_curve, precision_recall_curve\n",
        "from sklearn.preprocessing import LabelEncoder\n",
        "from sklearn.feature_extraction.text import TfidfVectorizer\n",
        "np.random.seed(42)\n",
        "import nltk\n",
        "nltk.download('punkt')\n",
        "from nltk.corpus import stopwords\n",
        "from nltk.tokenize import word_tokenize\n",
        "from nltk.tokenize import ToktokTokenizer\n",
        "import nltk, string, re, spacy,unicodedata, random\n",
        "from bs4 import BeautifulSoup\n",
        "import warnings\n",
        "warnings.filterwarnings('ignore')"
      ],
      "metadata": {
        "execution": {
          "iopub.status.busy": "2024-05-13T17:08:28.085245Z",
          "iopub.execute_input": "2024-05-13T17:08:28.085660Z",
          "iopub.status.idle": "2024-05-13T17:08:39.452269Z",
          "shell.execute_reply.started": "2024-05-13T17:08:28.085626Z",
          "shell.execute_reply": "2024-05-13T17:08:39.451216Z"
        },
        "trusted": true,
        "id": "AAe03DZmNLMD",
        "outputId": "ab372731-62f5-46da-f8d8-5bbe52f1d8c9"
      },
      "execution_count": null,
      "outputs": [
        {
          "name": "stderr",
          "text": "[nltk_data] Downloading package punkt to /usr/share/nltk_data...\n[nltk_data]   Package punkt is already up-to-date!\n",
          "output_type": "stream"
        },
        {
          "name": "stdout",
          "text": "CPU times: user 5.21 s, sys: 1.14 s, total: 6.35 s\nWall time: 11.4 s\n",
          "output_type": "stream"
        }
      ]
    },
    {
      "cell_type": "code",
      "source": [
        "import pandas as pd\n",
        "data = pd.read_csv(\"/kaggle/input/thesis2/merged.csv\")\n",
        "print(f'Total number of Documents: {len(data)}')"
      ],
      "metadata": {
        "execution": {
          "iopub.status.busy": "2024-05-13T17:08:47.229363Z",
          "iopub.execute_input": "2024-05-13T17:08:47.230546Z",
          "iopub.status.idle": "2024-05-13T17:08:47.411905Z",
          "shell.execute_reply.started": "2024-05-13T17:08:47.230485Z",
          "shell.execute_reply": "2024-05-13T17:08:47.410710Z"
        },
        "trusted": true,
        "id": "qKAAnfrmNLME",
        "outputId": "6dafb850-33a6-4793-870d-45be35cbf9a7"
      },
      "execution_count": null,
      "outputs": [
        {
          "name": "stdout",
          "text": "Total number of Documents: 7300\n",
          "output_type": "stream"
        }
      ]
    },
    {
      "cell_type": "code",
      "source": [
        "import pandas as pd\n",
        "\n",
        "# Assuming your dataset is stored in a DataFrame called 'df'\n",
        "# Replace 'clean text' with the actual column name in your dataset\n",
        "duplicates = data[data.duplicated(subset='text', keep=False)]\n",
        "\n",
        "# 'duplicates' now contains all rows where the 'clean text' column has duplicate values\n",
        "# You can inspect these entries to understand why they are duplicated\n",
        "\n",
        "# To print the count of duplicated rows:\n",
        "print(f\"Number of duplicated rows: {len(duplicates)}\")"
      ],
      "metadata": {
        "execution": {
          "iopub.status.busy": "2024-05-13T17:08:50.342204Z",
          "iopub.execute_input": "2024-05-13T17:08:50.342635Z",
          "iopub.status.idle": "2024-05-13T17:08:50.362965Z",
          "shell.execute_reply.started": "2024-05-13T17:08:50.342600Z",
          "shell.execute_reply": "2024-05-13T17:08:50.361838Z"
        },
        "trusted": true,
        "id": "ZF7wUh2UNLME",
        "outputId": "a3fcb4a3-d1b3-4b48-c8f8-8fa38a1d30b3"
      },
      "execution_count": null,
      "outputs": [
        {
          "name": "stdout",
          "text": "Number of duplicated rows: 0\n",
          "output_type": "stream"
        }
      ]
    },
    {
      "cell_type": "code",
      "source": [
        "data = data[['text','label']]"
      ],
      "metadata": {
        "execution": {
          "iopub.status.busy": "2024-05-13T17:08:53.356273Z",
          "iopub.execute_input": "2024-05-13T17:08:53.356678Z",
          "iopub.status.idle": "2024-05-13T17:08:53.363655Z",
          "shell.execute_reply.started": "2024-05-13T17:08:53.356633Z",
          "shell.execute_reply": "2024-05-13T17:08:53.362495Z"
        },
        "trusted": true,
        "id": "nEtHio6oNLME"
      },
      "execution_count": null,
      "outputs": []
    },
    {
      "cell_type": "code",
      "source": [
        "data = data.rename(columns={0:'text',1:'label'})"
      ],
      "metadata": {
        "execution": {
          "iopub.status.busy": "2024-05-13T17:08:56.685488Z",
          "iopub.execute_input": "2024-05-13T17:08:56.686206Z",
          "iopub.status.idle": "2024-05-13T17:08:56.692526Z",
          "shell.execute_reply.started": "2024-05-13T17:08:56.686169Z",
          "shell.execute_reply": "2024-05-13T17:08:56.691530Z"
        },
        "trusted": true,
        "id": "YynZ3oHbNLME"
      },
      "execution_count": null,
      "outputs": []
    },
    {
      "cell_type": "code",
      "source": [
        "total_categories = data['label'].nunique()\n",
        "print(\"Total number of categories:\", total_categories)"
      ],
      "metadata": {
        "execution": {
          "iopub.status.busy": "2024-05-13T17:09:00.557087Z",
          "iopub.execute_input": "2024-05-13T17:09:00.558264Z",
          "iopub.status.idle": "2024-05-13T17:09:00.564813Z",
          "shell.execute_reply.started": "2024-05-13T17:09:00.558219Z",
          "shell.execute_reply": "2024-05-13T17:09:00.563528Z"
        },
        "trusted": true,
        "id": "2RglTMaWNLME",
        "outputId": "e0ee8133-37a8-43b9-dd6d-bcac5758c25f"
      },
      "execution_count": null,
      "outputs": [
        {
          "name": "stdout",
          "text": "Total number of categories: 6\n",
          "output_type": "stream"
        }
      ]
    },
    {
      "cell_type": "code",
      "source": [
        "# Assuming 'data' is your DataFrame with columns renamed\n",
        "category_names = data['label'].unique()\n",
        "print(\"Category names:\", category_names)"
      ],
      "metadata": {
        "execution": {
          "iopub.status.busy": "2024-05-13T17:09:03.156825Z",
          "iopub.execute_input": "2024-05-13T17:09:03.157206Z",
          "iopub.status.idle": "2024-05-13T17:09:03.166668Z",
          "shell.execute_reply.started": "2024-05-13T17:09:03.157174Z",
          "shell.execute_reply": "2024-05-13T17:09:03.165386Z"
        },
        "trusted": true,
        "id": "s9UOfisqNLMF",
        "outputId": "bf62403f-ae65-4ede-ec44-c0d7bdf4b902"
      },
      "execution_count": null,
      "outputs": [
        {
          "name": "stdout",
          "text": "Category names: ['Software Engineering' 'DBMS' 'Data Communication' 'Cyber Security '\n 'Operating System' 'Cyber Security']\n",
          "output_type": "stream"
        }
      ]
    },
    {
      "cell_type": "code",
      "source": [
        "# Replace 'Cyber Security' and 'Cyber Security ' with 'Cyber Security'\n",
        "data['label'] = data['label'].replace(['Cyber Security ', 'Cyber Security  '], 'Cyber Security')\n",
        "\n",
        "# Replace 'Operating System' and 'operating System' with 'Operating System'\n",
        "data['label'] = data['label'].replace(['Operating System', 'operating System'], 'Operating System')"
      ],
      "metadata": {
        "execution": {
          "iopub.status.busy": "2024-05-13T17:09:07.811975Z",
          "iopub.execute_input": "2024-05-13T17:09:07.812671Z",
          "iopub.status.idle": "2024-05-13T17:09:07.823773Z",
          "shell.execute_reply.started": "2024-05-13T17:09:07.812633Z",
          "shell.execute_reply": "2024-05-13T17:09:07.822873Z"
        },
        "trusted": true,
        "id": "gpIkCVJKNLMF"
      },
      "execution_count": null,
      "outputs": []
    },
    {
      "cell_type": "code",
      "source": [
        "# Assuming 'data' is your DataFrame with the 'label' column containing category names\n",
        "unique_classes = data['label'].unique()\n",
        "print(\"Unique classes:\", unique_classes)"
      ],
      "metadata": {
        "execution": {
          "iopub.status.busy": "2024-05-13T17:09:11.301101Z",
          "iopub.execute_input": "2024-05-13T17:09:11.301489Z",
          "iopub.status.idle": "2024-05-13T17:09:11.308461Z",
          "shell.execute_reply.started": "2024-05-13T17:09:11.301459Z",
          "shell.execute_reply": "2024-05-13T17:09:11.307392Z"
        },
        "trusted": true,
        "id": "1TME8TcWNLMF",
        "outputId": "35089aa5-56e6-472b-e881-ca807628d40d"
      },
      "execution_count": null,
      "outputs": [
        {
          "name": "stdout",
          "text": "Unique classes: ['Software Engineering' 'DBMS' 'Data Communication' 'Cyber Security'\n 'Operating System']\n",
          "output_type": "stream"
        }
      ]
    },
    {
      "cell_type": "code",
      "source": [
        "print(\"First rows of dataset\")\n",
        "data.head()"
      ],
      "metadata": {
        "execution": {
          "iopub.status.busy": "2024-05-13T17:09:15.390560Z",
          "iopub.execute_input": "2024-05-13T17:09:15.390917Z",
          "iopub.status.idle": "2024-05-13T17:09:15.407493Z",
          "shell.execute_reply.started": "2024-05-13T17:09:15.390890Z",
          "shell.execute_reply": "2024-05-13T17:09:15.406314Z"
        },
        "trusted": true,
        "id": "1SL7BLDlNLMF",
        "outputId": "91582a30-e692-4b38-8581-b3717aca28f3"
      },
      "execution_count": null,
      "outputs": [
        {
          "name": "stdout",
          "text": "First rows of dataset\n",
          "output_type": "stream"
        },
        {
          "execution_count": 12,
          "output_type": "execute_result",
          "data": {
            "text/plain": "                                                text                 label\n0  সফটওয়্যার ইঞ্জিনিয়ারিং দুইটি শব্দ সফটওয়্যার...  Software Engineering\n1                 সফটওয়্যার কিছু প্রোগ্রামের সমষ্টি  Software Engineering\n2  সমস্ত প্রোগ্রাম যখন কোন নির্ধারিত সমস্যা সমাধা...  Software Engineering\n3  অপরদিকে ইঞ্জিনিয়ারিং বলতে যে সকল নীতিমালা ও ম...  Software Engineering\n4            সফটওয়্যার ইঞ্জিনিয়ারিং বলতে কী বুঝায়  Software Engineering",
            "text/html": "<div>\n<style scoped>\n    .dataframe tbody tr th:only-of-type {\n        vertical-align: middle;\n    }\n\n    .dataframe tbody tr th {\n        vertical-align: top;\n    }\n\n    .dataframe thead th {\n        text-align: right;\n    }\n</style>\n<table border=\"1\" class=\"dataframe\">\n  <thead>\n    <tr style=\"text-align: right;\">\n      <th></th>\n      <th>text</th>\n      <th>label</th>\n    </tr>\n  </thead>\n  <tbody>\n    <tr>\n      <th>0</th>\n      <td>সফটওয়্যার ইঞ্জিনিয়ারিং দুইটি শব্দ সফটওয়্যার...</td>\n      <td>Software Engineering</td>\n    </tr>\n    <tr>\n      <th>1</th>\n      <td>সফটওয়্যার কিছু প্রোগ্রামের সমষ্টি</td>\n      <td>Software Engineering</td>\n    </tr>\n    <tr>\n      <th>2</th>\n      <td>সমস্ত প্রোগ্রাম যখন কোন নির্ধারিত সমস্যা সমাধা...</td>\n      <td>Software Engineering</td>\n    </tr>\n    <tr>\n      <th>3</th>\n      <td>অপরদিকে ইঞ্জিনিয়ারিং বলতে যে সকল নীতিমালা ও ম...</td>\n      <td>Software Engineering</td>\n    </tr>\n    <tr>\n      <th>4</th>\n      <td>সফটওয়্যার ইঞ্জিনিয়ারিং বলতে কী বুঝায়</td>\n      <td>Software Engineering</td>\n    </tr>\n  </tbody>\n</table>\n</div>"
          },
          "metadata": {}
        }
      ]
    },
    {
      "cell_type": "code",
      "source": [
        "def text_to_word_list(text):\n",
        "    text = text.split()\n",
        "    return text\n",
        "\n",
        "def replace_strings(text):\n",
        "    emoji_pattern = re.compile(\"[\"\n",
        "                           u\"\\U0001F600-\\U0001F64F\"  # emoticons\n",
        "                           u\"\\U0001F300-\\U0001F5FF\"  # symbols & pictographs\n",
        "                           u\"\\U0001F680-\\U0001F6FF\"  # transport & map symbols\n",
        "                           u\"\\U0001F1E0-\\U0001F1FF\"  # flags (iOS)\n",
        "                           u\"\\U00002702-\\U000027B0\"\n",
        "                           u\"\\U000024C2-\\U0001F251\"\n",
        "                           u\"\\u00C0-\\u017F\"          #latin\n",
        "                           u\"\\u2000-\\u206F\"          #generalPunctuations\n",
        "\n",
        "                           \"]+\", flags=re.UNICODE)\n",
        "    #english_pattern=re.compile('[a-zA-Z0-9]+', flags=re.I)\n",
        "    #latin_pattern=re.compile('[A-Za-z\\u00C0-\\u00D6\\u00D8-\\u00f6\\u00f8-\\u00ff\\s]*',)\n",
        "\n",
        "    text=emoji_pattern.sub(r'', text)\n",
        "    #text=english_pattern.sub(r'', text)\n",
        "    text = re.sub(r'₀|₁|₂|₃|₄|₅|₆|₇|₈|₉', '', text)\n",
        "    #text = re.sub(r'⁰|¹|²|³|⁴|⁵|⁶|⁷|⁸|⁹|⁻|⁺|ⁿ|ᵗ', '', text)\n",
        "\n",
        "    return text\n",
        "\n",
        "def remove_punctuations(my_str):\n",
        "    # define punctuation\n",
        "    punctuations = '''````£|¢|Ñ+-*/=৳০১২৩৪৫৬৭৮৯012–34567•89।!()-−[]{};:'\"“\\’,<>./?@#$%^&*_~‘—॥”‰θ→°π∈∝α≤≥Δβε≠�￰৷￰'''\n",
        "\n",
        "    no_punct = \"\"\n",
        "    for char in my_str:\n",
        "        if char not in punctuations:\n",
        "            no_punct = no_punct + char\n",
        "\n",
        "    # display the unpunctuated string\n",
        "    return no_punct\n",
        "\n",
        "\n",
        "\n",
        "def joining(text):\n",
        "    out=' '.join(text)\n",
        "    return out\n",
        "\n",
        "def preprocessing(text):\n",
        "    out=remove_punctuations(replace_strings(text))\n",
        "    return out\n"
      ],
      "metadata": {
        "execution": {
          "iopub.status.busy": "2024-05-13T17:09:19.012022Z",
          "iopub.execute_input": "2024-05-13T17:09:19.012798Z",
          "iopub.status.idle": "2024-05-13T17:09:19.027160Z",
          "shell.execute_reply.started": "2024-05-13T17:09:19.012763Z",
          "shell.execute_reply": "2024-05-13T17:09:19.026140Z"
        },
        "trusted": true,
        "id": "lnNT1DWaNLMF"
      },
      "execution_count": null,
      "outputs": []
    },
    {
      "cell_type": "code",
      "source": [
        "data['cleaned'] = data['text'].apply(lambda x: preprocessing(str(x)))"
      ],
      "metadata": {
        "execution": {
          "iopub.status.busy": "2024-05-13T17:09:25.419973Z",
          "iopub.execute_input": "2024-05-13T17:09:25.421024Z",
          "iopub.status.idle": "2024-05-13T17:09:25.698878Z",
          "shell.execute_reply.started": "2024-05-13T17:09:25.420989Z",
          "shell.execute_reply": "2024-05-13T17:09:25.698039Z"
        },
        "trusted": true,
        "id": "kmHb3G9xNLML"
      },
      "execution_count": null,
      "outputs": []
    },
    {
      "cell_type": "code",
      "source": [
        "sample_data = range(4000, 4005)\n",
        "for i in sample_data:\n",
        "    print(data['cleaned'][i])"
      ],
      "metadata": {
        "execution": {
          "iopub.status.busy": "2024-05-13T17:09:28.981627Z",
          "iopub.execute_input": "2024-05-13T17:09:28.982314Z",
          "iopub.status.idle": "2024-05-13T17:09:28.987888Z",
          "shell.execute_reply.started": "2024-05-13T17:09:28.982282Z",
          "shell.execute_reply": "2024-05-13T17:09:28.986979Z"
        },
        "trusted": true,
        "id": "Ofo65TkYNLML",
        "outputId": "2cf1f4f2-bae1-4a27-e18e-55688e60660c"
      },
      "execution_count": null,
      "outputs": [
        {
          "name": "stdout",
          "text": "গ্রে হ্যাট হ্যাকাররা  আবার তা নিজের স্বার্থের জন্যও ব্যবহার করতে পারে\nব্ল্যাক হ্যাট হ্যাকার Black Hat Hacker এই ধরনের হ্যাকাররা সবচেয়ে ভয়ংকর প্রকৃতির হ্যাকার \nব্ল্যাক হ্যাট হ্যাকার  কোনো একটি সিকিউরিটি সিস্টেমের ত্রুটিগুলো বের করলে দ্রুত ঐ ত্রুটিকে নিজের স্বার্থে কাজে লাগায় \nব্ল্যাক হ্যাট হ্যাকার  এরা সিস্টেম নষ্ট করে বিভিন্ন ভাইরাস ছড়িয়ে দেয় \nব্ল্যাক হ্যাট হ্যাকার  তারা ভবিষ্যতে নিজে আবার যেন ঢুকতে পারে সে পথ রাখে \n",
          "output_type": "stream"
        }
      ]
    },
    {
      "cell_type": "code",
      "source": [
        "stop =[\"অতএব\",\"অথচ\",\"অথবা\",\"অনুযায়ী\",\"অনেক\",\"অনেকে\",\"অনেকেই\",\"অন্তত\",\"অন্য\",\"অবধি\",\"অবশ্য\",\"অর্থাত\",\"আই\",\"আগামী\",\"আগে\",\"আগেই\",\"আছে\",\"আজ\",\"আদ্যভাগে\",\"আপনার\",\"আপনি\",\"আবার\",\"আমরা\",\"আমাকে\",\"আমাদের\",\"আমার\",\"আমি\",\"আর\",\"আরও\",\"ই\",\"ইত্যাদি\",\"ইহা\",\"উচিত\",\"উত্তর\",\"উনি\",\"উপর\",\"উপরে\",\"এ\",\"এঁদের\",\"এঁরা\",\"এই\",\"একই\",\"একটি\",\"একবার\",\"একে\",\"এক্\",\"এখন\",\"এখনও\",\"এখানে\",\"এখানেই\",\"এটা\",\"এটাই\",\"এটি\",\"এত\",\"এতটাই\",\"এতে\",\"এদের\",\"এব\",\"এবং\",\"এবার\",\"এমন\",\"এমনকী\",\"এমনি\",\"এর\",\"এরা\",\"এল\",\"এস\",\"এসে\",\"ঐ\",\"ও\",\"ওঁদের\",\"ওঁর\",\"ওঁরা\",\"ওই\",\"ওকে\",\"ওখানে\",\"ওদের\",\"ওর\",\"ওরা\",\"কখনও\",\"কত\",\"কবে\",\"কমনে\",\"কয়েক\",\"কয়েকটি\",\"করছে\",\"করছেন\",\"করতে\",\"করবে\",\"করবেন\",\"করলে\",\"করলেন\",\"করা\",\"করাই\",\"করায়\",\"করার\",\"করি\",\"করিতে\",\"করিয়া\",\"করিয়ে\",\"করে\",\"করেই\",\"করেছিলেন\",\"করেছে\",\"করেছেন\",\"করেন\",\"কাউকে\",\"কাছ\",\"কাছে\",\"কাজ\",\"কাজে\",\"কারও\",\"কারণ\",\"কি\",\"কিংবা\",\"কিছু\",\"কিছুই\",\"কিন্তু\",\"কী\",\"কে\",\"কেউ\",\"কেউই\",\"কেখা\",\"কেন\",\"কোটি\",\"কোন\",\"কোনও\",\"কোনো\",\"ক্ষেত্রে\",\"কয়েক\",\"খুব\",\"গিয়ে\",\"গিয়েছে\",\"গিয়ে\",\"গুলি\",\"গেছে\",\"গেল\",\"গেলে\",\"গোটা\",\"চলে\",\"চান\",\"চায়\",\"চার\",\"চালু\",\"চেয়ে\",\"চেষ্টা\",\"ছাড়া\",\"ছাড়াও\",\"ছিল\",\"ছিলেন\",\"জন\",\"জনকে\",\"জনের\",\"জন্য\",\"জন্যওজে\",\"জানতে\",\"জানা\",\"জানানো\",\"জানায়\",\"জানিয়ে\",\"জানিয়েছে\",\"জে\",\"জ্নজন\",\"টি\",\"ঠিক\",\"তখন\",\"তত\",\"তথা\",\"তবু\",\"তবে\",\"তা\",\"তাঁকে\",\"তাঁদের\",\"তাঁর\",\"তাঁরা\",\"তাঁাহারা\",\"তাই\",\"তাও\",\"তাকে\",\"তাতে\",\"তাদের\",\"তার\",\"তারপর\",\"তারা\",\"তারৈ\",\"তাহলে\",\"তাহা\",\"তাহাতে\",\"তাহার\",\"তিনঐ\",\"তিনি\",\"তিনিও\",\"তুমি\",\"তুলে\",\"তেমন\",\"তো\",\"তোমার\",\"থাকবে\",\"থাকবেন\",\"থাকা\",\"থাকায়\",\"থাকে\",\"থাকেন\",\"থেকে\",\"থেকেই\",\"থেকেও\",\"দিকে\",\"দিতে\",\"দিন\",\"দিয়ে\",\"দিয়েছে\",\"দিয়েছেন\",\"দিলেন\",\"দু\",\"দুই\",\"দুটি\",\"দুটো\",\"দেওয়া\",\"দেওয়ার\",\"দেওয়া\",\"দেখতে\",\"দেখা\",\"দেখে\",\"দেন\",\"দেয়\",\"দ্বারা\",\"ধরা\",\"ধরে\",\"ধামার\",\"নতুন\",\"নয়\",\"না\",\"নাই\",\"নাকি\",\"নাগাদ\",\"নানা\",\"নিজে\",\"নিজেই\",\"নিজেদের\",\"নিজের\",\"নিতে\",\"নিয়ে\",\"নিয়ে\",\"নেই\",\"নেওয়া\",\"নেওয়ার\",\"নেওয়া\",\"নয়\",\"পক্ষে\",\"পর\",\"পরে\",\"পরেই\",\"পরেও\",\"পর্যন্ত\",\"পাওয়া\",\"পাচ\",\"পারি\",\"পারে\",\"পারেন\",\"পি\",\"পেয়ে\",\"পেয়্র্\",\"প্রতি\",\"প্রথম\",\"প্রভৃতি\",\"প্রযন্ত\",\"প্রাথমিক\",\"প্রায়\",\"প্রায়\",\"ফলে\",\"ফিরে\",\"ফের\",\"বক্তব্য\",\"বদলে\",\"বন\",\"বরং\",\"বলতে\",\"বলল\",\"বললেন\",\"বলা\",\"বলে\",\"বলেছেন\",\"বলেন\",\"বসে\",\"বহু\",\"বা\",\"বাদে\",\"বার\",\"বি\",\"বিনা\",\"বিভিন্ন\",\"বিশেষ\",\"বিষয়টি\",\"বেশ\",\"বেশি\",\"ব্যবহার\",\"ব্যাপারে\",\"ভাবে\",\"ভাবেই\",\"মতো\",\"মতোই\",\"মধ্যভাগে\",\"মধ্যে\",\"মধ্যেই\",\"মধ্যেও\",\"মনে\",\"মাত্র\",\"মাধ্যমে\",\"মোট\",\"মোটেই\",\"যখন\",\"যত\",\"যতটা\",\"যথেষ্ট\",\"যদি\",\"যদিও\",\"যা\",\"যাঁর\",\"যাঁরা\",\"যাওয়া\",\"যাওয়ার\",\"যাওয়া\",\"যাকে\",\"যাচ্ছে\",\"যাতে\",\"যাদের\",\"যান\",\"যাবে\",\"যায়\",\"যার\",\"যারা\",\"যিনি\",\"যে\",\"যেখানে\",\"যেতে\",\"যেন\",\"যেমন\",\"র\",\"রকম\",\"রয়েছে\",\"রাখা\",\"রেখে\",\"লক্ষ\",\"শুধু\",\"শুরু\",\"সঙ্গে\",\"সঙ্গেও\",\"সব\",\"সবার\",\"সমস্ত\",\"সম্প্রতি\",\"সহ\",\"সহিত\",\"সাথে\",\"সাধারণ\",\"সামনে\",\"সি\",\"সুতরাং\",\"সে\",\"সেই\",\"সেখান\",\"সেখানে\",\"সেটা\",\"সেটাই\",\"সেটাও\",\"সেটি\",\"স্পষ্ট\",\"স্বয়ং\",\"হইতে\",\"হইবে\",\"হইয়া\",\"হওয়া\",\"হওয়ায়\",\"হওয়ার\",\"হচ্ছে\",\"হত\",\"হতে\",\"হতেই\",\"হন\",\"হবে\",\"হবেন\",\"হয়\",\"হয়তো\",\"হয়নি\",\"হয়ে\",\"হয়েই\",\"হয়েছিল\",\"হয়েছে\",\"হয়েছেন\",\"হল\",\"হলে\",\"হলেই\",\"হলেও\",\"হলো\",\"হাজার\",\"হিসাবে\",\"হৈলে\",\"হোক\",\"হয়\"]\n",
        "display(stop)"
      ],
      "metadata": {
        "execution": {
          "iopub.status.busy": "2024-05-13T17:09:33.964642Z",
          "iopub.execute_input": "2024-05-13T17:09:33.965036Z",
          "iopub.status.idle": "2024-05-13T17:09:34.006467Z",
          "shell.execute_reply.started": "2024-05-13T17:09:33.965004Z",
          "shell.execute_reply": "2024-05-13T17:09:34.005561Z"
        },
        "trusted": true,
        "id": "T9hQMy_gNLML",
        "outputId": "99edb838-fae2-40d3-a0e6-24f942e27cdb"
      },
      "execution_count": null,
      "outputs": [
        {
          "output_type": "display_data",
          "data": {
            "text/plain": "['অতএব',\n 'অথচ',\n 'অথবা',\n 'অনুযায়ী',\n 'অনেক',\n 'অনেকে',\n 'অনেকেই',\n 'অন্তত',\n 'অন্য',\n 'অবধি',\n 'অবশ্য',\n 'অর্থাত',\n 'আই',\n 'আগামী',\n 'আগে',\n 'আগেই',\n 'আছে',\n 'আজ',\n 'আদ্যভাগে',\n 'আপনার',\n 'আপনি',\n 'আবার',\n 'আমরা',\n 'আমাকে',\n 'আমাদের',\n 'আমার',\n 'আমি',\n 'আর',\n 'আরও',\n 'ই',\n 'ইত্যাদি',\n 'ইহা',\n 'উচিত',\n 'উত্তর',\n 'উনি',\n 'উপর',\n 'উপরে',\n 'এ',\n 'এঁদের',\n 'এঁরা',\n 'এই',\n 'একই',\n 'একটি',\n 'একবার',\n 'একে',\n 'এক্',\n 'এখন',\n 'এখনও',\n 'এখানে',\n 'এখানেই',\n 'এটা',\n 'এটাই',\n 'এটি',\n 'এত',\n 'এতটাই',\n 'এতে',\n 'এদের',\n 'এব',\n 'এবং',\n 'এবার',\n 'এমন',\n 'এমনকী',\n 'এমনি',\n 'এর',\n 'এরা',\n 'এল',\n 'এস',\n 'এসে',\n 'ঐ',\n 'ও',\n 'ওঁদের',\n 'ওঁর',\n 'ওঁরা',\n 'ওই',\n 'ওকে',\n 'ওখানে',\n 'ওদের',\n 'ওর',\n 'ওরা',\n 'কখনও',\n 'কত',\n 'কবে',\n 'কমনে',\n 'কয়েক',\n 'কয়েকটি',\n 'করছে',\n 'করছেন',\n 'করতে',\n 'করবে',\n 'করবেন',\n 'করলে',\n 'করলেন',\n 'করা',\n 'করাই',\n 'করায়',\n 'করার',\n 'করি',\n 'করিতে',\n 'করিয়া',\n 'করিয়ে',\n 'করে',\n 'করেই',\n 'করেছিলেন',\n 'করেছে',\n 'করেছেন',\n 'করেন',\n 'কাউকে',\n 'কাছ',\n 'কাছে',\n 'কাজ',\n 'কাজে',\n 'কারও',\n 'কারণ',\n 'কি',\n 'কিংবা',\n 'কিছু',\n 'কিছুই',\n 'কিন্তু',\n 'কী',\n 'কে',\n 'কেউ',\n 'কেউই',\n 'কেখা',\n 'কেন',\n 'কোটি',\n 'কোন',\n 'কোনও',\n 'কোনো',\n 'ক্ষেত্রে',\n 'কয়েক',\n 'খুব',\n 'গিয়ে',\n 'গিয়েছে',\n 'গিয়ে',\n 'গুলি',\n 'গেছে',\n 'গেল',\n 'গেলে',\n 'গোটা',\n 'চলে',\n 'চান',\n 'চায়',\n 'চার',\n 'চালু',\n 'চেয়ে',\n 'চেষ্টা',\n 'ছাড়া',\n 'ছাড়াও',\n 'ছিল',\n 'ছিলেন',\n 'জন',\n 'জনকে',\n 'জনের',\n 'জন্য',\n 'জন্যওজে',\n 'জানতে',\n 'জানা',\n 'জানানো',\n 'জানায়',\n 'জানিয়ে',\n 'জানিয়েছে',\n 'জে',\n 'জ্নজন',\n 'টি',\n 'ঠিক',\n 'তখন',\n 'তত',\n 'তথা',\n 'তবু',\n 'তবে',\n 'তা',\n 'তাঁকে',\n 'তাঁদের',\n 'তাঁর',\n 'তাঁরা',\n 'তাঁাহারা',\n 'তাই',\n 'তাও',\n 'তাকে',\n 'তাতে',\n 'তাদের',\n 'তার',\n 'তারপর',\n 'তারা',\n 'তারৈ',\n 'তাহলে',\n 'তাহা',\n 'তাহাতে',\n 'তাহার',\n 'তিনঐ',\n 'তিনি',\n 'তিনিও',\n 'তুমি',\n 'তুলে',\n 'তেমন',\n 'তো',\n 'তোমার',\n 'থাকবে',\n 'থাকবেন',\n 'থাকা',\n 'থাকায়',\n 'থাকে',\n 'থাকেন',\n 'থেকে',\n 'থেকেই',\n 'থেকেও',\n 'দিকে',\n 'দিতে',\n 'দিন',\n 'দিয়ে',\n 'দিয়েছে',\n 'দিয়েছেন',\n 'দিলেন',\n 'দু',\n 'দুই',\n 'দুটি',\n 'দুটো',\n 'দেওয়া',\n 'দেওয়ার',\n 'দেওয়া',\n 'দেখতে',\n 'দেখা',\n 'দেখে',\n 'দেন',\n 'দেয়',\n 'দ্বারা',\n 'ধরা',\n 'ধরে',\n 'ধামার',\n 'নতুন',\n 'নয়',\n 'না',\n 'নাই',\n 'নাকি',\n 'নাগাদ',\n 'নানা',\n 'নিজে',\n 'নিজেই',\n 'নিজেদের',\n 'নিজের',\n 'নিতে',\n 'নিয়ে',\n 'নিয়ে',\n 'নেই',\n 'নেওয়া',\n 'নেওয়ার',\n 'নেওয়া',\n 'নয়',\n 'পক্ষে',\n 'পর',\n 'পরে',\n 'পরেই',\n 'পরেও',\n 'পর্যন্ত',\n 'পাওয়া',\n 'পাচ',\n 'পারি',\n 'পারে',\n 'পারেন',\n 'পি',\n 'পেয়ে',\n 'পেয়্র্',\n 'প্রতি',\n 'প্রথম',\n 'প্রভৃতি',\n 'প্রযন্ত',\n 'প্রাথমিক',\n 'প্রায়',\n 'প্রায়',\n 'ফলে',\n 'ফিরে',\n 'ফের',\n 'বক্তব্য',\n 'বদলে',\n 'বন',\n 'বরং',\n 'বলতে',\n 'বলল',\n 'বললেন',\n 'বলা',\n 'বলে',\n 'বলেছেন',\n 'বলেন',\n 'বসে',\n 'বহু',\n 'বা',\n 'বাদে',\n 'বার',\n 'বি',\n 'বিনা',\n 'বিভিন্ন',\n 'বিশেষ',\n 'বিষয়টি',\n 'বেশ',\n 'বেশি',\n 'ব্যবহার',\n 'ব্যাপারে',\n 'ভাবে',\n 'ভাবেই',\n 'মতো',\n 'মতোই',\n 'মধ্যভাগে',\n 'মধ্যে',\n 'মধ্যেই',\n 'মধ্যেও',\n 'মনে',\n 'মাত্র',\n 'মাধ্যমে',\n 'মোট',\n 'মোটেই',\n 'যখন',\n 'যত',\n 'যতটা',\n 'যথেষ্ট',\n 'যদি',\n 'যদিও',\n 'যা',\n 'যাঁর',\n 'যাঁরা',\n 'যাওয়া',\n 'যাওয়ার',\n 'যাওয়া',\n 'যাকে',\n 'যাচ্ছে',\n 'যাতে',\n 'যাদের',\n 'যান',\n 'যাবে',\n 'যায়',\n 'যার',\n 'যারা',\n 'যিনি',\n 'যে',\n 'যেখানে',\n 'যেতে',\n 'যেন',\n 'যেমন',\n 'র',\n 'রকম',\n 'রয়েছে',\n 'রাখা',\n 'রেখে',\n 'লক্ষ',\n 'শুধু',\n 'শুরু',\n 'সঙ্গে',\n 'সঙ্গেও',\n 'সব',\n 'সবার',\n 'সমস্ত',\n 'সম্প্রতি',\n 'সহ',\n 'সহিত',\n 'সাথে',\n 'সাধারণ',\n 'সামনে',\n 'সি',\n 'সুতরাং',\n 'সে',\n 'সেই',\n 'সেখান',\n 'সেখানে',\n 'সেটা',\n 'সেটাই',\n 'সেটাও',\n 'সেটি',\n 'স্পষ্ট',\n 'স্বয়ং',\n 'হইতে',\n 'হইবে',\n 'হইয়া',\n 'হওয়া',\n 'হওয়ায়',\n 'হওয়ার',\n 'হচ্ছে',\n 'হত',\n 'হতে',\n 'হতেই',\n 'হন',\n 'হবে',\n 'হবেন',\n 'হয়',\n 'হয়তো',\n 'হয়নি',\n 'হয়ে',\n 'হয়েই',\n 'হয়েছিল',\n 'হয়েছে',\n 'হয়েছেন',\n 'হল',\n 'হলে',\n 'হলেই',\n 'হলেও',\n 'হলো',\n 'হাজার',\n 'হিসাবে',\n 'হৈলে',\n 'হোক',\n 'হয়']"
          },
          "metadata": {}
        }
      ]
    },
    {
      "cell_type": "code",
      "source": [
        "def stopwordRemoval(text):\n",
        "    x=str(text)\n",
        "    l=x.split()\n",
        "\n",
        "    stm=[elem for elem in l if elem not in stop]\n",
        "\n",
        "    out=' '.join(stm)\n",
        "\n",
        "    return str(out)"
      ],
      "metadata": {
        "execution": {
          "iopub.status.busy": "2024-05-13T17:10:05.689306Z",
          "iopub.execute_input": "2024-05-13T17:10:05.690127Z",
          "iopub.status.idle": "2024-05-13T17:10:05.695933Z",
          "shell.execute_reply.started": "2024-05-13T17:10:05.690089Z",
          "shell.execute_reply": "2024-05-13T17:10:05.694811Z"
        },
        "trusted": true,
        "id": "58gHZxPQNLMM"
      },
      "execution_count": null,
      "outputs": []
    },
    {
      "cell_type": "code",
      "source": [
        "# Apply the stopwordRemoval function to the 'clean text' column\n",
        "data['cleaned'] = data['cleaned'].apply(lambda x: stopwordRemoval(str(x)))\n",
        "\n",
        "# Iterate through the first 1000 rows and print the 'clean text' column values\n",
        "sample_data = range(0, 5)\n",
        "for i in sample_data:\n",
        "    print(data['cleaned'][i])"
      ],
      "metadata": {
        "execution": {
          "iopub.status.busy": "2024-05-13T17:10:08.499375Z",
          "iopub.execute_input": "2024-05-13T17:10:08.499733Z",
          "iopub.status.idle": "2024-05-13T17:10:09.137601Z",
          "shell.execute_reply.started": "2024-05-13T17:10:08.499706Z",
          "shell.execute_reply": "2024-05-13T17:10:09.136349Z"
        },
        "trusted": true,
        "id": "5lfEMV3yNLMM",
        "outputId": "d6832c83-9f9b-4756-a6f8-03e7adba00fd"
      },
      "execution_count": null,
      "outputs": [
        {
          "name": "stdout",
          "text": "সফটওয়্যার ইঞ্জিনিয়ারিং দুইটি শব্দ সফটওয়্যার ইঞ্জিনিয়ারিংএর সমন্বয়ে গঠিত\nসফটওয়্যার প্রোগ্রামের সমষ্টি\nপ্রোগ্রাম নির্ধারিত সমস্যা সমাধানের উদ্দেশ্যে তৈরি সফটওয়্যার প্রোডাক্ট\nঅপরদিকে ইঞ্জিনিয়ারিং সকল নীতিমালা মেথড সমূহ প্রোডাক্টটি Software ফিনিশিং প্রোডাক্ট সেগুলোর সুশৃঙ্খল প্রয়োগ করাকে বুঝায়\nসফটওয়্যার ইঞ্জিনিয়ারিং বুঝায়\n",
          "output_type": "stream"
        }
      ]
    },
    {
      "cell_type": "code",
      "source": [
        "# Split the data into training, validation, and testing sets\n",
        "train_data, test_data = train_test_split(data, test_size=0.3, random_state=42)\n",
        "val_data, test_data = train_test_split(test_data, test_size=0.5, random_state=42)\n",
        "\n",
        "# Print the shapes of the resulting datasets\n",
        "print(\"Training data shape:\", train_data.shape)\n",
        "print(\"Validation data shape:\", val_data.shape)\n",
        "print(\"Testing data shape:\", test_data.shape)"
      ],
      "metadata": {
        "execution": {
          "iopub.status.busy": "2024-05-13T17:10:12.324181Z",
          "iopub.execute_input": "2024-05-13T17:10:12.324642Z",
          "iopub.status.idle": "2024-05-13T17:10:12.336767Z",
          "shell.execute_reply.started": "2024-05-13T17:10:12.324608Z",
          "shell.execute_reply": "2024-05-13T17:10:12.335686Z"
        },
        "trusted": true,
        "id": "Tzz5C9cGNLMM",
        "outputId": "a07172b9-75df-49c9-e305-054827925a7f"
      },
      "execution_count": null,
      "outputs": [
        {
          "name": "stdout",
          "text": "Training data shape: (5110, 3)\nValidation data shape: (1095, 3)\nTesting data shape: (1095, 3)\n",
          "output_type": "stream"
        }
      ]
    },
    {
      "cell_type": "code",
      "source": [
        "train_data['enc_label'] = train_data['label'].replace({'Software Engineering':0, 'DBMS':1, 'Data Communication':2 ,'Cyber Security':3,\n",
        " 'Operating System':4})\n",
        "val_data['enc_label'] = val_data['label'].replace({'Software Engineering':0, 'DBMS':1, 'Data Communication':2 ,'Cyber Security':3,\n",
        " 'Operating System':4})"
      ],
      "metadata": {
        "execution": {
          "iopub.status.busy": "2024-05-13T17:10:15.080056Z",
          "iopub.execute_input": "2024-05-13T17:10:15.080435Z",
          "iopub.status.idle": "2024-05-13T17:10:15.096594Z",
          "shell.execute_reply.started": "2024-05-13T17:10:15.080402Z",
          "shell.execute_reply": "2024-05-13T17:10:15.095570Z"
        },
        "trusted": true,
        "id": "C_MyyEGmNLMM"
      },
      "execution_count": null,
      "outputs": []
    },
    {
      "cell_type": "code",
      "source": [
        "train_data['cleaned'].tolist()"
      ],
      "metadata": {
        "execution": {
          "iopub.status.busy": "2024-05-13T17:10:19.093439Z",
          "iopub.execute_input": "2024-05-13T17:10:19.093850Z",
          "iopub.status.idle": "2024-05-13T17:10:19.125440Z",
          "shell.execute_reply.started": "2024-05-13T17:10:19.093818Z",
          "shell.execute_reply": "2024-05-13T17:10:19.124415Z"
        },
        "trusted": true,
        "id": "TBpSXZh8NLMM",
        "outputId": "07fc806a-44b2-4d10-fa3d-c43602f76369"
      },
      "execution_count": null,
      "outputs": [
        {
          "execution_count": 22,
          "output_type": "execute_result",
          "data": {
            "text/plain": "['ধরনের পরিস্থিতি মোকাবেলা দরকার ইন্টেলেকচুয়াল প্রপার্টি আইনের প্রয়োগ',\n 'কম্পিউটার ভাইরাস মূলত প্রোগ্রামারদের ডেভেলপ ক্ষতিকর প্রোগ্রাম',\n 'তাছাড়া ভাটা দ্রুত পড়া Read যায়',\n 'প্রযুক্তির অনুমতি প্রক্রিয়াকরণ ট্রান্সপন্ডার ত্রুটি কর্মক্ষমতা ডিজিটাল সিগন্যালিংয়ের উন্নতি উপলব্ধি ব্যবহারে আসা',\n 'ফাইল মুছে ফেলার নামযুক্ত ফাইলের ডিরেক্টরি অনুসন্ধান',\n 'আরেক দল ক্র্যাকার সফটওয়্যার টুলের সিস্টেমে অবৈধভাবে প্রবেশ',\n 'পাসিং রেফারেন্স বাদ কথোপকথনের অংশ সফ্টওয়্যার কমই উল্লেখ',\n 'মডুলেটেড ক্যারিয়ার ওয়েভের প্রেক্ষিতেও মডুলেশন ইনডেক্সকে সংজ্ঞায়িত যায়',\n 'অবজেক্ট অরিয়েন্টেড ডাটা মডেল মূলত অবজেক্ট অরিয়েন্টেড প্রোগ্রামিং ল্যাংগুয়েজের ধারণার প্রতিষ্ঠিত',\n 'সিস্টেমটি ব্যবহারযোগ্য দক্ষতার ডেটা পুনরুদ্ধার',\n 'কমান্ড পেলে প্রোগ্রাম ডিস্ক মেমোরিতে পূর্বের প্রোগ্রাম ওভাররাইট',\n 'সিগন্যালের সেকেন্ডে ডাটা ট্রান্সফারের হারকে Data Rate',\n 'কোড লেখার সময় প্রোগ্রামারগণ কোড উদ্দেশ্য কারা লিখছে কোথায় প্রয়োজন',\n 'উপাদানস্তরের নকশা সফ্টওয়্যার আর্কিটেকচারের কাঠামোগত উপাদানগুলিকে সফ্টওয়্যার উপাদানগুলির পদ্ধতিগত বিবরণে রূপান্তরিত',\n 'অননুমোদিত ব্যবহারকারী এসব সেজন্য ডাটাবেস সিস্টেমে ডাটাবেসের ব্যবহারকে কঠোরভাবে নিয়ন্ত্রণ',\n 'OS কম্পিউটারের Information managementএর কাজও',\n 'যেহেতু একাধিক প্রক্রিয়া শেয়ার্ড মেমরিতে ডেটা স্ট্রাকচারের আপডেট পড়তে সম্পাদন পারস্পরিক বর্জন নিশ্চিত অবশ্যই ব্যবস্থা থাকতে অর্থাৎ ডাটা স্ট্রাকচার একবারে সর্বাধিক প্রক্রিয়া পরিবর্তিত প্রক্রিয়াই ডেটা স্ট্রাকচার পড়ছে অন্যান্য প্রক্রিয়া লেখা',\n 'অর্থাৎ মধ্যবর্তী কার্যকরী প্রতিনিধি ব্যতিরেকেই উপাত্ত নিয়ন্ত্রণ তথ্য এনটিটিসমূহের সরাসরি বিনিময়',\n 'ডাটা ডিকশনারি ফাইল মেটা ডাটা অর্থাৎ ডাটা সম্পর্কিত ডাটা গঠিত',\n 'যেকোনো Programকে Computer Execute প্রয়োজনীয় Translator Like compiler assembler or interpreter দরকার',\n 'ক্রিপ্টোগ্রাফি আধুনিক ইলেকট্রনিক যোগাযোগের ঘনিষ্ঠভাবে যুক্ত',\n 'যাইহোক Rijndael ডিজাইনাররা পদ্ধতির প্রস্তাব দ্রুত সফ্টওয়্যার বাস্তবায়ন',\n 'Ransomware আক্রমণের বিরুদ্ধে ব্যবসার মূল্যবান তথ্য রক্ষা একাধিক স্থানে ব্যাকআপ',\n 'রাউটার ব্রিজের বিপরীত কাজটিই ডেটা ট্রাফিক ফরোয়ার্ড',\n 'ভেলিডেশন প্রক্রিয়া ইউজারের চাহিদা মোতাবেক সফটওয়্যারটি তৈরি হয়েছে পরীক্ষনের ব্যবহৃত',\n 'কম্পিউটারের প্রসেস Process প্রসেসের প্রকার তথ্যের আদানপ্রদানের সংযোগ রক্ষা',\n 'সিডো কোড প্রোগ্রামিং ভাষার কাছাকাছি',\n 'ধরনের কম্পিউটার সিস্টেমে ডাটাবেস সিস্টেমকে রান করানো সিস্টেমের ভিত্তি ডাটাবেস সিস্টেম গড়ে উঠে',\n 'প্রথমে ডেভেলপার কাঙ্খিত পরিবর্তন ফাংশন সংবলিত স্বয়ংক্রিয় টেস্ট কেস লিখেন এরপর টেস্ট পাসের সর্বনিম্ন কোড নির্দেশ এরপর কোডকে গ্রহণযোগ্য মানে আসা',\n 'ট্রিগারকে ইভেন্ট কন্ডিশন নামক অংশে ভাগ',\n 'পুরানো অপারেটিং সিস্টেম অ্যান্টিভাইরাস প্রোগ্রামের অনুপস্থিতিতে সহজে আক্রমণ',\n 'অপারেটিংসিস্টেম ডিজাইনের সম্ভবত সেরা বর্তমান পদ্ধতি জড়িত লোডযোগ্য কার্নেল মডিউল',\n 'ডাটাবেস ব্যাক আপ ডাটাবেসের ডাটা নিরাপদ স্থানে সংরক্ষিত',\n 'databaseএর বিশ্বস্ততা বৃদ্ধি পায়',\n 'সিনক্রোনাস টাইম ডিভিশন মাল্টিপ্লেক্সিং ডাটা ইউনিটের চারটিকে ঘুরে ফ্রেমে ইনপুট সংযোগগুলোকে সংগ্রহ',\n 'পাওয়ার অকৃতকার্য Failure ডাটা নষ্ট',\n 'মডিউল উপাদান গুলো একসাথে গ্রুপভুক্ত টাস্ক সম্পাদনে পর্যায়ক্রমিকভাবে নির্বাহ এটিকে পদ্ধতিগত সংযুক্ত',\n 'IBM cabling system কর্তৃক স্পেসিফিকেশনকৃত STP ক্যাবল টোকেন রিং নেটওয়ার্কগুলোতে ব্যবহৃত',\n 'বিপরীতে আধুনিক ডাটাবেস অ্যাপ্লিকেশনগুলি ত্রিস্তরীয় স্থাপত্য ক্লায়েন্ট মেশিন শুধুমাত্র ফ্রন্ট এন্ড সরাসরি ডাটাবেস কল',\n 'রিলেশনাল মডেলে ডেটা টেবিলের আকারে উপস্থাপিত',\n 'অবজারভার পদ্ধতি ক্লাস সমূহের সংখ্যা পরিবর্তনের নোটিফাই',\n 'Processing result main memory সরাসরি Printerএ পাঠিয়ে Disk Tapeএর পাঠানো',\n 'নিরাপদ প্রতিসম সাইফারের বড় স্পেস প্রয়োজনীয় পর্যাপ্ত শর্ত',\n 'একমাত্র Trigger তৈরির কাজটি',\n 'স্ক্রিপ্ট কিডি হ্যাকার বুঝায়',\n 'ডাটাবেজ সিকিউরিটি ফিচার দিয়ে ইউজার এ্যাকশন অডিট',\n 'প্রক্রিয়ায় প্রোগ্রামারগণ কমান্ড তৈরি সহজেই সিস্টেমে সংযুক্ত',\n 'উপায়ে সফ্টওয়্যার ডিজাইন প্রতিটি মডিউল প্রয়োজনীয়তার নির্দিষ্ট উপসেটকে সম্বোধন প্রোগ্রামের অন্যান্য অংশ সহজ ইন্টারফেস গঠন স্বাধীনতা গুরুত্বপূর্ণ জিজ্ঞাসা ন্যায়সঙ্গত',\n 'Programএর নির্বাহের শেষ হওয়া Program সম্পন্ন',\n 'সুইচের অন্যান্য হাবের প্রধান পার্থক্য সুইচ সিগন্যাল রিসিভ সরাসরি টার্গেট পোর্ট পোর্টসমূহে প্রেরণ',\n 'স্থাপত্য নকশা সফ্টওয়্যারের প্রধান কাঠামোগত উপাদান স্থাপত্য শৈলী নিদর্শনগুলির সম্পর্ককে সংজ্ঞায়িত সিস্টেমের সংজ্ঞায়িত প্রয়োজনীয়তাগুলি অর্জন স্থাপত্য বাস্তবায়নের উপায়কে প্রভাবিত বাধাগুলি',\n 'Scrum Agile প্রসেস ফ্রেমওয়ার্ক প্রয়োজনীয় Practices সমূহ নির্ধারণ',\n 'ম্যাগনেটিক ডিস্ক Magnetic Disk Storage বহুল ব্যবহৃত দীর্ঘস্থায়ী স্টোরেজ মিডিয়াম',\n 'বরাদ্দকৃত সময় শেষে Running processকে সাময়িকভাবে স্থগিত',\n 'এজন্য সিম্যান্টিক ডাটা মডেলকে মাঝে মাঝে কনসেপচুয়াল ডাটা মডেল Conceptual data modelও',\n 'পাসওয়ার্ডের স্বাদ কিছুটা দেয়',\n 'কম্পিউটার সিস্টেমে অনুমতিবিহীন অ্যাক্সেসের তথ্য প্রযুক্তির সাইবার ক্রাইমসের কম্পিউটারে উপস্থিত ডেটার ক্ষতি মুছে ফেলা পরিবর্তন যায়',\n 'কানেক্টরের অবস্থান ক্যাবল নেটওয়ার্ক ইন্টারফেস কার্ডের NIC Network Interface Card',\n 'প্রতিটি সাইটের কম্পিউটারসমূহ ডাটা আদানপ্রদান লোকালট্যানজ্যাকশন',\n 'বাউন্ডারি ভ্যালু অ্যানালাইসিস হায়ার লোয়ার ইন্ড ভ্যালুগুলো টেস্টে উত্তীর্ণ ইন্ড মধ্যবর্তী সকল ভ্যালুও উত্তীর্ণ',\n 'প্রোগ্রাম শুধুমাত্র Userএর নির্দেশ মেনে',\n 'ইব্যাংকিং ব্যবহারের চেক বই অনুরোধ',\n 'এগুলো একাধিক বর্ণের ফ্রিকুয়েন্সির',\n 'রাউটার ডেটা প্যাকেটের প্রকৃতি ধরন পরিবর্তন সক্ষম',\n 'টেমপ্লেট মেথড সাব ক্লাসে এলগোরিদমের সঠিক ধাপসমূহ পৃথক',\n 'কমান্ড টেক্সটবেজড রেফারেন্স এক সেট ইন্সট্রাকশন যেগুলো সিস্টেম নির্বাহ প্রত্যাশা',\n 'সাধারণত Deadlock detection algorithm দুধরনের',\n 'ডিকশনারি অ্যাটাককে আরেকটু কার্যকরী আরেকটু কঠিন পাসওয়ার্ড ক্র্যাক সাহায্য হাইব্রিড অ্যাটাক',\n 'বাগ সফটওয়্যার Error ফলাফল সিস্টেম Fail হওয়ার',\n 'ডাটাবেস সিস্টেমকে সহজে সুশৃংখলভাবে উপস্থাপনের ER ডায়াগ্রামের গুরুত্ব অপরিসীম',\n 'এরূপ ডিভাইসের অন্যতম রাউটার ব্রাউটার সিএসইউডিএসইউ গেটওয়ে',\n 'স্টার টপোলজি কারণে ব্যর্থ পুরো নেটওয়ার্ক ব্যবস্থা ভেঙে পড়বে',\n 'মডেলিং একজন ল্যান্ডস্কেপার একজন ব্রিজ নির্মাতা একজন অ্যারোনটিক্যাল ইঞ্জিনিয়ার একজন ছুতার একজন স্থপতি প্রতিদিন মডেলদের',\n 'ক্রিপ্টোগ্রাফিক আদিম অর্জন পাবলিককী ক্রিপ্টোগ্রাফি প্রয়োগ',\n 'কারণে সংঘর্ষ এড়ায় আংশিক প্যাকেট ওভারল্যাপ',\n 'এটিতে Level of block আকারে disk striping array ব্যবহৃত',\n 'আজকের ব্লক সাইফার প্রোডাক্ট সাইফার রাউন্ড গঠিত ডেটাতে বারবার প্রয়োগ',\n 'ছয়টি নীতি প্রয়োগ তীব্র চিন্তার প্রয়োজন সম্ভাব্য পুরষ্কারগুলি প্রচুর',\n 'Program নির্বাহের শেষ হওয়া program সম্পন্ন',\n 'ডাটা পরিবর্তনের সময় নির্ধারিত সময়সীমার মাঝে স্নাপশট পরিবর্তনগুলো দীর্ঘ সময়ের সংগৃহীত নিয়ার সিডিপি ব্যবহৃত',\n 'টেলিযোগাযোগ উন্নয়ন খাত ITUD প্রযুক্তিগত সহায়তা প্রদান উন্নয়নশীল দেশগুলির',\n 'টুইস্টেড পেয়ার ক্যাবল সাধারণত টেলিফোন লাইন',\n 'সফটওয়্যার মডেলের নিজস্ব টুলস মেথড প্রসিডিওর যেগুলো সফটওয়্যার ডেভেলপমেন্ট জীবনচক্র সঠিকভাবে নির্ধারণ',\n 'কোএক্সিয়াল লাইনে বাতাস গ্যাস স্পেসার শিল্ডকে ইনার কন্ডাক্টর স্পর্শ হাত মুক্ত',\n 'নেটওয়ার্ক সুরক্ষিত সম্ভাব্য হুমকিগুলো নেটওয়ার্কে প্রবেশ নেটওয়ার্কের বাহির ব্লক হয়ে যায়',\n 'এনটিটি এনটিটির এট্রিবিউটসমূহ রিলেশনশিপ রিলেশনশিপ সেট সম্পর্ক স্থাপন নিয়ম নীতিগুলো বর্নিত',\n 'ডাটাবেজ ম্যানেজমেন্ট সিস্টেমের Relational Database Redundancy Dependency Minimize Field Tableসমূহকে সুসংগঠিত পদ্ধতি ব্যবহৃত Normalization',\n 'তারপরও নেটওয়ার্ক এডমিনিস্ট্রেটরকে এসকল অ্যাড্রেস সম্পর্কে স্বচ্ছ ধারণা রাখতে',\n 'কাপলিং সফ্টওয়্যার কাঠামোর মডিউলগুলির আন্তঃসংযোগের ইঙ্গিত',\n 'ডিলেট হওয়া ফাইল রিকভারি নির্ভর ডাটার ফাইল সিস্টেমের',\n 'তারপরও প্রব্লেম ছাড়া ফাইবার',\n 'রেডিও কমিউনিকেশন ততোধিক অংশের সিম্বল সিগনাল ইন্টেলিজেন্সের Intelligence আদানপ্রদান ট্রান্সমিশনের মাধ্যম হিসেবে ইলেকট্রোম্যাগনেটিক ওয়েভকে',\n 'উদাহরণস্বরূপ অপারেটিং সিস্টেমের প্রয়োজন এক্সিকিউটেবল ফাইলের নির্দিষ্ট কাঠামো নির্ধারণ ফাইলটি মেমরিতে কোথায় লোড নির্দেশের অবস্থান',\n 'Database ব্যবহারিক উদ্দেশ্য নির্ণয়করণ কাজটি ভালভাবে পারলে অন্যান্য ধাপের কাজগুলো সহজ সঠিকভাবে সম্পন্ন',\n 'টেবিলে ধরনের রো প্রবেশের অনুমতি অনুমোদন Entity Integrity',\n 'উক্ত কারণগুলোর যেকোনো সংঘটিত সিপিইউ পরবর্তী প্রাধান্যের জব এসাইন',\n 'পার্সোনাল কম্পিউটার পিসি অপারেটিং সিস্টেম জটিল গেম ব্যবসায়িক অ্যাপ্লিকেশন সবকিছুকে সমর্থন',\n 'বাস টপোলজির সুবিধা কম্পিউটার অকেজো সংযোগচ্যুত অন্যান্য কম্পিউটারগুলো স্বাভাবিকভাবে চালিয়ে',\n 'ডাটাবেসের ডাটাকে ইনক্রিপ্ট পদ্ধতি প্রচলিত',\n 'একজন হ্যাকারের সিস্টেমটির নিরাপত্তা ভেদ মূল সিস্টেমে প্রবেশ সিস্টেমের নিয়ন্ত্রণ গ্রহণ',\n 'ধরনের Database system সাধারণত SQL database language ব্যবহৃত',\n 'Critical section problemএর যেকোনো সমাধানের পূর্বশর্ত রয়েছে',\n 'Android অপারেটিং সিস্টেমটি Open handset alliance ডিজাইন করেছিল অগ্রভাগে Google',\n 'Drop Authorization সাহায্যে একজন ইউজারকে ডাটাবেসের রিলেশন ডিলিট কর্তৃক দেয়া',\n 'সংশোধনমূলক রক্ষনাবেক্ষন ধরনের রক্ষনাবেক্ষণের সমস্যা চিহ্নিত করণ সংশোধন আপডেট',\n 'ধরনের নন রাউট্যাবল প্রোটোকলের সিগন্যালকে এক সেগমেন্ট সেগমেন্টে পাঠাতে ব্রিজ ব্যবহৃত',\n 'প্রোগ্রামগুলিতে প্রোগ্রামগুলির ব্যবহারকারীদের নির্দিষ্ট পরিষেবা সরবরাহ',\n 'ক্র্যাকারদের শ্রেণিতে অগ যায়',\n 'ত্রুটি পড়ে সিস্টেমের নির্ণয় ত্রুটি হ্যান্ডলিং সরল বোধগম্য পদ্ধতি প্রস্তাব দরকার',\n 'Computer hardware Computer userএর সমন্বয় Interface তৈরি Operating system OSএর প্রধান',\n 'সিগন্যাল ফ্রিকুয়েন্সির সর্বোচ্চ সর্বনিম্ন মানের মধ্যকার পার্থক্যকে Bandwidth',\n 'রিপিটার হাব নেটওয়ার্ক অ্যাড্রেস ডেটা প্যাকেটের জটিল বিষয়গুলো অনুধাবন সক্ষম',\n 'ব্যবহারকারী ডাটাবেসকে',\n 'লক্ষ্যটি সম্পন্ন বুটস্ট্র্যাপ প্রোগ্রামটিকে অবশ্যই অপারেটিংসিস্টেম কার্নেল সনাক্ত মেমরিতে লোড করুন',\n 'সফটওয়্যার ডিজাইন ধাপে ইউজার প্রদত্ত তথ্য অন্যান্য সংগৃহীত অন্যান্য তথ্যাদি ইনপুট হিসেবে গৃহীত',\n 'যেকোন Apps দুর্বল বানানোর attack',\n 'সিম্যান্টেক ডাট্যমডেল মূলত অ্যাবস্ট্রাক্ট জমাকৃত সিম্বল ডাটাকে রিয়াল ওয়ার্ল্ড Real worldএর সম্পর্ক তৈরিতে ডিফাইন সাহায্য উপস্থাপন',\n 'সবচেয়ে কম ট্রান্সমিশন মিডিয়াম টুইস্টেড পেয়ার',\n 'সফটওয়্যারের কম্পোনেন্টসমূহ কম্পোনেন্ট সমূহের অপরের ইন্টারফেসিং বিষয়টি নির্ধারণ',\n 'স্পাইওয়্যার এক ধরনের সফটওয়্যার ইউজারের অজান্তেই কম্পিউটারে ডাউনলোড হয়ে ইন্সটেল ইউজারের কম্পিউটারে ধরনের তথ্য চুরি পাচার',\n 'স্পীড মূল্য দিক ক্যাশ মেমোরি মেইন মেমোরির অবস্থান',\n 'সচরাচর ব্যবহৃত ছোট কাজের Response Modest হওয়া কম ব্যবহৃত গুরুত্বপূর্ণ কাজগুলোর Responsible হওয়া',\n 'মেইন মেমরি ভোলাটাইল স্টোরেজ ডিভাইস হওয়া বিদ্যুৎ কন্টেন্ট মুছে যায়',\n 'Skywave propagation পদ্ধতিতে মেগাহার্টজের বেশী মেগাহার্টজের কম মেগাহার্টজের ধরনের signal পদ্ধতি ব্যাবহার',\n 'Processor Hardware device instructionসমূহকে পর্যায়ক্রমে সম্পাদন execution সামর্থ্য যোগ্যতা রাখে',\n 'ব্লকের ডিল সময় গুরুত্বপূর্ণ সম্পত্তি সাইফার',\n 'সার্ভার ডাটাবেস রান ক্লায়েন্টের ডাটার রিকুয়েস্ট সাড়া প্রদান',\n 'ডিসজয়েন্ট জেনারালাইজেশনকে উপস্থাপন সিম্বলটি',\n 'সফ্টওয়্যার ইঞ্জিনিয়ারিং সরঞ্জামগুলি প্রক্রিয়া পদ্ধতিগুলির স্বয়ংক্রিয় আধাস্বয়ংক্রিয় সহায়তা প্রদান',\n 'প্রটোকল ডাটা ফ্রেমের ত্রুটি নির্ণয়ক বিট প্রেরক প্রাপকের ঠিকানা সংযুক্ত',\n 'কৃত্রিম বুদ্ধিমত্তা সফ্টওয়্যার নিয়মিত গণনা সহজবোধ্য বিশ্লেষণের উপযুক্ত জটিল সমস্যা সমাধানের হিউরিস্টিকস এলাকার অ্যাপ্লিকেশনগুলির রোবোটিক্স সিদ্ধান্ত সিস্টেম প্যাটার্ন রিক অগ্নিশন ছবি ভয়েস মেশিন লার্নিং উপপাদ্য প্রমাণ গেম খেলা',\n 'কমান্ডলাইন ইন্টারফেসগুলি সাধারণত পুনরাবৃত্তিমূলক কাজগুলিকে সহজ তোলে নিজস্ব প্রোগ্রামযোগ্যতা',\n 'অপারেটিং সিস্টেমের ইন্টারফেস দ্বিতীয় কৌশল ব্যবহারকারীবান্ধব গ্রাফের',\n 'ভাইরাস VIRUS শব্দের পূর্ণরূপ Vital Information Resources Vnder Seize অর্থ জরুরী তথ্যের উৎসগুলো বাজেয়াপ্ত হয়েছে',\n 'ডাটাবেসের রেকর্ড টেবিল মুছে ফেলার Delete কমান্ডটি ব্যবহৃত',\n 'কমান্ড নির্বাহের ফলাফল পর্দায় দেখানো',\n 'ফাইলের বৈশিষ্ট্যগুলি অপারেটিং সিস্টেম অন্যটিতে পরিবর্তিত',\n 'ব্যক্তিগত সনাক্তকরণ তথ্যের সুরক্ষার আপনাকে সচেতন থাকতে',\n 'সাইনওয়েভের প্যারামিটার',\n 'অ্যামপ্লিচিউড মডুলেশনের অ্যামপ্লিচিউড মডুলেটেড ওয়েভের ফ্রিকুয়েন্সি অর্থাৎ ক্যারিয়ার ফ্রিকুয়েন্সি fcএর সমান',\n 'ডিভাইস কন্ট্রোলার লোকাল বাফার স্টোরেজ একসেট স্পেশাল পারপাস রেজিস্টারকে মেইনটেইন',\n 'সমাধানের উপাদানগুলি পুনরায় ব্যবহারযোগ্য',\n 'ফাইবার অপটিক ক্যাবলে ধরনের ক্যাবলিং Cost Requirement cost বর্তমানে দাম কমে আসছে',\n 'ER EntityRelationship এন্টারপ্রাইজ স্কীমা সুনির্দিষ্ট কনস্ট্রেইন্টকে ডিফাইন অবশ্যই ডাটাবেস কন্টেন্টের অনুরূপ',\n 'ডাটালস প্রতিহত সবচেয়ে ভাল উপায় ডাটা ব্যাকআপ',\n 'ডাটাবেস সিস্টেমে ডাটাবেসকে সার্ভার কম্পিউটারের মেমোরিতে সংরক্ষিত নেটওয়ার্কিং সহায়তা একাধিক ক্লায়েন্টের পরিচালনা নিয়ন্ত্রণ যায় সার্ভার ডাটাবেস সিস্টেম',\n 'সিস্টেমে ব্যবহৃত কম্পিউটারগুলো কমিউনিকেশন মিডিয়া ইন্টারনেট কর্পোরেট ইন্ট্রানেট এক্সট্রানেট কোম্পানীর প্রাইভেট নেটওয়ার্ক টেলিফোন লাইনএর সাহায্যে একটির অপরটি সংযুক্ত',\n 'আলোকে কোরের নির্দিষ্ট অ্যাঙ্গেলে নিক্ষেপ',\n 'আক্রান্ত কম্পিউটার আরেকটি কম্পিউটারে কপি কম্পিউটারকেও আক্রান্ত ফাইল নামের ফোল্ডার তৈরি সিস্টেমকে স্লো ফেলে',\n 'সিস্টেম কম্পিউটার নেটওয়ার্কের দুর্বলতা খুজে বের সেটির নিরাপত ভাংগাই হ্যাকারদের',\n 'টিসিপি আইপির পোর্ট এড্রেস আইপি এড্রেস একত্রিত হয়ে গঠন সকেট',\n 'এক্ষেত্রে দুইটি মডিউল অপরের ডাটা পাসিং প্যারামিটার আন্তক্রিয়া সম্পাদন',\n 'তরঙ্গ দৈর্ঘ্য Wave Length সিগন্যাল পিরিয়ডে দূরত্ব অতিক্রম তরঙ্গ দৈর্ঘ্য The Wave length is the distance a simple signal can travel in one period তরঙ্গ দৈর্ঘ্য সিগন্যালের বৈশিষ্ট্য ফ্রিকুয়েন্সি মাধ্যমের নির্ভরশীল',\n 'ওয়্যারলেস মিডিয়া মানে তারবিহীন মাধ্যম',\n 'এছাড়াও যৌন উত্তেজনা সৃষ্টিকারী অশ্লীল বই সাময়িকী ভাস্কর্য কল্পমূর্তি মূর্তি কার্টুন লিফলেটও পর্নোগ্রাফি',\n 'প্রচেষ্টা সাধারণত আবর্জনা উত্পাদন সফল অপারেটিং সিস্টেম ফাইলটি বাইনারিঅবজেক্ট প্রোগ্রাম',\n 'সফটওয়্যার ডেভেলপমেন্ট লাইফ সাইকেল SDLC সফটওয়্যার প্রোডাক্ট ডেভেলপ পর্যায়ক্রমিক গাঠনিক ধাপের সমন্বয়',\n 'Site communication সময় অনুবাদক Program দরকার',\n 'মোডে ট্রান্সমিট কারণে সিঙ্গেল মোড স্টেপ ইনডেক্স ফাইবারের সুবিধা Low intermodal dispersion একাধিক প্রোপাগেটিং মোডগুলোর গ্রুপ ভেলোসিটি বিভিন্নতার কারণে মাল্টিমোড স্টেপ ইনডেক্স ফাইবারের উল্লেখযোগ্য dispersion থাকতে',\n 'এমনভাবে ট্রানসমিটার রিসিভারকে সেট ডাটা সোজাসুজি ট্রান্সমিট',\n 'Multiplexer অ্যানালগ মডিউলেট সিগন্যালগুলোকে Multiplexing Composite Baseband সিগন্যাল mbt উৎপন্ন',\n 'Requset পায় গ্রহণ উভয়ের সংযোগ তৈরি প্রয়োজনীয় সার্ভিস প্রদান',\n 'Symmetric মোডে ততোধিক অ্যাপ্লিকেশন রান অপরকে মনিটর',\n 'তথ্য নিরাপত্তার উপশ্রেণীর স্থানটি নিরাপদ নিশ্চিত ফিজিক্যাল পরিবেশের সুরক্ষা',\n 'সুন্দর স্ট্রাকচার ডিজাইন অনেকগুলো মডিউলের যোগাযোগ রক্ষা নিয়ম নীতি মেনে',\n 'বেশিরভাগ কম্পিউটার নিরাপত্তা কার্যকলাপ দূষিত মানব সৃষ্ট ক্ষতির সম্পর্কিত',\n 'রাখবেন উভয় স্থানান্তর বৃদ্ধি পায় DES নিরাপত্তা সময়ে',\n 'CREATE TABLE কমান্ডে Column definition ক্লজ a single clause রয়েছে প্রত্যেক কলামে প্যারামিটার রয়েছে কমা পৃথক',\n 'সফটওয়্যারের উপাদান সমূহ যুক্ত প্রতিষ্ঠান ইন্ড ইউজারের কার্যপ্রবাহকে সফটওয়্যারের প্রয়োগ',\n 'ফরেনসিক শব্দটির অর্থ অপরাধীদের খোজার তদন্তকারীদের ব্যবহৃত কৌশল বুঝায়',\n 'ফাস্ট ক্লাস হাই অর্ডার ফাংশন গুলো ফাংশনকে আর্গুমেন্ট গ্রহণ ফলাফল ফাংশনও রিটার্ন',\n 'ক্লায়েন্টসার্ভার নেটওয়ার্কে গুরুত্বপূর্ণ তথ্য ফাইলগুলো কয়েকটি সার্ভারে কেন্দ্রীভূত সহজেই এগুলো নিয়মিত ব্যাক আপ যায়',\n 'অ্যাজাইল সফটওয়্যার ডেভেলপমেন্ট মডেলে প্রথমে কাজকে ছোট ছোট অংশে ভাগ',\n 'বিমূর্ততা একজন ব্যক্তিকে জেনেই জটিল ডিভাইস সিস্টেম কীভাবে ডিভাইস সিস্টেমটি তৈরি বিশদ বিবরণ',\n 'মূল ডেটাকে গোপন পদ্ধতিকে এনক্রিপশন',\n 'কেবলমাত্র প্রয়োজনীয় সিগন্যাল রিসিভ নিশ্চয়তা প্রদান করেতারপর রিসিভার সিগন্যালকে ডিমডুলেট',\n 'টুইস্টেড পেয়ার ক্যাবল এক পেয়ারের চেয়ে পেয়ারকে একত্রে আঁটি ক্যাবল আকৃতিতে আনা যায়',\n 'নিরাপত্তা নীতি সংগ্রহশীল দলের নিরাপত্তা প্রয়োজনাগুলি অগ্রাধিকারগুলি নথী',\n 'হারিয়ে তথ্য পুনরুদ্ধারের যেমনঃ পাসওয়ার্ড হারিয়ে সেক্ষেত্রে হ্যাকিং প্রয়োজনীয়',\n 'Data splitting Applicationকে ভাগ ব্যবহৃত Dataসমূহকেও ভাগ আলাদা Coresএর run',\n 'এক্ষেত্রে সাইট পাবলিক নেটওয়ার্কের পরস্পরের সংযুক্ত',\n 'সিনক্রোনাস অপটিক্যাল নেটওয়ার্ক SONET WDM প্রয়োগ',\n 'টেকনোলজির উন্নতির প্রোগ্রামার ডিজাইনারগণ জটিল GUI ডিজাইন',\n 'পারমাণবিক সম্পত্তি নিশ্চিত চাই ব্যর্থ লেনদেন অবশ্যই ডাটাবেসের অবস্থার প্রভাব ফেলবে',\n 'বর্তমানে সকল অপারেটিং সিস্টেম ডিলিট হয়ে যেকোনো ফাইল স্থায়ীভাবে ডিলিট পুনরায় ব্যবহারকারীর নিশ্চিত করণের মেসেজ প্রদান ব্যবহারকারী ফাইল ডিলেট নিশ্চিত',\n 'কন্ট্রোলার ডিভাইস লোকাল বাফারে ডাটা ট্রান্সফার',\n 'সময় টেলিফোন কমিউনিকেশন Telephone Communication ইলেকট্রিক সিগন্যাল পাঠানোর একমাত্র মাধ্যম ধাতব মিডিয়া Metallic Media ধাতব মিডিয়ার কোয়ালিটি অত্যন্ত Poor লাইন Noisy পরিপূর্ণ প্রযুক্তি Technology অনভিজ্ঞতাসাহজিক',\n 'অন্যরা Windows UNIX কমান্ড ইন্টারপ্রেটারকে প্রোগ্রাম বিবেচনা যেটি চলছে একজন ব্যবহারকারী লগ ইন ইন্টারেক্টিভ অন সিস্টেম',\n 'কম্পিউটারে ডাটাবেস পরিচালিত ডাটাবেস সিস্টেমকে সেন্ট্রালাইজড সিস্টেম',\n 'ডাটা ইন্টিগ্রিটিকে তিন ভাগে ভাগ যায়',\n 'Traffic controller সাহায্য Scheduler processor processএর allocate',\n 'ফাইলের তথ্য ডাইরেক্টরি স্ট্রাকচারে এছাড়াও সেকেন্ডারি স্টোরেজে',\n 'কোম্পানিগুলো ইন্টারনাল সার্ভারসমূহে ওয়েভ অ্যাকসেসেবিলিটির পোর্টাল স্থাপন',\n 'ধরনের ডাটাবেস প্রায়ই ফলাফল প্রশ্ন লেনদেন ডাটাবেসের সীমানা অতিক্রম অনুমতি বিদ্যমান ডাটাবেসের একীকরণ',\n 'ইনফ্রারেড কমিউনিকেশনের এক কিলোমিটারের কম দূরত্বে Data transmit যায়',\n 'তথ্য নিরাপত্তা ব্যাক্তির পরিচয় চুরি Identity therat রক্ষা লক্ষ্যেও ব্যবহৃত',\n 'এক্ষেত্রে Encryption নিরাপত্তা পর্যাপ্তভাবে যায়নি',\n 'বিমূর্ততা সফ্টওয়্যারটি তৈরি পদ্ধতিগত তথ্যমূলক সত্তাগুলিকে সংজ্ঞায়িত সহায়তা',\n 'ডাটা পাঠাতে স্টোরেজের প্রয়োজন',\n 'প্রত্যেকটি সেগমেন্ট স্বতন্ত্র আলাদা লিনিয়ার মেমরি প্রত্যেকটি সেগমেন্ট আলাদা আকার',\n 'কাজেই রিপিটারের ব্যবস্থা',\n 'একাধিক সাইটের নির্বাচন কেবলমাত্র পাসওয়ার্ড হ্যাকারের অনেকেটাই কমিয়ে দেয়',\n 'Protection system callsএর রিসোর্সের ফাইল disk Permission set get',\n 'এগুলি ক্রিপ্টো অ্যালগরিদম দীর্ঘকাল ক্রিপ্টো বিশ্লেষণ সহ্য বেশিরভাগ দশক',\n 'উদাহরণস্বরূপ যায় Linux Solaris উভয়ই Performance পাওয়ার Single address space',\n 'নেটওয়ার্কের প্রিন্টার ইন্টারনেট কানেকশন হার্ডডিস্কস্পেস প্রভৃতির মত দামি রিসোর্স শেয়ার সম্ভব',\n 'রিকয়্যারমেন্ট ইঞ্জিনিয়ারিং লক্ষ্য সুন্দর সিস্টেমের সফটওয়্যার ডেভেলপ রিকয়্যারমেন্ট সমূহের প্রয়োজন সেগুলো বর্ণনা স্পেসিফিকেশন নথি Document তৈরি রক্ষণাবেক্ষণ',\n 'ভাইরাস এক ধরনের ক্ষতিকারক প্রোগ্রাম',\n 'স্টার টপোলজির কেন্দ্রীয় কম্পিউটার সার্বক্ষণিক সচল থাকতে',\n 'লোকেরা আইটি সিস্টেমটি ভাঙ্গতে ইতিমধ্যেই ভাঙছে নিয়ম এইভাবে অন্যায্য',\n 'Database Administrator ডাটাবেস স্কীমা ফিজিক্যাল স্টোরেজ অর্গানাইজেশন বর্ণনার একসেট ডেফিনিশন লিখে তাদেরকে মডিফাই ডিডি কম্পাইলার ডাটা স্টোরেজ DDL কম্পাইলার ব্যবহৃত',\n 'একটা উপযোগী পদ্ধতিতে অডিও সিগন্যালটি ক্যারিয়ার ওয়েভের সুপারইমপোজ',\n 'লেজার ডায়োডকে এলইডির পছন্দ সুসংগত আলো উৎপন্ন উচ্চ আউটপুট শক্তি',\n 'ইনফরমেশন সিকিউরিটির তিনটি নিরাপত্তা লক্ষ্য তথ্যসম্পদ সততা গোপনীয়তা প্রাপ্যতা নিশ্চিত',\n 'হার্ডওয়্যার উপাদান পরিধান অতিরিক্ত অংশ প্রতিস্থাপিত',\n 'ভিওআইপি প্রটোকল ইন্টারনেটের মধ্য দিয়ে ভয়েস প্রেরণের',\n 'ডেটাসার্ভার সিস্টেমগুলি মূলত অবজেক্ট ওরিয়েন্টেড ডেটাবেস ডেটা অ্যাক্সেস সমর্থন তৈরি অবজেক্টওরিয়েন্টেড ডাটাবেস প্রোগ্রামারদের প্রোগ্রামিং ভাষা অনুমতি ক্রমাগত অবজেক্ট তৈরি পুনরুদ্ধার আপডেট অনুমতি',\n 'এতেও ডাটা লেখা পুনরায় লেখা Rewrite সম্ভব',\n 'GUI ডেভেলপমেন্টের পরীক্ষন ধাপে প্রতিষ্ঠান কর্তৃক ইন হাউস ইন্সপেকশন ইউজারকে সরাসরি যুক্ত Beta ভার্সন প্রদর্শন বিষয়ে পরীক্ষা যায়',\n 'সাইবার Cyber শব্দের অর্থ অনলাইন জগত',\n 'আজকাল নিরাপদ নির্ধারিত আক্রমণকারীর বিরুদ্ধে DES স্থানটি ছোট লিগ্যাসি অ্যাপ্লিকেশনে ব্যবহৃত',\n 'স্ট্রাকচার ডিজাইনে সলিউশন ডিজাইন প্রাধান্য',\n 'আইবিএমএর টোকেন রিং নেটওয়ার্কের লজিক্যাল টপোলজি রিং ফিজিক্যাল টপোলজি স্টার',\n 'ডিজাইনের প্রয়োজনীয়তা মডেলের সুস্পষ্ট প্রয়োজনীয়তাগুলি বাস্তবায়ন স্টেকহোল্ডারদের কাঙ্খিত অন্তর্নিহিত প্রয়োজনীয়তাগুলিকে মিটমাট',\n 'প্রতিষ্ঠানের কোডিং গাইডলাইনের কোডিং উপাদানসমূহ নির্ধারণ',\n 'সফটওয়্যার ভেলিডেশন ইউজারের প্রয়োজনীয়তার গুরুত্ব দেয়',\n 'শ্রেণির ডাটাবেস ইউজার রয়েছে',\n 'অনলাইন নিরাপত্তা মূলত সচেতনতা উপায় ব্যক্তিগত কম্পিউটার ধরনের ডিজিটাল ডিভাইস কম্পিউটার সিস্টেম ইত্যাদিকে হ্যাকিং ধরনের আক্রমণ নিরাপদ',\n 'সাইবার বুলিং সামাজিক অর্থে অনলাইন জগতে দুজনএকাধিক ব্যক্তির তর্ক কথা কাটাকাটি দোষারপ খারাপ ভাষায় আক্রমন বুঝায়',\n 'প্রোগ্রাম সুষ্ঠুভাবে পরিচালনার অপারেটিং সিস্টেম পরিবেশ সৃষ্টি',\n 'প্রয়োজনীয় ডকুমেন্টেশন সফটওয়্যার ডিজাইনার ডেভেলপার টেস্ট টিম নিকট নিজ নিজ কার্যাদির key টুল',\n 'যাইহোক আধুনিক সফটওয়্যার ইঞ্জিনিয়ারিং প্রক্রিয়া কর্মতত্পর',\n 'অধ্যায়ে সংক্ষিপ্তভাবে ডাটাবেস সিস্টেমের নীতিগুলি উপস্থাপন',\n 'সফটওয়্যার বিকাশের ধাপসমূহ সফটওয়্যার প্রোডাক্ট তৈরির প্রয়োজনীয় তথ্য সংগ্রহ ডেভেলপার কর্তৃক প্রোটোটাইপ তৈরি ImpactAnalysis',\n 'ডাটাবেসের ডিজাইন কাঠামোকে ডাটাবেস স্কীমা DDL Data Definition Languageএর সাহায্যে স্বীমাকে ডিজাইন বর্ণনা',\n 'নিম্নগতির Device Dataকে Magnetic disk Tapeএ জমা Main memoryতে নির্বাহ একইভাবে ফলাফল Outputএ প্রদানের যায় গতিতে Disk Tape ডাটাকে Main memoryতে জমা গতিতে CPU মেইন মেমরি ডাটা প্রোগ্রাম নির্বাহ Disk Tapeএর Outputএ ফলাফল প্রদান',\n 'ডেটা নেটওয়ার্কে প্যাকেট আকারে চলাচল',\n 'প্রকার ট্রান্সমিশনের সবচেয়ে বড় সমস্যা সিগন্যাল অধিক তাপমাত্রা ভূপৃষ্টের সিগন্যালের টান্সমিশনে ব্যাঘাত সৃষ্টি',\n 'সেক্ষেত্রে আইপি কেবল আইএসপি নাম ঠিকানা পাওয়া যায়',\n 'অ্যাট্রিবিউটের মান তাকেও নাল অ্যাট্রিবিউট',\n 'GUI হার্ডওয়্যার সফটওয়্যার সমন্বয়ে',\n 'অ্যাপ্লিকেশনগুলির আর্কিটেকচারকে বিবেচনা ব্যাকএন্ড ডেটাবেস',\n 'টুকরা প্রতিটি ভালবিন্যস্ত অংশ সিস্টেম সাবধানে সংজ্ঞায়িত ইনপুট আউটপুট ফাংশন',\n 'ভবিষ্যতে হাইডেফিনেশন এইচডি ভিডিও ডাউনলোড ব্যবস্থা জানিয়েছে',\n 'ভাইরাস ছড়ানো স্প্যামিং কর্মকাণ্ডকে প্রতিহত',\n 'সফটওয়্যার আর্কিটেকচারের গুরুত্বপূর্ণ ভূমিকা সঠিক লক্ষ্যগুলি বোঝার সহজতা ভবিষ্যতের পরিবর্তনের নির্ভরশীলতা পুনঃব্যবহারের গুরুত্ব বৃদ্ধি',\n 'অবজেক্ট অরিয়েন্টেড ডিজাইন সফটওয়্যার সিস্টেমে ব্যবহৃত ফাংশন সমূহের পরিবর্তে এনটিটি সমূহ বৈশিষ্ট্য গুলোর',\n 'বিতরণ ডাটাবেসগুলি ডেটা সঞ্চয়ের অনুমতি একাধিক ভৌগলিকভাবে পৃথক মেশিন জুড়ে অনুসন্ধান প্রক্রিয়াকরণ',\n 'কম্পিউটার নিরাপত্তায় অপরাধ ঠেকাতে সাধারণত কম্পিউটার নেটওয়ার্ক অন্যান্য ডিভাইসগুলোর এক্সেস ব্যবহারে যথাযথ নিয়ন্ত্রণই কম্পিউটারের ফরেনসিক',\n 'প্রথমত শেয়ার্ডডিস্ক সিস্টেম শেয়ার্ডমেমরি সিস্টেমের সংখ্যক প্রসেসরে স্কেল',\n 'অপটিক্যাল ফাইবার ক্যাবল সমতুল্য তামার তারের তুলনায়এর ডাটা প্রবাহের হার',\n 'স্টোরেজ ম্যানেজার মিথস্ক্রিয়া দায়ী ফাইল ম্যানেজারের',\n 'ক্লায়েন্টসার্ভার নেটওয়ার্ক ব্যবহারকারীর নেটওয়ার্ক এডমিনিস্ট্রেশন প্রয়োজন পড়ে',\n 'সময় সিস্টেমেও ঢুকে তথ্য চুরি বেরিয়ে আসে',\n 'লাইন অব সাইট প্রোপাগেশন পদ্ধতিতে মেগাহার্টজের হার্টজের সিগন্যাল ব্যাবহার প্রকার ট্রান্সমিশন উভয় অ্যান্টেনা অবশ্যই অন্যের দৃশ্যমান কার্যকর দৃষ্টি সীমার থাকতে',\n 'নেমড পাইপে যোগাযোগ bidirectional Parentchild সম্পর্কে প্রয়োজন',\n 'ব্যর্থতায় তথ্য হারিয়ে',\n 'স্ট্রাকচারের ট্রিটমেন্ট ডাটা value গুলো Present child রিলেশনশিপের মধ্য দিয়ে লিড',\n 'ডিসিশন টেবিল ধরনের শ্রেণীভুক্ত তথ্য একক টেবিলে সংরক্ষণ সবশেষে টেবিল সমূহ যুক্ত সহজ উপযোগী সিদ্ধান্ত গ্রহণে সাহায্য',\n 'ফিজিক্যাল স্কীমা ডাটা অ্যাবস্ট্রাকশনের ফিজিক্যাল লেভেলের ডাটাবেস ডিজাইনকে বর্ণনা',\n 'সকল তথ্য নিরাপদ প্রয়োজন নিরাপদ প্রক্রিয়াকেই তথ্য নিরাপত্তা',\n 'ইন্টারনেট ওয়ার্কের সম্ভাব্য রুট খুঁজে বের রাউটার সর্বদা রুট ডিসকোভারি অ্যালগোরিদম Route Discovery Algorithm',\n 'শেয়ারড রিসোর্স অ্যাকসেস কম্পিউটেশন স্পিড ফাংশনালিটি ডাটা আাভেইলেবিলিটি বৃদ্ধি',\n 'সাধারণত পাওয়ার অকৃতকার্য Power Failure মেইন মেমোরির ডাটা হারিয়ে যায়',\n 'FTK শক্ত ডাটা কারভিং ইঞ্জিন ব্যবস্থা রয়েছে',\n 'সিস্টেমসমূহ সুইচড যোগাযোগ নেটওয়ার্ক সংযুক্ত কোনক্রমেই প্রত্যক্ষ প্রটোকল যায়',\n 'ইউজার কর্তৃক সংগৃহীত উপকরণসমূহ সিস্টেম স্পেসিফিকেশন অনুযায়ী তৈরিকৃত সফটওয়্যার মূল্যায়ন প্রক্রিয়াকে সফটওয়্যার টেস্টিং',\n 'সাধারণত অপারেটিং সিস্টেম ম্যানেজ',\n 'অপারেটিং সিস্টেম আলোচনা সময় প্রশ্ন উত্থাপিত কল CPU কার্যক্রম',\n 'চ্যানেল বিভাগে শ্রেণীবদ্ধ বেতার',\n 'প্রতিটি ইনপুট ইউনিটের আউটপুট ইউনিট আউটপুট টাইন স্লট',\n 'প্লেজিয়ারিজম',\n 'একজন ইন্টারনেট ব্যবহারকারী সকল অনলাইন সমস্যার সম্মুখীন সেগুলোর অন্যতম ব্যবহারকারীর গুরুত্বপূর্ণ অ্যাকাউন্ট আইডি হ্যাক হওয়া',\n 'একাধিক ব্যবহারকারী একাধিক সময়ে চলমান সম্পদ প্রত্যেকের বরাদ্দ আবশ্যক',\n 'বিশ্বের ইতিহাসের সবচেয়ে বড় মিলিটারি কম্পিউটার হ্যাকের জড়িয়ে গ্যারি ম্যাককিনন',\n 'সালে EF Codd NF সংজ্ঞায়িত',\n 'কাজেই সংক্ষেপে অপারেটিং সিস্টেমের প্রয়োজনীয় Requirements নির্দিষ্ট সমস্যার একক সমাধান বড় সিস্টেমের Requirements ভিন্ন সমাধানও সম্পূর্ণ',\n 'কতকগুলো বেসিক অবজেক্ট পারষ্পরিক সম্পর্ক ডাটা মডেলের গ্রাফিক্যালি উপস্থাপন ER মডেল এনটিটি রিলেশনশিপ মডেল',\n 'দ্রুত ডিজাইনটি প্রোটোটাইপের নির্মাণে পরিচালিত',\n 'ব্যবহারকারীর ক্লায়েন্ট সার্ভার সাংহ্যিকতা সরাসরি লিঙ্ক সহজ মোড়ানোর সম্ভাবনা বাদ সহজ',\n 'সালের মাঝামাঝি সময়ে Carnegie Mellon Universityএর গবেষকগণ অপারেটিং সিস্টেম develop নাম Mach',\n 'নেটওয়ার্কের প্রতিটি কম্পিউটারের নির্দিষ্ট আইডেন্টি অ্যাক্সেসকে আইপি অ্যাড্রেস',\n 'কপার ফাইবার স্পিড কমে যায়',\n 'মাইকেল ফেন্স ইন্টারনেট দুনিয়ার মাফিয়া বয় হিসেবেই পরিচিতি',\n 'শহর অঞ্চল গ্রাম অঞ্চলেও পৌছে ইন্টারনেট সেবা',\n 'উভয় ধরনের নেটওয়ার্ক সেগমেন্টই ডেটা প্যাকেট স্ট্রাকচার',\n 'রিপিটার স্টেশনগুলোতেও অ্যান্টেনা দেয়া পরস্পররের পয়েন্টিং',\n 'Protocol Attack ইন্টারনেট প্রোটোকল ভিত্তি ছোট খাটো ত্রুটি রয়ে যায়',\n 'SQL উপরোক্ত অথরাইজেশনসমূহের Select insert update delete নামক প্রিভিলেজসমূহ ব্যবহৃত',\n 'সাইফারগুলি শুধুমাত্র বিভ্রান্তি সঞ্চালন শিফট সাইফার দ্বিতীয় বিশ্বযুদ্ধের এনক্রিপশন মেশিন এনিগমা নিরাপদ',\n 'ভাইরাস ভয়ংকর প্রোগ্রাম কপি সহজেই এক কম্পিউটার কম্পিউটারে ছড়িয়ে পড়তে',\n 'অনুসরণ সমস্যার অনুভূত জটিলতা একত্রিত অনুভূত জটিলতার সমষ্টির প্রতিটিকে আলাদাভাবে',\n 'উৎস প্রাপ্ত সিগন্যালটি বৈদ্যুতিক সিগন্যাল ট্রান্সডিউসার বৈদ্যুতিক সিগন্যালে পরিবর্তন',\n 'নির্দিষ্ট দেয়ার প্রক্রিয়াকে প্রসেস সিডিউলিং',\n 'এক্ষেত্রে অ্যাপিকেশনের কুয়েরী কার্যক্রম দ্রুততার সম্পন্ন যায়',\n 'সোশাল ইঞ্জিনিয়ারিং বুঝায়',\n 'তাছাড়া ধরনের এনটিটি উপস্থাপন পদ্ধতি এদেরকে টেবিলে রুপান্তরের কৌশল ইত্যাদিও অধ্যায়ের আলোচ্য বিষয়',\n 'কটি ওয়েভ একক সময়ে দূরত্ব ভ্রমণ অতিক্রম প্রপাগেশন স্পিড',\n 'নোডের প্রসেসর নোডের প্রসেসরের হাইস্পীড ইন্টারকানেকশন নেটওয়ার্কের যোগা্যোগ',\n 'ধরনের যোগাযোগ কম্পিউটারে নির্বাহ প্রক্রিয়াগুলির ঘটতে কম্পিউটার সিস্টেমে সঞ্চালিত প্রক্রিয়াগুলির বাঁধা একসাথে কম্পিউটার নেটওয়ার্ক',\n 'অ্যাজাইল মডেল পুনরাবৃত্তিমূলক ক্রমবর্ধমান প্রক্রিয়ার সমন্বয় মডেল',\n 'আক্রমণের পরিকল্পনা কারণে হুমকির সংখ্যা প্রকারগুলি কার্যত সীমাহীন সক্রিয় কল্পনা সংকল্প অধ্যবসায় সময় প্রয়োজন পাশাপাশি অ্যাক্সেস সম্পদ',\n 'সমাজ ক্রিপ্টোগ্রাফির আকর্ষণীয় মিথস্ক্রিয়াগুলির ডিজিটাল স্বাক্ষর আইন',\n 'ক্লায়েন্টসার্ভার নেটওয়ার্কে সার্ভার সফটওয়্যার ব্যবহারের প্রয়োজন',\n 'প্রাপ্ত ফলাফলসমূহ চাহিদা মোতাবেক পুনরায় সফটওয়্যার ডিজাইন পুঙ্খানুপুঙ্খভাবে যাচাই দরকার',\n 'তথ্য প্রযুক্তির নৈতিবাচক ইতিবাচক প্রভাব তিক্ত অভিজ্ঞতার শিকার',\n 'ইউজারের নোভেল নেটওয়্যারের রিসোর্সগুলো এনটি অপারেটিং সিস্টেমের রিসোর্সের',\n 'সময় পুরো সিস্টেমটি ধবংস ফেলে',\n 'রিমোট কন্ট্রোলের অপারেটিং মুহূর্তে Strong and short instant infrared pulses সংঘটিত',\n 'সলিডস্টেট ডিস্কের রূপ সাধারণভাবে চৌম্বকীয় ডিস্কের দ্রুত অভোলাটাইল',\n 'এনক্রিপশন ফাংশন সাধারণীকরণ শিফট সাইফার উন্নত',\n 'সর্বনিম্ন স্তরে সিস্টেম কলগুলি চলমান প্রোগ্রামকে অপারেটিং সিস্টেম অনুরোধ অনুমতি সরাসরি',\n 'কন্ট্রোল ফ্লো টেস্টিং উদ্দেশ্য টেস্ট কেস সেট সকল স্টেটমেন্ট ব্রাঞ্চিং শর্তসমূহ কভার',\n 'মূল উদ্দেশ্যে ফায়ারওয়াল নির্দিষ্ট আইপি ঠিকানা সার্ভার পোটের ট্রাফিক অবরোধ',\n 'কোম্পানিকে cyber attck সুরক্ষিত রাখতে হ্যাকিং প্রয়োজনীয়',\n 'পণ্য সরবরাহের ব্যবহৃত বাহন সফ্টওয়্যার কম্পিউটারের অপারেটিং সিস্টেম তথ্যের যোগাযোগ নেটওয়ার্ক অন্যান্য প্রোগ্রাম সফ্টওয়্যার সরঞ্জাম পরিবেশ তৈরি নিয়ন্ত্রণের ভিত্তি',\n 'কোএক্সিয়াল ক্যাবলের Characteristic impedanceএর মানগুলো Qs',\n 'টেবিল দ্রুতভাবে সকল ডাটা মুছে ফেলার ট্রাঙ্কেট স্টেটমেন্টটি ব্যবহৃত',\n 'DES কার্যত আধুনিক ব্লক সাইফারের মত পুনরাবৃত্তিমূলক অ্যালগরিদম',\n 'ভেরিফিকেশন যাচাইকরণ প্রক্রিয়া সফটওয়্যারটি ব্যবসায়িক প্রয়োজনীয়তাগুলো পূরণ কিনা সফটওয়্যারটি যথাযথ স্পেসিফিকেশন মেথডোলজি অনুসরণ ডেভেলপ হয়েছে কিনা বিষয়গুলো নিশ্চিত',\n 'বায়ুমণ্ডলের প্রতিসরণ সূচক উচ্চতার সামান্য হ্রাস পায় রেডিও রশ্মির বাঁক ঘটায়',\n 'ডেটা মাইনিংয়ের ক্ষেত্রটি কৃত্রিম বুদ্ধিমত্তা গবেষক পরিসংখ্যান বিশ্লেষকদের উদ্ভাবিত জ্ঞানআবিষ্কার কৌশলগুলিকে দক্ষ বাস্তবায়ন কৌশলগুলির একত্রিত অত্যন্ত বড় ডেটাতে সক্ষম',\n 'ক্যারিয়ার ফ্রিকুয়েন্সি অর্থাৎ আলাদা আলাদা সাবক্যারিয়ার মডিউলেটর সিগন্যাল মডিউলেটর Sit উৎপন্ন',\n 'মাল্টিপ্রোগ্রামিং ব্যবস্থায় প্রোগ্রাম প্রধান মেমোরিতে অবস্থান অন্যান্য প্রোগ্রামগুলো সহায়ক মেমোরিতে অবস্থান',\n 'মডুলারিটি সফ্টওয়্যারের একক বৈশিষ্ট্য প্রোগ্রামকে বুদ্ধিবৃত্তিকভাবে পরিচালনাযোগ্য',\n 'রেডিও ওয়েভের তথ্য আদানপ্রদান ব্যবস্থা রয়েছে হটস্পটগুলোতে',\n 'প্রকার বাছ বিচার ছাড়ই সকল ডেটা প্যাকেট ফরোয়ার্ড',\n 'ভালোভাবে পারফর্ম সফটওয়্যার সিস্টেমে আকর্ষণীয় সঙ্গত প্রতিক্রিয়াশীল ইউজার ইন্টারফেস',\n 'নির্দিষ্ট আক্রমণ প্রতিরোধ প্যাডিংয়ের RSA',\n 'নেটওয়ার্কের লজিক্যাল ফিজিক্যাল উভয় টপোলজি এক নাও',\n 'লিস্টসমূহ কার্নেল অ্যালগরিদমসমূহের সরাসরি ব্যবহৃত',\n 'Processor একক process Shared process Multiple processকে execute',\n 'কমপ্যাকশন পদ্ধতিতে ফ্রি মেমোরি স্পেস সমূহকে একত্রিত লার্জ ব্লকে রুপান্তর',\n 'মেসেজ আদানপ্রদান ডাটা প্রসেসিং সকল কাজেই অতিরিক্ত খরচ দেয় সেন্ট্রালাইজড সিস্টেমে দেয়',\n 'অভিধানটি নীতি শব্দটিকে গুরুত্বপূর্ণ অন্তর্নিহিত আইন ধারণা চিন্তার সিস্টেমে প্রয়োজনীয় সংজ্ঞায়িত',\n 'রিসোর্সসমূহ শেয়ার নিমেত্তে ততোধিক কম্পিউটারকে কমিউনিকেশন মিডিয়ার সংযুক্ত কম্পিউটার নেটওয়ার্ক Computer Network গঠন',\n 'হুমকি টার্গেট এলোমেলো',\n 'অপারেটিং সিস্টেম সনাক্ত সংশোধন প্রয়োজন ক্রমাগত ত্রুটি',\n 'ডাটাবেসে অথরাইজেশনের নিরাপত্তা ব্যবস্থাকে অত্যন্ত শক্তিশালী হয়ে',\n 'স্থানে পূর্ণ ডাটাবেজ সিস্টেম নথিভুক্ত পদ্ধতি ডাটা ডিকশনারি প্রদান',\n 'যেহেতু Job to Job transition automatic সেহেতু Jobএর মধ্যবর্তী সময় কমে যায় পূর্ববর্তী Manually system অপেক্ষা কম সময় লাগে',\n 'ব্যাংক অ্যাকাউন্ট ক্রেডিটডেবিট কার্ডের একবারে সর্বোচ্চ টাকার চেয়ে উত্তোলন অ্যাকাউন্টে টাকার নিচে থাকলে টাকা উত্তোলন',\n 'ডিজাইনে ডেটা আর্কিটেকচার ইন্টারফেস উপাদানগুলির স্বতন্ত্র উপস্থাপনা',\n 'ক্যান্ডিডেট বোঝাতে শব্দটি করব ডেটাবেস ডিজাইনার সম্পর্কের টিপল সনাক্ত প্রধান উপায় নির্বাচিত',\n 'প্রতিটি প্রক্রিয়া অ্যাক্সেস মোডে ফাইল খোলে',\n 'পূর্ণ সফটওয়্যার রিকয়্যারমেন্ট স্পেসিফিকেশন অবশ্যই নির্ভুল Correct হওয়া প্রয়োজন',\n 'সালে টেলিফোন Telephone আবিষ্কারের দূরদূরান্তে মানুষের কথা পাঠানো',\n 'ডাটা ওভাররাইট বেশিরভাগ সময় ভাটা রিকভার সম্ভব',\n 'ফিশিং একপ্রকার কার্যক্রম ইলেকট্রনিক যোগাযোগ ব্যবস্থায় তথ্যাদি সংগ্রহের বিশ্বস্ত মাধ্যমের ছদ্মবেশ ধারণ',\n 'GUI তৈরিতে ব্যবহৃত ধরনের টুলগুলো হলোঃ ফ্লুয়িড অ্যাপ ইন ভেন্টর লুসিড চার্ট ভিজুয়্যাল স্টূডিও',\n 'হ্যাকিং উল্লেখযোগ্য',\n 'ধরনের ডাটাবেস সাধারণত সার্ভার ডিজাইন অ্যাপ্লিকেশন প্রোগ্রাম প্রাপ্ত পরিষেবা অনুরোধ অনুরোধ SQL আকারে প্রশ্ন সেগুলি নির্দিষ্ট ডেটা পুনরুদ্ধার সংরক্ষণ আপডেট অনুরোধ API',\n 'প্যারালাল ডাটাবেস সিস্টেমে মাল্টিপল সিপিইউ মেমোরী ডিস্ককে প্যাররালালী প্রসেসিং I স্পীডকে বৃদ্ধি',\n 'অপারেটিং সিস্টেমের ভূমিকা আলোচনা সামগ্রিক কম্পিউটার সিস্টেম',\n 'অথরাইজেশনের ইনডেক্স লেভেলের সাহায্যে একজন ইউজার ইনডেক্সসমূহ তৈরি ডিলিট',\n 'রাষ্ট্রীয় অখণ্ডতা নিরাপত্তা সার্বভৌমত্ব বিপন্ন জনগণ উহার অংশের ভয়ভীতি সঞ্চার করিবার অভিপ্রায়ে কম্পিউটার কম্পিউটার নেটওয়ার্ক ইন্টারনেট নেটওয়ার্কে বৈধ প্রবেশে প্রতিবন্ধকতা সৃষ্টি বে আইনি প্রবেশ করান',\n 'নেটওয়ার্কে হোস্টের তথ্য প্রবাহ নিয়ন্ত্রণ নেটওয়ার্ক ফায়ারওয়াল সুবিধা',\n 'বিবৃতিগুলি ডাটাবেস স্কিমগুলির বাস্তবায়নের বিবরণ সংজ্ঞায়িত সাধারণত ব্যবহারকারীদের লুকানো',\n 'লুকানোর পাশাপাশি যৌক্তিক বিবরণও ডাটাবেসের স্তর ভিউগুলি ব্যবহারকারীদের ডাটাবেসের নির্দিষ্ট অংশগুলি অ্যাক্সেস বাধা সুরক্ষা ব্যবস্থাও সরবরাহ',\n 'জটিলতা পরিচালনা চ্যালেঞ্জিং শুধুমাত্র ডেটা ব্যবস্থাপনার ক্ষেত্রেই যেকোনো ডোমেইন',\n 'সিমেট্রিক সাইফার ব্যাপকভাবে ব্যবহৃত ডেটা এনক্রিপশন বার্তাগুলির অখণ্ডতা পরীক্ষা',\n 'AES ব্লক সাইফারও শিল্পের মানদণ্ডে বাধ্যতামূলক বাণিজ্যিক সিস্টেমে ব্যবহৃত',\n 'এক্সিকিউশন শেষ লোয়ার প্রায়োরিটি প্রসেস এক্সিকিউট',\n 'Kernel threadsগুলো অপারেটিং সিস্টেম সরাসরি সাহায্যে',\n 'অধিকাংশ সময় ঝুঁকি ভুলগুলি নিয়ন্ত্রণ নীতি নিয়েই নির্ধারিত ব্যক্তি বস্তু কোথায় উপায়ে অ্যাক্সেস',\n 'সিস্টেমে ব্যবহৃত সকল এন্টিটিকে অবজেক্ট',\n 'উইন্ডোকে স্ক্রিনের স্থানে স্থানান্তর যায়',\n 'ফাইবার অপটিক ক্যাবলে অ্যাটেনুয়েশনের পরিমাণ dBkm',\n 'বিকশিত সফ্টওয়্যার পণ্যের উপযুক্ত আর্কিটেকচার তৈরি প্রয়োজনীয় নকশা বিবেচনাগুলি উপেক্ষা খারাপ ধারণা',\n 'আইন ব্যবস্থাও অত্যন্ত ভালোভাবে কম্পিউটার প্রযুক্তিতে সংযুক্ত পুরানো আইনি সুরক্ষা ফর্ম কপিরাইট প্যাটেন্ট পুনরায় যথাযথ কানুন তৈরি মালিশাস অ্যাক্সেস',\n 'ডাটাবেস সবচেয়ে নিচু স্তরের Lowest level ডাটা বর্ণনা ডাটা মডেল ফিজিক্যাল ডাটা মডেল Physical data model',\n 'সিস্টেমে FEC পছন্দ বৃহৎ ট্রান্সমিশন বিলম্ব ARQ কৌশল কার্যকর ডেটা হার ছোট ACKNAC সূচকের অপেক্ষা সময় ট্রান্সমিটারের দীর্ঘ নিষ্ক্রিয় সময় থাকতে দীর্ঘ ট্রান্সমিশন বিলম্বের কারণে বিঘ্নিত',\n 'ট্রান্সমিশন খুবই',\n 'লোড ইনস্ট্রাকশন ওয়ার্ডকে মেইন মেমরি CPUএর ইন্টারনাল রেজিস্টারে স্থানান্তর',\n 'প্রথমে প্রেরণাদায়ক উদাহরণ প্রদান ডিজিটাল স্বাক্ষর প্রয়োজন সেগুলি অপ্রতিসম ক্রিপ্টোগ্রাফির ভিত্তি আবশ্যক',\n 'সাইফারটেক্সট চিহ্নগুলি এলোমেলো',\n 'সফটওয়্যার কৌশল এগুলো খুবই অদক্ষ সীমাবদ্ধতাসম্পন্ন',\n 'উল্লেখ গত তিন দশকে দশকের শেষের দশকে শত শত ব্লক সাইফার প্রস্তাব',\n 'বর্তমানে হাবের পরিবর্তে নেটওয়ার্কে সুইচ ব্যবহৃত',\n 'ব্রুট ফোর্স ডিকশনারি অ্যাটাকএর দিলেও রেইনবো টেবিল কোনোই আসে',\n 'ডাটাবেস স্কিমা উদাহরণগুলির ধারণাটি প্রোগ্রামিং ভাষায় লেখা প্রোগ্রামের সাদৃশ্য বোঝা',\n 'টিসিপি আইপি রাউটার মূলত গেটওয়ে',\n 'অ্যানালগ সিস্টেমে সর্বোত্তম সিস্টেমকে সংজ্ঞায়িত অর্জন রিসিভার আউটপুটে বৃহত্তম সংকেত শব্দ অনুপাত নকশা সীমাবদ্ধতা সাপেক্ষে চ্যানেল ব্যান্ডউইথ প্রেরিত শক্তি',\n 'প্রতিস্থাপন সাইফারের লক্ষ্য পাঠ্যের এনক্রিপশন বিটগুলির বিপরীতে আধুনিক ডিজিটাল সিস্টেমে',\n 'বর্তমান সময়ে এপ্লিকেশন Web Database Multimedia data Application storage প্রয়োজনীয়তা এতবেশি পরিমাণে বাড়ছে একসাথে অধিক সংখ্যক ডিস্ক ব্যবহারের প্রয়োজন হয়ে পড়ছে',\n 'প্রক্রিয়ায় Multiplexer Multiplexed কৃত সিগন্যালকে Separate আলাদা আলাদা Individual চ্যানেলের Component Signal তৈরি প্রক্রিয়াকে Demultiplexing',\n 'কার্সর স্ক্রিনে হার্ডওয়্যার প্রাপ্ত ইন্সট্যাকশনসমূহ Follow',\n 'সফটওয়্যার প্রয়োগ বাস্তবায়ন মূলত সাংগঠনিক কাঠামো সফটওয়্যার ভিত্তিক সার্ভিস উপাদানসমূহ ইন্ড ইউজার প্রতিষ্ঠানের কার্যাদি সম্পাদনে যুক্তভাবে',\n 'সন্দেহ হ্যাকিং আনইথিক্যাল অবশ্যই অপরাধ',\n 'সলিড স্টেট ড্রাইভকে সংক্ষেপে এসএসডি SSD',\n 'Operating systemএর কাজের অন্যতম মেমরি ব্যবস্থাপনা',\n 'সাইফারের গাণিতিক বিবৃতির বর্ণমালার অক্ষরগুলি এনকোড সংখ্যা',\n 'Should have রিকয়ারমেন্ট সমূহ সফটওয়্যারের ফাংশনালিটি বৃদ্ধি',\n 'আয়তক্ষেত্র সিম্বল স্ট্রং এনটিটি সেট প্রকাশ',\n 'প্রতিটি এট্রিবিউটকে সাম্প্রতিক একসেট মান নির্ধারণ',\n 'সিস্টেম বিশ্লেষণ ধাপে সফটওয়্যার প্রোডাক্টির সীমাবদ্ধতা অনুধাবন',\n 'নিম্নে ডাটাবেস সিস্টেমের ফাংশনাল উপাদানগুলোর নাম পরস্পরের সংযোগ চিত্রের সাহায্যে দেখানো',\n 'এসবক্সগুলির নকশার মানদণ্ড গোপন অস্তিত্ব থাকতে বিশ্লেষণাত্মক আক্রমণ এসবক্সের গাণিতিক বৈশিষ্ট্যগুলিকে লাগায় শুধুমাত্র DES ডিজাইনারদের পরিচিত',\n 'অবস্থা প্রকাশ সংগঠনিক সম্পদগুলির তালিকা সম্পদগুলির নিরাপত্তা ঝুঁকি সম্পদগুলির সুরক্ষার বিদ্যমান নিয়ন্ত্রণ',\n 'যৌক্তিক স্তর এইভাবে তুলনামূলকভাবে সহজ কাঠামোর ছোট সংখ্যার পরিপ্রেক্ষিতে সমগ্র ডাটাবেস বর্ণনা',\n 'প্রয়োজন অনুযায়ী ডাটাবেসকে সিপিইউ মেমোরিতে লোড প্রসেসিং কার্য সম্পন্ন',\n 'কয়েকটি হার্ডওয়্যার ফায়ারওয়ালের নাম উল্লেখ কর',\n 'MixColumn ধাপ রৈখিক রূপান্তর প্রতিটি কলামকে মিশ্রিত রাষ্ট্র ম্যাট্রিক্স',\n 'ভালনারেবিলিটি স্ক্যানিং কম্পিউটার সিস্টেমের নিরাপত্তার দুর্বলতা শনাক্ত ব্যবহৃত নিরাপত্তা কৌশল',\n 'কপিরাইট প্যাটেন্ট বাণিজ্যিক রহস্য ধরণের আইনি সুরক্ষা প্রোগ্রাম কখন কখন ডেটা প্রযোগ',\n 'SQL ব্যাপকভাবে ব্যবহৃত ডাটাবেস ল্যাংগুয়েজ',\n 'মেডিয়েটর ক্লাস সমূহের সরল যোগাযোগ স্থাপন',\n 'দ্বিমুখী ডাটা ট্রান্সমিশন সিস্টেমে কঠিন',\n 'ডাটাবেসে নিরাপত্তা ব্যবস্থা থাকলে নিরাপত্তা ব্যবস্থা দূর্বল যেকোন অননুমোদিত ব্যবহারকারী ডাটার অপূরনীয় ক্ষরি সাধন',\n 'ইনহেরিটেন্সে পুরাতন ক্লাস বৈশিষ্ট্য ক্লাস তৈরি',\n 'প্রেগ্রামের সম্পূর্ণ কোড কোডের একাংশ এক্সিকিউটেবল কোড নন এক্সিকিউটেবল কোড কম্পিউটারের ক্ষতিকর গ্রোগ্রাম থ্রেটস',\n 'ঝুঁকি হ্রাসের উপায় হিসেবে প্রোটোটাইপিং',\n 'সফ্টওয়্যার প্রকল্প পরিকল্পনা নামক মানচিত্রটি সফ্টওয়্যার ইঞ্জিনিয়ারিং কাজকে সংজ্ঞায়িত পরিচালনা প্রযুক্তিগত কাজগুলি সম্ভাব্য ঝুঁকিগুলি সংস্থানগুলির প্রয়োজন কাজের পণ্যগুলি তৈরি কাজের সময়সূচী বর্ণনা',\n 'প্রোগ্রামের নিয়ন্ত্রণ প্রোগ্রামে ট্রান্সফার',\n 'প্রয়োজনীয়তার মডেল দৃশ্যকল্পভিত্তিক শ্রেণীভিত্তিক আচরণগত উপাদান উদ্ভাসিত ডিজাইনের কাজকে ফিড',\n 'ডিজাইনার পরবর্তী ফিজিক্যাল ডিজাইন পর্বে ফলস্বরূপ সিস্টেমনির্দিষ্ট ডাটাবেস স্কিমা শারীরিক বৈশিষ্ট্যগুলি ডাটাবেস নির্দিষ্ট',\n 'Database এটিতে জমাকৃত data উভয়ই অত্যন্ত গুরুত্বপূর্ণ সম্পদ',\n 'বেজব্যান্ড ডিজিটাল সিগন্যাল',\n 'মানে ডেভেলপাররা সফটওয়্যার গুণমান দীর্ঘমেয়াদী রক্ষণযোগ্যতা ভাবনা করেননি',\n 'বিবর্তনের পদ্ধতিগুলি ঘটে উত্তরাধিকার ব্যবস্থাকে অবশ্যই নতুনভাবে তৈরি ভবিষ্যতে কার্যকর',\n 'বিট দৈর্ঘ্য স্ট্যান্ডার্ড DES আজকাল তুলনামূলকভাবে সহজে ভাঙা সম্পূর্ণ অনুসন্ধানের',\n 'রিং টপোলজির নেটওয়ার্কে কম্পিউটারের সংখ্যা বৃদ্ধি পেলে ডাটা প্রেরণের সময়কাল বৃদ্ধি পায় ডাটা প্রেরণের সময়কাল নেটওয়ার্কের নোড সংখ্যার নির্ভরশীল',\n 'সোশ্যাল মিডিয়াতে গুজব ছড়ানো অপপ্রচার বিরত',\n 'কখনো মেমোরি ম্যানাজার লোয়ার প্রায়োরিটি প্রসেস এমতাবস্থায় হায়ার প্রায়োরিটি প্রসেস উপস্থিত মেমোরি ম্যানাজার লোয়ার প্রায়োরিটি প্রসেসকে সোয়াপ হায়ার প্রায়োরিটি প্রসেসকে এক্সিকিউট',\n 'প্রতিটি Location Data structure অবশ্যই এক compatible',\n 'ডাটা ট্রান্সমিশনের খরচ কম',\n 'অপটিক্যাল স্টোরেজ Optical Storage অপর রূপ রাইট ওয়ানস Write Once রিড ম্যানি Read Many Worm',\n 'সফ্টওয়্যার মডুলারিটির এটির গুরুত্বপূর্ণ প্রভাব',\n 'সেগমেন্টেশনের বিপরীত রিএসম্বলি',\n 'ধরনের ডাটাবেস সিস্টেমে ক্লায়েন্টসার্ভার নেটওয়ার্কিং LAN MAN WAN সংযুক্ত যায়',\n 'DFD abstraction স্তরের সর্বোচ্চ স্তর স্তর level',\n 'Socketকে যোগাযোগের endpoint গণ্য',\n 'মাল্টিপ্রোগ্রামিং মাল্টি টাস্কিং সিস্টেম সংগে একাধিক জব নির্বাহের মাল্টিপল পার্টিশন এলোকেশন পদ্ধতি বহুল ব্যবহৃত পদ্ধতি',\n 'সকল পদ্ধতি methodtechnique মেমরির সদ্ব্যবহার যায় Memory Management Techniques',\n 'পরবর্তীতে সাইবার অপরাধীদের ফাঁক ফোঁকর বের সাইবার জগতে বিধ্বংসী মনোভাব শিখিল সালে কয়েকটি ধারা সংশোধন',\n 'Bounded waiting Bound or limit প্রসেসগুলো সময় অপেক্ষা অনুরোধ Critical sectionএ প্রবেশ অনুমতি পাওয়া',\n 'রেডিও ওয়েভের গতি আলোর গতির সমান',\n 'টপ ডাউন ডিজাইনে প্রত্যেক সাব সিস্টেম উপাদান সিস্টেম গন্য পুনরায় ডিকম্পোজ',\n 'বাকি বিটগুলো কন্ট্রোল ইনফরমেশন বহন',\n 'একাধিক ব্যবহারকারীর তথ্য সিস্টেমগুলির প্রেরণ প্রাথমিকভাবে টাইমডিভিশন মাল্টিপ্লেক্স টিডিএম ট্রান্সমিশন প্যাকেট ডেটা ট্রান্সমিশন',\n 'সেকেন্ড সময়ে যতগুলো সাইকেল সম্পন্ন ফ্রিকুয়েন্সি',\n 'ফাইল সিস্টেম অনলাইন স্টোরেজ উভয়ের অ্যাক্সেসের ব্যবস্থা প্রদান অপারেটিং সিস্টেম কম্পিউটারের ব্যবহারকারীর ডেটা প্রোগ্রাম পদ্ধতি',\n 'ছাড়া প্রসেসের প্রসেস Exeucute তালিকা Ready list',\n 'সাধারণত জনপ্রিয় সামাজিক যোগাযোগ ব্যাংক আইটি অ্যাডমিনিস্ট্রেটরদের ওয়েবসাইটএর জনসাধারণকে প্রলোভন দেখানো ফিশিং',\n 'গ্রাউন্ড স্যাটেলাইট সিস্টেম যাই মাইক্রোওয়েভ প্রধানত লাইনঅব সাইট ফ্রি স্পেস মোডে প্রোপাগেট',\n 'ওয়ার্মস আক্রান্ত কম্পিউটার আরেকটি কম্পিউটারে কপি কম্পিউটারকেও আক্রান্ত ফাইল নামের ফোল্ডার তৈরি সিস্টেমকে স্লো ফেলে',\n 'সমসাময়িক প্রধান উপাদান ওভারভিউ প্রদান কম্পিউটার সিস্টেমের পাশাপাশি অপারেটিং সিস্টেম প্রদত্ত ফাংশন',\n 'ডাটাবেস ম্যানেজমেন্ট সিস্টেমে ডাটা মডেল মৌলিক বিষয়',\n 'ডিস্ট্রিবিউটেড ডাটাবেস সিস্টেমে সঠিক নিরাপত্তার অভাব দেয় সেন্ট্রালাইজড সিস্টমে যায়',\n 'অ্যানালগ সিস্টেমে কর্মক্ষমতা পরিমাপ সাধারণত রিসিভার আউটপুটে সংকেতথেকেশব্দ অনুপাত',\n 'প্রত্যেকটি সেগমেন্ট প্রবেশের অধিকার সংরক্ষনের ধরণের এট্রিবিউট',\n 'নিয়ন্ত্রণ প্রবাহ এক প্রসিডিউর প্রসিডিউরে ট্রান্সফার প্রোগ্রাম অবস্থা পরিবর্তন',\n 'হোয়াইট বক্স টেস্টিংকে গ্লাস বক্স টেস্টিং ক্লিয়ার বক্স টেস্টিং',\n 'ডিভাইসকে পৃথিবীর সূক্ষ্ম অবস্থান নির্ণয় স্যাটেলাইট দেয়',\n 'ইব্যাংকিং ব্যবহারের ইউটিলিটি বিল পরিশোধ বিদ্যুৎ পানি গ্যাস ফোন মোবাইল ইন্টারনেট',\n 'সফ্টওয়্যার দলকে স্বায়ত্তশাসনের স্তর',\n 'স্টেশন বিস্ফোরণের দৈর্ঘ্য ট্রাফিকের পরিমাণের নির্ভর ভিন্ন',\n 'অপারেটিং সিস্টেম ডাটাবেস সিস্টেমের সেতু বন্ধন তৈরী',\n 'সংযোগের Unique pair sockets',\n 'গ্রে হ্যাট হ্যাকাররা সিকিউরিটি সিস্টেমের ত্রুটিগুলো খুজে বের মনমতো',\n 'লেনদেনের ক্লায়েন্টের পাঠানো ডেটা একক লেনদেনের সুযোগের ক্লায়েন্টে ক্যাশে',\n 'প্রসেস টারমিনেট ফ্রি পার্টিশনে প্রসেস লোডিং তিনটি ক্রাইটেরিয়া যায়',\n 'ইনক্রিপশন ডাটার মত কম্পিউটার স্টোরেজ ডিভাইসে রক্ষিত ফাইল ফিজিক্যালী সিকিউরিটি ফেল কেও অনুমোদিত access প্রতিরোধসহ রক্ষা',\n 'রিসিভার ইনপুটে ডিজিটাল সংকেত চ্যানেলের শব্দ',\n 'অর্থাৎ ডেটা মাল্টিপ্লেক্সে টাইমডিভিশন DS DS ধরণের সিগন্যাল ডিজিটালি স্যাটেলাইটের ট্রান্সমিশনের ক্যারিয়ারে সংশোধিত',\n 'রেস্ট্রিকটেড ডাটাকে পূর্বেই ডাটা টাইপ নির্দিষ্ট ডোমেইন ইন্টিগ্রিটি',\n 'প্যারালাল সিস্টেমে প্রসেসসমূহ একইসাথে নির্বাহ',\n 'ফলস্বরূপ DAMA মোড স্যাটেলাইট ক্ষমতা দক্ষতার বাস্তবায়ন রক্ষণাবেক্ষণ সাধারণত খরচ',\n 'লিগ্যাসি সফ্টওয়্যার বজায় রাখতে চ্যালেঞ্জ উপস্থাপন চলেছে',\n 'ডিজাইন পদ্ধতি ডিজাইন ডেরিভেশনের অবজেক্টভিত্তিক পদ্ধতির প্রস্তাব',\n 'আক্রমণ সিস্টেম পরিচালিত সিস্টেম অন্যটির মারাত্মক বার্ষিক মেসেজ প্রেরণ অন্যটির কার্যক্ষমতা সম্পূর্ণ নিষ্ক্রিয়',\n 'টুইস্টেড পেয়ার ক্যাবল ভয়েস কমিউনিকেশনের ব্যাপক ব্যবহৃত',\n 'Database Management system খরচ কমানোসহ data transfer rate performance reliability বৃদ্ধি লক্ষ্যে Parity bit Disk Striping যুক্ত Scheme তৈরি হয়েছে RAID Level',\n 'Simultaneous peripheral output lineএর সংক্ষিপ্ত রূপ Spooling',\n 'ফায়ারওয়াল প্রধানত প্রকার',\n 'ডাটা সংরক্ষণ সংক্রান্ত তথ্য উপস্থাপনের দুইটি প্রতীকের উপস্থাপন',\n 'রাউটারকে সাধারণত দুইভাবে কনফিগার হয়ে',\n 'অকাঠামোগত ইন্টাভিউ Nonstructured open interviews এক্ষেত্রে তথ্য সংগ্রহের পূর্ব সিদ্ধান্ত গৃহীত',\n 'কারণে ডিলিট হওয়া ফরম্যাট হওয়া ডাটা রিকভারি প্রসেস এখানেও ফিজিক্যালি ড্যামেজ হওয়া সলিড স্টেট ড্রাইভ ডাটা রিকভার ব্যয়বহুল হয়ে',\n 'কেননা ডাটাবেসকে Read Write Access Update কার্যক্রম নিজেকে সম্পন্ন',\n 'নকশা উপাদানগুলির পরিচালিত স্বাধীন কার্যকরী বৈশিষ্ট্যগুলি প্রদর্শন',\n 'একটিমাত্র fiber strand দ্বিমুখী যোগাযোগের',\n 'নেটওয়ার্ক এডাপ্টার কার্ড মূলত ডিজিটাল আকারে ডেটা এক কম্পিউটার কম্পিউটারে লেনদেন',\n 'এছাড়া ত্রুটিকে সফটওয়্যার প্রদত্ত আউটপুট প্রত্যাশিত আউটপুটের পার্থক্য Error হিসেবে বিবেচনা',\n 'পিয়ারটুপিয়ার নেটওয়ার্ক পদ্ধতিতে ডেডিকেটেড সার্ভার সকল ওয়ার্কস্টেশনেরও ভূমিকা গুরুত্বে শ্রেণিবিন্যাস',\n 'ডিরাইভড্ অ্যাট্রিবিউট Derived attributeকে প্রকাশ ড্যাশ উপবৃত্ত সিম্বলটি',\n 'সফটওয়্যার ডেভেলপমেন্ট মডেল ডেভেলপারকে সফটওয়্যার ডেভেলপ সাহায্য',\n 'এক চরম পর্যায়ে সিস্টেম অ্যাডমিনিস্ট্রেটর সোর্স কোডের অনুলিপি পরিবর্তন অপারেটিং সিস্টেম',\n 'হ্যাকিংয়ের অন্যের ক্ষতি আইনের চোখে সাইবার ক্রিমিনাল হিসেবে পরিচিত',\n 'ডিমাল্টিপ্লেক্সিং কৌশল প্রক্রিয়া উপাদান বিশিষ্ট Multiplexed সিগন্যালকে আলাদা আলাদা সিগন্যাল উপাদানে পৃথক কের',\n 'GUI ডিজাইন প্রয়োগ ধাপে ডিজাইনারগণ সফটওয়্যার ডিজাইনের প্রয়োজনীয় উপকরণসমূহ পায়প্রয়োজনীয় কার্যাদি ইউজার পরিবেশ সম্বন্ধে অবগত হয়তখন GUI ডিজাইন',\n 'ল্যানের ডেটা ট্রান্সমিশন ক্ষমতা টেন মেগা বিটস সেকেন্ডে এন সংখ্যক ডিভাইস যুক্ত সম্মিলিত ডেটা ট্রান্সমিশন ক্ষমতা এন টেন মেগা বিটস সেকেন্ডে',\n 'ফিজিক্যাল স্কীমা অনুযায়ী তিন ফিল্ডের অধীনে প্রয়োজনীয় ডাটা সংরক্ষিত ডাটার নিরাপত্তা ব্যবস্থা অননুমোদিত ব্যবহারকারী ডাটা অ্যাকসেস',\n 'রিপিটার ইনকামিং সিগন্যাল পেয়ে হুবহু শক্তি বর্ধনপূর্বক পাঠিয়ে দেয় ব্রিজ প্রথমে যথাযথ সেগমেন্টটি নির্বাচন সিগন্যালকে সেগমেন্টের এড্রেসে পাঠিয়ে দেয়',\n 'একইভাবে জবটির দৈর্ঘ্য অতি ক্ষুদ্র শূন্য স্থানটির সামান্য অংশ ব্যবহৃত বেশিরভাগ অংশই খালি জব',\n 'সিস্টেম এনালিস্ট দায়িত্ব প্রজেক্টটি প্রতিষ্ঠানের লক্ষে কিভাবে অবদান Contribute রাখবে অনুধাবন',\n 'V মডেল সফটওয়্যারের প্রতিটি ধাপ রিভার্স অর্ডারে পরীক্ষণের সুযোগ প্রদান',\n 'নেটওয়ার্ক ইন্টারফেস কার্ডকে উচ্চারণ নিকnick নামে ডাকা হয়ে',\n 'ব্যক্তিগত আপত্তিজনক ছবি জানিয়ে প্রকাশ্যে আনা',\n 'সিস্টেম প্রসেস তৈরি প্রসেস রান সর্বশেষ stop সকল কাজের সকল System calls প্রয়োজন Process control ক্যাটাগরির অন্তর্ভুক্ত',\n 'অ্যাডওয়ার মূলত বিজ্ঞাপন প্রদর্শনের ইউজারদের কাজের অসুবিধা সৃষ্টি',\n 'মাল্টিপ্রোগ্রামিং সিস্টেমের প্রোগ্রামারের সম্ভব পরিমাণ স্মৃতির স্থান পাওয়া স্মৃতির স্থানে প্রোগ্রাম মডিউল লোড',\n 'Freeware Hex Editor and Disk Editor HxD যেকোনো আকারের ফাইলগুলোকে পরিচালনা',\n 'কমান্ড ইন্টারপ্রেটারের প্রধান Userএর নিকট নির্দিষ্ট Command গ্রহণ Execute',\n 'প্রয়োজনীয় সংশোধন বাস্তবায়নের খরচ এরপর বিশ্লেষণ সবশেষ সিদ্ধান্তে উপনীত',\n 'এন্ড পয়েন্ট নিরাপত্তার অ্যান্টিভাইরাস অ্যান্টি ম্যালওয়্যার সফটওয়্যার ব্যাবহার',\n 'মেমরি স্পেস সুরক্ষা সিপিইউ হার্ডওয়্যার রেজিস্টারের ব্যবহারকারী মোডে উত্পন্ন প্রতিটি ঠিকানা তুলনা সম্পন্ন',\n 'স্টার্ট Start স্টপ Stop বিট',\n 'তথ্য প্রতিপ্রক্রিয়া টেবিলে সংরক্ষণ অপারেটিং সিস্টেম অনুমতি অস্বীকার পরবর্তী IO অনুরোধ',\n 'প্রত্যন্ত অঞ্চলে বিশেষজ্ঞ চিকিৎসক অপ্রতুল ভিডিও কনফারেন্সিং জটিল রোগের চিকিৎস করানো সম্ভব',\n 'মেমরি শেয়ারকৃত একাধিক প্রসেসের প্রবেশ access নিয়ন্ত্রণ থাকতে',\n 'এজন্য একজন ডাটাবেস ব্যবহারকারী ডাটাবেস ডিজাইনকারীকে নানাবিধ নিরাপত্তামূলক ব্যবস্থা গ্রহণ',\n 'গাইডেড মেটালিক ট্রান্সমিশন লাইন',\n 'ইন্টারনেট সকল ডিজিটাল ডিভাইসের মুহূর্তেই যেকোনো তথ্য বের যায়',\n 'সিস্টেমটি কাস্টমার চাহিদা মোতাবেক কোয়ালিটি প্রোডাক্ট গ্রহণ কিনা প্রোডাক্টটি ফিট ফর ইউজ সার্টিফাইড কিনা বিষয়ে নিশ্চিত',\n 'নেটওয়ার্কে এক কম্পিউটার আরেক কম্পিউটারে ডকুমেন্ট ছবি অডিওভিডিও যেকোন প্রকার ফাইল অনায়াসে ট্রান্সফার যায়',\n 'ডাটাবেস সিস্টেমগুলি তথ্যের বিশাল সংস্থাগুলি পরিচালনা ডিজাইন',\n 'সেকেন্ডারি স্টোরেজের প্রধান প্রয়োজনীয়তা সক্ষম স্থায়ীভাবে প্রচুর পরিমাণে ডেটা',\n 'User threadকে kernelএর Kemelএর সাহায্য ছাড়াই',\n 'সফ্টওয়্যার প্রকল্পের প্রকল্পের অগ্রগতির ফ্রেমওয়ার্ক কার্যক্রমগুলি পুনরাবৃত্তিমূলকভাবে প্রয়োগ',\n 'পরিমার্জন আপনাকে ডিজাইনের অগ্রগতির নিম্নস্তরের বিবরণ প্রকাশ সহায়তা',\n 'সফটওয়্যার ইনস্টল মাউস দিয়ে Next বাটন I accept দুইটা বাটনে মোটামুটি দেখেই ক্লিক',\n 'অর্থাৎ চ্যানেলের প্রয়োজন বিদ্যমান কোষের আকার হ্রাস অতিরিক্ত ছোট কোষ ঢোকানো বিদ্যমান চ্যানেলগুলি দক্ষতার পুনরায়',\n 'সিস্টেমের মেমোরি ম্যানেজমেন্ট হয়ে',\n 'অ্যানালগ Composite সিগন্যাল উপযুক্ত মিডিয়ার মধ্যদিয়ে Transmit',\n 'প্রয়োজনীয় সমাধান পাওয়ার সলিউশন মডিউল সমূহকে যথাযথভাবে অরগানাইজ',\n 'মডিউল উপাদান গুলোকে গ্রুপভুক্ত পর্যায়ক্রমিক ডাটার অপারেশন সম্পাদন ত্রুটিকে যোগাযোগ গত সংযুক্তির',\n 'আসলে ক্ল্যাডিং কোরের অপটিক্যাল বাউন্ডারি কোরের অভ্যন্তরীণ প্রতিসরণকে কোরের বাইরের পৃষ্ঠে তাড়িত',\n 'পাসওয়ার্ডের পড়ে নাম শব্দ নামের সংখ্যা এগুলোই',\n 'কোহেশন সকল ফাংশন সম্পর্কিত উপাদান সমূহ শ্রেণীবদ্ধ',\n 'নাল অবজেক্ট অবজেক্টের ডিফল্ট ভ্যালু ডিজাইন হয়েছে',\n 'সফটওয়ার ডেভেলপমেন্ট লাইফ সাইকেল SDLC phase স্তরে প্রোগ্রাম কোডের মডিউল স্তরে টেস্টিং কার্যাদি সম্পাদন',\n 'প্রথমটি কমান্ড লাইন ইন্টারফেস CLI',\n 'বর্তমানে ব্যবহৃত টাইপের IR টেকনোলজি TV Remote TVR IRDA Infrared Data Association স্ট্যান্ডার্ড প্রটোকল',\n 'মড্যুলেটেড সিগন্যালগুলোকে সম্মিলিত কম্পোজিট সিগন্যালে পরিণত লিংক মধ্য দিয়ে প্রেরণ',\n 'আক্রমণকারী সংস্থার সিস্টেমে অ্যাক্সেস পায় ফাইল নথিগুলো এনক্রিপ্ট মুক্তিপণ দাবি',\n 'কোনটিই সাইফার শুধুমাত্র ডিফিউশন সঞ্চালন',\n 'ট্রোজান হর্স ট্রোজান হর্স এক ধরনের ক্ষতিকর Program software ব্যবহারকারীর অগোচরে কম্পিউটার সিস্টেমে ঢুকে পড়ে',\n 'বিষয়টি বন্ধ হয়ে যায় কথোপকথন লম্বা হয়ে যায় ইমেইল থ্রেডিং বিরক্তিকর',\n 'মেনি টু ওয়ান ম্যাপিং কার্ডিনালিটির উদাহরণ একাধিক শিক্ষক বিষয় পাঠদান',\n 'ছাড়া অপারেটিং সিস্টেম আরো সার্ভিস প্রদান সরাসরি কম্পিউটার ব্যবহারকারীর সম্পর্ক থাকলেও সিস্টেমকে সঠিকভাবে পরিচালনায় সাহায্য',\n 'সাহায্যে ডাটাবেস ডাটা রিট্রিভ ডাটাবেসে ডাটা ইনসার্ট ডাটা ডিলেট ডাটা মডিফাই',\n 'উল্লেখ্য শেয়ার্ড ডিস্ক সিস্টেমকে সময় ক্লাস্টার Cluster',\n 'ডাটাবেস অথেনটিকেশন প্রক্রিয়া ব্যক্তির Software Identity পরিচিতি যাচাই',\n 'হাব ডেটা প্যাকেট অন্যান্য সকল বহির্গামী লাইনে ছড়িয়ে দেয়',\n 'যেহেতু স্তর শুধুমাত্র নিম্নস্তরের স্তরগুলি সতর্ক পরিকল্পনা প্রয়োজন',\n 'রিপিটার স্টেশনগুলোর উঁচু জায়গা নির্বাচন পাহাড়ের শীর্ষদেশ উঁচু দালান স্টেশনের দূরত্ব বাড়ানোর নির্মিত টাওয়ার অতিরিক্ত উচ্চতা প্রদান',\n 'Refine the Design Database Design ভুলভ্রান্তি রয়েছে কিনা বের প্রয়োজনীয় analysis',\n 'দর্শনে গ্রাহক সন্তুষ্টি সফটওয়্যারের শুরুর অংশে অংশগ্রহণের উত্সাহিত প্রদানের উত্সাহিত ছোট অত্যন্ত উৎসাহী প্রকল্প দল অসাধারণ পদ্ধতিগুলি সর্বনিম্ন সফটওয়্যার প্রকৌশল কর্মজীবন সম্পূর্ণ উন্নতির সাধারণতা',\n 'সেগমেন্টেশন ডায়নামিক লিংকিং সুযোগ সুবিধা সম্পাদন',\n 'যেটি সম্পূর্ণ Programming Comment',\n 'এছাড়া ওয়েবসাইট সুরক্ষার ব্যাবহৃত কয়েকটি গুরুত্বপূর্ণ কৌশল ওয়েবসাইট স্ক্যানিং ম্যালওয়্যার অপসারন ওয়েবসাইট অ্যাপ্লিকেশন ফায়ারওয়াল অ্যাপ্লিকেশন সুরক্ষা যাচাই পদ্ধতি অবলম্বন',\n 'ডিভাইসের Modulator Demodulator কার্যাবলি উপস্থিত Modem Modulator Demodulator',\n 'সংগঠনটি ঝুঁকি বিশ্লেষণ ভুলগুলি নির্ধারণ ব্যবস্থানিক অনুসন্ধান সিস্টেম পরিবেশ সমস্যাগুলি সম্ভবত দূর্ভাগ্যবশত ঘটতে',\n 'স্পাইরাল মডেলটি ডেভেলপমেন্ট টিমকে waterfall incremental মডেলের প্রসেস মডেলের উপাদানসমূহ অবলম্বন মডেলের যুক্ত ডিজাইন ডেভেলপমেন্ট কার্যাদি সম্পন্ন সাহায্য',\n 'বিট ইনফরমেশন বহন স্টার্ট বিট স্টপ বিট',\n 'অপটিক্যাল লাইন অভ সাইটের Fresnel zone চারদিকে নির্দিষ্ট অঞ্চল বাধাবিহীন রেডিও ওয়েভের ক্লিয়ার লাইন অভ সাইট বিদ্যমান',\n 'RAMথেকে পড়া যায় তেমনি লেখাও যায়',\n 'নিয়মগুলি লেখা মামলা নির্ধারণ আইনে কম্পিউটারগুলি সংঘটিত মানুষ ডেটা প্রসেসের ভূমিকা স্পষ্টভাবে সংজ্ঞায়িত',\n 'খরচের কথা বিবেচনা টুইস্টেড পেয়ার ক্যাবল কোএক্সিয়াল অপটিক্যাল ফাইবারের তুলনায় খরচ কম শর্ট মিডিয়াম দৈর্ঘ্যের কানেকশনের ডাটা নেটওয়ার্কে টুইস্টেড পেয়ার ক্যাবলিং প্রায়ই যায়',\n 'সত্তা বৈশিষ্ট্যগুলির সেট প্রতিনিধিত্ব',\n 'DBMS উদ্দেশ্য ডাটা রিডান্ডেন্সী ইনকন্সিস্টেন্সি সমস্যা দূরীকরণ',\n 'ইনটেলিজেন্ট হাবে নেটওয়ার্ক এডমিনিস্ট্রেশনের আলাদা ম্যানেজমেন্ট কার্ড',\n 'ধারণাগত অখণ্ডতা সিস্টেম অসামঞ্জস্যপূর্ণ ডিজাইনের প্যাচওয়ার্ক হুমকি ভুল ধরণের স্ক্রু একত্রে আটকে সফ্টওয়্যার সিস্টেমের স্থাপত্যের দৃষ্টিভঙ্গি দুর্বল শেষ এমনকি ভালপরিকল্পিত সিস্টেমগুলিকে ভেঙে একজন ক্ষমতাপ্রাপ্ত স্থপতি দৃষ্টি রাখতে সম্মতি কার্যকর অত্যন্ত সফল সফ্টওয়্যার প্রকল্প নিশ্চিত সহায়তা',\n 'প্রয়োজনে সিগন্যাল প্রেরণের মাধ্যম Media কমিউনিকেশনের সুযোগসুবিধা বিষয়ের চিন্তা মডুলেশনকে ভাগে ভাগ যায়',\n 'একাধিক প্রসেস প্রধান স্মৃতির অংশ ব্যবস্থা প্রতিটি প্রোটেকশন মেকানিজমের থাকতে',\n 'অর্থাৎ ডাটা Backup Recovery প্রয়োজনীয় ডাটার শর্তারোপ ডাটার বাধ্যবাধকতা নিয়ন্ত্রণ',\n 'ড্রাইভের ডাটা এক জায়গায় সংরক্ষণ',\n 'সফটওয়্যার ডিজাইন প্রক্রিয়া সফটওয়্যার তৈরির দরকার বিষয়গুলোকে সফটওয়্যার প্রয়োগ',\n 'ননফ্রিস্পেস ওয়্যারলেস পরিবেশের পাথ লস বিল্ডিং গাছের সমন্বয়ে বাধা পথ মডেল কঠিন',\n 'সিডোকোডে ভেরিয়েবল উল্লেখ প্রয়োজন',\n 'ডাটা ব্যাকআপ পদ্ধতি হলসার্ভারের ব্যাকআপক্লাউড স্টোরেজের ব্যাকআপএক্সটার্নাল ড্রাইভের ব্যাকআপ',\n 'এক্ষেত্রে সেন্ট্রালি পারসোনাল কম্পিউটারে ডাটাবেস জমা',\n 'অবজেক্ট বেসড লজিক্যাল মডেলগুলোর বহুল পরিচিত ব্যবহৃত মডেলগুলো এনটিটি রিলেশনশিপ মডেল অবজেক্ট অরিয়েন্টেড মডেলসিম্যান্টিক ডাটা মডেল ফাংশনাল ডাটা মডেল',\n 'বাল্ক এক্সট্রাক্টর গুরুত্বপূর্ণ জনপ্রিয় ডিজিটাল ফরেনসিক টুল',\n 'প্রকৃতপক্ষে ফাইল সিস্টেম ডিজাইন সম্পূর্ণ অপারেটিং সিস্টেম সর্বদা বিবেচনা অপারেটিং সিস্টেমটি ফাইলের প্রকারগুলিকে চিনতে সমর্থন কিনা',\n 'ডিস্ট্রিবিউটেড ডাটাবেস সিস্টেমে অনেকগুলো সাইট অর্থাৎ প্যারালালভাবে অপারেট',\n 'উপাত্ত বিনিময়ের উপরের স্তরের এনটিটি সমূহ নিচের স্তরের এনটিটিসমূহের নির্ভরশীল',\n 'জটিলতা ব্যবস্থাপনার চাবিকাঠি বিমূর্ততার ধারণা',\n 'Plain Slight সমগ্র সিস্টেমের উপায়ে পূর্বরুপ সহায়তা',\n 'EF Codd সংজ্ঞা অনুসারে Table শুধুমাত্র তখনই NF নিম্নের দুইটি শর্ত পালন',\n 'ইউজার ইন্টারফেসের ইউজার সফটওয়্যার হার্ডওয়্যার নিয়ন্ত্রণ ম্যানিপুলেট',\n 'ট্র্যাপ সংগঠিত হওয়ার ইভেন্টগুলো সিগন্যাল প্রাপ্ত',\n 'ঘটে প্রতিটি পক্ষ সফল পুনঃপ্রচার প্রক্রিয়া পুনরাবৃত্তি',\n 'মৌলিক কমিউনিকেশন সিস্টেমের পাঁচটি উপাদান',\n 'ক্লায়েন্টএর ইতিমধ্যে অপারেশন সম্পদনের সফটওয়্যার পর্যবেক্ষণ প্রস্তাবিত সিস্টেমের রিকয়্যারমেন্ট সংগ্রহ',\n 'উদাহরনস্বরুপ যায় কম্পিউটার এইডেড ডিজাইন সিস্টেম কমপেক্স ডাটা টাইপ স্টোর সিস্টেম গ্রাফিক্স ডাটা অডিও ডাটা ধরনের ব্যবহারকারীদেরকে স্পেশালাইজড ইউজার',\n 'ডেস্কটপ ল্যাপটপ কম্পিউটারের তুলনায় মোবাইল সিস্টেমের ছোট স্ক্রিন সাইজ মেমরি ক্যাপাসিটি ওভারঅল ফাংশনালিটির কারণে হ্যান্ডহেন্ড মোবাইলকে সার্ভিস প্রদান',\n 'আইনি মাধ্যম অন্যান্য নিয়ন্ত্রণ সহযোগিতা কম্পিউটার নিরাপত্তা স্থাপনে',\n 'GUI উপস্থাপিত মাউস টাচ প্যাড ডিজিটাল পেন কার্সর নামে পরিচিত',\n 'তাছাড়া একজন ইথিক্যাল হ্যাকার টেকনিক সিস্টেমকে পরীক্ষা',\n 'এরর ডিটেকশন সহজ',\n 'ইনফরমেশন সিকিউরিটি তথ্য নিরাপত্তা সংস্থার তথ্য সম্পাদকে ধরনের হুমকি রক্ষা',\n 'একাধিক ব্যবহারকারী যখনই ইচ্ছা প্যাকেট নামে পরিচিত ডেটা পাঠায়',\n 'প্রয়োজনীয় Resources পাওয়া যায় allocate অন্যথায় প্রসেসকে Resource free হওয়া অপেক্ষা',\n 'প্যারালাল ডাটাবেস সিস্টেমে প্রসেসিং খরচ কম',\n 'IOগুলো ডিভাইস কন্ট্রোলারের লোকাল বাফারে ম্যাপিং',\n 'সীমিত গুপ্ত মার্কেটপ্লেসে ফোকাস ইনভেন্টরি কন্ট্রোল পণ্য ব্যাপক ভোক্তা বাজারকে মোকাবেলা',\n 'ফাংশন ওরিয়েন্টেড ডিজাইন পদ্ধতি সম্পূর্ণ সিস্টেমকে ক্ষুদ্র ক্ষুদ্র ফাংশন সমূহে বিভক্ত',\n 'বিলম্বের কারণে ছড়িয়ে পড়ে দৈর্ঘ্যের একাধিক পাথ বিলম্বের প্রাপ্ত ডালের সংমিশ্রণের কারণে চ্যানেল আউটপুটে সময়ের সংক্ষিপ্ত প্রেরিত পালস ছড়িয়ে পড়ে একাধিক পথ',\n 'পদ্ধতিতে মেমোরি ব্যবহারকারীর নির্ধারিত অংশে শুধুমাত্র প্রোগ্রাম একক সময়ে ডিস্ক টেইপ লোড',\n 'দূরত্বে অবস্থিত আন্তঃসংযোগ বিশিষ্ট একাধিক কম্পিউটারের তথ্য আদান প্রদান প্রক্রিয়াকরণের ব্যবহৃত সমন্বিত সিস্টেমকে কম্পিউটার নেটওয়ার্ক',\n 'নির্বাহরত Programকেই Process',\n 'Deliver frequentlyকার্যকারী সফটওয়্যার ঘন ঘন মাসের পরিবর্তে সপ্তাহে সপ্তাহে প্রদান বিষয়ে গুরুত্ব',\n 'সিকুয়েনশিয়াল অ্যাক্সেস স্টোরেজ Sequential Access Storage',\n 'তরঙ্গরূপের বর্ণালীর যৌগিক ফ্রিকোয়েন্সি ব্যবধানে উল্লেখযোগ্য মান সসীম',\n 'ক্রমবর্ধমানভাবে সফ্টওয়্যার পণ্য তৈরি সময় প্রযুক্তিগত ঋণ তৈরি এড়ানো অসম্ভব',\n 'প্রকার ম্যাসেজের ফ্রিকুয়েন্সি লেভেল হওয়ার কারণে প্রকার ইন্টারেফারেন্স ছাড়াই ট্রান্সমিট সম্ভব',\n 'সফ্টওয়্যার রিফ্যাক্টর বিদ্যমান নকশাটি অপ্রয়োজনীয়তা অব্যবহৃত ডিজাইনের উপাদান অদক্ষ অপ্রয়োজনীয় অ্যালগরিদম দুর্বলভাবে নির্মিত অনুপযুক্ত ডেটা স্ট্রাকচার ডিজাইনের ব্যর্থতার পরীক্ষা ভাল ডিজাইনের সংশোধন',\n 'প্রত্যেক ধরনের ইন্টারাপ্ট অপারেটিং সিস্টেম কোডের পৃথক সেগমেন্টস রয়েছে ধরনের নির্ধারণ',\n 'দলগত ডেভেলপমেন্ট পরিবেশে উপযোগী',\n 'সিস্টেমকে সুরক্ষিত সুরক্ষিত জুড়ে সতর্কতা অবলম্বন',\n 'ডাটা করাপশন ক্ষতিগ্রস্থ ফাইলকে বুঝায়',\n 'বইটির অবশিষ্টাংশ শক্তিশালী ক্রিপ্টোগ্রাফিক অ্যালগরিদম ব্যবহারিক প্রাসঙ্গিক',\n 'অপটিক্যাল ফাইবার ক্যাবল আকারের অন্যান্য ক্যাবলের তুলনায় আকারে ছোট ওজনে হালকা চিকন কম জায়গার প্রয়োজন',\n 'বাস্তবায়নের সময় সফটওয়্যারটি কাস্টমার মেশিনে কনফিগার এটির পোর্টাবিলিটি এডাপ্টাফিলিটি ইন্টিগ্রেশন বিষয়সমূহ সমাধান',\n 'যেহেতু বেশিরভাগ ডেটা পদ্ধতিগত বিশদ সফ্টওয়্যারটির অন্যান্য অংশ লুকানো পরিবর্তনের সময় প্রবর্তিত অসাবধানতাপূর্ণ ত্রুটিগুলি সফ্টওয়্যারের অন্যান্য অবস্থানে প্রচারিত সম্ভাবনা কম',\n 'এফফাংশন সুরক্ষিতভাবে ডিজাইন ফিস্টেল সাইফারের নিরাপত্তা সংখ্যার বৃদ্ধি পায় ব্যবহৃত বিট রাউন্ড সংখ্যা',\n 'তাপীয় শব্দের উত্স উত্পন্ন শব্দ শক্তি অধ্যয়ন রিসিভারের শব্দ ঘটনার পরিপ্রেক্ষিতে মূল্যায়ন',\n 'ফাইল ওভাররাইট হয়ে গেলেও প্রকার ফাইল রিকভারি সফটওয়্যারের ফাইলটি রিকভার সম্ভব',\n 'প্রতিবার লগ ইন কীভাবে সোজা প্রতিবার ইনপুট পাওয়া পাসওয়ার্ডকে হ্যাশিং সার্ভারে সংরক্ষিত হ্যাশ কোডের মিলিয়ে',\n 'মেথড ওভারলোডিং ওভার রাইড পলিমরফিজমের উদাহরণ',\n 'পরিস্থিতি ইমেইল আইডি ফেরত আনার প্রক্রিয়াকেই ইমেইল পুনরুদ্ধার',\n 'এক্ষেত্রে মৌলিক উপাদানগুলো সিস্টেমে ব্যবহৃত',\n 'ডাটাবেস Administrator ডাটাবেসের স্কীমা ডেফিনেশন সরবরাহ',\n 'ট্রায়োড টিউব Triode tube আবিষ্কারের ইলেকট্রনিক টেলিকমিউনিকেশনে রেডিও টেকনোলজি ব্যবহৃত',\n 'হোয়াইট হ্যাট হ্যাকার White Hat Hacker ধরনের হ্যাকাররা হ্যাকিং কৌশলকে ভালো উদ্দেশ্যে সাধারণত তাদেরকে White Hat Hacker',\n 'আধুনিক অপারেটিং সিস্টেমগুলো ইন্টারাপট ট্রিভেন',\n 'তরঙ্গরূপের সীমাবদ্ধ সর্বোচ্চ মান',\n 'সিডো কোডে স্ট্রাকচার ইংলিশের তুলনায় প্রোগ্রামিং বিস্তারিত অংশ',\n 'প্রতিটি Location Operating system compatible',\n 'বিপরীতে সূক্ষ্ম সমান্তরাল মেশিনে প্রচুর পরিমাণে প্রসেসর ধরনের মেশিনে চলমান ডাটাবেস সিস্টেমগুলি ব্যবহারকারীদের জমা একক উদাহরণস্বরূপ সমান্তরাল',\n 'ক্যাবল টেলিভিশন নেটওয়ার্কে কম্পিউটার কমিউনিকেশনের লোকাল এরিয়া নেটওয়ার্কের ট্রান্সমিশন মিডিয়াম হিসেবে কোএক্সিয়াল ক্যাবল ব্যাপক ব্যবহৃত',\n 'ফাইল অর্গানাইজেশনে প্রতিটি রেকর্ডের দৈর্ঘ্য Record Length সুস্পষ্টভাবে উল্লেখ',\n 'customer loan নামক এনটিটি সেট borrower রিলেশনশিপ সেটের মেনিটুমেনি রিলেশন স্থাপিত',\n 'ধরনের মেমোরি ব্যবস্থাপনায় সময়ের অপচয়',\n 'একদিকে Computerএর আকার আয়তন ওজন Microতে পরিবর্তন হয়েছে তেমনিভাবে কর্মদক্ষতা কর্মক্ষেত্রও প্রসার লাভ',\n 'পদ্ধতি DDOS Attack হ্যাকারা',\n 'মাল্টিকোর প্রোগ্রামিংএ অসুবিধা বিশেষভাবে পরিলক্ষিত',\n 'মডিউল সমূহের আন্তনির্ভরশীলতা গ্রোগ্রাম ডিজাইন ততো ভালো',\n 'ধরনের মডুলারাইজেশন প্রক্রিয়ায় প্রোগ্রামকে ছোট ছোট মডিউলে বিভক্ত',\n 'ডিজাইন প্যাটার্ন ডেভেলপারদেরকে সফটওয়্যার ইটারেশন সমূহের সুপরিচিত নামগুলো যোগাযোগ করিয়ে দেয়',\n 'কম্পিউটার সিস্টেমের অননুমোদিত এক্সেসের সাইবার অপরাধ প্রতিরোধ পাশাপাশি কম্পিউটার সিস্টেমের গোপনীয়তা সততা প্রাপ্যতা রক্ষনাবেক্ষনের কম্পিউটার নিরাপত্তা',\n 'ডাটা ডিকশনারি মেটা ডাটাও ডাটা সম্পর্কিত ডাটা',\n 'জন্যে ক্লায়েন্ট সার্ভার ডাটাবেস সিস্টেমও',\n 'TCPIP সবচেয়ে কমন নেটওয়ার্ক প্রোটোকল ইন্টারনেটের মৌলিক আর্কিটেকচার',\n 'ডিভাইসের ব্রিজের গঠন কার্যপ্রণালি অপেক্ষাকৃত সহজ',\n 'Computerএর Operating systemএর Development ধীরে ধীরে উন্নতির চরম শিখরে পৌঁছেছে',\n 'প্রতিটি ডেটা প্যাকেট পরিমাণ ডেটা ধারণ নোট দেয়',\n 'বাস টপোলজির নেটওয়ার্কে সংযুক্ত সবচেয়ে কম ক্যাবল লাগে',\n 'Privileged instruction kernel mode execute',\n 'ইফিসিয়েন্সি কম',\n 'কনভেনশনাল অপারেটিং সিস্টেম ফাইল সিস্টেম প্রসেস যোগ্য ডাটা ডিস্কে জমা',\n 'সফটওয়্যার রিকয়ারমেন্ট স্পেসিফিকেশন সংক্ষেপে SRS নামেও চিহ্নিত',\n 'কেবলমাত্র পাসওয়ার্ডে চিহ্ন করলেই চলবে খেয়াল রাখতে পাসওয়ার্ড সহজ',\n 'শুনতে অবাক ভিকটিম হ্যাকারকে আইডির বিস্তারিত তথ্য মেইলের পাসওয়ার্ড দেয় আসলে ভিকটিম সরাসরি তথ্যগুলো দেয়',\n 'কমপ্লিট পূর্ণাঙ্গ ফিজিক্যাল ডাটা মডেলে সকল database artifacts যুক্ত ডাটাবেস সিস্টেমের টেবিলগুলোর রিলেশনশিপ তৈরি যায়',\n 'সহজভাবে প্রোটোকল একগুচ্ছ রুলস নিয়ম কানুন পিসি অপর পিসির যোগাযোগ',\n 'ডাটাবেজ সম্পর্কিত কাজগুলো পারবে পরীক্ষা',\n 'সাইবার তথ্য নিরাপত্তা উল্লেখযোগ্য প্রতিযোগিতামূলক সুবিধা প্রদান',\n 'টিসিপি আইপি নেটওয়ার্ক প্রতিটি হোস্টকে নম্বর দিয়ে নির্দেশ',\n 'উচ্চস্তরের ডেটা মডেল ধারণাগত কাঠামো প্রদান ডাটাবেস ডিজাইনারকে পরিবেশন পদ্ধতিগত ফ্যাশনে ডাটাবেস ব্যবহারকারীদের ডেটা প্রয়োজনীয়তা ডাটাবেস নির্দিষ্ট',\n 'নেটওয়ার্ক সিকিউরিটির অ্যান্টিভাইরাস Antivirus অ্যান্টিস্পাইওয়্যার প্রোগ্রাম Anti spyware Firewell নেটওয়ার্কের অনুমতিবিহীন অ্যাক্সেস নেটওয়ার্ককে সুরক্ষিত রাখে',\n 'বর্তমানে PCSগুলো দ্রুত দামেও সস্তা হওয়ার কারণে Centralized systemএর পরিবর্তে system তৈরি হয়েছে এক একাধিক System সার্ভার সিস্টেম ক্লায়েন্ট অনুবোধ',\n 'কার্নেল সনাক্ত অপুনরুদ্ধারযোগ্য ত্রুটি মেমরির সম্পূর্ণ বিষয়বস্তু অন্ততপক্ষে সিস্টেম মেমরির কার্নেলের মালিকানাধীন অংশগুলিকে ডিস্ক এলাকায় লিখে',\n 'এক্ষেত্রে অবজেক্ট গুলোকে এনটিটি',\n 'প্রয়োজনীয় ডকুমেন্ট সফটওয়্যারের সকল ফাংশনাল নন ফাংশনাল বিহেভিওরাল বর্ণনা ধারণ',\n 'অন্যদিকে ধরনের সিস্টেমগুলি বড় সংখ্যক মেশিনে দশ সমান্তরালভাবে চালানো স্কেল বেশিরভাগ সমান্তরাল ডেটাবেসগুলি পরিচালনা',\n 'লিংকএর ব্যান্ডউইডথ B bps লিংকের মধ্য দিয়ে T bps ডাটা প্রেরণ B T',\n 'লগারটি কীস্ট্রোকগুলি ভবিষ্যতে আক্রান্তদের ব্যবহারের সংরক্ষণ নেটওয়ার্ক সংযোগের আক্রান্তকে পাঠায়',\n 'মৌলিকভাবে নির্বাহরত Programই process',\n 'ডাটাবেস সিস্টেমের প্রতিটি ব্যবহারকারী অ্যাক্সেস সক্ষম ডেটা',\n 'সিনক্রোনাস ডাটা ট্রান্সমিশন মোডের সুবিধা দক্ষতা অত্যন্ত',\n 'প্রবণতা ধাপে সফটওয়্যারটির প্রয়োজনীয় কম্পোনেন্টসমূহ ডাটা ব্যাকআপ',\n 'মাল্টিকোর প্রোগ্রামিং একাধিক কোর সিস্টেমের কাজের গতি বৃদ্ধি',\n 'Batch systemএ কতকগুলো Job সংগ্রহ',\n 'সাল ফাইবারঅপটিক কেবল ট্রান্সমিশন সিস্টেমগুলি বাণিজ্যিকভাবে কার্যকর উঠেছে',\n 'অননুমোদিতভাবে ডাটা নষ্ট ধ্বংস',\n 'সাইবার তথ্য তথ্যের নিরাপদ বিনিময় নিশ্চিত',\n 'এখনো ইউজার উইন্ডোজের পুরোনো ভার্সন Windows XP',\n 'ডিজিটাল এনালগ ট্রান্সমিশন কৌশল টিভি স্যাটেলাইটের রিলে',\n 'ডাটাবেসে প্রবেশ ডাটা সংযোজন বিয়োজন সংশোধন কাজগুলো অনুমোদিত ব্যবহারকারীর মাধ্যমেই',\n 'তাছাড়া হার্ডওয়্যারের অত্যন্ত দক্ষ ব্লক সাইফার বর্তমান কমপ্যাক্ট স্ট্রিম সাইফারের দক্ষ',\n 'একজন প্রজেক্ট ম্যানেজার প্রয়োজনীয় পর্যাপ্ত সংস্থাগুলো পরিচালনা খরচ বাজেট রিসোর্সসমূহ সময় গুনগতমান গ্রাহক সন্তুষ্টি বিষয়ে সকল টিমের সদস্যদের যোগাযোগ রক্ষা',\n 'Multiplexing উদ্দেশ্য অনেকগুলো চ্যানেলকে এক Demultiplexing উদ্দেশ্য Privacy Antijamming রক্ষা চ্যানেলের ব্যান্ডউইডথকে প্রয়োজনীয় একাধিক চ্যানেলের ব্যান্ডউইথ বিভক্ত',\n 'ট্রান্সপোর্ট লেয়ারে ডেটা ট্রান্সফারের রিলাইয়াবিলিটি মেকানিজম অন্তর্ভুক্ত',\n 'প্রতিটি সাইটেও একজন এডমিনিস্ট্রেটর',\n 'বিভাগে সেলুলার টেলিফোন সিস্টেম বর্ণনা এনালগ মান অন্তর্ভুক্ত ডিজিটাল সিস্টেম',\n 'প্রপাগেশন টাইম Propagation Time সোর্স গন্তব্য স্থানে বিট পৌছতে সময়ের প্রয়োজন প্রপাগেশন টাইম পরিমাপ',\n 'ইনকামিং সিগন্যালে প্রকার অনাকাঙ্কিত সিগন্যাল শব্দ Noise শব্দকে ফিল্টারিং মূল সিগন্যালের হুবহু ডুপ্লিকেট সিগন্যাল তৈরি',\n 'স্টোরেজ ম্যানেজার ডাটাবেস সিস্টেমের উপাদান ডাটাবেসে সংরক্ষিত নিম্নস্তরের ডেটা অ্যাপ্লিকেশন প্রোগ্রামগুলির ইন্টারফেস প্রদান',\n 'বক্ররেখাটি মূল স্থিরঅবস্থায় ব্যর্থতার হারে আসার পরিবর্তনের অনুরোধ বক্ররেখা স্পাইক ধীরে ধীরে সর্বনিম্ন ব্যর্থতার হারের স্তর বাড়তে পরিবর্তনের কারণে সফ্টওয়্যারটি খারাপ',\n 'প্রত্যেকটি Jobকে আলাদা জবের সঠিক Compiler নির্দিষ্টকরণের ত্রুটি নির্ণয় অনুযায়ী IVO Routine যোগান সরবরাহ দেয়ার Instruction দরকার',\n 'সফটওয়্যার নির্দিষ্ট প্রোগ্রামিং ভাষার প্রয়োগ',\n 'ব্রিজ সাধারণত ছোট আকারের নেটওয়ার্কের খুবই কার্যকরী কানেকটিভিটি ডিভাইস',\n 'উভয় ধারণাই আপনাকে ডিজাইনের বিকাশের সম্পূর্ণ ডিজাইন মডেল তৈরি',\n 'যৌক্তিক অযৌক্তিক ধরনের কারণই হ্যাকিংএর জড়িত',\n 'স্পাইওয়্যার ইউজারের কম্পিউটারের ধরনের তথ্য চুরি পাচার',\n 'সফটওয়্যার লুকায়িত বাগ ত্রুটি কিনা নিশ্চিত পৃথকভাবে টেস্টিং সম্পাদন',\n 'উইক এনটিটি সেট স্ট্রং এনটিটি সেটের প্রাইমারি নির্ভরশীল',\n 'Inter processএর যোগাযোগ Communication Coordinate Enter Processসমূহের সমন্বয় বিধান',\n 'টেপ Tape ধারণক্ষমতা Capacity অত্যন্ত টেপ ড্রাইভ Tape Drive বের যায়',\n 'Manytoone modelএর চেয়ে সুবিধা পাওয়া যায়',\n 'ব্যবসায়ীদের ডেটা ক্লাউড Ransomware স্বীকার রক্ষা প্রয়োজনেও সাইবার নিরাপত্তা প্রয়োজন',\n 'প্রয়োজনীয় অতিরিক্ত disk storage monetary খরচ বিবেচনা',\n 'গ্রাফিক্যাল ইউজার ইন্টারফেস ব্যাপকভাবে Apple macintosh কম্পিউটার সালের',\n 'Enable frequent users to use shortcuts নীতিতে ইউজার ক্রমান্বয়ে ক্রিয়াশীলতা কমাতে চায়',\n 'Telecommunication bands in the infrared অপটিক্যাল কমিউনিকেশনের ইনফ্রারেড স্পেকট্রামের অংশটি কতকগুলো ব্যান্ডে ভাগ',\n 'ডিস্কে ডাটা জমা ডাটাবেস ব্যবস্থাপক DML স্টেটমেন্টসমূহকে নিচু স্তরের ফাইল সিস্টেম কমান্ডে অনুবাদ',\n 'সফটওয়্যার রিকয়্যারমেন্ট সিস্টেমটিকে লক্ষ্য সফটওয়্যার ডেভেলপ বৈশিষ্ট্য কার্যাবলিসমূহ বর্ণনা',\n 'সাধারণত ওপেনফাইল টেবিলে প্রতিটি ফাইলের যুক্ত খোলা গণনা ফাইলটি কতগুলি প্রক্রিয়া খোলা নির্দেশ',\n 'সফটওয়্যার ডিজাইন স্ট্রাটেজি প্রতিষ্ঠানের প্রোডাক্ট সার্ভিস প্রদানের সক্ষম নির্ধারণ',\n 'ডাটাবেস রিসোর্সের সর্বাধিক নিশ্চিত যায়',\n 'Computerএর Hardware developmentএর Softwareএরও ব্যাপক পরিবর্তন হয়েছে',\n 'পুনরাবৃত্তিক মডেল Iterative model চক্রে সকল ধাপ অনুসরন সফটওয়্যারটি ক্ষুদ্র পরিসরে তৈরি',\n 'তথ্যের মালিকরা মাল্টিইউজারে সংরক্ষিত নেটওয়ার্ক কম্পিউটার সিস্টেম তথ্যের নিয়ন্ত্রণ চাইতে',\n 'DBMS উদ্দেশ্য দক্ষতার ডাটা এ্যাকসেস',\n 'নেটওয়ার্কের গেটওয়ে শব্দটির অর্থ',\n 'ভেরিফিকেশন ডিজাইন সিস্টেম স্পেসিফিকেশনের গুরুত্ব আরোপ',\n 'টেবিলের রোএর মত আরেকটি টেবিলের ধরনের রো ধরনের ডাটা প্রবেশ করানোই রেফারেন্সিয়াল ইন্টিগ্রিটি',\n 'সফটওয়্যার রিকয়ারমেন্ট চূড়ান্তকরণ রিকয়ারমেন্ট সমূহ সফটওয়্যার ডোমেন ফাংশনালিটি অনুযায়ী হয়েছে কিনা চেক',\n 'এক্ষেত্রে ব্যাক আপের সময় বাচানোর ক্রমবর্ধমান ব্যাকআপ পদ্ধতি',\n 'ছাড়া অনলাইনে যেকোনো অপরাধমূলক কর্মকাণ্ডে জড়িত সবই সাইবার অপরাধের অন্তর্ভুক্ত',\n 'একজন ইথিক্যাল হ্যাকার অবশ্যই সিস্টেমের প্রাইভেসিকে শ্রদ্ধা জানায় অবশ্যই অনুমতি সাপেক্ষেই',\n 'কোম্পানি প্রকল্প মানুষ সম্পূর্ণরূপে কাল্পনিক পরিস্থিতি সমস্যা বাস্তব',\n 'মাল্টিপ্রোগ্রামিং Multiprogramming পরিবেশে কয়েকটি Process নির্দিষ্ট সংরক্ষক Resource ব্যবহারের',\n 'Disk failure recovery ব্যবস্থা কতটুকু কার্যকরী RAID rebuild performance কেমন ইত্যাদির database designer নজর রাখতে',\n 'ডাটাবেস স্ট্রাকচারের মূল ভিত্তিই ডাটা মডেল',\n 'মেমরি কোডার কনভোলিউশনাল কোড তৈরি',\n 'এমনকি ব্যবহারকারীর প্রোগ্রামেও Error',\n 'ম্যালওয়্যার সংক্রমণের স্বীকার কম্পিউটার ধীরগতির হয়ে পড়ে',\n 'ত্রুটি শনাক্ত জোড় বেজোড় প্যারিটি বিট',\n 'ডাটাবেজ ব্যাক আপ থাকলে কারণে ডাটা লস হয়ও সেক্ষেত্রে দ্রুত সফলতার ডাটা পুনরুদ্ধার সম্ভব',\n 'হার্ডওয়্যার ফায়ারওয়াল ধরনের ফায়ারওয়ালের চেয়ে দ্রুত নেটওয়ার্কে কার্যকর সহজ',\n 'ট্রান্সমিটারের গুরুত্বপূর্ণ কম্পোনেন্টগুলো মাইক্রোফোন ট্রান্সডিউসার অডিও অ্যামপ্লিফায়ার অসিলেটর মডুলেটর',\n 'তথ্য মুছে ফেলা অ্যাক্সেস দেয়া আজকাল আক্রমণ',\n 'সুসংগত আলোর উৎস প্রয়োজন ফটোডিটেক্টরের ননলাইনার অ্যাকশনের প্রাপ্ত ওওকে সিগন্যালের মিশ্রিত রিসিভার',\n 'রিসিভারকে সতর্ক ডাটা গ্রুপ ট্রান্সমিট পূর্বে স্টার্ট বিট সাধারণত প্রেরণ',\n 'প্রায়ই তথ্য লঙ্ঘন পরিচয় গোপন প্রসঙ্গে PII সম্পর্কে কথা বলি',\n 'লিগ্যাসি সফ্টওয়্যার সিস্টেমগুলি দশক বিকশিত ব্যবসার প্রয়োজনীয়তা কম্পিউটিং প্ল্যাটফর্মের পরিবর্তনগুলি মেটাতে ক্রমাগত পরিবর্তন',\n 'বৃহৎ সফটওয়্যার প্রজেক্টের মডেলটি প্রযোজ্য',\n 'ফায়ারওয়াল মূলত বাহিরের আক্রমন কম্পিউটারকে রক্ষা হার্ডওয়্যার সফটওয়্যারের মিলিত প্রায়াস',\n 'ইউজার ইন্টারফেস এপ্লিকেশনের ফ্রন্ট ইন্ড ভিউ সফটওয়্যার ইউজার ইন্টারেক্ট',\n 'এক ধরনের সলিডস্টেট ডিস্ক অপারেশনের সময় বড় ডিআরএএম অ্যারেতে ডেটা সঞ্চয় লুকানো চৌম্বকও হার্ড ডিস্ক ব্যাকআপ পাওয়ার ব্যাটারি',\n 'কাপলিং পাচটি স্তর রয়েছে',\n 'সর্বশেষে যায় Layered implementationএর অসুবিধা less efficiency',\n 'ডেটাবেস সিস্টেমের ব্যবহৃত স্টোরেজ কাঠামো অ্যাক্সেসের পদ্ধতিগুলি নির্দিষ্ট বিবৃতিগুলির সেট ধরনের DDL ডেটা স্টোরেজ',\n 'একের অধিক Process runable Operating system সিদ্ধান্ত নেয় processটি run',\n 'নেইভ ইউজার অ্যাপিকেশন প্রোগ্রামার সফিস্টিকেটেড ইউজার স্পেশালাইজড ইউজারের পার্থক্য রয়েছে',\n 'ফাইল ম্যানেজমেন্ট System callsএর ফাইল তৈরি Create ডিলিট Delete',\n 'স্ট্রং এনটিটি সেটে ডিসক্রিমিনেটর পার্শিয়াল ব্যবহৃত',\n 'Twisted pair cable প্যাঁচানো কপার দিয়ে তৈরি',\n 'DESএর উপাদান বিস্তারিত আলোচনা গাণিতিকভাবে ঝোঁক পাঠকের Feistel নেটওয়ার্কের বীজগণিত বর্ণনা',\n 'টেস্ট সামারি ফাইলটি সকল টেস্ট রিপোর্ট লগসমূহ সামগ্রিকভাবে বিশ্লেষণ',\n 'ট্রান্সমিটারের গুরুত্বপূর্ণ কম্পোনেন্টগুলো মাইক্রোফোন ট্রান্সডিউসার অডিও অ্যামপ্লায়ার অসিলেটর মড্যুলেটর',\n 'সফটওয়্যার ডিজাইন ডকুমেন্টেশনসমূহ সফটওয়্যার তৈরিতে সকল তথ্য দরকার সেগুলো ধারণ',\n 'নেটওয়ার্কে ট্রান্সমিশন মিডিয়ার সঠিকভাবে ডাটা পাঠানোর প্রেরক প্রান্তে ডাটাকে ক্ষুদ্র ক্ষুদ্র ফ্রেমে বিভক্ত সেগমেন্টেশন',\n 'প্যারালাল ডাটাবেজ সংরক্ষিত বিপুল পরিমাণ ডাটা প্রয়োজনীয় ডাটা রিট্রিভ খুবই সহজ অত্যন্ত কম সময়ের প্রয়োজন',\n 'গ্রেড রিপোর্ট কার্ড গবেষণা তথ্যসহ শিক্ষাব্যবস্থা ইত্যাদির সাইবার নিরাপত্তা বিঘ্নিত',\n 'জটিল সমস্যা সমাধানের নিমিত্তে Subroutineকে Share অসামঞ্জস্যপূর্ণ Asynchronous কার্যকলাপ নিয়ন্ত্রণ ধরনের interruptকে নিয়ন্ত্রণ Processor managementএর উদ্দেশ্য',\n 'এটিকে তথ্যা লুকায়িত ইনফরমেশন হাইডিং',\n 'আবশ্যিক রিকয়ারমেন্ট ছাড়া সফটওয়্যারকে অপারেশন যায়',\n 'অর্থাৎ ধরনের সিস্টেম লোকাল ডাটাবেস সিস্টেম মেইনটেইন',\n 'ঝুঁকিপূর্ণ ওয়েবসাইটে ব্রাউজ ফায়ারওয়াল ঐসব অনলাইন লোকেশনকে ব্লক দেয়',\n 'একজন কম্পিউটার ফরেনসিক এক্সপার্টকে অপারেটিং সিস্টেম ইন্সটলেশন প্যাচিং কনফিগারেশন দক্ষতা থাকতে',\n 'ট্রান্সমিশন রিসিপশনের প্রক্রিয়াকরণের সময় সিগন্যাল কারণে বিকৃত হয়ে',\n 'শব্দ তরঙ্গ প্রেসার ওয়েভের সমতুল্য বাতাসের মধ্য দিয়ে গমন',\n 'পাবলিক এনক্রিপশন পদ্ধতিও data নিরাপত্তার ভালো',\n 'সফ্টওয়্যারটিকে আলাদাভাবে নাম ঠিকানাযোগ্য উপাদানগুলিতে ভাগ মডিউল যেগুলি সমস্যার প্রয়োজনীয়তাগুলি পূরণ একত্রিত',\n 'টেকনোলজির আবির্ভাব ধরনের নেটওয়ার্ক গঠন',\n 'কার্যকর প্রোটোটাইপ তৈরি বিদ্যমান প্রোগ্রাম ফ্র্যাগমেন্টগুলি কার্যকর প্রোগ্রাম তাৎক্ষণিকভাবে তৈরি সুযোগ দেয়ার টুল প্রয়োগ',\n 'হাই ফ্রিকুয়েন্সি ক্যারিয়ার ওয়েভের অ্যামপ্লিচিউড সিগন্যালের ইনটেনসিটি অনুসারে পরিবর্তিত অ্যামপ্লিচিউড মডুলেশন',\n 'আউটপুট তৈরি কমান্ড প্রম্পট পরবর্তী লাইনে প্রদর্শিত',\n 'লেয়ার সাধারণত উচ্চ ডাই ইলেকট্রিক কনস্ট্যান্স বিশিষ্ট নমনীয় পদার্থের হয়ে',\n 'ক্লায়েন্ট Process request পাঠায় Host computer পোর্টকে নির্দিষ্ট Number বড়',\n 'ব্ল্যাক হ্যাট হ্যাকাররা অ্যাক্সেস লাভ বাধা দেয় কম্পিউটার সিস্টেম',\n 'সাইবার নৈতিকতা cyber ethics কম্পিউটার সম্পর্কিত এক প্রকার নীতিশাস্ত্রকে বুঝায়',\n 'এটির ইভেন্ট ট্রিগার চেক কন্ডিশন ট্রিগার এক্সিকিউশন',\n 'স্টার টপোলজি নেটওয়ার্কে কম্পিউটার অকেজো হয়ে পড়লে কম্পিউটার ব্যতীত নেটওয়ার্কের কম্পিউটারের কার্যক্রম ব্যহত',\n 'ডাটাবেস সিস্টেমের কার্যকরী উপাদানগুলি বিস্তৃতভাবে স্টোরেজ ম্যানেজার কোয়েরি প্রসেসরের উপাদান লেনদেনে বিভক্ত ব্যবস্থাপনা উপাদান',\n 'সবচেয়ে গুরুত্বপূর্ণ কার্য উৎপাদন অপারেশনাল সফটওয়্যার অংশ গ্রাহকের উপযুক্ত সম্মতির তারিখে প্রেরণ',\n 'ডাটা প্রোগ্রাম ধারণ প্রধান স্মৃতি প্রয়োজনীয় স্থান সঙ্কুলান নাও',\n 'কানাডিয়ান মাফিয়া বয় DoS Attack অ্যামাজন ডেল ইবে ফিফা সিএনএনের বিশ্বের বড় বড় কোম্পানি হ্যাক',\n 'ডাটা ফ্লো ডায়াগ্রাম ধরনের',\n 'জানি UNIX Kernel করতো বড় manage করাও কঠিন',\n 'ক্রমবর্ধমান হ্যাকারেরর Data Breaches ডেটা লঙ্ঘন বাড়ছে',\n 'কম্পিউটার সিস্টেমের সমান্তরাল প্রক্রিয়াকরণ ডাটাবেসসিস্টেম ক্রিয়াকলাপগুলিকে গতিশীল অনুমতি লেনদেনে দ্রুত প্রতিক্রিয়ার পাশাপাশি লেনদেনের অনুমতি',\n 'যেহেতু PC গুলো দ্রুত অধিক শক্তিশালী সস্তা ডিজাইনাররা সেন্ট্রালাইজড সিস্টেম আর্কিটেকচার দূরে সরে গিয়েছে',\n 'ডাটাবেস সিস্টেম মডিউলগুলিতে বিভক্ত প্রতিটি দায়িত্বের সামগ্রিক সিস্টেমের',\n 'হার্ডওয়্যার রিকভারি স্টোরেজ ডিভাইস হার্ডডিস্কথাম্ব ড্রাইভ সিস্টেমের ফিজিক্যাল ক্ষতির কারণে ডাটা হারিয়ে রিকভারি হার্ডওয়্যার রিকভারি',\n 'প্রোগ্রাম ডাউনলোড সাবস্টিটিউশনের আক্রান্তকারীর সুবিধা ব্যবহারকারীরা প্রোগ্রাম ডাউনলোডের সতর্ক থাকতে অভ্যন্তরীণভাবে শিক্ষিত দুর্নীতিমূলক কোড ডাউনলোড ভয়',\n 'সফটওয়্যার ইঞ্জিনিয়ারিংয়ে ডিসিশন টেবিল গঠনিক টেবুলার ফরমেটে সকল শর্ত প্রয়োজনীয় কার্যাদি সম্পাদনের বিষয়গুলো',\n 'ভবিষ্যতে সফটওয়্যারের সোর্স কোডে ডেভেলপার পরিবর্তন আনেহোয়াইট বক্স টেস্টিং সহজেই ফেলতে পারবে',\n 'সিকিউরিটি সহজতর মেইনটেন্যান্সের ট্র্যাডিশনাল ওয়ার্ক স্টেশনসমূহের পরিবর্তে নেটওয়ার্ক কম্পিউটার্স ব্যবহৃত',\n 'ক্রিপ্টোগ্রাফি গত বছরে পরিপক্ক অন্যান্য শাখার তুলনায় তুলনামূলকভাবে তরুণ ক্ষেত্র বছর উন্নয়ন আবিষ্কার আসে',\n 'সর্বপ্রথম প্রভাব পড়ে প্রয়োজনীয় Hardware বাছাই সিস্টেমের ধরন Batch time sharing single user multiuser distributed real time or general purpose নির্ধারণ সময়',\n 'ব্যবসার আরেকটি সাইবার নিরাপত্তা হুমকি Ransomware এক ধরনের ম্যালওয়্যার ডেটা এনক্রিপ্ট',\n 'আইপি এড্রেস অকটেট বত্রিশ বিট বিশিষ্ট',\n 'ভিডিও ডিসপ্লে মনিটর আসার কম্পিউটারের আন্তঃক্রিয়া সম্পাদনের CLI অতি প্রয়োজনীয় টুল',\n 'স্ক্যামিং শব্দের অর্থ ধোঁকাবাজি প্রতারণা',\n 'অপারেটিংসিস্টেম ডিবাগিং প্রসেস ডিবাগিং প্রায়শই কাজের সম্পূর্ণ ভিন্ন প্রকৃতির কারণে সরঞ্জাম কৌশল',\n 'পরিস্থিতির সংখ্যা সন্তুষ্ট আশা পরিবর্তনশীলতানিবিড় সিস্টেমের ডিজাইনের ডেভেলপারদের ভবিষ্যত পরিবর্তনের পূর্বাভাস পণ্যটির ভবিষ্যৎ সংস্করণে ডিজাইন পরিবর্তনশীলতানিবিড় সিস্টেমের নকশার বিশদ আলোচনা বইয়ের সুযোগের বাইরে',\n 'সাধারণত মেকানিজম পরিবর্তনের চেয়ে পলিসি পরিবর্তন অধিকতর সহজ',\n 'রিকয়্যারমেন্ট সফটওয়্যারের ফাংশনাল Aspect সম্পর্কিত সেগুলোকেফাংশনাল রিকয়্যারমেন্ট',\n 'প্রটোকল হার্ডওয়্যার সফটওয়্যার উভয় দ্বারাই ব্যস্ত ব্যয়িত',\n 'Spoolingএর উদ্দেশ্য Program Dataসমূহকে দ্রুতগতিসম্পন্ন CPU ব্যবহারের IO মাধ্যমকে প্রস্তুত',\n 'আক্রমণ ক্রসসাইট স্ক্রিপ্টিং সার্ভার ক্লায়েন্ট সংকলিত কার্যকর কোড অন্তর্ভুক্ত ক্লায়েন্ট সার্ভার সম্পাদিত',\n 'MAN Metropolitan area network শহরের বিল্ডিংসমূহকে লিঙ্ক',\n 'ধরনের সাইফারগুলি পণ্য পরিচিত সাইফার',\n 'চিন্তার পার্শ্ব প্রতিক্রিয়া জানেন চিনতে শেখা সময়ে উত্তরটি গবেষণা',\n 'রিলেশনে প্রদত্ত নির্দিষ্ট এট্রিবিউট সেটের ভ্যালু অপর রিলেশনের ধরনের নির্দিষ্ট এট্রিবিউট সেটের ভ্যালু হিসেবে প্রদর্শিত',\n 'ব্যান্ড উইডথ Bandwidth টেলিযোগাযোগ ব্যবস্থায় চ্যানেল মাধ্যম Medium মধ্য দিয়ে সিগন্যাল ইলেকট্রাম্যাগনেটিক ওয়েভকে এক স্থান স্থানে প্রেরণ',\n 'ভিজিটর ক্লাসে পরিবর্তন ছাড়াই অপারেশন নির্ধারণ',\n 'এক্সেস ডাটা এফটিকে সংগৃহীত ফরেনসিক নির্দেশনাগুলির বিশ্লেষণ ত্বরান্বিত',\n 'সফটওয়্যার ডিজাইনে ধাপে ডিজাইন ডকুমেন্ট উচ্চস্তরের ডিজাইন নিম্নস্তরের ডিজাইন',\n 'সফ্টওয়্যার ইঞ্জিনিয়ারিং অনুশীলনের কাঠামো স্থাপনকারী কার্যকলাপের সেট গঠিত জেনেরিক সফ্টওয়্যার প্রক্রিয়া মডেল প্রবর্তন করেছি',\n 'গ্রুপসমূহকে মডিউল সাব প্রোগ্রাম সাব রুটিন',\n 'শুধুমাত্র AES স্ট্যান্ডার্ড বিটের ব্লক আকারের কল',\n 'যোগাযোগ প্রক্রিয়া সম্পন্ন নিয়মনীতি প্রেরক ডাটা সঠিকভাবে প্রাপক পৌছে',\n 'প্রত্যেক ইউজারের টাইম স্লাইস বরাদ্দের ইউজার প্রসেস সিস্টেম প্রসেস ইউজারকে সার্ভিস প্রদান',\n 'FAMA মোডে প্রচুর সংখ্যক স্যাটেলাইট চ্যানেল সকালের সময় নিষ্ক্রিয় যেহেতু সেগুলি নির্দিষ্ট',\n 'অপরদিকে ডি এফ ডি সিস্টেমের স্তরের ডাটা ফ্লো বর্ণনা',\n 'প্রোটোকলকে যায় প্রমিত আদর্শ পদ্ধতি নেটওয়ার্কের কার্যক্রম পরিচালিত',\n 'তথ্য যুক্ত কম্পিউটারে অবস্থাতেই সিকিউরিটি সিস্টেমের প্রয়োজন',\n 'প্রণালির নামকরণের ধারণা নেয়া হয়েছে এক্সট্রিম ধারণা প্রথাগত সফটওয়্যার প্রকৌশল উপাদানকে এক্সট্রিম অর্থাৎ চূড়ান্ত পর্যায়ে নেয়া হয়েছে এক্সট্রিম প্রোগ্রামিং সফটওয়্যার ডেভেলপমেন্টের ধারা কর্মীদের অধিক মানসম্পন্ন সফটওয়্যার উৎপাদনশীলতার উৎপাদনে উৎসাহিত',\n 'এপ্লিকেশন নির্দিষ্ট আইপি এড্রেসের নির্দিষ্ট সার্ভিস চাহিদা অবশ্যই যথার্থ সার্ভিস পেতে',\n 'রাউটার প্রতিটি সাবনেটের বিপরীতে লজিক্যাল অ্যাড্রেস বরাদ্দ দিয়ে',\n 'বিস্তৃত কৌশলটিকে স্লটেড অ্যালোহা',\n 'Programmer Punch card Program in the group of punch cardsকে জমা দিত একজন Operatorএর নিকট',\n 'মডুলারাইজেশনে মডিউল সমূহ যায়',\n 'বেশিরভাগ ফাইল অপারেশনের সিস্টেমকে ফাইলের ডেটা পরিবর্তন',\n 'সিস্টেমে হাই স্পীড নেটওয়ার্ক টেলিফোন লাইন কমিউনিকেশন মিডিয়ার কম্পিউটার গুলোর যোগাযোগ স্থাপিত',\n 'ওয়ান টু মেনি ম্যাপিং কার্ডিনারিটির উদাহরণ একজন শিক্ষক একাধিক বিষয় পাঠদান',\n 'প্রতিটি উপ সিস্টেমের মডুলার গঠন অপরের সম্পর্ক আন্তক্রিয়াকে রিকগনাইজ',\n 'সম্পূর্ণ আলাদা হয়ে কেবল শব্দ ব্যবহারের',\n 'ক্লাউড টেকনোলজি প্রধান কারণগুলোর উন্নত সাইবার সুরক্ষা',\n 'অপরাধের কৌশল উদ্ভাবন আইন প্রয়োগকারী সংস্থার দুর্বলতার কারণে সাইবার অপরাধ সংগঠিত',\n 'এক্ষেত্রে সফটওয়্যার টেস্টার শাখা কোড লেভেলের টেস্টকেস তৈরি',\n 'কম্পিউটার নিরাপত্তা সংক্রান্ত আইনগুলি কম্পিউটার সিস্টেম কম্পিউটারাইজড ডেটা ব্যবহারকারীদের প্রোগ্রামারদের ডিজাইনারদের রক্ষকদেরকে প্রভাবিত',\n 'পরিমাণে মেমরি থাকলে কম্পিউটারের কর্মক্ষমতা প্রভাবিত',\n 'ফাইল পয়েন্টার অনন্য প্রতিটি প্রক্রিয়া ফাইলে অনডিস্ক ফাইল বৈশিষ্ট্য আলাদা রাখতে',\n 'বিস্তারিত নকশা পূর্ববর্তী ডিজাইনের সিস্টেম এটির সাব সিস্টেমকে কিভাবে প্রয়োগ যায় বিষয়ে',\n 'ডিজাইন অস্থির সিস্টেম তৈরির ঝুঁকি ছোট পরিবর্তন ব্যর্থ পরীক্ষা কঠিন গুণমান সফ্টওয়্যার প্রক্রিয়ার শেষ মূল্যায়ন',\n 'স্ট্রাকচার প্রোগ্রামিং মডুলার ফরম্যাট প্রয়োগ গুরুত্ব',\n 'রেডিও কমিউনিকেশনে Installation প্রক্রিয়ায় trained technicianএর প্রয়োজন পড়ে',\n 'উদাহরণস্বরূপ পার্সন ব্যাংক কোম্পানি সবগুলোই এক অবজেক্ট',\n 'যেকোন ডাটাবেস সিস্টেমের অনাকাঙ্ক্ষিত',\n 'User levelএর User threads Kernelএ রয়েছে Kernel threads',\n 'ফাইলের নাম প্রাপ্ত প্রোগ্রামটিকে অবশ্যই ইনপুট ফাইলটি খুলতে আউটপুট ফাইল তৈরি',\n 'পরিবর্তন সিস্টেমে সমস্যা মেমোরিতে প্রক্রিয়া অবলম্বন',\n 'SRS ডকুমেন্ট ফাংশনালিটি সম্পাদনে প্রয়োজনীয় ডকুমেন্ট',\n 'কম্পিউটারের কীবোর্ড ডাটা প্রেরণের ব্যবহৃত',\n 'রেফারেন্সিয়াল ইন্টিগ্রিটি ভঙ্গ নরমাল প্রসিডিউর অপারেশন পরিচালনায় ব্যর্থ',\n 'স্পেকট্রাম Spectrum ইলেকট্রোম্যাগনেটিক তরঙ্গ দৈর্ঘ্যের নিম্নসীমা উচ্চসীমার বিস্তৃত প্রকার বিকিরণের সজ্জাকে Spectrum',\n 'ফলস্বরূপ মার্কিন যুক্তরাষ্ট্রে টেলিফোন ইন্টারনেট ডেটা ফাইবারঅপটিক সিস্টেম বাহিত',\n 'পৃথিবীর মেরু অঞ্চলের যোগাযোগের মেরু কক্ষপথের উপগ্রহ ট্র্যাকিং অ্যান্টেনা আর্থ স্টেশনের প্রয়োজন',\n 'হামলাকারীগণ বাক্সকে স্বচ্ছ তোলেন নিশ্চিত শিকারী ক্লিক সচেতনতা',\n 'প্রোটোটাইপিং পুনরাবৃত্তি দ্রুতই পরিকল্পিত মডেলিং দ্রুত ডিজাইন হিসেবে ঘটে',\n 'কম্পিউটিং সিস্টেমের বিপদ পরিস্থিতির সেট ক্ষতি ক্ষতি সৃষ্টির সম্ভাবনা',\n 'প্রতিটি ডেটা প্যাকেটে সাইক্লিক রিডানডেন্সি চেক CRCCyclic Redundancy Check ফিল্ড সংযোজন',\n 'মাইক্রোওয়েভ কমিউনিকেশনের অধিক দূরত্বে ডাটা ট্রান্সমিট মাইল অন্তর অন্তর রিপিটার',\n 'ছাড়াও সার্ভার সিস্টেমকে নিম্নলিখিত দুভাগে বিভক্ত যায় যথা ট্র্যানজ্যাকশন সার্ভার সিস্টেম ডাটা সার্ভার সিস্টেম',\n 'দ্বিতীয়টি গ্রাফিক্যাল ইউজার ইন্টারফেস GUL',\n 'প্রোটোটাইপ ইনিসিপোলাইজডকৃত ইন্সট্যান্স কপি ক্লোন',\n 'মোড অনলাইন লেনদেন প্রক্রিয়াকরণকে সমর্থন বড় সংখ্যা ব্যবহারকারীদের ডাটাবেস প্রতিটি ব্যবহারকারী তুলনামূলকভাবে অল্প পরিমাণে পুনরুদ্ধার ডেটা ছোট আপডেটগুলি সম্পাদন',\n 'মাল্টিভ্যালুড অ্যাট্রিবিউট প্রকাশ ডাবল উপবৃত্ত সিম্বলটি ব্যবহৃত',\n 'ট্রান্সমিটার শর্তে সংকেতপ্রসেসিং ব্লক আরো দক্ষ উৎস সংক্রমণ',\n 'CMD ব্যবহারকারীরা সময়ে ফ্রিকুয়েন্সিতে',\n 'প্রযুক্তিবিদরা সিকিউরিটি শুধুমাত্র শক্তিশালী দ্রুত ভাল বড় ডিভাইস ডিজাইন সেরা ক্রিপ্টোগ্রাফিক প্রযুক্তির নির্বাচন সম্পর্কে',\n 'তথ্য ব্যবসার রেকর্ড ব্যক্তিগত তথ্য সম্পত্তি সম্পর্কিত তথ্য',\n 'ক্লায়েন্ট কম্পিউটারগুলো আগত রিকুয়েস্ট অনুরোধ অনুযায়ী সার্ভার কম্পিউটার প্রয়োজনীয় সার্ভিস নির্দিষ্ট রেকর্ডকে কেন্দ্রীয়ভাবে সংরক্ষিত ডাটাবেস খুঁজে বের Network মধ্য দিয়ে নির্দিষ্ট client কম্পিউটারে pass',\n 'সম্ভবত রাতে প্রাপ্ত দূরবর্তী AM রেডিও স্টেশনে বিবর্ণ প্রভাব শুনেছি',\n 'ফলস্বরূপ ionization পরিমাণ দিনের সময় বছরের ঋতু ফাংশন সূর্যের কার্যকলাপ সূর্যের দাগ',\n 'কোডিং সময় প্রোগ্রামার প্রোগ্রামের ইউনিট পরীক্ষা ত্রুটিমুক্ত কিনা',\n 'সিস্টেমে সকল প্রসেসর ডিস্কগুলো ইন্টারকানেকশন নেটওয়ার্কের কমন মেমোরিকে Access',\n 'নির্দিষ্ট সফিসটিকেটেড ইউজার স্পেশালাইজড ডাটাবেস অ্যাপ্লিকেশনে প্রোগ্রাম রচনা প্রচলিত ডাটা প্রসেসিং frame work সামঞ্জস্যপূর্ণ',\n 'তথ্য সংগ্রহ সাধারণত উল্লেখ ডাটাবেস এন্টারপ্রাইজ প্রাসঙ্গিক তথ্য',\n 'পূর্বে অপারেটিং সিস্টেমের কতিপয় ইউজার ইন্টারফেস User interface সংক্ষিপ্ত আলোচনা হয়েছে',\n 'ইমেইল থ্রেড প্রেরিত ইমেইল ধারণ ডকুমেন্টেশনের উদ্দেশ্যে দরকারি অতীত কথোপকথন ট্র্যাক রাখার অনুমতি প্রদান',\n 'ওয়্যারলেস নেটওয়ার্কের তথ্য আদানপ্রদানের পদ্ধতিকে প্রযুক্তির ভাষায় ওয়্যারলেস ফিডেলিটি wireless fidelity সংক্ষেপে ওয়াইফাই WiFi',\n 'ডাটাবেস সিস্টেমের অবিচ্ছেদ্য অংশ পুনরুদ্ধার স্কিম ডাটাবেসকে পূর্বে বিদ্যমান সামঞ্জস্যপূর্ণ অবস্থায় পুনরুদ্ধার',\n 'ইন্টারভিউ প্যাটার্ন আলোচনার বিষয়াদি পূর্ব নির্ধারিত',\n 'সকল কমান্ড সাধারণত দুইভাবে বাস্তবায়ন',\n 'যাক Applicationএ threads রয়েছে Single core সিস্টেমের সকল Threads একসাথে পারবে একটার অন্যটি execute',\n 'প্রথাগত সফটওয়্যার প্রকৌশল উপাদানকে এক্সট্রিম অর্থাৎ চূড়ান্ত পর্যায়ে নেয়া হয়েছে এক্সট্রিম প্রোগ্রামিং সফটওয়্যার ডেভেলপমেন্টের ধারা কর্মীদের অধিক মানসম্পন্ন সফটওয়্যার উৎপাদনশীলতার উৎপাদনে উৎসাহিত',\n 'ধরনের ডাটাবেস সিস্টেমের নিরাপত্তা সবচেয়ে হয়ে',\n 'অর্থাৎ নিয়মের কারণে ততোধিক রিলেশনশীপের টেবিলের মধ্যকার রেকর্ডসমূহ যৌগপদিকরণ অবস্থায় অবস্থান রেফারেন্সিয়াল ইস্ট্রিগ্রিটি রেফারেন্সিয়াল ইন্টিগ্রিটি কন্সট্রেইন্ট',\n 'বেতার যোগাযোগ ব্যবস্থা প্রায়ই ট্রান্সমিশন চ্যানেলের বায়ুমণ্ডল',\n 'সকল টপোলজি প্রাপ্ত সুবিধাদি',\n 'হাফডুপ্লেক্স Half Duplex দ্বিমুখী যোগাযোগ ব্যবস্থা দুইপ্রান্তই ডাটা ট্রান্সমিট রিসিভ একসাথে',\n 'সিস্টেমে প্রবেশ প্রশস্ত শব্দের উত্সগুলির প্রভাবকে হ্রাস সময় প্রাপ্ত সংকেতের শক্তি প্রধান গুরুত্বপূর্ণ',\n 'ডাটাবেস ডিজাইনে মূলত ডাটাবেস স্কিমার ডিজাইন জড়িত',\n 'অ্যাপ্লিকেশন সফ্টওয়্যার স্বতন্ত্র প্রোগ্রাম নির্দিষ্ট ব্যবসার প্রয়োজন সমাধান এলাকার অ্যাপ্লিকেশনগুলি এমনভাবে ব্যবসা প্রযুক্তিগত ডেটা প্রক্রিয়া ব্যবসায়িক ক্রিয়াকলাপ ব্যবস্থাপনাপ্রযুক্তিগত সিদ্ধান্ত সুবিধা',\n 'পরিবারের কথা ভেবে সম্মান হারানোর ভয়ে চুপচাপ সরে চেপে',\n 'অর্থাৎ ডাটাবেস অ্যাডমিনিস্ট্রেটর ডাটাবেসের অংশটুকু এডিট ভিউ ক্ষমতা দিবেন অনুযায়ী ডাটাবেস ব্যবস্থাপক প্রয়োজনীয় ব্যবস্থা গ্রহণ',\n 'হ্যাশিং পর্যায়ক্রমিক Password শব্দটির হ্যাশ fccbaadddebcf password শব্দটির হ্যাস cabaaceeafbec',\n 'স্থানীয় লেনদেন শুধুমাত্র নোড ডেটা অ্যাক্সেস লেনদেন',\n 'অপারেটিং সিস্টেম ডাটাটি পড়বে সর্বশেষ পর্যায়ে এপ্লিকেশন ডেটার অপেক্ষা পাঠিয়ে দিবে',\n 'দশকে সাইফারের মূল দৈর্ঘ্য সম্পর্কে জনসাধারণের আলোচনা',\n 'User ইচ্ছে করলেই সরাসরি Input output deviceসমূহের তথ্য আদানপ্রদান পারত',\n 'সিম্পল এনক্রিপশন পদ্ধতিতে প্রথমে database অক্ষরে বিভক্ত',\n 'সফটওয়্যার ডিজাইন সফটওয়্যার ডিজাইনাররা প্রকার ডিজাইন টুলস',\n 'গুরুত্বপূর্ণ বিষয় অন্তনিহিত প্রযুক্তি পরিবর্তন দ্রুত সম্পাদিত প্রোডাক্টের অভিজ্ঞতা পুরোপুরি প্রোডাক্টে প্রয়োগ যায়',\n 'সাইবার সিকিউরিটি তথ্য প্রযুক্তির গুরুত্বপূর্ণ ভূমিকা পালন',\n 'অন্যান্য আধুনিক সিস্টেম ডাটাবেসের সফ্টওয়্যারটিকে অবশ্যই প্রসারিত',\n 'নেটওয়্যারের গেটওয়ে সার্ভিস সিস্টেমে যোগ',\n 'Process তখনই suspended OS systemএ process রয়েছে systemএর load কমানোর process suspended',\n 'রম মেমরি ROM Memory স্থায়ী মেমরি মেমরি শুধুমাত্র ডাটা পড়া যায়',\n 'প্রত্যেক ইটারেশন এক তিন সপ্তাহ মেয়াদের',\n 'রিকভারি সফটওয়্যার লোকেশন অনুমান হার্ডডিস্ক ক্রাশ অপারেটিং সিস্টেম ক্রাশ ফিজিক্যাল সমস্যার কারনে ডাটা লস প্রকার ডাটা রিকভারি টুলস কৌশল ডাটা রিকভারি বিশেষজ্ঞ ডাটা রিকভারি করানোই সবচেয়ে ভালো পন্থা',\n 'ধারণাগুলি অনুসরণ বিভাগগুলিতে বিবেচনা',\n 'নেটওয়ার্কসমূহের প্রোটোকলগুলো সম্পূর্ণ ভিন্ন রকমের রাউটারের চেয়েও অধিভ শক্তিশালী বুদ্ধিমান ডিভাইসের প্রয়োজন',\n 'ইনসার্ট স্টেটমেন্ট Insert Statement ডাটাবেসের টেবিলে সরাসরি টাইপ ডাটা ইনপুট INSERT স্টেটমেন্ট ব্যবহৃত INSERT INTO ব্যবহৃত',\n 'MSDOS সিস্টেমের interfaces Level of functionality ভালোভাবে আলাদা নি',\n 'এমনকি ধরনের মেমোরি ডিভাইস Memory Device আংশিক লোকেশন Location খালি সত্ত্বেও ডাটা লেখা Data Write সম্ভব',\n 'ডিজিটাল যোগাযোগ ব্যবস্থার কর্মক্ষমতার উন্নতি কোডিং অর্জন',\n 'ডিকশনারির সাহায্যে বিলিয়ন পাসওয়ার্ড ম্যাচ সেকেন্ডে',\n 'যুক্তরাষ্ট্র ভিত্তিক কেন্দ্রীয় সংস্থাটি ইন্টারনেট নেটওয়ার্ক ইনফরমেশন সেন্টার InterNIC',\n 'ননরাউট্যাবল প্রোটোকলের সিগন্যালকে এক সেগমেন্ট সেগমেন্টে পাঠাতে ব্রিজ ব্যবহৃত',\n 'সিস্টেমকে অনেকভাবে moduler যায়',\n 'Public key encryption এটিতে Public private key encryption',\n 'সফটওয়্যার প্রজেক্ট ব্যবস্থাপনা নির্ধারিত সময়ের সফটওয়্যার প্রোডাক্ট পাওয়ার নির্দিষ্ট',\n 'কম্পিউটার অপারেটিং সিস্টেম ফায়ারওয়াল এক ধরনের প্রতিরোধক ব্যবস্থা ইন্টারনেট সময় অনাকাঙ্ক্ষিত সফটওয়্যার ম্যালওয়ার ইত্যাদিকে কম্পিউটারে অনুমতিতে প্রবেশ বাধা প্রদান',\n 'অপটিক্যাল ফাইবারের ফিগার অভ মেরিট Figure of merit',\n 'ট্রানজ্যাকশন প্রসেস চলার সময় সিস্টেম ক্র্যাশজনিত কারণে নিরাপত্তা লংঘন',\n 'নিরাপত্তা পেশাদারদের প্রথমতঃ গুরুত্বপূর্ণ সরঞ্জাম প্রামাণীকরণ পদ্ধতি প্রযুক্তিগুলি',\n 'ফাইবার ক্যাবল বজ্রপাত ক্রসটক ইলেকট্রোম্যাগনেটিক রেডিয়েশনের প্রভাবমুক্ত',\n 'ধরনের ম্যালওয়্যারের কয়েকটি উল্লেখযোগ্য ম্যালওয়্যার সম্পর্কে আলোচনা',\n 'এজন্য অপরিচিত মেইল ওপেন বিরত থাকতে',\n 'Filter evasion ফিশাররা টেক্সটের ইমেজ লিঙ্ক হিসেবে অ্যান্টি ফিশিং ফিল্টারের পড়ে',\n 'সধারণভাবে ধরনের Parallelism রয়েছে',\n 'ব্লক সাইফারের বেসিক ডিজাইন আইডিয়া কনফিউশন ডিফিউশন আধুনিক ব্লক সাইফারের গুরুত্বপূর্ণ বৈশিষ্ট্য',\n 'AES উন্মুক্ত প্রতিযোগিতার ফলাফল নির্বাচনের শেষ পর্যায়ে প্রক্রিয়া অন্যান্য চারটি চূড়ান্ত অ্যালগরিদম',\n 'চ্যানেল নয়েজ সোর্স Channel and Noise Source চ্যানেল শব্দটি মিডিয়াকে বুঝানো মধ্যদিয়ে ম্যাসেজ ট্রান্সমিটার রিসিভারে গমন রেডিও ওয়্যার ফাইবার অপটিক চ্যানেল',\n 'ব্ল্যাক হ্যাট হ্যাকার Black Hat Hacker ধরনের হ্যাকাররা সবচেয়ে ভয়ংকর প্রকৃতির হ্যাকার',\n 'এছাড়া হার্ডওয়্যার ফায়ারওয়াল সফটওয়্যার ফায়ারওয়ালের চেয়ে খরচ পড়ে',\n 'নেটওয়ার্কে ফাইল রিসোর্স শেয়ারিংএর পাশাপাশি প্রতিটি ওয়ার্কস্টেশন কম্পিউটার শেয়ারিং দিবে দিবে নির্ধারণ',\n 'কম্পিউটার আর্কিটেকচার দিকসমূহ নেটওয়ার্কিং প্যারালেলিজম Parallelism ডিস্ট্রিবিউশন Distribution',\n 'অন্যান্য প্রোগ্রামগুলিকে পরিষেবা লিখিত প্রোগ্রামগুলির সংগ্রহ সিস্টেম সফ্টওয়্যার কম্পাইলার এডিটর ফাইল ম্যানেজমেন্ট ইউটিলিটি প্রক্রিয়াগুলি জটিল তথ্য কাঠামো নির্ধারণ',\n 'ব্রুট ফোর্স অ্যাটাক অনুমান নির্ভর প্রক্রিয়া',\n 'একজনের প্রাইভেসিতে হাত দেয়ার অধিকার আরেকজনের',\n 'সিমেট্রিক ক্রিপ্টো অ্যালগরিদমগুলির দৈর্ঘ্যের আলোচনা শুধুমাত্র তখনই প্রাসঙ্গিক ব্রুটফোর্স অ্যাটাক সবচেয়ে পরিচিত আক্রমণ',\n 'সিস্টেমে Fault Failure সংঘটিত',\n 'পূর্ণ সফটওয়্যার রিকয়্যারমেন্ট স্পেসিফিকেশন অবশ্যই নির্ভরযোগ্য সূত্রসম্পন্ন Credible source হওয়া প্রয়োজন',\n 'ড্রাইভের পার্টিশন টেবিল করাপ্টেড হয়ে যায় সেক্ষেত্রে ডাটা রিকভারি একটু জটিল কষ্ট সাধ্য ব্যাপার হয়ে পড়ে',\n 'হ্যাকাররা কারণে হ্যাকিং',\n 'সফটওয়্যার ইঞ্জিনিয়ারিং অনুশীলনের সারমর্ম সমস্যাটি বুঝুন যোগাযোগ বিশ্লেষণ সমাধানের পরিকল্পনা করুন মডেলিং সফ্টওয়্যার ডিজাইন পরিকল্পনাটি সম্পাদন করুন কোড তৈরি করুন নির্ভুলতার ফলাফল পরীক্ষা করুন পরীক্ষা গুণমানের নিশ্চয়তা',\n 'স্থির অবস্থান সাধারণত ধারণ প্রারম্ভিক ঠিকানা বাধার পরিষেবার রুটিন অবস্থিত',\n 'যৌক্তিকভাবে শ্রেণিবদ্ধ উপাদানসমূহকে মডিউলে একত্রিত এটিকে যৌক্তিক সমন্বয়',\n 'পূর্ণ সফটওয়্যার রিকয়্যারমেন্ট স্পেসিফিকেশন অবশ্যই অগ্রাধিকারযোগ্য Prioritized হওয়া প্রয়োজন',\n 'স্ট্রং এনটিটি সেট রিলেশনশিপ সেট হিসেবে সিঙ্গেল ডায়মন্ড ব্যবহৃত',\n 'DML শর্ত সাপেক্ষে কুয়েরী যায়',\n 'ফাইবার অপটিক ক্যাবলে উপকারিতা সত্ত্বেও শুধুমাত্র Backbone নেটওয়ার্কে Fiber optic ক্যাবলের যায় বিস্তৃত Bandwidth cost effective',\n 'এছাড়া স্ট্রাকচার প্রোগ্রামিং প্রোগ্রামারকে কোডিং টাইপ কমাতে কোডটি সঠিকভাবে সংগঠন সহায়তা',\n 'প্রয়োগে বাইডিরেকশনাল উচ্চতর ডাটা ব্যান্ডওয়াইডথের দরকার IRDA সিস্টেম ডিজাইন অবলম্বন',\n 'সফটওয়্যার সিস্টেমে Error থাকলে Fault সংঘটিত',\n 'ক্লায়েন্ট কম্পিউটারেগুলো প্রয়োজন অনুযায়ী সার্ভার কম্পিউটারে সংরক্ষিত ডাটাবেস শেয়ার',\n 'GO Statement Update নামের File নির্বাহ',\n 'ধরনের ডাটাবেস সিস্টেম আর্কিটেকচারে নেটওয়ার্ক পরিচালনা ঝামেলা Client কম্পিউটারকে ব্যবহৃত userদের প্রভাব বিস্তার',\n 'ব্রডব্যান্ড সিগন্যাল এনালগ সিগনাল ব্যবাহর',\n 'পাসওয়ার্ড কীরকম একান্ত ব্যক্তিগত বিষয় পাসওয়ার্ড চুরির হাত বাঁচাতে কয়েকটি বিষয়ের লক্ষ্য রাখতে',\n 'সর্বপ্রথমেই database security নিরাপত্তা নিশ্চিত',\n 'ততোধিক কম্পিউটার সময়ে ডাটা পাঠাতে চাইলে সংঘর্ষ Collision বাধে',\n 'Offer informative ফিডব্যাক প্রতিটি অপারেটর কর্মের সিস্টেম ফিডব্যাক',\n 'ধরনের ডাটাবেস সিস্টেম আর্কিটেকচারে client সংখ্যার ভিত্তি ক্ষুদ্র পরিসর বৃহৎ পরিসরের ডাটাবেস সিস্টেম বিস্তৃত',\n 'সাধারণভাবে নেটওয়ার্ক ততোধিক সিস্টেমের কমিউনিকেশন পাথ',\n 'কম্পিউটার সিস্টেমকে উপযোগী Usable Computer hardwareসমূহকে কার্যদক্ষ Operating systemএর মূল উদ্দেশ্য',\n 'ডাটাবেস ম্যানেজমেন্ট সিস্টেম প্রধান কারণগুলির উভয় ডেটার কেন্দ্রীয় নিয়ন্ত্রণ প্রোগ্রাম তথ্য অ্যাক্সেস',\n 'সফটওয়্যারের কার্যাদি সম্পাদনে ইউজার কিভাবে রিয়েক্ট সিস্টেম ইনপুটে কিভাবে প্রতিক্রিয়া জানার আলফা টেস্টের',\n 'Database বাবহারকারীদেরকে authenticate অনাকাঙ্ক্ষিত ব্যক্তি database প্রবেশ',\n 'পূর্ণ সফটওয়্যার রিকয়্যারমেন্ট স্পেসিফিকেশন অবশ্যই অনুসরণযোগ্য Traceable হওয়া প্রয়োজন',\n 'সফল সফ্টওয়্যার প্রকৌশলের ডিজাইন গুরুত্বপূর্ণ',\n 'এজন্য সবচেয়ে উপরের লেভেলটি শেয়ার্ড নাথিং নিচের লেভেলের প্রতিটি নোড শেয়ার্ড মেমোরী',\n 'প্রকৃতপক্ষে অপারেটিং সিস্টেম একাধিক ভাষায় লিখা',\n 'ইনসুলেটর হিসেবে সলিড Teflon PTFEও ব্যবহৃত',\n 'ইনফ্রারেড লাইট সহযোগে কমান্ড রিসিভারে সঠিকভাবে পৌঁছায়',\n 'শুধুমাত্র ক্লাউড সার্ভিসে সীমাবদ্ধ স্থানীয়ভাবে পোর্টেবল হার্ডড্রাইভ',\n 'রিলোকেট্যাবল ডাইনামিক্যালি রিলোকেট্যাবল পার্টিশনড এলোকেশন পদ্ধতিতে জব সম্পূর্ণ সিস্টেম অন্যান্য জব গুলোকে রিলোকেট প্রয়োজন',\n 'টেকনিক কৌশল অবলম্বন ডাটা ইন্টারনালী আরেকটি ডাটার ইন্টাররিলেশনশিপ Interrelationship তৈরি',\n 'ওয়েবসাইট হ্যাকিং বুঝায়',\n 'কাজের কম্পিউটারে কাগজের রেকর্ডের ডেটা অ্যাক্সেস সম্ভবত সুবিধা তথ্য অপসারণযোগ্য ডিস্ক ল্যাপটপ সার্ভার ব্যক্তিগত ডিভাইস অন্যান্য স্থানগুলোতেও সংরক্ষণ যায়',\n 'প্রত্যেক সেগমেন্ট এরই নিজস্ব অধিকার সংশ্লিষ্ট',\n 'অবজেক্ট ওরিয়েন্টেড ডিজাইন বেনিফিট সফটওয়্যার ফাস্টার ডেভেলপমেন্ট সাহায্য',\n 'ক্লায়েন্ট আকাঙ্খিত প্রডাক্টটির ডেভেলপ প্রতিষ্ঠানের আসে প্রতিষ্ঠানের সফটওয়্যার বিষয়গুলো ফোকাস অপারেশন সম্পাদিত ধারণা প্রদান',\n 'সিস্টেম ফাইলের ধরন প্রকার নির্দেশ এক্সটেনশন ফাইলে অপারেশন',\n 'ব্রিজ নেটওয়ার্ক অংশকে সংযুক্ত করলেও রাউটারের পার্থক্য রাউটারের পাশের নেটওয়ার্ক পৃথক পৃথক নেটওয়ার্ক হিসেবে বিবেচিত',\n 'সবচেয়ে সেকেন্ডারিস্টোরেজ ডিভাইস চৌম্বকীয় ডিস্ক প্রোগ্রাম ডেটা উভয়ের স্টোরেজ প্রদান',\n 'অবশেষে অপারেটিং সিস্টেমের অনুমতি অন্তর্ভুক্ত ফাইল মালিকানার ভিত্তি ফাইল ডিরেক্টরিতে অ্যাক্সেসের অনুমতি অস্বীকার ব্যবস্থাপনা',\n 'SRS কারিগরি বিষয়গুলো স্ট্রাকচার লাংগুয়েজের প্রতিষ্ঠানে উপস্থাপন',\n 'প্রটোকল প্রেরক প্রান্তে সেগমেন্টেশন গ্রাহক প্রান্তে রিএসেম্বলিংএর',\n 'ফিশিং ইমেইলের ফিশিং',\n 'c কোণের কম কোণে আলো আপতিত ক্ল্যাডিং শোষিত হয়ে যায়',\n 'সফটওয়্যার টেস্টিং প্রক্রিয়ায় ভেলিডেশন ভেরিফিকেশন সম্পাদন',\n 'ক্লায়েন্টসার্ভার নেটওয়ার্কে ব্যবহৃত সার্ভারের উচ্চগতির প্রসেসর অধিক ধারণক্ষমতার হার্ড ডিস্ক প্রচুর মেমরির প্রয়োজন',\n 'সাইবার নৈতিকতা বিরোধী আলোচনা কর',\n 'সফটওয়্যার ইঞ্জিনিয়ারিংয়ের ইতিহাসে মৌলিক সফ্টওয়্যার ডিজাইন ধারণা বিকশিত',\n 'IEEE পর্যায়ক্রমিক বাস্তবায়ন প্রক্রিয়ার কার্যকলাপসমূহ উপস্থাপনের ফ্রেমওয়ার্ক প্রদান',\n 'ফ্রিকুয়েন্সি পিরিয়ডের বিপরীত মান',\n 'DDOS Attack System Attack মূল উদ্দেশ্য ওয়েব সার্ভার Crash ডাউন যেটি যেকোন সময় যেকোন ওয়েবসাইটে পাওয়া যায়',\n 'প্রয়োজনীয় তথ্যাদি সংগ্রহের ডেভেলপমেন্ট টিম সম্ভাব্যতা যাচাই ধাপে সফটওয়্যার প্রক্রিয়ায় রূপান্তরের খসড়া পরিকল্পনা দাড় করায়',\n ...]"
          },
          "metadata": {}
        }
      ]
    },
    {
      "cell_type": "code",
      "source": [
        "train_data['enc_label'].value_counts()"
      ],
      "metadata": {
        "execution": {
          "iopub.status.busy": "2024-05-13T17:10:40.910437Z",
          "iopub.execute_input": "2024-05-13T17:10:40.911370Z",
          "iopub.status.idle": "2024-05-13T17:10:40.920886Z",
          "shell.execute_reply.started": "2024-05-13T17:10:40.911331Z",
          "shell.execute_reply": "2024-05-13T17:10:40.919912Z"
        },
        "trusted": true,
        "id": "kq8njqW4NLMM",
        "outputId": "43441d9e-f762-4b33-d7e9-a75543a0af06"
      },
      "execution_count": null,
      "outputs": [
        {
          "execution_count": 23,
          "output_type": "execute_result",
          "data": {
            "text/plain": "3    1122\n2    1084\n0    1004\n1     973\n4     927\nName: enc_label, dtype: int64"
          },
          "metadata": {}
        }
      ]
    },
    {
      "cell_type": "code",
      "source": [
        "val_data['enc_label'].value_counts()"
      ],
      "metadata": {
        "execution": {
          "iopub.status.busy": "2024-05-13T17:10:47.798126Z",
          "iopub.execute_input": "2024-05-13T17:10:47.798863Z",
          "iopub.status.idle": "2024-05-13T17:10:47.806566Z",
          "shell.execute_reply.started": "2024-05-13T17:10:47.798828Z",
          "shell.execute_reply": "2024-05-13T17:10:47.805554Z"
        },
        "trusted": true,
        "id": "80XiTRQJNLMM",
        "outputId": "11dbc697-1fdd-4fd1-891f-2fdbff69d095"
      },
      "execution_count": null,
      "outputs": [
        {
          "execution_count": 24,
          "output_type": "execute_result",
          "data": {
            "text/plain": "2    228\n0    225\n3    219\n1    212\n4    211\nName: enc_label, dtype: int64"
          },
          "metadata": {}
        }
      ]
    },
    {
      "cell_type": "code",
      "source": [
        "import pandas as pd\n",
        "from sklearn.preprocessing import OneHotEncoder"
      ],
      "metadata": {
        "execution": {
          "iopub.status.busy": "2024-05-13T17:10:58.414807Z",
          "iopub.execute_input": "2024-05-13T17:10:58.415452Z",
          "iopub.status.idle": "2024-05-13T17:10:58.419895Z",
          "shell.execute_reply.started": "2024-05-13T17:10:58.415418Z",
          "shell.execute_reply": "2024-05-13T17:10:58.418903Z"
        },
        "trusted": true,
        "id": "efOiopJNNLMM"
      },
      "execution_count": null,
      "outputs": []
    },
    {
      "cell_type": "code",
      "source": [
        "train_data = train_data.rename(columns={'label_Software Engineering':'Software Engineering','label_DBMS':'DBMS',\n",
        "                                        'label_Data Communication':'Data Communication','label_Cyber Security':'Cyber Security','label_Operating System':'Operating System'})\n",
        "\n",
        "train_data"
      ],
      "metadata": {
        "execution": {
          "iopub.status.busy": "2024-05-13T17:11:01.778158Z",
          "iopub.execute_input": "2024-05-13T17:11:01.779287Z",
          "iopub.status.idle": "2024-05-13T17:11:01.795643Z",
          "shell.execute_reply.started": "2024-05-13T17:11:01.779246Z",
          "shell.execute_reply": "2024-05-13T17:11:01.794568Z"
        },
        "trusted": true,
        "id": "o3vEhLykNLMM",
        "outputId": "c6c1a630-68b3-439e-da2c-df3b534f35e3"
      },
      "execution_count": null,
      "outputs": [
        {
          "execution_count": 28,
          "output_type": "execute_result",
          "data": {
            "text/plain": "                                                   text                 label  \\\n4041  এই ধরনের পরিস্থিতি মোকাবেলা করতে দরকার হয় ইন্ট...        Cyber Security   \n4258  কম্পিউটার ভাইরাস মূলত প্রোগ্রামারদের ডেভেলপ কর...        Cyber Security   \n1748         তাছাড়া এটি হতে ভাটা দ্রুত পড়া (Read) যায়।                   DBMS   \n6581  প্রযুক্তির অনুমতি হিসাবে, প্রক্রিয়াকরণ ট্রান্...    Data Communication   \n6911  একটি ফাইল মুছে ফেলার জন্য, আমরা নামযুক্ত ফাইলে...      Operating System   \n...                                                 ...                   ...   \n5191  স্বয়ংক্রিয়ভাবে এক জব থেকে অন্য জবে যাওয়ার উপর ...      Operating System   \n5226  সার্ভার প্রথমে ক্লায়েন্টের নিকট হতে নির্দিষ্ট ...      Operating System   \n5390  যদি কোনো System-এ Deadlock prevention বা Deadl...      Operating System   \n860   কম্পিউটার প্রোগ্রামিং ভাষা প্রয়োগের মাধ্যমে সফ...  Software Engineering   \n7270  সমান্তরালতা অধ্যয়নের দুটি গুরুত্বপূর্ণ বিষয় ...                  DBMS   \n\n                                                cleaned  enc_label  \n4041  ধরনের পরিস্থিতি মোকাবেলা দরকার ইন্টেলেকচুয়াল প...          3  \n4258  কম্পিউটার ভাইরাস মূলত প্রোগ্রামারদের ডেভেলপ ক্...          3  \n1748                     তাছাড়া ভাটা দ্রুত পড়া Read যায়          1  \n6581  প্রযুক্তির অনুমতি প্রক্রিয়াকরণ ট্রান্সপন্ডার ...          2  \n6911  ফাইল মুছে ফেলার নামযুক্ত ফাইলের ডিরেক্টরি অনুস...          4  \n...                                                 ...        ...  \n5191  স্বয়ংক্রিয়ভাবে এক জব জবে যাওয়ার ভিত্তি অপারেটি...          4  \n5226  সার্ভার প্রথমে ক্লায়েন্টের নিকট নির্দিষ্ট Part...          4  \n5390  Systemএ Deadlock prevention Deadlock avoidance...          4  \n860   কম্পিউটার প্রোগ্রামিং ভাষা প্রয়োগের সফটওয়্যার ...          0  \n7270  সমান্তরালতা অধ্যয়নের গুরুত্বপূর্ণ বিষয় গতি স...          1  \n\n[5110 rows x 4 columns]",
            "text/html": "<div>\n<style scoped>\n    .dataframe tbody tr th:only-of-type {\n        vertical-align: middle;\n    }\n\n    .dataframe tbody tr th {\n        vertical-align: top;\n    }\n\n    .dataframe thead th {\n        text-align: right;\n    }\n</style>\n<table border=\"1\" class=\"dataframe\">\n  <thead>\n    <tr style=\"text-align: right;\">\n      <th></th>\n      <th>text</th>\n      <th>label</th>\n      <th>cleaned</th>\n      <th>enc_label</th>\n    </tr>\n  </thead>\n  <tbody>\n    <tr>\n      <th>4041</th>\n      <td>এই ধরনের পরিস্থিতি মোকাবেলা করতে দরকার হয় ইন্ট...</td>\n      <td>Cyber Security</td>\n      <td>ধরনের পরিস্থিতি মোকাবেলা দরকার ইন্টেলেকচুয়াল প...</td>\n      <td>3</td>\n    </tr>\n    <tr>\n      <th>4258</th>\n      <td>কম্পিউটার ভাইরাস মূলত প্রোগ্রামারদের ডেভেলপ কর...</td>\n      <td>Cyber Security</td>\n      <td>কম্পিউটার ভাইরাস মূলত প্রোগ্রামারদের ডেভেলপ ক্...</td>\n      <td>3</td>\n    </tr>\n    <tr>\n      <th>1748</th>\n      <td>তাছাড়া এটি হতে ভাটা দ্রুত পড়া (Read) যায়।</td>\n      <td>DBMS</td>\n      <td>তাছাড়া ভাটা দ্রুত পড়া Read যায়</td>\n      <td>1</td>\n    </tr>\n    <tr>\n      <th>6581</th>\n      <td>প্রযুক্তির অনুমতি হিসাবে, প্রক্রিয়াকরণ ট্রান্...</td>\n      <td>Data Communication</td>\n      <td>প্রযুক্তির অনুমতি প্রক্রিয়াকরণ ট্রান্সপন্ডার ...</td>\n      <td>2</td>\n    </tr>\n    <tr>\n      <th>6911</th>\n      <td>একটি ফাইল মুছে ফেলার জন্য, আমরা নামযুক্ত ফাইলে...</td>\n      <td>Operating System</td>\n      <td>ফাইল মুছে ফেলার নামযুক্ত ফাইলের ডিরেক্টরি অনুস...</td>\n      <td>4</td>\n    </tr>\n    <tr>\n      <th>...</th>\n      <td>...</td>\n      <td>...</td>\n      <td>...</td>\n      <td>...</td>\n    </tr>\n    <tr>\n      <th>5191</th>\n      <td>স্বয়ংক্রিয়ভাবে এক জব থেকে অন্য জবে যাওয়ার উপর ...</td>\n      <td>Operating System</td>\n      <td>স্বয়ংক্রিয়ভাবে এক জব জবে যাওয়ার ভিত্তি অপারেটি...</td>\n      <td>4</td>\n    </tr>\n    <tr>\n      <th>5226</th>\n      <td>সার্ভার প্রথমে ক্লায়েন্টের নিকট হতে নির্দিষ্ট ...</td>\n      <td>Operating System</td>\n      <td>সার্ভার প্রথমে ক্লায়েন্টের নিকট নির্দিষ্ট Part...</td>\n      <td>4</td>\n    </tr>\n    <tr>\n      <th>5390</th>\n      <td>যদি কোনো System-এ Deadlock prevention বা Deadl...</td>\n      <td>Operating System</td>\n      <td>Systemএ Deadlock prevention Deadlock avoidance...</td>\n      <td>4</td>\n    </tr>\n    <tr>\n      <th>860</th>\n      <td>কম্পিউটার প্রোগ্রামিং ভাষা প্রয়োগের মাধ্যমে সফ...</td>\n      <td>Software Engineering</td>\n      <td>কম্পিউটার প্রোগ্রামিং ভাষা প্রয়োগের সফটওয়্যার ...</td>\n      <td>0</td>\n    </tr>\n    <tr>\n      <th>7270</th>\n      <td>সমান্তরালতা অধ্যয়নের দুটি গুরুত্বপূর্ণ বিষয় ...</td>\n      <td>DBMS</td>\n      <td>সমান্তরালতা অধ্যয়নের গুরুত্বপূর্ণ বিষয় গতি স...</td>\n      <td>1</td>\n    </tr>\n  </tbody>\n</table>\n<p>5110 rows × 4 columns</p>\n</div>"
          },
          "metadata": {}
        }
      ]
    },
    {
      "cell_type": "code",
      "source": [
        "def char_length(row):\n",
        "    return len(row.split())"
      ],
      "metadata": {
        "execution": {
          "iopub.status.busy": "2024-05-13T17:11:06.197169Z",
          "iopub.execute_input": "2024-05-13T17:11:06.197878Z",
          "iopub.status.idle": "2024-05-13T17:11:06.202417Z",
          "shell.execute_reply.started": "2024-05-13T17:11:06.197843Z",
          "shell.execute_reply": "2024-05-13T17:11:06.201381Z"
        },
        "trusted": true,
        "id": "mQITjmtrNLMN"
      },
      "execution_count": null,
      "outputs": []
    },
    {
      "cell_type": "code",
      "source": [
        "lables = ['Software Engineering' 'DBMS' 'Data Communication' 'Cyber Security'\n",
        " 'Operating System']\n",
        "\n",
        "# Count number of unique words in each set\n",
        "def dataset_statistics(dataset):\n",
        "  for l in lables:\n",
        "    word_list = [word.strip() for t in list(dataset[dataset[l]==1.0].cleaned) for word in t.strip().split()]\n",
        "    print(f\"\\nClass Name:--> {l} \")\n",
        "    print(\"Number of Words:{}\".format(len(word_list)))\n",
        "    print(\"Number of Unique Words:{}\".format(len(np.unique(word_list))))\n",
        "    print(\"Maximum post length: {}\".format(max(dataset[dataset[l]==1.0].cleaned.apply(char_length))))\n",
        "    print(\"Average Words in texts: {}\".format(np.mean(dataset[dataset[l]==1.0].cleaned.apply(char_length))))"
      ],
      "metadata": {
        "execution": {
          "iopub.status.busy": "2024-05-13T17:11:09.404731Z",
          "iopub.execute_input": "2024-05-13T17:11:09.405096Z",
          "iopub.status.idle": "2024-05-13T17:11:09.413439Z",
          "shell.execute_reply.started": "2024-05-13T17:11:09.405068Z",
          "shell.execute_reply": "2024-05-13T17:11:09.412294Z"
        },
        "trusted": true,
        "id": "4aUk5s72NLMN"
      },
      "execution_count": null,
      "outputs": []
    },
    {
      "cell_type": "code",
      "source": [
        "# Class Distribution\n",
        "class_distribution = train_data['label'].value_counts()\n",
        "\n",
        "# Text Length Distribution\n",
        "train_data['text_length'] = train_data['cleaned'].apply(lambda x: len(x.split()))\n",
        "text_length_stats = train_data['text_length'].describe()\n",
        "\n",
        "print(\"Class Distribution:\")\n",
        "print(class_distribution)\n",
        "print(\"\\nText Length Distribution:\")\n",
        "print(text_length_stats)"
      ],
      "metadata": {
        "execution": {
          "iopub.status.busy": "2024-05-13T17:11:12.813632Z",
          "iopub.execute_input": "2024-05-13T17:11:12.814016Z",
          "iopub.status.idle": "2024-05-13T17:11:12.837303Z",
          "shell.execute_reply.started": "2024-05-13T17:11:12.813984Z",
          "shell.execute_reply": "2024-05-13T17:11:12.836281Z"
        },
        "trusted": true,
        "id": "cQw-g_U4NLMN",
        "outputId": "43580fbc-480f-451a-abd8-db837c8dacc6"
      },
      "execution_count": null,
      "outputs": [
        {
          "name": "stdout",
          "text": "Class Distribution:\nCyber Security          1122\nData Communication      1084\nSoftware Engineering    1004\nDBMS                     973\nOperating System         927\nName: label, dtype: int64\n\nText Length Distribution:\ncount    5110.000000\nmean        9.935225\nstd         4.734930\nmin         1.000000\n25%         7.000000\n50%         9.000000\n75%        12.000000\nmax        59.000000\nName: text_length, dtype: float64\n",
          "output_type": "stream"
        }
      ]
    },
    {
      "cell_type": "code",
      "source": [
        "class_statistics = {}\n",
        "\n",
        "# Iterate over each unique class\n",
        "for class_name in train_data['label'].unique():\n",
        "    # Filter the training data for the current class\n",
        "    class_data = train_data[train_data['label'] == class_name]\n",
        "\n",
        "    # Number of Words\n",
        "    total_words = class_data['cleaned'].apply(lambda x: len(x.split())).sum()\n",
        "\n",
        "    # Number of Unique Words\n",
        "    unique_words = len(set(\" \".join(class_data['cleaned']).split()))\n",
        "\n",
        "    # Maximum Post Length\n",
        "    max_length = class_data['cleaned'].apply(lambda x: len(x.split())).max()\n",
        "\n",
        "    # Average Words in Texts\n",
        "    average_length = class_data['cleaned'].apply(lambda x: len(x.split())).mean()\n",
        "\n",
        "    # Store the statistics for the current class\n",
        "    class_statistics[class_name] = {\n",
        "        'Number of Words': total_words,\n",
        "        'Number of Unique Words': unique_words,\n",
        "        'Maximum post length': max_length,\n",
        "        'Average Words in texts': average_length\n",
        "    }\n",
        "\n",
        "# Print the statistics for each class\n",
        "for class_name, stats in class_statistics.items():\n",
        "    print(\"Class Name:\", class_name)\n",
        "    for stat_name, value in stats.items():\n",
        "        print(f\"{stat_name}: {value}\")\n",
        "    print()\n"
      ],
      "metadata": {
        "execution": {
          "iopub.status.busy": "2024-05-13T17:11:16.407777Z",
          "iopub.execute_input": "2024-05-13T17:11:16.408124Z",
          "iopub.status.idle": "2024-05-13T17:11:16.469852Z",
          "shell.execute_reply.started": "2024-05-13T17:11:16.408098Z",
          "shell.execute_reply": "2024-05-13T17:11:16.468857Z"
        },
        "trusted": true,
        "id": "S_aGrV9hNLMN",
        "outputId": "f121f828-f0c0-47f3-a2c1-5c0210aaa871"
      },
      "execution_count": null,
      "outputs": [
        {
          "name": "stdout",
          "text": "Class Name: Cyber Security\nNumber of Words: 11055\nNumber of Unique Words: 3615\nMaximum post length: 59\nAverage Words in texts: 9.852941176470589\n\nClass Name: DBMS\nNumber of Words: 9610\nNumber of Unique Words: 2863\nMaximum post length: 38\nAverage Words in texts: 9.87667009249743\n\nClass Name: Data Communication\nNumber of Words: 10598\nNumber of Unique Words: 3532\nMaximum post length: 33\nAverage Words in texts: 9.776752767527675\n\nClass Name: Operating System\nNumber of Words: 8974\nNumber of Unique Words: 2990\nMaximum post length: 34\nAverage Words in texts: 9.680690399137001\n\nClass Name: Software Engineering\nNumber of Words: 10532\nNumber of Unique Words: 3112\nMaximum post length: 57\nAverage Words in texts: 10.49003984063745\n\n",
          "output_type": "stream"
        }
      ]
    },
    {
      "cell_type": "code",
      "source": [
        "!pip install ktrain"
      ],
      "metadata": {
        "execution": {
          "iopub.status.busy": "2024-05-13T17:11:21.745592Z",
          "iopub.execute_input": "2024-05-13T17:11:21.746655Z",
          "iopub.status.idle": "2024-05-13T17:11:58.453042Z",
          "shell.execute_reply.started": "2024-05-13T17:11:21.746616Z",
          "shell.execute_reply": "2024-05-13T17:11:58.451760Z"
        },
        "trusted": true,
        "id": "6ay8w9_mNLMN",
        "outputId": "0f2c2f5a-e315-4a84-d701-b461db3a5259"
      },
      "execution_count": null,
      "outputs": [
        {
          "name": "stdout",
          "text": "Collecting ktrain\n  Downloading ktrain-0.41.3.tar.gz (25.3 MB)\n\u001b[2K     \u001b[90m━━━━━━━━━━━━━━━━━━━━━━━━━━━━━━━━━━━━━━━━\u001b[0m \u001b[32m25.3/25.3 MB\u001b[0m \u001b[31m41.1 MB/s\u001b[0m eta \u001b[36m0:00:00\u001b[0m00:01\u001b[0m00:01\u001b[0m\n\u001b[?25h  Preparing metadata (setup.py) ... \u001b[?25ldone\n\u001b[?25hRequirement already satisfied: scikit-learn in /opt/conda/lib/python3.7/site-packages (from ktrain) (1.0.2)\nRequirement already satisfied: matplotlib>=3.0.0 in /opt/conda/lib/python3.7/site-packages (from ktrain) (3.5.3)\nRequirement already satisfied: pandas>=1.0.1 in /opt/conda/lib/python3.7/site-packages (from ktrain) (1.3.5)\nRequirement already satisfied: fastprogress>=0.1.21 in /opt/conda/lib/python3.7/site-packages (from ktrain) (1.0.3)\nRequirement already satisfied: requests in /opt/conda/lib/python3.7/site-packages (from ktrain) (2.28.1)\nRequirement already satisfied: joblib in /opt/conda/lib/python3.7/site-packages (from ktrain) (1.0.1)\nRequirement already satisfied: packaging in /opt/conda/lib/python3.7/site-packages (from ktrain) (22.0)\nCollecting langdetect\n  Downloading langdetect-1.0.9.tar.gz (981 kB)\n\u001b[2K     \u001b[90m━━━━━━━━━━━━━━━━━━━━━━━━━━━━━━━━━━━━━━\u001b[0m \u001b[32m981.5/981.5 kB\u001b[0m \u001b[31m51.4 MB/s\u001b[0m eta \u001b[36m0:00:00\u001b[0m\n\u001b[?25h  Preparing metadata (setup.py) ... \u001b[?25ldone\n\u001b[?25hRequirement already satisfied: jieba in /opt/conda/lib/python3.7/site-packages (from ktrain) (0.42.1)\nRequirement already satisfied: charset-normalizer in /opt/conda/lib/python3.7/site-packages (from ktrain) (2.1.0)\nRequirement already satisfied: chardet in /opt/conda/lib/python3.7/site-packages (from ktrain) (5.0.0)\nCollecting syntok>1.3.3\n  Downloading syntok-1.4.4-py3-none-any.whl (24 kB)\nCollecting tika\n  Downloading tika-2.6.0.tar.gz (27 kB)\n  Preparing metadata (setup.py) ... \u001b[?25ldone\n\u001b[?25hRequirement already satisfied: transformers in /opt/conda/lib/python3.7/site-packages (from ktrain) (4.20.1)\nRequirement already satisfied: sentencepiece in /opt/conda/lib/python3.7/site-packages (from ktrain) (0.1.97)\nCollecting keras_bert>=0.86.0\n  Downloading keras-bert-0.89.0.tar.gz (25 kB)\n  Preparing metadata (setup.py) ... \u001b[?25ldone\n\u001b[?25hCollecting whoosh\n  Downloading Whoosh-2.7.4-py2.py3-none-any.whl (468 kB)\n\u001b[2K     \u001b[90m━━━━━━━━━━━━━━━━━━━━━━━━━━━━━━━━━━━━━━\u001b[0m \u001b[32m468.8/468.8 kB\u001b[0m \u001b[31m39.0 MB/s\u001b[0m eta \u001b[36m0:00:00\u001b[0m\n\u001b[?25hRequirement already satisfied: numpy in /opt/conda/lib/python3.7/site-packages (from keras_bert>=0.86.0->ktrain) (1.21.6)\nCollecting keras-transformer==0.40.0\n  Downloading keras-transformer-0.40.0.tar.gz (9.7 kB)\n  Preparing metadata (setup.py) ... \u001b[?25ldone\n\u001b[?25hCollecting keras-pos-embd==0.13.0\n  Downloading keras-pos-embd-0.13.0.tar.gz (5.6 kB)\n  Preparing metadata (setup.py) ... \u001b[?25ldone\n\u001b[?25hCollecting keras-multi-head==0.29.0\n  Downloading keras-multi-head-0.29.0.tar.gz (13 kB)\n  Preparing metadata (setup.py) ... \u001b[?25ldone\n\u001b[?25hCollecting keras-layer-normalization==0.16.0\n  Downloading keras-layer-normalization-0.16.0.tar.gz (3.9 kB)\n  Preparing metadata (setup.py) ... \u001b[?25ldone\n\u001b[?25hCollecting keras-position-wise-feed-forward==0.8.0\n  Downloading keras-position-wise-feed-forward-0.8.0.tar.gz (4.1 kB)\n  Preparing metadata (setup.py) ... \u001b[?25ldone\n\u001b[?25hCollecting keras-embed-sim==0.10.0\n  Downloading keras-embed-sim-0.10.0.tar.gz (3.6 kB)\n  Preparing metadata (setup.py) ... \u001b[?25ldone\n\u001b[?25hCollecting keras-self-attention==0.51.0\n  Downloading keras-self-attention-0.51.0.tar.gz (11 kB)\n  Preparing metadata (setup.py) ... \u001b[?25ldone\n\u001b[?25hRequirement already satisfied: kiwisolver>=1.0.1 in /opt/conda/lib/python3.7/site-packages (from matplotlib>=3.0.0->ktrain) (1.4.3)\nRequirement already satisfied: fonttools>=4.22.0 in /opt/conda/lib/python3.7/site-packages (from matplotlib>=3.0.0->ktrain) (4.33.3)\nRequirement already satisfied: cycler>=0.10 in /opt/conda/lib/python3.7/site-packages (from matplotlib>=3.0.0->ktrain) (0.11.0)\nRequirement already satisfied: python-dateutil>=2.7 in /opt/conda/lib/python3.7/site-packages (from matplotlib>=3.0.0->ktrain) (2.8.2)\nRequirement already satisfied: pillow>=6.2.0 in /opt/conda/lib/python3.7/site-packages (from matplotlib>=3.0.0->ktrain) (9.1.1)\nRequirement already satisfied: pyparsing>=2.2.1 in /opt/conda/lib/python3.7/site-packages (from matplotlib>=3.0.0->ktrain) (3.0.9)\nRequirement already satisfied: pytz>=2017.3 in /opt/conda/lib/python3.7/site-packages (from pandas>=1.0.1->ktrain) (2022.1)\nRequirement already satisfied: regex>2016 in /opt/conda/lib/python3.7/site-packages (from syntok>1.3.3->ktrain) (2021.11.10)\nRequirement already satisfied: six in /opt/conda/lib/python3.7/site-packages (from langdetect->ktrain) (1.15.0)\nRequirement already satisfied: idna<4,>=2.5 in /opt/conda/lib/python3.7/site-packages (from requests->ktrain) (3.3)\nRequirement already satisfied: certifi>=2017.4.17 in /opt/conda/lib/python3.7/site-packages (from requests->ktrain) (2022.12.7)\nRequirement already satisfied: urllib3<1.27,>=1.21.1 in /opt/conda/lib/python3.7/site-packages (from requests->ktrain) (1.26.13)\nRequirement already satisfied: threadpoolctl>=2.0.0 in /opt/conda/lib/python3.7/site-packages (from scikit-learn->ktrain) (3.1.0)\nRequirement already satisfied: scipy>=1.1.0 in /opt/conda/lib/python3.7/site-packages (from scikit-learn->ktrain) (1.7.3)\nRequirement already satisfied: setuptools in /opt/conda/lib/python3.7/site-packages (from tika->ktrain) (59.8.0)\nRequirement already satisfied: pyyaml>=5.1 in /opt/conda/lib/python3.7/site-packages (from transformers->ktrain) (6.0)\nRequirement already satisfied: huggingface-hub<1.0,>=0.1.0 in /opt/conda/lib/python3.7/site-packages (from transformers->ktrain) (0.10.1)\nRequirement already satisfied: tokenizers!=0.11.3,<0.13,>=0.11.1 in /opt/conda/lib/python3.7/site-packages (from transformers->ktrain) (0.12.1)\nRequirement already satisfied: filelock in /opt/conda/lib/python3.7/site-packages (from transformers->ktrain) (3.7.1)\nRequirement already satisfied: tqdm>=4.27 in /opt/conda/lib/python3.7/site-packages (from transformers->ktrain) (4.64.0)\nRequirement already satisfied: importlib-metadata in /opt/conda/lib/python3.7/site-packages (from transformers->ktrain) (4.13.0)\nRequirement already satisfied: typing-extensions>=3.7.4.3 in /opt/conda/lib/python3.7/site-packages (from huggingface-hub<1.0,>=0.1.0->transformers->ktrain) (4.1.1)\nRequirement already satisfied: zipp>=0.5 in /opt/conda/lib/python3.7/site-packages (from importlib-metadata->transformers->ktrain) (3.8.0)\nBuilding wheels for collected packages: ktrain, keras_bert, keras-transformer, keras-embed-sim, keras-layer-normalization, keras-multi-head, keras-pos-embd, keras-position-wise-feed-forward, keras-self-attention, langdetect, tika\n  Building wheel for ktrain (setup.py) ... \u001b[?25ldone\n\u001b[?25h  Created wheel for ktrain: filename=ktrain-0.41.3-py3-none-any.whl size=25316979 sha256=a65edd726329f8ea11bae75cc99d8182c7d1e5a2072beb9cd2ac268272d890d3\n  Stored in directory: /root/.cache/pip/wheels/97/cd/a7/3ef9b6abdab10d64a111bac7f6f1cc4e9ea818c478335fb394\n  Building wheel for keras_bert (setup.py) ... \u001b[?25ldone\n\u001b[?25h  Created wheel for keras_bert: filename=keras_bert-0.89.0-py3-none-any.whl size=33517 sha256=14775a8d883c2be3388c5552d2b61eef343afb57c6061eef0fc7ee9f925ba1c8\n  Stored in directory: /root/.cache/pip/wheels/a4/e8/45/842b3a39831261aef9154b907eacbc4ac99499a99ae829b06f\n  Building wheel for keras-transformer (setup.py) ... \u001b[?25ldone\n\u001b[?25h  Created wheel for keras-transformer: filename=keras_transformer-0.40.0-py3-none-any.whl size=12305 sha256=8634095a99b1d27e60ddc83d75ae4dbb91befb7ec1a0c029683d2948429a81e0\n  Stored in directory: /root/.cache/pip/wheels/46/68/26/692ed21edd832833c3b0a0e21615bcacd99ca458b3f9ed571f\n  Building wheel for keras-embed-sim (setup.py) ... \u001b[?25ldone\n\u001b[?25h  Created wheel for keras-embed-sim: filename=keras_embed_sim-0.10.0-py3-none-any.whl size=3960 sha256=f9184b55df23a45de4cfc4a3bfe08529afe1ba5d172f64129b8f2ade85449d34\n  Stored in directory: /root/.cache/pip/wheels/81/67/b5/d847588d075895281e1cf5590f819bd4cf076a554872268bd5\n  Building wheel for keras-layer-normalization (setup.py) ... \u001b[?25ldone\n\u001b[?25h  Created wheel for keras-layer-normalization: filename=keras_layer_normalization-0.16.0-py3-none-any.whl size=4668 sha256=3c7601108c79d8b180fd6db1ac139dad9d312f668b5c0c9d08a165340df0ef92\n  Stored in directory: /root/.cache/pip/wheels/85/5d/1c/2e619f594f69fbcf8bc20943b27d414871c409be053994813e\n  Building wheel for keras-multi-head (setup.py) ... \u001b[?25ldone\n\u001b[?25h  Created wheel for keras-multi-head: filename=keras_multi_head-0.29.0-py3-none-any.whl size=14993 sha256=eaa7487a51808085821ee701efb46c03c298e01b9a843bde8f2cf7bfdc3bc1b4\n  Stored in directory: /root/.cache/pip/wheels/86/aa/3c/9d15d24005179dae08ff291ce99c754b296347817d076fd9fb\n  Building wheel for keras-pos-embd (setup.py) ... \u001b[?25ldone\n\u001b[?25h  Created wheel for keras-pos-embd: filename=keras_pos_embd-0.13.0-py3-none-any.whl size=6962 sha256=47990d1931354ce75caa145085b724950a7ecfb032ebebaee69776f6d7b35843\n  Stored in directory: /root/.cache/pip/wheels/8d/c1/a0/dc44fcf68c857b7ff6be9a97e675e5adf51022eff1169b042f\n  Building wheel for keras-position-wise-feed-forward (setup.py) ... \u001b[?25ldone\n\u001b[?25h  Created wheel for keras-position-wise-feed-forward: filename=keras_position_wise_feed_forward-0.8.0-py3-none-any.whl size=4983 sha256=194699cbaa2e3291786b3484e9534cd299af1386ba41665d51059751d1ea08d8\n  Stored in directory: /root/.cache/pip/wheels/c2/75/6f/d42f6e051506f442daeba53ff1e2d21a5f20ef8c411610f2bb\n  Building wheel for keras-self-attention (setup.py) ... \u001b[?25ldone\n\u001b[?25h  Created wheel for keras-self-attention: filename=keras_self_attention-0.51.0-py3-none-any.whl size=18912 sha256=8b4963a7acf43695029373cf4cebdebfab8bdf0cf16d62a7c9319c5a6a7a4439\n  Stored in directory: /root/.cache/pip/wheels/95/b1/a8/5ee00cc137940b2f6fa198212e8f45d813d0e0d9c3a04035a3\n  Building wheel for langdetect (setup.py) ... \u001b[?25ldone\n\u001b[?25h  Created wheel for langdetect: filename=langdetect-1.0.9-py3-none-any.whl size=993242 sha256=7528f376ae7ff2de654fc53a75c7c11be143505176ddbd0a01af28389133e5ab\n  Stored in directory: /root/.cache/pip/wheels/c5/96/8a/f90c59ed25d75e50a8c10a1b1c2d4c402e4dacfa87f3aff36a\n  Building wheel for tika (setup.py) ... \u001b[?25ldone\n\u001b[?25h  Created wheel for tika: filename=tika-2.6.0-py3-none-any.whl size=32642 sha256=aeeeaa7c4d037684d40badb773535867a094b650dc0106cee2c46e2c2abf2743\n  Stored in directory: /root/.cache/pip/wheels/d0/e8/f2/4d6ee3cf46b79e22dcc7d4cdcbeed804c985d346b44a213672\nSuccessfully built ktrain keras_bert keras-transformer keras-embed-sim keras-layer-normalization keras-multi-head keras-pos-embd keras-position-wise-feed-forward keras-self-attention langdetect tika\nInstalling collected packages: whoosh, syntok, langdetect, keras-self-attention, keras-position-wise-feed-forward, keras-pos-embd, keras-layer-normalization, keras-embed-sim, tika, keras-multi-head, keras-transformer, keras_bert, ktrain\nSuccessfully installed keras-embed-sim-0.10.0 keras-layer-normalization-0.16.0 keras-multi-head-0.29.0 keras-pos-embd-0.13.0 keras-position-wise-feed-forward-0.8.0 keras-self-attention-0.51.0 keras-transformer-0.40.0 keras_bert-0.89.0 ktrain-0.41.3 langdetect-1.0.9 syntok-1.4.4 tika-2.6.0 whoosh-2.7.4\n\u001b[33mWARNING: Running pip as the 'root' user can result in broken permissions and conflicting behaviour with the system package manager. It is recommended to use a virtual environment instead: https://pip.pypa.io/warnings/venv\u001b[0m\u001b[33m\n\u001b[0m",
          "output_type": "stream"
        }
      ]
    },
    {
      "cell_type": "code",
      "source": [
        "%reload_ext autoreload\n",
        "%autoreload 2\n",
        "%matplotlib inline\n",
        "import os\n",
        "os.environ[\"CUDA_DEVICE_ORDER\"] = \"PCI_BUS_ID\"\n",
        "os.environ[\"CUDA_VISIBLE_DEVICES\"] = \"0\""
      ],
      "metadata": {
        "execution": {
          "iopub.status.busy": "2024-05-13T17:12:03.951328Z",
          "iopub.execute_input": "2024-05-13T17:12:03.951769Z",
          "iopub.status.idle": "2024-05-13T17:12:04.068754Z",
          "shell.execute_reply.started": "2024-05-13T17:12:03.951723Z",
          "shell.execute_reply": "2024-05-13T17:12:04.067955Z"
        },
        "trusted": true,
        "id": "VkndwL7sNLMN"
      },
      "execution_count": null,
      "outputs": []
    },
    {
      "cell_type": "code",
      "source": [
        "import ktrain\n",
        "from ktrain import text"
      ],
      "metadata": {
        "execution": {
          "iopub.status.busy": "2024-05-13T17:12:10.908445Z",
          "iopub.execute_input": "2024-05-13T17:12:10.908858Z",
          "iopub.status.idle": "2024-05-13T17:12:12.430032Z",
          "shell.execute_reply.started": "2024-05-13T17:12:10.908825Z",
          "shell.execute_reply": "2024-05-13T17:12:12.428621Z"
        },
        "trusted": true,
        "id": "ZH6nj-lZNLMN"
      },
      "execution_count": null,
      "outputs": []
    },
    {
      "cell_type": "code",
      "source": [
        "train_data['label'].value_counts()"
      ],
      "metadata": {
        "execution": {
          "iopub.status.busy": "2024-05-13T17:12:15.399887Z",
          "iopub.execute_input": "2024-05-13T17:12:15.400323Z",
          "iopub.status.idle": "2024-05-13T17:12:15.510680Z",
          "shell.execute_reply.started": "2024-05-13T17:12:15.400284Z",
          "shell.execute_reply": "2024-05-13T17:12:15.509282Z"
        },
        "trusted": true,
        "id": "D1p8Fo8xNLMN",
        "outputId": "4fb65b9a-38cb-4269-b3af-0c53b0e56190"
      },
      "execution_count": null,
      "outputs": [
        {
          "execution_count": 36,
          "output_type": "execute_result",
          "data": {
            "text/plain": "Cyber Security          1122\nData Communication      1084\nSoftware Engineering    1004\nDBMS                     973\nOperating System         927\nName: label, dtype: int64"
          },
          "metadata": {}
        }
      ]
    },
    {
      "cell_type": "code",
      "source": [
        "val_data['label'].value_counts()"
      ],
      "metadata": {
        "execution": {
          "iopub.status.busy": "2024-05-13T17:12:20.648850Z",
          "iopub.execute_input": "2024-05-13T17:12:20.649775Z",
          "iopub.status.idle": "2024-05-13T17:12:20.745004Z",
          "shell.execute_reply.started": "2024-05-13T17:12:20.649736Z",
          "shell.execute_reply": "2024-05-13T17:12:20.743975Z"
        },
        "trusted": true,
        "id": "dtJatTFYNLMO",
        "outputId": "d2e79882-beb5-4c8b-bc50-492c5c2ed473"
      },
      "execution_count": null,
      "outputs": [
        {
          "execution_count": 37,
          "output_type": "execute_result",
          "data": {
            "text/plain": "Data Communication      228\nSoftware Engineering    225\nCyber Security          219\nDBMS                    212\nOperating System        211\nName: label, dtype: int64"
          },
          "metadata": {}
        }
      ]
    },
    {
      "cell_type": "code",
      "source": [
        "categories = ['Software Engineering', 'DBMS' ,'Data Communication', 'Cyber Security',\n",
        " 'Operating System']"
      ],
      "metadata": {
        "execution": {
          "iopub.status.busy": "2024-05-13T17:12:24.016465Z",
          "iopub.execute_input": "2024-05-13T17:12:24.016876Z",
          "iopub.status.idle": "2024-05-13T17:12:24.108475Z",
          "shell.execute_reply.started": "2024-05-13T17:12:24.016844Z",
          "shell.execute_reply": "2024-05-13T17:12:24.107489Z"
        },
        "trusted": true,
        "id": "7Z5mk2lYNLMO"
      },
      "execution_count": null,
      "outputs": []
    },
    {
      "cell_type": "code",
      "source": [
        "X_train = train_data['cleaned'].tolist()\n",
        "y_train = train_data['label'].tolist()\n",
        "\n",
        "X_valid = val_data['cleaned'].tolist()\n",
        "y_valid = val_data['label'].tolist()\n",
        "\n",
        "X_test = test_data['cleaned'].tolist()\n",
        "y_test = test_data['label'].tolist()"
      ],
      "metadata": {
        "execution": {
          "iopub.status.busy": "2024-05-13T17:39:54.775712Z",
          "iopub.execute_input": "2024-05-13T17:39:54.776576Z",
          "iopub.status.idle": "2024-05-13T17:39:54.872807Z",
          "shell.execute_reply.started": "2024-05-13T17:39:54.776531Z",
          "shell.execute_reply": "2024-05-13T17:39:54.871817Z"
        },
        "trusted": true,
        "id": "itocbFx-NLMO"
      },
      "execution_count": null,
      "outputs": []
    },
    {
      "cell_type": "code",
      "source": [
        "model_name = 'distilbert-base-multilingual-cased'\n",
        "trans = text.Transformer(model_name,maxlen=100,class_names=categories)"
      ],
      "metadata": {
        "execution": {
          "iopub.status.busy": "2024-05-13T17:40:00.998746Z",
          "iopub.execute_input": "2024-05-13T17:40:00.999152Z",
          "iopub.status.idle": "2024-05-13T17:40:33.445945Z",
          "shell.execute_reply.started": "2024-05-13T17:40:00.999120Z",
          "shell.execute_reply": "2024-05-13T17:40:33.445101Z"
        },
        "trusted": true,
        "colab": {
          "referenced_widgets": [
            "a9cc221e8f2347f693a762c8b83f866b",
            "ae03c5fc9c40468090130093e5feb716"
          ]
        },
        "id": "aCB0T2b4NLMO",
        "outputId": "d0ccd6b9-65a7-43d0-85f7-0afcd2c2e728"
      },
      "execution_count": null,
      "outputs": [
        {
          "output_type": "display_data",
          "data": {
            "text/plain": "Downloading:   0%|          | 0.00/466 [00:00<?, ?B/s]",
            "application/vnd.jupyter.widget-view+json": {
              "version_major": 2,
              "version_minor": 0,
              "model_id": "a9cc221e8f2347f693a762c8b83f866b"
            }
          },
          "metadata": {}
        },
        {
          "output_type": "display_data",
          "data": {
            "text/plain": "Downloading:   0%|          | 0.00/869M [00:00<?, ?B/s]",
            "application/vnd.jupyter.widget-view+json": {
              "version_major": 2,
              "version_minor": 0,
              "model_id": "ae03c5fc9c40468090130093e5feb716"
            }
          },
          "metadata": {}
        }
      ]
    },
    {
      "cell_type": "code",
      "source": [
        "train = trans.preprocess_train(X_train,y_train)\n",
        "valid = trans.preprocess_test(X_valid,y_valid)"
      ],
      "metadata": {
        "execution": {
          "iopub.status.busy": "2024-05-13T17:41:37.359604Z",
          "iopub.execute_input": "2024-05-13T17:41:37.359987Z",
          "iopub.status.idle": "2024-05-13T17:41:40.731112Z",
          "shell.execute_reply.started": "2024-05-13T17:41:37.359959Z",
          "shell.execute_reply": "2024-05-13T17:41:40.730365Z"
        },
        "trusted": true,
        "colab": {
          "referenced_widgets": [
            "af3e94fa1109467eba453cdc0fb1e8d2",
            "481362db4d1342738f03ada7964f0bfb",
            "d50d60cdf4814d378945557690700b57"
          ]
        },
        "id": "IhCdouYgNLMO",
        "outputId": "01be5930-58fd-4160-e942-30a62552ce82"
      },
      "execution_count": null,
      "outputs": [
        {
          "name": "stdout",
          "text": "preprocessing train...\nlanguage: bn\ntrain sequence lengths:\n\tmean : 10\n\t95percentile : 19\n\t99percentile : 26\n",
          "output_type": "stream"
        },
        {
          "output_type": "display_data",
          "data": {
            "text/plain": "Downloading:   0%|          | 0.00/49.0 [00:00<?, ?B/s]",
            "application/vnd.jupyter.widget-view+json": {
              "version_major": 2,
              "version_minor": 0,
              "model_id": "af3e94fa1109467eba453cdc0fb1e8d2"
            }
          },
          "metadata": {}
        },
        {
          "output_type": "display_data",
          "data": {
            "text/plain": "Downloading:   0%|          | 0.00/972k [00:00<?, ?B/s]",
            "application/vnd.jupyter.widget-view+json": {
              "version_major": 2,
              "version_minor": 0,
              "model_id": "481362db4d1342738f03ada7964f0bfb"
            }
          },
          "metadata": {}
        },
        {
          "output_type": "display_data",
          "data": {
            "text/plain": "Downloading:   0%|          | 0.00/1.87M [00:00<?, ?B/s]",
            "application/vnd.jupyter.widget-view+json": {
              "version_major": 2,
              "version_minor": 0,
              "model_id": "d50d60cdf4814d378945557690700b57"
            }
          },
          "metadata": {}
        },
        {
          "output_type": "display_data",
          "data": {
            "text/plain": "<IPython.core.display.HTML object>",
            "text/html": "\n<style>\n    /* Turns off some styling */\n    progress {\n        /* gets rid of default border in Firefox and Opera. */\n        border: none;\n        /* Needs to be in here for Safari polyfill so background images work as expected. */\n        background-size: auto;\n    }\n    progress:not([value]), progress:not([value])::-webkit-progress-bar {\n        background: repeating-linear-gradient(45deg, #7e7e7e, #7e7e7e 10px, #5c5c5c 10px, #5c5c5c 20px);\n    }\n    .progress-bar-interrupted, .progress-bar-interrupted::-webkit-progress-bar {\n        background: #F44336;\n    }\n</style>\n"
          },
          "metadata": {}
        },
        {
          "output_type": "display_data",
          "data": {
            "text/plain": "<IPython.core.display.HTML object>",
            "text/html": ""
          },
          "metadata": {}
        },
        {
          "name": "stdout",
          "text": "Is Multi-Label? False\npreprocessing test...\nlanguage: bn\ntest sequence lengths:\n\tmean : 10\n\t95percentile : 19\n\t99percentile : 25\n",
          "output_type": "stream"
        },
        {
          "output_type": "display_data",
          "data": {
            "text/plain": "<IPython.core.display.HTML object>",
            "text/html": "\n<style>\n    /* Turns off some styling */\n    progress {\n        /* gets rid of default border in Firefox and Opera. */\n        border: none;\n        /* Needs to be in here for Safari polyfill so background images work as expected. */\n        background-size: auto;\n    }\n    progress:not([value]), progress:not([value])::-webkit-progress-bar {\n        background: repeating-linear-gradient(45deg, #7e7e7e, #7e7e7e 10px, #5c5c5c 10px, #5c5c5c 20px);\n    }\n    .progress-bar-interrupted, .progress-bar-interrupted::-webkit-progress-bar {\n        background: #F44336;\n    }\n</style>\n"
          },
          "metadata": {}
        },
        {
          "output_type": "display_data",
          "data": {
            "text/plain": "<IPython.core.display.HTML object>",
            "text/html": ""
          },
          "metadata": {}
        }
      ]
    },
    {
      "cell_type": "code",
      "source": [
        "model = trans.get_classifier()"
      ],
      "metadata": {
        "execution": {
          "iopub.status.busy": "2024-05-13T17:42:05.704110Z",
          "iopub.execute_input": "2024-05-13T17:42:05.705053Z",
          "iopub.status.idle": "2024-05-13T17:42:06.962721Z",
          "shell.execute_reply.started": "2024-05-13T17:42:05.705017Z",
          "shell.execute_reply": "2024-05-13T17:42:06.961917Z"
        },
        "trusted": true,
        "id": "xECpS2bvNLMO"
      },
      "execution_count": null,
      "outputs": []
    },
    {
      "cell_type": "code",
      "source": [
        "learner = ktrain.get_learner(model, train_data=train,val_data=valid, batch_size=32)"
      ],
      "metadata": {
        "execution": {
          "iopub.status.busy": "2024-05-13T17:42:09.700141Z",
          "iopub.execute_input": "2024-05-13T17:42:09.700568Z",
          "iopub.status.idle": "2024-05-13T17:42:10.840180Z",
          "shell.execute_reply.started": "2024-05-13T17:42:09.700522Z",
          "shell.execute_reply": "2024-05-13T17:42:10.839107Z"
        },
        "trusted": true,
        "id": "ZrF0JvThNLMO"
      },
      "execution_count": null,
      "outputs": []
    },
    {
      "cell_type": "code",
      "source": [
        "from sklearn.utils import class_weight\n",
        "class_weights = class_weight.compute_class_weight('balanced'\n",
        "                                               ,classes = np.unique(train_data['enc_label'])\n",
        "                                               ,y = train_data['enc_label'])\n",
        "class_weights = dict(zip(np.unique(train_data['enc_label']), class_weights))"
      ],
      "metadata": {
        "execution": {
          "iopub.status.busy": "2024-05-13T17:42:16.668055Z",
          "iopub.execute_input": "2024-05-13T17:42:16.668885Z",
          "iopub.status.idle": "2024-05-13T17:42:16.763427Z",
          "shell.execute_reply.started": "2024-05-13T17:42:16.668849Z",
          "shell.execute_reply": "2024-05-13T17:42:16.762381Z"
        },
        "trusted": true,
        "id": "j-G0yxfpNLMO"
      },
      "execution_count": null,
      "outputs": []
    },
    {
      "cell_type": "code",
      "source": [
        "weight = {i : class_weights[i] for i in range(5)}\n",
        "weight"
      ],
      "metadata": {
        "execution": {
          "iopub.status.busy": "2024-05-13T17:42:19.863349Z",
          "iopub.execute_input": "2024-05-13T17:42:19.863876Z",
          "iopub.status.idle": "2024-05-13T17:42:19.974967Z",
          "shell.execute_reply.started": "2024-05-13T17:42:19.863833Z",
          "shell.execute_reply": "2024-05-13T17:42:19.973824Z"
        },
        "trusted": true,
        "id": "tgzvae9CNLMP",
        "outputId": "9a194bdf-0c1b-4617-eb11-87c2ab016d34"
      },
      "execution_count": null,
      "outputs": [
        {
          "execution_count": 70,
          "output_type": "execute_result",
          "data": {
            "text/plain": "{0: 1.0179282868525896,\n 1: 1.0503597122302157,\n 2: 0.9428044280442804,\n 3: 0.910873440285205,\n 4: 1.1024811218985977}"
          },
          "metadata": {}
        }
      ]
    },
    {
      "cell_type": "code",
      "source": [
        "learner.fit_onecycle(2e-5,10,class_weight=weight)"
      ],
      "metadata": {
        "execution": {
          "iopub.status.busy": "2024-05-13T17:42:24.326818Z",
          "iopub.execute_input": "2024-05-13T17:42:24.327241Z",
          "iopub.status.idle": "2024-05-13T17:48:34.876929Z",
          "shell.execute_reply.started": "2024-05-13T17:42:24.327205Z",
          "shell.execute_reply": "2024-05-13T17:48:34.875883Z"
        },
        "trusted": true,
        "id": "XVpLlIESNLMP",
        "outputId": "22f2b386-c1ce-4f05-8273-4cd51440253a"
      },
      "execution_count": null,
      "outputs": [
        {
          "name": "stdout",
          "text": "\n\nbegin training using onecycle policy with max lr of 2e-05...\nEpoch 1/10\n160/160 [==============================] - 47s 236ms/step - loss: 1.5983 - accuracy: 0.2548 - val_loss: 1.5129 - val_accuracy: 0.4183\nEpoch 2/10\n160/160 [==============================] - 36s 225ms/step - loss: 1.2657 - accuracy: 0.5225 - val_loss: 0.9574 - val_accuracy: 0.6895\nEpoch 3/10\n160/160 [==============================] - 36s 225ms/step - loss: 0.7770 - accuracy: 0.7470 - val_loss: 0.6379 - val_accuracy: 0.7863\nEpoch 4/10\n160/160 [==============================] - 36s 225ms/step - loss: 0.5186 - accuracy: 0.8382 - val_loss: 0.5300 - val_accuracy: 0.8174\nEpoch 5/10\n160/160 [==============================] - 36s 225ms/step - loss: 0.3763 - accuracy: 0.8838 - val_loss: 0.5453 - val_accuracy: 0.8155\nEpoch 6/10\n160/160 [==============================] - 36s 225ms/step - loss: 0.2636 - accuracy: 0.9200 - val_loss: 0.4370 - val_accuracy: 0.8575\nEpoch 7/10\n160/160 [==============================] - 36s 225ms/step - loss: 0.1671 - accuracy: 0.9528 - val_loss: 0.4509 - val_accuracy: 0.8530\nEpoch 8/10\n160/160 [==============================] - 36s 225ms/step - loss: 0.1137 - accuracy: 0.9679 - val_loss: 0.4671 - val_accuracy: 0.8603\nEpoch 9/10\n160/160 [==============================] - 36s 225ms/step - loss: 0.0740 - accuracy: 0.9812 - val_loss: 0.4406 - val_accuracy: 0.8712\nEpoch 10/10\n160/160 [==============================] - 36s 226ms/step - loss: 0.0559 - accuracy: 0.9857 - val_loss: 0.4510 - val_accuracy: 0.8658\n",
          "output_type": "stream"
        },
        {
          "execution_count": 71,
          "output_type": "execute_result",
          "data": {
            "text/plain": "<keras.callbacks.History at 0x7c69b33b7e10>"
          },
          "metadata": {}
        }
      ]
    },
    {
      "cell_type": "code",
      "source": [
        "learner.validate(class_names=categories)"
      ],
      "metadata": {
        "execution": {
          "iopub.status.busy": "2024-05-13T17:48:48.698325Z",
          "iopub.execute_input": "2024-05-13T17:48:48.698731Z",
          "iopub.status.idle": "2024-05-13T17:48:53.945935Z",
          "shell.execute_reply.started": "2024-05-13T17:48:48.698697Z",
          "shell.execute_reply": "2024-05-13T17:48:53.945050Z"
        },
        "trusted": true,
        "id": "nSvzt9o3NLMP",
        "outputId": "bf76c0bf-49d9-45e7-de03-4026c18c5def"
      },
      "execution_count": null,
      "outputs": [
        {
          "name": "stdout",
          "text": "                      precision    recall  f1-score   support\n\nSoftware Engineering       0.86      0.85      0.86       219\n                DBMS       0.84      0.90      0.87       212\n  Data Communication       0.86      0.94      0.90       228\n      Cyber Security       0.88      0.79      0.83       211\n    Operating System       0.90      0.84      0.87       225\n\n            accuracy                           0.87      1095\n           macro avg       0.87      0.86      0.86      1095\n        weighted avg       0.87      0.87      0.87      1095\n\n",
          "output_type": "stream"
        },
        {
          "execution_count": 72,
          "output_type": "execute_result",
          "data": {
            "text/plain": "array([[187,   7,  17,   5,   3],\n       [  7, 191,   1,  10,   3],\n       [  5,   2, 214,   1,   6],\n       [  8,  18,  10, 167,   8],\n       [ 11,  10,   8,   7, 189]])"
          },
          "metadata": {}
        }
      ]
    },
    {
      "cell_type": "code",
      "source": [
        "save_path = '/kaggle/working/distilbert'\n",
        "ktrain.get_predictor(learner.model, preproc=trans).save(save_path)"
      ],
      "metadata": {
        "execution": {
          "iopub.status.busy": "2024-05-13T17:49:09.778763Z",
          "iopub.execute_input": "2024-05-13T17:49:09.779463Z",
          "iopub.status.idle": "2024-05-13T17:49:11.175896Z",
          "shell.execute_reply.started": "2024-05-13T17:49:09.779427Z",
          "shell.execute_reply": "2024-05-13T17:49:11.174978Z"
        },
        "trusted": true,
        "id": "3QFc-a0PNLMP"
      },
      "execution_count": null,
      "outputs": []
    },
    {
      "cell_type": "code",
      "source": [
        "# Import necessary packages\n",
        "from sklearn.metrics import accuracy_score, classification_report\n",
        "import ktrain\n",
        "\n",
        "# Specify the file path for saving and loading the model in the Kaggle working directory\n",
        "save_path = '/kaggle/working/distilbert'\n",
        "\n",
        "# Load the predictor from the specified path\n",
        "predictor = ktrain.load_predictor(save_path)\n",
        "\n",
        "# Assuming you have your test data available as 'X_test' and 'y_test' in your Kaggle environment\n",
        "# Make predictions on the test data using the loaded predictor\n",
        "y_pred = predictor.predict(X_test)\n",
        "\n",
        "# Calculate accuracy by comparing the predicted labels with true labels\n",
        "accuracy = accuracy_score(y_test, y_pred)\n",
        "print(f\"Test data accuracy: {accuracy:.2%}\")\n",
        "\n",
        "# Generate classification report\n",
        "report = classification_report(y_test, y_pred)\n",
        "\n",
        "# Print the classification report\n",
        "print(\"Classification Report:\")\n",
        "print(report)\n"
      ],
      "metadata": {
        "execution": {
          "iopub.status.busy": "2024-05-13T17:49:25.051630Z",
          "iopub.execute_input": "2024-05-13T17:49:25.052581Z",
          "iopub.status.idle": "2024-05-13T17:49:30.533764Z",
          "shell.execute_reply.started": "2024-05-13T17:49:25.052535Z",
          "shell.execute_reply": "2024-05-13T17:49:30.532592Z"
        },
        "trusted": true,
        "id": "0cehYOqXNLMP",
        "outputId": "d2259333-d2be-45b1-f694-2cf4ca87ab8e"
      },
      "execution_count": null,
      "outputs": [
        {
          "name": "stdout",
          "text": "Test data accuracy: 84.29%\nClassification Report:\n                      precision    recall  f1-score   support\n\n      Cyber Security       0.86      0.83      0.84       243\n                DBMS       0.86      0.80      0.83       216\n  Data Communication       0.80      0.87      0.84       222\n    Operating System       0.86      0.87      0.87       215\nSoftware Engineering       0.83      0.84      0.84       199\n\n            accuracy                           0.84      1095\n           macro avg       0.84      0.84      0.84      1095\n        weighted avg       0.84      0.84      0.84      1095\n\n",
          "output_type": "stream"
        }
      ]
    },
    {
      "cell_type": "code",
      "source": [
        "model_name = 'sagorsarker/bangla-bert-base'\n",
        "trans = text.Transformer(model_name,maxlen=100,class_names=categories)"
      ],
      "metadata": {
        "execution": {
          "iopub.status.busy": "2024-05-13T17:51:20.092767Z",
          "iopub.execute_input": "2024-05-13T17:51:20.093198Z",
          "iopub.status.idle": "2024-05-13T17:51:45.833743Z",
          "shell.execute_reply.started": "2024-05-13T17:51:20.093164Z",
          "shell.execute_reply": "2024-05-13T17:51:45.832643Z"
        },
        "trusted": true,
        "colab": {
          "referenced_widgets": [
            "06b4a0b46da94d57b08a00f878a0467b",
            "eb1b3866caa241ef8127ab699d213544"
          ]
        },
        "id": "6dmBEoN_NLMP",
        "outputId": "231a628a-9c89-4139-e59d-3959d0b1237c"
      },
      "execution_count": null,
      "outputs": [
        {
          "output_type": "display_data",
          "data": {
            "text/plain": "Downloading:   0%|          | 0.00/491 [00:00<?, ?B/s]",
            "application/vnd.jupyter.widget-view+json": {
              "version_major": 2,
              "version_minor": 0,
              "model_id": "06b4a0b46da94d57b08a00f878a0467b"
            }
          },
          "metadata": {}
        },
        {
          "output_type": "display_data",
          "data": {
            "text/plain": "Downloading:   0%|          | 0.00/930M [00:00<?, ?B/s]",
            "application/vnd.jupyter.widget-view+json": {
              "version_major": 2,
              "version_minor": 0,
              "model_id": "eb1b3866caa241ef8127ab699d213544"
            }
          },
          "metadata": {}
        }
      ]
    },
    {
      "cell_type": "code",
      "source": [
        "train = trans.preprocess_train(X_train,y_train)\n",
        "valid = trans.preprocess_test(X_valid,y_valid)"
      ],
      "metadata": {
        "execution": {
          "iopub.status.busy": "2024-05-13T17:52:33.697629Z",
          "iopub.execute_input": "2024-05-13T17:52:33.698486Z",
          "iopub.status.idle": "2024-05-13T17:52:35.642857Z",
          "shell.execute_reply.started": "2024-05-13T17:52:33.698447Z",
          "shell.execute_reply": "2024-05-13T17:52:35.641945Z"
        },
        "trusted": true,
        "id": "EewWsU8GNLMP",
        "outputId": "321c6df9-a297-4515-d556-49d177d72baa"
      },
      "execution_count": null,
      "outputs": [
        {
          "name": "stdout",
          "text": "preprocessing train...\nlanguage: bn\ntrain sequence lengths:\n\tmean : 10\n\t95percentile : 19\n\t99percentile : 26\n",
          "output_type": "stream"
        },
        {
          "output_type": "display_data",
          "data": {
            "text/plain": "<IPython.core.display.HTML object>",
            "text/html": "\n<style>\n    /* Turns off some styling */\n    progress {\n        /* gets rid of default border in Firefox and Opera. */\n        border: none;\n        /* Needs to be in here for Safari polyfill so background images work as expected. */\n        background-size: auto;\n    }\n    progress:not([value]), progress:not([value])::-webkit-progress-bar {\n        background: repeating-linear-gradient(45deg, #7e7e7e, #7e7e7e 10px, #5c5c5c 10px, #5c5c5c 20px);\n    }\n    .progress-bar-interrupted, .progress-bar-interrupted::-webkit-progress-bar {\n        background: #F44336;\n    }\n</style>\n"
          },
          "metadata": {}
        },
        {
          "output_type": "display_data",
          "data": {
            "text/plain": "<IPython.core.display.HTML object>",
            "text/html": ""
          },
          "metadata": {}
        },
        {
          "name": "stdout",
          "text": "Is Multi-Label? False\npreprocessing test...\nlanguage: bn\ntest sequence lengths:\n\tmean : 10\n\t95percentile : 19\n\t99percentile : 25\n",
          "output_type": "stream"
        },
        {
          "output_type": "display_data",
          "data": {
            "text/plain": "<IPython.core.display.HTML object>",
            "text/html": "\n<style>\n    /* Turns off some styling */\n    progress {\n        /* gets rid of default border in Firefox and Opera. */\n        border: none;\n        /* Needs to be in here for Safari polyfill so background images work as expected. */\n        background-size: auto;\n    }\n    progress:not([value]), progress:not([value])::-webkit-progress-bar {\n        background: repeating-linear-gradient(45deg, #7e7e7e, #7e7e7e 10px, #5c5c5c 10px, #5c5c5c 20px);\n    }\n    .progress-bar-interrupted, .progress-bar-interrupted::-webkit-progress-bar {\n        background: #F44336;\n    }\n</style>\n"
          },
          "metadata": {}
        },
        {
          "output_type": "display_data",
          "data": {
            "text/plain": "<IPython.core.display.HTML object>",
            "text/html": ""
          },
          "metadata": {}
        }
      ]
    },
    {
      "cell_type": "code",
      "source": [
        "model = trans.get_classifier()"
      ],
      "metadata": {
        "execution": {
          "iopub.status.busy": "2024-05-13T17:53:26.436149Z",
          "iopub.execute_input": "2024-05-13T17:53:26.436841Z",
          "iopub.status.idle": "2024-05-13T17:53:28.026416Z",
          "shell.execute_reply.started": "2024-05-13T17:53:26.436801Z",
          "shell.execute_reply": "2024-05-13T17:53:28.025557Z"
        },
        "trusted": true,
        "id": "4u-FHfeNNLMP"
      },
      "execution_count": null,
      "outputs": []
    },
    {
      "cell_type": "code",
      "source": [
        "learner = ktrain.get_learner(model, train_data=train,val_data=valid, batch_size=32)"
      ],
      "metadata": {
        "execution": {
          "iopub.status.busy": "2024-05-13T17:53:42.573419Z",
          "iopub.execute_input": "2024-05-13T17:53:42.574585Z",
          "iopub.status.idle": "2024-05-13T17:53:43.902349Z",
          "shell.execute_reply.started": "2024-05-13T17:53:42.574534Z",
          "shell.execute_reply": "2024-05-13T17:53:43.901533Z"
        },
        "trusted": true,
        "id": "jxAPxaPwNLMQ"
      },
      "execution_count": null,
      "outputs": []
    },
    {
      "cell_type": "code",
      "source": [
        "from sklearn.utils import class_weight\n",
        "class_weights = class_weight.compute_class_weight('balanced'\n",
        "                                               ,classes = np.unique(train_data['enc_label'])\n",
        "                                               ,y = train_data['enc_label'])\n",
        "class_weights = dict(zip(np.unique(train_data['enc_label']), class_weights))"
      ],
      "metadata": {
        "execution": {
          "iopub.status.busy": "2024-05-13T17:53:47.467552Z",
          "iopub.execute_input": "2024-05-13T17:53:47.467952Z",
          "iopub.status.idle": "2024-05-13T17:53:47.568684Z",
          "shell.execute_reply.started": "2024-05-13T17:53:47.467918Z",
          "shell.execute_reply": "2024-05-13T17:53:47.567739Z"
        },
        "trusted": true,
        "id": "8xA9Dxc6NLMQ"
      },
      "execution_count": null,
      "outputs": []
    },
    {
      "cell_type": "code",
      "source": [
        "weight = {i : class_weights[i] for i in range(5)}\n",
        "weight"
      ],
      "metadata": {
        "execution": {
          "iopub.status.busy": "2024-05-13T17:53:52.366180Z",
          "iopub.execute_input": "2024-05-13T17:53:52.366616Z",
          "iopub.status.idle": "2024-05-13T17:53:52.463006Z",
          "shell.execute_reply.started": "2024-05-13T17:53:52.366581Z",
          "shell.execute_reply": "2024-05-13T17:53:52.461882Z"
        },
        "trusted": true,
        "id": "TcPi2bqWNLMQ",
        "outputId": "4b3ef3cb-753b-434a-be89-aec1a3163908"
      },
      "execution_count": null,
      "outputs": [
        {
          "execution_count": 83,
          "output_type": "execute_result",
          "data": {
            "text/plain": "{0: 1.0179282868525896,\n 1: 1.0503597122302157,\n 2: 0.9428044280442804,\n 3: 0.910873440285205,\n 4: 1.1024811218985977}"
          },
          "metadata": {}
        }
      ]
    },
    {
      "cell_type": "code",
      "source": [
        "learner.fit_onecycle(2e-5,10,class_weight=weight)"
      ],
      "metadata": {
        "execution": {
          "iopub.status.busy": "2024-05-13T17:54:01.453417Z",
          "iopub.execute_input": "2024-05-13T17:54:01.454459Z",
          "iopub.status.idle": "2024-05-13T18:05:40.347701Z",
          "shell.execute_reply.started": "2024-05-13T17:54:01.454397Z",
          "shell.execute_reply": "2024-05-13T18:05:40.346686Z"
        },
        "trusted": true,
        "id": "lEgbJ2otNLMQ",
        "outputId": "48a4db7b-dd14-4510-9e7d-133adf0baaa3"
      },
      "execution_count": null,
      "outputs": [
        {
          "name": "stdout",
          "text": "\n\nbegin training using onecycle policy with max lr of 2e-05...\nEpoch 1/10\n160/160 [==============================] - 91s 444ms/step - loss: 1.4379 - accuracy: 0.4213 - val_loss: 1.0958 - val_accuracy: 0.6457\nEpoch 2/10\n160/160 [==============================] - 68s 422ms/step - loss: 0.8440 - accuracy: 0.7178 - val_loss: 0.6664 - val_accuracy: 0.7744\nEpoch 3/10\n160/160 [==============================] - 67s 422ms/step - loss: 0.5330 - accuracy: 0.8192 - val_loss: 0.5647 - val_accuracy: 0.8082\nEpoch 4/10\n160/160 [==============================] - 68s 422ms/step - loss: 0.3601 - accuracy: 0.8798 - val_loss: 0.5234 - val_accuracy: 0.8183\nEpoch 5/10\n160/160 [==============================] - 67s 422ms/step - loss: 0.2524 - accuracy: 0.9202 - val_loss: 0.5364 - val_accuracy: 0.8301\nEpoch 6/10\n160/160 [==============================] - 68s 422ms/step - loss: 0.1497 - accuracy: 0.9534 - val_loss: 0.5676 - val_accuracy: 0.8301\nEpoch 7/10\n160/160 [==============================] - 68s 422ms/step - loss: 0.0838 - accuracy: 0.9744 - val_loss: 0.5598 - val_accuracy: 0.8493\nEpoch 8/10\n160/160 [==============================] - 68s 422ms/step - loss: 0.0436 - accuracy: 0.9896 - val_loss: 0.5953 - val_accuracy: 0.8457\nEpoch 9/10\n160/160 [==============================] - 67s 422ms/step - loss: 0.0262 - accuracy: 0.9945 - val_loss: 0.6160 - val_accuracy: 0.8411\nEpoch 10/10\n160/160 [==============================] - 67s 422ms/step - loss: 0.0167 - accuracy: 0.9973 - val_loss: 0.6078 - val_accuracy: 0.8475\n",
          "output_type": "stream"
        },
        {
          "execution_count": 84,
          "output_type": "execute_result",
          "data": {
            "text/plain": "<keras.callbacks.History at 0x7c69b8e51d50>"
          },
          "metadata": {}
        }
      ]
    },
    {
      "cell_type": "code",
      "source": [
        "learner.validate(class_names=categories)"
      ],
      "metadata": {
        "execution": {
          "iopub.status.busy": "2024-05-13T18:05:57.056921Z",
          "iopub.execute_input": "2024-05-13T18:05:57.057893Z",
          "iopub.status.idle": "2024-05-13T18:06:04.653387Z",
          "shell.execute_reply.started": "2024-05-13T18:05:57.057854Z",
          "shell.execute_reply": "2024-05-13T18:06:04.652324Z"
        },
        "trusted": true,
        "id": "8Y8V5WeiNLMQ",
        "outputId": "baccf235-6e99-4f8d-97b3-2928d11b03b6"
      },
      "execution_count": null,
      "outputs": [
        {
          "name": "stdout",
          "text": "                      precision    recall  f1-score   support\n\nSoftware Engineering       0.89      0.88      0.89       219\n                DBMS       0.79      0.86      0.82       212\n  Data Communication       0.86      0.88      0.87       228\n      Cyber Security       0.82      0.75      0.78       211\n    Operating System       0.89      0.86      0.87       225\n\n            accuracy                           0.85      1095\n           macro avg       0.85      0.85      0.85      1095\n        weighted avg       0.85      0.85      0.85      1095\n\n",
          "output_type": "stream"
        },
        {
          "execution_count": 85,
          "output_type": "execute_result",
          "data": {
            "text/plain": "array([[193,  13,   7,   4,   2],\n       [  5, 183,   6,  13,   5],\n       [  7,   2, 200,  13,   6],\n       [  6,  18,  16, 159,  12],\n       [  6,  16,   4,   6, 193]])"
          },
          "metadata": {}
        }
      ]
    },
    {
      "cell_type": "code",
      "source": [
        "save_path = '/kaggle/working/sagorsarker'\n",
        "ktrain.get_predictor(learner.model, preproc=trans).save(save_path)"
      ],
      "metadata": {
        "execution": {
          "iopub.status.busy": "2024-05-13T18:06:32.987195Z",
          "iopub.execute_input": "2024-05-13T18:06:32.988015Z",
          "iopub.status.idle": "2024-05-13T18:06:34.967479Z",
          "shell.execute_reply.started": "2024-05-13T18:06:32.987977Z",
          "shell.execute_reply": "2024-05-13T18:06:34.965670Z"
        },
        "trusted": true,
        "id": "3BO6G-qdNLMQ",
        "outputId": "20038b32-dcb9-4ad5-cad5-23a0753c7046"
      },
      "execution_count": null,
      "outputs": [
        {
          "name": "stdout",
          "text": "The OrderedVocab you are attempting to save contains a hole for index 1015, your vocabulary could be corrupted !\nThe OrderedVocab you are attempting to save contains a hole for index 1016, your vocabulary could be corrupted !\nThe OrderedVocab you are attempting to save contains a hole for index 1017, your vocabulary could be corrupted !\nThe OrderedVocab you are attempting to save contains a hole for index 1018, your vocabulary could be corrupted !\nThe OrderedVocab you are attempting to save contains a hole for index 1053, your vocabulary could be corrupted !\nThe OrderedVocab you are attempting to save contains a hole for index 1054, your vocabulary could be corrupted !\nThe OrderedVocab you are attempting to save contains a hole for index 1055, your vocabulary could be corrupted !\nThe OrderedVocab you are attempting to save contains a hole for index 1056, your vocabulary could be corrupted !\nThe OrderedVocab you are attempting to save contains a hole for index 1057, your vocabulary could be corrupted !\nThe OrderedVocab you are attempting to save contains a hole for index 1060, your vocabulary could be corrupted !\nThe OrderedVocab you are attempting to save contains a hole for index 1061, your vocabulary could be corrupted !\nThe OrderedVocab you are attempting to save contains a hole for index 1062, your vocabulary could be corrupted !\nThe OrderedVocab you are attempting to save contains a hole for index 1064, your vocabulary could be corrupted !\nThe OrderedVocab you are attempting to save contains a hole for index 1065, your vocabulary could be corrupted !\nThe OrderedVocab you are attempting to save contains a hole for index 1066, your vocabulary could be corrupted !\nThe OrderedVocab you are attempting to save contains a hole for index 1067, your vocabulary could be corrupted !\nThe OrderedVocab you are attempting to save contains a hole for index 1068, your vocabulary could be corrupted !\nThe OrderedVocab you are attempting to save contains a hole for index 1069, your vocabulary could be corrupted !\nThe OrderedVocab you are attempting to save contains a hole for index 1070, your vocabulary could be corrupted !\nThe OrderedVocab you are attempting to save contains a hole for index 1071, your vocabulary could be corrupted !\nThe OrderedVocab you are attempting to save contains a hole for index 1072, your vocabulary could be corrupted !\nThe OrderedVocab you are attempting to save contains a hole for index 1073, your vocabulary could be corrupted !\nThe OrderedVocab you are attempting to save contains a hole for index 1074, your vocabulary could be corrupted !\nThe OrderedVocab you are attempting to save contains a hole for index 1075, your vocabulary could be corrupted !\nThe OrderedVocab you are attempting to save contains a hole for index 1076, your vocabulary could be corrupted !\nThe OrderedVocab you are attempting to save contains a hole for index 1077, your vocabulary could be corrupted !\nThe OrderedVocab you are attempting to save contains a hole for index 1079, your vocabulary could be corrupted !\nThe OrderedVocab you are attempting to save contains a hole for index 1080, your vocabulary could be corrupted !\nThe OrderedVocab you are attempting to save contains a hole for index 1081, your vocabulary could be corrupted !\nThe OrderedVocab you are attempting to save contains a hole for index 1082, your vocabulary could be corrupted !\nThe OrderedVocab you are attempting to save contains a hole for index 1083, your vocabulary could be corrupted !\nThe OrderedVocab you are attempting to save contains a hole for index 1084, your vocabulary could be corrupted !\nThe OrderedVocab you are attempting to save contains a hole for index 1085, your vocabulary could be corrupted !\nThe OrderedVocab you are attempting to save contains a hole for index 1086, your vocabulary could be corrupted !\nThe OrderedVocab you are attempting to save contains a hole for index 1087, your vocabulary could be corrupted !\nThe OrderedVocab you are attempting to save contains a hole for index 1088, your vocabulary could be corrupted !\nThe OrderedVocab you are attempting to save contains a hole for index 1089, your vocabulary could be corrupted !\nThe OrderedVocab you are attempting to save contains a hole for index 1090, your vocabulary could be corrupted !\nThe OrderedVocab you are attempting to save contains a hole for index 1091, your vocabulary could be corrupted !\nThe OrderedVocab you are attempting to save contains a hole for index 1092, your vocabulary could be corrupted !\nThe OrderedVocab you are attempting to save contains a hole for index 1093, your vocabulary could be corrupted !\nThe OrderedVocab you are attempting to save contains a hole for index 1094, your vocabulary could be corrupted !\nThe OrderedVocab you are attempting to save contains a hole for index 1095, your vocabulary could be corrupted !\nThe OrderedVocab you are attempting to save contains a hole for index 1099, your vocabulary could be corrupted !\nThe OrderedVocab you are attempting to save contains a hole for index 1101, your vocabulary could be corrupted !\nThe OrderedVocab you are attempting to save contains a hole for index 1112, your vocabulary could be corrupted !\nThe OrderedVocab you are attempting to save contains a hole for index 1113, your vocabulary could be corrupted !\nThe OrderedVocab you are attempting to save contains a hole for index 1556, your vocabulary could be corrupted !\nThe OrderedVocab you are attempting to save contains a hole for index 1557, your vocabulary could be corrupted !\nThe OrderedVocab you are attempting to save contains a hole for index 1568, your vocabulary could be corrupted !\n",
          "output_type": "stream"
        }
      ]
    },
    {
      "cell_type": "code",
      "source": [
        "# Import necessary packages\n",
        "from sklearn.metrics import accuracy_score, classification_report\n",
        "import ktrain\n",
        "\n",
        "# Specify the file path for saving and loading the model in the Kaggle working directory\n",
        "save_path = '/kaggle/working/sagorsarker'\n",
        "\n",
        "# Load the predictor from the specified path\n",
        "predictor = ktrain.load_predictor(save_path)\n",
        "\n",
        "# Assuming you have your test data available as 'X_test' and 'y_test' in your Kaggle environment\n",
        "# Make predictions on the test data using the loaded predictor\n",
        "y_pred = predictor.predict(X_test)\n",
        "\n",
        "# Calculate accuracy by comparing the predicted labels with true labels\n",
        "accuracy = accuracy_score(y_test, y_pred)\n",
        "print(f\"Test data accuracy: {accuracy:.2%}\")\n",
        "\n",
        "# Generate classification report\n",
        "report = classification_report(y_test, y_pred)\n",
        "\n",
        "# Print the classification report\n",
        "print(\"Classification Report:\")\n",
        "print(report)\n"
      ],
      "metadata": {
        "execution": {
          "iopub.status.busy": "2024-05-13T18:06:42.169492Z",
          "iopub.execute_input": "2024-05-13T18:06:42.169899Z",
          "iopub.status.idle": "2024-05-13T18:06:51.313649Z",
          "shell.execute_reply.started": "2024-05-13T18:06:42.169864Z",
          "shell.execute_reply": "2024-05-13T18:06:51.312567Z"
        },
        "trusted": true,
        "id": "_Sk9m3JONLMR",
        "outputId": "f23834e8-e669-4762-ff0e-694bf7bdb9b6"
      },
      "execution_count": null,
      "outputs": [
        {
          "name": "stdout",
          "text": "Test data accuracy: 83.56%\nClassification Report:\n                      precision    recall  f1-score   support\n\n      Cyber Security       0.90      0.83      0.86       243\n                DBMS       0.80      0.80      0.80       216\n  Data Communication       0.83      0.87      0.85       222\n    Operating System       0.78      0.83      0.80       215\nSoftware Engineering       0.87      0.85      0.86       199\n\n            accuracy                           0.84      1095\n           macro avg       0.84      0.84      0.84      1095\n        weighted avg       0.84      0.84      0.84      1095\n\n",
          "output_type": "stream"
        }
      ]
    },
    {
      "cell_type": "code",
      "source": [
        "model_name = 'ai4bharat/indic-bert'\n",
        "trans = text.Transformer(model_name,maxlen=100,class_names=categories)"
      ],
      "metadata": {
        "execution": {
          "iopub.status.busy": "2024-05-13T18:08:11.794548Z",
          "iopub.execute_input": "2024-05-13T18:08:11.794982Z",
          "iopub.status.idle": "2024-05-13T18:08:17.904552Z",
          "shell.execute_reply.started": "2024-05-13T18:08:11.794947Z",
          "shell.execute_reply": "2024-05-13T18:08:17.903548Z"
        },
        "trusted": true,
        "colab": {
          "referenced_widgets": [
            "b9aac165665f49848f040d92bb640bbc",
            "97e0a43715554030b7aee115835fb148"
          ]
        },
        "id": "iEhho8UiNLMR",
        "outputId": "b284cb77-049f-46cc-f2d3-c6554754d71b"
      },
      "execution_count": null,
      "outputs": [
        {
          "output_type": "display_data",
          "data": {
            "text/plain": "Downloading:   0%|          | 0.00/507 [00:00<?, ?B/s]",
            "application/vnd.jupyter.widget-view+json": {
              "version_major": 2,
              "version_minor": 0,
              "model_id": "b9aac165665f49848f040d92bb640bbc"
            }
          },
          "metadata": {}
        },
        {
          "output_type": "display_data",
          "data": {
            "text/plain": "Downloading:   0%|          | 0.00/129M [00:00<?, ?B/s]",
            "application/vnd.jupyter.widget-view+json": {
              "version_major": 2,
              "version_minor": 0,
              "model_id": "97e0a43715554030b7aee115835fb148"
            }
          },
          "metadata": {}
        }
      ]
    },
    {
      "cell_type": "code",
      "source": [
        "train = trans.preprocess_train(X_train,y_train)\n",
        "valid = trans.preprocess_test(X_valid,y_valid)"
      ],
      "metadata": {
        "execution": {
          "iopub.status.busy": "2024-05-13T18:08:22.006834Z",
          "iopub.execute_input": "2024-05-13T18:08:22.007671Z",
          "iopub.status.idle": "2024-05-13T18:08:27.138755Z",
          "shell.execute_reply.started": "2024-05-13T18:08:22.007635Z",
          "shell.execute_reply": "2024-05-13T18:08:27.137763Z"
        },
        "trusted": true,
        "colab": {
          "referenced_widgets": [
            "93dd6c0faaee464f9a6c118735117002"
          ]
        },
        "id": "Zg-rTvQDNLMR",
        "outputId": "c1494673-d680-45a3-e660-63dc9660392f"
      },
      "execution_count": null,
      "outputs": [
        {
          "name": "stdout",
          "text": "preprocessing train...\nlanguage: bn\ntrain sequence lengths:\n\tmean : 10\n\t95percentile : 19\n\t99percentile : 26\n",
          "output_type": "stream"
        },
        {
          "output_type": "display_data",
          "data": {
            "text/plain": "Downloading:   0%|          | 0.00/5.38M [00:00<?, ?B/s]",
            "application/vnd.jupyter.widget-view+json": {
              "version_major": 2,
              "version_minor": 0,
              "model_id": "93dd6c0faaee464f9a6c118735117002"
            }
          },
          "metadata": {}
        },
        {
          "output_type": "display_data",
          "data": {
            "text/plain": "<IPython.core.display.HTML object>",
            "text/html": "\n<style>\n    /* Turns off some styling */\n    progress {\n        /* gets rid of default border in Firefox and Opera. */\n        border: none;\n        /* Needs to be in here for Safari polyfill so background images work as expected. */\n        background-size: auto;\n    }\n    progress:not([value]), progress:not([value])::-webkit-progress-bar {\n        background: repeating-linear-gradient(45deg, #7e7e7e, #7e7e7e 10px, #5c5c5c 10px, #5c5c5c 20px);\n    }\n    .progress-bar-interrupted, .progress-bar-interrupted::-webkit-progress-bar {\n        background: #F44336;\n    }\n</style>\n"
          },
          "metadata": {}
        },
        {
          "output_type": "display_data",
          "data": {
            "text/plain": "<IPython.core.display.HTML object>",
            "text/html": ""
          },
          "metadata": {}
        },
        {
          "name": "stdout",
          "text": "Is Multi-Label? False\npreprocessing test...\nlanguage: bn\ntest sequence lengths:\n\tmean : 10\n\t95percentile : 19\n\t99percentile : 25\n",
          "output_type": "stream"
        },
        {
          "output_type": "display_data",
          "data": {
            "text/plain": "<IPython.core.display.HTML object>",
            "text/html": "\n<style>\n    /* Turns off some styling */\n    progress {\n        /* gets rid of default border in Firefox and Opera. */\n        border: none;\n        /* Needs to be in here for Safari polyfill so background images work as expected. */\n        background-size: auto;\n    }\n    progress:not([value]), progress:not([value])::-webkit-progress-bar {\n        background: repeating-linear-gradient(45deg, #7e7e7e, #7e7e7e 10px, #5c5c5c 10px, #5c5c5c 20px);\n    }\n    .progress-bar-interrupted, .progress-bar-interrupted::-webkit-progress-bar {\n        background: #F44336;\n    }\n</style>\n"
          },
          "metadata": {}
        },
        {
          "output_type": "display_data",
          "data": {
            "text/plain": "<IPython.core.display.HTML object>",
            "text/html": ""
          },
          "metadata": {}
        }
      ]
    },
    {
      "cell_type": "code",
      "source": [
        "model = trans.get_classifier()"
      ],
      "metadata": {
        "execution": {
          "iopub.status.busy": "2024-05-13T18:08:31.946994Z",
          "iopub.execute_input": "2024-05-13T18:08:31.947773Z",
          "iopub.status.idle": "2024-05-13T18:08:32.643638Z",
          "shell.execute_reply.started": "2024-05-13T18:08:31.947737Z",
          "shell.execute_reply": "2024-05-13T18:08:32.642798Z"
        },
        "trusted": true,
        "id": "0opJy2yaNLMR"
      },
      "execution_count": null,
      "outputs": []
    },
    {
      "cell_type": "code",
      "source": [
        "learner = ktrain.get_learner(model, train_data=train,val_data=valid, batch_size=32)"
      ],
      "metadata": {
        "execution": {
          "iopub.status.busy": "2024-05-13T18:08:36.610939Z",
          "iopub.execute_input": "2024-05-13T18:08:36.611762Z",
          "iopub.status.idle": "2024-05-13T18:08:36.931083Z",
          "shell.execute_reply.started": "2024-05-13T18:08:36.611718Z",
          "shell.execute_reply": "2024-05-13T18:08:36.930016Z"
        },
        "trusted": true,
        "id": "TZeojmjfNLMS"
      },
      "execution_count": null,
      "outputs": []
    },
    {
      "cell_type": "code",
      "source": [
        "from sklearn.utils import class_weight\n",
        "class_weights = class_weight.compute_class_weight('balanced'\n",
        "                                               ,classes = np.unique(train_data['enc_label'])\n",
        "                                               ,y = train_data['enc_label'])\n",
        "class_weights = dict(zip(np.unique(train_data['enc_label']), class_weights))"
      ],
      "metadata": {
        "execution": {
          "iopub.status.busy": "2024-05-13T18:08:43.724087Z",
          "iopub.execute_input": "2024-05-13T18:08:43.724859Z",
          "iopub.status.idle": "2024-05-13T18:08:43.825843Z",
          "shell.execute_reply.started": "2024-05-13T18:08:43.724822Z",
          "shell.execute_reply": "2024-05-13T18:08:43.824815Z"
        },
        "trusted": true,
        "id": "wCfxE7sgNLMS"
      },
      "execution_count": null,
      "outputs": []
    },
    {
      "cell_type": "code",
      "source": [
        "weight = {i : class_weights[i] for i in range(5)}\n",
        "weight"
      ],
      "metadata": {
        "execution": {
          "iopub.status.busy": "2024-05-13T18:08:47.034284Z",
          "iopub.execute_input": "2024-05-13T18:08:47.034987Z",
          "iopub.status.idle": "2024-05-13T18:08:47.133902Z",
          "shell.execute_reply.started": "2024-05-13T18:08:47.034946Z",
          "shell.execute_reply": "2024-05-13T18:08:47.132751Z"
        },
        "trusted": true,
        "id": "BnL-ZU2kNLMS",
        "outputId": "922e1790-b39d-4994-a521-8a584702d5c2"
      },
      "execution_count": null,
      "outputs": [
        {
          "execution_count": 95,
          "output_type": "execute_result",
          "data": {
            "text/plain": "{0: 1.0179282868525896,\n 1: 1.0503597122302157,\n 2: 0.9428044280442804,\n 3: 0.910873440285205,\n 4: 1.1024811218985977}"
          },
          "metadata": {}
        }
      ]
    },
    {
      "cell_type": "code",
      "source": [
        "learner.fit_onecycle(2e-5,10,class_weight=weight)"
      ],
      "metadata": {
        "execution": {
          "iopub.status.busy": "2024-05-13T18:08:53.509997Z",
          "iopub.execute_input": "2024-05-13T18:08:53.510556Z",
          "iopub.status.idle": "2024-05-13T18:19:34.184756Z",
          "shell.execute_reply.started": "2024-05-13T18:08:53.510491Z",
          "shell.execute_reply": "2024-05-13T18:19:34.183771Z"
        },
        "trusted": true,
        "id": "zpevpQjfNLMS",
        "outputId": "fc64b338-aeda-4779-d3ad-0e58e2c790e7"
      },
      "execution_count": null,
      "outputs": [
        {
          "name": "stdout",
          "text": "\n\nbegin training using onecycle policy with max lr of 2e-05...\nEpoch 1/10\n160/160 [==============================] - 81s 406ms/step - loss: 1.6151 - accuracy: 0.2284 - val_loss: 1.5978 - val_accuracy: 0.2804\nEpoch 2/10\n160/160 [==============================] - 62s 389ms/step - loss: 1.4783 - accuracy: 0.3593 - val_loss: 1.3498 - val_accuracy: 0.4639\nEpoch 3/10\n160/160 [==============================] - 62s 389ms/step - loss: 1.1760 - accuracy: 0.5207 - val_loss: 1.1394 - val_accuracy: 0.5927\nEpoch 4/10\n160/160 [==============================] - 62s 388ms/step - loss: 0.9017 - accuracy: 0.6812 - val_loss: 0.8779 - val_accuracy: 0.6922\nEpoch 5/10\n160/160 [==============================] - 62s 389ms/step - loss: 0.6676 - accuracy: 0.7734 - val_loss: 0.7524 - val_accuracy: 0.7406\nEpoch 6/10\n160/160 [==============================] - 62s 388ms/step - loss: 0.4687 - accuracy: 0.8452 - val_loss: 0.6637 - val_accuracy: 0.7799\nEpoch 7/10\n160/160 [==============================] - 62s 389ms/step - loss: 0.2959 - accuracy: 0.9088 - val_loss: 0.8002 - val_accuracy: 0.7452\nEpoch 8/10\n160/160 [==============================] - 62s 388ms/step - loss: 0.1960 - accuracy: 0.9454 - val_loss: 0.7325 - val_accuracy: 0.7781\nEpoch 9/10\n160/160 [==============================] - 62s 388ms/step - loss: 0.1197 - accuracy: 0.9738 - val_loss: 0.7292 - val_accuracy: 0.7717\nEpoch 10/10\n160/160 [==============================] - 62s 389ms/step - loss: 0.0837 - accuracy: 0.9845 - val_loss: 0.7378 - val_accuracy: 0.7763\n",
          "output_type": "stream"
        },
        {
          "execution_count": 96,
          "output_type": "execute_result",
          "data": {
            "text/plain": "<keras.callbacks.History at 0x7c69897e06d0>"
          },
          "metadata": {}
        }
      ]
    },
    {
      "cell_type": "code",
      "source": [
        "learner.validate(class_names=categories)"
      ],
      "metadata": {
        "execution": {
          "iopub.status.busy": "2024-05-13T18:19:56.159650Z",
          "iopub.execute_input": "2024-05-13T18:19:56.160091Z",
          "iopub.status.idle": "2024-05-13T18:20:03.498906Z",
          "shell.execute_reply.started": "2024-05-13T18:19:56.160056Z",
          "shell.execute_reply": "2024-05-13T18:20:03.497790Z"
        },
        "trusted": true,
        "id": "UeVxtX79NLMS",
        "outputId": "84a85a8f-647b-4c80-e91e-6c6928dd1ad6"
      },
      "execution_count": null,
      "outputs": [
        {
          "name": "stdout",
          "text": "                      precision    recall  f1-score   support\n\nSoftware Engineering       0.71      0.80      0.75       219\n                DBMS       0.79      0.80      0.79       212\n  Data Communication       0.78      0.79      0.79       228\n      Cyber Security       0.76      0.72      0.74       211\n    Operating System       0.86      0.77      0.81       225\n\n            accuracy                           0.78      1095\n           macro avg       0.78      0.78      0.78      1095\n        weighted avg       0.78      0.78      0.78      1095\n\n",
          "output_type": "stream"
        },
        {
          "execution_count": 97,
          "output_type": "execute_result",
          "data": {
            "text/plain": "array([[175,   7,  27,   6,   4],\n       [ 11, 169,   5,  22,   5],\n       [ 20,  16, 181,   6,   5],\n       [ 13,  18,  15, 152,  13],\n       [ 29,   5,   3,  15, 173]])"
          },
          "metadata": {}
        }
      ]
    },
    {
      "cell_type": "code",
      "source": [
        "# Save the predictor directly in the working directory\n",
        "save_path = '/kaggle/working/indicbert'\n",
        "ktrain.get_predictor(learner.model, preproc=trans).save(save_path)"
      ],
      "metadata": {
        "execution": {
          "iopub.status.busy": "2024-05-13T18:20:16.813590Z",
          "iopub.execute_input": "2024-05-13T18:20:16.814380Z",
          "iopub.status.idle": "2024-05-13T18:20:17.549146Z",
          "shell.execute_reply.started": "2024-05-13T18:20:16.814343Z",
          "shell.execute_reply": "2024-05-13T18:20:17.548297Z"
        },
        "trusted": true,
        "id": "KT2N9uHjNLMS"
      },
      "execution_count": null,
      "outputs": []
    },
    {
      "cell_type": "code",
      "source": [
        "# Import necessary packages\n",
        "from sklearn.metrics import accuracy_score, classification_report\n",
        "import ktrain\n",
        "\n",
        "# Specify the file path for saving and loading the model in the Kaggle working directory\n",
        "save_path = '/kaggle/working/indicbert'\n",
        "\n",
        "# Load the predictor from the specified path\n",
        "predictor = ktrain.load_predictor(save_path)\n",
        "\n",
        "# Assuming you have your test data available as 'X_test' and 'y_test' in your Kaggle environment\n",
        "# Make predictions on the test data using the loaded predictor\n",
        "y_pred = predictor.predict(X_test)\n",
        "\n",
        "# Calculate accuracy by comparing the predicted labels with true labels\n",
        "accuracy = accuracy_score(y_test, y_pred)\n",
        "print(f\"Test data accuracy: {accuracy:.2%}\")\n",
        "\n",
        "# Generate classification report\n",
        "report = classification_report(y_test, y_pred)\n",
        "\n",
        "# Print the classification report\n",
        "print(\"Classification Report:\")\n",
        "print(report)"
      ],
      "metadata": {
        "execution": {
          "iopub.status.busy": "2024-05-13T18:20:38.649340Z",
          "iopub.execute_input": "2024-05-13T18:20:38.650111Z",
          "iopub.status.idle": "2024-05-13T18:20:47.306718Z",
          "shell.execute_reply.started": "2024-05-13T18:20:38.650077Z",
          "shell.execute_reply": "2024-05-13T18:20:47.305744Z"
        },
        "trusted": true,
        "id": "g9VpS5QONLMS",
        "outputId": "9f6265bf-1df8-4e81-d0c5-e927931a5e88"
      },
      "execution_count": null,
      "outputs": [
        {
          "name": "stdout",
          "text": "Test data accuracy: 79.45%\nClassification Report:\n                      precision    recall  f1-score   support\n\n      Cyber Security       0.78      0.81      0.80       243\n                DBMS       0.75      0.75      0.75       216\n  Data Communication       0.83      0.81      0.82       222\n    Operating System       0.76      0.80      0.78       215\nSoftware Engineering       0.85      0.81      0.83       199\n\n            accuracy                           0.79      1095\n           macro avg       0.80      0.79      0.80      1095\n        weighted avg       0.80      0.79      0.79      1095\n\n",
          "output_type": "stream"
        }
      ]
    }
  ]
}