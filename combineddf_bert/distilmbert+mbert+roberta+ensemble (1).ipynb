{
  "metadata": {
    "kernelspec": {
      "language": "python",
      "display_name": "Python 3",
      "name": "python3"
    },
    "language_info": {
      "name": "python",
      "version": "3.7.12",
      "mimetype": "text/x-python",
      "codemirror_mode": {
        "name": "ipython",
        "version": 3
      },
      "pygments_lexer": "ipython3",
      "nbconvert_exporter": "python",
      "file_extension": ".py"
    },
    "kaggle": {
      "accelerator": "none",
      "dataSources": [
        {
          "sourceId": 2143,
          "sourceType": "datasetVersion",
          "datasetId": 1192
        },
        {
          "sourceId": 8451256,
          "sourceType": "datasetVersion",
          "datasetId": 5036508
        }
      ],
      "dockerImageVersionId": 30357,
      "isInternetEnabled": true,
      "language": "python",
      "sourceType": "notebook",
      "isGpuEnabled": false
    },
    "colab": {
      "provenance": []
    }
  },
  "nbformat_minor": 0,
  "nbformat": 4,
  "cells": [
    {
      "cell_type": "code",
      "source": [
        "# This Python 3 environment comes with many helpful analytics libraries installed\n",
        "# It is defined by the kaggle/python Docker image: https://github.com/kaggle/docker-python\n",
        "# For example, here's several helpful packages to load\n",
        "\n",
        "import numpy as np # linear algebra\n",
        "import pandas as pd # data processing, CSV file I/O (e.g. pd.read_csv)\n",
        "\n",
        "# Input data files are available in the read-only \"../input/\" directory\n",
        "# For example, running this (by clicking run or pressing Shift+Enter) will list all files under the input directory\n",
        "\n",
        "import os\n",
        "for dirname, _, filenames in os.walk('/kaggle/input'):\n",
        "    for filename in filenames:\n",
        "        print(os.path.join(dirname, filename))\n",
        "\n",
        "# You can write up to 20GB to the current directory (/kaggle/working/) that gets preserved as output when you create a version using \"Save & Run All\"\n",
        "# You can also write temporary files to /kaggle/temp/, but they won't be saved outside of the current session"
      ],
      "metadata": {
        "_uuid": "8f2839f25d086af736a60e9eeb907d3b93b6e0e5",
        "_cell_guid": "b1076dfc-b9ad-4769-8c92-a6c4dae69d19",
        "execution": {
          "iopub.status.busy": "2024-05-19T11:47:50.438473Z",
          "iopub.execute_input": "2024-05-19T11:47:50.438848Z",
          "iopub.status.idle": "2024-05-19T11:47:50.477335Z",
          "shell.execute_reply.started": "2024-05-19T11:47:50.438770Z",
          "shell.execute_reply": "2024-05-19T11:47:50.476349Z"
        },
        "trusted": true,
        "id": "KsCPa4xI8VMX",
        "outputId": "eb66ee17-86a9-4412-d910-0e58a9a17506"
      },
      "execution_count": null,
      "outputs": [
        {
          "name": "stdout",
          "text": "/kaggle/input/thesis/Finaldf.csv\n/kaggle/input/news-articles/Articles.csv\n",
          "output_type": "stream"
        }
      ]
    },
    {
      "cell_type": "code",
      "source": [
        "%%time\n",
        "import os\n",
        "from glob import glob\n",
        "import numpy as np\n",
        "import matplotlib.pyplot as plt\n",
        "%matplotlib inline\n",
        "import pandas as pd\n",
        "import seaborn as sns\n",
        "import re\n",
        "import nltk\n",
        "import json\n",
        "from sklearn.preprocessing import MultiLabelBinarizer\n",
        "from sklearn.metrics import confusion_matrix\n",
        "from sklearn.metrics import classification_report\n",
        "from sklearn.model_selection import train_test_split\n",
        "from sklearn.linear_model import LogisticRegression\n",
        "from sklearn.tree import DecisionTreeClassifier\n",
        "from sklearn.ensemble import RandomForestClassifier\n",
        "from sklearn.linear_model import SGDClassifier\n",
        "from sklearn.naive_bayes import MultinomialNB\n",
        "from sklearn.ensemble import VotingClassifier\n",
        "from sklearn.ensemble import BaggingClassifier\n",
        "from sklearn.ensemble import AdaBoostClassifier, RandomForestClassifier, ExtraTreesClassifier\n",
        "from sklearn.svm import SVC\n",
        "from sklearn.metrics import accuracy_score,precision_score,recall_score,f1_score,roc_auc_score\n",
        "from sklearn.metrics import average_precision_score,roc_auc_score, roc_curve, precision_recall_curve\n",
        "from sklearn.preprocessing import LabelEncoder\n",
        "from sklearn.feature_extraction.text import TfidfVectorizer\n",
        "np.random.seed(42)\n",
        "import nltk\n",
        "nltk.download('punkt')\n",
        "from nltk.corpus import stopwords\n",
        "from nltk.tokenize import word_tokenize\n",
        "from nltk.tokenize import ToktokTokenizer\n",
        "import nltk, string, re, spacy,unicodedata, random\n",
        "from bs4 import BeautifulSoup\n",
        "import warnings\n",
        "warnings.filterwarnings('ignore')"
      ],
      "metadata": {
        "execution": {
          "iopub.status.busy": "2024-05-19T11:47:54.532303Z",
          "iopub.execute_input": "2024-05-19T11:47:54.532688Z",
          "iopub.status.idle": "2024-05-19T11:48:05.583920Z",
          "shell.execute_reply.started": "2024-05-19T11:47:54.532657Z",
          "shell.execute_reply": "2024-05-19T11:48:05.582908Z"
        },
        "trusted": true,
        "id": "G8LOnCV78VMg",
        "outputId": "9323bf3d-1c16-41f2-ce53-371edea20955"
      },
      "execution_count": null,
      "outputs": [
        {
          "name": "stderr",
          "text": "[nltk_data] Downloading package punkt to /usr/share/nltk_data...\n[nltk_data]   Package punkt is already up-to-date!\n",
          "output_type": "stream"
        },
        {
          "name": "stdout",
          "text": "CPU times: user 5.2 s, sys: 1.14 s, total: 6.34 s\nWall time: 11 s\n",
          "output_type": "stream"
        }
      ]
    },
    {
      "cell_type": "code",
      "source": [
        "import pandas as pd\n",
        "data = pd.read_csv(\"/kaggle/input/thesis/Finaldf.csv\")\n",
        "print(f'Total number of Documents: {len(data)}')"
      ],
      "metadata": {
        "execution": {
          "iopub.status.busy": "2024-05-19T11:48:10.760892Z",
          "iopub.execute_input": "2024-05-19T11:48:10.761565Z",
          "iopub.status.idle": "2024-05-19T11:48:10.925804Z",
          "shell.execute_reply.started": "2024-05-19T11:48:10.761529Z",
          "shell.execute_reply": "2024-05-19T11:48:10.924642Z"
        },
        "trusted": true,
        "id": "3rZ6OuS98VMj",
        "outputId": "3304d66d-f0e5-44f3-e14d-77b99f5cfa27"
      },
      "execution_count": null,
      "outputs": [
        {
          "name": "stdout",
          "text": "Total number of Documents: 7300\n",
          "output_type": "stream"
        }
      ]
    },
    {
      "cell_type": "code",
      "source": [
        "import pandas as pd\n",
        "\n",
        "# Assuming your dataset is stored in a DataFrame called 'df'\n",
        "# Replace 'clean text' with the actual column name in your dataset\n",
        "duplicates = data[data.duplicated(subset='text', keep=False)]\n",
        "\n",
        "# 'duplicates' now contains all rows where the 'clean text' column has duplicate values\n",
        "# You can inspect these entries to understand why they are duplicated\n",
        "\n",
        "# To print the count of duplicated rows:\n",
        "print(f\"Number of duplicated rows: {len(duplicates)}\")"
      ],
      "metadata": {
        "execution": {
          "iopub.status.busy": "2024-05-19T11:48:15.184196Z",
          "iopub.execute_input": "2024-05-19T11:48:15.185122Z",
          "iopub.status.idle": "2024-05-19T11:48:15.206907Z",
          "shell.execute_reply.started": "2024-05-19T11:48:15.185077Z",
          "shell.execute_reply": "2024-05-19T11:48:15.205833Z"
        },
        "trusted": true,
        "id": "Odg3lgfU8VMl",
        "outputId": "e981e5a9-e458-4488-9f4b-af78fb50178f"
      },
      "execution_count": null,
      "outputs": [
        {
          "name": "stdout",
          "text": "Number of duplicated rows: 0\n",
          "output_type": "stream"
        }
      ]
    },
    {
      "cell_type": "code",
      "source": [
        "data = data[['text','label']]"
      ],
      "metadata": {
        "execution": {
          "iopub.status.busy": "2024-05-19T11:48:19.515321Z",
          "iopub.execute_input": "2024-05-19T11:48:19.515705Z",
          "iopub.status.idle": "2024-05-19T11:48:19.522448Z",
          "shell.execute_reply.started": "2024-05-19T11:48:19.515674Z",
          "shell.execute_reply": "2024-05-19T11:48:19.521473Z"
        },
        "trusted": true,
        "id": "TrGQh8Tb8VMo"
      },
      "execution_count": null,
      "outputs": []
    },
    {
      "cell_type": "code",
      "source": [
        "data = data.rename(columns={0:'text',1:'label'})"
      ],
      "metadata": {
        "execution": {
          "iopub.status.busy": "2024-05-19T11:48:26.060990Z",
          "iopub.execute_input": "2024-05-19T11:48:26.061958Z",
          "iopub.status.idle": "2024-05-19T11:48:26.068494Z",
          "shell.execute_reply.started": "2024-05-19T11:48:26.061917Z",
          "shell.execute_reply": "2024-05-19T11:48:26.067195Z"
        },
        "trusted": true,
        "id": "RmAGAts18VMq"
      },
      "execution_count": null,
      "outputs": []
    },
    {
      "cell_type": "code",
      "source": [
        "total_categories = data['label'].nunique()\n",
        "print(\"Total number of categories:\", total_categories)"
      ],
      "metadata": {
        "execution": {
          "iopub.status.busy": "2024-05-19T11:48:29.135298Z",
          "iopub.execute_input": "2024-05-19T11:48:29.135687Z",
          "iopub.status.idle": "2024-05-19T11:48:29.142398Z",
          "shell.execute_reply.started": "2024-05-19T11:48:29.135655Z",
          "shell.execute_reply": "2024-05-19T11:48:29.141413Z"
        },
        "trusted": true,
        "id": "uyvHCkYI8VMr",
        "outputId": "69ba63e0-f668-4f93-c8a2-a764eda473c5"
      },
      "execution_count": null,
      "outputs": [
        {
          "name": "stdout",
          "text": "Total number of categories: 6\n",
          "output_type": "stream"
        }
      ]
    },
    {
      "cell_type": "code",
      "source": [
        "# Assuming 'data' is your DataFrame with columns renamed\n",
        "category_names = data['label'].unique()\n",
        "print(\"Category names:\", category_names)"
      ],
      "metadata": {
        "execution": {
          "iopub.status.busy": "2024-05-19T11:48:32.270566Z",
          "iopub.execute_input": "2024-05-19T11:48:32.270945Z",
          "iopub.status.idle": "2024-05-19T11:48:32.277937Z",
          "shell.execute_reply.started": "2024-05-19T11:48:32.270914Z",
          "shell.execute_reply": "2024-05-19T11:48:32.276977Z"
        },
        "trusted": true,
        "id": "Tp3_LAtV8VMs",
        "outputId": "e33186c4-544a-47fd-ec02-d5b441a091a9"
      },
      "execution_count": null,
      "outputs": [
        {
          "name": "stdout",
          "text": "Category names: ['Software Engineering' 'DBMS' 'Data Communication' 'Cyber Security '\n 'Operating System' 'Cyber Security']\n",
          "output_type": "stream"
        }
      ]
    },
    {
      "cell_type": "code",
      "source": [
        "# Replace 'Cyber Security' and 'Cyber Security ' with 'Cyber Security'\n",
        "data['label'] = data['label'].replace(['Cyber Security ', 'Cyber Security  '], 'Cyber Security')\n",
        "\n",
        "# Replace 'Operating System' and 'operating System' with 'Operating System'\n",
        "data['label'] = data['label'].replace(['Operating System', 'operating System'], 'Operating System')"
      ],
      "metadata": {
        "execution": {
          "iopub.status.busy": "2024-05-19T11:48:34.909815Z",
          "iopub.execute_input": "2024-05-19T11:48:34.910624Z",
          "iopub.status.idle": "2024-05-19T11:48:34.921136Z",
          "shell.execute_reply.started": "2024-05-19T11:48:34.910584Z",
          "shell.execute_reply": "2024-05-19T11:48:34.920201Z"
        },
        "trusted": true,
        "id": "IYsYSMde8VMt"
      },
      "execution_count": null,
      "outputs": []
    },
    {
      "cell_type": "code",
      "source": [
        "# Assuming 'data' is your DataFrame with the 'label' column containing category names\n",
        "unique_classes = data['label'].unique()\n",
        "print(\"Unique classes:\", unique_classes)"
      ],
      "metadata": {
        "execution": {
          "iopub.status.busy": "2024-05-19T11:48:38.010106Z",
          "iopub.execute_input": "2024-05-19T11:48:38.011049Z",
          "iopub.status.idle": "2024-05-19T11:48:38.017414Z",
          "shell.execute_reply.started": "2024-05-19T11:48:38.011010Z",
          "shell.execute_reply": "2024-05-19T11:48:38.016376Z"
        },
        "trusted": true,
        "id": "UVBeQLMo8VMu",
        "outputId": "2f345ed4-f37c-4297-90a8-f3d12f4faed1"
      },
      "execution_count": null,
      "outputs": [
        {
          "name": "stdout",
          "text": "Unique classes: ['Software Engineering' 'DBMS' 'Data Communication' 'Cyber Security'\n 'Operating System']\n",
          "output_type": "stream"
        }
      ]
    },
    {
      "cell_type": "code",
      "source": [
        "def text_to_word_list(text):\n",
        "    text = text.split()\n",
        "    return text\n",
        "\n",
        "def replace_strings(text):\n",
        "    emoji_pattern = re.compile(\"[\"\n",
        "                           u\"\\U0001F600-\\U0001F64F\"  # emoticons\n",
        "                           u\"\\U0001F300-\\U0001F5FF\"  # symbols & pictographs\n",
        "                           u\"\\U0001F680-\\U0001F6FF\"  # transport & map symbols\n",
        "                           u\"\\U0001F1E0-\\U0001F1FF\"  # flags (iOS)\n",
        "                           u\"\\U00002702-\\U000027B0\"\n",
        "                           u\"\\U000024C2-\\U0001F251\"\n",
        "                           u\"\\u00C0-\\u017F\"          #latin\n",
        "                           u\"\\u2000-\\u206F\"          #generalPunctuations\n",
        "\n",
        "                           \"]+\", flags=re.UNICODE)\n",
        "    #english_pattern=re.compile('[a-zA-Z0-9]+', flags=re.I)\n",
        "    #latin_pattern=re.compile('[A-Za-z\\u00C0-\\u00D6\\u00D8-\\u00f6\\u00f8-\\u00ff\\s]*',)\n",
        "\n",
        "    text=emoji_pattern.sub(r'', text)\n",
        "    #text=english_pattern.sub(r'', text)\n",
        "    text = re.sub(r'₀|₁|₂|₃|₄|₅|₆|₇|₈|₉', '', text)\n",
        "    #text = re.sub(r'⁰|¹|²|³|⁴|⁵|⁶|⁷|⁸|⁹|⁻|⁺|ⁿ|ᵗ', '', text)\n",
        "\n",
        "    return text\n",
        "\n",
        "def remove_punctuations(my_str):\n",
        "    # define punctuation\n",
        "    punctuations = '''````£|¢|Ñ+-*/=৳০১২৩৪৫৬৭৮৯012–34567•89।!()-−[]{};:'\"“\\’,<>./?@#$%^&*_~‘—॥”‰θ→°π∈∝α≤≥Δβε≠�￰৷￰'''\n",
        "\n",
        "    no_punct = \"\"\n",
        "    for char in my_str:\n",
        "        if char not in punctuations:\n",
        "            no_punct = no_punct + char\n",
        "\n",
        "    # display the unpunctuated string\n",
        "    return no_punct\n",
        "\n",
        "\n",
        "\n",
        "def joining(text):\n",
        "    out=' '.join(text)\n",
        "    return out\n",
        "\n",
        "def preprocessing(text):\n",
        "    out=remove_punctuations(replace_strings(text))\n",
        "    return out\n"
      ],
      "metadata": {
        "execution": {
          "iopub.status.busy": "2024-05-19T11:48:41.425975Z",
          "iopub.execute_input": "2024-05-19T11:48:41.426353Z",
          "iopub.status.idle": "2024-05-19T11:48:41.437444Z",
          "shell.execute_reply.started": "2024-05-19T11:48:41.426319Z",
          "shell.execute_reply": "2024-05-19T11:48:41.436285Z"
        },
        "trusted": true,
        "id": "0fYOZIyD8VMv"
      },
      "execution_count": null,
      "outputs": []
    },
    {
      "cell_type": "code",
      "source": [
        "data['cleaned'] = data['text'].apply(lambda x: preprocessing(str(x)))"
      ],
      "metadata": {
        "execution": {
          "iopub.status.busy": "2024-05-19T11:48:46.300220Z",
          "iopub.execute_input": "2024-05-19T11:48:46.301008Z",
          "iopub.status.idle": "2024-05-19T11:48:46.587505Z",
          "shell.execute_reply.started": "2024-05-19T11:48:46.300975Z",
          "shell.execute_reply": "2024-05-19T11:48:46.586644Z"
        },
        "trusted": true,
        "id": "i6cj28Xm8VMx"
      },
      "execution_count": null,
      "outputs": []
    },
    {
      "cell_type": "code",
      "source": [
        "sample_data = range(4000, 4005)\n",
        "for i in sample_data:\n",
        "    print(data['cleaned'][i])"
      ],
      "metadata": {
        "execution": {
          "iopub.status.busy": "2024-05-19T11:48:49.589613Z",
          "iopub.execute_input": "2024-05-19T11:48:49.589963Z",
          "iopub.status.idle": "2024-05-19T11:48:49.601819Z",
          "shell.execute_reply.started": "2024-05-19T11:48:49.589935Z",
          "shell.execute_reply": "2024-05-19T11:48:49.600792Z"
        },
        "trusted": true,
        "id": "Kmsqfr0j8VMy",
        "outputId": "838f6ead-9d05-479e-e43a-52bc9c1f3065"
      },
      "execution_count": null,
      "outputs": [
        {
          "name": "stdout",
          "text": "গ্রে হ্যাট হ্যাকাররা  আবার তা নিজের স্বার্থের জন্যও ব্যবহার করতে পারে\nব্ল্যাক হ্যাট হ্যাকার Black Hat Hacker এই ধরনের হ্যাকাররা সবচেয়ে ভয়ংকর প্রকৃতির হ্যাকার \nব্ল্যাক হ্যাট হ্যাকার  কোনো একটি সিকিউরিটি সিস্টেমের ত্রুটিগুলো বের করলে দ্রুত ঐ ত্রুটিকে নিজের স্বার্থে কাজে লাগায় \nব্ল্যাক হ্যাট হ্যাকার  এরা সিস্টেম নষ্ট করে বিভিন্ন ভাইরাস ছড়িয়ে দেয় \nব্ল্যাক হ্যাট হ্যাকার  তারা ভবিষ্যতে নিজে আবার যেন ঢুকতে পারে সে পথ রাখে \n",
          "output_type": "stream"
        }
      ]
    },
    {
      "cell_type": "code",
      "source": [
        "stop =[\"অতএব\",\"অথচ\",\"অথবা\",\"অনুযায়ী\",\"অনেক\",\"অনেকে\",\"অনেকেই\",\"অন্তত\",\"অন্য\",\"অবধি\",\"অবশ্য\",\"অর্থাত\",\"আই\",\"আগামী\",\"আগে\",\"আগেই\",\"আছে\",\"আজ\",\"আদ্যভাগে\",\"আপনার\",\"আপনি\",\"আবার\",\"আমরা\",\"আমাকে\",\"আমাদের\",\"আমার\",\"আমি\",\"আর\",\"আরও\",\"ই\",\"ইত্যাদি\",\"ইহা\",\"উচিত\",\"উত্তর\",\"উনি\",\"উপর\",\"উপরে\",\"এ\",\"এঁদের\",\"এঁরা\",\"এই\",\"একই\",\"একটি\",\"একবার\",\"একে\",\"এক্\",\"এখন\",\"এখনও\",\"এখানে\",\"এখানেই\",\"এটা\",\"এটাই\",\"এটি\",\"এত\",\"এতটাই\",\"এতে\",\"এদের\",\"এব\",\"এবং\",\"এবার\",\"এমন\",\"এমনকী\",\"এমনি\",\"এর\",\"এরা\",\"এল\",\"এস\",\"এসে\",\"ঐ\",\"ও\",\"ওঁদের\",\"ওঁর\",\"ওঁরা\",\"ওই\",\"ওকে\",\"ওখানে\",\"ওদের\",\"ওর\",\"ওরা\",\"কখনও\",\"কত\",\"কবে\",\"কমনে\",\"কয়েক\",\"কয়েকটি\",\"করছে\",\"করছেন\",\"করতে\",\"করবে\",\"করবেন\",\"করলে\",\"করলেন\",\"করা\",\"করাই\",\"করায়\",\"করার\",\"করি\",\"করিতে\",\"করিয়া\",\"করিয়ে\",\"করে\",\"করেই\",\"করেছিলেন\",\"করেছে\",\"করেছেন\",\"করেন\",\"কাউকে\",\"কাছ\",\"কাছে\",\"কাজ\",\"কাজে\",\"কারও\",\"কারণ\",\"কি\",\"কিংবা\",\"কিছু\",\"কিছুই\",\"কিন্তু\",\"কী\",\"কে\",\"কেউ\",\"কেউই\",\"কেখা\",\"কেন\",\"কোটি\",\"কোন\",\"কোনও\",\"কোনো\",\"ক্ষেত্রে\",\"কয়েক\",\"খুব\",\"গিয়ে\",\"গিয়েছে\",\"গিয়ে\",\"গুলি\",\"গেছে\",\"গেল\",\"গেলে\",\"গোটা\",\"চলে\",\"চান\",\"চায়\",\"চার\",\"চালু\",\"চেয়ে\",\"চেষ্টা\",\"ছাড়া\",\"ছাড়াও\",\"ছিল\",\"ছিলেন\",\"জন\",\"জনকে\",\"জনের\",\"জন্য\",\"জন্যওজে\",\"জানতে\",\"জানা\",\"জানানো\",\"জানায়\",\"জানিয়ে\",\"জানিয়েছে\",\"জে\",\"জ্নজন\",\"টি\",\"ঠিক\",\"তখন\",\"তত\",\"তথা\",\"তবু\",\"তবে\",\"তা\",\"তাঁকে\",\"তাঁদের\",\"তাঁর\",\"তাঁরা\",\"তাঁাহারা\",\"তাই\",\"তাও\",\"তাকে\",\"তাতে\",\"তাদের\",\"তার\",\"তারপর\",\"তারা\",\"তারৈ\",\"তাহলে\",\"তাহা\",\"তাহাতে\",\"তাহার\",\"তিনঐ\",\"তিনি\",\"তিনিও\",\"তুমি\",\"তুলে\",\"তেমন\",\"তো\",\"তোমার\",\"থাকবে\",\"থাকবেন\",\"থাকা\",\"থাকায়\",\"থাকে\",\"থাকেন\",\"থেকে\",\"থেকেই\",\"থেকেও\",\"দিকে\",\"দিতে\",\"দিন\",\"দিয়ে\",\"দিয়েছে\",\"দিয়েছেন\",\"দিলেন\",\"দু\",\"দুই\",\"দুটি\",\"দুটো\",\"দেওয়া\",\"দেওয়ার\",\"দেওয়া\",\"দেখতে\",\"দেখা\",\"দেখে\",\"দেন\",\"দেয়\",\"দ্বারা\",\"ধরা\",\"ধরে\",\"ধামার\",\"নতুন\",\"নয়\",\"না\",\"নাই\",\"নাকি\",\"নাগাদ\",\"নানা\",\"নিজে\",\"নিজেই\",\"নিজেদের\",\"নিজের\",\"নিতে\",\"নিয়ে\",\"নিয়ে\",\"নেই\",\"নেওয়া\",\"নেওয়ার\",\"নেওয়া\",\"নয়\",\"পক্ষে\",\"পর\",\"পরে\",\"পরেই\",\"পরেও\",\"পর্যন্ত\",\"পাওয়া\",\"পাচ\",\"পারি\",\"পারে\",\"পারেন\",\"পি\",\"পেয়ে\",\"পেয়্র্\",\"প্রতি\",\"প্রথম\",\"প্রভৃতি\",\"প্রযন্ত\",\"প্রাথমিক\",\"প্রায়\",\"প্রায়\",\"ফলে\",\"ফিরে\",\"ফের\",\"বক্তব্য\",\"বদলে\",\"বন\",\"বরং\",\"বলতে\",\"বলল\",\"বললেন\",\"বলা\",\"বলে\",\"বলেছেন\",\"বলেন\",\"বসে\",\"বহু\",\"বা\",\"বাদে\",\"বার\",\"বি\",\"বিনা\",\"বিভিন্ন\",\"বিশেষ\",\"বিষয়টি\",\"বেশ\",\"বেশি\",\"ব্যবহার\",\"ব্যাপারে\",\"ভাবে\",\"ভাবেই\",\"মতো\",\"মতোই\",\"মধ্যভাগে\",\"মধ্যে\",\"মধ্যেই\",\"মধ্যেও\",\"মনে\",\"মাত্র\",\"মাধ্যমে\",\"মোট\",\"মোটেই\",\"যখন\",\"যত\",\"যতটা\",\"যথেষ্ট\",\"যদি\",\"যদিও\",\"যা\",\"যাঁর\",\"যাঁরা\",\"যাওয়া\",\"যাওয়ার\",\"যাওয়া\",\"যাকে\",\"যাচ্ছে\",\"যাতে\",\"যাদের\",\"যান\",\"যাবে\",\"যায়\",\"যার\",\"যারা\",\"যিনি\",\"যে\",\"যেখানে\",\"যেতে\",\"যেন\",\"যেমন\",\"র\",\"রকম\",\"রয়েছে\",\"রাখা\",\"রেখে\",\"লক্ষ\",\"শুধু\",\"শুরু\",\"সঙ্গে\",\"সঙ্গেও\",\"সব\",\"সবার\",\"সমস্ত\",\"সম্প্রতি\",\"সহ\",\"সহিত\",\"সাথে\",\"সাধারণ\",\"সামনে\",\"সি\",\"সুতরাং\",\"সে\",\"সেই\",\"সেখান\",\"সেখানে\",\"সেটা\",\"সেটাই\",\"সেটাও\",\"সেটি\",\"স্পষ্ট\",\"স্বয়ং\",\"হইতে\",\"হইবে\",\"হইয়া\",\"হওয়া\",\"হওয়ায়\",\"হওয়ার\",\"হচ্ছে\",\"হত\",\"হতে\",\"হতেই\",\"হন\",\"হবে\",\"হবেন\",\"হয়\",\"হয়তো\",\"হয়নি\",\"হয়ে\",\"হয়েই\",\"হয়েছিল\",\"হয়েছে\",\"হয়েছেন\",\"হল\",\"হলে\",\"হলেই\",\"হলেও\",\"হলো\",\"হাজার\",\"হিসাবে\",\"হৈলে\",\"হোক\",\"হয়\"]\n",
        "display(stop)"
      ],
      "metadata": {
        "execution": {
          "iopub.status.busy": "2024-05-19T11:48:51.995102Z",
          "iopub.execute_input": "2024-05-19T11:48:51.995622Z",
          "iopub.status.idle": "2024-05-19T11:48:52.037537Z",
          "shell.execute_reply.started": "2024-05-19T11:48:51.995586Z",
          "shell.execute_reply": "2024-05-19T11:48:52.036213Z"
        },
        "trusted": true,
        "id": "EticK6hg8VMz",
        "outputId": "e07ba13f-af4f-4df4-93be-8bd50e1f7932"
      },
      "execution_count": null,
      "outputs": [
        {
          "output_type": "display_data",
          "data": {
            "text/plain": "['অতএব',\n 'অথচ',\n 'অথবা',\n 'অনুযায়ী',\n 'অনেক',\n 'অনেকে',\n 'অনেকেই',\n 'অন্তত',\n 'অন্য',\n 'অবধি',\n 'অবশ্য',\n 'অর্থাত',\n 'আই',\n 'আগামী',\n 'আগে',\n 'আগেই',\n 'আছে',\n 'আজ',\n 'আদ্যভাগে',\n 'আপনার',\n 'আপনি',\n 'আবার',\n 'আমরা',\n 'আমাকে',\n 'আমাদের',\n 'আমার',\n 'আমি',\n 'আর',\n 'আরও',\n 'ই',\n 'ইত্যাদি',\n 'ইহা',\n 'উচিত',\n 'উত্তর',\n 'উনি',\n 'উপর',\n 'উপরে',\n 'এ',\n 'এঁদের',\n 'এঁরা',\n 'এই',\n 'একই',\n 'একটি',\n 'একবার',\n 'একে',\n 'এক্',\n 'এখন',\n 'এখনও',\n 'এখানে',\n 'এখানেই',\n 'এটা',\n 'এটাই',\n 'এটি',\n 'এত',\n 'এতটাই',\n 'এতে',\n 'এদের',\n 'এব',\n 'এবং',\n 'এবার',\n 'এমন',\n 'এমনকী',\n 'এমনি',\n 'এর',\n 'এরা',\n 'এল',\n 'এস',\n 'এসে',\n 'ঐ',\n 'ও',\n 'ওঁদের',\n 'ওঁর',\n 'ওঁরা',\n 'ওই',\n 'ওকে',\n 'ওখানে',\n 'ওদের',\n 'ওর',\n 'ওরা',\n 'কখনও',\n 'কত',\n 'কবে',\n 'কমনে',\n 'কয়েক',\n 'কয়েকটি',\n 'করছে',\n 'করছেন',\n 'করতে',\n 'করবে',\n 'করবেন',\n 'করলে',\n 'করলেন',\n 'করা',\n 'করাই',\n 'করায়',\n 'করার',\n 'করি',\n 'করিতে',\n 'করিয়া',\n 'করিয়ে',\n 'করে',\n 'করেই',\n 'করেছিলেন',\n 'করেছে',\n 'করেছেন',\n 'করেন',\n 'কাউকে',\n 'কাছ',\n 'কাছে',\n 'কাজ',\n 'কাজে',\n 'কারও',\n 'কারণ',\n 'কি',\n 'কিংবা',\n 'কিছু',\n 'কিছুই',\n 'কিন্তু',\n 'কী',\n 'কে',\n 'কেউ',\n 'কেউই',\n 'কেখা',\n 'কেন',\n 'কোটি',\n 'কোন',\n 'কোনও',\n 'কোনো',\n 'ক্ষেত্রে',\n 'কয়েক',\n 'খুব',\n 'গিয়ে',\n 'গিয়েছে',\n 'গিয়ে',\n 'গুলি',\n 'গেছে',\n 'গেল',\n 'গেলে',\n 'গোটা',\n 'চলে',\n 'চান',\n 'চায়',\n 'চার',\n 'চালু',\n 'চেয়ে',\n 'চেষ্টা',\n 'ছাড়া',\n 'ছাড়াও',\n 'ছিল',\n 'ছিলেন',\n 'জন',\n 'জনকে',\n 'জনের',\n 'জন্য',\n 'জন্যওজে',\n 'জানতে',\n 'জানা',\n 'জানানো',\n 'জানায়',\n 'জানিয়ে',\n 'জানিয়েছে',\n 'জে',\n 'জ্নজন',\n 'টি',\n 'ঠিক',\n 'তখন',\n 'তত',\n 'তথা',\n 'তবু',\n 'তবে',\n 'তা',\n 'তাঁকে',\n 'তাঁদের',\n 'তাঁর',\n 'তাঁরা',\n 'তাঁাহারা',\n 'তাই',\n 'তাও',\n 'তাকে',\n 'তাতে',\n 'তাদের',\n 'তার',\n 'তারপর',\n 'তারা',\n 'তারৈ',\n 'তাহলে',\n 'তাহা',\n 'তাহাতে',\n 'তাহার',\n 'তিনঐ',\n 'তিনি',\n 'তিনিও',\n 'তুমি',\n 'তুলে',\n 'তেমন',\n 'তো',\n 'তোমার',\n 'থাকবে',\n 'থাকবেন',\n 'থাকা',\n 'থাকায়',\n 'থাকে',\n 'থাকেন',\n 'থেকে',\n 'থেকেই',\n 'থেকেও',\n 'দিকে',\n 'দিতে',\n 'দিন',\n 'দিয়ে',\n 'দিয়েছে',\n 'দিয়েছেন',\n 'দিলেন',\n 'দু',\n 'দুই',\n 'দুটি',\n 'দুটো',\n 'দেওয়া',\n 'দেওয়ার',\n 'দেওয়া',\n 'দেখতে',\n 'দেখা',\n 'দেখে',\n 'দেন',\n 'দেয়',\n 'দ্বারা',\n 'ধরা',\n 'ধরে',\n 'ধামার',\n 'নতুন',\n 'নয়',\n 'না',\n 'নাই',\n 'নাকি',\n 'নাগাদ',\n 'নানা',\n 'নিজে',\n 'নিজেই',\n 'নিজেদের',\n 'নিজের',\n 'নিতে',\n 'নিয়ে',\n 'নিয়ে',\n 'নেই',\n 'নেওয়া',\n 'নেওয়ার',\n 'নেওয়া',\n 'নয়',\n 'পক্ষে',\n 'পর',\n 'পরে',\n 'পরেই',\n 'পরেও',\n 'পর্যন্ত',\n 'পাওয়া',\n 'পাচ',\n 'পারি',\n 'পারে',\n 'পারেন',\n 'পি',\n 'পেয়ে',\n 'পেয়্র্',\n 'প্রতি',\n 'প্রথম',\n 'প্রভৃতি',\n 'প্রযন্ত',\n 'প্রাথমিক',\n 'প্রায়',\n 'প্রায়',\n 'ফলে',\n 'ফিরে',\n 'ফের',\n 'বক্তব্য',\n 'বদলে',\n 'বন',\n 'বরং',\n 'বলতে',\n 'বলল',\n 'বললেন',\n 'বলা',\n 'বলে',\n 'বলেছেন',\n 'বলেন',\n 'বসে',\n 'বহু',\n 'বা',\n 'বাদে',\n 'বার',\n 'বি',\n 'বিনা',\n 'বিভিন্ন',\n 'বিশেষ',\n 'বিষয়টি',\n 'বেশ',\n 'বেশি',\n 'ব্যবহার',\n 'ব্যাপারে',\n 'ভাবে',\n 'ভাবেই',\n 'মতো',\n 'মতোই',\n 'মধ্যভাগে',\n 'মধ্যে',\n 'মধ্যেই',\n 'মধ্যেও',\n 'মনে',\n 'মাত্র',\n 'মাধ্যমে',\n 'মোট',\n 'মোটেই',\n 'যখন',\n 'যত',\n 'যতটা',\n 'যথেষ্ট',\n 'যদি',\n 'যদিও',\n 'যা',\n 'যাঁর',\n 'যাঁরা',\n 'যাওয়া',\n 'যাওয়ার',\n 'যাওয়া',\n 'যাকে',\n 'যাচ্ছে',\n 'যাতে',\n 'যাদের',\n 'যান',\n 'যাবে',\n 'যায়',\n 'যার',\n 'যারা',\n 'যিনি',\n 'যে',\n 'যেখানে',\n 'যেতে',\n 'যেন',\n 'যেমন',\n 'র',\n 'রকম',\n 'রয়েছে',\n 'রাখা',\n 'রেখে',\n 'লক্ষ',\n 'শুধু',\n 'শুরু',\n 'সঙ্গে',\n 'সঙ্গেও',\n 'সব',\n 'সবার',\n 'সমস্ত',\n 'সম্প্রতি',\n 'সহ',\n 'সহিত',\n 'সাথে',\n 'সাধারণ',\n 'সামনে',\n 'সি',\n 'সুতরাং',\n 'সে',\n 'সেই',\n 'সেখান',\n 'সেখানে',\n 'সেটা',\n 'সেটাই',\n 'সেটাও',\n 'সেটি',\n 'স্পষ্ট',\n 'স্বয়ং',\n 'হইতে',\n 'হইবে',\n 'হইয়া',\n 'হওয়া',\n 'হওয়ায়',\n 'হওয়ার',\n 'হচ্ছে',\n 'হত',\n 'হতে',\n 'হতেই',\n 'হন',\n 'হবে',\n 'হবেন',\n 'হয়',\n 'হয়তো',\n 'হয়নি',\n 'হয়ে',\n 'হয়েই',\n 'হয়েছিল',\n 'হয়েছে',\n 'হয়েছেন',\n 'হল',\n 'হলে',\n 'হলেই',\n 'হলেও',\n 'হলো',\n 'হাজার',\n 'হিসাবে',\n 'হৈলে',\n 'হোক',\n 'হয়']"
          },
          "metadata": {}
        }
      ]
    },
    {
      "cell_type": "code",
      "source": [
        "def stopwordRemoval(text):\n",
        "    x=str(text)\n",
        "    l=x.split()\n",
        "\n",
        "    stm=[elem for elem in l if elem not in stop]\n",
        "\n",
        "    out=' '.join(stm)\n",
        "\n",
        "    return str(out)"
      ],
      "metadata": {
        "execution": {
          "iopub.status.busy": "2024-05-19T11:49:01.142015Z",
          "iopub.execute_input": "2024-05-19T11:49:01.142392Z",
          "iopub.status.idle": "2024-05-19T11:49:01.148032Z",
          "shell.execute_reply.started": "2024-05-19T11:49:01.142361Z",
          "shell.execute_reply": "2024-05-19T11:49:01.147026Z"
        },
        "trusted": true,
        "id": "q2H3uktF8VM0"
      },
      "execution_count": null,
      "outputs": []
    },
    {
      "cell_type": "code",
      "source": [
        "# Apply the stopwordRemoval function to the 'clean text' column\n",
        "data['cleaned'] = data['cleaned'].apply(lambda x: stopwordRemoval(str(x)))\n",
        "\n",
        "# Iterate through the first 1000 rows and print the 'clean text' column values\n",
        "sample_data = range(0, 5)\n",
        "for i in sample_data:\n",
        "    print(data['cleaned'][i])"
      ],
      "metadata": {
        "execution": {
          "iopub.status.busy": "2024-05-19T11:49:04.837097Z",
          "iopub.execute_input": "2024-05-19T11:49:04.837478Z",
          "iopub.status.idle": "2024-05-19T11:49:05.456920Z",
          "shell.execute_reply.started": "2024-05-19T11:49:04.837447Z",
          "shell.execute_reply": "2024-05-19T11:49:05.455857Z"
        },
        "trusted": true,
        "id": "H6RzlFDK8VM1",
        "outputId": "4f974db3-fc88-4e2a-fea7-2865a6938b24"
      },
      "execution_count": null,
      "outputs": [
        {
          "name": "stdout",
          "text": "সফটওয়্যার ইঞ্জিনিয়ারিং দুইটি শব্দ সফটওয়্যার ইঞ্জিনিয়ারিংএর সমন্বয়ে গঠিত\nসফটওয়্যার প্রোগ্রামের সমষ্টি\nপ্রোগ্রাম নির্ধারিত সমস্যা সমাধানের উদ্দেশ্যে তৈরি সফটওয়্যার প্রোডাক্ট\nঅপরদিকে ইঞ্জিনিয়ারিং সকল নীতিমালা মেথড সমূহ প্রোডাক্টটি Software ফিনিশিং প্রোডাক্ট সেগুলোর সুশৃঙ্খল প্রয়োগ করাকে বুঝায়\nসফটওয়্যার ইঞ্জিনিয়ারিং বুঝায়\n",
          "output_type": "stream"
        }
      ]
    },
    {
      "cell_type": "code",
      "source": [
        "from sklearn.model_selection import train_test_split\n",
        "\n",
        "# Split the data into training (80%) and temporary data (20%)\n",
        "train_data, temp_data = train_test_split(data, test_size=0.2, random_state=42)\n",
        "\n",
        "# Further split the temporary data into validation (50%) and test data (50%)\n",
        "val_data, test_data = train_test_split(temp_data, test_size=0.5, random_state=42)\n",
        "\n",
        "# Print the shapes of the resulting datasets\n",
        "print(\"Training data shape:\", train_data.shape)\n",
        "print(\"Validation data shape:\", val_data.shape)\n",
        "print(\"Testing data shape:\", test_data.shape)"
      ],
      "metadata": {
        "execution": {
          "iopub.status.busy": "2024-05-19T11:49:10.820648Z",
          "iopub.execute_input": "2024-05-19T11:49:10.821046Z",
          "iopub.status.idle": "2024-05-19T11:49:10.833053Z",
          "shell.execute_reply.started": "2024-05-19T11:49:10.821015Z",
          "shell.execute_reply": "2024-05-19T11:49:10.832026Z"
        },
        "trusted": true,
        "id": "Tt_GwrMD8VM2",
        "outputId": "7f920711-8f7a-48f5-b0f8-c4aebab9d5b1"
      },
      "execution_count": null,
      "outputs": [
        {
          "name": "stdout",
          "text": "Training data shape: (5840, 3)\nValidation data shape: (730, 3)\nTesting data shape: (730, 3)\n",
          "output_type": "stream"
        }
      ]
    },
    {
      "cell_type": "code",
      "source": [
        "train_data['enc_label'] = train_data['label'].replace({'Software Engineering':0, 'DBMS':1, 'Data Communication':2 ,'Cyber Security':3,\n",
        " 'Operating System':4})\n",
        "val_data['enc_label'] = val_data['label'].replace({'Software Engineering':0, 'DBMS':1, 'Data Communication':2 ,'Cyber Security':3,\n",
        " 'Operating System':4})"
      ],
      "metadata": {
        "execution": {
          "iopub.status.busy": "2024-05-19T11:49:15.725608Z",
          "iopub.execute_input": "2024-05-19T11:49:15.725955Z",
          "iopub.status.idle": "2024-05-19T11:49:15.741221Z",
          "shell.execute_reply.started": "2024-05-19T11:49:15.725927Z",
          "shell.execute_reply": "2024-05-19T11:49:15.740126Z"
        },
        "trusted": true,
        "id": "NP6kfjdo8VM3"
      },
      "execution_count": null,
      "outputs": []
    },
    {
      "cell_type": "code",
      "source": [
        "train_data['cleaned'].tolist()"
      ],
      "metadata": {
        "execution": {
          "iopub.status.busy": "2024-05-19T11:49:19.849414Z",
          "iopub.execute_input": "2024-05-19T11:49:19.849805Z",
          "iopub.status.idle": "2024-05-19T11:49:19.882638Z",
          "shell.execute_reply.started": "2024-05-19T11:49:19.849774Z",
          "shell.execute_reply": "2024-05-19T11:49:19.881526Z"
        },
        "trusted": true,
        "id": "FJjHPOfF8VM3",
        "outputId": "486073e4-21b8-4809-f995-98b5cbca7216"
      },
      "execution_count": null,
      "outputs": [
        {
          "execution_count": 19,
          "output_type": "execute_result",
          "data": {
            "text/plain": "['টপ ডাউন ডিজাইনে সংখ্যক বৈশিষ্ট্য ভিত্তিতে এটিকে একাধিক সাব সিস্টেম উপাদানে ডিকম্পোজ',\n 'সফ্টওয়্যার প্রকল্পের শুরুতে ব্যবসার প্রয়োজন প্রায়ই কথোপকথনের অংশ অনানুষ্ঠানিকভাবে প্রকাশ',\n 'অপারেটিং সিস্টেমের অন্তর্গত system programসমূহকে ক্যাটাগরিতে ভাগ যায়',\n 'Accelerometer মোবাইল ডিভাইসকে গ্রাউন্ডের সাপেক্ষে ওরিয়েন্টেশন ডিটেক্ট অন্যান্য নির্দিষ্ট ফোর্সসমূহকে ডিটেক্ট',\n 'perfect testing সবচেয়ে কাংখিত মেথড Exhaustive test',\n 'তৃতীয়ত অপারেটিং সিস্টেম সিস্টেমের সকল উপাদান Components সংযোগ রক্ষা',\n 'সফটওয়্যার ভেলিডেশন প্রক্রিয়া ইউজারের চাহিদা মোতাবেক সফটওয়্যারটি তৈরি হয়েছে পরীক্ষনের ব্যবহৃত',\n 'সফ্টওয়্যার ডিজাইনের ল্যান্ডমার্ক পেপারে প্রতিটি মডিউলের স্বাধীনতাকে উন্নত কৌশলগুলিকে পরিমার্জন ইঙ্গিত',\n 'Tape Diskএর গতি বাইট',\n 'ট্রোজান হর্স এক ধরনের ক্ষতিকর Program Software ইন্টারনেট অ্যাক্টিভিটিস ডেটা নেটওয়ার্কের ক্ষতি কম্পিউটার সিস্টেমের সুরক্ষা বিঘ্নিত',\n 'ফার্স্ট ফিট পদ্ধতিতে প্রসেস পর্যাপ্ত সাইজের ফ্রি পার্টিশন পাবে সেখানেই প্রসেসটি লোড',\n 'Multiprocessor systemএর খরচ Multiple single processorএর খরচের তুলনায় কম',\n 'কেন্দ্রীভূত ক্লায়েন্টসার্ভার ডাটাবেস সিস্টেমগুলি ধরনের অ্যাপ্লিকেশনগুলি পরিচালনা শক্তিশালী',\n 'ছাড়াও ফ্ল্যাশ টেকনোলজির ফ্ল্যাশ ফিশিং অ্যান্টি ফিশিং পদ্ধতিগুলোকে ধোকা',\n 'Nonpreemptive resourceএর Deadlock সৃষ্টি',\n 'Process Shared memory Message passingএর পরস্পর যোগাযোগ রক্ষা',\n 'ফ্রন্টএন্ড ব্যাকএন্ড ডাটাবেস অন্যান্য অ্যাপ্লিকেশন প্রোগ্রাম ইন্টারফেস',\n 'আজকের কম্পিউটিং পরিবেশে স্পেসিফিকেশনগুলি মুহূর্তের নোটিশে পরিবর্তিত হার্ডওয়্যার প্ল্যাটফর্মগুলি মাস পুরানো অপ্রচলিত সফ্টওয়্যার জীবনকাল সাধারণত বছরের পরিবর্তে মাসে পরিমাপ',\n 'সফটওয়্যারের প্রোগ্রাম ফাইল প্রসিডিওরসমূহ কিভাবে সংঘটিত ভুলে যায় প্রোগ্রাম শেয়ার ডিবাগ প্রোগ্রাম মডিফিকেশনের কার্যাদি কঠিন হয়ে যায়',\n 'সিগন্যাল ট্রান্সমিট মডেম কিছুর প্রয়োজন অর্থাৎ সরাসরি ট্রান্সমিট যায় বেসব্যান্ড',\n 'উচ্চ প্রাপ্যতা নিশ্চিত প্রতিলিপি অন্যান্য কৌশলগুলি সমান্তরাল বিতরণকৃত উভয় ডেটাবেসে বাস্তবায়নের বিবরণ ভিন্ন',\n 'জিনিসটির স্কেচ তৈরি করুন বড় ছবি বুঝতে পারবেন স্থাপত্যগতভাবে কেমন',\n 'অবস্থায় UNIX প্রসেস রান Time sharing সিডিউলিং হতো',\n 'সমগ্র সমাবেশকে ঘিরে কন্ডাক্টিভ লেয়ার টিউবুলার শিল্ড',\n 'এছাড়াও কারণসমূহের ফায়ারওয়াল প্রয়োজন',\n 'ইন্টিগ্রেশন টেস্টিং সফটওয়্যারের সকল ইউনিট পৃথক পৃথক সঠিকভাবে কার্যাদি সম্পাদন করলেও এগুলো ইন্টিগ্রেটেড অবস্থায় ত্রুটিমুক্ত কিনা জানার প্রয়োজন',\n 'David Bhom Nikki Halcy মতে কম্পিউটার প্রযুক্তি ব্যবহারের অপরাধ সংঘটন করাকে সাইবার ক্রাইম অপরাধ',\n 'চটপটে অভিযোজিত সমস্যা প্রকল্প দল সাংগঠনিক সংস্কৃতিতে',\n 'সময় আর্থিক সাশ্রয় সিস্টেমের বিশ্বস্ততা Reliability নিরাপত্তা Security সঞ্চয় মাধ্যআিাদামদকে নিশ্চিত হার্ডওয়্যার রিসোর্সসমূহ শেয়ারিং একাদিক কম্পিউটারের তথ্য কারো আদান প্রদান কম্পিউটার নেটওয়ার্কের মৌলিক উদ্দেশ্য',\n 'অধ্যায়টি স্ট্রিম সাইফারের ভূমিকা',\n 'সফ্টওয়্যার বিকাশের পণ্যের শ্রোতা সম্ভাব্যভাবে বড়',\n 'সফ্টওয়্যার সেফহোম পণ্য লাইন তৈরি ভাঙবে',\n 'অপারেশন ট্র্যানজ্যাকশনকে ছোট ছোট ট্র্যানজ্যাকশনে বিভক্ত প্যারালালী প্রসেসিংএ থ্রোপুট রেসপন্স টাইম বৃদ্ধি পায় Improve',\n 'Memory Rateএ Data Printerকে Delivery দিবে Printer Rateএ Receive Print',\n 'সফ্টওয়্যার সম্পর্কে উদ্বেগের প্রকাশ কীভাবে উদ্বেগ তৈরি সফ্টওয়্যার ইঞ্জিনিয়ারিং অনুশীলন গ্রহণের পরিচালিত',\n 'ডিস্ট্রিবিউটেড সিস্টেম ফিজিক্যাল আলাদা বিভিন্নধর্মী কম্পিউটার সিস্টেমসমূহের সংগ্রহ নেটওয়ার্কে ইউজারসমূহকে সিস্টেমে মেইনটেইনকৃত রিসোর্স অ্যাকসেস দেয়',\n 'ডাটাবেস সিস্টেম অনেকগুলো নোডের সমন্বয়ে তৈরি প্রত্যেকটি নোড আলাদা আলাদা লোকাল ডাটাবেস সিস্টেমকে মেইনটেইন ডাটাবেস সিস্টেমকে ডিস্ট্রিবিউটেড ডাটাবেস সিস্টেম',\n 'স্ট্রিক্ট ইভালুয়েশন সময় ফাংশন ইনভোক ইভালুয়েট',\n 'কৌশলটি তুলনামূলকভাবে সস্তা সুবিধা প্রয়োগ করুন স্যাটেলাইটে ভারী ট্রাফিক লোডিং থাকলে স্যাটেলাইট সংঘর্ষকারী প্যাকেটের পরিপূর্ণ সংঘর্ষগুলি কেবল এড়ানো ট্রান্সমিশন বন্ধ প্রয়োজনীয় র্যান্ডম বিলম্ব বৃদ্ধি পুনঃপ্রচার',\n 'স্তরযুক্ত পদ্ধতির প্রধান সুবিধা নির্মাণের সরলতা ডিবাগিং',\n 'সমস্যা সমাধান প্রথমে হার্ডড্রাইভটিতে কম্পিউটারের লাগিয়ে চেক',\n 'প্রথমেই হ্যাশিং একটু যাক',\n 'ধরনের ডাটাবেজ সিস্টেমে নেটওয়ার্ক তৈরি তুলনামূলক কম খরচ পড়ে',\n 'নেটওয়ার্কের বাইর দেখেই ফিজিক্যাল টপোলজি',\n 'নেটওয়ার্কে অপারেটিং সিস্টেমের কম্পিউটার থাকতে',\n 'অর্থাৎ মূল সিগন্যালের পাওয়ার অনাকাঙ্খিত সিগন্যালের Noise পাওয়ারএর অনুপাতকে বুঝায়',\n 'স্ট্রং উইক এনটিটি সেটের পার্থক্য রয়েছে',\n 'কাজের গুরুত্ব অনুধাবনকারী বাক্তিদের প্রজেক্ট টিম গঠন প্রয়োজনীয় সহযোগিতা আস্থা অতি জরুরী',\n 'কাপলিং কম প্রোগ্রাম ভালো',\n 'কম্পিউটার সিস্টেম প্রসেসের ভিত্তি কতটি প্রসেস একসাথে রান নির্ধারিত',\n 'ইথিক্যাল হ্যাকিং প্রত্যেকটি সিস্টেমকে খতিয়ে ম্যালিসিয়াস হ্যাকিংএর সিস্টেমটিতে অ্যাটাক চালানো সমস্যা খুজে পেলে কোম্পানি সরকার সমস্যাটি সম্পর্কে জানিয়ে দেয়া দ্রুত সম্ভব ফিক্স',\n 'ভেলিডেশন সুবিধা সফটওয়্যার প্রোডাক্টটি ইউজারের চাহিদা মোতাবেক তৈরি কিনা নিশ্চিত',\n 'Normalization Database বড় বড় Table ছোট ছোট Table বিভক্ত',\n 'Protection system callsএর ব্যবহারকারীকে রিসোর্স অনুমতি দেয়া Allow অনুমতি দেয়া Deny',\n 'কমেন্ট অন্যান্য ডেভেলপার দের সাহায্য কারী ডকুমেন্টেশন তৈরিতে সাহায্য',\n 'Compilationএ Error থাকলে Object code তৈরি Program নির্বাহও',\n 'প্রতিটি স্যাটেলাইটকে সিঙ্ক্রোনাস কক্ষপথের অবস্থান ফ্রিকোয়েন্সি ব্যান্ড নির্ধারণ',\n 'সফটওয়্যার ডিজাইন প্রক্রিয়া ইউজার চাহিদাকে উপযোগী ফরমে পরিবর্তন ব্যবহৃত',\n 'ধরনের রিলেশনশিপ ডাটাবেসে বহুল ব্যবহৃত',\n 'Offer simple error handling যতদূর সম্ভব সিস্টেম এমনভাবে ডিজাইন দরকার ইউজার মারাত্মক ভুল',\n 'কম্পিউটার নেটওয়ার্ক সুরক্ষা শক্তিশালী অনুপ্রবেশ পরীক্ষা সঞ্চালনের হ্যাকিং প্রয়োজনীয়',\n 'PAN Personal area network তৈরি ফোন হ্যান্ডসেটের স্মার্টফোন ডেস্কটপ কম্পিউটারের',\n 'ডিগ্রী গ্রাহক অন্যান্য স্টেকহোল্ডাররা প্রকল্পের জড়িত',\n 'ডাটাবেস প্রকার অবজেক্ট এনটিটি বৈশিষ্ট্য মধ্যকার রিলেশনসমূহের ম্যাপ চিত্রই লজিক্যাল স্কীমা',\n 'ম্যালওয়্যারের প্রকার',\n 'ডাটাবেস মডিফিকেশনের সময় রেফারেন্সিয়াল ইন্টিগ্রিটি ভঙ্গ ব্যবস্থা',\n 'এপ্লিকেশন প্রোগ্রামার গ্রপের ব্যবহারকারীগন সফটওয়্যার ডাটাবেজের ডিজাইন লেভেল সম্পর্কে ওয়াকিবহাল',\n 'এক্ষেত্রে হ্যাকারকে সল্ট কোথায় যোগ হয়েছে সল্টিং অক্ষরটি অক্ষর যোগ হয়েছে',\n 'রেডিও কমিউনিকেশন সাধারণত কয়েকশত কিলোমিটার Data transmit',\n 'গঠনে সর্বোচ্চ bit প্রসেসর সমর্থন',\n 'ডিজাইনের সময় সিদ্ধান্তগুলি নেন শেষ সফ্টওয়্যার নির্মাণের সাফল্যকে প্রভাবিত গুরুত্বপূর্ণ সফ্টওয়্যারটি বজায় সহজ',\n 'Limited স্ট্রাকচার অপারেটিং সিস্টেম Original UNIX অপারেটিং সিস্টেম',\n 'রেডিও কমিউনিকেশনের রেডিও ওয়েভের ব্যবহৃত সিগন্যালের রেঞ্জ কিলো হার্জ গিগা হার্জ',\n 'Multiprogramming সম্ভব systemএর throughput বৃদ্ধি পায়',\n 'SRS ডিজাইন সংক্রান্ত বিষয়াদি সিডোকোডের লিখিত আকারে বর্ণিত',\n 'সফ্টওয়্যার ইঞ্জিনিয়ারিংয়ের প্রসঙ্গে প্রক্রিয়া কম্পিউটার সফ্টওয়্যার কীভাবে তৈরি কঠোর প্রেসক্রিপশন অভিযোজিত পদ্ধতি ব্যক্তিদের সফ্টওয়্যার দল কর্ম কাজের উপযুক্ত সেট বাছাই বেছে সক্ষম উদ্দেশ্য সবসময় সফ্টওয়্যারটি সময়মত পর্যাপ্ত মানের সরবরাহ এটির স্পনসর সন্তুষ্ট',\n 'এভাবে প্রোগ্রামকে মেইন মেমোরি সেকেন্ডারি মেমোরির স্থানান্তর প্রক্রিয়াকে সোয়াপিং',\n 'পদ্ধতিটি গঠন কার্নেল অপ্রয়োজনীয় উপাদানগুলি সরিয়ে অপারেটিং সিস্টেম সিস্টেম ব্যবহারকারীস্তরের প্রোগ্রাম বাস্তবায়ন',\n 'মূলত ইউজার ইন্টারফেস আলোচনা হয়েছে',\n 'ম্যালওয়ার কম্পিউটার সিস্টেমের ক্ষতিকারক প্রোগ্রাম ব্যবহারকারীদের অনুমতি ছাড়া পরিকল্পিত নেটওয়ার্কের যায়গায় আঘাত তথ্য ডাটা হাতিয়ে নেয় চুরি কম্পিউটারের ক্ষতি',\n 'মানে প্রদত্ত ব্লকের যেকোনো প্লেইনটেক্সট বিটের এনক্রিপশন নির্ভর ব্লকের প্রতিটি প্লেইনটেক্সট বিটে',\n 'ক্রিপ্টোগ্রাফি প্রায়শই সুরক্ষিত সিস্টেম তৈরির গুরুত্বপূর্ণ হাতিয়ার অন্যদিকে সুরক্ষিত সিস্টেম ডিজাইন অন্যান্য দিককে অন্তর্ভুক্ত',\n 'ফিজিক্যালি ড্যামেজ ফাইল রিকভার সবচেয়ে উত্তম উপায় ড্রাইভটি রিকভারি বিশেষজ্ঞ রিকভারি প্রতিষ্ঠান রিকভার করিয়ে নেয়া',\n 'গুরুত্বপূর্ণ বিষয় ডিলিট ফাইলটির সাইজ ফাইলটি স্থায়ীভাবে ডিলিট হয়ে সেক্ষেত্রে ফাইলটি রিকভারি অনেকটাই কঠিন হয়ে পড়ে',\n 'রেফারেন্সিয়াল ইন্ট্রিগিটির Primary key যেটি অবস্থান Master মেইন টেবিলে অন্যটি Foreign key annex সংযোজিত টেবিলে অবস্থান',\n 'কম্পিউটারে ফাইল থাকলে নেটওয়ার্কের অন্যান কম্পিউটারের শেয়ার দিলে সহজেই অন্যান্য কম্পিউটার পারবে',\n 'পূর্বে বরাদ্দকৃত অথরাইজেশনকে বাতিলের revoke স্টেটমেন্টটি ব্যবহৃত',\n 'ডিভাইস ম্যানেজমেন্ট System callsএর প্রসেসের প্রয়োজন অনুযায়ী logically ডিভাইসকে attach detach',\n 'ওয়েবমোবাইল অ্যাপ্লিকেশন নেটওয়ার্ককেন্দ্রিক সফ্টওয়্যার বিভাগটি অ্যাপ্লিকেশনগুলির বিস্তৃত অ্যারেকে বিস্তৃত ব্রাউজারভিত্তিক অ্যাপ্লিকেশন ক্লাউড কম্পিউটিং পরিষেবাভিত্তিক কম্পিউটিং মোবাইল ডিভাইসে সফ্টওয়্যারগুলিকে অন্তর্ভুক্ত',\n 'সমাধান উপস্থাপন কার্যকরী বাস্তবায়নের পরিচালিত নকশা মডেল তৈরি',\n 'আগের smartphoneএর Physical keyboard হতো বর্তমানে touchscreenএর উপরই keyboard',\n 'এনটিটি রিলেশনশিপ মডেল ডাটাবেজ এক ধরনের মডেল এনটিটি সম্পর্কের বিষয় আলোচনা',\n 'ইন্টিগ্রেশন ধাপে সফটওয়্যারকে অন্যান্য প্রোগ্রাম যুক্ত',\n 'শেয়ারড মিডিয়াম হাব কনফিগারেশনে কেন্দ্রীয় হাব',\n 'উইন্ডো ফাইল স্ট্রাকচার উপস্থাপন অ্যাপ্লিকেশনের কনটেন্টসমূহ লিস্ট আইকন আকারে প্রদর্শন',\n 'রেডিও ওয়েভ আলোর বেগে অর্থাৎ msec বেগে ভ্রমণ',\n 'ডেটা ফাইলে ছড়িয়ে ছিটিয়ে ফাইলগুলি ফরম্যাটে উপযুক্ত ডেটা পুনরুদ্ধার অ্যাপ্লিকেশন প্রোগ্রাম লেখা কঠিন',\n 'সিগন্যাল প্রসেসরে এডিসি উত্স সরবরাহ ইনপুট সংকেত কোডিং',\n 'এছাড়াও আলাদা ডেডিকেটেড ফায়ারওয়াল ডিভাইস বাজারে কিনতে পাওয়া যায়',\n 'ওয়েব অ্যাপ্লিকেশনগুলির কোড ডেটা ম্যানুয়ালি ওয়েব সার্ভারে সরানো রও ইমেজ পুশ',\n 'Multiplexer সংক্ষেপে Mux',\n 'অপারেটিং সিস্টেম খোলা ফাইল লক সুবিধা প্রদান',\n 'OOP Object Oriented Programming সাধারণত ইনহেরিটেন্স অবজেক্ট আইডেন্টিটি ইনক্যাপসুলেশন ইত্যাদির Object Interfacing অনুমোদন',\n 'সবচেয়ে সহজ ডিরেক্টরি কাঠামো এককস্তরের ডিরেক্টরি',\n 'কারণে কম্পিউটার অন্যান্য ইলেকট্রনিক যন্ত্রের ন্যায় যেকোন সময় failure নষ্ট',\n 'সাইবার সিকিউরিটি ডেটা নিরাপত্তার সাইবার থ্রেড Pushing Baiting Data breach',\n 'কম্পিউটারের দৃষ্টিকোণ অপারেটিং সিস্টেম প্রোগ্রাম হার্ডওয়্যারের সবচেয়ে ঘনিষ্ঠভাবে জড়িত',\n 'ক্লায়েন্টসার্ভার নেটওয়ার্ক দামি শক্তিশালী রিসোর্স সকল ইউজার সমভাবে',\n 'রিসিভিং টার্মিনালে স্টেশনের ট্রান্সমিশনের আপকনভার্ট ফ্রিকুয়েন্সি fতে রূপান্তর',\n 'রাউটার এটিও বিবেচনায় আনে ডেটা প্যাকেট ট্রান্সমিশনের রুট খরচ পড়বে',\n 'সম্পদের মান সময়ের পরিবর্তিত ক্ষতির মাত্রা হুমকির তীব্রতা পরিবর্তনও',\n 'প্রয়োজনীয় তথ্যাদি সংগ্রহঃ তথ্য যাচাই ফলাফল গ্রহণযোগ্য প্রতিষ্ঠানের এনালিস্ট প্রকৌশলীগণ ক্লায়েন্ট ইন্ড ইউজারদের যোগাযোগ স্থাপন কাংঙ্গিত চাহিদা বৈশিষ্ট্য সফটওয়্যারে যুক্ত চায় বিষয়ে অবহিত',\n 'সোশ্যাল ইঞ্জিনিয়ারিং এক ধরনের মনোবৈজ্ঞানিক কৌশল অত্যন্ত চতুরতার ভিকটিমের গুরুত্বপূর্ণ তথ্য বের আনা',\n 'কম্পিউটার সিস্টেমে শূন্য ফাইল সিস্টেম ফাইল সিস্টেম থাকতে ধরনের',\n 'উচ্চ ফ্রিকুয়েন্সি বিশিষ্ট ক্যারিয়ারের অ্যামপ্লিচিউড ফ্রিকুয়েন্সি ফেজ অ্যাঙ্গেলকে মডুল্যাটিং সিগন্যালের তাৎক্ষণিক মান অডিও সিগন্যাল অনুযায়ী পরিবর্তন প্রক্রিয়াকে মড্যুলেশন',\n 'সফটওয়্যার ভেরিফিকেশন ইরর ফল্ট ফেইলিউর পরীক্ষা',\n 'Terminated Processএ Stateএ execution শেষ',\n 'নথিভুক্ত HIPO ডায়াগ্রাম প্রয়োজনীয় টুল',\n 'উদাহরণস্বরূপ লোন loan পেমেন্ট payment নামক দুইটি এনটিটি সেটের কথা যাক এক্ষেত্রে পেমেন্ট এনটিটি সেটটি লোনের বিপরীত পেমেন্ট সংক্রান্ত তথ্য সংরক্ষণ পেমেন্ট এনটিটি সেটকে Payment number payment date paymentamount বর্ণনা দুইটি এনটিটি সেটের One to many রিলেশনশিপ লোন পেমেন্টের লোনপেমেন্ট তৈরি প্রতিটি পেমেন্ট এনটিটি অবশ্যই লোন এনটিটির এসোসিয়েটেড লোন এনটিটি মুছে ফেলা পেমেন্ট এনটিটিগুলো অবশ্যই মুছে পেমেন্ট এনটিটিগুলো মুহলে লোন এনটিটি সেটের ঘটবে উদাহরণে লোন ডোমিনেন্ট পেমেন্ট সাবর্ডিনেট এনটিটি',\n 'যোগাযোগ ব্যবস্থায় প্রাপ্ত তরঙ্গরূপ সাধারণত পছন্দসই অংশে শ্রেণীবদ্ধ তথ্য বহিরাগত অবাঞ্ছিত অংশ ধারণকারী',\n 'মিডিয়া এক্সেস কন্ট্রোল এড্রেসটি নেটওয়ার্ক এডাপ্টার প্রস্তুত প্রোডাক্টে স্থাপন দেয় তাদেরকে সহজে চিহ্নিত যায়',\n 'একমাত্র ফরেনসিক প্লাটফর্ম মাল্টিকোর কম্পিউটার গুলোতে স্বাচ্ছন্দ্যে চলতে',\n 'অপারেশন সম্পন্ন সময়ই রেসপন্স টাইম Response time',\n 'সাধারণত ডিস্ক স্টোরেজ Disk Storage ডাইরেক্ট অ্যাক্সেস স্টোরেজ Direct Access Storage',\n 'যেকোনো সফটওয়্যার ডিজাইন সাধারণত তিনটি স্তর মেনে চলতে',\n 'DES সুবিধা ডিক্রিপশন মূলত এনক্রিপশনের ফাংশন',\n 'কয়েকশত বছর পূর্বে মানুষ প্রয়োজনে তৈরি করেছিল Calculator',\n 'প্যারালাল ডাটাবেস সিস্টেমে কুয়েরীর Query বিপুল সংখ্যক ডাটা প্রয়োজনীয় ডাটা অতিদ্রুত রিট্রিভ যায়',\n 'অপারেটিংসিস্টেম কার্নেল ডিবাগিং জটিল কার্নেলের আকার জটিলতা হার্ডওয়্যার নিয়ন্ত্রণ ব্যবহারকারীস্তরের ডিবাগিং টুলের অভাব',\n 'মাল্টিপ্লেক্সিংএর ব্যান্ড উইথ দক্ষতা অনেকটা বৃদ্ধি যায়',\n 'ডিজিটাল নিরাপত্তা আইন ধারায় হয়েছে ব্যক্তি অফিশিয়াল সিক্রেট অ্যাক্ট আওতাভুক্ত অপরাধ কম্পিউটার ডিজিটাল ডিভাইস কম্পিউটার নেটওয়ার্ক ডিজিটাল নেটওয়ার্ক ডিজিটাল সংঘঠন সহায়তা সর্বোচ্চ বছরের কারাদণ্ড লাখ টাকা জরিমানা উভয় দণ্ডে দণ্ডিত',\n 'ধরনের একাধিক স্ট্রাকচারের সমন্বয়ে তৈরি অপারেটিং সিস্টেমকে হাইব্রিড সিস্টেম',\n 'মানি লন্ডারিং অবৈধ কালো অর্থকে লেনদেন চক্রের বৈধ স্বচ্ছতাদান প্রক্রিয়া',\n 'প্রাপ্ত তথ্যাদি এনালিস্টগণ বিশ্লেষণ পছন্দ সিস্টেম অপারেশন বিকাশের সম্ভাব্যতা যাচাই',\n 'অপরাধীর বিরুদ্ধে আইনগত ব্যবস্থা গ্রহণে জটিলতার কারণে সাইবার অপরাধ সংগঠিত',\n 'ট্যাবড ডকুমেন্ট ইন্টারফেস TDI একাধিক ডকুমেন্টকে উইন্ডোতে ওপেন ব্যবহৃত',\n 'সুপারকিতে বহিরাগত বৈশিষ্ট্য থাকতে',\n 'উইন্ডোজ ফায়ারওয়াল সবসময় মনিটর আউটগোয়িং ট্র্যাফিক ইনকামিং ট্রাফিক উৎস কোথায় আইপি অ্যাড্রেস বিশ্বস্ত কিনা',\n 'পৃথক সফটওয়্যার ছাড়াই অন্যান্য পিসির তথ্যাদি আদানপ্রদান ধরনের সফট্ওয়্যারকে নেটওয়ার্ক অপারেটিং সিস্টেম নস NOSNetwork Operating System',\n 'মডুলেশনের ওয়্যারলেস কমিউনিকেশন অর্থাৎ ছাড়া সিগন্যাল ট্রান্সমিট সম্ভব',\n 'ফ্রিকুয়েন্সি ডিভিশন মাল্টিপ্লেক্সিং অ্যানালগ কৌশল',\n 'গৃহীত ডাটা সহজে ক্যারেকটার নির্ণয় যায়',\n 'লাউড স্পিকার শব্দে রূপান্তরিত',\n 'মোটের কম্পিউটার আইডল সময় কমে যায়',\n 'অ্যালগরিদমকে হ্যাশিং হ্যাশ ফাংশন',\n 'ধরনের ত্রুটি লেনদেন ব্যর্থ',\n 'ডাটা স্থানান্তর উৎস গন্তব্যের দিক বোঝানোর তীর চিহ্ন তিরের মাথাটি গন্তব্যের নির্দেশিত',\n 'ব্যবসার প্রয়োজনীয়তা বাস্তবায়নের সফটওয়্যারটি অবশ্যই উন্নত',\n 'পদ্ধতি ধারণ অনুক্রমিক অভিবৃদ্ধিপূর্ণ আধুনিক সফটওয়্যার উন্নতির প্রয়োজনীয় বিবর্তনশীল অনুভূতি সরবরাহ',\n 'Flycocesnal efficical কেয়ারিং ব্যবহৃত ফাইন গ্রেইনড ইন্সট্যান্স',\n 'ছাড়া এনক্রিপশনের কৌশল নাম নিম্নে',\n 'Node Compatibility অর্থাৎ Incompatible',\n 'প্রোগ্রামার শুধুমাত্র কাজগুলোই যেগুলো ব্যবস্থাপক তাদেরকে সম্পাদনের নির্দেশ প্রদান',\n 'কারণে কম্পিউটার নিরাপত্তার আধার নিয়ন্ত্রিত অ্যাক্সেস কার্যক্রিয়া অনুমোদিত',\n 'কাজগুলো মেমরি ম্যানেজমেন্ট কর্তৃক সম্পাদিত',\n 'প্রকার ম্যাপিং কারডিনালিটির Aএর এনটিটি সর্বোচ্চ Bএর এনটিটির এসোসিয়েটেড এনটিটি সর্বোচ্চ Aএর এনটিটির এসোসিয়েটেড',\n 'বিশ্বস্ত তৃতীয় পক্ষ কোডের ডিজিটাল স্বাক্ষর সংযুক্ত সাপেক্ষে বিশ্বাসী কোড নির্দেশ ধারণা',\n 'প্রক্রিয়া কার্যকর প্রোগ্রাম চিন্তা',\n 'ফাংশনাল প্রোগ্রামিং লুপ তৈরি রিকার্সন ব্যবহৃত',\n 'ডিভাইস কন্ট্রোলার এরপর নির্ণয় রেজিস্টারগুলোর কন্টেন্টগুলোকে পরীক্ষা',\n 'স্ট্রং এনটিটি সেটকে সিংগেল আয়তক্ষেত্রের উপস্থাপন',\n 'Named pipe তৈরি একাধিক প্রসেস যোগাযোগের',\n 'বাস্তব হুমকির নেতিবাচক পরিণতি ক্ষতি',\n 'ধরনের Attack সম্পূর্ণভাবে Web Application Target',\n 'এমনকি কখনো MSDOS shell',\n 'অপারেটিং সিস্টেম কর্তৃক ব্যবহারকারীর User মেমরির বরাদ্দকৃত অংশকে ডাইনামিক্যালি বিভক্ত মেমোরি ম্যানেজমেন্ট',\n 'ক্যারিয়ার ওয়েভের অ্যামপ্লিচিউড সিগন্যাল ওয়েভের তাৎক্ষণিক মান অনুসারে পরিবর্তন অ্যামপ্লিচিউড মড্যুলেশন Amplitude modulation সংক্ষেপে AM',\n 'রিলেশনাল ডাটাবেস টেবিলের সংগ্রহ গঠিত প্রতিটি বরাদ্দ অনন্য নাম',\n 'আধুনিক ডাটাবেস ইঞ্জিনগুলি সমান্তরাল ডেটা স্টোরেজ সমান্তরাল ক্যোয়ারী প্রক্রিয়াকরণে মনোযোগ',\n 'নামকরণ সেকশন দেয় কিভাবে ভ্যারিয়েবল কনস্ট্যান্ট গ্লোবাল ভেরিয়েবল ফাংশনের নাম',\n 'কম্পিউটার কম্পিউটার সিস্টেম কম্পিউটার নেটওয়ার্কে বৈধ ক্ষমতাপ্রাপ্ত ব্যক্তিকে উপায়ে প্রবেশ বাধা সৃষ্টি বাধা সৃষ্টির',\n 'ডাটাবেস মানেই ডাটার সমাহার অর্থাৎ প্রকার ডাটার সংগ্রহশালা',\n 'স্ট্যাটিক রাউটিং নেটওয়ার্ক এডমিনিস্ট্রেটর নেটওয়ার্ক সেগমেন্টগুলোর পথ রাউটিং কনফিগার',\n 'সফটওয়্যার বিকাশের ধাপসমূহ সিস্টেম আপডেট করন',\n 'কথায় নির্দিষ্ট আর্থ স্টেশন বিস্ফোরণটি আসতে স্যাটেলাইটে স্টেশনের নির্ধারিত সঠিক সময়ের স্লটে সংকেত অন্যান্য আর্থ স্টেশন আসা বিস্ফোরণগুলিতে হস্তক্ষেপ সংলগ্ন সময় নির্ধারিত স্লট',\n 'সঠিক টেস্টকেস ব্যবহৃত হয়েছে কিনা বিষয়ে টেস্টারকে নিশ্চিত',\n 'অনেকগুলো Job একত্রে Input দেয়ার Priority Jobএর গুরুত্ব বুঝে execute ব্যবস্থা Setup যায় গুরুত্বপূর্ণ Program complete সময় লাগে',\n 'উক্ত যেহেতু Job to job switching computer কাজেই পূর্ববর্তী System অপেক্ষা সময় অপচয় কমে যায় সর্বশেষে Output হিসেবে Punch card Line printer Print copy তৈরি',\n 'ছাড়াও DBMSএ ডাটাবেস ম্যানেজার গুরুত্বপূর্ণ সম্পাদন',\n 'এটিএমের পিন নম্বর জেনে প্রতারণা',\n 'স্যাটেলাইট কমিউনিকেশন সিস্টেমের সবচেয়ে কাঙ্খিত ফ্রিকোয়েন্সি ব্যান্ড আপলিংকে GHz আর্থটুস্যাটেলাইট ট্রান্সমিশন ডাউনলিংকে GHz স্যাটেলাইটটুআর্থ ট্রান্সমিশন',\n 'প্যাকেট অ্যাক্সেস রিজেক্টএর অ্যাডমিনিস্ট্রেটর ইচ্ছেমতো নিয়মকানুন নির্ধারণ ডিফল্ট রুলগুলো সেট',\n 'সফ্টওয়্যার সিস্টেম বিকাশের উচ্চ স্তরের পুনঃব্যবহার যুক্তিযুক্তভাবে সবচেয়ে কঠিন লক্ষ্য কোড ডিজাইনের পুনঃব্যবহারকে অবজেক্টওরিয়েন্টেড প্রযুক্তি ব্যবহারের প্রধান সুবিধা ঘোষণা যাইহোক বিনিয়োগের রিটার্ন স্বয়ংক্রিয় পুনঃব্যবহারের পরিকল্পনা খরচ কমায় পুনঃব্যবহারযোগ্য উপাদান সেগুলি সিস্টেমে অন্তর্ভুক্ত উভয়ের মান বৃদ্ধি',\n 'কমপ্লিট পূর্ণাঙ্গ ফিজিক্যাল ডাটা মডেলে নির্দিষ্ট পারফরমেন্স অর্জন যায়',\n 'পদ্ধতিগুলিকে চ্যানেল কোডিং হিসাবেও শ্রেণীবদ্ধ এগুলি চ্যানেলের শব্দের কারণে ত্রুটিগুলি সংশোধন ব্যবহৃত',\n 'ডেফিনেশন সেট লিখে অরিজিনাল ডাটাবেস স্কীমা তৈরি',\n 'Database ছোট হওয়ার কারণে Computer Storage Device জায়গা কম ব্যবহৃত এজন্যে DBMS খরচ কমে যায়',\n 'মজার বিষয় হার্ডওয়্যারে পারমুটেশন সহজেই প্রয়োগ সফ্টওয়্যারে দ্রুত',\n 'অন্যান্য নীতি এটিকে সমর্থন',\n 'এজাইল দলে সফটওয়্যার ইঞ্জিনিয়ার অন্যান্য প্রকল্পের অংশগ্রহণকারী পরিচালকগণ গ্রাহকগণ শেষ ব্যবহারকারীগণ একসাথে',\n 'দ্রষ্টব্য করুন সময়মান ভুলযোগ্যতা নিরাপত্তা পদক্ষেপ বাধাগ্রস্ত চিত্র কেবলমাত্র গ্রাহকটি চিনতে পারবে ফ্যাক্টর প্রমাণীকরণ',\n 'ফাইবার অপটিক্যাল ক্যাবল প্রকার সিস্টেমের প্রয়োজনীয় কাঁচামাল সহজলভ্য',\n 'নেইভ ইউজার সমগ্র ডাটাবেসের শুধুমাত্র ভিউ লেভেল',\n 'নেটওয়ার্কে ব্রিজ পরই সক্রিয় ম্যাক অ্যাড্রেসসমূহের তালিকা নেয় অ্যাড্রেস তালিকা লাগিয়ে ডেস্টিনেশন কম্পিউটারে ডেটা প্যাকেটগুলো পাঠিয়ে দেয়',\n 'দুইটি প্রধান টপোলজি টাপোলজি বাস টপোলজিং রিং',\n 'কম্পিউটারের কীবোর্ড সিস্টেম ইউনিটে সিস্টেম ইউনিট মনিটরে সিমপ্লেক্স ডাটা ট্রান্সমিশনের উদাহরণ',\n 'বৃহত্তর অর্থে রেজিস্টার প্রধান মেমরি চৌম্বকীয় ডিস্কগুলির সমন্বয়ে স্টোরেজ কাঠামোটি বর্ণনা করেছি অনেকগুলির সম্ভাব্য স্টোরেজ সিস্টেম',\n 'Multiplexer ডিভাইস ডাটাকে Compress',\n 'পদ্ধতিতে একাধিক জব টাস্ক প্রতিটির মেমোরিতে জায়গা নির্দিষ্ট',\n 'কাস্টমারের নাম থাকলে Customername অ্যাট্রিবিউটের ভ্যালু নাল',\n 'চারটি শর্তে সিস্টেমে ডেডলক ঘটতে',\n 'জেনে ব্যান্ডউইডথ ডেটা ট্রান্সমিশন গতি কেবিপিএস নিচে নেমে আসে',\n 'Twisted pair cable ধরনের হয়ে',\n 'ক্রিয়াকলাপ রাখতে চাই ব্যবহারকারীকে ফাইলের স্থিতি নির্ধারণ ফাইলের দৈর্ঘ্য ফাইলের মালিকের ফাইলের বৈশিষ্ট্যগুলি সেট',\n 'যেহেতু Group আকারে Solution তৈরি কাজেই Groupএর Jobএর সমস্যার সকল Jobকে অপেক্ষা হয়ফলে সকলের Output পেতে দেরি',\n 'সিস্টেমের একাধিক প্রসেস কম্পিউটার Networkএর সংযুক্ত যোগাযোগ রক্ষা প্রয়োজন',\n 'কাজের GUIএর চেয়ে কমান্ডলাইনে কম কমান্ড প্রয়োজন',\n 'টেস্টিং ডকুমেন্ট পর্যায়ে তৈরি',\n 'কমান্ড ইন্টারপ্রেটার কমান্ডসমূহ বুঝতে কেবলমাত্র ফাইল মেমরিতে লোড Execute বুঝতে',\n 'DBMS উদ্দেশ্য ইন্টিগ্রিটি সমস্যা দূরীকরণ',\n 'প্রোগ্রামগুলোর command রয়েছে ফাইলের contents খুঁজা search Text transformations',\n 'কম্পিউটার প্রোগ্রামগুলো এক্সিকিউশনের মেইন মেমরিতে প্রসেসর সরাসরি অ্যাক্সেস',\n 'ডাটা পাঠানোর প্রেরক গ্রাহকের সর্বাধিক কার্যোপযোগী পথ খুজে বের প্রয়োজন',\n 'স্টোরেজ মিডিয়ামের ধারণ ক্ষমতা সর্বাধিক হয়ে',\n 'অপারেটিং সিস্টেম সবসময় সিস্টেমইমপ্লিমেন্টেশনে লেখা ভাষা উচ্চস্তরের ভাষায়',\n 'হ্যাকিং শব্দটির প্রচলন কখন',\n 'দীর্ঘ দূরত্বের টেলিকমিউনিকেশনে নেটওয়ার্কের Cband ডমিন্যান্ট ব্যান্ড',\n 'ডাটাবেস মূলত প্রতিষ্ঠানের নির্দিষ্ট বিষয়ের তথ্য ধারণ',\n 'সাইবার নিরাপত্তা সংস্থার তথ্য সুরক্ষা প্রযুক্তিকে অননুমোদিত আইসিটি ডিজিটাল অ্যাক্সেস রক্ষা',\n 'এসাইনমেন্ট অপারেটর উদাহরণ স্বরুপ এক্ষেত্রে চিহ্নের পূর্বে একটা স্পেস',\n 'অনলাইন নিরাপত্তার পদক্ষেপ নেয়া জরুরী',\n 'ডিজাইন প্যাটার্নসমূহ সময় পরিবর্তনের উন্নয়ন দেখানো',\n 'ডি এফ ডি স্তর কন্টেক্স স্তর ডিএফডি',\n 'মাইক্রোওয়েভ সাধারণত পৃথিবীর বক্রতার নিচু',\n 'অব্যবহৃত ফ্রাগমেন্টেশন সংখ্যা বৃদ্ধি পায়',\n 'ভাষা প্রকাশিত সংজ্ঞাগুলির সেট ডাটাবেস স্কিমা নির্দিষ্ট এটিকে ডেটা সংজ্ঞা ভাষা',\n 'সফটওয়্যার ডিজাইন প্রক্রিয়ায় প্রত্যেক ফাংশন এরপর বিশদভাবে বর্ণনা',\n 'SDLC যোগাযোগ ধাপে ইউজার সার্ভিস প্রদানকারী কর্তৃপক্ষের নিকট প্রয়োজনীয় কথা লিখিত আকারে প্রদান মোতাবেক সফটওয়্যার তৈরির অনুরোধ জানায়',\n 'ডিস্ট্রিবিউটেড ডাটাবেস সিস্টেম পরিচালনার খরচ পড়ে যায়',\n 'সিস্টেম বিশ্লেষণ ধাপে লার্নিং সিস্টেমটির সম্পর্কিত সমস্যাসমূহ বিদ্যমান সিস্টেম সমস্যাসমূহ ক্লায়েন্টকে প্রদানের পূর্বেই পরিবর্তন করণ',\n 'ড্রাইভটির অপারেটিং সিস্টেম করাপ্টেড সহজেই বাকি ডাটাগুলো কপি নেয়া যায়',\n 'শেয়ারড মিডিয়াম হাবকে সুইচিং হাবে রূপান্তরের সংযুক্ত ডিভাইস স্টেশনগুলোর সফটওয়্যার হার্ডওয়্যারের পরিবর্তন আনার প্রয়োজন',\n 'রি ইউজকৃত কোড গুলো সফটওয়্যার পূর্বে তৈরি হয়েছিলো',\n 'ডাটাবেস অ্যাপ্লিকেশনগুলির বেশিরভাগ ব্যবহারকারীর ব্যবহারের মোড উল্লেখ করেছি',\n 'রেডিও কমিউনিকেশনে ট্রান্সমিটার প্রেরিক সিগন্যাল কিলোমিটার দূরে',\n 'বার্তা প্রমাণীকরণ কোড MAC ক্রিপ্টোগ্রাফিক চেকসাম নামেও পরিচিত কীড হ্যাশ ফাংশন অনুশীলনে ব্যাপকভাবে ব্যবহৃত',\n 'আজকাল পাতলা মেটালিক ফয়েল Foil শিল্ডও ব্যবহৃত',\n 'অ্যালগরিদমের একমাত্র অরৈখিক উপাদান বিভ্রান্তি প্রদান',\n 'হ্যাকার কাকে',\n 'সফটওয়্যার পাইরেসি বুঝায় অবৈধভাবে সফটওয়্যার প্রোগ্রাম কপি পুনরুৎপাদন ডিস্ট্রিবিউট অবৈধভাবে ইন্টারনেট ডাউনলোড নামে বিতরন প্রকার পরিবর্তনের নামে চালিয়ে দেয়া কার্যক্রমকে বুঝায়',\n 'ফাইল রিসোর্স অনাকাঙ্খিত ব্যবহারকারীর হাত সুরক্ষিত নেটওয়ার্কে নিরাপত্তা গোপনীয়তা অক্ষুন্ন',\n 'Becond Normal Form NF Relational Database System অপর গুরুত্বপূর্ণ Normalization বৈশিষ্ট্য',\n 'এক্ষেত্রে প্রোগ্রাম নির্বাহ প্রোগ্রাম নির্বাহের প্রস্তুত',\n 'অক্ষের অন্তঃমুখীভাবে বক্রতাপ্রাপ্ত',\n 'ইব্যাংকিং ব্যবহারের একাধিক হিসাবের অর্থ স্থানান্তর',\n 'পূর্ণ সফটওয়্যার তৈরি সহায়তাকারী গবেষণার প্রয়োজনীয় সংগ্রহ',\n 'এজন্য প্রোগ্রামারকে ওভারলেয়িং পদ্ধতির ব্যস্ত থাকতে',\n 'অপারেশন রক্ষণাবেক্ষণ সফটওয়্যারটি কাস্টমারের মেশিনে সঠিকভাবে কিনা পরীক্ষা',\n 'ডাটা রিডান্ডেন্সী সমস্যার কারনে ইনকনসিসটেন্সি সমস্যাও',\n 'পারমাণবিকতা স্থায়িত্ব বৈশিষ্ট্যগুলি নিশ্চিত ডাটাবেস সিস্টেমেরই দায়িত্ব বিশেষত পুনরুদ্ধার ব্যবস্থাপকের',\n 'টিসিপি আইপি ভিত্তিক নেটওয়ার্কের রাউটার গেটওয়ে অর্থে',\n 'ক্ষতি রক্ষা নিরপেক্ষ হুমকি দুর্বলতা বন্ধ উভয়',\n 'স্কীমা অবজেক্টে ডিস্কের ফিজিক্যাল ফাইলে onetoone করেস্পন্ডিংএ ডাটা ইনফরমেশন জমা',\n 'সফটওয়্যার ব্যাপকভাবে গৃহীত তখনই সফটওয়্যারটি সহজ মৌলিক ইউজার ইন্টারফেস',\n 'তারে সাধারণত ½ কিলোমিটার রিপিটার',\n 'চ্যানেলে সক্রিয় পরিবর্ধক ডিভাইস থাকতে টেলিফোন সিস্টেমে রিপিটার স্পেস কমিউনিকেশন সিস্টেমে স্যাটেলাইট ট্রান্সপন্ডার',\n 'সাইবার নিরাপত্তার নিশ্চিত প্রকার ডিভাইস ডাটার অপব্যবহার',\n 'ফায়ারওয়াল কিভাবে ব্যাখ্যা কর',\n 'বিচ্ছিন্ন ত্রুটিগুলি ডিকোডারের কোডেড ডেটা পাস সংশোধন',\n 'কেননা প্রশাসনিক কারিগরি দক্ষতার ডাটাবেস ম্যানেজমেন্টের সার্বিক সাফল্য নির্ভরশীল',\n 'হ্যাকাররা সিস্টেম হ্যাক সিস্টেমের গঠন কার্যপ্রণালি সিস্টেমটি কিভাবে সকল তথ্য সম্পর্কে অভিজ্ঞ',\n 'ভার্সন কনফিগারেশন সংক্রান্ত ডকুমেন্টেশন অধিক মাত্রায় সঠিক প্রয়োজনীয় সময়ে পাওয়ার প্রয়োজন',\n 'অ্যাপ্লিকেশন প্রোগ্রাম লিখার উচ্চ স্তরের ভাষা ব্যবহারের সকল সুবিধা রয়েছে অর্থাৎ অপারেটিং সিস্টেম বাস্তবায়নের ক্ষেত্রেও সুবিধা পাওয়া যায়',\n 'অকার্য সাইটের ডাটা সাইট সংগ্রহ সম্ভব',\n 'উইন্ডোজ ভিত্তিক নস যথাযথভাবে কনফিগার অন্যান্য ননউইন্ডোজ অপারেটিং সিস্টেম ম্যাকওএস ইউনিক্স লিনাক্সের সহজেই যোগাযোগ কমিউনিকেট যায়',\n 'কারো ছবি সুপারইমপোজ ছড়ানো',\n 'ইন্টারাপ্ট কম্পিউটার আর্কিটেকচারের গুরুত্বপূর্ণ অংশ',\n 'প্রথাগতভাবে স্ট্রিম সাইফারগুলি ব্লক সাইফারের তুলনায় দক্ষতার এনক্রিপ্ট প্রবণতা রাখে',\n 'Programmer Punch cardএর বৈশিষ্ট্য অনুযায়ী Program create করত Data Control information Program punch Computerএর উপযোগী হতো',\n 'সম্প্রসারণ এসবক্স স্থানচ্যুতি P সৃষ্ট প্রসারণ গ্যারান্টি পঞ্চম রাউন্ডের শেষে প্রতিটি বিট প্রতিটি প্লেইনটেক্সট বিট প্রতিটি বিটের ফাংশন',\n 'ফাইবার অপটিক ক্যাবলে পুরোপুরি অ্যাটেনুয়েশনমুক্ত',\n 'ওয়ার্মস প্রোগ্রাম নিজেদেরকে কপি পারার সিস্টেম স্লো হয়ে যায়',\n 'Batch mode operating systemএ অনেকগুলো Job stack আকারে Computerএ প্রবেশ করানো',\n 'ক্যোয়ারী প্রসেসর গুরুত্বপূর্ণ ডাটাবেস সিস্টেমকে সহজ সাহায্য তথ্য অ্যাক্সেস সহজতর',\n 'ফায়ারওয়াল কম্পিউটার সিস্টেমের সুরক্ষা প্রদান',\n 'ধারার উদ্দেশ্যপূরণকল্পে ডিজিটাল ইলেকট্রনিক জালিয়াতি অর্থ ব্যক্তি কর্তৃক অধিকারে প্রদত্ত অধিকারের অতিরিক্ত অনধিকার চর্চার কম্পিউটার ডিজিটাল ডিভাইসের ইনপুট আউটপুট প্রস্তুত পরিবর্তন মুছিয়া ফেলা লুকাইবার অশুদ্ধ ডাটা প্রোগ্রাম তথ্য ভ্রান্ত কার্য তথ্য সিস্টেম কম্পিউটার ডিজিটাল নেটওয়ার্ক পরিচালনা',\n 'ট্রান্সমিশন মিডিয়ার বৈশিষ্ট্য Characteristics of Transmission Media প্রতিটি Transmission Media ক্ষেত্রেই নিজস্ব বৈশিষ্ট্য বিদ্যমান অন্যদের আলাদা তোলে',\n 'রিকয়ারমেন্ট ইঞ্জিনিয়ারিং লক্ষ্য সুন্দর সিস্টেমের সফটওয়্যার ডেভেলপ রিকয়ারমেন্ট সমূহের প্রয়োজন সেগুলো বর্ণনা কয়রা স্পেসিফিকেশন নথি Document তৈরি সংরক্ষণ',\n 'Operating system program প্রোগ্রাম ব্যবহারকারীদের সুনির্দিষ্ট সার্ভিস প্রদান',\n 'উপরন্তু প্রতিটি ফাইলকে অপারেটিং সিস্টেম সমর্থিত ফাইল প্রকারের সংজ্ঞায়িত প্রয়োজন',\n 'বিদ্বেষপরায়ণতা প্রসৃত ডাটার ক্ষতি ব্যাকআপ সিস্টেম পরিত্রাণের ব্যবস্থা',\n 'প্রেরক প্রান্তে কয়েকশত টেলিফোন চ্যানেল এবংঅথবা টেলিভিশন চ্যানেলকে MHz বেসব্যান্ড ব্যান্ডপাসের ফ্রিকুয়েন্সি মাল্টিপ্লেক্সড ইনপুট গঠন',\n 'দ্রুত ডাটা কানেকশন হোম কম্পিউটারগুলোকে ওয়েভ পেজ প্রিন্টার ক্লায়েন্ট পিসি সার্ভারযুক্ত নেটওয়ার্ক রান সুযোগ দিয়েছে',\n 'একজন কম্পিউটার ফরেনসিক এক্সপার্টকে ধরনের ফরেনসিক সফটওয়্যার এপ্লিকেশনের দক্ষ',\n 'ইব্যাংকিং ব্যবহারের চেক পেমেন্ট বাতিল',\n 'কমিউনিকেশন প্রক্রিয়ায় ধরনের Cable সংযোগ ছাড়াই এক স্থান স্থানে এক কম্পিউটার কম্পিউটারে মেসেজ ডাটা ট্রান্সমিট যায় Wireless Communication',\n 'এক ধরনের অপারেটিং সিস্টেমের সার্ভিসের ধরনের অপারেটিং সিস্টেমের পার্থক্য রয়েছে',\n 'ট্র্যাপ সফটওয়্যার জেনারেটেড ইন্টারাপ্ট Error user প্রোগ্রাম নির্দিষ্ট্র রিকুয়েস্ট ধারা',\n 'অপরপক্ষে Multiple core সিস্টেমে threadsগুলো parallel রান',\n 'একমাত্র অসুবিধা প্রত্যেক User threadsএর Kernel threads তৈরি',\n 'ম্যাক্রো ভাইরাস Microsoft word Microsoft Excel জাতীয় software গুলোতে হামলা',\n 'নেটওয়ার্কভুক্ত কম্পিউটার কারণে অকেজো হয়ে কম্পিউটার দিয়ে উক্ত কম্পিউটারের যায়',\n 'ম্যানইনদিব্রাউজার আক্রমণ ক্ষতিগ্রস্ত কোডের উদাহরণ যেটি ব্রাউজার ইনফেক্ট',\n 'ফাংশন ওরিয়েন্টেড ডিজাইন সাব সিস্টেম গুলোকে ফাংশন',\n 'আরো রকমের স্ক্যাম রয়েছে ফিশিং অকশন ফ্রড ডার্ক প্যাটার্ন ক্যাটফিশ কোল্ড কল স্ক্যাম চেইন মেইল স্ক্যাম অনলাইন সার্ভে স্ক্যাম',\n 'স্কিল প্র্যাকটিস হ্যাকার রা হ্যাকিং',\n 'সার্ভিস ট্রান্সমিশনের বরাদ্দকৃত ফ্রিকুয়েন্সি রেঞ্জকে নির্দেশ চ্যানেল শব্দটিকে প্রায়ই',\n 'পারসোনাল কম্পিউটারকে পরস্পরের সংযুক্ত অপারেট যায়',\n 'ভেলিডেশন প্রতিষ্ঠানের লক্ষ্য ইউজারের চাহিদা পূরণের সবসময় গুরুত্ব আরোপ',\n 'সফটওয়্যারের ত্রুটি ডেভেলপারদের তৈরি প্রকৃত কোডিং ভুলসমূহ',\n 'সুপারকি এক একাধিক বৈশিষ্ট্যের সেট সম্মিলিতভাবে সম্পর্কের টাপলকে অনন্যভাবে সনাক্ত',\n 'প্রত্যেক Deviceএর নিজস্ব Device queue রয়েছে',\n 'নেটওয়ার্ক ইউজাররা এনটি সার্ভারের নভেল নেটওয়্যার অপারেটিং সিস্টেম বিশিষ্ট সার্ভারের ফাইল প্রিন্ট রিসোর্স পারবে',\n 'বিবর্ধিত অডিও সিগন্যাল ক্যারিয়ার ওয়েভ উভয়ে মডুলেটরে প্রয়োগ',\n 'একক সময়ে অধিক পরিমাণ শেষ সম্ভব Throaughput বৃদ্ধি পায়',\n 'ফিজিক্যাল লেআউট বোঝানো হয়েছে কম্পিউটার প্রিন্টারের অবস্থান ক্যাবল তারগুলো এদেরকে সংযুক্ত কীভাবে বিন্যস্ত হয়েছে বিষয়টি',\n 'অবজেক্ট অরিয়েন্টের ডিজাইনে ব্যবহৃত গুরুত্বপূর্ণ টার্মসমূহ অবজেক্ট ক্লাসসমূহ এনক্যাপসুলেশন ইনহেরিটেন্স পলিমরফিজম',\n 'কিনা চুল বিভক্ত চাই ধরনের আক্রমণ নির্দেশিত হয়যে সফ্টওয়্যার পণ্যের দিকেঅথবা এলোমেলোভাবে যেকোনো ব্যবহারকারীর বিরুদ্ধে পণ্যের বিন্দু শব্দার্থিক পরিপূর্ণতা আক্রমণ রক্ষা',\n 'একাধিক স্ট্রাকচারের সমন্বয়ে তৈরি Performance বৃদ্ধি পায় অধিক Security নিশ্চিত usability বৃদ্ধি পায়',\n 'জেনারেল পারপাস কম্পিউটার সিস্টেম কতকগুলো সিপিইউ সংখ্যক ডিভাইস কন্ট্রোলারের সমন্বয়ে গঠিত যেগুলো কমন বাসের সংযুক্ত',\n 'মেগাহার্টজের হার্টজের সিগন্যাল ionosphere প্রতিফলিত অতিক্রম সুযোগও সিগন্যাল সরাসরি অত্যন্ত দ্রুত গতিতে ট্রান্সমিট হয়ে যায়',\n 'সিস্টেম এনালিস্ট দায়িত্ব ম্যানেজমেন্টের প্রয়োজনীয় পরিকল্পনা তৈরি প্রয়োগ',\n 'জটিল GUI অধিক দক্ষতা নির্ভুলতা গতির',\n 'অবজেক্ট বেসড লজিক্যাল মডেলস মডেল মূল পার্থক্য এদেরকে ডাটাবেস সমগ্র লজিক্যাল কাঠামো Overall logical structureকে সুস্পষ্ট Specify বাস্তবায়ন Implementation উচ্চতর স্তর Higher level বর্ণনা সরবরাহ জন্যে',\n 'এক কথায় DBMS ডাটাবেস তৈরি একসেস রক্ষণাবেক্ষণের যাবতীয় কার্যাবলি সম্পাদন',\n 'অপটিক্যাল ফাইবার ক্যাবল মধ্য দিয়ে কপার তারের চেয়ে তথ্য পাঠানো সম্ভব',\n 'রক্ষনাবেক্ষণের আকার প্রকৃতির ভিত্তি বড় ইভেন্টও',\n 'অ্যাপ্লিকেশন নিজস্ব গ্রাহক Customer তৈরি উইন্ডোসমূহ',\n 'Traffic controllerএ Process পরিবর্তনের অবস্থা পর্যবেক্ষণের কৌশল Technique মেকানিজম',\n 'প্যারালাল ডাটাবেস সিস্টেমে কুয়েরি প্রসেসিং অত্যন্ত কম সময়ের প্রয়োজন',\n 'রিকয়ারমেন্ট Elicitation পদ্ধতি ক্লায়েন্ট ইন্ড ইউজার সিস্টেম ইউজার সফটওয়্যার সিস্টেম বিকাশে অংশীদারিত্ব রয়েছে যোগাযোগ স্থাপনের সিস্টেম রিকয়ারমেন্টসমূহ খুঁজে বের সাহায্য',\n 'অননুমোদিতভাবে ডাটা মডিফাই',\n 'স্ট্রাকচার কোডিং নির্দিষ্ট প্যাটার্নের নির্দেশ সংগঠিত নিয়ন্ত্রণ কাঠামো কন্ট্রোল স্ট্রাকচার',\n 'ডিফল্ট সিমেট্রিক সাইফার আজকাল প্রায়শই AES উপরন্তু চারটি AES ফাইনালিস্ট সাইফার সবগুলোই নিরাপদ দক্ষ',\n 'অর্থাৎ ব্যয়বহুল স্টোরেজ মিডিয়াম Storage Medium',\n 'ডাটাবেসের শ্রেণীবদ্ধ ডাটাবেস ব্যবহারকারী ডাটাবেস প্রশাসক হিসেবে',\n 'ট্রান্সপোর্ট লেয়ার সিকিউরিটি TLS স্কিম প্রতিটি ওয়েব ব্রাউজারে ব্যবহৃত ক্রিপ্টোগ্রাফিক প্রোটোকলের উদাহরণ',\n 'একজোড়া Processes নেটওয়ার্কের যোগাযোগ তৈরি Processএর সকেটের প্রয়োজন',\n 'DDOS এটিকে ভাষায় Cyber Attack যেটির মূল উদ্দেশ্য ওয়েব সার্ভার Down পরিষেবা বন্ধ',\n 'উদাহরণস্বরূপ নির্দিষ্ট সিস্টেম অননুমোদিত ডেটা পরিবর্তনের দুর্বল সিস্টেম ডেটা অ্যাক্সেস অনুমোদন ব্যবহারকারীর পরিচয় যাচাই',\n 'আজকাল সিভিলিয়ন সিস্টেম Civilian system জনগণ ইনফরমেশন কমিউনিকেশন সময় ইনক্রিপশন পদ্ধতি',\n 'একজন ব্ল্যাক হ্যাট হ্যাকার সবসময় নেটওয়র্কে অনধিকার প্রবেশের খারাপ উদ্দেশ্য',\n 'ট্রিতে পেরেন্টের অসীম সংখ্যক চিলড্রেন থাকতে',\n 'অপারেটিং সিস্টেম ফাইলের ধরন চিনতে পরিচালনা যুক্তিসঙ্গত উপায়ে ফাইলে',\n 'হাইব্রিড স্কিম উল্লেখ',\n 'প্রতিটি গ্রুপকে রিসিভ রিসিভারকে পৃথক পৃথক স্যাম্পল ব্লক তৈরি',\n 'আইপি এড্রেস গড়ে উঠে বত্রিশ বিট',\n 'দুর্বল সিগন্যালের শক্তি বৃদ্ধি মাইক্রোফোনের আউটপুটকে মাল্টিস্টেজ অডিও অ্যামপ্লিফায়ারে প্রয়োগ',\n 'এক্ষেত্রে লিঙ্ককে পয়েন্টার হিসেবে দেখানো',\n 'রেড হ্যাট হ্যাকাররা বিশ্বের হুমকি',\n 'প্রতিস্থাপন সাইফারের জনপ্রিয় কেস সিজার সাইফারযা জুলিয়াস সিজার সেনাবাহিনীর যোগাযোগের',\n 'Multiprocessor systemএর গুরুত্ব বৃদ্ধি পাচ্ছে',\n 'কম্পিউটার নিরাপত্তা কম্পিউটার কম্পিউটার সিস্টেমের মূল্যবান জিনিসগুলির সুরক্ষা কম্পিউটার কম্পিউটার সিস্টেমের সম্পত্তি',\n 'সময় হয়তো ড্রাইভটির কন্ট্রোলার বোর্ড হেড ড্যামেজ হয়এই অবস্থায় এগুলোকে পরিবর্তন ড্রাইভটি রিপেয়ার',\n 'মাধ্যমের সাহাযো কমিউনিকেশন নেটওয়ার্ক সম্পাদন',\n 'Scheduler Policy machanismএর সমন্বয় OS কর্তৃক algorithm',\n 'অনলাইন নিরাপত্তার একজন ব্যবহারকারী সমস্যার সম্মুখীন বর্ণনা কর',\n 'রেডিও ফ্রিকুয়েন্সি স্টেজের সাহায্যে ক্যারিয়ার ওয়েভের পাওয়ার লেভেলকে উপযুক্ত পরিমাণে বাড়ানো মান KW হয়ে',\n 'ছাড়াও কম্পিউটারের প্রকৃত ব্যবহারকারী ব্যতীত Error প্রবেশ দেয়',\n 'বচেয়ে নিচের স্তরে Layer O সকল Hardware সর্ব উচ্চ স্তরে Layer N User interface',\n 'Computer প্রাত্যহিক জীবনের সকল ক্ষেত্রেই',\n 'সফটওয়্যার স্তরে টেস্ট',\n 'পাবলিককী ক্রিপ্টোগ্রাফিতে একজন ব্যবহারকারীর সিমেট্রিক ক্রিপ্টোগ্রাফির গোপন পাবলিক কীও',\n 'ব্যবসার রেকর্ড ব্যক্তিগত তথ্য সম্পত্তি সম্পর্কিত তথ্য',\n 'প্রতিটি স্তর শুধুমাত্র নিম্নস্তরের স্তর প্রদত্ত ক্রিয়াকলাপগুলির প্রয়োগ',\n 'প্রত্যেক layer এমনভাবে বাস্তবায়ন কেবলমাত্র নিচের layer প্রাপ্ত Operationগুলো Execute',\n 'SDLC ফ্রেমওয়ার্ক সফটওয়্যার ডেভেলপমেন্ট প্রসেস নামেও পরিচিত',\n 'ডিজিটাল নিরাপত্তা আইন ধারায় হয়েছে কম্পিউটার কম্পিউটার প্রোগ্রাম কম্পিউটার সিস্টেম কম্পিউটার নেটওয়ার্ক ডিভাইস ডিজিটাল সিস্টেম ডিজিটাল নেটওয়ার্ক প্রবেশাধিকার ব্যাহত ডিজিটাল সন্ত্রাসী কাজের অপরাধী এজন্য অনধিক বছর কারাদণ্ড অনধিক এক অর্থদণ্ডঅথবা উভয় দণ্ডে দণ্ডিত',\n 'ইনফরমেশন মেইনটেন্যান্স System callsএর সিস্টেম প্রয়োজনীয় Data নেয়া প্রয়োজন অনুযায়ী সিস্টেমে Data set',\n 'অপটিক্যাল ফাইবার ক্যাবলে কাজেই তারের লাইন মাইক্রোওয়েভ সিস্টেম এরূপ লাইনের খরচ কম',\n 'উপরন্তু অপারেটিং সিস্টেম বাধ্যতামূলক উপদেষ্টা ফাইল লকিং প্রক্রিয়া প্রদান',\n 'ডাটাবেস ব্যবহৃত ধরনের Data নির্দিষ্ট প্রয়োজনীয় কমান্ডমূহ SQL অংশে অন্তর্ভুক্ত',\n 'Processor managementএর মূল উদ্দেশ্য overhead খরচ সর্বনিম্ন প্রত্যেক processকে processorএর সময় অংশের Time slice ভিত্তিতে বরাদ্দ',\n 'Software as measure of progressঅগ্রগতি অনুধাবনের মাপকাটি কার্যকারী সফটওয়্যার',\n 'ফাইল রিকভারি সফটওয়্যার আগের ফাইলটি অর্থাৎ ধবংস হওয়ার আগের ভার্সনটি খোজার খুজে পায় পার্টিশন টেবিল ফাইল রিকভারি সম্ভব',\n 'প্রকল্পের গৃহীত প্রক্রিয়া প্রকল্পের গৃহীত প্রক্রিয়া উল্লেখযোগ্যভাবে ভিন্ন',\n 'কোএক্সিয়াল ক্যাবলের টুইস্টেড পেয়ার অধিক ব্যয়বহুল নেটওয়ার্ক স্ট্যান্ডার্ড সাপোর্ট টোকেন রিং',\n 'তথ্য যোগাযোগ প্রযুক্তি আইন নীতিমালা সমূহ মেনে চলা',\n 'সাবধানে ডিজাইন শক্তিশালী সাইফার',\n 'চ্যানেলের রিসিভিং অ্যান্টিনাতে পৌঁছার রেডিও ওয়েভ ক্ষুদ্র emf আবিষ্ট',\n 'বিশেষজ্ঞদের ধারণা ওয়াইফাই তথ্য প্রযুক্তির জগতে ব্যাপক পরিবর্তনের সূচনা',\n 'ডাটাবেস ম্যানেজমেন্ট সিস্টেমে অথরাইজেশন প্রক্রিয়া অত্যন্ত গুরুত্বপূর্ণ বিষয়',\n 'পাঠ্যের বড় অংশ রিলেশনাল মডেলের দৃষ্টি নিবদ্ধ বেশিরভাগ ডাটাবেস অ্যাপ্লিকেশনের ভিত্তি',\n 'Asymmetric ক্লাস্টারিংএ মেশিন Hot standby মোডে অন্যটি অ্যাপ্লিকেশনগুলো রান',\n 'মেনি টু মেনি ম্যাপিং কার্ডিনালিটির উদাহরণ একাধিক শিক্ষক কর্তৃক একাধিক বিষয়ে পাঠদান',\n 'ওয়াটারফল মডেলটি নেয় পূর্বের ধাপের সকল কার্যাদি সঠিকভাবে সম্পাদিত',\n 'এনটিটি রিলেশনশিপ ER মডেলকে এট্রিবিউট এনটিটি এনটিটি সেটরিলেশনশিপ রিলেশনশিপ সেট ইত্যাদির ব্যবহৃত সিম্বলের এনটিটি রিলেশনশিপ মডেল প্রকাশ',\n 'এনটিটি সেটের সাধারনতঃ এট্রিবিউটকে প্রাইমারী হিসেবে',\n 'ল্যান আওতা বিল্ডিং কলেজ ক্যাম্পাস',\n 'সফ্টওয়্যার ডিজাইনের বিবর্তন চলমান প্রক্রিয়া ছয় দশকেরও সময় বিস্তৃত',\n 'টার্মিনাল স্টেশনগুলোতে অ্যান্টেনা ব্যবহৃত রিসিভিংএর অন্যটি ট্রান্সমিটিং',\n 'আলোর উৎসটি ফাইবারঅপ্টিক তারের মিলিত তারটি চ্যানেল ট্রান্সমিশন মাধ্যম',\n 'মার্কিন যুক্তরাষ্ট্রের আর্মি নৌবাহিনী নাসার বড় বড় সরকারি দপ্তরের কম্পিউটার হ্যাক গ্যারি ম্যাককিনন',\n 'ফায়ারওয়াল নেটওয়ার্ক ইন্টারফেসের নেটওয়ার্কের বাহ্যিক দিকের',\n 'একজন প্রজেক্ট ম্যানেজার ডেভেলপমেন্ট প্রক্রিয়া নিবিড়ভাবে মনিটর পরিকল্পনা গ্রহণ নির্বাহ',\n 'নেটওয়ার্ক এক্সেস লেয়ার প্রান্ত সিস্টেম নেটওয়ার্ক লজিক্যাল ইন্টারফেস দায়িত্ব পালন',\n 'কুয়েরি প্রসেসর কুয়েরিকে অনুবাদ ইউজারের অথরাইজেশন স্তর বিবেচনা',\n 'কারণে যেকোনো সংস্থা মূল্যবান সম্পদ তৈরি সংরক্ষণ কম্পিউটার সংস্থা উত্তরদায়ীভাবে ঠিকমতো কার্যকর নিরাপত্তা পরিকল্পনা',\n 'প্রত্যেক মডিউল লজিক্যাল গঠন মডিউল সমূহ অপরের কিভাবে যোগাযোগ রক্ষা নির্ধারণপূর্বক ইন্টারফেস সম্পাদন',\n 'প্রতিটি নিরাপত্তা পরিকল্পনায় ফরম্যাট থাকুক মৌলিক উপাদান',\n 'স্বাস্থ্যসেবা পৌরসভায় সেবা সরকারি খোলা সরকারি কর্মকর্তাকর্মচারীদের বেতনভাতা কম্পিউটার নেটওয়ার্কের',\n 'ভেরিফিকেশন প্রক্রিয়া সফটওয়্যারটি ব্যবসায়িক প্রয়োজনীয়তা গুলো পূরণ কিনা সফটওয়্যার যথাযথ স্পেসিফিকেশন মেথডলজি অনুসরণ ডেভেলপ হয়েছে কিনা বিষয়গুলো নিশ্চিত',\n 'রিমোট কন্ট্রোল IRDA Infrared Data Association ডিভাইসগুলোতে Infrared lightemitting diode LEDS',\n 'অ্যাপ্লিকেশনের বিষয়সমূহ Contents ধারণ বেশিরভাগ অ্যাপ্লিকেশন উইন্ডোগুলো অপারেটিং সিস্টেমসমূহের সরবরাহকৃত কনস্ট্রান্টগুলো',\n 'ব্যবহারকারীর তথ্য এপ্লিকেশন ফাইল সিস্টেম ফাইল সবকিছু পদ্ধতিতে ব্যাক আ হয়ে',\n 'ফাইল ওভাররাইট হয়ে সেক্ষেত্রে রিকভারি একটু জটিল',\n 'ইউজার ডকুমেন্টশন সমূহে সফটওয়্যার ইন্সটলেশন প্রসিডিউর সমূহ',\n 'ফায়ারওয়ালের প্রয়োজনীয়তা লেখ',\n 'উক্ত DDL স্টেটমেন্টসমূহকে কম্পাইলেশন একসেট টেবিল পাওয়া যায় টেবিলগুলোকে নির্দিষ্ট ফাইলে জমা',\n 'উদাহরণস্বরূপ ডিজাইনের পুনরাবৃত্তি বড় উপাদান তৈরি কম সংহতি প্রদর্শন অর্থাৎ তিনটি ফাংশন সম্পাদন অপরের শুধুমাত্র সীমিত সম্পর্ক',\n 'ডায়ালগ বক্স Dialogue Box চাইল্ড উইন্ডো ইউজার বার্তা ধারণ পদক্ষেপ নেওয়ার অনুরোধ জানায়',\n 'অনলাইন গেমাররা অরক্ষিত গেম সার্ভার ফায়ারওয়াল এক্ষেত্রে সুরক্ষা প্রদান',\n 'ডাটাবেসে কুয়েরী আপডেট অপারেশন সম্পন্ন DML ব্যবহৃত',\n 'টুলস সফটওয়্যারের এমব্যাডেড অবস্থায় IDE',\n 'যোগাযোগ ব্যবস্থায় লিনিয়ার ডিভাইস বিক্রেতাদের সরবরাহ প্রায়শই সামগ্রিক সিস্টেম গঠনের একসাথে ক্যাসকেড',\n 'সফ্টওয়্যার তৈরি রক্ষণাবেক্ষণ অগ্রগতি পরিমাপ অসুবিধা',\n 'অ্যালগরিদমের হার্ডওয়্যার সমর্থন প্রয়োজন অগ্রণী সিস্টেমে ঘনিষ্ঠভাবে হার্ডওয়্যার অপারেটিংসিস্টেম মেমরি ব্যবস্থাপনা',\n 'নিরাপত্তা ফাংশনগুলি অর্জন বিশদে আলোচনা খুবই শিক্ষণীয় ডিজিটাল স্বাক্ষর',\n 'ডিবিএমএস সামগ্রিক গঠনের ব্যবহৃত ফাংশনাল কম্পোনেন্টগুলোকে প্রধান তিনটি ভাগে বিভক্ত যায়',\n 'ডাটাবেস সিস্টেম সেন্ট্রালাইজড সিস্টেম ক্লায়েন্টসার্ভার সিস্টেম প্যারালাল সিস্টেম ডিসট্রিবিউটেড সিস্টেমের',\n 'সফ্টওয়্যার আর্কিটেকচার সফ্টওয়্যারটির সামগ্রিক কাঠামো কাঠামো যেভাবে সিস্টেমের ধারণাগত অখণ্ডতা প্রদান নির্দেশ',\n 'যেমনটি এইমাত্র দেখেছি সাধারণউদ্দেশ্যের কম্পিউটার সিস্টেমে একাধিক স্টোরেজ ডিভাইস ডিভাইসগুলিকে ফাইল সিস্টেম ধারণ ভলিউমগুলিতে ভাগ',\n 'নিশ্চিত পদ্ধতি প্রদান বার্তা একজন ব্যবহারকারীর খাঁটি অর্থাৎ প্রকৃতপক্ষে ব্যক্তির উদ্ভূত বার্তাটি তৈরি দাবি',\n 'রেডিও অন শব্দ শোনা যায়',\n 'ঝুঁকি ভুলটির নিয়ন্ত্রণে বাধা',\n 'সাইবার এথিকস',\n 'উপরন্তু সার্বজনীনভাবে স্বীকৃত সংজ্ঞা অংশ অপারেটিং সিস্টেম',\n 'যখনই সাইবার সম্পর্কে চিন্তা নিরাপত্তা মনের আসে সাইবার অপরাধ বাড়ছে',\n 'মূল ধারণা ব্যক্তি বার্তাটিতে স্বাক্ষর ব্যক্তিগত গ্রহণকারী পক্ষ মিল সর্বজনীন',\n 'সাইফারের উপরোক্ত মৌলিক বৈশিষ্ট্য বিভ্রান্তি প্রসারণ এফফাংশনের উপলব্ধি',\n 'কয়েকটি হার্ডওয়্যার নির্ভর ফায়ারওয়াল হলোWatch Guard Check PointCisco PIXNET Screen etc',\n 'এছাড়া কনভেনশনাল ফাইল প্রসেসিং সিস্টেমের যেসব সীমাবদ্ধতা সেসব সীমাবদ্ধতা দূর করাও DBMS অন্যতম উদ্দেশ্য',\n 'নেটওয়ার্ক প্রোটোকল যেগুলো রাউট্যাবল',\n 'পিজিপি প্লেইনটেক্সট মেসেজের মূলত ডিজাইন এসমাইম ধরণের সংযুক্তি হ্যান্ডেল ডেটা ফাইল যেমনঃ স্প্রেডশীট গ্রাফিক্স প্রেজেন্টেশন মুভি সাউন্ড',\n 'Rijndael algorithm সালে Encryption আবিষ্কারক V Rijmen J Decimen নাম অনুসারে এটির নামকরণ',\n 'কোডের প্রোগ্রামারগণ কোডের কার্যাদি টেস্ট অপারেশন সম্পাদন',\n 'বিস্তারিত নকশা মডিউল সমূহের অপারেশন প্রয়োগ সম্বন্ধে বিস্তারিত বিবরণ',\n 'অবজেক্টের ফাংশনালিটি নির্ধারণে এট্রিবিউট মেথডসমূহ ব্যবহৃত ক্লাস সেগুলো নির্ধারণ',\n 'এক্সট্রিম প্রোগ্রামিং Extreme Programming এক্সপি XP এক্সট্রিম প্রোগ্রামিং একপ্রকারের অ্যাজাইন সফটওয়্যার ডেভেলপমেন্ট মডেল',\n 'সুপার এনটিটি সেটের এনটিটিকে এককভাবে সনাক্ত',\n 'মাল্টিইউজার ডাটাবেস সিস্টেমও',\n 'এমবেডেড সফ্টওয়্যার পণ্য সিস্টেমের শেষ ব্যবহারকারীর সিস্টেমের বৈশিষ্ট্য ফাংশনগুলিকে বাস্তবায়ন নিয়ন্ত্রণ ব্যবহৃত এমবেডেড সফ্টওয়্যার সীমিত গুপ্ত কার্য সম্পাদন মাইক্রোওয়েভ ওভেনের প্যাড নিয়ন্ত্রণ উল্লেখযোগ্য ফাংশন নিয়ন্ত্রণ ক্ষমতা প্রদান অটোমোবাইলে ডিজিটাল ফাংশন জ্বালানী নিয়ন্ত্রণ ড্যাশবোর্ড প্রদর্শন ব্রেকিং সিস্টেম',\n 'মেসেজ পাসিং মডেলে প্রসেসগুলো মেসেজের পরস্পর তথ্যের আদানপ্রদান',\n 'হাই লেভেল সফটওয়্যার টেস্টিং সফটওয়্যারটির মূল ফাংশন ঠিকঠাক যাচাই',\n 'যোগাযোগ ব্যবস্থার বিষয়বস্তু অপরিসীম',\n 'ডাটাবেস সিস্টেমের কার্যক্রম অপারেটিং সিস্টেমের সম্পন্ন হয়ে',\n 'টপ ডাউন বিশ্লেষণ সমস্যা সমাধানের প্রক্রিয়া সমস্যাটি সহজে সমাধানযোগ্য উপ সমস্যাগুলোতে পৌছানো ক্ষুদ্র ক্ষুদ্রতর উপ সমস্যা অপারেশনসমূহে বিভক্ত',\n 'ওয়ার্ল্ড ওয়াইড ওয়েব ইমেইল কম্পিউটার ফাইল শেয়ারিংএর ভাইরাস সংক্রমণ ঘটতে',\n 'এনটিটি রিলেশনাল ডাটা মডেল কতকগুলো অবজেক্ট সমষ্টি সম্পর্ক গঠিত ডাটা মডেল',\n 'একাউন্টে প্রবেশের ব্যাংক গ্রাহককে প্রয়োজনীয় তথ্য সাধারণত আইডি পাসওয়ার্ড সরবরাহ',\n 'উপরন্তু সিগন্যাল প্রসেসর ডিজিটালে প্যারিটি বিট যোগ চ্যানেল কোডিং প্রদান শব্দ ত্রুটি সনাক্তকরণ সংশোধন রিসিভারে সংকেত প্রসেসর চ্যানেলে গোলমালের কারণে বিট ত্রুটিগুলি কমাতে দূর',\n 'Attenuation Transmission Media পরিমাণ সূক্ষ্মতা Attenuation Reliability Data Transmit Attenuation নির্বাচন দেয়',\n 'ডেটাবেস সিস্টেমগুলি অত্যন্ত মূল্যবান তুলনামূলকভাবে বড় একাধিক ব্যবহারকারী অ্যাপ্লিকেশন প্রায়ই সময়ে অ্যাক্সেস ডেটার সংগ্রহ পরিচালনা ব্যবহৃত',\n 'অপারেটিং সিস্টেম কার্নেলে কমান্ড ইন্টারপ্রেটার অন্তর্ভুক্ত',\n 'কম্পিউটার ফরেনসিক কৌশল ডিভাইস প্রমানগুলো খুজে বের সংরক্ষণ ব্যবহৃত',\n 'Build সমূহ ইটারেশন provide',\n 'ধারা ব্যক্তি কম্পিউটার সিস্টেমের হ্যাক অনধিক বছরের কারাদণ্ডে ন্যূনতম বৎসর কারাদণ্ডে অনধিক অর্থদণ্ডে দণ্ডিত উভয় দণ্ডে দণ্ডিত',\n 'নাম সেগুলি তৈরি মুছতে প্রদত্ত ফাইল অনুসন্ধান তালিকা ফাইল তথ্য',\n 'প্রক্রিয়ার ফাইল খোলা সিস্টেমওয়াইড টেবিলে ফাইলটির এন্ট্রি অন্তর্ভুক্ত',\n 'রিং টপোলজির ব্যবহৃত সফটওয়্যার জটিল নেটওয়ার্ক সেটআপ কৌশলও কঠিন',\n 'প্রোগ্রাম ইনস্ট্রাকশন নির্বাহ কন্ট্রোল ইউনিট নিয়ন্ত্রণ',\n 'অফিস চলাকালীন সময়ের চ্যাট নেট ব্রাউজ অযথা সময় অপচয়',\n 'ডাটাবেসের নিরাপত্তা লংঘনের জন্যে এটিও উল্লেখযোগ্য',\n 'Clone phishing ধরনের ফিশিংএ পূর্বে প্রেরিত ইমেইল ক্লোন কন্টেন্টসমূহ লিংকসমূহ পরিবর্তনের ইমেইল অ্যাড্রেস প্রেরণ অরিজিনাল অ্যাড্রেস প্রেরিত',\n 'ওয়্যার ওয়্যারলেস সিস্টেমের উচ্চগতির ডেটা ট্রান্সমিশনের নিরলস ধাক্কা',\n 'মূল্যবান কর্পোরেশন শারীরিক সম্পদের কারণে নিজস্ব তথ্যের কারণে মূল্যবান',\n 'রাউটার একেক নেটওয়ার্কের মাঝে কমিউনিকেশন পথ রাস্তা তৈরি',\n 'ট্রান্সমিটার রেডিও ওয়েভকে ট্রান্সমিটিং অ্যান্টিনাতে যুক্ত ওয়েভ স্পেসে ছেড়ে দেয়া সর্বদিকে ছড়িয়ে পড়ে',\n 'মেমরি memory Preemptable resourceএর উদাহরণ',\n 'ক্রাম ইন্টারেরিভ ইনক্রিমেন্ট মডেল ইটারেশনের সংক্ষিপ্ত রূপ',\n 'মৌলিকভাবে রিমোট কন্ট্রোলারের ট্রান্সমিটার সার্কিট অংশ ইনফ্রারেড লাইট ইমিটিং ডায়োড IRLED',\n 'তাছাড়া যেহেতু হ্যাস মিলে গেলেই হ্যাকারকে আসল পাসওয়ার্ড জানার দরকারও পড়ে',\n 'সকল অ্যাট্রিবিউটকে অংশে সাবপার্টে বিভক্ত যায় সরল সিম্পল অ্যাট্রিবিউট',\n 'বেশিরভাগ যোগাযোগ স্যাটেলাইট জিওস্টেশনারি কক্ষপথে জিও স্থাপন',\n 'Mach অংশ Remote procedure calls RPCs Interprocess communication IPCএর মেমরি ম্যানেজমেন্ট support প্রদান',\n 'সুবিধা মডিউলকে পৃথকভাবে লেখা কম্পাইল যায়',\n 'যাই প্রসেস Block হয়ে blocking system call',\n 'ফাইল অপারেশন অনুরোধ ফাইল টেবিলে সূচকের নির্দিষ্ট অনুসন্ধানের প্রয়োজন',\n 'শেয়ারড মিডিয়াম হাবের ডেটা প্যাকেট সংঘর্ষ এড়ানোর নির্দিষ্ট সমেয় স্টেশনই ডেটা প্যাকেট প্রেরণ',\n 'ডাটাবেস অ্যাক্সেস ডিএমএল স্টেটমেন্টগুলি হোস্ট পাঠাতে ডাটাবেস কার্যকর',\n 'ব্যক্তি নেটওয়ার্ক অ্যাডমিনিস্ট্রেটর সিস্টেমের নিরাপত্তার স্বার্থে সিস্টেমের মাঝে দুর্বলতা চেক ভালনারেবিলিটি স্ক্যানিং',\n 'ধরনের সিস্টেমগুলি সংখ্যক ব্যবহারকারীকে পরিবেশন সিস্টেমের দূরবর্তীভাবে সংযুক্ত সার্ভার সিস্টেম',\n 'বিরতি নির্দেশ অলস Idle চ্যানেল অনেকগুলো স্টপ বিট',\n 'ডাটাকে নির্দিষ্ট গ্রুপে বিভক্ত',\n 'GUI অ্যাপ্লিকেশনে নিম্নলিখিত এক একাধিক উপাদানসমূহ',\n 'তাছাড়াও প্যারালালিজম বৃদ্ধির প্যারালাল ডাটাবেস সিস্টেমের স্পীডআপ Speedup স্কেলআপ Scaleup বৃদ্ধি সম্ভব',\n 'বিতরণ ব্যবস্থার নোডগুলি অপরের যোগাযোগ যোগাযোগ মাধ্যমের উচ্চগতির ব্যক্তিগত নেটওয়ার্ক ইন্টারনেট',\n 'মডুলারাইজেশনে প্রোগ্রাম স্তরে আনা যায়',\n 'টপ ডাউন বিশ্লেষণে সমস্যাকে কতগুলো ক্ষুদ্র ক্ষুদ্র সমস্যাতে বিভক্ত প্রত্যেক অংশকে পৃথক পৃথক সমাধান',\n 'এইভাবে ইউজার ইন্টারফেসগুলি ডাটাবেসের অ্যাক্সেসের বিবরণ লুকিয়ে রাখে বেশিরভাগ লোক এমনকি জানেন ডাটাবেসের ডিল ডাটাবেসগুলি অ্যাক্সেস ফর্ম প্রত্যেকের জীবনের অপরিহার্য অংশ',\n 'প্রথমে ফিজিক্যালি ড্যামেজ ড্রাইভটি রান করিয়ে স্পেশাল সফটওয়্যার ডাটাগুলোকে রিকভার',\n 'মাল্টিপল পার্টিশন এলোকেশন পদ্ধতি ব্যয়বহুল',\n 'যোগাযোগ ব্যবস্থা উড়োজাহাজ ট্রেন স্টেশন অগ্রিম টিকেট রিজার্ভ আসন বণ্টন সম্পন্ন',\n 'সিগন্যাল রোধ ক্যারিয়ার ফ্রিকুয়েন্সি মূল ডাটা ফ্রিকুয়েন্সিকে বিঘ্ন ঘটায় গার্ড ব্যান্ড',\n 'আইকন ক্ষুদ্র চিত্র সংশ্লিষ্ট অ্যাপ্লিকেশন উপস্থাপনে ব্যবহৃত',\n 'প্রস্তুতি পর্বে হোয়াইট বক্স টেস্টিং সকল বেসিক ইনফরমেশনের গঠন নকশা প্রণয়ন হয়ে',\n 'ব্রাউটার মূলত সফট্ওয়্যার রাউটারের',\n 'ডাটাবেস স্কিমা বর্ণনা ধরনের ল্যাংগুয়েজ ব্যবহৃত ডাটা ডেফিনিশন ল্যাংগুয়েজ DDL',\n 'অপারেটিং সিস্টেমের সামান্য ভিন্ন দৃষ্টিভঙ্গি প্রয়োজনের জোর IO ডিভাইস ব্যবহারকারী প্রোগ্রাম নিয়ন্ত্রণ করুন',\n 'গ্রুপ প্রেরণ শেষ স্টপ বিট সাধারণত প্রেরণ',\n 'গ্রাহকের দৃষ্টি দিয়ে বিষয়টি দেখার কতটুকু পণ্য সেবার গ্রাহক অর্থ পরিশোধ রাজি আছেন',\n 'টেস্টিং শেষ ফেজ ইউজারের আন্তক্রিয়া রেসপন্স পরীক্ষা',\n 'ধরি customer Account এনটিটি সেট Depositor রিলেশনশিপ সেট',\n 'ক্যারেকটারের বিরতি',\n 'রেডিও স্টেশনের ট্রান্সমিটারটি শব্দ তরঙ্গকে ইলেকট্রোম্যাগনেটিক ওয়েভে রূপান্তর রেডিও ফ্রিকুয়েন্সি রেঞ্জে AM রেঞ্জ KHz FM স্টেশনের MHz ইলেকট্রোম্যাগনেটিক ওয়েভের ইনকোড',\n 'ফাইবার অপটিক ক্যাবলে কনভার্টার প্রয়োজন পড়ে',\n 'বাংলাদেশে সাইবার সিকিউরিটি আইন প্রণয়ন',\n 'Communication is the keyপ্রতিনিয়ত ব্যবসায়ী জনতার ডেভেলপার যোগাযোগ নিশ্চিত ভাল সফটওয়্যার ডেভেলপএর অতি গুরুত্ব',\n 'অপটিক্যাল ফাইবারের কোরের Refractive index m ধ্রুব ক্ল্যাডিংএর Refractive index µ সামান্য কম স্টেপ ইনডেক্স ফাইবার',\n 'রিপিটারকে দুইভাবে ভাগ যায়',\n 'আইএমইআই IMEI নাম্বার ফোন নাম্বার ব্যক্তি ডিভাইসে জুড়ে আইপি অ্যাড্রেস কখনোই কারো নামে রেজিস্টার',\n 'অ্যাপ্লিকেশন গেটওয়ে এফটিপি টেলনেট সার্ভারের অ্যাপ্লিকেশনের সিকিউরিটি মেকানিজম প্রয়োগ',\n 'মডুলেশন পদ্ধতির কারণে অডিও সিগন্যালের ট্রান্সমিশন সম্ভব',\n 'ডিস্ট্রিবিউটেড ডাটাবেস ডাটার আপটুডেট বর্তমান অবস্থান uptodate and current নিশ্চিত',\n 'ফিজিক্যাল ডাটা মডেল মূলত ডাটা ডিজাইনকে রিপ্রেজেন্ট উপস্থাপন',\n 'সফটওয়্যার টেস্টিং প্রক্রিয়ায় ভেলিডেশন ভেরিফিকেশন সম্পাদনা',\n 'ধরনের Attack Bits Per Second হিসেবে মাপা',\n 'আগের আলোচনা স্মরণ ক্রিপ্টানালাইসিসকে বিশ্লেষণাত্মক আক্রমণে ভাগ এনক্রিপশন পদ্ধতির অভ্যন্তরীণ কাঠামোকে লাগায় ব্রুটফোর্স আক্রমণ এনক্রিপশন অ্যালগরিদমকে ব্ল্যাক বক্স বিবেচনা পরীক্ষা সম্ভাব্য',\n 'মাল্টিইউজার পরিবেশে ডাটাবেজ কিভাবে নিয়ন্ত্রণ ডাটাবেজ সিকিউরিটি ফিচার রয়েছে',\n 'ধরনের সিস্টেমের বিস্তার বড় প্রতিষ্ঠানের মাথাব্যথার দাঁড়ায় রক্ষণাবেক্ষণের ব্যয়বহুল বিকাশের ঝুঁকিপূর্ণ',\n 'বাস্তবে আলোক উৎস কোণে পথে বাউন্ডারি স্তরে আলো আপতিত',\n 'অজানা সঠিকভাবে সমস্যা সমাধানের ডেটা ফাংশন বৈশিষ্ট্যগুলির প্রয়োজন সমস্যাটি বিভক্ত',\n 'অপারেটিং সিস্টেমটি জটিল ব্যবহারকারীদের আশা',\n 'হিপো ডায়াগ্রাম মডিউলে ডাটা নিয়ন্ত্রণের প্রবাহকে বর্ণনা ডাটা প্রবাহ নিয়ন্ত্রণ প্রবাহ সংক্রান্ত তথ্য প্রদান',\n 'বিতরণ ডাটাবেস আলাদাভাবে প্রশাসিত প্রতিটি সাইট রাখার স্বায়ত্তশাসন ডিগ্রী অপারেশন',\n 'Link manipulation ভিকটিম ম্যালিশিয়াস ওয়েবসাইটে ব্রিডিরেক্ট',\n 'অ্যানালগ পিরিয়ডিক সিগন্যালের প্রকৃষ্ট উদাহরণ সাইন ওয়েভ',\n 'এজন্য এসারশন তৈরির সময় খুবই যত্নশীল',\n 'প্রত্যেক PCBএর Pointer field Ready queueএর Next processকে point',\n 'ফিজিক্যাললজিক্যাল ভিউ লেভেলে ডাটাবেসের ডিজাইন ফরমেটকে ডাটা মডেল অনুমোদন',\n 'স্তরযুক্ত পদ্ধতির প্রধান অসুবিধা স্তরগুলিকে যথাযথভাবে সংজ্ঞায়িত',\n 'প্রাইমারি হিসেবে ব্যবহৃত এট্রিবিউটের মান সাধারণত পরিবর্তিত',\n 'প্রত্যেক ডিভাইস কন্ট্রোলারের OS ডিভাইস ড্রাইভার রয়েছে ডিভাইস কন্ট্রোলারকে বুঝতে',\n 'লেনদেন ব্যবস্থাপক গুরুত্বপূর্ণ অ্যাপ্লিকেশন বিকাশকারীদের ডাটাবেস অ্যাক্সেসের ক্রমকে এমনভাবে আচরণ একক ইউনিট সম্পূর্ণতা',\n 'রেস্টিকটেড ডাটাকে পূর্বেই ডাটা টাইপ নির্দিষ্ট ডোমেইন ইন্টিগ্রিটি',\n 'ফাইবার অপটিক ক্যাবলে Installation cost Requirement cost Installation processও জটিল',\n 'পার্থক্যগুলির ক্রিয়াকলাপ ক্রিয়া কাজের সামগ্রিক প্রবাহ আন্তঃনির্ভরতা',\n 'ট্রান্সমিটারের সাহায্যে ইনপুট সিগন্যালকে হাই ফ্রিকুয়েন্সির ক্যারিয়ার ওয়েবের মিশ্রিত দূরদূরান্তে প্রেরণ উপযোগী',\n 'ইতিমধ্যে দেখেছি আধুনিক কম্পিউটার সফটওয়্যারগুলি অবিরত পরিবর্তনের অধীনে অত্যন্ত সঙ্কীর্ণ সময়সূচীতে গ্রাহকব্যবহারকারী সন্তুষ্টিতে জোরদার প্রয়োজন চিহ্নিত',\n 'একেক নেটওয়ার্কের অধীনে ইউজার আইপি অ্যাড্রেস',\n 'ফ্রিকুয়েন্সি বিশিষ্ট একাধিক চ্যানেল সিগন্যাল ট্রান্সমিট রিসিভারে টিউনিং সম্ভব হতো',\n 'Translatorএর Source codeকে Machine codeএ রূপান্তর',\n 'অন্যদিকে নন রাউট্যাবল প্রোটোকল নেটবুই ব্রাউটারের ব্রিজ অংশ',\n 'বিশাল বড় জটিল আধুনিক অপারেটিং সিস্টেম তৈরি সময় অত্যন্ত সতর্কতা অবলম্বন সঠিকভাবে সহজে modify যায়',\n 'ঘুষ ব্ল্যাকমেইলিং প্রতারণা ধ্রুপদী গুপ্তচরবৃত্তি মানুষকে জড়িত গোপন পেতে',\n 'ডাটার পরিমান কম পার্সোনাল ডাটা এগুলোকে এক্সটার্নাল ড্রাইভে ইউএসবি হার্ড ডিস্ক পেনড্রাইকে ব্যাকআপ যায়',\n 'ডাটাপ্রসেসিং গতি আইও গতি বেড়ে যায় সিস্টেমের পারফরমেন্স বৃদ্ধি পায়',\n 'পদ্ধতিরও অনুরূপ মাইক্রোকারনেল পদ্ধতিতে মডিউলটির শুধুমাত্র মূল ফাংশন অন্যান্য মডিউলগুলির কীভাবে লোড যোগাযোগ সম্পর্কে জ্ঞান কার্যকর মডিউলগুলিকে বার্তা পাঠানোর আহ্বান জানানোর প্রয়োজন',\n 'দীর্ঘদিন যাবত সফটওয়্যার ব্যবহারের এটির কর্মদক্ষতা কমে যায় যুগোপযোগী কার্যাদি সম্পাদন',\n 'কম্পিউটার সিস্টেমে প্রকার ডাটা স্টোরেজ মিডিয়া ব্যবহৃত হয়ে',\n 'নির্বাচন জড়িত প্রশমিত হুমকি ঝুঁকি ব্যবস্থাপনা নামক প্রক্রিয়া সুরক্ষার ক্ষমতার বিরুদ্ধে হুমকির গুরুত্বের ওজন',\n 'সিনক্রোনাস ভাটা ট্রান্সমিশন মোডের কম্পিউটার কম্পিউটারে ডাটা প্রেরণে ব্যবহৃত',\n 'এভাবে জব সম্পন্ন হওয়ার জব মেমোরি নির্বাচিত অংশ খালি হয়ে যায়',\n 'ডাটাবেস ডিজাইনারকে ব্যাপকভাবে যোগাযোগ কাজটি সম্পন্ন ডোমেন বিশেষজ্ঞ ব্যবহারকারীদের',\n 'জাতীয় এনটিটি সমূহের সেট সমাবেশই এনটিটি সেট বৈশিষ্ট্য এট্রিবিউটকে শেয়ার',\n 'সফটওয়্যার অডিটের উদ্দেশ্য সফটওয়্যার এটির ডেভেলপমেন্ট প্রক্রিয়া উভয়ই স্টান্ডার্ড রুলস রেগুলেশনস অনুযায়ী হয়েছে কিনা যাচাই',\n 'অডিও অ্যামপ্লিফায়ার সিগন্যালকে বিবর্ধন সাউন্ড ওয়েভে পুনরুৎপাদন স্পিকারে প্রদান',\n 'সফটওয়্যার সিস্টেম বিশ্লেষক হলেন ব্যক্তি প্রস্তাবিত প্রকল্পের রিকয়ারমেন্টগুলো বিশ্লেষণ নিশ্চিত করেনরিকয়ারমেন্টগুলো সঠিকভাবে নিয়মানুযায়ী চিন্তাভাবনা কাগজেকলমে লিপিবদ্ধ হয়েছে কিনা সেগুলো যাচাই',\n 'কম্পিউটার নিরাপত্তার মোডেল অ্যাক্সেস নিয়ন্ত্রণ নীতি প্রয়োগ কম্পিউটার নিরাপত্তা সুরক্ষিত অবজেক্টের মোডে সাবজেক্টদের অ্যাক্সেস নিয়ন্ত্রণ',\n 'উদাহরণস্বরূপ ঘন ঘন সেট প্রয়োজন কমান্ডলাইন পদক্ষেপ পদক্ষেপগুলি ফাইলে রেকর্ড ফাইলটি প্রোগ্রামের চালানো',\n 'হ্যাকারা সার্ভার প্রোটোকল Attack Botnet ডাটা Packet সার্ভার পাঠিয়ে সার্ভারের Resource সার্ভার তাড়াতাড়ি Crash',\n 'সফটওয়্যার পূর্ণ ধারণা ব্যবহৃত এনটিটি সমূহ অবলম্বন revolve',\n 'প্যারালাল ডাটাবেস সিস্টেমে একাধিক সিপিইউ ডিস্ককে শক্তিশালী দ্রুতগতি সম্পন্ন ইন্টারকানেকশন নেটওয়ার্ক পরষ্পর প্যারালালি সংযুক্ত',\n 'কেননা প্রতিটি ভাগ আলাদাভাবে রান আলাদা আলাদা coresএর',\n 'Band Usage Transmission Media নির্বাচনে Media Baseband Broadband',\n 'ক্লায়েন্টসার্ভার নেটওয়ার্কের নেটওয়ার্কভুক্ত কম্পিউটারসমূহকে কেন্দ্রীয়ভাবে নিয়ন্ত্রণ যায়',\n 'টুইস্টেড পেয়ার ক্যাবল পাকানোর ক্রসটক Crosstalk ইন্টারফারেন্স সমস্যা হ্রাস পায়',\n 'বর্তমানে উন্নত বিশ্বে সাইবার অপরাধ অপরাধের তালিকায় শীর্ষে স্থান নিয়েছে',\n 'ইউজার লিখতে মুছে ফেলতে চালনা ঘুরায়',\n 'বিবৃতিটি ধারণাগতভাবে ফাংশন তথ্যকে বর্ণনা ফাংশনের অভ্যন্তরীণ তথ্যের অভ্যন্তরীণ কাঠামোর ইঙ্গিত',\n 'রিলেশনশিপ মডেলে ম্যাপিং প্রকার',\n 'মেমোরি ম্যানেজমেন্ট সবচেয়ে সরল পদ্ধতি সিংগেল কনটিজিয়াস এলোকেশন পদ্ধতি',\n 'মোবাইল টেলিফোন যোগাযোগ ফুলডুপ্লেক্সএর উদাহরণ',\n 'স্টার্টস্টপ বিট প্রয়োজন',\n 'সিস্টেম Registry support সিস্টেমের Configuration তথ্য store retrieve ব্যবহৃত',\n 'স্টোরেজ ম্যানেজার ডাটাবেসে ডেটা সংরক্ষণ পুনরুদ্ধার আপডেট দায়ী',\n 'বিষয় সমূহ সংরক্ষণ সফটওয়্যার ডিজাইনার ব্যবহারকারীর সুবিধা প্রদান ডাটা ডিকশনারি বিভিন্নভাবে সংজ্ঞায়িত',\n 'Media service লেয়ারটি Graphics audio Videoএর সার্ভিস প্রদান',\n 'ভুলবসত ডাটা ডিলিট হয়ে হার্ডড্রাইভ অকেজো হয়ে গেলেসফটওয়্যারে ত্রুটি থাকলে ডাটা করাপশন হয়ে গেলেহ্যাকিং কবলে পড়লে এমনকি বিদ্যুৎ ডাটা লস ঘটতে',\n 'অনুমতি ব্যতীত সংরক্ষিত সিস্টেমে ব্যক্তি প্রবেশ অনুমতি ব্যতীত সংরক্ষিত সিস্টেমে ব্যক্তি প্রবেশ অনধিক বছরের কারাদণ্ডে নুন্যতম বৎসর কারাদণ্ডে অনধিক টাকা অর্থদণ্ডে দণ্ডিত উভয় দণ্ডে দণ্ডিত',\n 'সিংলেটন ক্লাস ইন্সট্যান্স',\n 'পরিস্থিতিতে প্রক্রিয়া প্রক্রিয়ার তথ্য বিনিময়',\n 'অপটিক্যাল ফাইবার প্রধানত প্রকার',\n 'পিয়ারটুপিয়ার নেটওয়ার্কের খরচ কম',\n 'বর্তমানে মোবাইল কম্পিউটিংএর ধরনের অপারেটিং সিস্টেম কর্তৃত্ব প্রদান পরছে',\n 'পলিমরফিজমে মেথড ভিন্ন ভিন্ন বৈশিষ্ট্য প্রদর্শন',\n 'নেটওয়ার্কে ডেটা এক কম্পিউটার কম্পিউটারে প্রবাহের সুনির্দিষ্ট ধাপ পদ্ধতি',\n 'Operating system মূলত এক ধরনের System software Computerএর Hardware ব্যবহারকারীর User সমন্বয় সাধন',\n 'মাঝে মাঝে অনেকগুলো Lowbanwidth চ্যানেলকে এক Combin Larger Bandwidth চ্যানেল তৈরি প্রয়োজন',\n 'ইউজার প্রোগ্রাম IO অপারেশন execute IO layerএর System call Memory management layerকে call',\n 'ব্লু হ্যাট হ্যাকার রা অত্যন্ত মেধাবী',\n 'ক্রিয়েশনাল ডিজাইন প্যাটার্নসমূহ ক্লাস ইন্সটলেশনের সম্পর্কিত',\n 'নিশ্চয়ই আশা ব্যবহারকারী ব্যাংকের গ্রাহকদের এ্যাকাউন্ট সম্পর্কে যাবতীয় বিষয় জেনে যাক কোম্পানির মালিক নিশ্চয়ই কম্পিউটারে রক্ষিত কোম্পানি লেনদেনসংক্রান্ত যাবতীয় তথ্য দ্বিতীয় প্রতিষ্ঠান জেনে যাক',\n 'নেটওয়ার্ক এক কম্পিউটার কম্পিউটারের কিভাবে ডাটা আদান প্রদান লজিক্যাল টপোলজি',\n 'DES নকশা প্রক্রিয়া প্রযুক্তিগত বোঝার খুবই সহায়ক আধুনিক ক্রিপ্টোগ্রাফির রাজনৈতিক বিবর্তন',\n 'কল পক্ষটি মোবাইল সংযোগটি সেলুলার সাইটের তৈরি কল পার্টিটি এলাকায় অবস্থিত সেটিকে কভার সম্পর্কিত কক্ষে উপলব্ধ রেডিও চ্যানেল নামক দল',\n 'ডেটাবেস সিস্টেমে সমান্তরালতার লক্ষ্য সাধারণত তৈরি নিশ্চিত ডাটাবেসের আকার লেনদেনের সংখ্যা বৃদ্ধির ডাটাবেস সিস্টেম গ্রহণযোগ্য গতিতে চালিয়ে',\n 'অ্যাজাইল মডেল পুনরাবৃত্তিমূলক Iterative ডেভেলপমেন্ট প্রক্রিয়ায়',\n 'সর্বদা উচ্চ সংহতির অর্থাৎ এককমনোভাব প্রায়শই প্রয়োজনীয় পরামর্শ সফ্টওয়্যার উপাদান একাধিক ফাংশন সম্পাদন যাইহোক সিজোফ্রেনিক উপাদান মডিউল প্রতিঅনেকগুলি সম্পর্কহীন ফাংশন গঠন ভাল নকশা অর্জন এড়ানো',\n 'সফটওয়্যার ফায়ারওয়াল বিদ্যমান নেটওয়ার্কে ডিভাইসে ইনস্টল সাধারণত হার্ডওয়্যার ফায়ারওয়াল চেয়ে সস্তা',\n 'ইন্টারনেট শুধুমাত্র ধরনের তথ্যের মূল উৎস লোকেরা ব্যবসায়িক কার্যক্রমও',\n 'প্রতিটি গ্রুপের ট্রান্সমিশন টাইম সমান',\n 'উচ্চ ফ্রিকুয়েন্সির সিগন্যালের মিশ্রিত উচ্চ ফ্রিকুয়েন্সির সিগন্যালকে ক্যারিয়ার সিগন্যাল',\n 'Alternation Authorization অথরাইজেশনের স্তরের সাহায্যে একজন ইউজারকে রিলেশনের অ্যাট্রিবিউট ডিলিট অ্যাট্রিবিউট সংযুক্ত অনুমতি দেয়া যায়',\n 'অবশ্যই সকল প্রোগ্রামের ফাইলে Read Write অপারেশন প্রয়োজন',\n 'User একজন অপরজনের নিকট messages পাঠানো Web page browse email পাঠানো ধরনের communication কাজও',\n 'ছাড়া Higher level language Machine languageএর প্রয়োজনীয় Debugging systemও',\n 'বই ক্রিপ্টো অ্যালগরিদমগুলির সাহায্যে উন্নত পরিষেবাগুলির বেশিরভাগই অর্জন',\n 'ডাটাবেস স্কিমা ফরেন সীমাবদ্ধতার স্কিমা ডায়াগ্রাম চিত্রিত',\n 'যেকোনো কম্পিউটার সিস্টেমে প্রবেশ জরুরী তথ্য নষ্ট কম্পিউটার সিস্টেমকে স্লো দেয় বিকল',\n 'সফটওয়্যার ডিজাইনে ডাটা সমূহের অসংলগ্নতা দিলে ডাটা ডিকশনারি রিমুভ',\n 'দৃশ্যমান আলো ইনফ্রারেড আল্ট্রাভায়োলেট Xray গামা রেএর রেডিও ওয়েভ ইলেকট্রোম্যাগনেটিক ওয়েভ শূন্য স্থানের মধ্য দিয়ে চলতে',\n 'স্টার টপোলজিতে ধরনের হাবসুইচ',\n 'ডাটাবেসে ডাটার পরিবর্তন ইন্টিগ্রিটি কন্সট্রেইন্ট ভেলিডেশন নিয়ম অনুসরণ',\n 'User thread kemel threadএর একটির যুক্ত Onetoone model',\n 'অপারেটিং সিস্টেমে নেটওয়ার্ক প্রোটোকলের ইন্টারফেসিং ডিভাইস হিসেবে নেটওয়ার্ক অ্যাডাপ্টার প্রয়োজন',\n 'বইয়ের অংশে বিশদভাবে সফ্টওয়্যার প্রক্রিয়া পরীক্ষা',\n 'ইব্যাংকিং ব্যবহারের হিসাবের ব্যালেন্স অনুসন্ধান',\n 'ফাইল সঠিকভাবে সংজ্ঞায়িত বিবেচনা ক্রিয়াকলাপ ফাইলগুলিতে সঞ্চালিত',\n 'বড় প্রতিষ্ঠানের আঞ্চলিক অফিসকে একসাথে নেটওয়ার্কের আওতায় আনার প্রয়োজন একক টপোলজি পদ্ধতি অসুবিধাজনক',\n 'যেহেতু স্টার্ট স্টপ বিট রিসিভারে ত্রুটিমুক্ত রিসিপশন পাওয়ার সঠিক বিটের হিসাব রাখতে',\n 'সঠিক সিস্টেমের অপারেশন ব্যবহারকারীর প্রক্রিয়া অ্যাক্সেস অপারেটিং সিস্টেম রক্ষা আবশ্যক',\n 'গতানুগতিক পদ্ধতিতে অপরাধ সংঘটনের সুযোগ ক্ষেত্র কমে যাওয়ার কারণে সাইবার অপরাধ সংগঠিত',\n 'পূর্বে রাজা বাদশাহদের রাজপ্রাসাদের নিরাপত্তার প্রাসাদের চারপাশে পরিখা খনন করতো রাজ প্রাসাদে অযাচিত প্রবেশ',\n 'সবচেয়ে নিচে রয়েছে Linux kernel পরবর্তীতে Google পরিবর্তন করেছিল',\n 'ইন্টারনেট গ্রাহকদের যোগাযোগ আর্থিক লেনদেন সম্পাদন',\n 'বিদ্যালয়ের ডেটাবেজের কথা ধরতে প্রতিটি স্টুডেন্ট এক এন্টিটি এন্টিটির এট্রিবিউট গুলো নাম আইডি বয়স ক্লাস',\n 'মাল্টিপ্লেক্সিংএর কমিউনিকেশনে কম চ্যানেলের প্রয়োজন',\n 'Hz বুঝায় একক সময়ে ফ্রিকুয়েন্সির সর্বোচ্চ সর্বনিম্ন মানের মধ্যকার পার্থক্য এক',\n 'Systemএ Suspended state নামে state যোগ',\n 'লিগ্যাসি সফ্টওয়্যারটি ব্যবহারকারীদের চাহিদা পূরণ নির্ভরযোগ্যভাবে চালায় ভাঙা প্রয়োজন',\n 'সিস্টেম m নামে ফাইলটি খুঁজে বের মেমরিতে লোড Parameter filetxt execute',\n 'একজন কম্পিউটার ফরেনসিক এক্সপার্টকে নেটওয়ার্কিং নেটওয়ার্ক কমিউনিকেশন টিসিপি আইপি প্রটোকল নেটওয়ার্ক ট্রেসিং সম্পর্কে দক্ষ',\n 'অপারেটিং সিস্টেম ছয়টি মৌলিক ফাইল অপারেশন প্রতিটি সঞ্চালন',\n 'ব্যাপক প্রযুক্তির প্রচার প্রসারের মানুষের হাতে হাতে পৌঁছে স্মার্টফোন কম্পিউটার ডিজিটাল ডিভাইস',\n 'সরলতম আকারে আর্কিটেকচার প্রোগ্রাম উপাদানগুলির গঠন সংগঠন মডিউল উপাদানগুলি যেভাবে মিথস্ক্রিয়া ডেটার গঠন প্রতিটি ডিজাইনের প্যাটার্নের উদ্দেশ্য বর্ণনা প্রদান একজন ডিজাইনারকে নির্ধারণ সক্ষম',\n 'উপরন্তু ওয়েব অ্যাক্সেস সম্পর্কে ডেটা ডাটাবেসে সংরক্ষিত',\n 'প্রসেস চলমান কার্য',\n 'ব্লাক বক্স টেস্টিং অসুবিধা সফটওয়্যার বেশিরভাগ অংশ টেস্টিং আওতায় আনা সম্ভব',\n 'ডাটাবেস সিস্টেমের ডেটা সার্ভার কার্যকারিতা অফার পৃষ্ঠা টুপল ফাইলের ছোট বস্তুর ডেটার ইউনিট সমর্থন',\n 'সিগন্যালকে একস্থান অন্যত্র পৌঁছানোর ব্যবস্থাকে যোগাযোগ',\n 'পরিষেবা ব্যবহারকারীর জায়গায় যোগ কার্নেলের পরিবর্তনের প্রয়োজন',\n 'অর্থাৎ সিগন্যাল শক্তিকে বাড়িয়ে দেয়া সিগন্যাল আরো দূরত্ব অতিক্রম',\n 'একমাত্র যুক্তিসঙ্গত যতক্ষণ উত্তরাধিকার ব্যবস্থায় উল্লেখযোগ্য পরিবর্তন আনতে',\n 'বৈশিষ্ট্যগুলি নেতৃত্ব খরচ প্রচেষ্টা বক্ররেখায় দেখানো',\n 'কম্পিউটার নিরাপত্তা বৈশিষ্ট্য',\n 'চতুর্থ ধাপে পরবর্তী ইন্টারেশনের পরিকল্পনা গ্রহণ',\n 'হাইব্রিড টপোলজি প্রতিটি অফিস স্থানীয় প্রয়োজনানুসারে নেটওয়ার্ক স্থাপনের সুযোগ পায়',\n 'অন্যদিকে ইচ্ছায় অনিচ্ছায় ফাইল ডিলিট ফাইল ওভাররাইট হওয়ার কারণে রিকভারি সফটওয়্যার রিকভারি',\n 'ডিজিটাল নিরাপত্তা আইন',\n 'ব্রডব্যান্ড ক্যাবল ইউনিডিরেকশনাল Data transfer',\n 'বর্তমান আল্ট্রাবুকগুলোতে সলির স্টেট ড্রাইভ থাকছে প্রধান চমক হিসেবে',\n 'আধুনিক কম্পিউটারসমূহে ডাটা এড্রেস আলাদা ব্যবস্থা বিধায় ওয়ার্ডকে পরিবর্তন মনিটর',\n 'বিরুদ্ধে রক্ষা ক্ষতি কমাতে দূর হুমকি',\n 'কোএক্সিয়াল ক্যাবলের বরাবর কন্ডাক্টরদ্বয়ের স্পেসিংএর উল্লেখযোগ্য পরিবর্তন ঘটলে সোর্সের রেডিও ফ্রিকুয়েন্সি পাওয়ার পুনঃপ্রতিফলিত স্ট্যান্ডিং ওয়েভ সৃষ্টি',\n 'ডকুমেন্টেশন সফটওয়্যার তৈরি ভিত প্রধানত ভেরিফিকেশন ভেলিডেশন স্তর সমূহে ব্যবহৃত',\n 'ইথারনেটে UTP ক্যাবল হয়ে',\n 'সিগন্যাল দুর্বল হয়ে নয়েজ সিগন্যালকে সম্পূর্ণভাবে বিনষ্ট',\n 'লুকানো মডিউল মডিউল ব্যবহৃত যেকোন স্থানীয় ডেটা কাঠামোর উভয় পদ্ধতিগত বিবরণে অ্যাক্সেসের সীমাবদ্ধতাকে সংজ্ঞায়িত প্রয়োগ',\n 'পরবর্তীতে কেভিন মিটনিক বড় প্রতিষ্ঠান মটোরোলা নকিয়া ফুজিসু ইত্যাদির মত প্রতিষ্ঠানের কম্পিউটার সিস্টেম হ্যাক করেছিল',\n 'নকশা উপস্থাপনের গুণমান মূল্যায়ন আপনাকে সফ্টওয়্যার দলের অন্যান্য সদস্যদের অবশ্যই ভাল ডিজাইনের প্রযুক্তিগত মানদণ্ড স্থাপন ডিজাইনের ধারণাগুলি আলোচনা যেগুলি সফ্টওয়্যার মানের মানদণ্ড হিসাবেও',\n 'অপারেটিং সিস্টেম নেটওয়ার্ক অ্যাকসেসকে ফাইল অ্যাকসেস ফরমরূপে',\n 'রিলোকেট্যাবল ডাইনামিক্যালি রিলোকেট্যাবল পার্টিশনড এলোকেশন পদ্ধতিতে সিপিইউ আইডল টাইম হ্রাস পায়',\n 'কর্মক্ষমতা অবশ্যই ব্যবহারকারীর গুরুত্বপূর্ণ ধরনের সিস্টেম প্রয়োজনীয়তার পরিবর্তে এককব্যবহারকারীর অভিজ্ঞতার অপ্টিমাইজ একাধিক ব্যবহারকারী',\n 'Manytomany modelএ পূর্বে বর্ণিত Onetomany model উভয়ের অসুবিধাগুলো',\n 'একইভাবে Windows বেশিরভাগই Monolithic অর্থাৎ Single address space Performance পাওয়ার',\n 'প্রক্সি সার্ভার নেটওয়ার্কের প্রবেশ বের হওয়ার সময় প্রতিটা মেসেজ চেক',\n 'Kernelএ সরাসরি CPU scheduling memory management অ্যালগরিদম তৈরি প্রয়োজনীয় সিস্টেম Loadable modules আকারে যুক্ত',\n 'IO deviceএর service পাওয়ার Ready queueতে গমন',\n 'প্রস্তুত তালিকা Ready list Run হওয়ার process নির্বাচন Selection',\n 'এলোকেটেড মেমোরি রিকুয়েস্টেড মেমোরি অপেক্ষা অল্প একটু বড়',\n 'ক্যান্ডিডেট সুপার যাই পুরো সম্পর্কের সম্পত্তি পরিবর্তে পৃথক টাপলস',\n 'উদাহরণস্বরূপ উইন্ডোজ এনটিএফএস NTFS ফাইল সিস্টেম ফাইল ফাইলের ডাটা ডিলিট হওয়ার বিবরণী তথ্য সংরক্ষণ রাখে',\n 'ওয়াইফাই ওয়াকিটকির প্রযুক্তিতে রেডিও ফ্রিকোয়েন্সি রয়েছে শক্তিশালী সেকেন্ডে তথ্য প্রেরণ সম্ভব',\n 'স্পাইরাল মডেলটি বড় ধরনের সিস্টেম সফটওয়্যারের উন্নতি বাস্তবগত পদ্ধতি',\n 'কিশোরকিশোরীরাই কেবল ধরনের জড়িত ভেবে বুলিং সজ্ঞায়িত দেখাযায় প্রাপ্তবয়স্ক ধরনের জড়িত',\n 'ডিজিটাল সিগন্যালিংয়ের অন্যান্য মৌলিক সীমাগুলি নাইকোয়েস্ট সালে আবিষ্কার হার্টলি সালে',\n 'বাংলাদেশ সাইবার সিকিউরিটি আইন অনুযায়ী ধারাটি',\n 'কারখানায় একজন শ্রমিক প্রতিদিন পাঁচ ঘন্টার প্রতিমাসে ঘণ্টার ওভারটাইম পারবে ধরনের constraint user অবশ্যই পালন ব্যবস্থা Database manager',\n 'এক্ষেত্রে নিচের স্তরে এনটিটিসমূহ প্রারম্ভিক কার্যাবলী সম্পন্ন উপরের স্তরের এনটিটি সমূহ সার্ভিস প্রদান',\n 'কম্পিউটার কম্পিউটার সিস্টেম কম্পিউটার নেটওয়ার্কে অন্যায়ভাবে হস্তক্ষেপ কারসাজি করিয়া ব্যক্তির সেবা গ্রহণ ধার্যকৃত চার্জ অন্যের জমা করিবার',\n 'রিলোকেট্যাবল ডাইনামিক্যালি রিলোকেট্যাবল পার্টিশনড এলোকেশন পদ্ধতিতে ফ্রাগমেন্টেশন সমস্যা বললেই',\n 'ডাটাবেসসিস্টেম ব্যবহারকারীদের চারটি ভিন্ন ধরণের যেভাবে আলাদা আলাদা সিস্টেমের ইন্টারঅ্যাক্ট আশা',\n 'কার্যকর প্রজেক্ট ব্যবস্থাপনায় সফটওয়্যার প্রজেক্ট ম্যানেজমেন্ট টুলস ব্যবহৃত Gantt চাট Pert চাট রিসোর্স হিস্টোগ্রাম Critical পথ বিশ্লেষণ',\n 'Common Lisp Scala Haskell Erlang F ফাংশনাল ভাষায় উদাহরণ',\n 'অ্যাট্রিবিউটগুলোর ভ্যালুর সমন্বয়ে নির্দিষ্ট কাস্টমারের তথ্য Information পাওয়া যায়',\n 'মার্কিন যুক্তরাষ্ট্রে উভয় স্যাটেলাইট একযোগে সংকেত গ্রহণ',\n 'কেন্দ্রীভূত সিস্টেমে কেন্দ্রীয় সাইটের ডাটাবেস অ্যাডমিনিস্ট্রেটর ডাটাবেস নিয়ন্ত্রণ',\n 'কম্পিউটারে প্রবেশ করিয়ে গুরুত্বপূর্ণ ডাটা অনলাইন একাউন্ট ইনফরমেশন ক্রেডিট কার্ড ইনফরমেশন চুরি',\n 'হার্ডওয়্যার সফ্টওয়্যার ডেটা সমন্বিত কম্পিউটার সিস্টেমকেও',\n 'এট্রিবিউট এট্রিবিউটসমূহের ভিত্তি এনটিটি সেট এনাটটি সনাক্তকরন অনুসন্ধান সম্পর্ক স্থাপন যায় এট্রিবিউট এট্রিবিউট সমূহের কম্বিনেশনকে',\n 'সফটওয়্যার রিকয়ারমেন্ট ইঞ্জিনিয়ারিং যোগ্যতা রক্ষণাবেক্ষণ উৎপাদনশীলতা ইন্ডিগ্রেশন বিষয়াদি',\n 'এইভাবে সত্যই সমান্তরালে চলমান একাধিক প্রক্রিয়া পরিচালনার অনেকগুলি সমস্যা ডেটাতে একযোগে অ্যাক্সেস এককপ্রসেসর মেশিনের ডিজাইন ডেটাবেস ইতিমধ্যেই সমাধান',\n 'সেগমেন্ট তথ্যের সমষ্টি এনটিটির ন্যায় আচরণ',\n 'নেটওয়ার্ক ইন্টারফেসিং ডিভাইস ড্রাইভার নেটওয়ার্কিং ডিটেইলস',\n 'ওয়ার্ড প্রসেসরের বানান পরীক্ষন বৈশিষ্ট্য সফটওয়্যারের মডিউল ওয়ার্ড প্রসেসরের নির্বাহ',\n 'সফটওয়্যার প্রোগ্রাম তৈরি কাস্টমার ইন্ডের হোস্ট মেশিনে ইন্সটলেশনের বিষয়টি মাথায় ডিজাইন দরকার',\n 'পূর্ণ সফটওয়্যার রিকয়্যারমেন্ট স্পেসিফিকেশন অবশ্যই বোধগম্য Comprehensible হওয়া প্রয়োজন',\n 'ডিসট্রিবিউটেড ডাটাবেস সিস্টেম অনেকগুলো Node সমন্বয়ে তৈরী এক ধরনের ডাটাবেস সিস্টেম Nodeগুলো Main মেমোরী Main Storage Device শেয়ার ডাটাবেসকে কম্পিউটারে সংরক্ষণ',\n 'প্রসিডিউরাল ভাষায় প্রোগ্রামের প্রবাহ প্রসিডিওর সমূহের নির্বাহ',\n 'প্রসেস ইন্টারনাল এড্রেসগুলোর রিলোকেশন স্ট্যাটিক্যালি লোড টাইমে সংঘটিত কমপ্যাকশন সম্ভব',\n 'কীলগার এক ধরনের প্রোগ্রাম ইউজারের কম্পিউটার গোপনীয় তথ্য ইউজার আইডি পাসওয়ার্ড যেকোনো লগইন তথ্য সবকিছু সংগ্রহ পরবর্তীতে লগারের প্রেগ্রামারকে তথ্য পাঠিয়ে দেয়',\n 'সেকেন্ডারি মেমরি হিসেবে হার্ড ডিস্ক ফ্লপি ডিস্ক ম্যাগনেটিক ডিস্ক চুম্বকীয় টেপ ব্যবহৃত',\n 'ম্যাগনেটিক্যালি ইনকোডেড ডাটা Magnetical Encoded Data অপটিক্যালি Optically রিড Read যায়',\n 'সাইবার তথ্য নিরাপত্তা গোপন তথ্যসমূহ নিরাপদে রাখে',\n 'নির্ধারিত Structure পরবর্তিতে Definition Language Compile',\n 'অ্যান্ড্রয়েড ডিভাইস জিমেইলএ ইমেইল গ্রেডিং নিয়ন্ত্রণ Conversation Viewএর পাশের চেকবক্সটিতে টিক',\n 'ফাইল ম্যানেজমেন্ট File management সকল সিস্টেম প্রেগ্রামগুলো ফাইল তৈরি Create মুছা Delete কপি Copy পুনরায় নামকরণ Rename প্রিন্ট Print dump লিস্ট List তৈরি',\n 'সময়ে নেটওয়ার্কের অব্যবহৃত অন্যান্য লাইনগুলো ট্রাফিক সুইচিং ট্রান্সমিশনের',\n 'বুটুথ Bluetooth ডিভাইসগুলো feet দূরত্বে কমিউনিকেট ওয়্যারলেস টেকনোলজি',\n 'ইন্টারনেটের যেকোনো অপরাধ সংঘটিত সাইবার অপরাধ',\n 'লব্ধ ওয়েভকে মডুলেট ওয়েভ রেডিও ওয়েভ পদ্ধতিকে মডুলেশন',\n 'মূলত স্টোরেজ সিস্টেমের ভিন্নতা নির্ভর গতি মূল্য আকৃতি ভোলাটিলিটি বৈশিষ্ট্যের',\n 'নিরাপত্তার ভাঙ্গন প্রতিরোধ পর্যাপ্ত প্রতিরোধমূলক ব্যবস্থা',\n 'প্রতিষ্ঠান ব্যক্তির সফটওয়্যারটি তৈরি চাহিদা মোতাবেক সফটওয়্যারটি ভেলিডেট',\n 'ক্রিপ্টোগ্রাফিক সিস্টেমের বিরুদ্ধে আক্রমণের তালিকাটি অবশ্যই সম্পূর্ণ',\n 'কমিউনিকেশন সংযোগ কম্পিউটারের প্রসেসের প্রসেসগুলো কম্পিউটারে পরস্পর নেটওয়ার্কের সংযুক্ত',\n 'ইনফ্রারেড কমিউনিকেশন স্ট্যান্ডার্ডটি IRDA ইন্ডাস্ট্রি বেসড গ্রুপ কর্তৃক সংজ্ঞা দান হয়েছে',\n 'প্রয়োজনীয়তা সমূহ সংগঠিত ধাপে ডেভেলপার সফটওয়্যার রিকয়ারমেন্ট সমূহের গুরুত্ব প্রয়োজনীয়তা সুবিধা অনুযায়ী প্রায়োরিটি প্রদান অনুযায়ী সাজান',\n 'মানুষের ত্রুটির কারণে ডাটা মুছে ডাটা চুরি হয়ে প্রাকৃতিক দুর্যোগ ডিভাইস চুরি ডাটাবেস পুনরুদ্ধারের মূল উদ্দেশ্য লস হওয়া ডাটার ব্যবহারযোগ্য কপি তৈরি',\n 'সহজভাবে অবৈধ উদ্দেশ্যে কম্পিউটার নেটওয়ার্ক সুরক্ষা সিস্টেমে অননুমোদিত অ্যাক্সেস নিয়ন্ত্রণ প্রচেষ্টার নামই হ্যাকিং',\n 'পারফরম্যান্স খুবই দুর্বল',\n 'ইনফরমেশন মেইনটেন্যান্স System callsএর প্রয়োজনীয় প্রসেসের সময় তারিখ নির্ধারণ',\n 'টুইস্টেড পেয়ার ক্যাবল অন্যান্য LAN ক্যাবলের তুলনায় মিটার UTPএর দাম কম পড়ে',\n 'টেবিল মুছে ফেলার DROP স্টেটমেন্ট',\n 'মনুষ্যযান মহাকাশে উৎক্ষেপণের সময় নাসা National Aeronautics And Space AdministrationNASA এভাবে উৎক্ষেপণের স্থান হেড কোয়ার্টারে রিপোর্ট প্রদান করেছিল',\n 'আনঅথেনটিক পেন ড্রাইভ পিসিতে সংযোগ করলেও ভালোভাবে Scan',\n 'প্রসেস সিডিউলিংএর উদ্দেশ্য এক একাধিক Processorএর Process রেসপন্স টাইম Response time Throughput Processor efficiency বিবেচনা processসমূহ নির্বাহ তাদেরকে assign',\n 'নেটওয়ার্কসমূহের প্রোটোকল সম্পূর্ণ ভিন্ন রকমের রাউটারের চেয়েও অধিক শক্তিশালী বুদ্ধিমান ডিভাইসের প্রয়োজন হয়আর ডিভাইসটি গেটওয়ে',\n 'নিরাপত্তা পরিকল্পনার কন্টেন্ট থাকতে প্রয়োজনীয় প্রভাব উত্পন্ন',\n 'একাধিক প্রসেস একসঙ্গে রান অবশ্যই প্রসেস প্রসেসকে বাধাগ্রস্ত Interfere অপারেটিং সিস্টেম নিয়ন্ত্রণ',\n 'কম্পিউটারের চালিকাশক্তি OS তেমনি Kernel OSএর চালিকাশক্তি',\n 'স্টার টপোলজি নেটওয়ার্কে গঠন সহজ কন্ট্রোল সফটওয়্যার সরল',\n 'যেহেতু কোরের অভ্যন্তরে Refractive Index সুষমভাবে বণ্টিত কোরের অক্ষ দূরত্বের হ্রাস পায় কাজেই আলোক রশ্মিগুলো প্রতিসরণের বাঁকা হয়ে যায়',\n 'টেলিভিশন রিসিভঅনলি টিভিআরও টার্মিনালের লিঙ্ক বাজেট টিভি সিগন্যাল গ্রহণের ব্যবহৃত স্যাটেলাইট মূল্যায়ন',\n 'স্পাইওয়্যার বৈধ কোড সফটওয়্যারেও থাকতে',\n 'সফটওয়্যার ডিজাইন স্ট্রাটিজি ডিসিপ্লিন প্রতিষ্ঠানকে দ্রুততম সময়ে দীর্ঘ মেয়াদী উভয় তৈরি কিভাবে সংশ্লিষ্ট বিষয়গুলোকে ডিজাইন বিষয়ে সিদ্ধান্ত গ্রহণ সাহায্য',\n 'রিপিটার স্টেশনে মূল স্টেশনের তাক অ্যান্টেনা f ফ্রিকুয়েন্সির সিগন্যাল গৃহীত',\n 'স্টোরেজ সিস্টেমের বিস্তৃত বৈচিত্র্য অনুক্রমের সংগঠিত',\n 'চ্যানেল লিংকের অংশ একজোড়া লাইনের Stream বহনে সহায়তা',\n 'ধরনের পরিস্থিতি মোকাবেলা দরকার ইন্টেলেকচুয়াল প্রপার্টি আইনের প্রয়োগ',\n 'কম্পিউটার ভাইরাস মূলত প্রোগ্রামারদের ডেভেলপ ক্ষতিকর প্রোগ্রাম',\n 'তাছাড়া ভাটা দ্রুত পড়া Read যায়',\n 'প্রযুক্তির অনুমতি প্রক্রিয়াকরণ ট্রান্সপন্ডার ত্রুটি কর্মক্ষমতা ডিজিটাল সিগন্যালিংয়ের উন্নতি উপলব্ধি ব্যবহারে আসা',\n 'ফাইল মুছে ফেলার নামযুক্ত ফাইলের ডিরেক্টরি অনুসন্ধান',\n 'আরেক দল ক্র্যাকার সফটওয়্যার টুলের সিস্টেমে অবৈধভাবে প্রবেশ',\n 'পাসিং রেফারেন্স বাদ কথোপকথনের অংশ সফ্টওয়্যার কমই উল্লেখ',\n 'মডুলেটেড ক্যারিয়ার ওয়েভের প্রেক্ষিতেও মডুলেশন ইনডেক্সকে সংজ্ঞায়িত যায়',\n 'অবজেক্ট অরিয়েন্টেড ডাটা মডেল মূলত অবজেক্ট অরিয়েন্টেড প্রোগ্রামিং ল্যাংগুয়েজের ধারণার প্রতিষ্ঠিত',\n 'সিস্টেমটি ব্যবহারযোগ্য দক্ষতার ডেটা পুনরুদ্ধার',\n 'কমান্ড পেলে প্রোগ্রাম ডিস্ক মেমোরিতে পূর্বের প্রোগ্রাম ওভাররাইট',\n 'সিগন্যালের সেকেন্ডে ডাটা ট্রান্সফারের হারকে Data Rate',\n 'কোড লেখার সময় প্রোগ্রামারগণ কোড উদ্দেশ্য কারা লিখছে কোথায় প্রয়োজন',\n 'উপাদানস্তরের নকশা সফ্টওয়্যার আর্কিটেকচারের কাঠামোগত উপাদানগুলিকে সফ্টওয়্যার উপাদানগুলির পদ্ধতিগত বিবরণে রূপান্তরিত',\n 'অননুমোদিত ব্যবহারকারী এসব সেজন্য ডাটাবেস সিস্টেমে ডাটাবেসের ব্যবহারকে কঠোরভাবে নিয়ন্ত্রণ',\n 'OS কম্পিউটারের Information managementএর কাজও',\n 'যেহেতু একাধিক প্রক্রিয়া শেয়ার্ড মেমরিতে ডেটা স্ট্রাকচারের আপডেট পড়তে সম্পাদন পারস্পরিক বর্জন নিশ্চিত অবশ্যই ব্যবস্থা থাকতে অর্থাৎ ডাটা স্ট্রাকচার একবারে সর্বাধিক প্রক্রিয়া পরিবর্তিত প্রক্রিয়াই ডেটা স্ট্রাকচার পড়ছে অন্যান্য প্রক্রিয়া লেখা',\n 'অর্থাৎ মধ্যবর্তী কার্যকরী প্রতিনিধি ব্যতিরেকেই উপাত্ত নিয়ন্ত্রণ তথ্য এনটিটিসমূহের সরাসরি বিনিময়',\n 'ডাটা ডিকশনারি ফাইল মেটা ডাটা অর্থাৎ ডাটা সম্পর্কিত ডাটা গঠিত',\n 'যেকোনো Programকে Computer Execute প্রয়োজনীয় Translator Like compiler assembler or interpreter দরকার',\n 'ক্রিপ্টোগ্রাফি আধুনিক ইলেকট্রনিক যোগাযোগের ঘনিষ্ঠভাবে যুক্ত',\n 'যাইহোক Rijndael ডিজাইনাররা পদ্ধতির প্রস্তাব দ্রুত সফ্টওয়্যার বাস্তবায়ন',\n 'Ransomware আক্রমণের বিরুদ্ধে ব্যবসার মূল্যবান তথ্য রক্ষা একাধিক স্থানে ব্যাকআপ',\n 'রাউটার ব্রিজের বিপরীত কাজটিই ডেটা ট্রাফিক ফরোয়ার্ড',\n 'ভেলিডেশন প্রক্রিয়া ইউজারের চাহিদা মোতাবেক সফটওয়্যারটি তৈরি হয়েছে পরীক্ষনের ব্যবহৃত',\n 'কম্পিউটারের প্রসেস Process প্রসেসের প্রকার তথ্যের আদানপ্রদানের সংযোগ রক্ষা',\n 'সিডো কোড প্রোগ্রামিং ভাষার কাছাকাছি',\n 'ধরনের কম্পিউটার সিস্টেমে ডাটাবেস সিস্টেমকে রান করানো সিস্টেমের ভিত্তি ডাটাবেস সিস্টেম গড়ে উঠে',\n 'প্রথমে ডেভেলপার কাঙ্খিত পরিবর্তন ফাংশন সংবলিত স্বয়ংক্রিয় টেস্ট কেস লিখেন এরপর টেস্ট পাসের সর্বনিম্ন কোড নির্দেশ এরপর কোডকে গ্রহণযোগ্য মানে আসা',\n 'ট্রিগারকে ইভেন্ট কন্ডিশন নামক অংশে ভাগ',\n 'পুরানো অপারেটিং সিস্টেম অ্যান্টিভাইরাস প্রোগ্রামের অনুপস্থিতিতে সহজে আক্রমণ',\n 'অপারেটিংসিস্টেম ডিজাইনের সম্ভবত সেরা বর্তমান পদ্ধতি জড়িত লোডযোগ্য কার্নেল মডিউল',\n 'ডাটাবেস ব্যাক আপ ডাটাবেসের ডাটা নিরাপদ স্থানে সংরক্ষিত',\n 'databaseএর বিশ্বস্ততা বৃদ্ধি পায়',\n 'সিনক্রোনাস টাইম ডিভিশন মাল্টিপ্লেক্সিং ডাটা ইউনিটের চারটিকে ঘুরে ফ্রেমে ইনপুট সংযোগগুলোকে সংগ্রহ',\n 'পাওয়ার অকৃতকার্য Failure ডাটা নষ্ট',\n 'মডিউল উপাদান গুলো একসাথে গ্রুপভুক্ত টাস্ক সম্পাদনে পর্যায়ক্রমিকভাবে নির্বাহ এটিকে পদ্ধতিগত সংযুক্ত',\n 'IBM cabling system কর্তৃক স্পেসিফিকেশনকৃত STP ক্যাবল টোকেন রিং নেটওয়ার্কগুলোতে ব্যবহৃত',\n 'বিপরীতে আধুনিক ডাটাবেস অ্যাপ্লিকেশনগুলি ত্রিস্তরীয় স্থাপত্য ক্লায়েন্ট মেশিন শুধুমাত্র ফ্রন্ট এন্ড সরাসরি ডাটাবেস কল',\n 'রিলেশনাল মডেলে ডেটা টেবিলের আকারে উপস্থাপিত',\n 'অবজারভার পদ্ধতি ক্লাস সমূহের সংখ্যা পরিবর্তনের নোটিফাই',\n 'Processing result main memory সরাসরি Printerএ পাঠিয়ে Disk Tapeএর পাঠানো',\n 'নিরাপদ প্রতিসম সাইফারের বড় স্পেস প্রয়োজনীয় পর্যাপ্ত শর্ত',\n 'একমাত্র Trigger তৈরির কাজটি',\n 'স্ক্রিপ্ট কিডি হ্যাকার বুঝায়',\n 'ডাটাবেজ সিকিউরিটি ফিচার দিয়ে ইউজার এ্যাকশন অডিট',\n 'প্রক্রিয়ায় প্রোগ্রামারগণ কমান্ড তৈরি সহজেই সিস্টেমে সংযুক্ত',\n 'উপায়ে সফ্টওয়্যার ডিজাইন প্রতিটি মডিউল প্রয়োজনীয়তার নির্দিষ্ট উপসেটকে সম্বোধন প্রোগ্রামের অন্যান্য অংশ সহজ ইন্টারফেস গঠন স্বাধীনতা গুরুত্বপূর্ণ জিজ্ঞাসা ন্যায়সঙ্গত',\n 'Programএর নির্বাহের শেষ হওয়া Program সম্পন্ন',\n 'সুইচের অন্যান্য হাবের প্রধান পার্থক্য সুইচ সিগন্যাল রিসিভ সরাসরি টার্গেট পোর্ট পোর্টসমূহে প্রেরণ',\n 'স্থাপত্য নকশা সফ্টওয়্যারের প্রধান কাঠামোগত উপাদান স্থাপত্য শৈলী নিদর্শনগুলির সম্পর্ককে সংজ্ঞায়িত সিস্টেমের সংজ্ঞায়িত প্রয়োজনীয়তাগুলি অর্জন স্থাপত্য বাস্তবায়নের উপায়কে প্রভাবিত বাধাগুলি',\n 'Scrum Agile প্রসেস ফ্রেমওয়ার্ক প্রয়োজনীয় Practices সমূহ নির্ধারণ',\n 'ম্যাগনেটিক ডিস্ক Magnetic Disk Storage বহুল ব্যবহৃত দীর্ঘস্থায়ী স্টোরেজ মিডিয়াম',\n 'বরাদ্দকৃত সময় শেষে Running processকে সাময়িকভাবে স্থগিত',\n 'এজন্য সিম্যান্টিক ডাটা মডেলকে মাঝে মাঝে কনসেপচুয়াল ডাটা মডেল Conceptual data modelও',\n 'পাসওয়ার্ডের স্বাদ কিছুটা দেয়',\n 'কম্পিউটার সিস্টেমে অনুমতিবিহীন অ্যাক্সেসের তথ্য প্রযুক্তির সাইবার ক্রাইমসের কম্পিউটারে উপস্থিত ডেটার ক্ষতি মুছে ফেলা পরিবর্তন যায়',\n 'কানেক্টরের অবস্থান ক্যাবল নেটওয়ার্ক ইন্টারফেস কার্ডের NIC Network Interface Card',\n 'প্রতিটি সাইটের কম্পিউটারসমূহ ডাটা আদানপ্রদান লোকালট্যানজ্যাকশন',\n 'বাউন্ডারি ভ্যালু অ্যানালাইসিস হায়ার লোয়ার ইন্ড ভ্যালুগুলো টেস্টে উত্তীর্ণ ইন্ড মধ্যবর্তী সকল ভ্যালুও উত্তীর্ণ',\n 'প্রোগ্রাম শুধুমাত্র Userএর নির্দেশ মেনে',\n 'ইব্যাংকিং ব্যবহারের চেক বই অনুরোধ',\n 'এগুলো একাধিক বর্ণের ফ্রিকুয়েন্সির',\n 'রাউটার ডেটা প্যাকেটের প্রকৃতি ধরন পরিবর্তন সক্ষম',\n 'টেমপ্লেট মেথড সাব ক্লাসে এলগোরিদমের সঠিক ধাপসমূহ পৃথক',\n 'কমান্ড টেক্সটবেজড রেফারেন্স এক সেট ইন্সট্রাকশন যেগুলো সিস্টেম নির্বাহ প্রত্যাশা',\n 'সাধারণত Deadlock detection algorithm দুধরনের',\n 'ডিকশনারি অ্যাটাককে আরেকটু কার্যকরী আরেকটু কঠিন পাসওয়ার্ড ক্র্যাক সাহায্য হাইব্রিড অ্যাটাক',\n 'বাগ সফটওয়্যার Error ফলাফল সিস্টেম Fail হওয়ার',\n 'ডাটাবেস সিস্টেমকে সহজে সুশৃংখলভাবে উপস্থাপনের ER ডায়াগ্রামের গুরুত্ব অপরিসীম',\n 'এরূপ ডিভাইসের অন্যতম রাউটার ব্রাউটার সিএসইউডিএসইউ গেটওয়ে',\n 'স্টার টপোলজি কারণে ব্যর্থ পুরো নেটওয়ার্ক ব্যবস্থা ভেঙে পড়বে',\n 'মডেলিং একজন ল্যান্ডস্কেপার একজন ব্রিজ নির্মাতা একজন অ্যারোনটিক্যাল ইঞ্জিনিয়ার একজন ছুতার একজন স্থপতি প্রতিদিন মডেলদের',\n 'ক্রিপ্টোগ্রাফিক আদিম অর্জন পাবলিককী ক্রিপ্টোগ্রাফি প্রয়োগ',\n 'কারণে সংঘর্ষ এড়ায় আংশিক প্যাকেট ওভারল্যাপ',\n 'এটিতে Level of block আকারে disk striping array ব্যবহৃত',\n 'আজকের ব্লক সাইফার প্রোডাক্ট সাইফার রাউন্ড গঠিত ডেটাতে বারবার প্রয়োগ',\n 'ছয়টি নীতি প্রয়োগ তীব্র চিন্তার প্রয়োজন সম্ভাব্য পুরষ্কারগুলি প্রচুর',\n 'Program নির্বাহের শেষ হওয়া program সম্পন্ন',\n 'ডাটা পরিবর্তনের সময় নির্ধারিত সময়সীমার মাঝে স্নাপশট পরিবর্তনগুলো দীর্ঘ সময়ের সংগৃহীত নিয়ার সিডিপি ব্যবহৃত',\n 'টেলিযোগাযোগ উন্নয়ন খাত ITUD প্রযুক্তিগত সহায়তা প্রদান উন্নয়নশীল দেশগুলির',\n 'টুইস্টেড পেয়ার ক্যাবল সাধারণত টেলিফোন লাইন',\n 'সফটওয়্যার মডেলের নিজস্ব টুলস মেথড প্রসিডিওর যেগুলো সফটওয়্যার ডেভেলপমেন্ট জীবনচক্র সঠিকভাবে নির্ধারণ',\n 'কোএক্সিয়াল লাইনে বাতাস গ্যাস স্পেসার শিল্ডকে ইনার কন্ডাক্টর স্পর্শ হাত মুক্ত',\n 'নেটওয়ার্ক সুরক্ষিত সম্ভাব্য হুমকিগুলো নেটওয়ার্কে প্রবেশ নেটওয়ার্কের বাহির ব্লক হয়ে যায়',\n 'এনটিটি এনটিটির এট্রিবিউটসমূহ রিলেশনশিপ রিলেশনশিপ সেট সম্পর্ক স্থাপন নিয়ম নীতিগুলো বর্নিত',\n 'ডাটাবেজ ম্যানেজমেন্ট সিস্টেমের Relational Database Redundancy Dependency Minimize Field Tableসমূহকে সুসংগঠিত পদ্ধতি ব্যবহৃত Normalization',\n 'তারপরও নেটওয়ার্ক এডমিনিস্ট্রেটরকে এসকল অ্যাড্রেস সম্পর্কে স্বচ্ছ ধারণা রাখতে',\n 'কাপলিং সফ্টওয়্যার কাঠামোর মডিউলগুলির আন্তঃসংযোগের ইঙ্গিত',\n 'ডিলেট হওয়া ফাইল রিকভারি নির্ভর ডাটার ফাইল সিস্টেমের',\n 'তারপরও প্রব্লেম ছাড়া ফাইবার',\n 'রেডিও কমিউনিকেশন ততোধিক অংশের সিম্বল সিগনাল ইন্টেলিজেন্সের Intelligence আদানপ্রদান ট্রান্সমিশনের মাধ্যম হিসেবে ইলেকট্রোম্যাগনেটিক ওয়েভকে',\n 'উদাহরণস্বরূপ অপারেটিং সিস্টেমের প্রয়োজন এক্সিকিউটেবল ফাইলের নির্দিষ্ট কাঠামো নির্ধারণ ফাইলটি মেমরিতে কোথায় লোড নির্দেশের অবস্থান',\n 'Database ব্যবহারিক উদ্দেশ্য নির্ণয়করণ কাজটি ভালভাবে পারলে অন্যান্য ধাপের কাজগুলো সহজ সঠিকভাবে সম্পন্ন',\n 'টেবিলে ধরনের রো প্রবেশের অনুমতি অনুমোদন Entity Integrity',\n 'উক্ত কারণগুলোর যেকোনো সংঘটিত সিপিইউ পরবর্তী প্রাধান্যের জব এসাইন',\n 'পার্সোনাল কম্পিউটার পিসি অপারেটিং সিস্টেম জটিল গেম ব্যবসায়িক অ্যাপ্লিকেশন সবকিছুকে সমর্থন',\n 'বাস টপোলজির সুবিধা কম্পিউটার অকেজো সংযোগচ্যুত অন্যান্য কম্পিউটারগুলো স্বাভাবিকভাবে চালিয়ে',\n 'ডাটাবেসের ডাটাকে ইনক্রিপ্ট পদ্ধতি প্রচলিত',\n 'একজন হ্যাকারের সিস্টেমটির নিরাপত্তা ভেদ মূল সিস্টেমে প্রবেশ সিস্টেমের নিয়ন্ত্রণ গ্রহণ',\n 'ধরনের Database system সাধারণত SQL database language ব্যবহৃত',\n 'Critical section problemএর যেকোনো সমাধানের পূর্বশর্ত রয়েছে',\n 'Android অপারেটিং সিস্টেমটি Open handset alliance ডিজাইন করেছিল অগ্রভাগে Google',\n 'Drop Authorization সাহায্যে একজন ইউজারকে ডাটাবেসের রিলেশন ডিলিট কর্তৃক দেয়া',\n 'সংশোধনমূলক রক্ষনাবেক্ষন ধরনের রক্ষনাবেক্ষণের সমস্যা চিহ্নিত করণ সংশোধন আপডেট',\n 'ধরনের নন রাউট্যাবল প্রোটোকলের সিগন্যালকে এক সেগমেন্ট সেগমেন্টে পাঠাতে ব্রিজ ব্যবহৃত',\n 'প্রোগ্রামগুলিতে প্রোগ্রামগুলির ব্যবহারকারীদের নির্দিষ্ট পরিষেবা সরবরাহ',\n 'ক্র্যাকারদের শ্রেণিতে অগ যায়',\n 'ত্রুটি পড়ে সিস্টেমের নির্ণয় ত্রুটি হ্যান্ডলিং সরল বোধগম্য পদ্ধতি প্রস্তাব দরকার',\n 'Computer hardware Computer userএর সমন্বয় Interface তৈরি Operating system OSএর প্রধান',\n 'সিগন্যাল ফ্রিকুয়েন্সির সর্বোচ্চ সর্বনিম্ন মানের মধ্যকার পার্থক্যকে Bandwidth',\n 'রিপিটার হাব নেটওয়ার্ক অ্যাড্রেস ডেটা প্যাকেটের জটিল বিষয়গুলো অনুধাবন সক্ষম',\n 'ব্যবহারকারী ডাটাবেসকে',\n 'লক্ষ্যটি সম্পন্ন বুটস্ট্র্যাপ প্রোগ্রামটিকে অবশ্যই অপারেটিংসিস্টেম কার্নেল সনাক্ত মেমরিতে লোড করুন',\n 'সফটওয়্যার ডিজাইন ধাপে ইউজার প্রদত্ত তথ্য অন্যান্য সংগৃহীত অন্যান্য তথ্যাদি ইনপুট হিসেবে গৃহীত',\n 'যেকোন Apps দুর্বল বানানোর attack',\n 'সিম্যান্টেক ডাট্যমডেল মূলত অ্যাবস্ট্রাক্ট জমাকৃত সিম্বল ডাটাকে রিয়াল ওয়ার্ল্ড Real worldএর সম্পর্ক তৈরিতে ডিফাইন সাহায্য উপস্থাপন',\n 'সবচেয়ে কম ট্রান্সমিশন মিডিয়াম টুইস্টেড পেয়ার',\n 'সফটওয়্যারের কম্পোনেন্টসমূহ কম্পোনেন্ট সমূহের অপরের ইন্টারফেসিং বিষয়টি নির্ধারণ',\n 'স্পাইওয়্যার এক ধরনের সফটওয়্যার ইউজারের অজান্তেই কম্পিউটারে ডাউনলোড হয়ে ইন্সটেল ইউজারের কম্পিউটারে ধরনের তথ্য চুরি পাচার',\n 'স্পীড মূল্য দিক ক্যাশ মেমোরি মেইন মেমোরির অবস্থান',\n 'সচরাচর ব্যবহৃত ছোট কাজের Response Modest হওয়া কম ব্যবহৃত গুরুত্বপূর্ণ কাজগুলোর Responsible হওয়া',\n 'মেইন মেমরি ভোলাটাইল স্টোরেজ ডিভাইস হওয়া বিদ্যুৎ কন্টেন্ট মুছে যায়',\n 'Skywave propagation পদ্ধতিতে মেগাহার্টজের বেশী মেগাহার্টজের কম মেগাহার্টজের ধরনের signal পদ্ধতি ব্যাবহার',\n 'Processor Hardware device instructionসমূহকে পর্যায়ক্রমে সম্পাদন execution সামর্থ্য যোগ্যতা রাখে',\n 'ব্লকের ডিল সময় গুরুত্বপূর্ণ সম্পত্তি সাইফার',\n 'সার্ভার ডাটাবেস রান ক্লায়েন্টের ডাটার রিকুয়েস্ট সাড়া প্রদান',\n 'ডিসজয়েন্ট জেনারালাইজেশনকে উপস্থাপন সিম্বলটি',\n 'সফ্টওয়্যার ইঞ্জিনিয়ারিং সরঞ্জামগুলি প্রক্রিয়া পদ্ধতিগুলির স্বয়ংক্রিয় আধাস্বয়ংক্রিয় সহায়তা প্রদান',\n 'প্রটোকল ডাটা ফ্রেমের ত্রুটি নির্ণয়ক বিট প্রেরক প্রাপকের ঠিকানা সংযুক্ত',\n 'কৃত্রিম বুদ্ধিমত্তা সফ্টওয়্যার নিয়মিত গণনা সহজবোধ্য বিশ্লেষণের উপযুক্ত জটিল সমস্যা সমাধানের হিউরিস্টিকস এলাকার অ্যাপ্লিকেশনগুলির রোবোটিক্স সিদ্ধান্ত সিস্টেম প্যাটার্ন রিক অগ্নিশন ছবি ভয়েস মেশিন লার্নিং উপপাদ্য প্রমাণ গেম খেলা',\n 'কমান্ডলাইন ইন্টারফেসগুলি সাধারণত পুনরাবৃত্তিমূলক কাজগুলিকে সহজ তোলে নিজস্ব প্রোগ্রামযোগ্যতা',\n 'অপারেটিং সিস্টেমের ইন্টারফেস দ্বিতীয় কৌশল ব্যবহারকারীবান্ধব গ্রাফের',\n 'ভাইরাস VIRUS শব্দের পূর্ণরূপ Vital Information Resources Vnder Seize অর্থ জরুরী তথ্যের উৎসগুলো বাজেয়াপ্ত হয়েছে',\n 'ডাটাবেসের রেকর্ড টেবিল মুছে ফেলার Delete কমান্ডটি ব্যবহৃত',\n 'কমান্ড নির্বাহের ফলাফল পর্দায় দেখানো',\n 'ফাইলের বৈশিষ্ট্যগুলি অপারেটিং সিস্টেম অন্যটিতে পরিবর্তিত',\n 'ব্যক্তিগত সনাক্তকরণ তথ্যের সুরক্ষার আপনাকে সচেতন থাকতে',\n 'সাইনওয়েভের প্যারামিটার',\n 'অ্যামপ্লিচিউড মডুলেশনের অ্যামপ্লিচিউড মডুলেটেড ওয়েভের ফ্রিকুয়েন্সি অর্থাৎ ক্যারিয়ার ফ্রিকুয়েন্সি fcএর সমান',\n 'ডিভাইস কন্ট্রোলার লোকাল বাফার স্টোরেজ একসেট স্পেশাল পারপাস রেজিস্টারকে মেইনটেইন',\n 'সমাধানের উপাদানগুলি পুনরায় ব্যবহারযোগ্য',\n 'ফাইবার অপটিক ক্যাবলে ধরনের ক্যাবলিং Cost Requirement cost বর্তমানে দাম কমে আসছে',\n 'ER EntityRelationship এন্টারপ্রাইজ স্কীমা সুনির্দিষ্ট কনস্ট্রেইন্টকে ডিফাইন অবশ্যই ডাটাবেস কন্টেন্টের অনুরূপ',\n 'ডাটালস প্রতিহত সবচেয়ে ভাল উপায় ডাটা ব্যাকআপ',\n 'ডাটাবেস সিস্টেমে ডাটাবেসকে সার্ভার কম্পিউটারের মেমোরিতে সংরক্ষিত নেটওয়ার্কিং সহায়তা একাধিক ক্লায়েন্টের পরিচালনা নিয়ন্ত্রণ যায় সার্ভার ডাটাবেস সিস্টেম',\n 'সিস্টেমে ব্যবহৃত কম্পিউটারগুলো কমিউনিকেশন মিডিয়া ইন্টারনেট কর্পোরেট ইন্ট্রানেট এক্সট্রানেট কোম্পানীর প্রাইভেট নেটওয়ার্ক টেলিফোন লাইনএর সাহায্যে একটির অপরটি সংযুক্ত',\n 'আলোকে কোরের নির্দিষ্ট অ্যাঙ্গেলে নিক্ষেপ',\n 'আক্রান্ত কম্পিউটার আরেকটি কম্পিউটারে কপি কম্পিউটারকেও আক্রান্ত ফাইল নামের ফোল্ডার তৈরি সিস্টেমকে স্লো ফেলে',\n 'সিস্টেম কম্পিউটার নেটওয়ার্কের দুর্বলতা খুজে বের সেটির নিরাপত ভাংগাই হ্যাকারদের',\n 'টিসিপি আইপির পোর্ট এড্রেস আইপি এড্রেস একত্রিত হয়ে গঠন সকেট',\n 'এক্ষেত্রে দুইটি মডিউল অপরের ডাটা পাসিং প্যারামিটার আন্তক্রিয়া সম্পাদন',\n 'তরঙ্গ দৈর্ঘ্য Wave Length সিগন্যাল পিরিয়ডে দূরত্ব অতিক্রম তরঙ্গ দৈর্ঘ্য The Wave length is the distance a simple signal can travel in one period তরঙ্গ দৈর্ঘ্য সিগন্যালের বৈশিষ্ট্য ফ্রিকুয়েন্সি মাধ্যমের নির্ভরশীল',\n 'ওয়্যারলেস মিডিয়া মানে তারবিহীন মাধ্যম',\n 'এছাড়াও যৌন উত্তেজনা সৃষ্টিকারী অশ্লীল বই সাময়িকী ভাস্কর্য কল্পমূর্তি মূর্তি কার্টুন লিফলেটও পর্নোগ্রাফি',\n 'প্রচেষ্টা সাধারণত আবর্জনা উত্পাদন সফল অপারেটিং সিস্টেম ফাইলটি বাইনারিঅবজেক্ট প্রোগ্রাম',\n 'সফটওয়্যার ডেভেলপমেন্ট লাইফ সাইকেল SDLC সফটওয়্যার প্রোডাক্ট ডেভেলপ পর্যায়ক্রমিক গাঠনিক ধাপের সমন্বয়',\n 'Site communication সময় অনুবাদক Program দরকার',\n 'মোডে ট্রান্সমিট কারণে সিঙ্গেল মোড স্টেপ ইনডেক্স ফাইবারের সুবিধা Low intermodal dispersion একাধিক প্রোপাগেটিং মোডগুলোর গ্রুপ ভেলোসিটি বিভিন্নতার কারণে মাল্টিমোড স্টেপ ইনডেক্স ফাইবারের উল্লেখযোগ্য dispersion থাকতে',\n 'এমনভাবে ট্রানসমিটার রিসিভারকে সেট ডাটা সোজাসুজি ট্রান্সমিট',\n 'Multiplexer অ্যানালগ মডিউলেট সিগন্যালগুলোকে Multiplexing Composite Baseband সিগন্যাল mbt উৎপন্ন',\n 'Requset পায় গ্রহণ উভয়ের সংযোগ তৈরি প্রয়োজনীয় সার্ভিস প্রদান',\n 'Symmetric মোডে ততোধিক অ্যাপ্লিকেশন রান অপরকে মনিটর',\n 'তথ্য নিরাপত্তার উপশ্রেণীর স্থানটি নিরাপদ নিশ্চিত ফিজিক্যাল পরিবেশের সুরক্ষা',\n 'সুন্দর স্ট্রাকচার ডিজাইন অনেকগুলো মডিউলের যোগাযোগ রক্ষা নিয়ম নীতি মেনে',\n 'বেশিরভাগ কম্পিউটার নিরাপত্তা কার্যকলাপ দূষিত মানব সৃষ্ট ক্ষতির সম্পর্কিত',\n 'রাখবেন উভয় স্থানান্তর বৃদ্ধি পায় DES নিরাপত্তা সময়ে',\n 'CREATE TABLE কমান্ডে Column definition ক্লজ a single clause রয়েছে প্রত্যেক কলামে প্যারামিটার রয়েছে কমা পৃথক',\n 'সফটওয়্যারের উপাদান সমূহ যুক্ত প্রতিষ্ঠান ইন্ড ইউজারের কার্যপ্রবাহকে সফটওয়্যারের প্রয়োগ',\n 'ফরেনসিক শব্দটির অর্থ অপরাধীদের খোজার তদন্তকারীদের ব্যবহৃত কৌশল বুঝায়',\n 'ফাস্ট ক্লাস হাই অর্ডার ফাংশন গুলো ফাংশনকে আর্গুমেন্ট গ্রহণ ফলাফল ফাংশনও রিটার্ন',\n 'ক্লায়েন্টসার্ভার নেটওয়ার্কে গুরুত্বপূর্ণ তথ্য ফাইলগুলো কয়েকটি সার্ভারে কেন্দ্রীভূত সহজেই এগুলো নিয়মিত ব্যাক আপ যায়',\n 'অ্যাজাইল সফটওয়্যার ডেভেলপমেন্ট মডেলে প্রথমে কাজকে ছোট ছোট অংশে ভাগ',\n 'বিমূর্ততা একজন ব্যক্তিকে জেনেই জটিল ডিভাইস সিস্টেম কীভাবে ডিভাইস সিস্টেমটি তৈরি বিশদ বিবরণ',\n 'মূল ডেটাকে গোপন পদ্ধতিকে এনক্রিপশন',\n 'কেবলমাত্র প্রয়োজনীয় সিগন্যাল রিসিভ নিশ্চয়তা প্রদান করেতারপর রিসিভার সিগন্যালকে ডিমডুলেট',\n 'টুইস্টেড পেয়ার ক্যাবল এক পেয়ারের চেয়ে পেয়ারকে একত্রে আঁটি ক্যাবল আকৃতিতে আনা যায়',\n 'নিরাপত্তা নীতি সংগ্রহশীল দলের নিরাপত্তা প্রয়োজনাগুলি অগ্রাধিকারগুলি নথী',\n 'হারিয়ে তথ্য পুনরুদ্ধারের যেমনঃ পাসওয়ার্ড হারিয়ে সেক্ষেত্রে হ্যাকিং প্রয়োজনীয়',\n 'Data splitting Applicationকে ভাগ ব্যবহৃত Dataসমূহকেও ভাগ আলাদা Coresএর run',\n 'এক্ষেত্রে সাইট পাবলিক নেটওয়ার্কের পরস্পরের সংযুক্ত',\n 'সিনক্রোনাস অপটিক্যাল নেটওয়ার্ক SONET WDM প্রয়োগ',\n 'টেকনোলজির উন্নতির প্রোগ্রামার ডিজাইনারগণ জটিল GUI ডিজাইন',\n 'পারমাণবিক সম্পত্তি নিশ্চিত চাই ব্যর্থ লেনদেন অবশ্যই ডাটাবেসের অবস্থার প্রভাব ফেলবে',\n 'বর্তমানে সকল অপারেটিং সিস্টেম ডিলিট হয়ে যেকোনো ফাইল স্থায়ীভাবে ডিলিট পুনরায় ব্যবহারকারীর নিশ্চিত করণের মেসেজ প্রদান ব্যবহারকারী ফাইল ডিলেট নিশ্চিত',\n 'কন্ট্রোলার ডিভাইস লোকাল বাফারে ডাটা ট্রান্সফার',\n 'সময় টেলিফোন কমিউনিকেশন Telephone Communication ইলেকট্রিক সিগন্যাল পাঠানোর একমাত্র মাধ্যম ধাতব মিডিয়া Metallic Media ধাতব মিডিয়ার কোয়ালিটি অত্যন্ত Poor লাইন Noisy পরিপূর্ণ প্রযুক্তি Technology অনভিজ্ঞতাসাহজিক',\n 'অন্যরা Windows UNIX কমান্ড ইন্টারপ্রেটারকে প্রোগ্রাম বিবেচনা যেটি চলছে একজন ব্যবহারকারী লগ ইন ইন্টারেক্টিভ অন সিস্টেম',\n 'কম্পিউটারে ডাটাবেস পরিচালিত ডাটাবেস সিস্টেমকে সেন্ট্রালাইজড সিস্টেম',\n 'ডাটা ইন্টিগ্রিটিকে তিন ভাগে ভাগ যায়',\n 'Traffic controller সাহায্য Scheduler processor processএর allocate',\n 'ফাইলের তথ্য ডাইরেক্টরি স্ট্রাকচারে এছাড়াও সেকেন্ডারি স্টোরেজে',\n 'কোম্পানিগুলো ইন্টারনাল সার্ভারসমূহে ওয়েভ অ্যাকসেসেবিলিটির পোর্টাল স্থাপন',\n 'ধরনের ডাটাবেস প্রায়ই ফলাফল প্রশ্ন লেনদেন ডাটাবেসের সীমানা অতিক্রম অনুমতি বিদ্যমান ডাটাবেসের একীকরণ',\n 'ইনফ্রারেড কমিউনিকেশনের এক কিলোমিটারের কম দূরত্বে Data transmit যায়',\n 'তথ্য নিরাপত্তা ব্যাক্তির পরিচয় চুরি Identity therat রক্ষা লক্ষ্যেও ব্যবহৃত',\n 'এক্ষেত্রে Encryption নিরাপত্তা পর্যাপ্তভাবে যায়নি',\n 'বিমূর্ততা সফ্টওয়্যারটি তৈরি পদ্ধতিগত তথ্যমূলক সত্তাগুলিকে সংজ্ঞায়িত সহায়তা',\n 'ডাটা পাঠাতে স্টোরেজের প্রয়োজন',\n 'প্রত্যেকটি সেগমেন্ট স্বতন্ত্র আলাদা লিনিয়ার মেমরি প্রত্যেকটি সেগমেন্ট আলাদা আকার',\n 'কাজেই রিপিটারের ব্যবস্থা',\n 'একাধিক সাইটের নির্বাচন কেবলমাত্র পাসওয়ার্ড হ্যাকারের অনেকেটাই কমিয়ে দেয়',\n 'Protection system callsএর রিসোর্সের ফাইল disk Permission set get',\n 'এগুলি ক্রিপ্টো অ্যালগরিদম দীর্ঘকাল ক্রিপ্টো বিশ্লেষণ সহ্য বেশিরভাগ দশক',\n 'উদাহরণস্বরূপ যায় Linux Solaris উভয়ই Performance পাওয়ার Single address space',\n 'নেটওয়ার্কের প্রিন্টার ইন্টারনেট কানেকশন হার্ডডিস্কস্পেস প্রভৃতির মত দামি রিসোর্স শেয়ার সম্ভব',\n 'রিকয়্যারমেন্ট ইঞ্জিনিয়ারিং লক্ষ্য সুন্দর সিস্টেমের সফটওয়্যার ডেভেলপ রিকয়্যারমেন্ট সমূহের প্রয়োজন সেগুলো বর্ণনা স্পেসিফিকেশন নথি Document তৈরি রক্ষণাবেক্ষণ',\n 'ভাইরাস এক ধরনের ক্ষতিকারক প্রোগ্রাম',\n 'স্টার টপোলজির কেন্দ্রীয় কম্পিউটার সার্বক্ষণিক সচল থাকতে',\n 'লোকেরা আইটি সিস্টেমটি ভাঙ্গতে ইতিমধ্যেই ভাঙছে নিয়ম এইভাবে অন্যায্য',\n 'Database Administrator ডাটাবেস স্কীমা ফিজিক্যাল স্টোরেজ অর্গানাইজেশন বর্ণনার একসেট ডেফিনিশন লিখে তাদেরকে মডিফাই ডিডি কম্পাইলার ডাটা স্টোরেজ DDL কম্পাইলার ব্যবহৃত',\n 'একটা উপযোগী পদ্ধতিতে অডিও সিগন্যালটি ক্যারিয়ার ওয়েভের সুপারইমপোজ',\n 'লেজার ডায়োডকে এলইডির পছন্দ সুসংগত আলো উৎপন্ন উচ্চ আউটপুট শক্তি',\n 'ইনফরমেশন সিকিউরিটির তিনটি নিরাপত্তা লক্ষ্য তথ্যসম্পদ সততা গোপনীয়তা প্রাপ্যতা নিশ্চিত',\n 'হার্ডওয়্যার উপাদান পরিধান অতিরিক্ত অংশ প্রতিস্থাপিত',\n 'ভিওআইপি প্রটোকল ইন্টারনেটের মধ্য দিয়ে ভয়েস প্রেরণের',\n 'ডেটাসার্ভার সিস্টেমগুলি মূলত অবজেক্ট ওরিয়েন্টেড ডেটাবেস ডেটা অ্যাক্সেস সমর্থন তৈরি অবজেক্টওরিয়েন্টেড ডাটাবেস প্রোগ্রামারদের প্রোগ্রামিং ভাষা অনুমতি ক্রমাগত অবজেক্ট তৈরি পুনরুদ্ধার আপডেট অনুমতি',\n 'এতেও ডাটা লেখা পুনরায় লেখা Rewrite সম্ভব',\n 'GUI ডেভেলপমেন্টের পরীক্ষন ধাপে প্রতিষ্ঠান কর্তৃক ইন হাউস ইন্সপেকশন ইউজারকে সরাসরি যুক্ত Beta ভার্সন প্রদর্শন বিষয়ে পরীক্ষা যায়',\n 'সাইবার Cyber শব্দের অর্থ অনলাইন জগত',\n 'আজকাল নিরাপদ নির্ধারিত আক্রমণকারীর বিরুদ্ধে DES স্থানটি ছোট লিগ্যাসি অ্যাপ্লিকেশনে ব্যবহৃত',\n 'স্ট্রাকচার ডিজাইনে সলিউশন ডিজাইন প্রাধান্য',\n 'আইবিএমএর টোকেন রিং নেটওয়ার্কের লজিক্যাল টপোলজি রিং ফিজিক্যাল টপোলজি স্টার',\n 'ডিজাইনের প্রয়োজনীয়তা মডেলের সুস্পষ্ট প্রয়োজনীয়তাগুলি বাস্তবায়ন স্টেকহোল্ডারদের কাঙ্খিত অন্তর্নিহিত প্রয়োজনীয়তাগুলিকে মিটমাট',\n 'প্রতিষ্ঠানের কোডিং গাইডলাইনের কোডিং উপাদানসমূহ নির্ধারণ',\n 'সফটওয়্যার ভেলিডেশন ইউজারের প্রয়োজনীয়তার গুরুত্ব দেয়',\n 'শ্রেণির ডাটাবেস ইউজার রয়েছে',\n 'অনলাইন নিরাপত্তা মূলত সচেতনতা উপায় ব্যক্তিগত কম্পিউটার ধরনের ডিজিটাল ডিভাইস কম্পিউটার সিস্টেম ইত্যাদিকে হ্যাকিং ধরনের আক্রমণ নিরাপদ',\n 'সাইবার বুলিং সামাজিক অর্থে অনলাইন জগতে দুজনএকাধিক ব্যক্তির তর্ক কথা কাটাকাটি দোষারপ খারাপ ভাষায় আক্রমন বুঝায়',\n 'প্রোগ্রাম সুষ্ঠুভাবে পরিচালনার অপারেটিং সিস্টেম পরিবেশ সৃষ্টি',\n 'প্রয়োজনীয় ডকুমেন্টেশন সফটওয়্যার ডিজাইনার ডেভেলপার টেস্ট টিম নিকট নিজ নিজ কার্যাদির key টুল',\n 'যাইহোক আধুনিক সফটওয়্যার ইঞ্জিনিয়ারিং প্রক্রিয়া কর্মতত্পর',\n 'অধ্যায়ে সংক্ষিপ্তভাবে ডাটাবেস সিস্টেমের নীতিগুলি উপস্থাপন',\n 'সফটওয়্যার বিকাশের ধাপসমূহ সফটওয়্যার প্রোডাক্ট তৈরির প্রয়োজনীয় তথ্য সংগ্রহ ডেভেলপার কর্তৃক প্রোটোটাইপ তৈরি ImpactAnalysis',\n 'ডাটাবেসের ডিজাইন কাঠামোকে ডাটাবেস স্কীমা DDL Data Definition Languageএর সাহায্যে স্বীমাকে ডিজাইন বর্ণনা',\n 'নিম্নগতির Device Dataকে Magnetic disk Tapeএ জমা Main memoryতে নির্বাহ একইভাবে ফলাফল Outputএ প্রদানের যায় গতিতে Disk Tape ডাটাকে Main memoryতে জমা গতিতে CPU মেইন মেমরি ডাটা প্রোগ্রাম নির্বাহ Disk Tapeএর Outputএ ফলাফল প্রদান',\n 'ডেটা নেটওয়ার্কে প্যাকেট আকারে চলাচল',\n 'প্রকার ট্রান্সমিশনের সবচেয়ে বড় সমস্যা সিগন্যাল অধিক তাপমাত্রা ভূপৃষ্টের সিগন্যালের টান্সমিশনে ব্যাঘাত সৃষ্টি',\n 'সেক্ষেত্রে আইপি কেবল আইএসপি নাম ঠিকানা পাওয়া যায়',\n 'অ্যাট্রিবিউটের মান তাকেও নাল অ্যাট্রিবিউট',\n 'GUI হার্ডওয়্যার সফটওয়্যার সমন্বয়ে',\n 'অ্যাপ্লিকেশনগুলির আর্কিটেকচারকে বিবেচনা ব্যাকএন্ড ডেটাবেস',\n 'টুকরা প্রতিটি ভালবিন্যস্ত অংশ সিস্টেম সাবধানে সংজ্ঞায়িত ইনপুট আউটপুট ফাংশন',\n 'ভবিষ্যতে হাইডেফিনেশন এইচডি ভিডিও ডাউনলোড ব্যবস্থা জানিয়েছে',\n 'ভাইরাস ছড়ানো স্প্যামিং কর্মকাণ্ডকে প্রতিহত',\n 'সফটওয়্যার আর্কিটেকচারের গুরুত্বপূর্ণ ভূমিকা সঠিক লক্ষ্যগুলি বোঝার সহজতা ভবিষ্যতের পরিবর্তনের নির্ভরশীলতা পুনঃব্যবহারের গুরুত্ব বৃদ্ধি',\n 'অবজেক্ট অরিয়েন্টেড ডিজাইন সফটওয়্যার সিস্টেমে ব্যবহৃত ফাংশন সমূহের পরিবর্তে এনটিটি সমূহ বৈশিষ্ট্য গুলোর',\n 'বিতরণ ডাটাবেসগুলি ডেটা সঞ্চয়ের অনুমতি একাধিক ভৌগলিকভাবে পৃথক মেশিন জুড়ে অনুসন্ধান প্রক্রিয়াকরণ',\n 'কম্পিউটার নিরাপত্তায় অপরাধ ঠেকাতে সাধারণত কম্পিউটার নেটওয়ার্ক অন্যান্য ডিভাইসগুলোর এক্সেস ব্যবহারে যথাযথ নিয়ন্ত্রণই কম্পিউটারের ফরেনসিক',\n 'প্রথমত শেয়ার্ডডিস্ক সিস্টেম শেয়ার্ডমেমরি সিস্টেমের সংখ্যক প্রসেসরে স্কেল',\n 'অপটিক্যাল ফাইবার ক্যাবল সমতুল্য তামার তারের তুলনায়এর ডাটা প্রবাহের হার',\n 'স্টোরেজ ম্যানেজার মিথস্ক্রিয়া দায়ী ফাইল ম্যানেজারের',\n 'ক্লায়েন্টসার্ভার নেটওয়ার্ক ব্যবহারকারীর নেটওয়ার্ক এডমিনিস্ট্রেশন প্রয়োজন পড়ে',\n 'সময় সিস্টেমেও ঢুকে তথ্য চুরি বেরিয়ে আসে',\n 'লাইন অব সাইট প্রোপাগেশন পদ্ধতিতে মেগাহার্টজের হার্টজের সিগন্যাল ব্যাবহার প্রকার ট্রান্সমিশন উভয় অ্যান্টেনা অবশ্যই অন্যের দৃশ্যমান কার্যকর দৃষ্টি সীমার থাকতে',\n 'নেমড পাইপে যোগাযোগ bidirectional Parentchild সম্পর্কে প্রয়োজন',\n 'ব্যর্থতায় তথ্য হারিয়ে',\n 'স্ট্রাকচারের ট্রিটমেন্ট ডাটা value গুলো Present child রিলেশনশিপের মধ্য দিয়ে লিড',\n 'ডিসিশন টেবিল ধরনের শ্রেণীভুক্ত তথ্য একক টেবিলে সংরক্ষণ সবশেষে টেবিল সমূহ যুক্ত সহজ উপযোগী সিদ্ধান্ত গ্রহণে সাহায্য',\n 'ফিজিক্যাল স্কীমা ডাটা অ্যাবস্ট্রাকশনের ফিজিক্যাল লেভেলের ডাটাবেস ডিজাইনকে বর্ণনা',\n 'সকল তথ্য নিরাপদ প্রয়োজন নিরাপদ প্রক্রিয়াকেই তথ্য নিরাপত্তা',\n 'ইন্টারনেট ওয়ার্কের সম্ভাব্য রুট খুঁজে বের রাউটার সর্বদা রুট ডিসকোভারি অ্যালগোরিদম Route Discovery Algorithm',\n 'শেয়ারড রিসোর্স অ্যাকসেস কম্পিউটেশন স্পিড ফাংশনালিটি ডাটা আাভেইলেবিলিটি বৃদ্ধি',\n 'সাধারণত পাওয়ার অকৃতকার্য Power Failure মেইন মেমোরির ডাটা হারিয়ে যায়',\n 'FTK শক্ত ডাটা কারভিং ইঞ্জিন ব্যবস্থা রয়েছে',\n 'সিস্টেমসমূহ সুইচড যোগাযোগ নেটওয়ার্ক সংযুক্ত কোনক্রমেই প্রত্যক্ষ প্রটোকল যায়',\n 'ইউজার কর্তৃক সংগৃহীত উপকরণসমূহ সিস্টেম স্পেসিফিকেশন অনুযায়ী তৈরিকৃত সফটওয়্যার মূল্যায়ন প্রক্রিয়াকে সফটওয়্যার টেস্টিং',\n 'সাধারণত অপারেটিং সিস্টেম ম্যানেজ',\n 'অপারেটিং সিস্টেম আলোচনা সময় প্রশ্ন উত্থাপিত কল CPU কার্যক্রম',\n 'চ্যানেল বিভাগে শ্রেণীবদ্ধ বেতার',\n ...]"
          },
          "metadata": {}
        }
      ]
    },
    {
      "cell_type": "code",
      "source": [
        "train_data['enc_label'].value_counts()"
      ],
      "metadata": {
        "execution": {
          "iopub.status.busy": "2024-05-19T11:49:41.778960Z",
          "iopub.execute_input": "2024-05-19T11:49:41.779908Z",
          "iopub.status.idle": "2024-05-19T11:49:41.789489Z",
          "shell.execute_reply.started": "2024-05-19T11:49:41.779874Z",
          "shell.execute_reply": "2024-05-19T11:49:41.788450Z"
        },
        "trusted": true,
        "id": "PiqjT4cE8VM5",
        "outputId": "ffa886c9-da84-4f22-d80e-42889a7f3a57"
      },
      "execution_count": null,
      "outputs": [
        {
          "execution_count": 20,
          "output_type": "execute_result",
          "data": {
            "text/plain": "3    1273\n2    1239\n0    1150\n1    1096\n4    1082\nName: enc_label, dtype: int64"
          },
          "metadata": {}
        }
      ]
    },
    {
      "cell_type": "code",
      "source": [
        "val_data['enc_label'].value_counts()"
      ],
      "metadata": {
        "execution": {
          "iopub.status.busy": "2024-05-19T11:49:46.311568Z",
          "iopub.execute_input": "2024-05-19T11:49:46.312075Z",
          "iopub.status.idle": "2024-05-19T11:49:46.320312Z",
          "shell.execute_reply.started": "2024-05-19T11:49:46.312039Z",
          "shell.execute_reply": "2024-05-19T11:49:46.319202Z"
        },
        "trusted": true,
        "id": "ECVbY1Wb8VM6",
        "outputId": "52e27c7b-59e5-4936-89eb-6579c2e2a46b"
      },
      "execution_count": null,
      "outputs": [
        {
          "execution_count": 21,
          "output_type": "execute_result",
          "data": {
            "text/plain": "3    159\n2    147\n0    144\n1    141\n4    139\nName: enc_label, dtype: int64"
          },
          "metadata": {}
        }
      ]
    },
    {
      "cell_type": "code",
      "source": [
        "import pandas as pd\n",
        "from sklearn.preprocessing import OneHotEncoder"
      ],
      "metadata": {
        "execution": {
          "iopub.status.busy": "2024-05-19T11:49:50.764273Z",
          "iopub.execute_input": "2024-05-19T11:49:50.764668Z",
          "iopub.status.idle": "2024-05-19T11:49:50.769410Z",
          "shell.execute_reply.started": "2024-05-19T11:49:50.764636Z",
          "shell.execute_reply": "2024-05-19T11:49:50.768361Z"
        },
        "trusted": true,
        "id": "IJWklIoD8VM7"
      },
      "execution_count": null,
      "outputs": []
    },
    {
      "cell_type": "code",
      "source": [
        "train_data = train_data.rename(columns={'label_Software Engineering':'Software Engineering','label_DBMS':'DBMS',\n",
        "                                        'label_Data Communication':'Data Communication','label_Cyber Security':'Cyber Security','label_Operating System':'Operating System'})\n",
        "\n",
        "train_data"
      ],
      "metadata": {
        "execution": {
          "iopub.status.busy": "2024-05-19T11:49:53.755567Z",
          "iopub.execute_input": "2024-05-19T11:49:53.755938Z",
          "iopub.status.idle": "2024-05-19T11:49:53.776047Z",
          "shell.execute_reply.started": "2024-05-19T11:49:53.755907Z",
          "shell.execute_reply": "2024-05-19T11:49:53.775176Z"
        },
        "trusted": true,
        "id": "DNFixEf68VM8",
        "outputId": "f7d38058-2280-4d9c-e16a-591467d44cb2"
      },
      "execution_count": null,
      "outputs": [
        {
          "execution_count": 23,
          "output_type": "execute_result",
          "data": {
            "text/plain": "                                                   text                 label  \\\n730   টপ ডাউন ডিজাইনে কিছু সংখ্যক বৈশিষ্ট্য এর ভিত্ত...  Software Engineering   \n5780  একটি সফ্টওয়্যার প্রকল্পের শুরুতে, ব্যবসার প্র...  Software Engineering   \n4685  অপারেটিং সিস্টেমের অন্তর্গত system program-সমূ...      Operating System   \n5041  Accelerometer মোবাইল ডিভাইসকে গ্রাউন্ডের সাপেক...      Operating System   \n325   একটি perfect testing এর সবচেয়ে কাংখিত মেথড হলো...  Software Engineering   \n...                                                 ...                   ...   \n5191  স্বয়ংক্রিয়ভাবে এক জব থেকে অন্য জবে যাওয়ার উপর ...      Operating System   \n5226  সার্ভার প্রথমে ক্লায়েন্টের নিকট হতে নির্দিষ্ট ...      Operating System   \n5390  যদি কোনো System-এ Deadlock prevention বা Deadl...      Operating System   \n860   কম্পিউটার প্রোগ্রামিং ভাষা প্রয়োগের মাধ্যমে সফ...  Software Engineering   \n7270  সমান্তরালতা অধ্যয়নের দুটি গুরুত্বপূর্ণ বিষয় ...                  DBMS   \n\n                                                cleaned  enc_label  \n730   টপ ডাউন ডিজাইনে সংখ্যক বৈশিষ্ট্য ভিত্তিতে এটিক...          0  \n5780  সফ্টওয়্যার প্রকল্পের শুরুতে ব্যবসার প্রয়োজন ...          0  \n4685  অপারেটিং সিস্টেমের অন্তর্গত system programসমূহ...          4  \n5041  Accelerometer মোবাইল ডিভাইসকে গ্রাউন্ডের সাপেক...          4  \n325   perfect testing সবচেয়ে কাংখিত মেথড Exhaustive ...          0  \n...                                                 ...        ...  \n5191  স্বয়ংক্রিয়ভাবে এক জব জবে যাওয়ার ভিত্তি অপারেটি...          4  \n5226  সার্ভার প্রথমে ক্লায়েন্টের নিকট নির্দিষ্ট Part...          4  \n5390  Systemএ Deadlock prevention Deadlock avoidance...          4  \n860   কম্পিউটার প্রোগ্রামিং ভাষা প্রয়োগের সফটওয়্যার ...          0  \n7270  সমান্তরালতা অধ্যয়নের গুরুত্বপূর্ণ বিষয় গতি স...          1  \n\n[5840 rows x 4 columns]",
            "text/html": "<div>\n<style scoped>\n    .dataframe tbody tr th:only-of-type {\n        vertical-align: middle;\n    }\n\n    .dataframe tbody tr th {\n        vertical-align: top;\n    }\n\n    .dataframe thead th {\n        text-align: right;\n    }\n</style>\n<table border=\"1\" class=\"dataframe\">\n  <thead>\n    <tr style=\"text-align: right;\">\n      <th></th>\n      <th>text</th>\n      <th>label</th>\n      <th>cleaned</th>\n      <th>enc_label</th>\n    </tr>\n  </thead>\n  <tbody>\n    <tr>\n      <th>730</th>\n      <td>টপ ডাউন ডিজাইনে কিছু সংখ্যক বৈশিষ্ট্য এর ভিত্ত...</td>\n      <td>Software Engineering</td>\n      <td>টপ ডাউন ডিজাইনে সংখ্যক বৈশিষ্ট্য ভিত্তিতে এটিক...</td>\n      <td>0</td>\n    </tr>\n    <tr>\n      <th>5780</th>\n      <td>একটি সফ্টওয়্যার প্রকল্পের শুরুতে, ব্যবসার প্র...</td>\n      <td>Software Engineering</td>\n      <td>সফ্টওয়্যার প্রকল্পের শুরুতে ব্যবসার প্রয়োজন ...</td>\n      <td>0</td>\n    </tr>\n    <tr>\n      <th>4685</th>\n      <td>অপারেটিং সিস্টেমের অন্তর্গত system program-সমূ...</td>\n      <td>Operating System</td>\n      <td>অপারেটিং সিস্টেমের অন্তর্গত system programসমূহ...</td>\n      <td>4</td>\n    </tr>\n    <tr>\n      <th>5041</th>\n      <td>Accelerometer মোবাইল ডিভাইসকে গ্রাউন্ডের সাপেক...</td>\n      <td>Operating System</td>\n      <td>Accelerometer মোবাইল ডিভাইসকে গ্রাউন্ডের সাপেক...</td>\n      <td>4</td>\n    </tr>\n    <tr>\n      <th>325</th>\n      <td>একটি perfect testing এর সবচেয়ে কাংখিত মেথড হলো...</td>\n      <td>Software Engineering</td>\n      <td>perfect testing সবচেয়ে কাংখিত মেথড Exhaustive ...</td>\n      <td>0</td>\n    </tr>\n    <tr>\n      <th>...</th>\n      <td>...</td>\n      <td>...</td>\n      <td>...</td>\n      <td>...</td>\n    </tr>\n    <tr>\n      <th>5191</th>\n      <td>স্বয়ংক্রিয়ভাবে এক জব থেকে অন্য জবে যাওয়ার উপর ...</td>\n      <td>Operating System</td>\n      <td>স্বয়ংক্রিয়ভাবে এক জব জবে যাওয়ার ভিত্তি অপারেটি...</td>\n      <td>4</td>\n    </tr>\n    <tr>\n      <th>5226</th>\n      <td>সার্ভার প্রথমে ক্লায়েন্টের নিকট হতে নির্দিষ্ট ...</td>\n      <td>Operating System</td>\n      <td>সার্ভার প্রথমে ক্লায়েন্টের নিকট নির্দিষ্ট Part...</td>\n      <td>4</td>\n    </tr>\n    <tr>\n      <th>5390</th>\n      <td>যদি কোনো System-এ Deadlock prevention বা Deadl...</td>\n      <td>Operating System</td>\n      <td>Systemএ Deadlock prevention Deadlock avoidance...</td>\n      <td>4</td>\n    </tr>\n    <tr>\n      <th>860</th>\n      <td>কম্পিউটার প্রোগ্রামিং ভাষা প্রয়োগের মাধ্যমে সফ...</td>\n      <td>Software Engineering</td>\n      <td>কম্পিউটার প্রোগ্রামিং ভাষা প্রয়োগের সফটওয়্যার ...</td>\n      <td>0</td>\n    </tr>\n    <tr>\n      <th>7270</th>\n      <td>সমান্তরালতা অধ্যয়নের দুটি গুরুত্বপূর্ণ বিষয় ...</td>\n      <td>DBMS</td>\n      <td>সমান্তরালতা অধ্যয়নের গুরুত্বপূর্ণ বিষয় গতি স...</td>\n      <td>1</td>\n    </tr>\n  </tbody>\n</table>\n<p>5840 rows × 4 columns</p>\n</div>"
          },
          "metadata": {}
        }
      ]
    },
    {
      "cell_type": "code",
      "source": [
        "def char_length(row):\n",
        "    return len(row.split())"
      ],
      "metadata": {
        "execution": {
          "iopub.status.busy": "2024-05-19T11:49:58.103661Z",
          "iopub.execute_input": "2024-05-19T11:49:58.104399Z",
          "iopub.status.idle": "2024-05-19T11:49:58.108819Z",
          "shell.execute_reply.started": "2024-05-19T11:49:58.104360Z",
          "shell.execute_reply": "2024-05-19T11:49:58.107782Z"
        },
        "trusted": true,
        "id": "ojQiwvSb8VM8"
      },
      "execution_count": null,
      "outputs": []
    },
    {
      "cell_type": "code",
      "source": [
        "lables = ['Software Engineering' 'DBMS' 'Data Communication' 'Cyber Security'\n",
        " 'Operating System']\n",
        "\n",
        "# Count number of unique words in each set\n",
        "def dataset_statistics(dataset):\n",
        "  for l in lables:\n",
        "    word_list = [word.strip() for t in list(dataset[dataset[l]==1.0].cleaned) for word in t.strip().split()]\n",
        "    print(f\"\\nClass Name:--> {l} \")\n",
        "    print(\"Number of Words:{}\".format(len(word_list)))\n",
        "    print(\"Number of Unique Words:{}\".format(len(np.unique(word_list))))\n",
        "    print(\"Maximum post length: {}\".format(max(dataset[dataset[l]==1.0].cleaned.apply(char_length))))\n",
        "    print(\"Average Words in texts: {}\".format(np.mean(dataset[dataset[l]==1.0].cleaned.apply(char_length))))"
      ],
      "metadata": {
        "execution": {
          "iopub.status.busy": "2024-05-19T08:14:05.883495Z",
          "iopub.execute_input": "2024-05-19T08:14:05.883873Z",
          "iopub.status.idle": "2024-05-19T08:14:05.892591Z",
          "shell.execute_reply.started": "2024-05-19T08:14:05.883841Z",
          "shell.execute_reply": "2024-05-19T08:14:05.891495Z"
        },
        "trusted": true,
        "id": "dYS3ouvl8VM9"
      },
      "execution_count": null,
      "outputs": []
    },
    {
      "cell_type": "code",
      "source": [
        "# Class Distribution\n",
        "class_distribution = train_data['label'].value_counts()\n",
        "\n",
        "# Text Length Distribution\n",
        "train_data['text_length'] = train_data['cleaned'].apply(lambda x: len(x.split()))\n",
        "text_length_stats = train_data['text_length'].describe()\n",
        "\n",
        "print(\"Class Distribution:\")\n",
        "print(class_distribution)\n",
        "print(\"\\nText Length Distribution:\")\n",
        "print(text_length_stats)"
      ],
      "metadata": {
        "execution": {
          "iopub.status.busy": "2024-05-19T11:50:02.996521Z",
          "iopub.execute_input": "2024-05-19T11:50:02.997491Z",
          "iopub.status.idle": "2024-05-19T11:50:03.023727Z",
          "shell.execute_reply.started": "2024-05-19T11:50:02.997442Z",
          "shell.execute_reply": "2024-05-19T11:50:03.022285Z"
        },
        "trusted": true,
        "id": "wWU5eJhe8VM9",
        "outputId": "b98aede9-a214-4d14-aab5-440fee8a12d1"
      },
      "execution_count": null,
      "outputs": [
        {
          "name": "stdout",
          "text": "Class Distribution:\nCyber Security          1273\nData Communication      1239\nSoftware Engineering    1150\nDBMS                    1096\nOperating System        1082\nName: label, dtype: int64\n\nText Length Distribution:\ncount    5840.000000\nmean        9.955993\nstd         4.812670\nmin         1.000000\n25%         7.000000\n50%         9.000000\n75%        12.000000\nmax        69.000000\nName: text_length, dtype: float64\n",
          "output_type": "stream"
        }
      ]
    },
    {
      "cell_type": "code",
      "source": [
        "class_statistics = {}\n",
        "\n",
        "# Iterate over each unique class\n",
        "for class_name in train_data['label'].unique():\n",
        "    # Filter the training data for the current class\n",
        "    class_data = train_data[train_data['label'] == class_name]\n",
        "\n",
        "    # Number of Words\n",
        "    total_words = class_data['cleaned'].apply(lambda x: len(x.split())).sum()\n",
        "\n",
        "    # Number of Unique Words\n",
        "    unique_words = len(set(\" \".join(class_data['cleaned']).split()))\n",
        "\n",
        "    # Maximum Post Length\n",
        "    max_length = class_data['cleaned'].apply(lambda x: len(x.split())).max()\n",
        "\n",
        "    # Average Words in Texts\n",
        "    average_length = class_data['cleaned'].apply(lambda x: len(x.split())).mean()\n",
        "\n",
        "    # Store the statistics for the current class\n",
        "    class_statistics[class_name] = {\n",
        "        'Number of Words': total_words,\n",
        "        'Number of Unique Words': unique_words,\n",
        "        'Maximum post length': max_length,\n",
        "        'Average Words in texts': average_length\n",
        "    }\n",
        "\n",
        "# Print the statistics for each class\n",
        "for class_name, stats in class_statistics.items():\n",
        "    print(\"Class Name:\", class_name)\n",
        "    for stat_name, value in stats.items():\n",
        "        print(f\"{stat_name}: {value}\")\n",
        "    print()"
      ],
      "metadata": {
        "execution": {
          "iopub.status.busy": "2024-05-19T11:50:07.694004Z",
          "iopub.execute_input": "2024-05-19T11:50:07.695089Z",
          "iopub.status.idle": "2024-05-19T11:50:07.760822Z",
          "shell.execute_reply.started": "2024-05-19T11:50:07.695051Z",
          "shell.execute_reply": "2024-05-19T11:50:07.759882Z"
        },
        "trusted": true,
        "id": "O2D-sWOc8VM-",
        "outputId": "ecd86457-b1bd-4cf7-959f-7c29ae6dc542"
      },
      "execution_count": null,
      "outputs": [
        {
          "name": "stdout",
          "text": "Class Name: Software Engineering\nNumber of Words: 12080\nNumber of Unique Words: 3401\nMaximum post length: 57\nAverage Words in texts: 10.504347826086956\n\nClass Name: Operating System\nNumber of Words: 10435\nNumber of Unique Words: 3268\nMaximum post length: 34\nAverage Words in texts: 9.644177449168208\n\nClass Name: Cyber Security\nNumber of Words: 12662\nNumber of Unique Words: 3934\nMaximum post length: 59\nAverage Words in texts: 9.946582875098192\n\nClass Name: DBMS\nNumber of Words: 10883\nNumber of Unique Words: 3095\nMaximum post length: 69\nAverage Words in texts: 9.929744525547445\n\nClass Name: Data Communication\nNumber of Words: 12083\nNumber of Unique Words: 3802\nMaximum post length: 33\nAverage Words in texts: 9.752219531880549\n\n",
          "output_type": "stream"
        }
      ]
    },
    {
      "cell_type": "code",
      "source": [
        "!pip install ktrain"
      ],
      "metadata": {
        "execution": {
          "iopub.status.busy": "2024-05-19T11:50:12.872403Z",
          "iopub.execute_input": "2024-05-19T11:50:12.873494Z",
          "iopub.status.idle": "2024-05-19T11:50:50.683615Z",
          "shell.execute_reply.started": "2024-05-19T11:50:12.873444Z",
          "shell.execute_reply": "2024-05-19T11:50:50.682529Z"
        },
        "trusted": true,
        "id": "HlpV2nKZ8VM_",
        "outputId": "9d49fd20-f31e-4d62-efc1-5c3353be5787"
      },
      "execution_count": null,
      "outputs": [
        {
          "name": "stdout",
          "text": "Collecting ktrain\n  Downloading ktrain-0.41.3.tar.gz (25.3 MB)\n\u001b[2K     \u001b[90m━━━━━━━━━━━━━━━━━━━━━━━━━━━━━━━━━━━━━━━━\u001b[0m \u001b[32m25.3/25.3 MB\u001b[0m \u001b[31m48.9 MB/s\u001b[0m eta \u001b[36m0:00:00\u001b[0m00:01\u001b[0m00:01\u001b[0m\n\u001b[?25h  Preparing metadata (setup.py) ... \u001b[?25ldone\n\u001b[?25hRequirement already satisfied: scikit-learn in /opt/conda/lib/python3.7/site-packages (from ktrain) (1.0.2)\nRequirement already satisfied: matplotlib>=3.0.0 in /opt/conda/lib/python3.7/site-packages (from ktrain) (3.5.3)\nRequirement already satisfied: pandas>=1.0.1 in /opt/conda/lib/python3.7/site-packages (from ktrain) (1.3.5)\nRequirement already satisfied: fastprogress>=0.1.21 in /opt/conda/lib/python3.7/site-packages (from ktrain) (1.0.3)\nRequirement already satisfied: requests in /opt/conda/lib/python3.7/site-packages (from ktrain) (2.28.1)\nRequirement already satisfied: joblib in /opt/conda/lib/python3.7/site-packages (from ktrain) (1.0.1)\nRequirement already satisfied: packaging in /opt/conda/lib/python3.7/site-packages (from ktrain) (22.0)\nCollecting langdetect\n  Downloading langdetect-1.0.9.tar.gz (981 kB)\n\u001b[2K     \u001b[90m━━━━━━━━━━━━━━━━━━━━━━━━━━━━━━━━━━━━━━\u001b[0m \u001b[32m981.5/981.5 kB\u001b[0m \u001b[31m59.1 MB/s\u001b[0m eta \u001b[36m0:00:00\u001b[0m\n\u001b[?25h  Preparing metadata (setup.py) ... \u001b[?25ldone\n\u001b[?25hRequirement already satisfied: jieba in /opt/conda/lib/python3.7/site-packages (from ktrain) (0.42.1)\nRequirement already satisfied: charset-normalizer in /opt/conda/lib/python3.7/site-packages (from ktrain) (2.1.0)\nRequirement already satisfied: chardet in /opt/conda/lib/python3.7/site-packages (from ktrain) (5.0.0)\nCollecting syntok>1.3.3\n  Downloading syntok-1.4.4-py3-none-any.whl (24 kB)\nCollecting tika\n  Downloading tika-2.6.0.tar.gz (27 kB)\n  Preparing metadata (setup.py) ... \u001b[?25ldone\n\u001b[?25hRequirement already satisfied: transformers in /opt/conda/lib/python3.7/site-packages (from ktrain) (4.20.1)\nRequirement already satisfied: sentencepiece in /opt/conda/lib/python3.7/site-packages (from ktrain) (0.1.97)\nCollecting keras_bert>=0.86.0\n  Downloading keras-bert-0.89.0.tar.gz (25 kB)\n  Preparing metadata (setup.py) ... \u001b[?25ldone\n\u001b[?25hCollecting whoosh\n  Downloading Whoosh-2.7.4-py2.py3-none-any.whl (468 kB)\n\u001b[2K     \u001b[90m━━━━━━━━━━━━━━━━━━━━━━━━━━━━━━━━━━━━━━\u001b[0m \u001b[32m468.8/468.8 kB\u001b[0m \u001b[31m37.7 MB/s\u001b[0m eta \u001b[36m0:00:00\u001b[0m\n\u001b[?25hRequirement already satisfied: numpy in /opt/conda/lib/python3.7/site-packages (from keras_bert>=0.86.0->ktrain) (1.21.6)\nCollecting keras-transformer==0.40.0\n  Downloading keras-transformer-0.40.0.tar.gz (9.7 kB)\n  Preparing metadata (setup.py) ... \u001b[?25ldone\n\u001b[?25hCollecting keras-pos-embd==0.13.0\n  Downloading keras-pos-embd-0.13.0.tar.gz (5.6 kB)\n  Preparing metadata (setup.py) ... \u001b[?25ldone\n\u001b[?25hCollecting keras-multi-head==0.29.0\n  Downloading keras-multi-head-0.29.0.tar.gz (13 kB)\n  Preparing metadata (setup.py) ... \u001b[?25ldone\n\u001b[?25hCollecting keras-layer-normalization==0.16.0\n  Downloading keras-layer-normalization-0.16.0.tar.gz (3.9 kB)\n  Preparing metadata (setup.py) ... \u001b[?25ldone\n\u001b[?25hCollecting keras-position-wise-feed-forward==0.8.0\n  Downloading keras-position-wise-feed-forward-0.8.0.tar.gz (4.1 kB)\n  Preparing metadata (setup.py) ... \u001b[?25ldone\n\u001b[?25hCollecting keras-embed-sim==0.10.0\n  Downloading keras-embed-sim-0.10.0.tar.gz (3.6 kB)\n  Preparing metadata (setup.py) ... \u001b[?25ldone\n\u001b[?25hCollecting keras-self-attention==0.51.0\n  Downloading keras-self-attention-0.51.0.tar.gz (11 kB)\n  Preparing metadata (setup.py) ... \u001b[?25ldone\n\u001b[?25hRequirement already satisfied: pillow>=6.2.0 in /opt/conda/lib/python3.7/site-packages (from matplotlib>=3.0.0->ktrain) (9.1.1)\nRequirement already satisfied: fonttools>=4.22.0 in /opt/conda/lib/python3.7/site-packages (from matplotlib>=3.0.0->ktrain) (4.33.3)\nRequirement already satisfied: python-dateutil>=2.7 in /opt/conda/lib/python3.7/site-packages (from matplotlib>=3.0.0->ktrain) (2.8.2)\nRequirement already satisfied: cycler>=0.10 in /opt/conda/lib/python3.7/site-packages (from matplotlib>=3.0.0->ktrain) (0.11.0)\nRequirement already satisfied: pyparsing>=2.2.1 in /opt/conda/lib/python3.7/site-packages (from matplotlib>=3.0.0->ktrain) (3.0.9)\nRequirement already satisfied: kiwisolver>=1.0.1 in /opt/conda/lib/python3.7/site-packages (from matplotlib>=3.0.0->ktrain) (1.4.3)\nRequirement already satisfied: pytz>=2017.3 in /opt/conda/lib/python3.7/site-packages (from pandas>=1.0.1->ktrain) (2022.1)\nRequirement already satisfied: regex>2016 in /opt/conda/lib/python3.7/site-packages (from syntok>1.3.3->ktrain) (2021.11.10)\nRequirement already satisfied: six in /opt/conda/lib/python3.7/site-packages (from langdetect->ktrain) (1.15.0)\nRequirement already satisfied: idna<4,>=2.5 in /opt/conda/lib/python3.7/site-packages (from requests->ktrain) (3.3)\nRequirement already satisfied: certifi>=2017.4.17 in /opt/conda/lib/python3.7/site-packages (from requests->ktrain) (2022.12.7)\nRequirement already satisfied: urllib3<1.27,>=1.21.1 in /opt/conda/lib/python3.7/site-packages (from requests->ktrain) (1.26.13)\nRequirement already satisfied: threadpoolctl>=2.0.0 in /opt/conda/lib/python3.7/site-packages (from scikit-learn->ktrain) (3.1.0)\nRequirement already satisfied: scipy>=1.1.0 in /opt/conda/lib/python3.7/site-packages (from scikit-learn->ktrain) (1.7.3)\nRequirement already satisfied: setuptools in /opt/conda/lib/python3.7/site-packages (from tika->ktrain) (59.8.0)\nRequirement already satisfied: importlib-metadata in /opt/conda/lib/python3.7/site-packages (from transformers->ktrain) (4.13.0)\nRequirement already satisfied: filelock in /opt/conda/lib/python3.7/site-packages (from transformers->ktrain) (3.7.1)\nRequirement already satisfied: huggingface-hub<1.0,>=0.1.0 in /opt/conda/lib/python3.7/site-packages (from transformers->ktrain) (0.10.1)\nRequirement already satisfied: pyyaml>=5.1 in /opt/conda/lib/python3.7/site-packages (from transformers->ktrain) (6.0)\nRequirement already satisfied: tokenizers!=0.11.3,<0.13,>=0.11.1 in /opt/conda/lib/python3.7/site-packages (from transformers->ktrain) (0.12.1)\nRequirement already satisfied: tqdm>=4.27 in /opt/conda/lib/python3.7/site-packages (from transformers->ktrain) (4.64.0)\nRequirement already satisfied: typing-extensions>=3.7.4.3 in /opt/conda/lib/python3.7/site-packages (from huggingface-hub<1.0,>=0.1.0->transformers->ktrain) (4.1.1)\nRequirement already satisfied: zipp>=0.5 in /opt/conda/lib/python3.7/site-packages (from importlib-metadata->transformers->ktrain) (3.8.0)\nBuilding wheels for collected packages: ktrain, keras_bert, keras-transformer, keras-embed-sim, keras-layer-normalization, keras-multi-head, keras-pos-embd, keras-position-wise-feed-forward, keras-self-attention, langdetect, tika\n  Building wheel for ktrain (setup.py) ... \u001b[?25ldone\n\u001b[?25h  Created wheel for ktrain: filename=ktrain-0.41.3-py3-none-any.whl size=25316979 sha256=ad325227111611de2679884f3df561a3224715e19544bd2901cbde2ce92c6f63\n  Stored in directory: /root/.cache/pip/wheels/97/cd/a7/3ef9b6abdab10d64a111bac7f6f1cc4e9ea818c478335fb394\n  Building wheel for keras_bert (setup.py) ... \u001b[?25ldone\n\u001b[?25h  Created wheel for keras_bert: filename=keras_bert-0.89.0-py3-none-any.whl size=33517 sha256=cfc6e646005390eac7d4a20718eb26d768cc6f9eef7eee4d9ebb98c883bb7c94\n  Stored in directory: /root/.cache/pip/wheels/a4/e8/45/842b3a39831261aef9154b907eacbc4ac99499a99ae829b06f\n  Building wheel for keras-transformer (setup.py) ... \u001b[?25ldone\n\u001b[?25h  Created wheel for keras-transformer: filename=keras_transformer-0.40.0-py3-none-any.whl size=12305 sha256=620e5b20fbd4638d34bf4e46d214a4bc07b3bb56d33460b784fb562b19a15542\n  Stored in directory: /root/.cache/pip/wheels/46/68/26/692ed21edd832833c3b0a0e21615bcacd99ca458b3f9ed571f\n  Building wheel for keras-embed-sim (setup.py) ... \u001b[?25ldone\n\u001b[?25h  Created wheel for keras-embed-sim: filename=keras_embed_sim-0.10.0-py3-none-any.whl size=3960 sha256=152fa148c29806f4edcc952c45bc976d50b1f16079409bc65de92d28d149219f\n  Stored in directory: /root/.cache/pip/wheels/81/67/b5/d847588d075895281e1cf5590f819bd4cf076a554872268bd5\n  Building wheel for keras-layer-normalization (setup.py) ... \u001b[?25ldone\n\u001b[?25h  Created wheel for keras-layer-normalization: filename=keras_layer_normalization-0.16.0-py3-none-any.whl size=4668 sha256=5207b2c99695bc46f40513c5b125b04d0efe581a4caa46f0393b4b68d52b0175\n  Stored in directory: /root/.cache/pip/wheels/85/5d/1c/2e619f594f69fbcf8bc20943b27d414871c409be053994813e\n  Building wheel for keras-multi-head (setup.py) ... \u001b[?25ldone\n\u001b[?25h  Created wheel for keras-multi-head: filename=keras_multi_head-0.29.0-py3-none-any.whl size=14993 sha256=4150fc467c7c018f1f1dc793b9fb7f0ab77f78b5f06c91afb547bdac5b38985c\n  Stored in directory: /root/.cache/pip/wheels/86/aa/3c/9d15d24005179dae08ff291ce99c754b296347817d076fd9fb\n  Building wheel for keras-pos-embd (setup.py) ... \u001b[?25ldone\n\u001b[?25h  Created wheel for keras-pos-embd: filename=keras_pos_embd-0.13.0-py3-none-any.whl size=6962 sha256=561925f61cf13377f593793b0310a2f9b7ef0d5a07836c7402b7c24c79e059ef\n  Stored in directory: /root/.cache/pip/wheels/8d/c1/a0/dc44fcf68c857b7ff6be9a97e675e5adf51022eff1169b042f\n  Building wheel for keras-position-wise-feed-forward (setup.py) ... \u001b[?25ldone\n\u001b[?25h  Created wheel for keras-position-wise-feed-forward: filename=keras_position_wise_feed_forward-0.8.0-py3-none-any.whl size=4983 sha256=8d6bef5b512d9cc9eb0c3971277c47f66ef928361f22fbd38c0320ea4910a6aa\n  Stored in directory: /root/.cache/pip/wheels/c2/75/6f/d42f6e051506f442daeba53ff1e2d21a5f20ef8c411610f2bb\n  Building wheel for keras-self-attention (setup.py) ... \u001b[?25ldone\n\u001b[?25h  Created wheel for keras-self-attention: filename=keras_self_attention-0.51.0-py3-none-any.whl size=18912 sha256=df8f660fcbefe92d452d6c862b45e347eb1c9eab2f72e4d5230fdd7ab47fd9d3\n  Stored in directory: /root/.cache/pip/wheels/95/b1/a8/5ee00cc137940b2f6fa198212e8f45d813d0e0d9c3a04035a3\n  Building wheel for langdetect (setup.py) ... \u001b[?25ldone\n\u001b[?25h  Created wheel for langdetect: filename=langdetect-1.0.9-py3-none-any.whl size=993242 sha256=1a3499312387d103d3b410e21f154c6ac4b228205a44dfda6b60033ed620877e\n  Stored in directory: /root/.cache/pip/wheels/c5/96/8a/f90c59ed25d75e50a8c10a1b1c2d4c402e4dacfa87f3aff36a\n  Building wheel for tika (setup.py) ... \u001b[?25ldone\n\u001b[?25h  Created wheel for tika: filename=tika-2.6.0-py3-none-any.whl size=32642 sha256=242dd7dadbc470d140c991348aae4fa83247ec684759ddf0cbcab10391cd1b3c\n  Stored in directory: /root/.cache/pip/wheels/d0/e8/f2/4d6ee3cf46b79e22dcc7d4cdcbeed804c985d346b44a213672\nSuccessfully built ktrain keras_bert keras-transformer keras-embed-sim keras-layer-normalization keras-multi-head keras-pos-embd keras-position-wise-feed-forward keras-self-attention langdetect tika\nInstalling collected packages: whoosh, syntok, langdetect, keras-self-attention, keras-position-wise-feed-forward, keras-pos-embd, keras-layer-normalization, keras-embed-sim, tika, keras-multi-head, keras-transformer, keras_bert, ktrain\nSuccessfully installed keras-embed-sim-0.10.0 keras-layer-normalization-0.16.0 keras-multi-head-0.29.0 keras-pos-embd-0.13.0 keras-position-wise-feed-forward-0.8.0 keras-self-attention-0.51.0 keras-transformer-0.40.0 keras_bert-0.89.0 ktrain-0.41.3 langdetect-1.0.9 syntok-1.4.4 tika-2.6.0 whoosh-2.7.4\n\u001b[33mWARNING: Running pip as the 'root' user can result in broken permissions and conflicting behaviour with the system package manager. It is recommended to use a virtual environment instead: https://pip.pypa.io/warnings/venv\u001b[0m\u001b[33m\n\u001b[0m",
          "output_type": "stream"
        }
      ]
    },
    {
      "cell_type": "code",
      "source": [
        "import ktrain"
      ],
      "metadata": {
        "execution": {
          "iopub.status.busy": "2024-05-19T11:50:54.101562Z",
          "iopub.execute_input": "2024-05-19T11:50:54.101990Z",
          "iopub.status.idle": "2024-05-19T11:50:55.638304Z",
          "shell.execute_reply.started": "2024-05-19T11:50:54.101953Z",
          "shell.execute_reply": "2024-05-19T11:50:55.636765Z"
        },
        "trusted": true,
        "id": "ZwLVysLN8VNA"
      },
      "execution_count": null,
      "outputs": []
    },
    {
      "cell_type": "code",
      "source": [
        "%reload_ext autoreload\n",
        "%autoreload 2\n",
        "%matplotlib inline\n",
        "import os\n",
        "os.environ[\"CUDA_DEVICE_ORDER\"] = \"PCI_BUS_ID\"\n",
        "os.environ[\"CUDA_VISIBLE_DEVICES\"] = \"0\""
      ],
      "metadata": {
        "execution": {
          "iopub.status.busy": "2024-05-19T11:51:05.080538Z",
          "iopub.execute_input": "2024-05-19T11:51:05.080906Z",
          "iopub.status.idle": "2024-05-19T11:51:05.269347Z",
          "shell.execute_reply.started": "2024-05-19T11:51:05.080876Z",
          "shell.execute_reply": "2024-05-19T11:51:05.268549Z"
        },
        "trusted": true,
        "id": "8tUL0Iy98VNA"
      },
      "execution_count": null,
      "outputs": []
    },
    {
      "cell_type": "code",
      "source": [
        "import ktrain\n",
        "from ktrain import text"
      ],
      "metadata": {
        "execution": {
          "iopub.status.busy": "2024-05-19T11:51:08.715916Z",
          "iopub.execute_input": "2024-05-19T11:51:08.716371Z",
          "iopub.status.idle": "2024-05-19T11:51:08.892428Z",
          "shell.execute_reply.started": "2024-05-19T11:51:08.716335Z",
          "shell.execute_reply": "2024-05-19T11:51:08.891086Z"
        },
        "trusted": true,
        "id": "jSuQ0SiZ8VNB"
      },
      "execution_count": null,
      "outputs": []
    },
    {
      "cell_type": "code",
      "source": [
        "train_data['label'].value_counts()"
      ],
      "metadata": {
        "execution": {
          "iopub.status.busy": "2024-05-19T11:51:12.071181Z",
          "iopub.execute_input": "2024-05-19T11:51:12.071835Z",
          "iopub.status.idle": "2024-05-19T11:51:12.254328Z",
          "shell.execute_reply.started": "2024-05-19T11:51:12.071799Z",
          "shell.execute_reply": "2024-05-19T11:51:12.253213Z"
        },
        "trusted": true,
        "id": "MbVRjM9K8VNC",
        "outputId": "251e4a74-b65e-4274-c3a2-313bc5c2568f"
      },
      "execution_count": null,
      "outputs": [
        {
          "execution_count": 32,
          "output_type": "execute_result",
          "data": {
            "text/plain": "Cyber Security          1273\nData Communication      1239\nSoftware Engineering    1150\nDBMS                    1096\nOperating System        1082\nName: label, dtype: int64"
          },
          "metadata": {}
        }
      ]
    },
    {
      "cell_type": "code",
      "source": [
        "val_data['label'].value_counts()"
      ],
      "metadata": {
        "execution": {
          "iopub.status.busy": "2024-05-19T11:51:14.956124Z",
          "iopub.execute_input": "2024-05-19T11:51:14.957084Z",
          "iopub.status.idle": "2024-05-19T11:51:15.143239Z",
          "shell.execute_reply.started": "2024-05-19T11:51:14.957037Z",
          "shell.execute_reply": "2024-05-19T11:51:15.142041Z"
        },
        "trusted": true,
        "id": "5nhLd4Ef8VND",
        "outputId": "a0698924-ae05-400b-cc3a-853ef592f4aa"
      },
      "execution_count": null,
      "outputs": [
        {
          "execution_count": 33,
          "output_type": "execute_result",
          "data": {
            "text/plain": "Cyber Security          159\nData Communication      147\nSoftware Engineering    144\nDBMS                    141\nOperating System        139\nName: label, dtype: int64"
          },
          "metadata": {}
        }
      ]
    },
    {
      "cell_type": "code",
      "source": [
        "categories = ['Software Engineering', 'DBMS' ,'Data Communication', 'Cyber Security',\n",
        " 'Operating System']"
      ],
      "metadata": {
        "execution": {
          "iopub.status.busy": "2024-05-19T11:51:18.392126Z",
          "iopub.execute_input": "2024-05-19T11:51:18.393190Z",
          "iopub.status.idle": "2024-05-19T11:51:18.569566Z",
          "shell.execute_reply.started": "2024-05-19T11:51:18.393136Z",
          "shell.execute_reply": "2024-05-19T11:51:18.568560Z"
        },
        "trusted": true,
        "id": "vIA1ONhy8VND"
      },
      "execution_count": null,
      "outputs": []
    },
    {
      "cell_type": "code",
      "source": [
        "X_train = train_data['cleaned'].tolist()\n",
        "y_train = train_data['label'].tolist()\n",
        "\n",
        "X_valid = val_data['cleaned'].tolist()\n",
        "y_valid = val_data['label'].tolist()\n",
        "\n",
        "X_test = test_data['cleaned'].tolist()\n",
        "y_test = test_data['label'].tolist()"
      ],
      "metadata": {
        "execution": {
          "iopub.status.busy": "2024-05-19T11:51:22.220087Z",
          "iopub.execute_input": "2024-05-19T11:51:22.220519Z",
          "iopub.status.idle": "2024-05-19T11:51:22.409121Z",
          "shell.execute_reply.started": "2024-05-19T11:51:22.220486Z",
          "shell.execute_reply": "2024-05-19T11:51:22.407941Z"
        },
        "trusted": true,
        "id": "-JbBN15l8VNE"
      },
      "execution_count": null,
      "outputs": []
    },
    {
      "cell_type": "code",
      "source": [
        "model_name = 'xlm-roberta-base'\n",
        "trans = text.Transformer(model_name,maxlen=100,class_names=categories)"
      ],
      "metadata": {
        "execution": {
          "iopub.status.busy": "2024-05-19T11:51:45.783228Z",
          "iopub.execute_input": "2024-05-19T11:51:45.783611Z",
          "iopub.status.idle": "2024-05-19T11:52:47.500896Z",
          "shell.execute_reply.started": "2024-05-19T11:51:45.783580Z",
          "shell.execute_reply": "2024-05-19T11:52:47.500055Z"
        },
        "trusted": true,
        "id": "0e69a5-x8VNF",
        "outputId": "b7ff3cf9-6f5f-49a7-e0f5-ed02c351ef90",
        "colab": {
          "referenced_widgets": [
            "2f977957ec3a49b0af93cc70de2cb602",
            "3e073bc1cb20435f96fa618a97125841",
            "983b23b0354e42269c5d8fe040692379"
          ]
        }
      },
      "execution_count": null,
      "outputs": [
        {
          "output_type": "display_data",
          "data": {
            "text/plain": "Downloading:   0%|          | 0.00/615 [00:00<?, ?B/s]",
            "application/vnd.jupyter.widget-view+json": {
              "version_major": 2,
              "version_minor": 0,
              "model_id": "2f977957ec3a49b0af93cc70de2cb602"
            }
          },
          "metadata": {}
        },
        {
          "output_type": "display_data",
          "data": {
            "text/plain": "Downloading:   0%|          | 0.00/512 [00:00<?, ?B/s]",
            "application/vnd.jupyter.widget-view+json": {
              "version_major": 2,
              "version_minor": 0,
              "model_id": "3e073bc1cb20435f96fa618a97125841"
            }
          },
          "metadata": {}
        },
        {
          "output_type": "display_data",
          "data": {
            "text/plain": "Downloading:   0%|          | 0.00/1.76G [00:00<?, ?B/s]",
            "application/vnd.jupyter.widget-view+json": {
              "version_major": 2,
              "version_minor": 0,
              "model_id": "983b23b0354e42269c5d8fe040692379"
            }
          },
          "metadata": {}
        }
      ]
    },
    {
      "cell_type": "code",
      "source": [
        "train = trans.preprocess_train(X_train,y_train)\n",
        "valid = trans.preprocess_test(X_valid,y_valid)"
      ],
      "metadata": {
        "execution": {
          "iopub.status.busy": "2024-05-19T11:53:02.096520Z",
          "iopub.execute_input": "2024-05-19T11:53:02.096933Z",
          "iopub.status.idle": "2024-05-19T11:53:11.122834Z",
          "shell.execute_reply.started": "2024-05-19T11:53:02.096901Z",
          "shell.execute_reply": "2024-05-19T11:53:11.122068Z"
        },
        "trusted": true,
        "id": "mHHsCw6M8VNF",
        "outputId": "d2329a02-566e-4dc3-adcf-68b21530a6f2",
        "colab": {
          "referenced_widgets": [
            "8a5e4e2eb62c406b9ac039b2c5f895f2"
          ]
        }
      },
      "execution_count": null,
      "outputs": [
        {
          "name": "stdout",
          "text": "preprocessing train...\nlanguage: bn\ntrain sequence lengths:\n\tmean : 10\n\t95percentile : 19\n\t99percentile : 26\n",
          "output_type": "stream"
        },
        {
          "output_type": "display_data",
          "data": {
            "text/plain": "Downloading:   0%|          | 0.00/4.83M [00:00<?, ?B/s]",
            "application/vnd.jupyter.widget-view+json": {
              "version_major": 2,
              "version_minor": 0,
              "model_id": "8a5e4e2eb62c406b9ac039b2c5f895f2"
            }
          },
          "metadata": {}
        },
        {
          "output_type": "display_data",
          "data": {
            "text/plain": "<IPython.core.display.HTML object>",
            "text/html": "\n<style>\n    /* Turns off some styling */\n    progress {\n        /* gets rid of default border in Firefox and Opera. */\n        border: none;\n        /* Needs to be in here for Safari polyfill so background images work as expected. */\n        background-size: auto;\n    }\n    progress:not([value]), progress:not([value])::-webkit-progress-bar {\n        background: repeating-linear-gradient(45deg, #7e7e7e, #7e7e7e 10px, #5c5c5c 10px, #5c5c5c 20px);\n    }\n    .progress-bar-interrupted, .progress-bar-interrupted::-webkit-progress-bar {\n        background: #F44336;\n    }\n</style>\n"
          },
          "metadata": {}
        },
        {
          "output_type": "display_data",
          "data": {
            "text/plain": "<IPython.core.display.HTML object>",
            "text/html": ""
          },
          "metadata": {}
        },
        {
          "name": "stdout",
          "text": "Is Multi-Label? False\npreprocessing test...\nlanguage: bn\ntest sequence lengths:\n\tmean : 10\n\t95percentile : 19\n\t99percentile : 25\n",
          "output_type": "stream"
        },
        {
          "output_type": "display_data",
          "data": {
            "text/plain": "<IPython.core.display.HTML object>",
            "text/html": "\n<style>\n    /* Turns off some styling */\n    progress {\n        /* gets rid of default border in Firefox and Opera. */\n        border: none;\n        /* Needs to be in here for Safari polyfill so background images work as expected. */\n        background-size: auto;\n    }\n    progress:not([value]), progress:not([value])::-webkit-progress-bar {\n        background: repeating-linear-gradient(45deg, #7e7e7e, #7e7e7e 10px, #5c5c5c 10px, #5c5c5c 20px);\n    }\n    .progress-bar-interrupted, .progress-bar-interrupted::-webkit-progress-bar {\n        background: #F44336;\n    }\n</style>\n"
          },
          "metadata": {}
        },
        {
          "output_type": "display_data",
          "data": {
            "text/plain": "<IPython.core.display.HTML object>",
            "text/html": ""
          },
          "metadata": {}
        }
      ]
    },
    {
      "cell_type": "code",
      "source": [
        "model = trans.get_classifier()"
      ],
      "metadata": {
        "execution": {
          "iopub.status.busy": "2024-05-19T11:53:17.895267Z",
          "iopub.execute_input": "2024-05-19T11:53:17.895655Z",
          "iopub.status.idle": "2024-05-19T11:53:20.643749Z",
          "shell.execute_reply.started": "2024-05-19T11:53:17.895625Z",
          "shell.execute_reply": "2024-05-19T11:53:20.642871Z"
        },
        "trusted": true,
        "id": "gW0Yr3yZ8VNG"
      },
      "execution_count": null,
      "outputs": []
    },
    {
      "cell_type": "code",
      "source": [
        "learner = ktrain.get_learner(model, train_data=train,val_data=valid, batch_size=32)"
      ],
      "metadata": {
        "execution": {
          "iopub.status.busy": "2024-05-19T11:53:25.805658Z",
          "iopub.execute_input": "2024-05-19T11:53:25.806306Z",
          "iopub.status.idle": "2024-05-19T11:53:28.551911Z",
          "shell.execute_reply.started": "2024-05-19T11:53:25.806272Z",
          "shell.execute_reply": "2024-05-19T11:53:28.551098Z"
        },
        "trusted": true,
        "id": "GSmR7c7z8VNH"
      },
      "execution_count": null,
      "outputs": []
    },
    {
      "cell_type": "code",
      "source": [
        "from sklearn.utils import class_weight\n",
        "class_weights = class_weight.compute_class_weight('balanced'\n",
        "                                               ,classes = np.unique(train_data['enc_label'])\n",
        "                                               ,y = train_data['enc_label'])\n",
        "class_weights = dict(zip(np.unique(train_data['enc_label']), class_weights))"
      ],
      "metadata": {
        "execution": {
          "iopub.status.busy": "2024-05-19T11:53:35.064063Z",
          "iopub.execute_input": "2024-05-19T11:53:35.064430Z",
          "iopub.status.idle": "2024-05-19T11:53:35.249757Z",
          "shell.execute_reply.started": "2024-05-19T11:53:35.064402Z",
          "shell.execute_reply": "2024-05-19T11:53:35.248711Z"
        },
        "trusted": true,
        "id": "MrgQPXRi8VNd"
      },
      "execution_count": null,
      "outputs": []
    },
    {
      "cell_type": "code",
      "source": [
        "weight = {i : class_weights[i] for i in range(5)}\n",
        "weight"
      ],
      "metadata": {
        "execution": {
          "iopub.status.busy": "2024-05-19T11:53:39.238912Z",
          "iopub.execute_input": "2024-05-19T11:53:39.239325Z",
          "iopub.status.idle": "2024-05-19T11:53:39.423400Z",
          "shell.execute_reply.started": "2024-05-19T11:53:39.239291Z",
          "shell.execute_reply": "2024-05-19T11:53:39.422353Z"
        },
        "trusted": true,
        "id": "-Fl25iRr8VNe",
        "outputId": "29b5dc42-3501-476c-cc60-e98817152623"
      },
      "execution_count": null,
      "outputs": [
        {
          "execution_count": 41,
          "output_type": "execute_result",
          "data": {
            "text/plain": "{0: 1.0156521739130435,\n 1: 1.0656934306569343,\n 2: 0.9426957223567393,\n 3: 0.9175176747839748,\n 4: 1.0794824399260627}"
          },
          "metadata": {}
        }
      ]
    },
    {
      "cell_type": "code",
      "source": [
        "learner.fit_onecycle(2e-5,10,class_weight=weight)"
      ],
      "metadata": {
        "execution": {
          "iopub.status.busy": "2024-05-19T11:53:45.311313Z",
          "iopub.execute_input": "2024-05-19T11:53:45.311690Z",
          "iopub.status.idle": "2024-05-19T12:07:30.300882Z",
          "shell.execute_reply.started": "2024-05-19T11:53:45.311659Z",
          "shell.execute_reply": "2024-05-19T12:07:30.300009Z"
        },
        "trusted": true,
        "id": "KdqDcu1D8VNe",
        "outputId": "85fad37b-adfe-4bc5-92b3-1c70cb9daaa2"
      },
      "execution_count": null,
      "outputs": [
        {
          "name": "stdout",
          "text": "\n\nbegin training using onecycle policy with max lr of 2e-05...\nEpoch 1/10\n183/183 [==============================] - 106s 454ms/step - loss: 1.5910 - accuracy: 0.2608 - val_loss: 1.4383 - val_accuracy: 0.5781\nEpoch 2/10\n183/183 [==============================] - 80s 437ms/step - loss: 1.1206 - accuracy: 0.6140 - val_loss: 0.6577 - val_accuracy: 0.7658\nEpoch 3/10\n183/183 [==============================] - 80s 437ms/step - loss: 0.6906 - accuracy: 0.7760 - val_loss: 0.5426 - val_accuracy: 0.8233\nEpoch 4/10\n183/183 [==============================] - 80s 436ms/step - loss: 0.4963 - accuracy: 0.8406 - val_loss: 0.4651 - val_accuracy: 0.8479\nEpoch 5/10\n183/183 [==============================] - 80s 436ms/step - loss: 0.4026 - accuracy: 0.8764 - val_loss: 0.4263 - val_accuracy: 0.8767\nEpoch 6/10\n183/183 [==============================] - 80s 436ms/step - loss: 0.3007 - accuracy: 0.9098 - val_loss: 0.3573 - val_accuracy: 0.8932\nEpoch 7/10\n183/183 [==============================] - 80s 436ms/step - loss: 0.2073 - accuracy: 0.9382 - val_loss: 0.4052 - val_accuracy: 0.8836\nEpoch 8/10\n183/183 [==============================] - 80s 436ms/step - loss: 0.1418 - accuracy: 0.9550 - val_loss: 0.3869 - val_accuracy: 0.8890\nEpoch 9/10\n183/183 [==============================] - 80s 436ms/step - loss: 0.0950 - accuracy: 0.9745 - val_loss: 0.3845 - val_accuracy: 0.9041\nEpoch 10/10\n183/183 [==============================] - 80s 436ms/step - loss: 0.0685 - accuracy: 0.9822 - val_loss: 0.3959 - val_accuracy: 0.8959\n",
          "output_type": "stream"
        },
        {
          "execution_count": 42,
          "output_type": "execute_result",
          "data": {
            "text/plain": "<keras.callbacks.History at 0x7f7123956c90>"
          },
          "metadata": {}
        }
      ]
    },
    {
      "cell_type": "code",
      "source": [
        "learner.validate(class_names=categories)"
      ],
      "metadata": {
        "execution": {
          "iopub.status.busy": "2024-05-19T12:08:58.885791Z",
          "iopub.execute_input": "2024-05-19T12:08:58.886220Z",
          "iopub.status.idle": "2024-05-19T12:09:06.417969Z",
          "shell.execute_reply.started": "2024-05-19T12:08:58.886185Z",
          "shell.execute_reply": "2024-05-19T12:09:06.416853Z"
        },
        "trusted": true,
        "id": "CbILuOgB8VNf",
        "outputId": "cac97e47-28f2-4263-f616-cba297c4cf46"
      },
      "execution_count": null,
      "outputs": [
        {
          "name": "stdout",
          "text": "                      precision    recall  f1-score   support\n\nSoftware Engineering       0.95      0.86      0.90       159\n                DBMS       0.81      0.90      0.85       141\n  Data Communication       0.90      0.95      0.93       147\n      Cyber Security       0.91      0.89      0.90       139\n    Operating System       0.91      0.88      0.90       144\n\n            accuracy                           0.90       730\n           macro avg       0.90      0.90      0.90       730\n        weighted avg       0.90      0.90      0.90       730\n\n",
          "output_type": "stream"
        },
        {
          "execution_count": 43,
          "output_type": "execute_result",
          "data": {
            "text/plain": "array([[136,   9,   7,   5,   2],\n       [  4, 127,   1,   4,   5],\n       [  2,   3, 140,   1,   1],\n       [  0,   7,   4, 124,   4],\n       [  1,  11,   3,   2, 127]])"
          },
          "metadata": {}
        }
      ]
    },
    {
      "cell_type": "code",
      "source": [
        "# Save the predictor directly in the working directory\n",
        "save_path = '/kaggle/working/roberta'\n",
        "ktrain.get_predictor(learner.model, preproc=trans).save(save_path)"
      ],
      "metadata": {
        "execution": {
          "iopub.status.busy": "2024-05-19T12:09:10.515998Z",
          "iopub.execute_input": "2024-05-19T12:09:10.516792Z",
          "iopub.status.idle": "2024-05-19T12:09:13.438486Z",
          "shell.execute_reply.started": "2024-05-19T12:09:10.516751Z",
          "shell.execute_reply": "2024-05-19T12:09:13.437588Z"
        },
        "trusted": true,
        "id": "sZrUotyM8VNf"
      },
      "execution_count": null,
      "outputs": []
    },
    {
      "cell_type": "code",
      "source": [
        "# Import necessary packages\n",
        "from sklearn.metrics import accuracy_score, classification_report\n",
        "import ktrain\n",
        "\n",
        "# Specify the file path for saving and loading the model in the Kaggle working directory\n",
        "save_path = '/kaggle/working/roberta'\n",
        "\n",
        "# Load the predictor from the specified path\n",
        "predictor = ktrain.load_predictor(save_path)\n",
        "\n",
        "# Assuming you have your test data available as 'X_test' and 'y_test' in your Kaggle environment\n",
        "# Make predictions on the test data using the loaded predictor\n",
        "y_pred = predictor.predict(X_test)\n",
        "\n",
        "# Calculate accuracy by comparing the predicted labels with true labels\n",
        "accuracy = accuracy_score(y_test, y_pred)\n",
        "print(f\"Test data accuracy: {accuracy:.2%}\")\n",
        "\n",
        "# Generate classification report\n",
        "report = classification_report(y_test, y_pred)\n",
        "\n",
        "# Print the classification report\n",
        "print(\"Classification Report:\")\n",
        "print(report)"
      ],
      "metadata": {
        "execution": {
          "iopub.status.busy": "2024-05-19T12:09:17.679467Z",
          "iopub.execute_input": "2024-05-19T12:09:17.679884Z",
          "iopub.status.idle": "2024-05-19T12:09:27.564981Z",
          "shell.execute_reply.started": "2024-05-19T12:09:17.679852Z",
          "shell.execute_reply": "2024-05-19T12:09:27.563957Z"
        },
        "trusted": true,
        "id": "r7KBJjO_8VNg",
        "outputId": "7c3140ec-3015-4247-8035-ffbcdcb12ef3"
      },
      "execution_count": null,
      "outputs": [
        {
          "name": "stdout",
          "text": "Test data accuracy: 88.36%\nClassification Report:\n                      precision    recall  f1-score   support\n\n      Cyber Security       0.95      0.90      0.93       152\n                DBMS       0.89      0.82      0.85       164\n  Data Communication       0.89      0.94      0.91       148\n    Operating System       0.82      0.85      0.84       132\nSoftware Engineering       0.86      0.91      0.88       134\n\n            accuracy                           0.88       730\n           macro avg       0.88      0.88      0.88       730\n        weighted avg       0.88      0.88      0.88       730\n\n",
          "output_type": "stream"
        }
      ]
    },
    {
      "cell_type": "code",
      "source": [
        "# Import the necessary libraries\n",
        "from ktrain import text\n",
        "\n",
        "# Assuming 'learner' is your ktrain learner object\n",
        "# Get the underlying model from ktrain learner\n",
        "model = learner.model\n",
        "\n",
        "# Save the model\n",
        "model_name = 'xlm_roberta_model'\n",
        "model_path = f'/kaggle/working/{model_name}'\n",
        "\n",
        "# Save the model's weights and architecture\n",
        "model.save_pretrained(model_path)\n",
        "print(f\"Model saved to {model_path}\")"
      ],
      "metadata": {
        "execution": {
          "iopub.status.busy": "2024-05-19T08:36:44.297056Z",
          "iopub.execute_input": "2024-05-19T08:36:44.297851Z",
          "iopub.status.idle": "2024-05-19T08:36:46.493333Z",
          "shell.execute_reply.started": "2024-05-19T08:36:44.297813Z",
          "shell.execute_reply": "2024-05-19T08:36:46.492263Z"
        },
        "trusted": true,
        "id": "vyH6NNPX8VNg",
        "outputId": "05de2de2-23e1-4c8a-8498-5d59e4b932f3"
      },
      "execution_count": null,
      "outputs": [
        {
          "name": "stdout",
          "text": "Model saved to /kaggle/working/xlm_roberta_model\n",
          "output_type": "stream"
        }
      ]
    },
    {
      "cell_type": "code",
      "source": [],
      "metadata": {
        "id": "XNNNH5_N8VNh"
      },
      "execution_count": null,
      "outputs": []
    },
    {
      "cell_type": "code",
      "source": [
        "model_name = 'google-bert/bert-base-multilingual-cased'\n",
        "trans = text.Transformer(model_name,maxlen=100,class_names=categories)"
      ],
      "metadata": {
        "execution": {
          "iopub.status.busy": "2024-05-19T12:09:41.891448Z",
          "iopub.execute_input": "2024-05-19T12:09:41.892396Z",
          "iopub.status.idle": "2024-05-19T12:10:13.425206Z",
          "shell.execute_reply.started": "2024-05-19T12:09:41.892356Z",
          "shell.execute_reply": "2024-05-19T12:10:13.424367Z"
        },
        "trusted": true,
        "id": "OPGyjWh28VNh",
        "outputId": "8d5eec08-647d-4819-dd18-9108966e46c1",
        "colab": {
          "referenced_widgets": [
            "cd0e853389164de7b82f76ad22ee874e",
            "212923b041944912b4c24ab770263188"
          ]
        }
      },
      "execution_count": null,
      "outputs": [
        {
          "output_type": "display_data",
          "data": {
            "text/plain": "Downloading:   0%|          | 0.00/625 [00:00<?, ?B/s]",
            "application/vnd.jupyter.widget-view+json": {
              "version_major": 2,
              "version_minor": 0,
              "model_id": "cd0e853389164de7b82f76ad22ee874e"
            }
          },
          "metadata": {}
        },
        {
          "output_type": "display_data",
          "data": {
            "text/plain": "Downloading:   0%|          | 0.00/1.01G [00:00<?, ?B/s]",
            "application/vnd.jupyter.widget-view+json": {
              "version_major": 2,
              "version_minor": 0,
              "model_id": "212923b041944912b4c24ab770263188"
            }
          },
          "metadata": {}
        }
      ]
    },
    {
      "cell_type": "code",
      "source": [
        "train = trans.preprocess_train(X_train,y_train)\n",
        "valid = trans.preprocess_test(X_valid,y_valid)"
      ],
      "metadata": {
        "execution": {
          "iopub.status.busy": "2024-05-19T12:11:55.420552Z",
          "iopub.execute_input": "2024-05-19T12:11:55.420990Z",
          "iopub.status.idle": "2024-05-19T12:12:01.317246Z",
          "shell.execute_reply.started": "2024-05-19T12:11:55.420955Z",
          "shell.execute_reply": "2024-05-19T12:12:01.316412Z"
        },
        "trusted": true,
        "id": "juWbMV558VNi",
        "outputId": "78a183c7-706c-4ed4-d7eb-7fb2e5ba18c7",
        "colab": {
          "referenced_widgets": [
            "c14350c9ec2e4e91b2d71a9a8591ec25",
            "2ca0d074ee354c11a2ed6d25604601f2",
            "3dc3ce9723504694b7d5d406d78d67ed"
          ]
        }
      },
      "execution_count": null,
      "outputs": [
        {
          "name": "stdout",
          "text": "preprocessing train...\nlanguage: bn\ntrain sequence lengths:\n\tmean : 10\n\t95percentile : 19\n\t99percentile : 26\n",
          "output_type": "stream"
        },
        {
          "output_type": "display_data",
          "data": {
            "text/plain": "Downloading:   0%|          | 0.00/49.0 [00:00<?, ?B/s]",
            "application/vnd.jupyter.widget-view+json": {
              "version_major": 2,
              "version_minor": 0,
              "model_id": "c14350c9ec2e4e91b2d71a9a8591ec25"
            }
          },
          "metadata": {}
        },
        {
          "output_type": "display_data",
          "data": {
            "text/plain": "Downloading:   0%|          | 0.00/972k [00:00<?, ?B/s]",
            "application/vnd.jupyter.widget-view+json": {
              "version_major": 2,
              "version_minor": 0,
              "model_id": "2ca0d074ee354c11a2ed6d25604601f2"
            }
          },
          "metadata": {}
        },
        {
          "output_type": "display_data",
          "data": {
            "text/plain": "Downloading:   0%|          | 0.00/1.87M [00:00<?, ?B/s]",
            "application/vnd.jupyter.widget-view+json": {
              "version_major": 2,
              "version_minor": 0,
              "model_id": "3dc3ce9723504694b7d5d406d78d67ed"
            }
          },
          "metadata": {}
        },
        {
          "output_type": "display_data",
          "data": {
            "text/plain": "<IPython.core.display.HTML object>",
            "text/html": "\n<style>\n    /* Turns off some styling */\n    progress {\n        /* gets rid of default border in Firefox and Opera. */\n        border: none;\n        /* Needs to be in here for Safari polyfill so background images work as expected. */\n        background-size: auto;\n    }\n    progress:not([value]), progress:not([value])::-webkit-progress-bar {\n        background: repeating-linear-gradient(45deg, #7e7e7e, #7e7e7e 10px, #5c5c5c 10px, #5c5c5c 20px);\n    }\n    .progress-bar-interrupted, .progress-bar-interrupted::-webkit-progress-bar {\n        background: #F44336;\n    }\n</style>\n"
          },
          "metadata": {}
        },
        {
          "output_type": "display_data",
          "data": {
            "text/plain": "<IPython.core.display.HTML object>",
            "text/html": ""
          },
          "metadata": {}
        },
        {
          "name": "stdout",
          "text": "Is Multi-Label? False\npreprocessing test...\nlanguage: bn\ntest sequence lengths:\n\tmean : 10\n\t95percentile : 19\n\t99percentile : 25\n",
          "output_type": "stream"
        },
        {
          "output_type": "display_data",
          "data": {
            "text/plain": "<IPython.core.display.HTML object>",
            "text/html": "\n<style>\n    /* Turns off some styling */\n    progress {\n        /* gets rid of default border in Firefox and Opera. */\n        border: none;\n        /* Needs to be in here for Safari polyfill so background images work as expected. */\n        background-size: auto;\n    }\n    progress:not([value]), progress:not([value])::-webkit-progress-bar {\n        background: repeating-linear-gradient(45deg, #7e7e7e, #7e7e7e 10px, #5c5c5c 10px, #5c5c5c 20px);\n    }\n    .progress-bar-interrupted, .progress-bar-interrupted::-webkit-progress-bar {\n        background: #F44336;\n    }\n</style>\n"
          },
          "metadata": {}
        },
        {
          "output_type": "display_data",
          "data": {
            "text/plain": "<IPython.core.display.HTML object>",
            "text/html": ""
          },
          "metadata": {}
        }
      ]
    },
    {
      "cell_type": "code",
      "source": [
        "model = trans.get_classifier()"
      ],
      "metadata": {
        "execution": {
          "iopub.status.busy": "2024-05-19T12:12:03.858378Z",
          "iopub.execute_input": "2024-05-19T12:12:03.858750Z",
          "iopub.status.idle": "2024-05-19T12:12:05.811357Z",
          "shell.execute_reply.started": "2024-05-19T12:12:03.858720Z",
          "shell.execute_reply": "2024-05-19T12:12:05.810510Z"
        },
        "trusted": true,
        "id": "jeCHPz538VNi"
      },
      "execution_count": null,
      "outputs": []
    },
    {
      "cell_type": "code",
      "source": [
        "learner = ktrain.get_learner(model, train_data=train,val_data=valid, batch_size=32)"
      ],
      "metadata": {
        "execution": {
          "iopub.status.busy": "2024-05-19T12:12:09.119715Z",
          "iopub.execute_input": "2024-05-19T12:12:09.120092Z",
          "iopub.status.idle": "2024-05-19T12:12:10.641096Z",
          "shell.execute_reply.started": "2024-05-19T12:12:09.120060Z",
          "shell.execute_reply": "2024-05-19T12:12:10.640261Z"
        },
        "trusted": true,
        "id": "IpshqFPj8VNj"
      },
      "execution_count": null,
      "outputs": []
    },
    {
      "cell_type": "code",
      "source": [
        "from sklearn.utils import class_weight\n",
        "class_weights = class_weight.compute_class_weight('balanced'\n",
        "                                               ,classes = np.unique(train_data['enc_label'])\n",
        "                                               ,y = train_data['enc_label'])\n",
        "class_weights = dict(zip(np.unique(train_data['enc_label']), class_weights))"
      ],
      "metadata": {
        "execution": {
          "iopub.status.busy": "2024-05-19T12:12:13.768113Z",
          "iopub.execute_input": "2024-05-19T12:12:13.769023Z",
          "iopub.status.idle": "2024-05-19T12:12:13.961054Z",
          "shell.execute_reply.started": "2024-05-19T12:12:13.768990Z",
          "shell.execute_reply": "2024-05-19T12:12:13.959851Z"
        },
        "trusted": true,
        "id": "3M_raC0p8VNj"
      },
      "execution_count": null,
      "outputs": []
    },
    {
      "cell_type": "code",
      "source": [
        "weight = {i : class_weights[i] for i in range(5)}\n",
        "weight"
      ],
      "metadata": {
        "execution": {
          "iopub.status.busy": "2024-05-19T12:12:17.836816Z",
          "iopub.execute_input": "2024-05-19T12:12:17.837199Z",
          "iopub.status.idle": "2024-05-19T12:12:18.023314Z",
          "shell.execute_reply.started": "2024-05-19T12:12:17.837159Z",
          "shell.execute_reply": "2024-05-19T12:12:18.022211Z"
        },
        "trusted": true,
        "id": "2c_kg6MG8VNj",
        "outputId": "f3a52ebb-9f9e-49ea-db90-ad15ac9d752b"
      },
      "execution_count": null,
      "outputs": [
        {
          "execution_count": 51,
          "output_type": "execute_result",
          "data": {
            "text/plain": "{0: 1.0156521739130435,\n 1: 1.0656934306569343,\n 2: 0.9426957223567393,\n 3: 0.9175176747839748,\n 4: 1.0794824399260627}"
          },
          "metadata": {}
        }
      ]
    },
    {
      "cell_type": "code",
      "source": [
        "learner.fit_onecycle(2e-5,10,class_weight=weight)"
      ],
      "metadata": {
        "execution": {
          "iopub.status.busy": "2024-05-19T12:12:21.017592Z",
          "iopub.execute_input": "2024-05-19T12:12:21.018452Z",
          "iopub.status.idle": "2024-05-19T12:25:19.531443Z",
          "shell.execute_reply.started": "2024-05-19T12:12:21.018421Z",
          "shell.execute_reply": "2024-05-19T12:25:19.530583Z"
        },
        "trusted": true,
        "id": "GZ4AVRmv8VNk",
        "outputId": "d9e975c9-3792-40c8-f5cd-3e627c373eeb"
      },
      "execution_count": null,
      "outputs": [
        {
          "name": "stdout",
          "text": "\n\nbegin training using onecycle policy with max lr of 2e-05...\nEpoch 1/10\n183/183 [==============================] - 99s 429ms/step - loss: 1.5728 - accuracy: 0.2854 - val_loss: 1.3286 - val_accuracy: 0.5411\nEpoch 2/10\n183/183 [==============================] - 75s 412ms/step - loss: 0.9910 - accuracy: 0.6625 - val_loss: 0.6579 - val_accuracy: 0.8027\nEpoch 3/10\n183/183 [==============================] - 75s 413ms/step - loss: 0.5721 - accuracy: 0.8103 - val_loss: 0.5001 - val_accuracy: 0.8301\nEpoch 4/10\n183/183 [==============================] - 75s 412ms/step - loss: 0.3892 - accuracy: 0.8781 - val_loss: 0.4793 - val_accuracy: 0.8479\nEpoch 5/10\n183/183 [==============================] - 75s 412ms/step - loss: 0.3098 - accuracy: 0.8991 - val_loss: 0.4011 - val_accuracy: 0.8808\nEpoch 6/10\n183/183 [==============================] - 75s 412ms/step - loss: 0.2006 - accuracy: 0.9382 - val_loss: 0.4544 - val_accuracy: 0.8658\nEpoch 7/10\n183/183 [==============================] - 75s 412ms/step - loss: 0.1159 - accuracy: 0.9639 - val_loss: 0.4372 - val_accuracy: 0.8877\nEpoch 8/10\n183/183 [==============================] - 75s 412ms/step - loss: 0.0718 - accuracy: 0.9783 - val_loss: 0.4317 - val_accuracy: 0.8973\nEpoch 9/10\n183/183 [==============================] - 75s 412ms/step - loss: 0.0401 - accuracy: 0.9897 - val_loss: 0.4446 - val_accuracy: 0.8973\nEpoch 10/10\n183/183 [==============================] - 75s 412ms/step - loss: 0.0298 - accuracy: 0.9925 - val_loss: 0.4368 - val_accuracy: 0.8986\n",
          "output_type": "stream"
        },
        {
          "execution_count": 52,
          "output_type": "execute_result",
          "data": {
            "text/plain": "<keras.callbacks.History at 0x7f6cfc8e2490>"
          },
          "metadata": {}
        }
      ]
    },
    {
      "cell_type": "code",
      "source": [
        "learner.validate(class_names=categories)"
      ],
      "metadata": {
        "execution": {
          "iopub.status.busy": "2024-05-19T12:25:51.934321Z",
          "iopub.execute_input": "2024-05-19T12:25:51.935057Z",
          "iopub.status.idle": "2024-05-19T12:25:58.311410Z",
          "shell.execute_reply.started": "2024-05-19T12:25:51.935025Z",
          "shell.execute_reply": "2024-05-19T12:25:58.310169Z"
        },
        "trusted": true,
        "id": "WrD-fe9l8VNk",
        "outputId": "583e05a5-e38d-49ab-f836-6f63a0c5da02"
      },
      "execution_count": null,
      "outputs": [
        {
          "name": "stdout",
          "text": "                      precision    recall  f1-score   support\n\nSoftware Engineering       0.93      0.89      0.91       159\n                DBMS       0.86      0.90      0.88       141\n  Data Communication       0.88      0.93      0.91       147\n      Cyber Security       0.92      0.88      0.90       139\n    Operating System       0.90      0.89      0.90       144\n\n            accuracy                           0.90       730\n           macro avg       0.90      0.90      0.90       730\n        weighted avg       0.90      0.90      0.90       730\n\n",
          "output_type": "stream"
        },
        {
          "execution_count": 53,
          "output_type": "execute_result",
          "data": {
            "text/plain": "array([[141,   3,   9,   1,   5],\n       [  4, 127,   3,   3,   4],\n       [  0,   5, 137,   3,   2],\n       [  3,   8,   2, 123,   3],\n       [  3,   5,   4,   4, 128]])"
          },
          "metadata": {}
        }
      ]
    },
    {
      "cell_type": "code",
      "source": [
        "save_path = '/kaggle/working/mbert'\n",
        "ktrain.get_predictor(learner.model, preproc=trans).save(save_path)"
      ],
      "metadata": {
        "execution": {
          "iopub.status.busy": "2024-05-19T12:26:03.315349Z",
          "iopub.execute_input": "2024-05-19T12:26:03.316102Z",
          "iopub.status.idle": "2024-05-19T12:26:04.935940Z",
          "shell.execute_reply.started": "2024-05-19T12:26:03.316066Z",
          "shell.execute_reply": "2024-05-19T12:26:04.935095Z"
        },
        "trusted": true,
        "id": "xhVVQ9ES8VNl"
      },
      "execution_count": null,
      "outputs": []
    },
    {
      "cell_type": "code",
      "source": [
        "# Import necessary packages\n",
        "from sklearn.metrics import accuracy_score, classification_report\n",
        "import ktrain\n",
        "\n",
        "# Specify the file path for saving and loading the model in the Kaggle working directory\n",
        "save_path = '/kaggle/working/mbert'\n",
        "\n",
        "# Load the predictor from the specified path\n",
        "predictor = ktrain.load_predictor(save_path)\n",
        "\n",
        "# Assuming you have your test data available as 'X_test' and 'y_test' in your Kaggle environment\n",
        "# Make predictions on the test data using the loaded predictor\n",
        "y_pred = predictor.predict(X_test)\n",
        "\n",
        "# Calculate accuracy by comparing the predicted labels with true labels\n",
        "accuracy = accuracy_score(y_test, y_pred)\n",
        "print(f\"Test data accuracy: {accuracy:.2%}\")\n",
        "\n",
        "# Generate classification report\n",
        "report = classification_report(y_test, y_pred)\n",
        "\n",
        "# Print the classification report\n",
        "print(\"Classification Report:\")\n",
        "print(report)"
      ],
      "metadata": {
        "execution": {
          "iopub.status.busy": "2024-05-19T12:26:10.441908Z",
          "iopub.execute_input": "2024-05-19T12:26:10.442624Z",
          "iopub.status.idle": "2024-05-19T12:26:18.447935Z",
          "shell.execute_reply.started": "2024-05-19T12:26:10.442589Z",
          "shell.execute_reply": "2024-05-19T12:26:18.446920Z"
        },
        "trusted": true,
        "id": "O2J-yWb38VNl",
        "outputId": "0db7664b-a311-4eb9-bcac-afb5910da782"
      },
      "execution_count": null,
      "outputs": [
        {
          "name": "stdout",
          "text": "Test data accuracy: 89.45%\nClassification Report:\n                      precision    recall  f1-score   support\n\n      Cyber Security       0.92      0.89      0.91       152\n                DBMS       0.91      0.85      0.88       164\n  Data Communication       0.90      0.91      0.91       148\n    Operating System       0.86      0.90      0.88       132\nSoftware Engineering       0.87      0.93      0.90       134\n\n            accuracy                           0.89       730\n           macro avg       0.89      0.90      0.89       730\n        weighted avg       0.90      0.89      0.89       730\n\n",
          "output_type": "stream"
        }
      ]
    },
    {
      "cell_type": "code",
      "source": [
        "# Import the necessary libraries\n",
        "from ktrain import text\n",
        "\n",
        "# Assuming 'learner' is your ktrain learner object\n",
        "# Get the underlying model from ktrain learner\n",
        "model = learner.model\n",
        "\n",
        "# Save the model\n",
        "model_name = 'mbert_model'\n",
        "model_path = f'/kaggle/working/{model_name}'\n",
        "\n",
        "# Save the model's weights and architecture\n",
        "model.save_pretrained(model_path)\n",
        "print(f\"Model saved to {model_path}\")"
      ],
      "metadata": {
        "execution": {
          "iopub.status.busy": "2024-05-19T04:46:06.950330Z",
          "iopub.execute_input": "2024-05-19T04:46:06.950720Z",
          "iopub.status.idle": "2024-05-19T04:46:08.290847Z",
          "shell.execute_reply.started": "2024-05-19T04:46:06.950689Z",
          "shell.execute_reply": "2024-05-19T04:46:08.289739Z"
        },
        "trusted": true,
        "id": "UHeXszyI8VNm",
        "outputId": "b8890971-45c9-4ee6-de44-c106af513ef7"
      },
      "execution_count": null,
      "outputs": [
        {
          "name": "stdout",
          "text": "Model saved to /kaggle/working/mbert_model\n",
          "output_type": "stream"
        }
      ]
    },
    {
      "cell_type": "code",
      "source": [
        "model_name = 'distilbert-base-multilingual-cased'\n",
        "trans = text.Transformer(model_name,maxlen=100,class_names=categories)"
      ],
      "metadata": {
        "execution": {
          "iopub.status.busy": "2024-05-19T12:26:30.175131Z",
          "iopub.execute_input": "2024-05-19T12:26:30.175504Z",
          "iopub.status.idle": "2024-05-19T12:26:56.767307Z",
          "shell.execute_reply.started": "2024-05-19T12:26:30.175474Z",
          "shell.execute_reply": "2024-05-19T12:26:56.766447Z"
        },
        "trusted": true,
        "id": "h15uLCAq8VNn",
        "outputId": "7c36e19b-3ddf-43d7-a54b-a370e5438272",
        "colab": {
          "referenced_widgets": [
            "990ce05f0bd44a67b71d4da108d48350",
            "35276e77a2764dcdab3092fc22c45ad3"
          ]
        }
      },
      "execution_count": null,
      "outputs": [
        {
          "output_type": "display_data",
          "data": {
            "text/plain": "Downloading:   0%|          | 0.00/466 [00:00<?, ?B/s]",
            "application/vnd.jupyter.widget-view+json": {
              "version_major": 2,
              "version_minor": 0,
              "model_id": "990ce05f0bd44a67b71d4da108d48350"
            }
          },
          "metadata": {}
        },
        {
          "output_type": "display_data",
          "data": {
            "text/plain": "Downloading:   0%|          | 0.00/869M [00:00<?, ?B/s]",
            "application/vnd.jupyter.widget-view+json": {
              "version_major": 2,
              "version_minor": 0,
              "model_id": "35276e77a2764dcdab3092fc22c45ad3"
            }
          },
          "metadata": {}
        }
      ]
    },
    {
      "cell_type": "code",
      "source": [
        "train = trans.preprocess_train(X_train,y_train)\n",
        "valid = trans.preprocess_test(X_valid,y_valid)"
      ],
      "metadata": {
        "execution": {
          "iopub.status.busy": "2024-05-19T12:29:05.762636Z",
          "iopub.execute_input": "2024-05-19T12:29:05.763030Z",
          "iopub.status.idle": "2024-05-19T12:29:10.875238Z",
          "shell.execute_reply.started": "2024-05-19T12:29:05.762999Z",
          "shell.execute_reply": "2024-05-19T12:29:10.874335Z"
        },
        "trusted": true,
        "id": "AfyxQwh08VNn",
        "outputId": "0a7770f8-4bcd-4c44-a01b-04212c20232c",
        "colab": {
          "referenced_widgets": [
            "9e77f9c4d9f2491cad4ff57f84f2d4d7",
            "e0628d03da494882ac5b28f1726685c3",
            "bd2e7c7f2dfe443f8a4edccb1706b66f"
          ]
        }
      },
      "execution_count": null,
      "outputs": [
        {
          "name": "stdout",
          "text": "preprocessing train...\nlanguage: bn\ntrain sequence lengths:\n\tmean : 10\n\t95percentile : 19\n\t99percentile : 26\n",
          "output_type": "stream"
        },
        {
          "output_type": "display_data",
          "data": {
            "text/plain": "Downloading:   0%|          | 0.00/49.0 [00:00<?, ?B/s]",
            "application/vnd.jupyter.widget-view+json": {
              "version_major": 2,
              "version_minor": 0,
              "model_id": "9e77f9c4d9f2491cad4ff57f84f2d4d7"
            }
          },
          "metadata": {}
        },
        {
          "output_type": "display_data",
          "data": {
            "text/plain": "Downloading:   0%|          | 0.00/972k [00:00<?, ?B/s]",
            "application/vnd.jupyter.widget-view+json": {
              "version_major": 2,
              "version_minor": 0,
              "model_id": "e0628d03da494882ac5b28f1726685c3"
            }
          },
          "metadata": {}
        },
        {
          "output_type": "display_data",
          "data": {
            "text/plain": "Downloading:   0%|          | 0.00/1.87M [00:00<?, ?B/s]",
            "application/vnd.jupyter.widget-view+json": {
              "version_major": 2,
              "version_minor": 0,
              "model_id": "bd2e7c7f2dfe443f8a4edccb1706b66f"
            }
          },
          "metadata": {}
        },
        {
          "output_type": "display_data",
          "data": {
            "text/plain": "<IPython.core.display.HTML object>",
            "text/html": "\n<style>\n    /* Turns off some styling */\n    progress {\n        /* gets rid of default border in Firefox and Opera. */\n        border: none;\n        /* Needs to be in here for Safari polyfill so background images work as expected. */\n        background-size: auto;\n    }\n    progress:not([value]), progress:not([value])::-webkit-progress-bar {\n        background: repeating-linear-gradient(45deg, #7e7e7e, #7e7e7e 10px, #5c5c5c 10px, #5c5c5c 20px);\n    }\n    .progress-bar-interrupted, .progress-bar-interrupted::-webkit-progress-bar {\n        background: #F44336;\n    }\n</style>\n"
          },
          "metadata": {}
        },
        {
          "output_type": "display_data",
          "data": {
            "text/plain": "<IPython.core.display.HTML object>",
            "text/html": ""
          },
          "metadata": {}
        },
        {
          "name": "stdout",
          "text": "Is Multi-Label? False\npreprocessing test...\nlanguage: bn\ntest sequence lengths:\n\tmean : 10\n\t95percentile : 19\n\t99percentile : 25\n",
          "output_type": "stream"
        },
        {
          "output_type": "display_data",
          "data": {
            "text/plain": "<IPython.core.display.HTML object>",
            "text/html": "\n<style>\n    /* Turns off some styling */\n    progress {\n        /* gets rid of default border in Firefox and Opera. */\n        border: none;\n        /* Needs to be in here for Safari polyfill so background images work as expected. */\n        background-size: auto;\n    }\n    progress:not([value]), progress:not([value])::-webkit-progress-bar {\n        background: repeating-linear-gradient(45deg, #7e7e7e, #7e7e7e 10px, #5c5c5c 10px, #5c5c5c 20px);\n    }\n    .progress-bar-interrupted, .progress-bar-interrupted::-webkit-progress-bar {\n        background: #F44336;\n    }\n</style>\n"
          },
          "metadata": {}
        },
        {
          "output_type": "display_data",
          "data": {
            "text/plain": "<IPython.core.display.HTML object>",
            "text/html": ""
          },
          "metadata": {}
        }
      ]
    },
    {
      "cell_type": "code",
      "source": [
        "model = trans.get_classifier()"
      ],
      "metadata": {
        "execution": {
          "iopub.status.busy": "2024-05-19T12:29:21.143281Z",
          "iopub.execute_input": "2024-05-19T12:29:21.144039Z",
          "iopub.status.idle": "2024-05-19T12:29:22.276608Z",
          "shell.execute_reply.started": "2024-05-19T12:29:21.144005Z",
          "shell.execute_reply": "2024-05-19T12:29:22.275750Z"
        },
        "trusted": true,
        "id": "dZZYvLBI8VNo"
      },
      "execution_count": null,
      "outputs": []
    },
    {
      "cell_type": "code",
      "source": [
        "learner = ktrain.get_learner(model, train_data=train,val_data=valid, batch_size=32)"
      ],
      "metadata": {
        "execution": {
          "iopub.status.busy": "2024-05-19T12:29:27.932165Z",
          "iopub.execute_input": "2024-05-19T12:29:27.933009Z",
          "iopub.status.idle": "2024-05-19T12:29:28.876853Z",
          "shell.execute_reply.started": "2024-05-19T12:29:27.932976Z",
          "shell.execute_reply": "2024-05-19T12:29:28.876046Z"
        },
        "trusted": true,
        "id": "EudIsvc88VNo"
      },
      "execution_count": null,
      "outputs": []
    },
    {
      "cell_type": "code",
      "source": [
        "from sklearn.utils import class_weight\n",
        "class_weights = class_weight.compute_class_weight('balanced'\n",
        "                                               ,classes = np.unique(train_data['enc_label'])\n",
        "                                               ,y = train_data['enc_label'])\n",
        "class_weights = dict(zip(np.unique(train_data['enc_label']), class_weights))"
      ],
      "metadata": {
        "execution": {
          "iopub.status.busy": "2024-05-19T12:29:32.402760Z",
          "iopub.execute_input": "2024-05-19T12:29:32.403504Z",
          "iopub.status.idle": "2024-05-19T12:29:32.593080Z",
          "shell.execute_reply.started": "2024-05-19T12:29:32.403470Z",
          "shell.execute_reply": "2024-05-19T12:29:32.591821Z"
        },
        "trusted": true,
        "id": "bavfXtGU8VNp"
      },
      "execution_count": null,
      "outputs": []
    },
    {
      "cell_type": "code",
      "source": [
        "weight = {i : class_weights[i] for i in range(5)}\n",
        "weight"
      ],
      "metadata": {
        "execution": {
          "iopub.status.busy": "2024-05-19T12:29:35.849305Z",
          "iopub.execute_input": "2024-05-19T12:29:35.850087Z",
          "iopub.status.idle": "2024-05-19T12:29:36.035402Z",
          "shell.execute_reply.started": "2024-05-19T12:29:35.850051Z",
          "shell.execute_reply": "2024-05-19T12:29:36.034264Z"
        },
        "trusted": true,
        "id": "NSH_TIf_8VNq",
        "outputId": "e2a6fffb-1837-4cee-dd54-c778c2b90529"
      },
      "execution_count": null,
      "outputs": [
        {
          "execution_count": 61,
          "output_type": "execute_result",
          "data": {
            "text/plain": "{0: 1.0156521739130435,\n 1: 1.0656934306569343,\n 2: 0.9426957223567393,\n 3: 0.9175176747839748,\n 4: 1.0794824399260627}"
          },
          "metadata": {}
        }
      ]
    },
    {
      "cell_type": "code",
      "source": [
        "learner.fit_onecycle(2e-5,10,class_weight=weight)"
      ],
      "metadata": {
        "execution": {
          "iopub.status.busy": "2024-05-19T12:29:39.594520Z",
          "iopub.execute_input": "2024-05-19T12:29:39.595441Z",
          "iopub.status.idle": "2024-05-19T12:36:33.734173Z",
          "shell.execute_reply.started": "2024-05-19T12:29:39.595403Z",
          "shell.execute_reply": "2024-05-19T12:36:33.733310Z"
        },
        "trusted": true,
        "id": "85mhsa8k8VNr",
        "outputId": "c296c273-f1fe-4ca0-a958-7cef05bac1aa"
      },
      "execution_count": null,
      "outputs": [
        {
          "name": "stdout",
          "text": "\n\nbegin training using onecycle policy with max lr of 2e-05...\nEpoch 1/10\n183/183 [==============================] - 53s 231ms/step - loss: 1.5791 - accuracy: 0.2705 - val_loss: 1.4243 - val_accuracy: 0.4151\nEpoch 2/10\n183/183 [==============================] - 40s 219ms/step - loss: 1.1745 - accuracy: 0.5740 - val_loss: 0.8247 - val_accuracy: 0.7315\nEpoch 3/10\n183/183 [==============================] - 40s 219ms/step - loss: 0.7166 - accuracy: 0.7668 - val_loss: 0.6695 - val_accuracy: 0.7753\nEpoch 4/10\n183/183 [==============================] - 40s 219ms/step - loss: 0.4951 - accuracy: 0.8404 - val_loss: 0.5110 - val_accuracy: 0.8466\nEpoch 5/10\n183/183 [==============================] - 40s 219ms/step - loss: 0.3629 - accuracy: 0.8896 - val_loss: 0.4965 - val_accuracy: 0.8329\nEpoch 6/10\n183/183 [==============================] - 40s 219ms/step - loss: 0.2533 - accuracy: 0.9243 - val_loss: 0.4444 - val_accuracy: 0.8699\nEpoch 7/10\n183/183 [==============================] - 40s 219ms/step - loss: 0.1520 - accuracy: 0.9570 - val_loss: 0.4449 - val_accuracy: 0.8616\nEpoch 8/10\n183/183 [==============================] - 40s 219ms/step - loss: 0.0962 - accuracy: 0.9733 - val_loss: 0.4978 - val_accuracy: 0.8658\nEpoch 9/10\n183/183 [==============================] - 40s 219ms/step - loss: 0.0679 - accuracy: 0.9832 - val_loss: 0.4990 - val_accuracy: 0.8726\nEpoch 10/10\n183/183 [==============================] - 40s 219ms/step - loss: 0.0500 - accuracy: 0.9878 - val_loss: 0.5120 - val_accuracy: 0.8671\n",
          "output_type": "stream"
        },
        {
          "execution_count": 62,
          "output_type": "execute_result",
          "data": {
            "text/plain": "<keras.callbacks.History at 0x7f6d01c44690>"
          },
          "metadata": {}
        }
      ]
    },
    {
      "cell_type": "code",
      "source": [
        "learner.validate(class_names=categories)"
      ],
      "metadata": {
        "execution": {
          "iopub.status.busy": "2024-05-19T12:38:46.060497Z",
          "iopub.execute_input": "2024-05-19T12:38:46.060902Z",
          "iopub.status.idle": "2024-05-19T12:38:49.349527Z",
          "shell.execute_reply.started": "2024-05-19T12:38:46.060870Z",
          "shell.execute_reply": "2024-05-19T12:38:49.348305Z"
        },
        "trusted": true,
        "id": "AfDkeKlv8VNs",
        "outputId": "19e9e7be-7592-459a-8433-55d0a6057ade"
      },
      "execution_count": null,
      "outputs": [
        {
          "name": "stdout",
          "text": "                      precision    recall  f1-score   support\n\nSoftware Engineering       0.92      0.86      0.89       159\n                DBMS       0.78      0.89      0.83       141\n  Data Communication       0.91      0.88      0.89       147\n      Cyber Security       0.87      0.86      0.87       139\n    Operating System       0.87      0.85      0.86       144\n\n            accuracy                           0.87       730\n           macro avg       0.87      0.87      0.87       730\n        weighted avg       0.87      0.87      0.87       730\n\n",
          "output_type": "stream"
        },
        {
          "execution_count": 63,
          "output_type": "execute_result",
          "data": {
            "text/plain": "array([[136,   8,   4,   5,   6],\n       [  4, 126,   2,   5,   4],\n       [  0,  10, 129,   3,   5],\n       [  3,   8,   5, 120,   3],\n       [  5,  10,   2,   5, 122]])"
          },
          "metadata": {}
        }
      ]
    },
    {
      "cell_type": "code",
      "source": [
        "save_path = '/kaggle/working/dis'\n",
        "ktrain.get_predictor(learner.model, preproc=trans).save(save_path)"
      ],
      "metadata": {
        "execution": {
          "iopub.status.busy": "2024-05-19T12:38:53.901372Z",
          "iopub.execute_input": "2024-05-19T12:38:53.901771Z",
          "iopub.status.idle": "2024-05-19T12:38:55.138249Z",
          "shell.execute_reply.started": "2024-05-19T12:38:53.901738Z",
          "shell.execute_reply": "2024-05-19T12:38:55.137213Z"
        },
        "trusted": true,
        "id": "hqQOduUW8VNs"
      },
      "execution_count": null,
      "outputs": []
    },
    {
      "cell_type": "code",
      "source": [
        "# Import necessary packages\n",
        "from sklearn.metrics import accuracy_score, classification_report\n",
        "import ktrain\n",
        "\n",
        "# Specify the file path for saving and loading the model in the Kaggle working directory\n",
        "save_path = '/kaggle/working/dis'\n",
        "\n",
        "# Load the predictor from the specified path\n",
        "predictor = ktrain.load_predictor(save_path)\n",
        "\n",
        "# Assuming you have your test data available as 'X_test' and 'y_test' in your Kaggle environment\n",
        "# Make predictions on the test data using the loaded predictor\n",
        "y_pred = predictor.predict(X_test)\n",
        "\n",
        "# Calculate accuracy by comparing the predicted labels with true labels\n",
        "accuracy = accuracy_score(y_test, y_pred)\n",
        "print(f\"Test data accuracy: {accuracy:.2%}\")\n",
        "\n",
        "# Generate classification report\n",
        "report = classification_report(y_test, y_pred)\n",
        "\n",
        "# Print the classification report\n",
        "print(\"Classification Report:\")\n",
        "print(report)"
      ],
      "metadata": {
        "execution": {
          "iopub.status.busy": "2024-05-19T12:39:03.898307Z",
          "iopub.execute_input": "2024-05-19T12:39:03.898688Z",
          "iopub.status.idle": "2024-05-19T12:39:08.286188Z",
          "shell.execute_reply.started": "2024-05-19T12:39:03.898657Z",
          "shell.execute_reply": "2024-05-19T12:39:08.285133Z"
        },
        "trusted": true,
        "id": "rK-nqU1X8VNt",
        "outputId": "78123883-4a20-4168-a427-c657033aeeb1"
      },
      "execution_count": null,
      "outputs": [
        {
          "name": "stdout",
          "text": "Test data accuracy: 86.44%\nClassification Report:\n                      precision    recall  f1-score   support\n\n      Cyber Security       0.89      0.84      0.86       152\n                DBMS       0.85      0.86      0.85       164\n  Data Communication       0.90      0.90      0.90       148\n    Operating System       0.83      0.86      0.84       132\nSoftware Engineering       0.85      0.87      0.86       134\n\n            accuracy                           0.86       730\n           macro avg       0.86      0.86      0.86       730\n        weighted avg       0.87      0.86      0.86       730\n\n",
          "output_type": "stream"
        }
      ]
    },
    {
      "cell_type": "code",
      "source": [
        "# Import necessary packages\n",
        "import ktrain\n",
        "import numpy as np\n",
        "from sklearn.metrics import accuracy_score, classification_report\n",
        "from scipy import stats\n",
        "\n",
        "# Load the predictors (models) from the specified directories\n",
        "predictor_disbert = ktrain.load_predictor('/kaggle/working/dis')\n",
        "predictor_mbert = ktrain.load_predictor('/kaggle/working/mbert')\n",
        "\n",
        "\n",
        "# Assuming you have your test data available as 'X_test' and 'y_test'\n",
        "# Make predictions on the test data using each of the loaded predictors\n",
        "y_pred_disbert = predictor_disbert.predict(X_test)\n",
        "y_pred_mbert = predictor_mbert.predict(X_test)\n",
        "\n",
        "# Ensemble the predictions using majority voting\n",
        "# Majority voting: For each sample, choose the most common prediction among the models\n",
        "y_pred_ensemble = stats.mode([ y_pred_disbert, y_pred_mbert], axis=0)[0][0]\n",
        "\n",
        "# Calculate accuracy by comparing the ensemble predictions with true labels\n",
        "accuracy = accuracy_score(y_test, y_pred_ensemble)\n",
        "print(f\"Ensemble test data accuracy: {accuracy:.2%}\")\n",
        "\n",
        "# Generate classification report for the ensemble predictions\n",
        "report = classification_report(y_test, y_pred_ensemble)\n",
        "\n",
        "# Print the classification report\n",
        "print(\"Ensemble classification report distilbert+mbert:\")\n",
        "print(report)"
      ],
      "metadata": {
        "execution": {
          "iopub.status.busy": "2024-05-19T12:43:12.125462Z",
          "iopub.execute_input": "2024-05-19T12:43:12.126603Z",
          "iopub.status.idle": "2024-05-19T12:43:24.184981Z",
          "shell.execute_reply.started": "2024-05-19T12:43:12.126562Z",
          "shell.execute_reply": "2024-05-19T12:43:24.183948Z"
        },
        "trusted": true,
        "id": "tLJycjT_8VNu",
        "outputId": "ff63d0ae-4280-4a55-d85a-224ee4e5c27f"
      },
      "execution_count": null,
      "outputs": [
        {
          "name": "stdout",
          "text": "Ensemble test data accuracy: 88.36%\nEnsemble classification report distilbert+mbert:\n                      precision    recall  f1-score   support\n\n      Cyber Security       0.86      0.91      0.88       152\n                DBMS       0.86      0.91      0.88       164\n  Data Communication       0.90      0.90      0.90       148\n    Operating System       0.89      0.86      0.87       132\nSoftware Engineering       0.92      0.84      0.88       134\n\n            accuracy                           0.88       730\n           macro avg       0.89      0.88      0.88       730\n        weighted avg       0.88      0.88      0.88       730\n\n",
          "output_type": "stream"
        }
      ]
    },
    {
      "cell_type": "code",
      "source": [
        "import ktrain\n",
        "import numpy as np\n",
        "from sklearn.metrics import accuracy_score, classification_report\n",
        "from scipy import stats\n",
        "\n",
        "# Load the predictors (models) from the specified directories\n",
        "predictor_roberta = ktrain.load_predictor('/kaggle/working/roberta')\n",
        "predictor_disbert = ktrain.load_predictor('/kaggle/working/dis')\n",
        "\n",
        "\n",
        "# Assuming you have your test data available as 'X_test' and 'y_test'\n",
        "# Make predictions on the test data using each of the loaded predictors\n",
        "y_pred_roberta = predictor_roberta.predict(X_test)\n",
        "y_pred_disbert = predictor_disbert.predict(X_test)\n",
        "\n",
        "# Ensemble the predictions using majority voting\n",
        "# Majority voting: For each sample, choose the most common prediction among the models\n",
        "y_pred_ensemble = stats.mode([ y_pred_roberta, y_pred_disbert], axis=0)[0][0]\n",
        "\n",
        "# Calculate accuracy by comparing the ensemble predictions with true labels\n",
        "accuracy = accuracy_score(y_test, y_pred_ensemble)\n",
        "print(f\"Ensemble test data accuracy: {accuracy:.2%}\")\n",
        "\n",
        "# Generate classification report for the ensemble predictions\n",
        "report = classification_report(y_test, y_pred_ensemble)\n",
        "\n",
        "# Print the classification report\n",
        "print(\"Ensemble classification report roberta+distil m bert:\")\n",
        "print(report)"
      ],
      "metadata": {
        "execution": {
          "iopub.status.busy": "2024-05-19T12:39:57.758446Z",
          "iopub.execute_input": "2024-05-19T12:39:57.759389Z",
          "iopub.status.idle": "2024-05-19T12:40:11.169342Z",
          "shell.execute_reply.started": "2024-05-19T12:39:57.759350Z",
          "shell.execute_reply": "2024-05-19T12:40:11.168276Z"
        },
        "trusted": true,
        "id": "ajng28dR8VNv",
        "outputId": "217f56d7-c7e2-4130-9817-4bfb0e181a36"
      },
      "execution_count": null,
      "outputs": [
        {
          "name": "stdout",
          "text": "Ensemble test data accuracy: 88.08%\nEnsemble classification report roberta+distil m bert:\n                      precision    recall  f1-score   support\n\n      Cyber Security       0.87      0.93      0.90       152\n                DBMS       0.83      0.88      0.86       164\n  Data Communication       0.92      0.93      0.92       148\n    Operating System       0.88      0.83      0.86       132\nSoftware Engineering       0.92      0.82      0.87       134\n\n            accuracy                           0.88       730\n           macro avg       0.88      0.88      0.88       730\n        weighted avg       0.88      0.88      0.88       730\n\n",
          "output_type": "stream"
        }
      ]
    },
    {
      "cell_type": "code",
      "source": [
        "# Import necessary packages\n",
        "import ktrain\n",
        "import numpy as np\n",
        "from sklearn.metrics import accuracy_score, classification_report\n",
        "from scipy import stats\n",
        "\n",
        "# Load the predictors (models) from the specified directories\n",
        "predictor_disbert = ktrain.load_predictor('/kaggle/working/dis')\n",
        "predictor_roberta = ktrain.load_predictor('/kaggle/working/roberta')\n",
        "predictor_mbert = ktrain.load_predictor('/kaggle/working/mbert')\n",
        "\n",
        "# Assuming you have your test data available as 'X_test' and 'y_test'\n",
        "# Make predictions on the test data using each of the loaded predictors\n",
        "y_pred_disbert = predictor_disbert.predict(X_test)\n",
        "y_pred_roberta = predictor_roberta.predict(X_test)\n",
        "y_pred_mbert = predictor_mbert.predict(X_test)\n",
        "\n",
        "# Ensemble the predictions using majority voting\n",
        "# Majority voting: For each sample, choose the most common prediction among the models\n",
        "y_pred_ensemble = stats.mode([y_pred_disbert, y_pred_roberta, y_pred_mbert], axis=0)[0][0]\n",
        "\n",
        "# Calculate accuracy by comparing the ensemble predictions with true labels\n",
        "accuracy = accuracy_score(y_test, y_pred_ensemble)\n",
        "print(f\"Ensemble test data accuracy: {accuracy:.2%}\")\n",
        "\n",
        "# Generate classification report for the ensemble predictions\n",
        "report = classification_report(y_test, y_pred_ensemble)\n",
        "\n",
        "# Print the classification report\n",
        "print(\"Ensemble classification report:\")\n",
        "print(report)"
      ],
      "metadata": {
        "execution": {
          "iopub.status.busy": "2024-05-19T05:04:13.918593Z",
          "iopub.execute_input": "2024-05-19T05:04:13.919283Z",
          "iopub.status.idle": "2024-05-19T05:04:28.054374Z",
          "shell.execute_reply.started": "2024-05-19T05:04:13.919250Z",
          "shell.execute_reply": "2024-05-19T05:04:28.053358Z"
        },
        "trusted": true,
        "id": "lYResFFz8VNv",
        "outputId": "4fcdcae4-aa17-45cf-81f6-63fa19b5a6df"
      },
      "execution_count": null,
      "outputs": [
        {
          "name": "stdout",
          "text": "Ensemble test data accuracy: 90.00%\nEnsemble classification report:\n                      precision    recall  f1-score   support\n\n      Cyber Security       0.89      0.93      0.91       152\n                DBMS       0.90      0.91      0.91       164\n  Data Communication       0.90      0.94      0.92       148\n    Operating System       0.87      0.89      0.88       132\nSoftware Engineering       0.94      0.82      0.88       134\n\n            accuracy                           0.90       730\n           macro avg       0.90      0.90      0.90       730\n        weighted avg       0.90      0.90      0.90       730\n\n",
          "output_type": "stream"
        }
      ]
    }
  ]
}