{
  "metadata": {
    "kernelspec": {
      "language": "python",
      "display_name": "Python 3",
      "name": "python3"
    },
    "language_info": {
      "name": "python",
      "version": "3.7.12",
      "mimetype": "text/x-python",
      "codemirror_mode": {
        "name": "ipython",
        "version": 3
      },
      "pygments_lexer": "ipython3",
      "nbconvert_exporter": "python",
      "file_extension": ".py"
    },
    "kaggle": {
      "accelerator": "none",
      "dataSources": [
        {
          "sourceId": 2143,
          "sourceType": "datasetVersion",
          "datasetId": 1192
        },
        {
          "sourceId": 8367137,
          "sourceType": "datasetVersion",
          "datasetId": 4973748
        },
        {
          "sourceId": 8367156,
          "sourceType": "datasetVersion",
          "datasetId": 4973762
        }
      ],
      "dockerImageVersionId": 30357,
      "isInternetEnabled": true,
      "language": "python",
      "sourceType": "notebook",
      "isGpuEnabled": false
    },
    "colab": {
      "name": "bangla bert+roberta+mbert+distilmbert ensemble",
      "provenance": []
    }
  },
  "nbformat_minor": 0,
  "nbformat": 4,
  "cells": [
    {
      "source": [
        "\n",
        "# IMPORTANT: RUN THIS CELL IN ORDER TO IMPORT YOUR KAGGLE DATA SOURCES\n",
        "# TO THE CORRECT LOCATION (/kaggle/input) IN YOUR NOTEBOOK,\n",
        "# THEN FEEL FREE TO DELETE THIS CELL.\n",
        "# NOTE: THIS NOTEBOOK ENVIRONMENT DIFFERS FROM KAGGLE'S PYTHON\n",
        "# ENVIRONMENT SO THERE MAY BE MISSING LIBRARIES USED BY YOUR\n",
        "# NOTEBOOK.\n",
        "\n",
        "import os\n",
        "import sys\n",
        "from tempfile import NamedTemporaryFile\n",
        "from urllib.request import urlopen\n",
        "from urllib.parse import unquote, urlparse\n",
        "from urllib.error import HTTPError\n",
        "from zipfile import ZipFile\n",
        "import tarfile\n",
        "import shutil\n",
        "\n",
        "CHUNK_SIZE = 40960\n",
        "DATA_SOURCE_MAPPING = 'news-articles:https%3A%2F%2Fstorage.googleapis.com%2Fkaggle-data-sets%2F1192%2F2143%2Fbundle%2Farchive.zip%3FX-Goog-Algorithm%3DGOOG4-RSA-SHA256%26X-Goog-Credential%3Dgcp-kaggle-com%2540kaggle-161607.iam.gserviceaccount.com%252F20240520%252Fauto%252Fstorage%252Fgoog4_request%26X-Goog-Date%3D20240520T172514Z%26X-Goog-Expires%3D259200%26X-Goog-SignedHeaders%3Dhost%26X-Goog-Signature%3D75d7de9f57fa1e927dd36911b833cbbb8a6545b1de83e7082b4f7ec1232105d8a82fcd5c0b1070772d6ee90ab90b185c065056bb04dddf38a94308fe9537e8d0da32eaf6e0ed433edb918f8562ccaeadcefcf33d11a36689787c28c5398d43b4a223ec67fcdee84abd56a30fe27bf676be6baa15d89a7b49442a9cb7a25a63ef8983bc97534d2a27f67f510b72cbeb592c9ade48b133a71f2a3abfc3de7b9ed2b7df0695bc64dc8942eb634b3c0d65bd097b03d013e966125249504da3512765412781379ab7c119d0d8aab83aed031f5b44ffd896b08660e3bb35f7e32a310bda40db4c93b93e611d0e5101297a69547716c9cd416ecbbac04762a82aeb8d8e,thesis2:https%3A%2F%2Fstorage.googleapis.com%2Fkaggle-data-sets%2F4973748%2F8367137%2Fbundle%2Farchive.zip%3FX-Goog-Algorithm%3DGOOG4-RSA-SHA256%26X-Goog-Credential%3Dgcp-kaggle-com%2540kaggle-161607.iam.gserviceaccount.com%252F20240520%252Fauto%252Fstorage%252Fgoog4_request%26X-Goog-Date%3D20240520T172514Z%26X-Goog-Expires%3D259200%26X-Goog-SignedHeaders%3Dhost%26X-Goog-Signature%3D08a5fd4aa4c368dc0bc923f6ca1535d43c72c36c0724e35339d214785a8cc37cb486aea3d6bd10304ee2b3265aaf54f90fcc7a5f1c60d0862554066d1c4315974f983c63721d99fcd58cb946fa28c5a8646618148693556ff701267d543738e652fb51cd011b70cbaba62ed047eeea1f16562b497dc992d1dec0a45435f2a9cbafd74ef5e800ff12da20d539084f07537680bcc2d5ef1488bf027d76eb5633f3089120ae0438ba02bb59199803a5477b2ce5fcf93ada0e121ed54698136bc434d14a64fa25293002ee81dccba507cbc6e6a0dcab848a560d83cf5c069465d7afd8af7764c7fc38af5fc001559c285c9afa6aa0f1d2edad7c951039a5940fe2b3,kalpurushfont:https%3A%2F%2Fstorage.googleapis.com%2Fkaggle-data-sets%2F4973762%2F8367156%2Fbundle%2Farchive.zip%3FX-Goog-Algorithm%3DGOOG4-RSA-SHA256%26X-Goog-Credential%3Dgcp-kaggle-com%2540kaggle-161607.iam.gserviceaccount.com%252F20240520%252Fauto%252Fstorage%252Fgoog4_request%26X-Goog-Date%3D20240520T172514Z%26X-Goog-Expires%3D259200%26X-Goog-SignedHeaders%3Dhost%26X-Goog-Signature%3D6e5bd21c00ac58f239f18374188708db8dc5d749247d01b61f089affb5cbf0d36da091f82fb324676a0efe80462e915a0c6532e80a0862cbd72c9320433be50d26ec65f6bde6eb18383b2ab8748ad122723f6cb8c4d97a6a6afc753967a9756ccaffe089c63187aef0207e3639788d37aefcffbfa87e8e691ccf84e573ee09f7afe0e03be1f33912a5b1bcd2586623c409dffc939a650a6f4b857e37306e2ef7c5832795ceaf49b65b2fd2166608a83261dcdd786a83075d5bc1f92eddc66e24c79cd6c6a73a68e3d0ad3ebdaab114fbc6df41dfb217bea976817f7dab660135b6d431b4d526e25170bd2023c12cda501b3f63443636985c342f97846a6f1f3e'\n",
        "\n",
        "KAGGLE_INPUT_PATH='/kaggle/input'\n",
        "KAGGLE_WORKING_PATH='/kaggle/working'\n",
        "KAGGLE_SYMLINK='kaggle'\n",
        "\n",
        "!umount /kaggle/input/ 2> /dev/null\n",
        "shutil.rmtree('/kaggle/input', ignore_errors=True)\n",
        "os.makedirs(KAGGLE_INPUT_PATH, 0o777, exist_ok=True)\n",
        "os.makedirs(KAGGLE_WORKING_PATH, 0o777, exist_ok=True)\n",
        "\n",
        "try:\n",
        "  os.symlink(KAGGLE_INPUT_PATH, os.path.join(\"..\", 'input'), target_is_directory=True)\n",
        "except FileExistsError:\n",
        "  pass\n",
        "try:\n",
        "  os.symlink(KAGGLE_WORKING_PATH, os.path.join(\"..\", 'working'), target_is_directory=True)\n",
        "except FileExistsError:\n",
        "  pass\n",
        "\n",
        "for data_source_mapping in DATA_SOURCE_MAPPING.split(','):\n",
        "    directory, download_url_encoded = data_source_mapping.split(':')\n",
        "    download_url = unquote(download_url_encoded)\n",
        "    filename = urlparse(download_url).path\n",
        "    destination_path = os.path.join(KAGGLE_INPUT_PATH, directory)\n",
        "    try:\n",
        "        with urlopen(download_url) as fileres, NamedTemporaryFile() as tfile:\n",
        "            total_length = fileres.headers['content-length']\n",
        "            print(f'Downloading {directory}, {total_length} bytes compressed')\n",
        "            dl = 0\n",
        "            data = fileres.read(CHUNK_SIZE)\n",
        "            while len(data) > 0:\n",
        "                dl += len(data)\n",
        "                tfile.write(data)\n",
        "                done = int(50 * dl / int(total_length))\n",
        "                sys.stdout.write(f\"\\r[{'=' * done}{' ' * (50-done)}] {dl} bytes downloaded\")\n",
        "                sys.stdout.flush()\n",
        "                data = fileres.read(CHUNK_SIZE)\n",
        "            if filename.endswith('.zip'):\n",
        "              with ZipFile(tfile) as zfile:\n",
        "                zfile.extractall(destination_path)\n",
        "            else:\n",
        "              with tarfile.open(tfile.name) as tarfile:\n",
        "                tarfile.extractall(destination_path)\n",
        "            print(f'\\nDownloaded and uncompressed: {directory}')\n",
        "    except HTTPError as e:\n",
        "        print(f'Failed to load (likely expired) {download_url} to path {destination_path}')\n",
        "        continue\n",
        "    except OSError as e:\n",
        "        print(f'Failed to load {download_url} to path {destination_path}')\n",
        "        continue\n",
        "\n",
        "print('Data source import complete.')\n"
      ],
      "metadata": {
        "id": "2BvW4wiwV9jL"
      },
      "cell_type": "code",
      "outputs": [],
      "execution_count": null
    },
    {
      "cell_type": "code",
      "source": [
        "import numpy as np # linear algebra\n",
        "import pandas as pd # data processing, CSV file I/O (e.g. pd.read_csv)\n",
        "\n",
        "# Input data files are available in the read-only \"../input/\" directory\n",
        "# For example, running this (by clicking run or pressing Shift+Enter) will list all files under the input directory\n",
        "\n",
        "import os\n",
        "for dirname, _, filenames in os.walk('/kaggle/input'):\n",
        "    for filename in filenames:\n",
        "        print(os.path.join(dirname, filename))"
      ],
      "metadata": {
        "_uuid": "8f2839f25d086af736a60e9eeb907d3b93b6e0e5",
        "_cell_guid": "b1076dfc-b9ad-4769-8c92-a6c4dae69d19",
        "execution": {
          "iopub.status.busy": "2024-05-20T15:58:28.504899Z",
          "iopub.execute_input": "2024-05-20T15:58:28.505458Z",
          "iopub.status.idle": "2024-05-20T15:58:28.5402Z",
          "shell.execute_reply.started": "2024-05-20T15:58:28.50538Z",
          "shell.execute_reply": "2024-05-20T15:58:28.539275Z"
        },
        "trusted": true,
        "id": "TtHf5bmiV9jP",
        "outputId": "446a1cea-845f-4398-8693-1f80d7a12142"
      },
      "execution_count": null,
      "outputs": [
        {
          "name": "stdout",
          "text": "/kaggle/input/thesis2/merged.csv\n/kaggle/input/news-articles/Articles.csv\n/kaggle/input/kalpurushfont/Siyamrupali.ttf\n",
          "output_type": "stream"
        }
      ]
    },
    {
      "cell_type": "code",
      "source": [
        "%%time\n",
        "import os\n",
        "from glob import glob\n",
        "import numpy as np\n",
        "import matplotlib.pyplot as plt\n",
        "%matplotlib inline\n",
        "import pandas as pd\n",
        "import seaborn as sns\n",
        "import re\n",
        "import nltk\n",
        "import json\n",
        "from sklearn.preprocessing import MultiLabelBinarizer\n",
        "from sklearn.metrics import confusion_matrix\n",
        "from sklearn.metrics import classification_report\n",
        "from sklearn.model_selection import train_test_split\n",
        "from sklearn.linear_model import LogisticRegression\n",
        "from sklearn.tree import DecisionTreeClassifier\n",
        "from sklearn.ensemble import RandomForestClassifier\n",
        "from sklearn.linear_model import SGDClassifier\n",
        "from sklearn.naive_bayes import MultinomialNB\n",
        "from sklearn.ensemble import VotingClassifier\n",
        "from sklearn.ensemble import BaggingClassifier\n",
        "from sklearn.ensemble import AdaBoostClassifier, RandomForestClassifier, ExtraTreesClassifier\n",
        "from sklearn.svm import SVC\n",
        "from sklearn.metrics import accuracy_score,precision_score,recall_score,f1_score,roc_auc_score\n",
        "from sklearn.metrics import average_precision_score,roc_auc_score, roc_curve, precision_recall_curve\n",
        "from sklearn.preprocessing import LabelEncoder\n",
        "from sklearn.feature_extraction.text import TfidfVectorizer\n",
        "np.random.seed(42)\n",
        "import nltk\n",
        "nltk.download('punkt')\n",
        "from nltk.corpus import stopwords\n",
        "from nltk.tokenize import word_tokenize\n",
        "from nltk.tokenize import ToktokTokenizer\n",
        "import nltk, string, re, spacy,unicodedata, random\n",
        "from bs4 import BeautifulSoup\n",
        "import warnings\n",
        "warnings.filterwarnings('ignore')"
      ],
      "metadata": {
        "execution": {
          "iopub.status.busy": "2024-05-20T15:58:32.482136Z",
          "iopub.execute_input": "2024-05-20T15:58:32.482917Z",
          "iopub.status.idle": "2024-05-20T15:58:44.407535Z",
          "shell.execute_reply.started": "2024-05-20T15:58:32.482881Z",
          "shell.execute_reply": "2024-05-20T15:58:44.406455Z"
        },
        "trusted": true,
        "id": "O1alx0o1V9jR",
        "outputId": "cbb9b581-185c-4465-e3f5-7b0705a65ea1"
      },
      "execution_count": null,
      "outputs": [
        {
          "name": "stderr",
          "text": "[nltk_data] Downloading package punkt to /usr/share/nltk_data...\n[nltk_data]   Package punkt is already up-to-date!\n",
          "output_type": "stream"
        },
        {
          "name": "stdout",
          "text": "CPU times: user 5.12 s, sys: 1.2 s, total: 6.32 s\nWall time: 11.9 s\n",
          "output_type": "stream"
        }
      ]
    },
    {
      "cell_type": "code",
      "source": [
        "import pandas as pd\n",
        "data = pd.read_csv(\"/kaggle/input/thesis2/merged.csv\")\n",
        "print(f'Total number of Documents: {len(data)}')"
      ],
      "metadata": {
        "execution": {
          "iopub.status.busy": "2024-05-20T15:58:54.585035Z",
          "iopub.execute_input": "2024-05-20T15:58:54.585726Z",
          "iopub.status.idle": "2024-05-20T15:58:54.713711Z",
          "shell.execute_reply.started": "2024-05-20T15:58:54.585685Z",
          "shell.execute_reply": "2024-05-20T15:58:54.712636Z"
        },
        "trusted": true,
        "id": "iVOmT77PV9jS",
        "outputId": "6e5e3817-5f39-4fdd-e11d-7ed7575e9f58"
      },
      "execution_count": null,
      "outputs": [
        {
          "name": "stdout",
          "text": "Total number of Documents: 7300\n",
          "output_type": "stream"
        }
      ]
    },
    {
      "cell_type": "code",
      "source": [
        "import pandas as pd\n",
        "\n",
        "# Assuming your dataset is stored in a DataFrame called 'df'\n",
        "# Replace 'clean text' with the actual column name in your dataset\n",
        "duplicates = data[data.duplicated(subset='text', keep=False)]\n",
        "\n",
        "# 'duplicates' now contains all rows where the 'clean text' column has duplicate values\n",
        "# You can inspect these entries to understand why they are duplicated\n",
        "\n",
        "# To print the count of duplicated rows:\n",
        "print(f\"Number of duplicated rows: {len(duplicates)}\")"
      ],
      "metadata": {
        "execution": {
          "iopub.status.busy": "2024-05-20T15:58:58.102189Z",
          "iopub.execute_input": "2024-05-20T15:58:58.102905Z",
          "iopub.status.idle": "2024-05-20T15:58:58.120806Z",
          "shell.execute_reply.started": "2024-05-20T15:58:58.102867Z",
          "shell.execute_reply": "2024-05-20T15:58:58.119838Z"
        },
        "trusted": true,
        "id": "MccmgH9HV9jS",
        "outputId": "208fd889-035d-48de-dd62-d15588ad0222"
      },
      "execution_count": null,
      "outputs": [
        {
          "name": "stdout",
          "text": "Number of duplicated rows: 0\n",
          "output_type": "stream"
        }
      ]
    },
    {
      "cell_type": "code",
      "source": [
        "data = data[['text','label']]"
      ],
      "metadata": {
        "execution": {
          "iopub.status.busy": "2024-05-20T15:59:06.117219Z",
          "iopub.execute_input": "2024-05-20T15:59:06.118067Z",
          "iopub.status.idle": "2024-05-20T15:59:06.123593Z",
          "shell.execute_reply.started": "2024-05-20T15:59:06.118028Z",
          "shell.execute_reply": "2024-05-20T15:59:06.122653Z"
        },
        "trusted": true,
        "id": "KEnpx5ljV9jT"
      },
      "execution_count": null,
      "outputs": []
    },
    {
      "cell_type": "code",
      "source": [
        "data = data.rename(columns={0:'text',1:'label'})"
      ],
      "metadata": {
        "execution": {
          "iopub.status.busy": "2024-05-20T15:59:08.671469Z",
          "iopub.execute_input": "2024-05-20T15:59:08.671864Z",
          "iopub.status.idle": "2024-05-20T15:59:08.678272Z",
          "shell.execute_reply.started": "2024-05-20T15:59:08.671827Z",
          "shell.execute_reply": "2024-05-20T15:59:08.677252Z"
        },
        "trusted": true,
        "id": "Hm83JGVcV9jU"
      },
      "execution_count": null,
      "outputs": []
    },
    {
      "cell_type": "code",
      "source": [
        "total_categories = data['label'].nunique()\n",
        "print(\"Total number of categories:\", total_categories)"
      ],
      "metadata": {
        "execution": {
          "iopub.status.busy": "2024-05-20T15:59:11.673062Z",
          "iopub.execute_input": "2024-05-20T15:59:11.673448Z",
          "iopub.status.idle": "2024-05-20T15:59:11.680838Z",
          "shell.execute_reply.started": "2024-05-20T15:59:11.673415Z",
          "shell.execute_reply": "2024-05-20T15:59:11.679631Z"
        },
        "trusted": true,
        "id": "9TZ3PwUEV9jU",
        "outputId": "d7bf3da2-b731-4b69-ce20-33579094183e"
      },
      "execution_count": null,
      "outputs": [
        {
          "name": "stdout",
          "text": "Total number of categories: 6\n",
          "output_type": "stream"
        }
      ]
    },
    {
      "cell_type": "code",
      "source": [
        "# Assuming 'data' is your DataFrame with columns renamed\n",
        "category_names = data['label'].unique()\n",
        "print(\"Category names:\", category_names)"
      ],
      "metadata": {
        "execution": {
          "iopub.status.busy": "2024-05-20T15:59:18.407657Z",
          "iopub.execute_input": "2024-05-20T15:59:18.408043Z",
          "iopub.status.idle": "2024-05-20T15:59:18.414804Z",
          "shell.execute_reply.started": "2024-05-20T15:59:18.40801Z",
          "shell.execute_reply": "2024-05-20T15:59:18.41354Z"
        },
        "trusted": true,
        "id": "BpSV-I1SV9jU",
        "outputId": "91c8930c-793a-46b3-9988-9d7382882d24"
      },
      "execution_count": null,
      "outputs": [
        {
          "name": "stdout",
          "text": "Category names: ['Software Engineering' 'DBMS' 'Data Communication' 'Cyber Security '\n 'Operating System' 'Cyber Security']\n",
          "output_type": "stream"
        }
      ]
    },
    {
      "cell_type": "code",
      "source": [
        "# Replace 'Cyber Security' and 'Cyber Security ' with 'Cyber Security'\n",
        "data['label'] = data['label'].replace(['Cyber Security ', 'Cyber Security  '], 'Cyber Security')\n",
        "\n",
        "# Replace 'Operating System' and 'operating System' with 'Operating System'\n",
        "data['label'] = data['label'].replace(['Operating System', 'operating System'], 'Operating System')"
      ],
      "metadata": {
        "execution": {
          "iopub.status.busy": "2024-05-20T15:59:23.923057Z",
          "iopub.execute_input": "2024-05-20T15:59:23.923457Z",
          "iopub.status.idle": "2024-05-20T15:59:23.934433Z",
          "shell.execute_reply.started": "2024-05-20T15:59:23.92342Z",
          "shell.execute_reply": "2024-05-20T15:59:23.933519Z"
        },
        "trusted": true,
        "id": "B5p3uBP3V9jV"
      },
      "execution_count": null,
      "outputs": []
    },
    {
      "cell_type": "code",
      "source": [
        "# Assuming 'data' is your DataFrame with the 'label' column containing category names\n",
        "unique_classes = data['label'].unique()\n",
        "print(\"Unique classes:\", unique_classes)"
      ],
      "metadata": {
        "execution": {
          "iopub.status.busy": "2024-05-20T10:28:50.572182Z",
          "iopub.execute_input": "2024-05-20T10:28:50.572574Z",
          "iopub.status.idle": "2024-05-20T10:28:50.579361Z",
          "shell.execute_reply.started": "2024-05-20T10:28:50.572545Z",
          "shell.execute_reply": "2024-05-20T10:28:50.578326Z"
        },
        "trusted": true,
        "id": "pRfwh69BV9jV",
        "outputId": "2dca785f-9f27-459e-fa49-c96889d581eb"
      },
      "execution_count": null,
      "outputs": [
        {
          "name": "stdout",
          "text": "Unique classes: ['Software Engineering' 'DBMS' 'Data Communication' 'Cyber Security'\n 'Operating System']\n",
          "output_type": "stream"
        }
      ]
    },
    {
      "cell_type": "code",
      "source": [
        "print(\"First rows of dataset\")\n",
        "data.head()"
      ],
      "metadata": {
        "execution": {
          "iopub.status.busy": "2024-05-20T15:59:30.932076Z",
          "iopub.execute_input": "2024-05-20T15:59:30.933178Z",
          "iopub.status.idle": "2024-05-20T15:59:30.950176Z",
          "shell.execute_reply.started": "2024-05-20T15:59:30.933127Z",
          "shell.execute_reply": "2024-05-20T15:59:30.949124Z"
        },
        "trusted": true,
        "id": "stD4Lo34V9jV",
        "outputId": "e2f8911d-7e87-4f38-8632-aad67fcd48fa"
      },
      "execution_count": null,
      "outputs": [
        {
          "name": "stdout",
          "text": "First rows of dataset\n",
          "output_type": "stream"
        },
        {
          "execution_count": 11,
          "output_type": "execute_result",
          "data": {
            "text/plain": "                                                text                 label\n0  সফটওয়্যার ইঞ্জিনিয়ারিং দুইটি শব্দ সফটওয়্যার...  Software Engineering\n1                 সফটওয়্যার কিছু প্রোগ্রামের সমষ্টি  Software Engineering\n2  সমস্ত প্রোগ্রাম যখন কোন নির্ধারিত সমস্যা সমাধা...  Software Engineering\n3  অপরদিকে ইঞ্জিনিয়ারিং বলতে যে সকল নীতিমালা ও ম...  Software Engineering\n4            সফটওয়্যার ইঞ্জিনিয়ারিং বলতে কী বুঝায়  Software Engineering",
            "text/html": "<div>\n<style scoped>\n    .dataframe tbody tr th:only-of-type {\n        vertical-align: middle;\n    }\n\n    .dataframe tbody tr th {\n        vertical-align: top;\n    }\n\n    .dataframe thead th {\n        text-align: right;\n    }\n</style>\n<table border=\"1\" class=\"dataframe\">\n  <thead>\n    <tr style=\"text-align: right;\">\n      <th></th>\n      <th>text</th>\n      <th>label</th>\n    </tr>\n  </thead>\n  <tbody>\n    <tr>\n      <th>0</th>\n      <td>সফটওয়্যার ইঞ্জিনিয়ারিং দুইটি শব্দ সফটওয়্যার...</td>\n      <td>Software Engineering</td>\n    </tr>\n    <tr>\n      <th>1</th>\n      <td>সফটওয়্যার কিছু প্রোগ্রামের সমষ্টি</td>\n      <td>Software Engineering</td>\n    </tr>\n    <tr>\n      <th>2</th>\n      <td>সমস্ত প্রোগ্রাম যখন কোন নির্ধারিত সমস্যা সমাধা...</td>\n      <td>Software Engineering</td>\n    </tr>\n    <tr>\n      <th>3</th>\n      <td>অপরদিকে ইঞ্জিনিয়ারিং বলতে যে সকল নীতিমালা ও ম...</td>\n      <td>Software Engineering</td>\n    </tr>\n    <tr>\n      <th>4</th>\n      <td>সফটওয়্যার ইঞ্জিনিয়ারিং বলতে কী বুঝায়</td>\n      <td>Software Engineering</td>\n    </tr>\n  </tbody>\n</table>\n</div>"
          },
          "metadata": {}
        }
      ]
    },
    {
      "cell_type": "code",
      "source": [
        "def text_to_word_list(text):\n",
        "    text = text.split()\n",
        "    return text\n",
        "\n",
        "def replace_strings(text):\n",
        "    emoji_pattern = re.compile(\"[\"\n",
        "                           u\"\\U0001F600-\\U0001F64F\"  # emoticons\n",
        "                           u\"\\U0001F300-\\U0001F5FF\"  # symbols & pictographs\n",
        "                           u\"\\U0001F680-\\U0001F6FF\"  # transport & map symbols\n",
        "                           u\"\\U0001F1E0-\\U0001F1FF\"  # flags (iOS)\n",
        "                           u\"\\U00002702-\\U000027B0\"\n",
        "                           u\"\\U000024C2-\\U0001F251\"\n",
        "                           u\"\\u00C0-\\u017F\"          #latin\n",
        "                           u\"\\u2000-\\u206F\"          #generalPunctuations\n",
        "\n",
        "                           \"]+\", flags=re.UNICODE)\n",
        "    #english_pattern=re.compile('[a-zA-Z0-9]+', flags=re.I)\n",
        "    #latin_pattern=re.compile('[A-Za-z\\u00C0-\\u00D6\\u00D8-\\u00f6\\u00f8-\\u00ff\\s]*',)\n",
        "\n",
        "    text=emoji_pattern.sub(r'', text)\n",
        "    #text=english_pattern.sub(r'', text)\n",
        "    text = re.sub(r'₀|₁|₂|₃|₄|₅|₆|₇|₈|₉', '', text)\n",
        "    #text = re.sub(r'⁰|¹|²|³|⁴|⁵|⁶|⁷|⁸|⁹|⁻|⁺|ⁿ|ᵗ', '', text)\n",
        "\n",
        "    return text\n",
        "\n",
        "def remove_punctuations(my_str):\n",
        "    # define punctuation\n",
        "    punctuations = '''````£|¢|Ñ+-*/=৳০১২৩৪৫৬৭৮৯012–34567•89।!()-−[]{};:'\"“\\’,<>./?@#$%^&*_~‘—॥”‰θ→°π∈∝α≤≥Δβε≠�￰৷￰'''\n",
        "\n",
        "    no_punct = \"\"\n",
        "    for char in my_str:\n",
        "        if char not in punctuations:\n",
        "            no_punct = no_punct + char\n",
        "\n",
        "    # display the unpunctuated string\n",
        "    return no_punct\n",
        "\n",
        "\n",
        "\n",
        "def joining(text):\n",
        "    out=' '.join(text)\n",
        "    return out\n",
        "\n",
        "def preprocessing(text):\n",
        "    out=remove_punctuations(replace_strings(text))\n",
        "    return out\n"
      ],
      "metadata": {
        "execution": {
          "iopub.status.busy": "2024-05-20T15:59:33.58619Z",
          "iopub.execute_input": "2024-05-20T15:59:33.586537Z",
          "iopub.status.idle": "2024-05-20T15:59:33.601307Z",
          "shell.execute_reply.started": "2024-05-20T15:59:33.586508Z",
          "shell.execute_reply": "2024-05-20T15:59:33.600333Z"
        },
        "trusted": true,
        "id": "qv48KbQDV9jW"
      },
      "execution_count": null,
      "outputs": []
    },
    {
      "cell_type": "code",
      "source": [
        "data['cleaned'] = data['text'].apply(lambda x: preprocessing(str(x)))"
      ],
      "metadata": {
        "execution": {
          "iopub.status.busy": "2024-05-20T15:59:38.23928Z",
          "iopub.execute_input": "2024-05-20T15:59:38.239669Z",
          "iopub.status.idle": "2024-05-20T15:59:38.519032Z",
          "shell.execute_reply.started": "2024-05-20T15:59:38.239634Z",
          "shell.execute_reply": "2024-05-20T15:59:38.517894Z"
        },
        "trusted": true,
        "id": "_yGPuFhGV9jW"
      },
      "execution_count": null,
      "outputs": []
    },
    {
      "cell_type": "code",
      "source": [
        "sample_data = range(4000, 5000)\n",
        "for i in sample_data:\n",
        "    print(data['cleaned'][i])"
      ],
      "metadata": {
        "execution": {
          "iopub.status.busy": "2024-05-20T15:59:42.44513Z",
          "iopub.execute_input": "2024-05-20T15:59:42.445486Z",
          "iopub.status.idle": "2024-05-20T15:59:42.472588Z",
          "shell.execute_reply.started": "2024-05-20T15:59:42.445456Z",
          "shell.execute_reply": "2024-05-20T15:59:42.471553Z"
        },
        "trusted": true,
        "id": "KH3whamNV9jW",
        "outputId": "179f7b54-678d-4d49-859b-295fd09b3f2b"
      },
      "execution_count": null,
      "outputs": [
        {
          "name": "stdout",
          "text": "গ্রে হ্যাট হ্যাকাররা  আবার তা নিজের স্বার্থের জন্যও ব্যবহার করতে পারে\nব্ল্যাক হ্যাট হ্যাকার Black Hat Hacker এই ধরনের হ্যাকাররা সবচেয়ে ভয়ংকর প্রকৃতির হ্যাকার \nব্ল্যাক হ্যাট হ্যাকার  কোনো একটি সিকিউরিটি সিস্টেমের ত্রুটিগুলো বের করলে দ্রুত ঐ ত্রুটিকে নিজের স্বার্থে কাজে লাগায় \nব্ল্যাক হ্যাট হ্যাকার  এরা সিস্টেম নষ্ট করে বিভিন্ন ভাইরাস ছড়িয়ে দেয় \nব্ল্যাক হ্যাট হ্যাকার  তারা ভবিষ্যতে নিজে আবার যেন ঢুকতে পারে সে পথ রাখে \nব্ল্যাক হ্যাট হ্যাকার  সর্বোপরি ঐ সিস্টেমের অধীনে যেসকল সাবসিস্টেম রয়েছে সেগুলোতেও ঢুকতে চেষ্টা করে\nব্লাক হ্যাট হ্যাকারদের কারণেই সবচেয়ে বেশি সাইবার ক্রাইম হয় এবং ইন্টারনেটে ধবংসাত্মক ভাইরাস এরাই তৈরি করে থাকে\nক্রাক্যাররাও  একধরনের হ্যাকার তবে এরা বিভিন্ন সিস্টেমে ঢুকে সেটির অনেক কিছু পরিবর্তন করে এবং কম্পিউটার ভাইরাস দিয়ে সকল তথ্য মুছে দেয় \n অনেক সময় বিভিন্ন ওয়েবসাইট হ্যাক করে তার বিনিময়ে টাকা দাবি করা হয় এ ধরনের হ্যাকারকে ক্র্যাকার বলা হয়\nপৃথিবীর বিভিন্ন দেশে যেসব সাইবার আইন করা হয়েছে তা মূলত এসব ক্র্যাকারদের জন্যই করা হয়েছে \nক্র্যাকাররা বিভিন্নভাবে কাজ করে থাকে\nতারা অনেক সময় একটি সিস্টেমেও  ঢুকে তার সব তথ্য চুরি করে বেরিয়ে আসে \nআবার অনেক সময় পুরো সিস্টেমটি ধবংস করে ফেলে \nক্র্যাকারদের দুই শ্রেণিতে অগ করা যায় \nএকশ্রেণির ক্র্যাকার আছে যারা বিভিন্ন প্রোগ্রাম লিখে বা বিভিন্ন কৌশলে একটি সাইট বা সিস্টেমকে আক্রমণ করে থাকে \n অন্য আরেক দল ক্র্যাকার আছে যারা বিভিন্ন সফটওয়্যার বা টুলের মাধ্যমে এর সিস্টেমে অবৈধভাবে প্রবেশ করে\nদ্বিতীয় শ্রেণির ক্র্যাকারদের সহজেই শনাক্ত করা যায় তবে প্রথম শ্রেণির ক্র্যাকার অনেক বেশি সাবধানী এবং দক্ষ হয়\nভাইরাস হলো এক ধরনের কম্পিউটার প্রোগ্রাম যা ব্যবহারকারীর অনুমতি বা ধারণা ছাড়াই নিজে নিজে কপি হতে পারে \nএকটি ভাইরাস এক কম্পিউটার থেকে অন্য কম্পিউটারে যেতে পারে কেবলমাত্র যখন আক্রান্ত কম্পিউটারকে স্বাভাবিক কম্পিউটারটির কাছে নিয়ে যাওয়া হয় \nযেমন কোনো ব্যবহারকারী ভাইরাসটিকে একটি নেটওয়ার্কের মাধ্যমে পাঠাতে পারে বা কোনো বহনযোগ্য মাধ্যম যেমন ফ্লপি ডিস্ক সিডি ইউৎসবি ড্রাইভ বা ইন্টারনেট এর মাধ্যমেও ছড়াতে পারে \nএ ছাড়াও ভাইরাসসমূহ যে কোনো নেটওয়ার্ক ফাইল সিস্টেমকে আক্রান্ত করতে পারে যার ফলে অন্যান্য কম্পিউটার যা ঐ সিস্টেমটি ব্যবহার করে সেগুলোও আক্রান্ত হতে পারে \nবর্তমানে অনেক পার্সোনাল কম্পিউটার পিসি ইন্টারনেট ও লোকাল এরিয়া নেটওয়ার্কের LAN সাথে যুক্ত থাকে যা ক্ষতিকর কোড ছড়াতে সাহায্য করে\nওয়ার্ল্ড ওয়াইড ওয়েব ইমেইল ও কম্পিউটার ফাইল শেয়ারিংএর মাধ্যমে ভাইরাস সংক্রমণ ঘটতে  পারে\n অনেক ভাইরাস যেগুলো কম্পিউটারের সরাসরি কোনো ক্ষতি না করলেও নিজেদের অসংখ্য কপি তৈরি করে যা লেখা ভিডিও বা অডিও বার্তার মাধ্যমে তাদের উপস্থিতির বহিঃপ্রকাশ ঘটায় \nনিরীহ দর্শন এই ভাইরাসগুলোও ব্যবহারকারীর অনেক সমস্যা তৈরি করতে পারে\nএগুলো স্বাভানিক প্রোগ্রামগুলোর প্রয়োজনীয় মেমরি দখল করে\n\nসফটওয়্যার পাইরেসি একটি সাইবার অপরাধ \nসফটওয়্যার পাইরেসি বলতে বুঝায় অবৈধভাবে সফটওয়্যার বা প্রোগ্রাম কপি পুনরুৎপাদন করা বা ডিস্ট্রিবিউট করা \nযখন আমরা কোনো সফটওয়্যার ইনস্টল করা হয় তখন মাউস দিয়ে Next বাটন আর I accept এই দুইটা বাটনে মোটামুটি না দেখেই ক্লিক করা হয় \nসেখানে উল্লেখ থাকে যে সফটওয়্যারটি কপি করা মডিফাই করা লাইসেন্স ছাড়া একাধিক পিসি চালানো ইত্যাদি নিষিদ্ধ\nপর্নোগ্রাফি বলতে বুঝায় যৌন উত্তেজনা সৃটি কারী কোন অশ্লীল সংলাপ অভিনয় অঙ্গভদি বা অর্ধনগ্ন নৃত্য যা চলচ্চিত্র ভিডিও চিত্র অডিও ভিজ্যুয়াল চিত্র স্থির চিত্র গ্রাফিক্স বা অন্য কোন উপায়ে ধারণকৃত ও প্রদর্শনযোগ্য এবং যার কোন শৈল্পিক বা শিক্ষাগত মূল্য নেই \nএছাড়াও যৌন উত্তেজনা সৃষ্টিকারী অশ্লীল বই সাময়িকী ভাস্কর্য কল্পমূর্তি মূর্তি কার্টুন বা লিফলেটও পর্নোগ্রাফি বলে ধরা হবে\nপর্নোগ্রাফি উৎপাদন সংরক্ষণ ও বাজারজাতকরণ করা এমন কি বহন সরবরাহ ক্রয় বিক্রয় ধারণ বা প্রদর্শন করা ও গুরুতর অপরাধ \nকোন ব্যক্তি পর্নোগ্রাফির মাধ্যমে অন্য কোন ব্যক্তির সামাজিক বা ব্যক্তি মর্যাদা হানি করলে বা ভয় ভীতির মাধ্যমে অর্থ আদায় বা অন্য কোন সুবিধা আদায় বা কোন ব্যক্তির জ্ঞাতে বা অজ্ঞাতে ধারণাকৃত কোন পর্নোগ্রাফিও মাধ্যমে ঐ ব্যক্তিকে মানসিক নির্ঘাতন করলে তিনি এ ধরণের অপরাধের জন্য সর্বোচ্চ  পাঁচ বৎসর পর্যন্ত সশ্রম কারাদন্ড এবং  দুই লক্ষ টাকা পর্যন্ত অর্থদণ্ডে দণ্ডিত হবেন\nকোন ব্যক্তি ইন্টারনেট বা ওয়েবসাইট বা মোবাইল ফোন বা অন্য কোন ইলেকট্রনিক ডিভাইসের মাধ্যমে পর্নোগ্রাফি সরবরাহ করলে তিনি এ ধরণের অপরাধের জন্য সর্বোচ্চ  পাঁচ বৎসর পর্যন্ত সশ্রম কারাদন্ড এবং  দুই লক্ষ টাকা পর্যন্ত অর্থদয়ে দণ্ডিত হবেন\nকোন ব্যক্তি পর্নোগ্রাফি প্রদর্শনের মাধ্যমে গণউপদ্রব সৃষ্টি করলে তিনি সর্বোচ্চ  দুই বৎসর পর্যন্ত সশ্রম কারাদণ্ড এবং  এক লক্ষ টাকা পর্যন্ত অর্থদণ্ডে দণ্ডিত হবেন \nকোন ব্যক্তি পর্নোগ্রাফি বিক্রয় ভাড়া বিতরণ সরবরাহ প্রকাশ্যে প্রদর্শন বা যে কোন ভাবে প্রচার করলে অথবা যে কোন উদ্দেশ্যে প্রস্তুত উৎপাদন পরিবহন বা সংরক্ষণ করলে অথবা কোথায় কোন পর্নোগ্রাফি পাওয়া যাবে এমন স্থান সম্পর্কে কোন প্রকারের বিজ্ঞাপন প্রচার করলে তিনি সর্বোচ্চ  দুই বৎসর সশ্রদ কারাদন্ড এবং  এক লক্ষ টাকা পর্যন্ত অর্থদণ্ডে দণ্ডিত হবেন\n\nতবে কেউ কোন যুক্তিসঙ্গত কারণ ছাড়া এই আইনে কারো বিরুদ্ধে মিথ্যা বা হয়রানিমূলক মামলা করলে বা অভিযোগ করণে তিনি সর্বোচ্চ দুই বৎসর সশ্রম কারাদণ্ড এবং  এক লক্ষ টাকা পর্যন্ত অর্থদণ্ডে দণ্ডিত হবেন\nইন্টেলেকচুয়াল প্রপার্টি Intellectual Property বলতে মূলত বোকায় বুদ্ধিবৃত্তিক সম্পদ \nঅর্থাৎ কোনো ব্যক্তি বা সংস্থা তাদের নিজেদের জ্ঞান বুদ্ধি মনন ও সৃজনশীলতার বিকাশ ঘটিয়ে কোনো কিছু তৈরি করলে সেটি সে ব্যক্তি বা সংস্থার ইন্টেলেকচুয়াল প্রপার্টি \nএকটি কোম্পানির বিভিন্ন পণ্য বা সার্ভিস যদি আইনগতভাবে সংরক্ষিত না থাকে তাহলে সেগুলো যে কেউ  ইচ্ছেমত তৈরি করতে পারবে ফলে কোম্পানি আর্থিক ভাবে ক্ষতিগ্রস্থ হবে\nএই ধরনের পরিস্থিতি মোকাবেলা করতে দরকার হয় ইন্টেলেকচুয়াল প্রপার্টি আইনের প্রয়োগ \nযেমন স্যামসাং ব্রান্ডের পণ্যগুলোর ট্রেডমার্ক করা থাকে বলে অন্যকেউ চাইলে সেগুলোর নকল সংস্করণ বের করতে পারবে না বের করলে বড় অংকের জরিমানার মুখে পড়তে হবে \n অন্যদিকে সৃজনশীল কাজে কপিরাইট আইনের ব্যবহার করা হয় \nকপিরাইটএর অন্তর্ভুক্ত হচ্ছেউপন্যাস কবিতা ও নাটক চলচ্চিত্র পেইন্টিং আলোকচিত্র ভাস্কর্য ইত্যাদি\nমেধা সম্পদ প্রধানত দুটি শাখায় বিভক্ত ইন্ডাস্ট্রিয়াল প্রোপার্টি শিল্প সম্পদ কপিরাইট\nইন্ডাস্ট্রিয়াল প্রোপার্টির মধ্যে রয়েছে পেটেস্ট ট্রেডমার্ক ইন্ডাস্ট্রিয়াল ডিজাইন এবং ভৌগোলিক পরিচিতি\nকপিরাইটএর অন্তর্ভুক্ত হচ্ছে উপন্যাস কবিতা ও নাটক চলচ্চিত্র সঙ্গীতসহ সাহিত্যকর্ম এবং ড্রয়িং পেইন্টিং আলোকচিত্র ভাস্কর্য এবং স্থাপত্য নকশাসহ নান্দনিক কর্ম \n কপিরাইট সংশ্লিষ্ট অধিকারের মধ্যে রয়েছে শিল্পীদের অধিকার ফনোগ্রাম প্রযোজকদের অধিকার রেডিও ও টেলিভিশন অনুষ্ঠান সম্প্রচার সংস্থার অধিকার\n IP Address এর পূর্নরূপ হলো Internet Protocol Address \nনেটওয়ার্কের প্রতিটি কম্পিউটারের একটি নির্দিষ্ট আইডেন্টি অ্যাক্সেসকে আইপি অ্যাড্রেস বলে \nআইপি অ্যাড্রেস ট্রাকিং করার মাধ্যমে অনেক গুরুত্বপূর্ণ তথ্য পাওয়া যায় যেগুলো কাজে লাগিয়ে ঐ আইপি অ্যাড্রেসের বিরুদ্ধে রিপোর্ট করা সম্ভব হয় \nস্মার্টফোনে অনেকটা সঠিক লোকেশন বের করা গেলেও আইপি অ্যাড্রেস ট্রাকিং করার মাধ্যমে সঠিক লোকেশন বের করা সম্ভব হয়না \nআইএমইআই IMEI নাম্বার অথবা ফোন নাম্বার কোনো ব্যক্তি বা ডিভাইসে জুড়ে দেওয়া থাকে কিন্তু আইপি অ্যাড্রেস কখনোই কারো নামে রেজিস্টার করা থাকে না \nসেক্ষেত্রে আইপি থেকে কেবল আইএসপি এর নাম বা তাদের ঠিকানা পাওয়া যায়\nবিভিন্ন কারণে ইমেইল আইডি ডিজেবল হয়ে যেতে পারে যেমন দীর্ঘদিন ইমেইল আইডি ব্যবহার না করা ইমেইল আইডির পাসওয়ার্ড ভুলে যাওয়া হ্যাকিং এর স্বীকার হওয়া ইত্যাদি\nএ সমস্ত পরিস্থিতি থেকে ইমেইল আইডি ফেরত আনার প্রক্রিয়াকেই ইমেইল পুনরুদ্ধার বলে \nবিভিন্ন পদ্ধতি অবলম্বন করে ইমেইল পুনরুদ্ধার করা হয়\n\nডেটা একস্থান থেকে অন্যস্থানে স্থানান্তরের সময় ডেটার গোপনীয়তা বিঘ্নিত হতে পারে বিশেষ করে খদি ডেটা পাবলিক পথ দ্বারা স্থানান্তরিত হয় \nএক্ষেত্রে সাধারণত মূল ডেটাকে বিশেষ কোডের মাধ্যমে পরিবর্তিত করে প্রেরণ করা হয় \nমূল ডেটাকে গোপন করার পদ্ধতিকে বলা হয় এনক্রিপশন\nএনক্রিপশন এমন একটি পদ্ধতি যা কম্পিউটারের হিউমার রিডেবল কোনো তথ্যকে এমনভাবে পরিবর্তন করে যা মানুষ পড়তে এবং বুঝতে পারে না \nতাই কেউ যদি কোনো ডাটা এনক্রিপটেড অবস্থায় থাকা কম্পিউটারে অ্যাক্সেস করতে পারে তবুও সে সেই ডাটাকে রিড করতে পারবে না যদি না তার কাছে এনক্রিপটেড ডাটা কী থাকে \nএনক্রিপশনের বেসিক ফাংশন হলো কোনো নরমাল টেক্সটকে পরিবর্তন করে এনক্রিপ্টেড টেক্সট এ পরিবর্তন করা \nএনক্রিপশন এটার নিশ্চয়তা প্রদান করে যে এটা কোনো অসাধু মানুষের হাতে গেলে সে যেন ডাটাকে পড়তে না পারে\nডাটাকে এনক্রিপ্ট করে পাঠালে প্রাপককে ঐ ডাটা ব্যবহারের পূর্বে ডিক্রিন্ট করতে হয় \nএনক্রিপ্ট করা ডাটা নির্দিষ্ট নিয়মে মূল ভাটায় পরিবর্তন করাকে বলা হয় ডিক্রিপ্ট \nপ্রেরক এবং প্রাপককে যথাক্রমে এনফ্রিন্ট এবং ডিফ্রিন্ট করার অ্যালগরিদম সম্পর্কে পূর্বেই জানা থাকতে হয়\nপাসওয়ার্ড ক্র্যাকিং কী তা জানার আগে জেনে নেয়া যাক ওয়েবসাইটগুলোকে কীভাবে পাসওয়ার্ড সংরক্ষণ করা হয় সেই সম্পর্কে \nওয়েবসাইটে পাসওয়ার্ড সংরক্ষণের অনেক উপায় আছে \nহ্যাশিং সল্টিং টোকেইন টু ফ্যাক্টর অথেনটিকেশন এগুলোই বেশি ব্যবহার করা হয়\nপ্রথমেই হ্যাশিং কী তা একটু জানা যাক\nআমরা সাধারণত যেসব শব্দ ব্যবহার করে নতুন পাসওয়ার্ড নির্বাচন করি ঠিক সেভাবে পাসওয়ার্ডগুলোকে ওয়েবসাইটগুলো সংরক্ষণ করে না \nএই পাসওয়ার্ডগুলোকে সাইটের সার্ভারে সংরক্ষণ করা হয় একটি বিশেষ এনক্রিপশন অ্যালগরিদমের মাধ্যমে \n সেই অ্যালগরিদমকে বলা হ্যাশিং বা হ্যাশ  ফাংশন \nহ্যাশিং অ্যালগরিদমের কাজ খুবই সাধারণ \nআমাদের ইনপুট দেয়া প্লেইন টেক্সট বা সাধারণ অক্ষরগুলোকে এই অ্যালগরিদম একটি নির্দিষ্ট দৈর্ঘের কিছু দুর্বোধ্য কোড বা সংকেতে পরিণত করে যেমন abc এই পাসওয়ার্ডটির জন্য হ্যাশ হবে eaccbdfe এমডি হ্যাস অ্যালগরিদম অনুযায়ী \nকিন্তু এই হ্যাশিং আবার পর্যায়ক্রমিক হয় না যেমন Password শব্দটির হ্যাশ fccbaadddebcf কিন্তু password শব্দটির হ্যাস cabaaceeafbec \nদুটি সম্পূর্ণ আলাদা হয়ে যাবে কেবল একটি মাত্র শব্দ বেশি ব্যবহারের জন্য\n এই হ্যাশ পদ্ধতির জন্য বেশ কিছু জনপ্রিয় অ্যালগরিদম হল এমডি  এসএইচএ  এসএইচএ  সহ এমন আরো বেশ কিছু \nএগুলো হল ওয়ান ওয়ে ফাংশন যার অর্থ হল পাসওয়ার্ড একবার হ্যাশ করা হয়ে গেলে সেটি থেকে আবার পুনরায় প্লেইন টেক্সট আকারে পাসওয়ার্ড ফেরত পাওয়া যায় না \n তাহলে আপনি প্রতিবার লগ ইন করেন কীভাবে খুব সোজা প্রতিবার ইনপুট পাওয়া পাসওয়ার্ডকে হ্যাশিং করে সার্ভারে সংরক্ষিত হ্যাশ কোডের সাথে মিলিয়ে দেখা হয় \nদুটি হ্যাশই মিলে গেলে আপনাকে লগইন করার অনুমিত দেয়া হয় \nআর এই বিশেষ পদ্ধতির প্রয়োজনীয়তা হল হ্যাকারদের হাত থেকে রক্ষা পাওয়া \nকারণ পাসওয়ার্ড ফাইলগুলো জমা রাখা হয় ওয়েবসাইটের সার্ভারে আর সেসব সার্ভার হ্যাক করা যায় এবং পাসওয়ার্ড ফাইলগুলো দেখা যায় \nতাই হ্যাকারদের থামানোর জন্য এই পদ্ধতি\nকিন্তু তারপরও হ্যাকাররা এই হ্যাশ কোডকে ডিক্রিপ্ট করে ফেলে আর এটিই হলো পাসওয়ার্ড ক্র্যাকিং \nপাসওয়ার্ড ক্র্যাক করার অনেক উপায় আছে এখন আমরা দেখব এমন কিছু ক্র্যাকিং পদ্ধতি\n হ্যাকার যদি একটি ওয়েবসাইটের সার্ভার থেকে ইউজারদের পাসওয়ার্ড ফাইল সংগ্রহ করে ফেলতেও পারে তারপরও কিন্তু সে পাসওয়ার্ডগুলো ব্যবহার করতে পারবে না \n ব্যবহার করতে না পারার কারণ সেগুলো এনক্রিপ্ট করা  \nআর এখন কাজে আসবে ব্রুট ফোর্স অ্যাটাক\nব্রুট ফোর্স অ্যাটাকের ধারণাটাও খুব সহজ এটি কিন্তু একটি অনুমান নির্ভর প্রক্রিয়া \nব্রুট ফোর্স অ্যাটাকে হ্যাকার একটি সফটওয়্যারের সাহায্য নেয়  যেটি একের পর পর্যায়ক্রমে সম্ভাব্য পাসওয়ার্ড তৈরি করে তা হ্যাশ করে সার্ভারের হ্যাশের সাথে মিলাতে থাকে \nআর এই প্রক্রিয়া চলতে থাকে সঠিক পাসওয়ার্ডটি  মিলে যাবার আগপর্যন্ত\nপাসওয়ার্ডটির দেয়া যাক যদি হ্যাকারের সফটওয়্যার অনুমান aaaa থেকে শুরু হয় আর তারপর aaab তারপর aaac  এবং এভাবে সেটা zzzz  পর্যন্ত পরীক্ষা করে দেখতে থাকবে এখানে চারটি অক্ষরের জন্য এমনটা হবে আর ধীরে ধীরে তার দৈর্ঘ্য কিন্তু বাড়তে থাকবে\nডিকশনারি অ্যাটাককে ব্রুট ফোর্সেরই একটি অংশ বলা চলে \nডিকশনারি অ্যাটাকে সাধারণ কিছু পাসওয়ার্ডের একটি ডিকশনারি তৈরি করে হ্যাকার\nএর মাধ্যমে অনেক দ্রুত এবং দুর্বল পাসওয়ার্ডগুলো খুব সহজে ক্র্যাক করে করে ফেলা যায় \nসেই ডিকশনারির সাহায্যে  বিলিয়ন পাসওয়ার্ড ম্যাচ করতে পারে প্রতি সেকেন্ডে \nসাধারণ পাসওয়ার্ডের মধ্যে পড়ে নিজের নাম কোনো সাধারণ শব্দ বা নিজের নামের সাথে কোনো সংখ্যা এগুলোই\nতো এরকম কিছু পাসওয়ার্ড হিসেবে ব্যবহার থেকে বিরত থাকতে হবে \n ডিকশনারি অ্যাটাককে আরেকটু কার্যকরী এবং আরেকটু কঠিন পাসওয়ার্ড ক্র্যাক করতে সাহায্য করে হাইব্রিড অ্যাটাক \nহাইব্রিড এটাকের সাহায্যে ডিকশনারি অ্যাটাকে ব্যবহৃত শব্দগুলোকে একটু ভিন্নভাবে সাজানো হয়\n সাধারণ শব্দগুলোকে ব্যবহার করা হয় নাম্বার বিশেষ চিহ্ন ইত্যাদি \nনাম শুনে যতটা নিরীহ মনে হয় ততটা নিরীহ নয় এই রেইনবো টেবিল \n এতক্ষণ যেসকল প্রক্রিয়ার কথা জানলেন আপনি সেসকল ক্ষেত্রেই প্রথমে একটি পাসওযার্ড অনুমান করে সেটিকে হ্যাশ করে সার্ভারের হ্যাশের সাথে মিলিয়ে দেখার কাজটি করাতো হ্যাকার তার সফটওয়্যার দিয়ে \nকিন্তু হ্যাশিং করে তা আবার মিলিয়ে দেখতে অনেক সময় অপচয় হয়\nতো কেমন হয় যদি কয়েক মিলিয়ন হ্যাশ করা পাসওয়ার্ডের একটি টেবিল পাওয়া যেত রেইনবো টেবিল সেই চাহিদা পূরণ করে\nরেইনবো টেবিল সেই চাহিদা পূরণ করে\nঅধিক ব্যবহৃত প্রিহ্যাশড কয়েক মিলিয়ন পাসওয়ার্ড থাকে এই টেবিলে যার ফলে নতুন করে আর হ্যাশ করা লাগে না হ্যাকারের সফটওয়্যারকে \nআর তাছাড়া যেহেতু দুটো হ্যাস মিলে গেলেই হল তাই হ্যাকারকে আসল পাসওয়ার্ড কী তা জানার দরকারও পড়ে না\n প্রায়  বিলিয়ন পাসওয়ার্ড  প্রতি সেকেন্ডে ম্যাচ করতে পারা যায় রেইনবো টেবিলের মাধ্যমে\n সল্টিং হ্যাশ এটি খাবার লবন নয় এটাকে পাসওয়ার্ডের লবণ বলা যেতে পারে \nকারণ এটি পাসওয়ার্ডের স্বাদ কিছুটা বদলে দেয় \nআরেকটু পরিষ্কার করা যাক হ্যাশিং করা হয় কেবলমাত্র প্লেইন টেক্সটকে একটি অ্যালগরিদম দ্বারা এনক্রিপ্ট করে\nকিন্তু দেখা গেলো এটি বিশেষ সুবিধার নয় আর তাই সল্টিং করা হয় পাসওয়ার্ড এবং সেটির হ্যাশকে \nএটি বেশি জটিল কিছু না কেবলমাত্র আসল পাসওয়ার্ডের সাথে কয়েকটি অক্ষর জুড়ে এটিকে হ্যাশ করা হয় এবং সেই হ্যাশের সাথে আরো কিছু অক্ষর যোগ করা হয়\nএকটি উদাহরণ দেয়া যাক আপনার পাসওয়ার্ড যদি হয় abc তাকে সল্ট করা হয় \nধরা যাক সল্ট করার পর এটি হল abc এরপর সেটিকে হ্যাশ করে সেই হ্যাশের সাথে আবারো  যোগ করাই হলো সস্টিং হ্যাশ \nআর এটি একেক ইউজারের ক্ষেত্রে একেক রকম হতে পারে\nএটি হ্যাকারকে বেশ ধীর করে দেয় \nকিন্তু ব্রুট ফোর্স আর ডিকশনারি অ্যাটাকএর কিছু ক্ষেত্রে কাজে দিলেও রেইনবো টেবিল কোনোই কাজে আসে না\nকারণ এক্ষেত্রে আগে হ্যাকারকে জানতে হয় সল্ট কোথায় যোগ করা হয়েছে সল্টিং অক্ষরটি কী কত অক্ষর পর যোগ করা হয়েছে ইত্যাদি\nপ্রযুক্তির সাথে তাল মিলিয়ে উন্নত হচ্ছে নিরাপত্তা ব্যবস্থা কিন্তু তাই বলে বসে নেই হ্যাকাররাও\nআপনার গুরুত্বপূর্ণ তথ্য হাতিয়ে নিয়ে তা ব্যবহার করে নিজের লাভের অংশটা বুঝে নেয়ার জন্য হা করে বসে আছে অনেক হ্যাকার \nঅনেকেই আমরা যে বিষয়টি এড়িয়ে যাই তা হল কঠিন পাসওয়ার্ড নির্বাচন \nআবার অনেকেই একাধিক সাইটের জন্য নির্বাচন করি কেবলমাত্র একটি পাসওয়ার্ড যা হ্যাকারের কাজ অনেকেটাই কমিয়ে দেয়\nঅনেকেই বার বার ভুলে যায় যে ব্যক্তিগত তথ্যগুলোকে অন্যের থেকে আড়াল করে রাখতে পাসওয়ার্ড মুখ্য ভূমিকা পালন করে \nপাসওয়ার্ড কীরকম হবে তা আপনার একান্ত ব্যক্তিগত বিষয় হলেও পাসওয়ার্ড চুরির হাত থেকে বাঁচাতে কয়েকটি বিষয়ের প্রতি লক্ষ্য রাখতে হবে\n কেবলমাত্র পাসওয়ার্ডে বিশেষ চিহ্ন ব্যবহার করলেই চলবে না খেয়াল রাখতে হবে পাসওয়ার্ড যেন সহজ না হয়\nসর্বনিম্ন  অক্ষরের পার্সওয়ার্ড নির্বাচন করুন \nপাসওয়ার্ড যত বড় হবে হ্যাকারের তা বের করতে তত বেশি সময় লাগবে\nপ্রতি মাসে অন্তত একবার পাসওয়ার্ড পরিবর্তন করুন \nএকই পাসওয়ার্ড বার বার ব্যবহার করবেন না\nমনে রাখতে সহজ হবে ভেবে সহজ পাসওয়ার্ড ব্যবহার করবেন না \nআপনার কাছে যেটা সহজ সেটা হয়ত আগেই কোনো হ্যাকার ক্র্যাক করে রেখেছে\n ভিন্ন ভিন্ন ওয়েবসাইটের  জন্য বা ব্যাংক একাউন্টের জন্য ভিন্ন ভিন্ন পাসওয়ার্ড বা  পিন কোড ব্যবহার করুন \nভুলে যাওয়া যদি আপনার অভ্যাস হয় তাহলে আপনার জন্য আছে অনেক পাসওয়ার্ড ম্যানেজার যেগুলাতে আপনি কেবল একটি পাসওয়ার্ডের মাধ্যমে সব সাইটের পাসওয়ার্ড সংরক্ষণ করে রাখতে পারবেন\nতথ্য প্রযুক্তির অগ্রগতির সাথে সাথে মানুষের জীবন হয়ে উঠেছে সহজ স্বাচ্ছন্দ্যময় \nপ্রযুক্তির ছোয়ায় মানুষের জীবন যেমন সহজতর হচ্ছে তেমনি প্রযুক্তি অপব্যবহারের ফলে বাড়ছে অপরাধ প্রবণতা তন্মধ্যে হ্যাকিং বিষয়টি অন্যতম \nহ্যাকিং বলতে মূলত কোনো কম্পিউটার বা নেটওয়ার্ক সিস্টেমের মধ্যে অনুমতিবিহীন অনুপ্রবেশকে বোঝায়  \nকোনো কম্পিটার বা নেটওয়ার্ক সিস্টেম হ্যাকিংয়ের মাধ্যমে সেখান থেকে গুরুত্বপূর্ণ তথ্য গ্রহণ করা মুছে দেয়া বা এমনভাবে পরিবর্তন করা হয় যা এই ব্যক্তি বা প্রতিষ্ঠানের জন্য ক্ষতিকর হয় \nহ্যাকিং বলতে কোনো কম্পিউটার নেটওয়ার্ক বা কোনো ওয়েবসাইট হ্যাক করাকে বুঝায় না হ্যাকিং অনেক ধরনের হতে পারে \nবিভিন্ন ইলেকট্রনিক্স ও ডিজিটাল যন্ত্র যেমন মোবাইল ফোন ল্যান্ড ফোন গাড়ি ট্রাকিং ইত্যাদি বৈধ অনুমতি ছাড়া ব্যবহার করলে সেটিও হ্যাকিং এর আওতায় পড়ে \nহ্যাকাররা সাধারণত সিস্টেমের ত্রুটি খুঁজে বের করে এবং সেই ত্রুটি কে কাজে লাগিয়ে যে কোনো সিস্টেম হ্যাক করে থাকে \nহ্যাকাররা  হ্যাকিং এর মাধ্যমে ব্যক্তিগত তথ্য সংগ্রহ ভাইরাস ম্যালওয়্যার অনলাইন একাউন্ট থেকে টাকা চুরি ইত্যাদি অপরাধ কার্য সম্পাদন করে থাকে \nহ্যাকিং বিভিন্ন ধরনের আছে তবে এখানে আমরা কম্পিউটার হ্যাকিংয়ের কথা বলব \nপ্রকৃতপক্ষে কোন কম্পিউটার সিস্টেমে অনুমতি বিহীন অ্যাক্সেস পাওয়ার জন্য নেটওয়ার্ক বা সার্ভারের যে কোন অনুপ্রবেশকে হ্যাকিং বলা হয় \n হ্যাকারদের অনেক সৃজনশীলতা রয়েছে তাই হ্যাকাররা বেশি বুদ্ধিমান হয় \nহ্যাকাররা  সহজেই কোন ধরনের কম্পিউটার সিস্টেমে অননুমোদিত এক্সেস লাভ করতে পারে \n হ্যাকিং বলতে কোনো কম্পিউটার বা নেটওয়ার্ক সিস্টেমের মধ্যে অনুমতিবিহীন অনুপ্রবেশকে বুঝায় \nহ্যাকিং এর মাধ্যমে কোনো কম্পিউটার বা নেটওয়ার্ক সিস্টেমের গুরুত্বপূর্ণ তথ্য গ্রহণ করা মুছে দেয়া বা এমনভাবে পরিবর্তন করা হয় যা ঐ ব্যক্তি বা প্রতিষ্ঠানের জন্য ক্ষতিকর হয়\nসহজভাবে কিছু অবৈধ উদ্দেশ্যে কম্পিউটার নেটওয়ার্ক সুরক্ষা সিস্টেমে অননুমোদিত অ্যাক্সেস বা নিয়ন্ত্রণ করার একটি প্রচেষ্টার নামই হলো হ্যাকিং\n যৌক্তিক এবং অযৌক্তিক দুই ধরনের কারণই হ্যাকিংএর সঙ্গে জড়িত \nনিজেদের স্কিল প্র্যাকটিস করার জন্য হ্যাকার রা হ্যাকিং করে থাকে \nঅনেকের কাছে হ্যাকিং করাটা এক ধরনের বিনোদন\nতথ্য চুরির জন্য হ্যাকার রা হ্যাকিং করে থাকে \nআর্থিকভাবে লাভবান হওয়ার উদ্দেশ্যে যেমন ক্রেডিট কার্ড হ্যাকিং  হ্যাকার রা হ্যাকিং করে থাকে \n কোনো কাজের প্রতিবাদ করার উদ্দেশ্যে হ্যাকার রা হ্যাকিং করে থাকে \nনিজেদের দক্ষতা প্রমাণের উদ্দেশ্যে হ্যাকার রা হ্যাকিং করে থাকে \nকোনো সন্দেহ নেই যে হ্যাকিং আনইথিক্যাল অবশ্যই একটি অপরাধ \nযারা হ্যাকিংয়ের মাধ্যমে অন্যের ক্ষতি করে আইনের চোখে তারা সাইবার ক্রিমিনাল হিসেবে পরিচিত\nকম্পিউটার এবং নেটওয়ার্ক সুরক্ষা শক্তিশালী করার জন্য অনুপ্রবেশ পরীক্ষা সঞ্চালনের ক্ষেত্রে হ্যাকিং প্রয়োজনীয় \nহারিয়ে যাওয়া তথ্য পুনরুদ্ধারের জন্য যেমনঃ পাসওয়ার্ড হারিয়ে গেলে সেক্ষেত্রে হ্যাকিং প্রয়োজনীয় \nনিরাপত্তার ভাঙ্গন প্রতিরোধ করার জন্য পর্যাপ্ত প্রতিরোধমূলক ব্যবস্থা রাখার ক্ষেত্রে হ্যাকিং প্রয়োজনীয় \nব্ল্যাক হ্যাট হ্যাকাররা অ্যাক্সেস  লাভ করতে বাধা দেয় এমন একটি কম্পিউটার সিস্টেম\nবিভিন্ন কোম্পানিকে cyber attck থেকে সুরক্ষিত রাখতে হ্যাকিং প্রয়োজনীয় \nকম্পিউটার নিরাপত্তার ক্ষেত্রে ভালনারেবিলিটি হলো এক  ধরনের দুর্বলতা \nভালনারেবিলিটি স্ক্যানিং হলো কম্পিউটার সিস্টেমের নিরাপত্তার দুর্বলতা শনাক্ত করতে ব্যবহৃত একটি নিরাপত্তা কৌশল \nকোনো ব্যক্তি বা নেটওয়ার্ক অ্যাডমিনিস্ট্রেটর সিস্টেমের নিরাপত্তার স্বার্থে সিস্টেমের মাঝে কোনো দুর্বলতা আছে কি না সেটি চেক করার জন্য ভালনারেবিলিটি স্ক্যানিং করে থাকে \nআবার হ্যাকাররা কম্পিউটার সিস্টেমে অননুমোদিত  অ্যাক্সেস পাওয়ার জন্য ভালনারেবিলিটি স্ক্যানিং করে থাকে\n হ্যাকার যদি একটি ওয়েবসাইটের সার্ভার থেকে ইউজারদের পাসওয়ার্ড ফাইল সংগ্রহ করে ফেলতেও পারে তারপরও কিন্তু সে পাসওয়ার্ডগুলো ব্যবহার করতে পারবে না \nহ্যাকার পাসোয়ার্ড ব্যবহার করতে না পারার  কারণ সেগুলো এনক্রিপ্ট করা \nব্রুট ফোর্স অ্যাটাকের ধারণাটাও খুব সহজ\nব্রুট ফোর্স অ্যাটাক কিন্তু একটি অনুমান নির্ভর প্রক্রিয়া\nব্রুট ফোর্স অ্যাটাকে হ্যাকার একটি সফটওয়্যারের সাহায্যে নেয় যেটি একের পর পর্যায়ক্রমে সম্ভাব্য পাসওয়ার্ড তৈরি করে তা হ্যাশ করে সার্ভারের হ্যাশের সাথে মিলাতে থাকে \nআর ব্রুট ফোর্সের এই প্রক্রিয়া চলতে থাকে সঠিক পাসওয়ার্ডটি মিলে যাবার আগপর্যন্ত\nডিকশনারি অ্যাটাকের মাধ্যমে অনেক দ্রুত এবং দুর্বল পাসওয়ার্ডগুলো খুব সহজে ক্র্যাক করে করে ফেলা যায় \nসেই ডিকশনারির সাহায্যে বিলিয়ন পাসওয়ার্ড ম্যাচ করতে পারে প্রতি সেকেন্ডে \nআমরা সাধারণত যেসব শব্দ ব্যবহার করে নতুন পাসওয়ার্ড নির্বাচন করি ঠিক সেভাবে পাসওয়ার্ডগুলোকে ওয়েবসাইটগুলো সংরক্ষণ করে না \nএই পাসওয়ার্ডগুলোকে সাইটের সার্ভারে সংরক্ষণ করা হয় একটি বিশেষ এনক্রিপশন এলগরিদমের মাধ্যমে \nহ্যাশিং সল্টিং টোকেইন টু ফ্যাক্টর অথেনটিকেশন ইত্যাদি পদ্ধতি ব্যবহার করা হয় পাসওয়ার্ডগুলোকে ওয়েবসাইটে সংরক্ষণ করার জন্য\nআর এই পদ্ধতিগুলোর প্রয়োজনীয়তা হলো হ্যাকারদের হাত থেকে পাসওয়ার্ডকে সুরক্ষিত রাখা\nকারণ পাসওয়ার্ড ফাইলগুলো জমা রাখা হয় ওয়েবসাইটের সার্ভারে আর সেসব সার্ভার হ্যাক করা যায় \nএজন্য হ্যাকারদের থামানোর জন্য এই পদ্ধতি\nকিন্তু তারপরও হ্যাকাররা এই হ্যাশ কোডকে ডিক্রিন্ট করে ফেলে আর এটিই হলো পাসওয়ার্ড ক্র্যাকিং\nহ্যাকিংয়ের ভাষায় স্নিফিং হলো গুরুত্বপূর্ণ তথ্য হাতিয়ে নেওয়া \nস্নিফিং আক্রমণ হলো এমন এক পদ্ধতি যেটাতে কোনো কম্পিউটার নেটওয়ার্ক দিয়ে প্রবাহিত প্যাকেটের ডাটা ক্যাপচার করে\n আর যে ডিভাইস বা সফটওয়্যার ব্যবহার করে এটি করা হয় সেটিকে প্যাকেট স্নিফার বলা হয়\nফিশিং হচ্ছে এমন একপ্রকার কার্যক্রম যাতে ইলেকট্রনিক যোগাযোগ ব্যবস্থায় তথ্যাদি সংগ্রহের জন্য কোনো বিশ্বস্ত মাধ্যমের ছদ্মবেশ ধারণ করা হয় \nসাধারণত জনপ্রিয় সামাজিক যোগাযোগ মাধ্যমে ব্যাংক আইটি অ্যাডমিনিস্ট্রেটরদের ওয়েবসাইটএর মাধ্যমে জনসাধারণকে প্রলোভন দেখানো হয় ফিশিং এ \nফিশিং সাইটের লিঙ্কগুলো সাধারণত ইমেইল বা ইনস্ট্যান্ট মেসেজিংএর মাধ্যমে প্রেরণ করা হয়\n ইমেইলে প্রেরিত লিংকে ক্লিক করলেই ইউজারকে নকল ফিশিং ওয়েবসাইটটিতে নিয়ে যাওয়া হয় যা দেখতে হুবহু আসল আফিশিয়াল ওয়েবসাইটটির মতো \nফিশিংএর মাধ্যমে বর্তমান ইন্টারনেট পরিস্থিতির দুর্বল নিরাপত্তা ব্যবস্থাকে অবৈধভাবে নিজের কাজে ব্যবহার করা হয়\nকোনো প্রেগ্রামের সম্পূর্ণ কোড বা কোডের একাংশ যা সেটি হতে পারে এক্সিকিউটেবল কোড নন এক্সিকিউটেবল কোড ইত্যাদি কম্পিউটারের জন্য ক্ষতিকর তাই হলো গ্রোগ্রাম থ্রেটস\nকিন্তু উল্লেখযোগ্য প্রোগ্রাম থ্রেটস  হলো ভাইরাস ট্রোজান হর্স ইত্যাদি\nসোশ্যাল ইঞ্জিনিয়ারিং এক ধরনের মনোবৈজ্ঞানিক কৌশল যেখানে অত্যন্ত চতুরতার সঙ্গে ভিকটিমের ব্যাপারে গুরুত্বপূর্ণ তথ্য বের করে আনা হয়\nএই তথ্য দেয়ার কাজটা ভিকটিম নিজের অজান্তেই করে থাকে \nশুনতে অবাক হলেও ভিকটিম নিজের কেন হ্যাকারকে তার আইডির বিস্তারিত তথ্য বা মেইলের পাসওয়ার্ড দেয় আসলে ভিকটিম সরাসরি এই তথ্যগুলো দেয় না \nকজন হ্যাকার এই তথ্য যোগাড় করার কাজটা হয়তো করতে পারে আপনার সঙ্গে সরাসরি কথা বলেসেটা হতে পারে আপনার ব্যাপারে যৌজখবর নিয়ে আপনার টাইমলাইন ঘেঁটে\nধরুন আপনার ফেসবুক অ্যাকাউন্টের security quesএ আপনার বাবার জন্মস্থান কোথায় এর সঠিক উত্তর হলো রংপুর এখন আপনি যদি এই প্রশ্নের উত্তর রংপুর দিয়েই সেভ করে রাখেন তাহলে একজন হ্যাকারের পক্ষে সোশ্যাল ইঞ্জিনিয়ারিং ব্যবহার করে খুব সহজেই এই উত্তরটা অনুমান করা সম্ভব\nউইকিপিডিয়ার তথ্যমতে হ্যাকার হচ্ছেন সেই ব্যক্তি যিনি নিরাপত্তাঅনিরাপত্তার সঙ্গে জড়িত এবং নিরাপত্তা ব্যবস্থার দুর্বল দিক খুঁজে বের করায় বিশেষ ভাবে দক্ষ অথবা কম্পিউটার ব্যবস্থায় অবৈধ অনুপ্রবেশ করতে সক্ষম বা এর সম্পর্কে গভীর জ্ঞানের অধিকারী \nসহজ ভাষায় বলতে গেলে হ্যাকিং হলো এমন একটি প্রক্রিয়া যেখানে  কোনো ব্যক্তি বা যে কেউ বৈধ অনুমতি ছাড়া কোনো কম্পিউটার বা নেটওয়ার্ক সিস্টেমে অনুপ্রবেশকে বুঝায়\nযাঁরা এই ধরনের কাজের সাথে জড়িত থারে তাদেরকে হ্যাকার বলে \nহ্যাকাররা যে সিস্টেম হ্যাক করে ঐ সিস্টেমের গঠন কার্যপ্রণালি সিস্টেমটি কিভাবে কাজ করে ইত্যাদি সকল তথ্য সম্পর্কে অভিজ্ঞ হয় \nকোনো সিস্টেম বা কম্পিউটার নেটওয়ার্কের দুর্বলতা খুজে বের করে সেটির নিরাপত ভাংগাই হ্যাকারদের কাজ \nযেকোনো সফটওয়্যার বা ওয়েবসাইট তৈরি করার সময় বা ব্যবহারের ভুলের কারণে অনেক  যায়গাতে দুর্বলতা বা ভুল থেকে যায় \nহ্যাকাররা ঐ দুর্বলভাকে কাজে লাগিয়ে হ্যাকিং কৌশল ব্যবহার করে\nমিডিয়া ডিভাইস সফটওয়্যার বা ওয়েবসাইট নিজের নিয়ন্ত্রণে নেয় বা হ্যাক করে থাকে\nকেভিন মিটনিক হ্যাকিং জগতের সবচেয়ে নামকরা ব্যক্তি\nহ্যাকিং জগতে  কেভিন মিটনিক কে ফাদার অব অফ  হ্যাকার বলা হয় \nযদিও  কেভিন মিটনিক নিজেকে একজন হ্যাকারের দলবদ্ধ করতে ইচ্ছুক নন তারমতে তিনি নিছক একজন সিকিউরিটি বিশেষজ্ঞ\nকেভিন মিটনিকের  হ্যাকিং জীবন শুরু হয় সোশ্যাল ইঞ্জিনিয়ারিং ব্যবহার করে লস অ্যাঞ্জেলসের পঞ্চ কার্ড হ্যাকিংয়ের মাধ্যমে \nপরবর্তীতে কেভিন মিটনিক অনেক বড় প্রতিষ্ঠান যেমন মটোরোলা নকিয়া ফুজিসু ইত্যাদির মত প্রতিষ্ঠানের কম্পিউটার সিস্টেম হ্যাক করেছিল \nআমেরিকার ন্যাশনাল সিকিউরিটি সিস্টেমের গুরুত্বপূর্ণ তথ্য হাতিয়ে নেয়ার অভিযোগ আছে কেভিন মিটনিকের নামে এজন্য তাকে কারাদন্ড ও দেয়া হয় \nমিটনিকের জীবনী নিয়ে ট্রাকডাউন নামে চলচ্চিত্র তৈরি হয়\nমাইকেল ফেন্স ইন্টারনেট দুনিয়ার মাফিয়া বয় হিসেবেই তার পরিচিতি\nএই কানাডিয়ান মাফিয়া বয় DoS Attack এর মাধ্যমে অ্যামাজন ডেল ইবে ফিফা সিএনএনের মতো বিশ্বের বড় বড় কোম্পানি হ্যাক করেছিলেন\nডেভিড স্মিথ ম্যালিসা ভাইরাসের স্রষ্টা \nম্যালিসা ভাইরাসটি ইন্টারনেটে ঢুকে ব্যাপক ক্ষতিসাধন করে এবং প্রায় টি বড় বড় কর্পোরেট প্রতিষ্ঠানের নেটওয়ার্কে হামলা চালায় এর মধ্যে মাইক্রোসফট ইন্টেল লুভেন্ট টেকনোলজির মতো কোম্পানি ছিল\nবিশ্বের ইতিহাসের সবচেয়ে বড় মিলিটারি কম্পিউটার হ্যাকের সঙ্গে জড়িয়ে ছিলেন এই গ্যারি ম্যাককিনন\nমার্কিন যুক্তরাষ্ট্রের আর্মি নৌবাহিনী নাসার মতো বড় বড় সরকারি দপ্তরের টি কম্পিউটার হ্যাক করেছিলেন গ্যারি ম্যাককিনন\nহোয়াইট হ্যাট হ্যাকার একজন কম্পিউটার নেটওয়ার্ক নিরাপত্তা পেশাদার হিসাবে পরিচিত\nএকজন হোয়াইট হ্যাট হ্যাকারের কম্পিউটার নেটওয়ার্কিং নেটওয়ার্ক প্রোটোকল এবং সিস্টেম অ্যাডমিনিস্ট্রেশন অন্তত তিনটি চারটি অপারেটিং সিস্টেম এবং স্ক্রিন্টিং এবং প্রোগ্রামিংয়ে উচ্চতর দক্ষতাএর গভীর জ্ঞান কয়েছে \nহ্যাকিং টুলগুলোতে হোয়াইট হ্যাট হ্যাকারেরও ভাল জ্ঞান আছে এবং হ্যাকিংয়ের সফটওয়্যারে কীভাবে প্রোগ্রাম করবেন তা তিনি জানেন \nহোয়াইট হ্যাট হ্যাকারের নেটওয়ার্কে বিরতি দেওয়ার দক্ষতা রয়েছে তবে তিনি সংস্থার সুরক্ষা করার জন্য তার দক্ষতা ব্যবহার করেন \nহোয়াইট হ্যাট হ্যাকার সিস্টেমের দুর্বলতা পরীক্ষা করতে পারে  এবং অনুপ্রবেশ পরীক্ষাগুলো করে থাকে \nহোয়াইট হ্যাট হ্যাকার এরা ইথিকাল হ্যাকার নামেও পরিচিত \nহোয়াইট হ্যাট হ্যাকাররা সাধারণত তাদের নেটওয়ার্কের দুর্বলতাগুলো পরীক্ষা করার জন্য কোম্পানি এবং সংস্থার দ্বারা নিযুক্ত হয়\nএকজন ব্ল্যাক হ্যাট হ্যাকার ক্র্যাকার নামেও পরিচিত \nকম্পিউটার নেটওয়ার্কিং নেটওয়ার্ক প্রোটোকল এবং সিস্টেম অ্যাডমিনিস্ট্রেশন কমপক্ষে তিনটি চারটি অপারেটিং সিস্টেম এবং স্ক্রিপ্টিং এবং প্রোগ্রামিংয়ের মধ্যে খুবই দক্ষতা গভীর জ্ঞানসহ ব্ল্যাক হ্যাট হ্যাকার একজন কম্পিউটার পেশাদার \nব্ল্যাক হ্যাট হ্যাকারের হ্যাকিং বিষয়ে অনেক ভাল জ্ঞান রয়েছে \nকজন ব্ল্যাক হ্যাট হ্যাকার অনৈতিক কারণে তার দক্ষতা ব্যবহার করে\nএকজন ব্ল্যাক হ্যাট হ্যাকার সবসময় একটি নেটওয়র্কে অনধিকার প্রবেশের জন্য খারাপ উদ্দেশ্য থাকে \nব্ল্যাক হ্যাট হ্যাকার এর কাজের উদাহরণ একটি কোম্পানির গবেষণা তথ্য চুরি করা ক্রেডিট কার্ড থেকে অর্থ চুরি করা ইমেল অ্যাকাউন্ট হ্যাক করা ইত্যাদি\nগ্রে হ্যাট হ্যাকার কাজ করে হোয়াইট হ্যাট হ্যাকার এবং ব্ল্যাক হ্যাট হ্যাকারের মাঝামাঝি \nগ্রে হ্যাট সাধারণত হ্যাকিংয়ে নেটওয়ার্ক প্রশাসকের কাছ থেকে অনুমতি ছাড়াই হ্যাকিং করে\nগ্রে হ্যাট হ্যাকার  ইচ্ছে করলে কারো ক্ষতি করতে পারে আবার উপকারও করতে পারে\nতবে  গ্রে হ্যাট  হ্যাকার তবে নেটওয়ার্ক অ্যাডমিনিস্ট্রেটরের নেটওয়ার্ক দুর্বলতাগুলো উন্মোচিত করে\nস্ক্রিপ্ট Kiddie মূলত অপেশাদার হ্যাকার যারা কম্পিউটার নেটওয়ার্ক মধ্যে হ্যাকিং করার তেমন দক্ষতা থাকে না \nতিনি অন্যান্য হ্যাকারনিরাপত্তা বিশেষজ্ঞদের দ্বারা তৈরি হ্যাকিং প্রোগ্রাম ইন্টারনেট থেকে ডাউনলোড করে হ্যাকিং সরঞ্জাম হিসাবে ব্যবহার করেন\n  হ্যাক্টিভিস্ট  মূলত কোন রাজনৈতিক ব্যাপার ধর্ম সোশ্যাল এ্যাটাক ইত্যাদির সাথে জড়িত \nতবে অধিকাংশ হ্যাক্টিভিস্টরা মূলত ডস এ্যাটাক বা ডিডস এ্যাটাকের সাথেই জড়িত \nফ্রেকার হল টেলিকম নেটওয়ার্ক হ্যাকার যারা অবৈধভাবে টেলিফোন সিস্টেম হ্যাক করছেন\nগ্রিন হ্যাট হ্যাকার Green Hat এরা হ্যাকিং বিশ্বে তরুন হ্যাকার \nগ্রিন হ্যাট হ্যাকারদের ওয়েব হ্যাকিংয়ের কোন জ্ঞান নেই\nগ্রিন হ্যাট হ্যাকারদের নবাগত হ্যাকার হিসেবে বিবেচনা করা হয় \nগ্রিন হ্যাট হ্যাকাররা হ্যাকিং এ খুব বেশি পারদর্শী হয় না \nরেড হ্যাট  হ্যাকাররা বিশ্বের জন্য হুমকি \nরেড হ্যাট  হ্যাকাররা অন্য দেশের ওয়েবসাইট এবং অনলাইন সেবা হ্যাক করে থাকে \nব্লু হ্যাট হ্যাকাররা বিভিন্ন কোম্পানির হয়ে সিকিউরিটি রক্ষার কাজ করে থাকে\nব্লু হ্যাট হ্যাকার রা  অত্যন্ত মেধাবী হয় \nব্লু হ্যাট হ্যাকারদের হ্যাকিং জ্ঞান সীমাবদ্ধ হলে ও এরা  বিভিন্ন কোম্পানির হয়ে নিরাপত্তা রক্ষার কাজ করে \nমাইক্রোসফটের মত কোম্পানি এ ধরনের হ্যাকার নিয়োজিত রেখেছে\nপ্রযুক্তির উন্নতির সাথে সাথে মানুষের জীবনযাত্রার মান পরিবর্তিত হয়েছে\nতেমনি প্রযুক্তিকে ক্ষতিকর কাজের উদ্দেশ্যে ব্যবহার করা শুরু হচ্ছে \n প্রযুক্তিও ক্ষতিকারক উদ্দেশ্যে ব্যবহারের ফলে অপরাধ প্রবণতা বাড়ছে \nআইটি সেক্টরের নেতিবাচক বা খারাপ দিক বলতে ভাইরাস ট্রোজান ওয়ার্ম ম্যালিলাস  প্রভৃতি ক্ষতিকর প্রোগ্রামের কার্যকলাপকে বুঝানো হয় \nকম্পিউটার ভাইরাস মূলত প্রোগ্রামারদের ডেভেলপ করা ক্ষতিকর প্রোগ্রাম \nপ্রযুক্তি যত উন্নত হচ্ছে তারসাথে পাল্লা দিয়ে  হ্যাকাররা উন্নত থেকে উন্নতর ক্ষতিকর কর্মকান্ডের পারদর্শী ভাইরাস বা ক্ষতিকর প্রোগ্রাম তৈরি করে ইন্টারনেটে ছেড়ে দিচ্ছে \nএর ফলে কম্পিউটার ব্যবহারকারীদের প্রয়োজনীয় সব তথ্য যেমন নাম অ্যাড্রেস পাসওয়ার্ড ব্যাংক অ্যাকাউন্টসহ গুরুত্বপূর্ণ সব তথ্য প্রতারক হ্যাকার সন্ত্রাসী ও সাইবার বিশ্বে বিচরনকারী অপরাধ চক্রের নাগালে খুব সহজেই পৌঁছে যাচ্ছে\nতাই এই সকল সাইবার বিশ্বের অপরাধীদের প্রতিহত করার জন্য প্রতিনিয়তই ডেভলপ করা হচ্ছে নিত্যনতুন ক্ষমতা ও বৈশিষ্ট্যের প্রযুক্তি এগুলোর মধ্যে অ্যান্টিভাইরাস অ্যান্টিস্পাইওয়্যার মডিউল ফায়ার ওয়াল উল্লেখযোগ্য\n\nকম্পিউটার অপারেটিং সিস্টেম ফায়ারওয়াল এমন এক ধরনের প্রতিরোধক ব্যবস্থা যা ইন্টারনেট ব্যবহার করার সময় অনাকাঙ্ক্ষিত সফটওয়্যার ম্যালওয়ার ইত্যাদিকে কম্পিউটারে বিনা অনুমতিতে প্রবেশ করার জন্য বাধা প্রদান করে \nফায়ারওয়াল নেটওয়ার্ক ডিভাইসসমূহের মধ্যে যোগাযোগ Communication কে সার্বক্ষনিকভাবে মনিটর করে এবং অন্যান্য উৎস থেকে আগত অবৈধ অনুপ্রবেশকে প্রতিহত করে \nঅ্যান্টিভাইরাস ব্যবহার করার মাধ্যমে কম্পিউটারকে ভাইরাস থেকে সুরক্ষিত রাখা যায় \nআমরা  আমাদের কম্পিউটার সিস্টেমের নিরাপত্তা বিধান করার জন্য অ্যান্টি ভাইরাস অ্যান্টি স্পাইওয়্যার মডিউল ফায়ারওয়াল ব্যবহার করব\nসাধারণ অর্থে ফায়ার ওয়াল বলতে আগুনের দেয়ালকে বুঝায় \n পূর্বে রাজা বাদশাহদের রাজপ্রাসাদের নিরাপত্তার জন্য প্রাসাদের চারপাশে পরিখা খনন করতো যাতে রাজ প্রাসাদে অযাচিত ভাবে কেউ প্রবেশ করতে না পারে\nঅনুরূপভাবে মাইক্রোসফট কর্পোরেশন কম্পিউটার সিস্টেমকে সুরক্ষার জন্য তাদের অপারেটিং সিস্টেমগুলোতে নিরাপত্তা ব্যবস্থা তৈরি করেছে যাকে ফায়ারওয়াল বা উইন্ডোজ ফায়ারওয়াল বলা হয় \nমাইক্রোসফট কর্পোরেশন তাদের অপারেটিং সিস্টেমে এটা শুরু করলেও অনেক অ্যান্টিভাইরাস বা থার্ডপার্টি  সফটওয়্যার এখন ফায়ারওয়াল সেবা দিয়ে থাকে\nফায়ারওয়াল মূলত বাহিরের আক্রমন থেকে কম্পিউটারকে রক্ষা করার জন্য হার্ডওয়্যার এবং সফটওয়্যারের মিলিত প্রায়াস  \nলোকাল এরিয়া নেটওয়ার্ক LAN এর ক্ষেত্রে ফায়ারওয়ালের সবচেয়ে বেশি ব্যবহৃত হয় \nতথ্যের নিরাপত্তা রক্ষাও ফায়ারওয়াল এর কাজের অংশ \nফায়ারওয়াল হলো বিশেষ ধরনের নিরাপত্তা ব্যবস্থা যা দুইদিক থেকেই কম্পিউটার সিস্টেমকে প্রটেক্ট করে\nএর মাধ্যমে এক নেটওয়ার্ক থেকে আরেক নেটওয়ার্কে ডাটা প্রবাহ নিয়ন্ত্রন করা যায়\nসেক্ষেত্রে দুই নেটওয়ার্কের মাঝে এই ফায়ারওয়াল থাকে\nএর ফলে এক নেটওয়ার্ক থেকে অন্য নেটওয়ার্কে ডাটা প্রবাহিত হলে সেটিকে অবশ্যই ফায়ারওয়াল অতিক্রম করতে হয় \nফায়ারওয়াল তার নিয়ম অনুসারে সেই ডাটা পরীক্ষা নিরীক্ষা করে এবং সবকিছু ঠিক থাকলে গন্তব্যে  যাওয়ার অনুমতি দেয়\nফায়ারওয়াল তার নিয়ম অনুসারে সেই ডাটা পরীক্ষা নিরীক্ষা করে এবং সবকিছু ঠিক না থাকলে সেটিকে আটকিয়ে রাখে\nবর্তমান সময়ে সাইবার আক্রমন একটি আশঙ্কার ব্যাপার \nকম্পিউটার সিস্টেমে যে কোনোভাবে যে কোনো স্থান থেকে সাইবার আক্রমন আসতে পারে \nসেই আক্রমন প্রতিরোধ করার জন্য অবশ্যই ভাল নিরাপত্তা ব্যবস্থা থাকা জরুরী \nফায়ারওয়াল হলো অন্যতম একটি প্রটেকশন ব্যবস্থা যার মাধ্যমে অনাকাংখিত ম্যালওয়্যার সফটওয়্যার ইত্যাদি কম্পিউটার সিস্টেমে প্রবেশে বাধা প্রদান করা হয় \nকারন হল হ্যাকাররা আমাদের কম্পিউটার সিস্টেমে যে কোনো অনাকাঙ্ক্ষিত সফটওয়্যার ম্যালওয়্যার ইত্যাদি \nকম্পিউটারে প্রবেশ করিয়ে গুরুত্বপূর্ণ ডাটা অনলাইন একাউন্ট ইনফরমেশন বা ক্রেডিট কার্ড ইনফরমেশন ইত্যাদি চুরি করতে পারে\nতাই যেকোনো সফটওয়্যার ডাউনলোড করার ক্ষেত্রে বিশ্বস্ত সাইট থেকে ডাউনলোড করতে হবে \nআর সকল প্রকার অনাকাঙ্খিত বিষয় থেকে বাঁচতে কম্পিউটারে কম্পিউটারে ফায়ারওয়াল চালু থাকা অনেক বেশি জরুরী\nএছাড়াও কিছু কারণসমূহের জন্য ফায়ারওয়াল ব্যবহার করা প্রয়োজন\nক্ষতিকর প্রোগ্রাম থেকে সুরক্ষা জন্য ফায়ারওয়াল ব্যবহার করা প্রয়োজন\n আমরা যখন বিভিন্ন ওয়েবসাইট ব্রাউজ করি বিভিন্ন ওয়েবসাইট থেকে প্রয়োজনীয় রিসোর্স ডাউনলোড করি তখন আমাদের অজান্তেই অনেক ক্ষতিকারক প্রোগ্রাম কম্পিউটারে প্রবেশের চেষ্টা করে \n ফায়ারওয়াল এসব ক্ষতিকারক প্রোগ্রাম থেকে আমাদের কম্পিউটার সিস্টেমকে সুরক্ষিত রাখে\nঅবাঞ্ছিত বিষয়বস্তুর সাথে সংযোগ ব্লক করার  জন্য ফায়ারওয়াল ব্যবহার করা প্রয়োজন\nএখনো অনেক ইউজার উইন্ডোজের পুরোনো ভার্সন যেমন Windows XP ব্যবহার করে \nআরো খারাপ বিষয় হলো তারা ফায়ারওয়াল ইউজ করে না এবং বিল্টইন ফায়ারওয়াল ডিফল্টভাবে সক্রিয় করা থাকে না ফলে উক্ত পিসিতে সহজেই অবাঞ্ছিত বিষয়বস্তু প্রবেশ করতে পারে \nতাই এ সকল অবাঞ্ছিত বিষয়বস্তুর সাথে কম্পিউটারের সংযোগকে ব্লক করে রাখতে ফায়ারওয়াল গুরুত্বপূর্ণ ভূমিকা পালন করে\nরিমোট অ্যাক্সেস থেকে কম্পিউটারকে রক্ষা করার জন্য ফায়ারওয়াল ব্যবহার করা প্রয়োজন \nদূরবর্তী  অবস্থান থেকে যদি কেউ কোনো ব্যবহারকারীর কম্পিউটারের নিয়ন্ত্রণ নেয়ার চেষ্টা করে কিংবা নিয়ে নেয় তাহলে এটি হবে একজন ব্যবহারকারীর কাছে সবচেয়ে দুঃখজনক ব্যাপার \nফায়ারওয়াল এক্ষেত্রে গুরুত্বপূর্ণ ভূমিকা পালন করে\nফায়ারওয়াল এইসব অনাকাঙ্ক্ষিত অ্যাক্সেস এবং হ্যাকারদের প্রতিরোধ করে থাকে\nঅনলাইন গেম দ্রুত জনপ্রিয়তা লাভ করছে\nকিন্তু এ সকল ক্ষেত্রে ডাটার নিরাপত্তা ঝুকির সম্ভাবনা অনেক বেশি\nঅনেক অনলাইন গেমাররা অরক্ষিত গেম সার্ভার ব্যবহার করে কিন্তু ফায়ারওয়াল এক্ষেত্রে সুরক্ষা প্রদান করে\nঅনুপযুক্ত কন্টেন্ট ব্লক করার জন্য ফায়ারওয়াল ব্যবহার করা প্রয়োজন \nআমরা যদি কোনো ঝুঁকিপূর্ণ ওয়েবসাইটে ব্রাউজ করি ফায়ারওয়াল তখন ঐসব অনলাইন লোকেশনকে ব্লক করে দেয় \nব্যবহারকারী ছাড়া অন্য কেউ যদি এমন ব্লক করা সাইটে ঢোকার চেষ্টা করে ফায়ারওয়াল সেই চেষ্টাকে প্রতিহত করে দেয়\nসাধারণত ফায়ারওয়ালের দুটি নেটওয়ার্ক ইন্টারফেস থাকে \nফায়ারওয়াল এর দুটি নেটওয়ার্ক ইন্টারফেসের একটি নেটওয়ার্কের বাহ্যিক দিকের জন্য\n ফায়ারওয়াল এর দুটি নেটওয়ার্ক ইন্টারফেসের  একটি অভ্যন্তরীণ দিকের জন্য \nএর উদ্দেশ্য হলো ট্রাফিককে এক পাশ থেকে অন্য দিকে যাওয়ার অনুমতি দেওয়া নিয়ন্ত্রণ করা \nমূল উদ্দেশ্যে হিসাবে ফায়ারওয়াল নির্দিষ্ট আইপি ঠিকানা বা সার্ভার পোটের ট্রাফিক অবরোধ করতে পারে\nফায়ারওয়াল আমাদের কম্পিউটার সিস্টেমের সুরক্ষা প্রদান করে থাকে \nসাধারণত দুই প্রকারের ফায়ারওয়াল দেখতে পাওয়া যায় \nএকটি হলো হার্ডওয়্যারনির্ভর ফায়ারওয়াল এবং অপরটি হলো সফটওয়্যার নির্ভর ফায়ারওয়াল \nহার্ডওয়্যার ফায়ার ওয়ালের সবচেয়ে ভাল উদাহরণ হল রাউটার\nরাউটার দিয়ে আমরা সাধারনত দুটি নেটওয়ার্কের মাঝে কমিউনিকেশন করার জন্য পথ বা রাস্তা তৈরি করে দিই\nরাউটার একেক নেটওয়ার্কের মাঝে কমিউনিকেশন করার পথ বা একটি রাস্তা তৈরি করে \nআর একেক নেটওয়ার্কের অধীনে থাকে বেশ কিছু ইউজার বা আইপি অ্যাড্রেস \nএখন আপনার রাউটারে যদি ফায়ারওয়াল অন করা থাকে তবে এটি এর সাথে সংযুক্ত সকল ডিভাইসকে ফায়ার ওয়াল সুরক্ষা ব্যবস্থার আওতায় নিয়ে আসবে \n এছাড়াও আলাদা ডেডিকেটেড ফায়ারওয়াল ডিভাইস বাজারে কিনতে পাওয়া যায় \nএই ফায়ারওয়াল ডিভাইসগুলো এক প্রকার হার্ডওয়্যার প্রোটেকশন প্রদান করে থাকে\nকয়েকটি হার্ডওয়্যার নির্ভর ফায়ারওয়াল হলোWatch Guard Check PointCisco PIXNET Screen etc\nউইন্ডোর অপারেটিং সিস্টেমের ভেতরে ডিফল্টভাবে ফায়ার ওয়ালের সুবিধা থাকে \nবিভিন্ন অ্যান্টিভাইরাস নির্মাতা কোম্পানি  যেমন অ্যাভাস্ট নরটন ম্যাকফি এডিজি ইত্যাদি এসকল অ্যান্টিভাইরাসগুলোর সাথে তারা ফায়ারওয়াল সুরক্ষা প্রদান করে থাকে\nহার্ডওয়্যার নির্ভর ফায়ার ওয়ালের মতোই সফটওয়্যার নির্ভর ফায়ারওয়াল কাজ করে থাকে\nকয়েকটি সফটওয়্যার নির্ভর ফায়ারওয়াল এর নাম উল্লেখ করা হলো\nসফটওয়্যার এবং হার্ডওয়্যার নির্ভর ফায়ারওয়াল ছাড়াও বিভিন্ন প্রকার ফায়ার ওয়াল টেকনিক লক্ষ করা যায়\nপ্যাকেট ফিল্টার এটি পুরো নেটওয়ার্কের জন্য ট্রাফিক ফিল্টার করতে পারে\nপ্যাকেট ফিল্টার অত্যান্ত দ্রুত এবং দক্ষতার সাথে ট্রাফিক স্ক্যান করতে পারে \nএটি প্রতিটা প্যাকেটের দিকেই লক্ষ রাখে নেটওয়ার্কে প্রবেশ ও বের হওয়ার সময় ইউজারের দেয়া নিয়ম কানুনের ভিত্তিতে প্যাকেট অ্যাক্সেপ্ট বা রিজেক্ট করে\n প্রক্সি সার্ভার এটি নেটওয়ার্কের মধ্যে প্রবেশ ও বের হওয়ার সময় প্রতিটি মেসেজ চেক করে \nপ্রক্সি সার্ভার সত্যিকারের নেটওয়ার্কের ঠিকানা নিখুতভাবে লুকিয়ে রাখতে সক্ষম\nঅ্যাপ্লিকেশন গেটওয়ে এটি এফটিপি ও টেলনেট সার্ভারের মতো অ্যাপ্লিকেশনের উপর সিকিউরিটি মেকানিজম প্রয়োগ করে \nসার্কিট লেভেল গেটওয়েঃ এটা যখন টিসিপি বা ইউডিপি কানেকশন স্থাপিত হয় তখন সিকিউরিটি মেকানিজম প্রয়োগ করে\nপ্যাকেট ফিল্টার এটি প্রতিটা প্যাকেটের দিকেই লক্ষ রাখে নেটওয়ার্কে প্রবেশ ও বের হওয়ার সময় ইউজারের দেয়া নিয়মকানুনের ভিত্তিতে প্যাকেট অ্যাক্সেস বা রিজেক্ট করে \nপ্যাকেট অ্যাক্সেস বা রিজেক্টএর অ্যাডমিনিস্ট্রেটর ইচ্ছেমতো নতুন নিয়মকানুন নির্ধারণ করে দিতে পারেন অথবা ডিফল্ট রুলগুলো সেট করে দিতে পারেন \nপ্যাকেট ফিল্টারিং স্বচ্ছ ও কার্যকরী ব্যবস্থা\nকিন্তু প্যাকেট ফিল্টারিং কনফিগার করা কঠিন \nএ ছাড়া প্যাকেট ফিল্টারিং আইপি স্পুফিংয়ের উপরও নির্ভর করে\nঅপ্রয়োজনীয় ও বাজে কনটেন্টগুলো পর্যবেক্ষণ করে ফায়ারওয়াল নেটওয়ার্কে কম্পিউটার ওয়ার্ম ও ট্রোজানের ব্যাপক হারে ছড়িয়ে পড়া রোধ করে \nঅ্যাপ্লিকেশন গেটওয়ে খুবই কার্যকর ব্যবস্থা\nকিন্তু বিভিন্ন ধরনের অ্যাপ্লিকেশনের উপর একসাথে কাজ করতে গিয়ে  অ্যাপ্লিকেশন গেটওয়ে পিসির পারফামেন্স অনেকটাই কমিয়ে দেয়\n সার্কিট লেভেলঃ যখন টিসিপি বা ইউডিপি কানেকশন স্থাপন করা হয় তখন এটি সিকিউরিটি মেকানিজম প্রয়োগ করে \nযখন কানেকশন তৈরি হয়ে যায় তখন প্যাকেটগুলো হস্টের মধ্যে ইচ্ছামতো আসাযাওয়া করতে পারে কোনো প্রকার চেকিং ছাড়াই\nপ্রক্সি সার্ভার এটি নেটওয়ার্কের মধ্যে প্রবেশ ও বের হওয়ার সময় প্রতিটা মেসেজ চেক করে\nপ্রক্সি সার্ভার সত্যিকারের নেটওয়ার্কের ঠিকানা নিখুঁতভাবে লুকাতে পারে\nবাস্তবে দেখা যায় যে বেশিরভাগ ফায়ারগুলই নিরাপত্তার জন্য দুই বা ততোধিক পদ্ধতি ব্যবহার করে থাকে\nপ্রযুক্তির প্রসারের ফলে প্রযুক্তি ব্যবহার করে বিভিন্ন ধরনের অপরাধ সংঘঠিত হচ্ছে\nতাই অনলাইন নিরাপত্তা খুব গুরুত্বপূর্ণ ব্যাপার হয়ে দাড়িয়েছে \nঅনলাইন নিরাপত্তা বলতে মূলত কিছু সচেতনতা কিছু উপায় যার মাধ্যমে ব্যক্তিগত তথা কম্পিউটার বিভিন্ন ধরনের ডিজিটাল ডিভাইস কম্পিউটার সিস্টেম ইত্যাদিকে হ্যাকিং ও বিভিন্ন ধরনের আক্রমণ থেকে নিরাপদ রাখা \nএকজন ইন্টারনেট ব্যবহারকারী যে সকল অনলাইন সমস্যার সম্মুখীন হয় সেগুলোর মধ্যে অন্যতম হলো মেইল বা অন্য কোনোউপায়ে প্রদান করা ফাইল চুরি হওয়া\nএকজন ইন্টারনেট ব্যবহারকারী যে সকল অনলাইন সমস্যার সম্মুখীন হয় সেগুলোর মধ্যে অন্যতম হলো ব্যবহারকারীর গুরুত্বপূর্ণ অ্যাকাউন্ট বা আইডি হ্যাক হওয়া \nএকজন ইন্টারনেট ব্যবহারকারী যে সকল অনলাইন সমস্যার সম্মুখীন হয় সেগুলোর মধ্যে অন্যতম হলো ব্যাংকিং সেকশনে ট্রানজেকশনের সময় ডেভিড কার্ড বা ক্রেডিট কার্ডের তথ্য চুরি হওয়া ইত্যাদি \nম্যালওয়্যার Malware এর পূর্ণ নাম হল ম্যালিলিয়াস সফটওয়্যার Malicious softwar\nম্যালওয়ার  কম্পিউটার সিস্টেমের জন্য একটি ক্ষতিকারক প্রোগ্রাম যা ব্যবহারকারীদের অনুমতি ছাড়া পরিকল্পিত কোনো নেটওয়ার্কের যায়গায় আঘাত করে কোনো তথ্য বা ডাটা হাতিয়ে নেয় বা চুরি করে এবং কম্পিউটারের ক্ষতি করে থাকে \nবিভিন্ন ধরনের ম্যালওয়্যারের মধ্যে বেশ কয়েকটি উল্লেখযোগ্য ম্যালওয়্যার সম্পর্কে আলোচনা করা হল\nভাইরাস VIRUS শব্দের পূর্ণরূপ Vital Information Resources Vnder Seize যার অর্থ হলো জরুরী তথ্যের উৎসগুলো বাজেয়াপ্ত করা হয়েছে \nকম্পিউটার ভাইরাস হলো একটি ক্ষতিকারক প্রোগ্রাম যা যেকোনো মাধ্যমে যেমন ইন্টারনেট পেনড্রাইভ ফ্লাশ ড্রাইভ ইত্যাদি মাধ্যমেকম্পিউটারে প্রবেশ করে এবং গোপনে বিস্তার লাভ করে\n এটি যেকোনো কম্পিউটার সিস্টেমে প্রবেশ করে জরুরী তথ্য নষ্ট করে কম্পিউটার সিস্টেমকে স্লো করে দেয় বা বিকল করে দিতে পারে \nভাইরাস এমন একটি ভয়ংকর প্রোগ্রাম যা নিজেই নিজের কপি করতে পারে \nভাইরাস সহজেই এক কম্পিউটার থেকে অন্য কম্পিউটারে ছড়িয়ে পড়তে পারে\nরেসিডেন্ট ভাইরাসঃ এই ধরনের ভাইরাসগুলো কম্পিউটারের RAM এ কিছুটা জায়গা দখল করে লুকিয়ে থাকে এবং বিভিন্ন ফাইল কারাপ্ট  করে সিস্টেমের কাজে বাধা প্রদান করে\nবুট ভাইরাসের কারণে কম্পিউটার চালু বা বুট হতে বাধা দেয়\nম্যাক্রো ভাইরাস Microsoft word Microsoft Excel এই জাতীয় software গুলোতে হামলা করে \nম্যাক্রো ভাইরাসগুলো ম্যাক্রো ল্যাংগুয়েজ দিয়ে তৈরি\nফাইল বা প্রোগ্রাম ভাইরাসঃ এই ধরনের ভাইরাসগুলো কম্পিউটারের অপারেটিং সিস্টেমের বিভিন্ন সিস্টেম ফাইলের ক্ষতিসাধন করে থাকে যেমন উইন্ডোজের exe ফাইল\nওয়ার্মস কোনো কম্পিউটার যদি ওয়ার্মস দ্বারা আক্রান্ত হয় তবে এটি কম্পিউটারে অনেকগুলো একই ফাইল তৈরি করে \nওয়ার্মস প্রোগ্রাম নিজেদেরকে কপি করতে পারে\nওয়ার্মস প্রোগ্রাম নিজেদেরকে কপি করতে পারার ফলে সিস্টেম স্লো হয়ে যায় \nআক্রান্ত কম্পিউটার থেকে যদি আরেকটি কম্পিউটারে কিছু কপি করা হয় তবে এটি সেই কম্পিউটারকেও আক্রান্ত করে এবং একই ভাবে হাজার হাজার একই ফাইল একই নামের ফোল্ডার বার বার তৈরি করে সিস্টেমকে স্লো করে ফেলে \nট্রোজান হর্স ট্রোজান হর্স এক ধরনের ক্ষতিকর Program বা software যা ব্যবহারকারীর অগোচরে কম্পিউটার সিস্টেমে ঢুকে পড়ে\nঅ্যাডওয়্যার  মূলত বিভিন্ন বিজ্ঞাপন প্রদর্শনের মাধ্যমে ইউজারদের কাজের অসুবিধা সৃষ্টি করে \nবিশ্বস্ত সোর্স ছাড়া অন্য সোর্স থেকে সফটওয়্যার ব্রাউজার অথবা প্লাগইন ইন্সটল করার মাধ্যমে অ্যাডওয়্যার কম্পিউটার সিস্টেমে ঢুকে পড়ে\n স্পাইওয়্যার হচ্ছে এক ধরনের সফটওয়্যার যা ইউজারের অজান্তেই কম্পিউটারে ডাউনলোড হয়ে ইনস্টল হয় এবং ইউজারের কম্পিউটারে বিভিন্ন ধরনের তথ্য চুরি করে পাচার করে \nস্পাইওয়্যার মূলত ইন্টারনেট সার্ফিংএর উপরে নজরদারী করে এবং অ্যাড রিলেটেড ব্যাপারগুলোর সাথে সম্পৃক্ত থাকে \nস্পাইওয়্যার একটি বৈধ কোড কিংবা সফটওয়্যারেও থাকতে পারে\nহ্যাকাররা বিভিন্ন কারণে হ্যাকিং করে থাকে \nযৌক্তিক এবং অযৌক্তিক দুই ধরনের কারণই হ্যাকিংএর সঙ্গে জড়িত \nহ্যাকিং এর কিছু উল্লেখযোগ্য কারণ আছে \nহ্যাকার দের অনেকের কাছে হ্যাকিং করাটা এক ধরনের বিনোদন\nআর্থিকভাবে লাভবান হওয়ার উদ্দেশ্যে হ্যাকার রা হ্যাকিং করে থাকে যেমন ক্রেডিট কার্ড হ্যাকিং\nনিজেদের দক্ষতা প্রমাণের উদ্দেশ্যে  হ্যাকার রা হ্যাকিং করে থাকে \nকোনো সন্দেহ নেই যে হ্যাকিং আনইথিক্যাল অবশ্যই একটি অপরাধ\nএকজনের প্রাইভেসিতে হাত দেয়ার অধিকার আরেকজনের নেই \n তারপরও হ্যাকিং কিছু ক্ষেত্রে অত্যন্ত প্রয়োজনীয়\nকম্পিউটার এবং নেটওয়ার্ক সুরক্ষা শক্তিশালী করার জন্য অনুপ্রবেশ পরীক্ষা সঞ্চালন \nহারিয়ে যাওয়া তথ্য পুনরুদ্ধারের জন্য হ্যাকিং প্রয়োজনীয়  যেমনঃ পাসওয়ার্ড হারিয়ে গেলে\nনিরাপত্তার ভাঙ্গন প্রতিরোধ করার জন্য পর্যাপ্ত প্রতিরোধমূলক ব্যবস্থা রাখা \nকম্পিউটার সিস্টেমে ফায়ারওয়াল হলো এমন এক ধরনের সুরক্ষা ব্যবস্থা যা ইন্টারনেট ব্যবহারের সময় অনাকাঙ্খিত সফটওয়্যার ম্যালওয়্যার ইত্যাদিকে বিনা অনুমতিতে কম্পিউটার সিস্টেমে প্রবেশ করতে দেয় না \nসাধারণত দুই ধরনের ফায়ারওয়াল দেখা যায় \nউভয় প্রকার ফায়ারওয়ালের মাধ্যমে অনলাইন সুরক্ষা নিশ্চিত করা হয়\nআমরা যখন কোনো ওয়েবসাইটে প্রবেশ করার জন্য ব্রাউজার থেকে রিকুয়েস্ট পাঠাই তখন আমাদের সেন্ড করা রিকুয়েস্টএর সাথে নেটওয়ার্ক আইডি যুক্ত হয়ে যায় এবং রাউটার সেই রিকুয়েস্টকে প্যাকেটরূপে কাঙ্খিত সার্ভারের কাছে পাঠিয়ে দেয় \nআবার সার্ভার থেকে যখন ফিরতি প্যাকেট রাউটারের কাছে পৌঁছায় তখন সেই প্যাকেটেও নেটওয়ার্ক আইডি যুক্ত থাকে \nরাউটারে যদি এমন কোনো প্যাকেট আসে যাতে নেটওয়ার্ক আইডি নেই তখন ফায়ারওয়াল সেটিকে তাৎক্ষনিক ব্লক করে দেয়\nহার্ডওয়্যার ফায়ারওয়াল অন্য ধরনের ফায়ারওয়ালের চেয়ে দ্রুত এবং নেটওয়ার্কে কার্যকর করা সহজ\nহার্ডওয়ার ফায়ারওয়ালের প্রধান অসুবিধা হলো যদি নেটওয়ার্ক ফায়ারওয়াল ব্যার্থ হয় তাহলে নেটওয়ার্কের সমস্ত ট্রাফিক বন্ধ হয়ে যাবে\nএছাড়া হার্ডওয়্যার ফায়ারওয়াল সফটওয়্যার ফায়ারওয়ালের চেয়ে বেশি খরচ পড়ে\nবিশেষভাবে প্রশিক্ষিত কর্মীদের দ্বারা হার্ডওয়্যার ফায়ারওয়াল ডিভাইসটিকে পরিচালনা করতে হয়\nহার্ডওয়্যার ফায়ারওয়াল এর আরেকটি অসুবিধা হলো বিভিন্ন সংস্থার দ্বারা ডিজাইন করা ফায়ারওয়াল গুলো বিভিন্ন কনফিগারেশনের হয়ে থাকে\nসফটওয়্যার ফায়ারওয়াল হলো বিশেষ ফায়ারওয়াল প্রোগ্রাম যা সার্ভার পিসি বা রাউটার ডিভাইসে ইনস্টল করা যায় \nসফটওয়্যার ফায়ারওয়াল  ইনস্টল এবং সঠিকভাবে কনফিগার করার পরে এটি হার্ডওয়্যার ফায়ারওয়ালের মতো একইভাবে কাজ করে \nকম্পিউটার সিস্টেমে ইনস্টল থাকা কোনো গেম বা সফটওয়্যার যদি কোনো ইন্টারনেট সংযোগের জন্য রিকুয়েস্ট করে তখন ফায়ারওয়াল থেকে কম্পিউটার ব্যবহারকারীর কাছে অনুমতির জন্য একটি পপআপ প্রদর্শিত হবে \nঅনুমতি প্রদান না করা পর্যন্ত ইনস্টল করা সফটওয়্যারটি ইন্টারনেট ব্যবহার করে কোনো ডাটা সেন্ড বা রিসিভ করতে পারবে না\nউইন্ডোজ ফায়ারওয়াল সবসময় এটা মনিটর করে যে আউটগোয়িং ট্র্যাফিক এবং যে ইনকামিং ট্রাফিক তাদের উৎস কোথায় এদের আইপি অ্যাড্রেস কি এরা বিশ্বস্ত কিনা\n কোনো ইনকামিং ট্র্যাফিক অনাকাঙ্ক্ষিত সফটওয়্যার ইনস্টল হচ্ছে কিনা এসব বিষয়ের উপর নির্ভর করে ফায়ারওয়াল সিদ্ধান্ত নেয় যে কোনো ট্রাফিককে প্রবেশের অনুমতি দিবে এবং কোন ট্রাফিক ব্লক করবে\nসফটওয়্যার ফায়ারওয়াল বিদ্যমান নেটওয়ার্কে ডিভাইসে ইনস্টল করা যেতে পারে তাই এটি সাধারণত হার্ডওয়্যার ফায়ারওয়াল এর চেয়ে সস্তা\nইন্টারনেটে অনেক ফ্রি নেটওয়ার্কের প্রোগ্রাম রয়েছে যা বিনামূল্যে পিসিতে ডাউনলোড করা যায়\nসফটওয়্যার ফায়ারওয়াল কম্পিউটারে চলমান অন্যান্য অ্যাপ্লিকেশনগুলোর সাথে সিস্টেম মেমরি ভাগ করে \nযথেষ্ট পরিমাণে মেমরি না থাকলে এটি কম্পিউটারের কর্মক্ষমতা প্রভাবিত করতে পারে\nবেশিরভাগ সময় সফটওয়্যার ফায়ারওয়াল কোম্পানি বিনামূল্যে ফায়ারওয়াল অ্যাপ্লিকেশনটি কেবল মৌলিক নেটওয়ার্ক সুরক্ষা প্রদান করে \nসমস্ত আক্রমণের বিরুদ্ধে সম্পূর্ণ সুরক্ষা পেতে আপনাকে পরিসেবার জন্য অগ্রিম অর্থ প্রদান করতে হবে নেটওয়ার্কে ফায়ারওয়াল ব্যবহার করার সুবিধা\n\nঅননুমোদিত হোস্ট সংবেদনশীল তথ্য এক্সপোজার প্রতিরোধ করা নেটওয়ার্কে ফায়ারওয়াল ব্যবহার করার সুবিধা\n\nদুটি নেটওয়ার্কে মধ্যে বা দুটি হোস্টের মধ্যে তথ্য প্রবাহ নিয়ন্ত্রণ করা যেতে পারে নেটওয়ার্ক ফায়ারওয়াল ব্যবহার করার সুবিধা\n\nতথ্য প্যাকেটের গভীর পরীক্ষার মাধ্যমে নির্দিষ্ট প্রোটোকল নেটওয়ার্কের মধ্যে অনুমোদিত বা অস্বীকার করতে পারে\nনিরাপত্তা নীতি নিয়ম প্রযুক্তিগত নিয়ন্ত্রণ প্রদান কনফিগার করা যাবে নেটওয়ার্ক ফায়ারওয়াল এর মাধ্যমে \nপ্রযুক্তির প্রসারে পুরো পৃথিবী এখন হাতের মুঠোয় \nশতবছর আগে যে সকল বিষয় মানুষের চিন্তার বাইরে ছিল মানুষ আজ সেগুলোর বাস্তব প্রয়োগ দেখছে \nব্যাপক ভাবে প্রযুক্তির প্রচার ও প্রসারের ফলে মানুষের হাতে হাতে পৌঁছে গেছে স্মার্টফোন কম্পিউটার সহ বিভিন্ন ডিজিটাল ডিভাইস \nশহর অঞ্চল থেকে শুরু করে গ্রাম অঞ্চলেও পৌছে গেছে ইন্টারনেট সেবা \nফলে ইন্টারনেট ব্যবহার করে এই সকল ডিজিটাল ডিভাইসের মাধ্যমে মুহূর্তেই যেকোনো তথ্য বের করা যায় \nকিন্তু ইন্টারনেট ব্যবহারকারীদের বড় একটা অংশ প্রযুক্তির এই সুবিধাকে কাজে লাগিয়ে বিভিন্ন প্রকার সাইবার অপরাধ করে যাচ্ছে \nইন্টারনেট ব্যবহার করার মাধ্যমে যে কোনো অপরাধ সংঘটিত হলে তাকে সাইবার অপরাধ বলে \nকম্পিউটার সিস্টেম বা নেটওয়ার্ক  ব্যবহার করে কোনো ব্যক্তি বা প্রতিষ্ঠানকে তার কাজে বিরত রাখা বা কোনো কাজে বাধ্য করা কোনো জনগোষ্ঠীকে ভীতি প্রদর্শন করা জালিয়াতি করা প্রতারনা করা কম্পিউটার সিস্টেমের ক্ষতিসাধন করা ইত্যাদি অনেক বিষয় আছে যা সাইবার অপরাধ বলে গণ্য করা হয় \n এই অধ্যায়ে আমরা সাইবার জগতের সঠিক ব্যবহার যাকে সাইবার নৈতিকতা বলে ইথিক্যাল হ্যাকিং বা নৈতিক হ্যাকিং কি এবং এর বিভিন্ন দিক সমূহ সাইবার নিরাপত্তা বাংলাদেশে সাইবার অপরাধের বিভিন্ন আইন নিয়ে বিস্তারিত আলোচনা করব\nসাইবার নৈতিকতা cyber ethics বলতে কম্পিউটার সম্পর্কিত এক প্রকার নীতিশাস্ত্রকে বুঝায় \nযেখানে ব্যবহারকারীকে কম্পিউটারের সঠিক ব্যবহার এবং এর মাধ্যমে কীভাবে ব্যক্তি এবং সমাজকে প্রভাবিত করা যায় সে সম্পর্কে বিস্তারিত আলোচনা করা হয় \nবিভিন্ন সংস্থা সাইবার নৈতিকতা সম্পর্কিত বিষয়গুলো বিভিন্নভাবে ব্যাখ্যা করে থাকেন এবং সেই অনুযায়ী সেই দেশের সরকার আইন প্রণয়ন করে \nঅর্থাৎ সাইবার নৈতিকতা বলতে সাইবার জগতের যা কিছু আছে সব কিছুর দায়িত্বশীল ব্যবহারকে বুঝায় \n ইন্টারনেট এবং এর ব্যবহার সঠিকভাবে পরিচালনা করা সাইবার নৈতিকতার জন্য খুবই গুরুত্বপূর্ণ \nসাইবার নৈতিকতা হলো  সাইবার জগতে এমনকিছু না করা যা দৈনন্দিন জীবনে ভুল বা অবৈধ বলে মনে হয়\nঅনলাইনে অন্য কারও ক্ষতি হয় এই ধরনের সকল কাজই সাইবার নৈতিকতা বিরোধী \nএরকম কিছু সাইবার নৈতিকতা বিরোধী কাজ তুলে ধরা হলো\nহ্যাকিং বলতে মূলত কোন কম্পিউটার বা নেটওয়ার্ক সিস্টেমের মধ্যে অনুমতিবিহীন অনুপ্রবেশকে বোঝায় \nকোনো কম্পিউটার বা নেটওয়ার্ক সিস্টেম হ্যাকিংয়ের মাধ্যমে সেখন থেকে গুরুত্বপূর্ণ তথ্য গ্রহণ করা মুছে দেয়া বা এমনভাবে পরিবর্তন করা হয় যা ওই ব্যক্তি বা প্রতিষ্ঠানের জন্য ক্ষতিকর হয়\nইন্টারনেটকে কেন্দ্র করে যে সকল কম্পিউটার অপরাধ সংঘটিত হয় তাদেরকে সাইবার অপরাধ বলা হয় \nসফটওয়্যার পাইরেসি বলতে বুঝায় অবৈধভাবে সফটওয়্যার বা প্রোগ্রাম কপি পুনরুৎপাদন করা বা ডিস্ট্রিবিউট করা ব্যবহার করা অবৈধভাবে ইন্টারনেট থেকে ডাউনলোড করা নিজের নামে বিতরন করা কিংবা কোনো প্রকার পরিবর্তনের মাধ্যমে নিজের নামে চালিয়ে দেয়া ইত্যাদি কার্যক্রমকে বুঝায়\nযে কোনো ব্যক্তি বা প্রতিষ্ঠানের কোনো সাহিত্য গবেষণা বা সম্পাদনা কর্ম হুবহু নকল বা আংশিক পরিবর্তন করে নিজের নামে প্রকাশ করাই হলো প্লেজিয়ারিজম\n ইমেইল অ্যাকাউন্টে আমরা প্রায়শই কিছুকিছু অচেনা ও অপ্রয়োজনীয় মেইল পেয়ে থাকি যা আমাদের বিরক্তি ঘটায় \nএই ধরনের ইমেইলকে সাধারণত স্প্যাম মেইল বলে \n ফিশিং বলতে প্রতারণার মাধ্যমে কারো কাছ থেকে ব্যক্তিগত তথ্য যেমন ব্যবহারকারীর নাম ও পাসওয়ার্ড ক্রেডিট কার্ডের তথ্য ইত্যাদি সংগ্রহ করাকে বোঝানো হয়ে থাকে \nএটি হচ্ছে এমন এক প্রকার কার্যক্রম যাতে ইলেকট্রনিক যোগাযোগ ব্যবস্থায় তথ্যাদি সংগ্রহের জন্য কোনো বিশ্বস্ত মাধ্যমের ছদ্মবেশ ধারন করা হয়\nট্রোজান হর্সঃ ট্রোজান হর্স এক ধরনের ক্ষতিকর Program বা software যা ইন্টারনেট অ্যাক্টিভিটিস থেকে শুরু করে ডেটা ও নেটওয়ার্কের ক্ষতি করে এবং কম্পিউটার সিস্টেমের সুরক্ষা বিঘ্নিত করে\n যেকোনো প্রতিষ্ঠানের তথ্য ও যোগাযোগ প্রযুক্তি ব্যবহারকারী ব্যক্তির সাইবার নৈতিকতার বিষয়ে কিছু  নিয়ম সমূহ মেনে চলা উচিত\nভাইরাস ছড়ানো স্প্যামিং ইত্যাদি কর্মকাণ্ডকে প্রতিহত করা\n কোনো তথ্যের ভুল উপস্থাপন না করা\nপ্রতিষ্ঠানের সকল তথ্যের গোপনীয়তা এবং বিশ্বস্ততা রক্ষা করা\nইন্টারনেটে অন্যের প্রতি অসম্মান প্রদর্শন না করা\n অনুমোদন ছাড়া চাকুরিদাতার সম্পদ ব্যবহার না করা\nঅফিস চলাকালীন সময়ের মধ্যে চ্যাট বা নেট ব্রাউজ করে অযথা সময় অপচয় না করা\nএকজন সুনাগরিকের তথ্য ও যোগাযোগ প্রযুক্তি ব্যবহারে কিছু সাইবার নৈতিকতা মেনে চলা উচিত\nতথ্য ও যোগাযোগ প্রযুক্তি আইন এবং নীতিমালা সমূহ মেনে চলা\nতথ্যপ্রযুক্তির মাধ্যমে নিজের দক্ষতা ও জ্ঞান কাজে লাগিয়ে জনগণকে সাহায্য সহযোগীতা করা\n জনগণের সমস্যার কারণ হয় এমন কোনো তথ্যের ভুল উপস্থাপন না করা\nব্যক্তিগত অর্জনের জন্য অবৈধভাবে তথ্যপ্রযুক্তির ব্যবহার থেকে বিরত থাকা\n তথ্য প্রযুক্তির সকল আপডেট তথ্য সম্পর্কে জানা\nEthical ইংরেজি শব্দের বাংলা অর্থ হচ্ছে নৈতিক \n সামগ্রিক অর্থে ইথিক্যাল হ্যাকিং বলতে নৈতিক বা বৈধ হ্যাকিং বুঝায় \nআর যারা এ ধরনের হ্যাকিং করে তাদের নীতি রয়েছে তারা অনৈতিকভাবে কিছু করে না \nএকজন হ্যাকারের কাজ হলো যেকোনো সিস্টেমের কম্পিউটিংনেটওয়ার্কিং সিস্টেম ত্রুটি খুজে বের করার চেষ্টা করা \nএকজন হ্যাকারের কাজ হলো সিস্টেমটির নিরাপত্তা ভেদ করে মূল সিস্টেমে প্রবেশ করে সিস্টেমের নিয়ন্ত্রণ গ্রহণ করা \nকেউ যদি কোনো সিস্টেম থেকে বা যে সফটওয়্যারটির নিরাপত্তা ত্রুটি খোঁজা হচ্ছে উক্ত কোম্পানি থেকে অনুমতি না নিয়েই সিস্টেমে প্রবেশের চেষ্টা করে তবে এই ধরনের হ্যাকারদের ব্ল্যাক হ্যাট হ্যাকার বা ম্যালিসিয়াস হ্যাকার বলা হয় \nএই ধরনের হ্যাকাররা সাধারনত সিস্টেমের রুল এবং সিকিউরিটি ধ্বংস করে এবং মূল সিস্টেমের ক্ষতিসাধন করতে পারে\nঅপরদিকে একজন নৈতিক হ্যাকার সিস্টেম অ্যাডমিন বা সফটওয়্যার কোম্পানি থেকে অনুমতি নেয়ার পরে সেই উক্ত সিস্টেমের ত্রুটি খুজে বের করার জন্য সিস্টেমে প্রবেশের চেষ্টা করে\nসে যদি সিস্টেমের সিকিউরিটি ব্রেক করে ফেলে তবে এটা করার জন্য তার সম্পূর্ণ অনুমতি থাকে\nঅর্থাৎ সে ম্যালিসিয়াস হ্যাকারের মত অনুমতিবিহীন কাজ করে না\n\nএকজন ইথিক্যাল হ্যাকার অবশ্যই সিস্টেমের প্রাইভেসিকে শ্রদ্ধা জানায় এবং অবশ্যই অনুমতি সাপেক্ষেই কাজ করে \n সিস্টেম চেক করে যদি সিস্টেমে কোনো ধরনের ত্রুটি খুজে পাওয়া যায় তবে অবশ্যই সেই হ্যাঁকার উক্ত প্রতিষ্ঠান কে অবগত করবে এবং সিকিউরিটি প্যাঁচ প্রদান করার মাধ্যমে সিস্টেমটিকে সিকিউর  করতে সহায়তা করবেi\nম্যালিসিয়াস হ্যাকার যাতে সিস্টেমে প্রবেশ না করতে পারে সেজন্য কোনো ব্যাকডোর থাকলে তা সিল করে দিবে \nতাছাড়া একজন ইথিক্যাল হ্যাকার বিভিন্ন টেকনিক ব্যবহার করে সিস্টেমকে পরীক্ষা করে\n প্রযুক্তির উন্নতির সাথে সাথে সবকিছু ডিজিটাল হয়ে উঠেছে \nসব কিছুতেই চলে আসছে কম্পিউটিং এবং নেটওয়ার্কিং ফলে বাড়ছে নিরাপত্তা ঝুঁকি \n এই ঝুঁকি কমানোর জন্য নৈতিক হ্যাকারইথিক্যাল হ্যাকারের চাহিদা বাড়ছে \n বর্তমান পরীক্ষার রেজাল্ট থেকে শুরু করে চাকুরির আবেদন যানবাহনের টিকিট কাটা বেতন গ্রহন ইত্যাদি সমস্তকিছু এখন ইন্টারনেটওয়েব সাইট অ্যাপ্লিকেশন নির্ভর হয়ে উঠেছে \n শুধু সরকারি প্রতিষ্ঠান নয় বেসরকারি প্রতিষ্ঠানগুলোও তাদের ব্যবসা এবং সিকিউরিটি নিয়ে অনেক বেশি সিরিয়াস \nবর্তমানে অনেক ইকমার্স সাইট গড়ে উঠছে যাদের সিকিউরিটি রাখা খুবই গুরুত্বপূর্ণ \nযদি কোনো ম্যালিলিয়াস হ্যাকার কোনো সরকারি ডাটাবেস হ্যাক করে নেয় অথবা ব্যাংকের টাকা পাঁচার করে তাহলে সরকার এবং দেশের মানুষ উভয়েই চরম ক্ষতির সম্মুখীন হবে \nইথিক্যাল হ্যাকিং এ প্রত্যেকটি সিস্টেমকে খতিয়ে দেখা হয় এবং ম্যালিসিয়াস হ্যাকিংএর মতোই সিস্টেমটিতে অ্যাটাক চালানো হয় কোনো সমস্যা খুজে পেলে কোম্পানি বা সরকার কে সমস্যাটি সম্পর্কে জানিয়ে দেয়া হয় যেন সেটি যত দ্রুত সম্ভব ফিক্স করা হয়\nদেশ থেকে শুরু করে বিদেশ পর্যন্ত একজন ভালো নৈতিক হ্যাকারের অনেক ডিমান্ড \nকেননা যেকোনো প্রতিষ্ঠানের জন্য তাদের ডাটা খুবই গুরুত্বপূর্ণ\nএই ডাটা যাতে হারিয়ে না যায় এজন্য সিস্টেমের সিকিউরিটি নিশ্চিত করা জরুরী \nম্যালিসিয়াস হ্যাকার ও কিন্তু সিস্টেমের ত্রুটি খুঁজে এবং তারা ত্রুটি খুজে পেলে সিস্টেমটির ক্ষতিসাধন করতে শুরু করে \nআর ব্ল্যাক হ্যাট হ্যাকারম্যালিসিয়াস হ্যাকারদের থেকে বাচার জন্য আইটি কোম্পানিগুলো হোয়াইট হ্যাট হ্যাকারদের নিযুক্ত করে থাকে\nএকজন নৈতিক হ্যাকার কোন কোম্পানি বা ব্যক্তিকে তার কম্পিউটার বা নেটওয়ার্ক সিস্টেমের সম্ভাব্য হুমকি সনাক্ত করতে সহায়তা করে \nএকজন নৈতিক হ্যাকার নিরাপত্তা দুর্বল পয়েন্ট খুঁজে বের করে সিস্টেম নিরাপত্তা ভঙ্গের উপায় বের করার চেষ্টা করে \nসিকউরিটি চেক করে তার রিপোর্ট প্রদান করে এরা নিজেদের জ্ঞানকে অন্যের উপকারে লাগায় \nনিচে একজন ইথিক্যাল হ্যাকারের নীতিমালা উল্লেখ করা হলো\nসিস্টেমের নিরাপত্তা নিশ্চিত করার জন্য অনুপ্রবেশ পরীক্ষা করে থাকেন\nইথিক্যাল হ্যাকাররা নেটওয়ার্কের নিরাপত্তা ব্যবস্থা দেখতে সিস্টেমে প্রবেশ করতে পারবে কিন্তু কোনো ক্ষতি বা কোনো ফাইল সংগ্রহ করতে পারবে না\nসিকিউরিটিতে আঘাত করে এমন কোনো তথ্য প্রচার করা যাবে না \nইথিক্যাল হ্যাকারদের কাজ সাইট এর সিকিউরিটি সমস্যা বের করা এবং তা অ্যাডমিনকে জানানো\nইথিক্যাল হ্যাকাররা হ্যাকিংএর সকল কাজ মালিকের অনুমতিক্রমে করে থাকে এবং হ্যাকিং এর সকল রাস্তা ব্লক করে দেয়\nফলে তথ্য প্রযুক্তির বিভিন্ন নেতিবাচক ও ইতিবাচক প্রভাব ও তিক্ত অভিজ্ঞতার স্বীকার হতে হচ্ছে \nপ্রায় সব বয়সী মানুষ তথ্য প্রযুক্তির এসব কুফলের স্বীকার হতে হচ্ছে\n এই ধরনের দুর্যোগ থেকে পরিত্রাণের জন্য গণপ্রজাতন্ত্রী বাংলাদেশ সরকার  সালে তথ্য ও যোগাযোগ আইন প্রণয়ণ করেন \nপরবতীতে সাইবার অপরাধীদের বিভিন্ন ফাঁক ফোঁকর বের করে সাইবার জগতে বিধ্বংসী মনোভাব শিথিল করতে  ও  সালে কয়েকটি ধারা সংশোধন করা হয় \n যদি কোন ব্যক্তি ফাইল হতে তথ্য সংগ্রহ করার উদ্দেশ্যে বা তথ্য বিনষ্ট করার উদ্দেশ্যে কোন কম্পিউটারে বা কম্পিউটার সিস্টেমে প্রবেশ করেন বা অন্য কোন ব্যক্তিকে প্রবেশ করতে সহায়তা করেন\nকোন কম্পিউটারে বা কম্পিউটার সিস্টেমে থেকে তথ্য বা উপাত্ত সংগ্রহ করেন বা হস্তান্তরযোগ্য সংরক্ষিত ব্যবস্থায় জমাকৃত তথ্য বা অনুলিপি সংগ্রহ করেন\nউদ্দেশ্যমূলকভাবে সংক্রামক বা দূষক বা কম্পিউটারে ভাইরাস প্রবেশ করান বা করানোর চেষ্টা করেন তিনি অনধিক  বছরের বা ন্যূনতম  বছরের কারাদণ্ডে বা অনধিক  লক্ষ অর্থ দণ্ডে বা উভয় দণ্ডে দণ্ডিত হবেন\nকম্পিউটারে সোর্স কোড পরিবর্তন গোপন ধ্বংস সংক্রান্ত অপরাধ করার চেষ্টা করলে ও উক্ত সোর্স কোড যদি আপাতত\nবলবত বা অন্য কোন আইন দ্বারা সংরক্ষণযোগ্য হয় বা রক্ষণাবেক্ষণযোগ্য হয় তিন অনধিক বা তিন বছরের কারাদণ্ডে বা তিন\nলক্ষ অর্থদণ্ডে বা উভয় দণ্ডে দণ্ডিত হবেন\nঅনুমতি ব্যতীত যে কোন সংরক্ষিত সিস্টেমে কোন ব্যক্তি প্রবেশ করলে অনুমতি ব্যতীত যে কোন সংরক্ষিত সিস্টেমে কোন ব্যক্তি প্রবেশ করলে তিনি অনধিক  বছরের কারাদণ্ডে বা নুন্যতম \nবৎসর কারাদণ্ডে অনধিক  কোটি টাকা অর্থদণ্ডে দণ্ডিত বা উভয় দণ্ডে দণ্ডিত হবেন \nকোন ব্যক্তি যদি ইচ্ছাকৃতভাবে কম্পিউটার ইমেইল বা কম্পিউটার নেটওয়ার্ক রিসোর্স বা সিস্টেম ব্যবহার করে এই তিনি অনধিক  বছরের কারাদণ্ডে বা ন্যূনতম  বৎসর কারাদণ্ডে অনধিক  কোটি টাকা অর্থদণ্ডে দণ্ডিত বা উভয় দণ্ডে দণ্ডিত হবেন\nসর্বপ্রথম  সালে তথ্য ও যোগাযোগ প্রযুক্তি আইনআইন পাস করা হয় \nএটি পরবর্তীতে বিভিন্ন সময় বিভিন্নভাবে পরিবর্তন এবং সংশোধন করা হয় \nসাইবার অপরাধের ধরন পরিবর্তীত হওয়ায়  সেপ্টেম্বর  তে বাংলাদেশের সংসদে কণ্ঠভোটে ডিজিটাল নিরাপত্তা আইন পাস হয় \nডিজিটাল নিরাপত্তা আইনের মাধ্যমে  সালের তথ্য ও যোগাযোগ প্রযুক্তি আইনের     ও  ধারা বাতিল করা হয়\nএসব ধারায় কম্পিউটার বা কম্পিউটার সিস্টেম বা কম্পিউটার নেটওয়ার্কের মালিক বা জিম্বাদারের অনুমতি ব্যতিরেকে প্রবেশ কম্পিউটার কম্পিউটার প্রোগ্রাম কম্পিউটার সিস্টেম বা কম্পিউটার নেটওয়ার্ক ব্যবহৃত কম্পিউটার সোর্স কোড গোপন ধ্বংস বা পরিবর্তন বা অন্য কোনো ব্যক্তির মাধ্যমে উক্ত কোড প্রোগ্রাম সিস্টেম বা নেটওয়ার্ক গোপন ধ্বংস বা পরিবর্তন করার শাস্তি ক্ষতি করার উদ্দেশ্যে কম্পিউটার রিসোর্সের ক্ষতি পরিবর্তন বা হ্যাকিং ইচ্ছাকৃতভাবে কোনো কম্পিউটার ইমেইল বা কম্পিউটার নেটওয়ার্ক রিসোর্স বা সিস্টেম ব্যবহারের মাধ্যমে এই আইনের অধীনে কোনো অপরাধ সংঘটনের চেষ্টার অপরাধের শাস্তি বলা হয়েছে\nডিজিটাল নিরাপত্তা আইন অনুযায়ী সাইবার নিরাপত্তার কয়েকটি ধারা উল্লেখ করা হলোঃ\nডিজিটাল নিরাপত্তা আইন এর  ধারায় বলা হয়েছে কম্পিউটার কম্পিউটার প্রোগ্রাম কম্পিউটার সিস্টেম বা কম্পিউটার নেটওয়ার্ক বা ডিভাইস ডিজিটাল সিস্টেম বা ডিজিটাল নেটওয়ার্ক প্রবেশাধিকার ব্যাহত করে এমন ডিজিটাল সন্ত্রাসী কাজের জন্য অপরাধী হবে এবং এজন্য অনধিক  বছর কারাদণ্ড অথবা অনধিক এক কোটি অর্থদণ্ডঅথবা উভয় দণ্ডে দণ্ডিত হবে\nডিজিটাল নিরাপত্তা আইন এর  ধারায় বলা হয়েছে যদি কোনো ব্যক্তি অফিশিয়াল সিক্রেট অ্যাক্ট এর আওতাভুক্ত কোনো অপরাধ কম্পিউটার ডিজিটাল ডিভাইস কম্পিউটার নেটওয়ার্ক ডিজিটাল নেটওয়ার্ক বা অন্য কোনো ডিজিটাল মাধ্যমে সংঘঠন করে বা করতে সহায়তা করে তাহলে সে সর্বোচ্চ  বছরের কারাদণ্ড বা  লাখ টাকা জরিমানা বা উভয় দণ্ডে দণ্ডিত হবে\nউক্ত আইনএর  ধারা মতে কোনো ব্যাংক বীমা বা আর্থিক সেবা প্রতিষ্ঠান থেকে কোনো ইলেকট্রনিক বা ডিজিটাল মাধ্যম ব্যবহার করে আইনানুগ কর্তৃত্ব ছাড়া অনলাইন লেনদেন করলে পাঁচ বছরের কারাদণ্ড পাঁচ লাখ টাকা জরিমানা বা উভয় দণ্ড হতে পারে\nডিজিটাল নিরাপত্তা আইন কি \nইথিক্যাল হ্যাকিং কি \nকোন কোন অপরাধকে সাইবার অপরাধ হিসেবে গণ্য করা হয় \nসফটওয়্যার পাইরেসি বলতে কি বুঝ \nপ্লেজিয়ারিজম কি \nভয়েজ ফিনিশিং বলতে কি বুঝ  \nহ্যাকার কাকে বলে  \nসাইবার এথিকস কি  \nঅনুপ্রবেশ পরীক্ষা বলতে কি বোঝায়  \nক্র্যাকার কি করে \nবাংলাদেশ সাইবার সিকিউরিটি   আইন অনুযায়ী  ধারাটি কি  \nবাংলাদেশে সাইবার সিকিউরিটি আইন কবে প্রণয়ন হয়\nহোয়াইট হ্যাট হ্যাকারস কাকে বলে\nসাইবার নৈতিকতা ব্যাখ্যা কর\n\nইথিক্যাল হ্যাকারের নীতিমালা উল্লেখ কর\nপ্রতিষ্ঠানের ক্ষেত্রে সাইবার নৈতিকতার নিয়মসমূহ উল্লেখ কর\nসাইবার এথিকস বলতে কী বোঝায়\nইথিক্যাল হ্যাকিং ব্যাখ্যা কর\nডিজিটাল নিরাপত্তা আইন ব্যাখ্যা কর\nক্রিপ্টোগ্রাফার কাকে বলে\nক্রিপ্টোগ্রাফারের কাজ লিখ\n\nপেনিট্রেশন টেস্টার কাকে বলে\nপেনিট্রেশন টেস্টারের কাজ লিখো\nফরেনসিক এক্সপার্ট কি\nফরেনসিক এক্সপার্ট এর কাজ লিখ\nবাংলাদেশের সাইবার অপরাধের বিভিন্ন আইন সম্পর্কে আলোচনা কর\nকিছু সাইবার নৈতিকতা বিরোধী কাজ আলোচনা কর\n\nসাইবার এথিকস কিভাবে শিশুদের উপর প্রভাব ফেলে বর্ণনা কর\nফায়ারওয়াল কাকে বলে\nফায়ারওয়ালের কাজ কি\nকয়েকটি হার্ডওয়্যার ফায়ারওয়ালের নাম উল্লেখ কর\nমাইক্রোসফট কোন অপারেটিং সিস্টেমে সর্বপ্রথম ফায়ারওয়াল চালু করে\nফায়ারওয়াল প্রধানত কত প্রকার ও কী কী\nকয়েকটি সফটওয়্যার ফায়ারওয়ালের নাম উল্লেখ কর\nফায়ারওয়্যাল পর্যবেক্ষণ এর কয়েকটি টেকনিক এর নাম লিখ\nপ্যাকেট ফিল্টার এর কাজ কী\nসফটওয়্যার ফায়ারওয়্যাল এর সুবিধা ও অসুবিধা কি কি\nফিশিং কি\nএপ্লিকেশন গেটওয়ে এর কাজ কী\nসার্কিট লেভেল গেটওয়ে এর কাজ কী\nপ্রক্সি সার্ভার এর কাজ কী\n\nহ্যাকিং এর তিনটি উদ্দেশ্য লিখ\nএপ্লিকেশন গেটওয়ে ও সার্কিটলেভেল গেটওয়ে এর মাঝে পার্থক্য লিখ\nসার্কিটস্তর গেটওয়ে কিভাবে কাজ করে\nফায়ারওয়াল এর মাধ্যমে কম্পিউটারের তিনটি সুরক্ষা ব্যবস্থা উল্লেখ কর\nফায়ারওয়ালের প্রয়োজনীয়তা লেখ\nনেটওয়ার্কে ফায়ারওয়াল ব্যবহার করার সুবিধা কী কী\nফায়ারওয়াল কিভাবে কাজ করে ব্যাখ্যা কর\nহার্ডওয়্যার নির্ভর ফায়ারওয়্যাল ব্যাখ্যা কর\nসফটওয়্যার  নির্ভর ফায়ারওয়্যাল ব্যাখ্যা কর\nহার্ডওয়্যার ফায়ারওয়াল এর মাধ্যমে সুরক্ষা ব্যবস্থা ব্যাখ্যা কর\nঅনলাইন নিরাপত্তার জন্য কী কী পদক্ষেপ নেয়া জরুরী\nফিশিং সম্পর্কে আলোচনা কর\nএকজন হ্যাকার কি কি উদ্দেশ্য নিয়ে হ্যাকিং করতে পারে উল্লেখ কর\nআক্রমণ প্রতিরোধ প্রক্রিয়া হিসেবে ফায়ারওয়াল ব্যবস্থাপনা ব্যাখ্যা কর\n\nঅনলাইন নিরাপত্তার ক্ষেত্রে একজন ব্যবহারকারী কি কি সমস্যার সম্মুখীন হতে পারে বর্ণনা কর\nফ্রেকার কী\nহ্যাকিং কাকে বলে\nহ্যাকিং শব্দটির প্রচলন কখন শুরু হয়\nওয়েবসাইট হ্যাকিং বলতে কী বুঝায়\nএকজন হোয়াইট হ্যাট হ্যাকার যাকে প্রায়শই নৈতিক হ্যাকার হিসাবে উল্লেখ করা হয়\nস্ক্রিপ্ট কিডি হ্যাকার বলতে কী বুঝায়\nব্লাক হ্যাট বলতে কী বোঝায়\nএকটি ক্র্যাকার প্রায়শই একটি কালো হ্যাট হ্যাকারের সাথে বিনিময়যোগ্যভাবে ব্যবহৃত হয় বিশেষত এমন কাউকে বোঝায় যে প্রাথমিকভাবে ক্ষতিকারক উদ্দেশ্যে কম্পিউটার সিস্টেম নেটওয়ার্ক বা সফ্টওয়্যারগুলিতে প্রবেশ করে\nগ্রে হ্যাট সম্বন্ধে লেখ\nহ্যাক্টিভিস্ট হ্যাকার কাকে বলে\nগ্রিন হ্যাট কি\nরেড হ্যাট কি\nব্লু হ্যাট কি\nভালনারিবিলিটি স্ক্যানিং বলতে কী বোঝায়\nডিকশনারি এটাক কি\nপাসওয়ার্ড ক্রাকিং কি\nব্রুটফোর্স এটাক কীভাবে কাজ করে\nস্নিফিং আক্রমণ কী\nপ্রোগ্রাম থ্রেটস কী\nসোশাল ইঞ্জিনিয়ারিং বলতে কী বুঝায়\nএথিক্যাল হ্যাকার কেনো দরকার\nবিভিন্ন প্রোগ্রাম সুষ্ঠুভাবে পরিচালনার জন্য অপারেটিং সিস্টেম একটি পরিবেশ সৃষ্টি করে\nআমরা একটি অপারেটিং সিস্টেমকে বিভিন্ন সুবিধাজনক অবস্থান থেকে দেখতে পারি \nপ্রথমত অপারেটিং সিস্টেম বিভিন্ন ধরনের সার্ভিস প্রদান করে \nদ্বিতীয়ত অপারেটিং সিস্টেম ব্যবহারকারী ও প্রোগ্রামারদের সঙ্গে সিস্টেমের সমন্বয় গঠন করে\nতৃতীয়ত অপারেটিং সিস্টেম সিস্টেমের সকল উপাদান Components এর সঙ্গে সংযোগ রক্ষা করে \n এ অধ্যায়ে Operating system কম্পিউটার ব্যবহারকারী কোনো প্রসেস Process বা অন্য কোনো সিস্টেমকে কীভাবে বিভিন্ন প্রকার সার্ভিস Services প্রদান করে এগুলো কীভাবে ডিবাগ Debuge করা হয় এবং এর ডিজাইন করা পদ্ধতি নিয়ে আলোচনা করা হয়েছে \nসর্বশেষে একটি Operating system কীভাবে তৈরি করা যায় এবং তা কম্পিউটার কীভাবে ব্যবহার শুরু করে তারও বর্ণনা দেয়া হয়েছে\n\nএকটি অপারেটিং সিস্টেম প্রোগ্রাম এবং এ সকল প্রোগ্রাম ব্যবহারকারীদের নির্দিষ্ট কিছু সার্ভিস প্রদানের মাধ্যমে প্রোগ্রাম Execution এর পরিবেশ সৃষ্টি করে\n যদিও এক ধরনের অপারেটিং সিস্টেমের সার্ভিসের সঙ্গে অন্য ধরনের অপারেটিং সিস্টেমের পার্থক্য রয়েছে\nতবে কিছু কমন বা সাধারণ সার্ভিস রয়েছে যার দ্বারা কোনো প্রোগ্রামারের কাজকে সহজ করা হয় \nঅপারেটিং সিস্টেম কিছু সার্ভিস প্রদান করে যা সরাসরি কম্পিউটার ব্যবহারকারীর জন্য সাহায্যকারী\nUser interface সকল অপারেটিং সিস্টেমেরই একটি User interface UI রয়েছে\nতবে অপারেটিং সিস্টেমের ইউজার ইন্টারফেস  বিভিন্নভাবে থাকতে পারে\nএক Commandline interface CLI যেখানে নির্দিষ্ট ফরমেটে কীবোর্ড থেকে বিভিন্ন Text commands প্রদান করা হয়\nদুই Batch interface যেখানে commands ও directives ফাইলে রাখা হয় এবং পরে এই ফাইল execute করা হয়\n তিন সবচেয়ে বহুল ব্যবহৃত ইন্টারফেস হলো Graphical user interface GUI এখানে সাধারণত মাউস দ্বারা বেশিরভাগ commands প্রদান করা হয় তবে কীবোর্ড ছাড়াও বিভিন্ন Commands প্রদান করা যায়\nকোনো প্রোগ্রাম রান করার জন্য অপারেটিং সিস্টেম প্রথমে উক্ত প্রোগ্রামটি মেমরিতে Load করে এবং তারপর RUN করে \nপ্রোগ্রামের কাজ শেষ করার সার্ভিসটিও অপারেটিং সিস্টেম প্রদান করে\nকোনো প্রোগ্রাম রানিং অবস্থায় বিভিন্ন প্রকার ইনপুট প্রয়োজন হয় এবং তা কোনো ফাইল থেকেও হতে পারে অথবা কোনো IO ডিভাইস থেকেও নিতে পারে \nএই সকল IO operation সঠিকভাবে পরিচালনার সার্ভিসটিও অপারেটিং সিস্টেম প্রদান করে\nঅবশ্যই সকল প্রোগ্রামের জন্য ফাইলে Read এবং Write অপারেশন প্রয়োজন হয়\n তা ছাড়া ফাইল বা ডিরেক্টরি তৈরি করা Create মুছে ফেলা Delete ফাইলের নাম দেয়া কোনো নির্দিষ্ট ফাইল Search করা এবং ফাইলের তালিকা তৈরি করা প্রয়োজন হয় যা Operating system সার্ভিস প্রদান করে \nসর্বোপরি কিছু অপারেটিং সিস্টেম ফাইল বা ডিরেক্টরিগুলো access নিয়ন্ত্রণ করে অর্থাৎ অনুমোদিত ব্যবহারকারীকে কেবলমাত্র ফাইল access করার অনুমতি প্রদান করে\nকম্পিউটারের মধ্যে একটি প্রসেস Process অন্য প্রসেসের সঙ্গে বিভিন্ন প্রকার তথ্যের আদানপ্রদানের মাধ্যমে সংযোগ রক্ষা করে\nএই কমিউনিকেশন বা সংযোগ একই কম্পিউটারের মধ্যে বিভিন্ন প্রসেসের মধ্যে হতে পারে অথবা প্রসেসগুলো বিভিন্ন কম্পিউটারে হতে পারে যারা পরস্পর নেটওয়ার্কের মাধ্যমে সংযুক্ত \nকমিউনিকেশন বা সংযোগ রক্ষা করার জন্য প্রসেসসমূহ মেমরিকে শেয়ার করে ব্যবহার করতে পারে \nএই সকল সার্ভিসই ব্যবহারকারীর সুবিধার্থে অপারেটিং সিস্টেম প্রদান করে থাকে\nএকটি অপারেটিং সিস্টেমকে সর্বদা বিভিন্ন ধরনের ভুল Error শনাক্ত করতে হয় এবং প্রয়োজনীয় সংশোধনও করতে হয় \nErrorগুলো সাধারণত CPU ও মেমরিতে বা বিভিন্ন IO devicesএ যেমন ডিস্ক থেকে ডাটা রিড করা বা নেটওয়ার্কের কানেকশন বিভিন্ন হওয়া বা প্রিন্টারে প্রয়োজনীয় কাগজ না থাকা ইত্যাদি হতে পারে \nএমনকি ব্যবহারকারীর বিভিন্ন প্রোগ্রামেও Error হতে পারে\nএ সকল প্রকার Error শনাক্তকরণ ও প্রয়োজনীয় সংশোধনের সার্ভিসটি অপারেটিং সিস্টেম প্রদান করে থাকে\nএ ছাড়া অপারেটিং সিস্টেম আরো কিছু সার্ভিস প্রদান করে যা সরাসরি কম্পিউটার ব্যবহারকারীর সাথে সম্পর্ক না থাকলেও একটি সিস্টেমকে সঠিকভাবে পরিচালনায় সাহায্য করে থাকে \nযখন একই সময়ে একাধিক ইউজার ব্যবহারকারী থাকে অথবা একাধিক জন রান করে তখন কম্পিউটারের বিভিন্ন রিসোর্স সঠিকভাবে বরাদ্দ Allocation দেয়া প্রয়োজন\nঅপারেটিং সিস্টেম বিভিন্ন ধরনের রিসোর্সগুলো ম্যানেজ করে থাকে \nকোনো নির্দিষ্ট সময়ে সবচেয়ে বেশি CPUএর ব্যবহার নিশ্চিত করার জন্য অপারেটিং সিস্টেম বিভিন্ন CPU Scheduling routines ব্যবহার করে \n তা ছাড়া প্রিন্টার Allocation USB storage drivers এবং অন্যান্য Peripheral devices allocation করার জন্যও বিভিন্ন routines ব্যবহার করতে পারে\n\nআমরা সাধারণত অনেক সময় কোন User কতক্ষণ কম্পিউটারে কাজ করেছে এবং কোন কোন রিসোর্স ব্যবহার করেছে তার তথ্য সংরক্ষণ করতে চাই \nঅপারেটিং সিস্টেম তথ্য সংরক্ষণ করে যা পরবর্তীতে বিভিন্ন কাজে ব্যবহার যেমন Userকে বিলের হিসাব প্রদান করা হয়\nMultiuserবা Network কম্পিউটার সিস্টেমে প্রত্যেক ব্যবহারকারী তাদের নিজেদের সংরক্ষিত তথ্যসমূহের উপর নিয়ন্ত্রণ রাখতে চায় \nযখন একাধিক প্রসেস একসঙ্গে রান করে তখন অবশ্যই একটি প্রসেস অন্য আর একটি প্রসেসকে যাতে বাধাগ্রস্ত Interfere করতে না পারে তা অপারেটিং সিস্টেম নিয়ন্ত্রণ করে \nএ ছাড়াও এটি কম্পিউটারের প্রকৃত ব্যবহারকারী ব্যতীত অন্য কোনো Error প্রবেশ করতে দেয় না \n সাধারণত অপারেটিং সিস্টেম প্রত্যেক ইউজারের নির্দিষ্ট আইডি ও পাসওয়ার্ডের মাধ্যমে সিস্টেমে প্রবেশের অনুমতি প্রদান করে\nপূর্বে অপারেটিং সিস্টেমের কতিপয় ইউজার ইন্টারফেস User interface নিয়ে সংক্ষিপ্ত আলোচনা করা হয়েছে \nএখানে মূলত দুটি ইউজার ইন্টারফেস নিয়ে আলোচনা করা হয়েছে \nএকটি হচ্ছে কমান্ড লাইন ইন্টারফেস Command line interface বা কমান্ড ইন্টারপ্রেটার Command interpreter \nএখানে ইউজারগণ সরাসরি বিভিন্ন কমান্ড দিয়ে বিভিন্ন কাজ করে থাকে \n অন্যটি হলো গ্রাফিক্যাল ইউজার ইন্টারফেস Graphical User Interface বা GUI যার মাধ্যমে ব্যবহারকারী অপারেটিং সিস্টেমেরউ সঙ্গে সংযোগ Interface রক্ষা করে\nকোনো কোনো অপারেটিং সিস্টেমে এই কমান্ড ইন্টারপ্রেটার Kernelএর সঙ্গে সংযুক্ত থাকে \nতবে Windows  UNIX অপারেটিং সিস্টেম কমান্ড ইন্টারপ্রেটারকে একটি Special program হিসাবে গণ্য করে যা কোনো Job চালু হওয়ার সময় বা User যখন প্রথম logs on করে তখন Run করে \n আর যে সকল সিস্টেমে বহু কমান্ড ইন্টারপ্রেটার থাকে সেখানে তাদের Shell বলা হয়ে থাকে \nসাধারণত UNIX ও Linux সিস্টেমে User অনেক ধরনের Shell ব্যবহার করে থাকে \nএ ছাড়া কিছু Thirdparty shell এবং Free userwritten shells রয়েছে \nপ্রায় সকল shell একই ধরনের কাজ করে থাকে এবং ব্যবহারকারীগণ তাদের নিজস্ব চাহিদা অনুযায়ী বিভিন্ন Shell ব্যবহার করে থাকে \nএকটি কমান্ড ইন্টারপ্রেটারের প্রধান কাজ হলো Userএর নিকট হতে নির্দিষ্ট Command গ্রহণ করা এবং Execute করা \nতবে সাধারণত বেশিরভাগ কমান্ডই ফাইল Manipulate করার জন্য প্রদান করা হয় \nসকল কমান্ড সাধারণত দুইভাবে বাস্তবায়ন করা যেতে পারে\nএই বাস্তবায়ন প্রক্রিয়া কমান্ড ইন্টারপ্রেটারের মধ্যেই সকল Command code সংরক্ষিত থাকে \n কাজেই এক্ষেত্রে একটি কমান্ড ইন্টারপ্রেটারের size কমান্ডের সংখ্যার উপর নির্ভর করে \nকোনো কমান্ড প্রদান করলে ইন্টারপ্রেটার ঐ কমান্ডের কোড সেকশন এ  jump করে এবং প্রয়োজনীয় Parameters set করে এবং সঠিক System call তৈরি করে \nউদাহরণস্বরূপ বলা যায় কোনো File delete করার কমান্ড প্রদান করা হলে কমান্ড ইন্টার Delete fileএর কোড sectionএ গিয়ে তা Execute করে\nঅন্য বাস্তবায়ন প্রক্রিয়ায় কমান্ডগুলো অপারেটিংয়ের সঙ্গে সিস্টেম প্রোগ্রাম হিসাবে থাকে\nফলে কমান্ড ইন্টারপ্রেটার কমান্ডসমূহ বুঝতে পারে না কেবলমাত্র কোন ফাইল মেমরিতে লোড করতে হবে এবং Execute করতে হবে তা বুঝতে পারে\nUNIX অপারেটিং সিস্টেম সাধারণত কমান্ডগুলো এভাবে Implement করে থাকে যেমন একটি ফাইল Delete করায় UNIX কমান্ড হলো rm filetxt\nএখানে সিস্টেম m নামে ফাইলটি খুঁজে বের করে মেমরিতে লোড করে যার Parameter হিসাবে filetxt থাকে এবং execute করে \nএই প্রক্রিয়ায় প্রোগ্রামারগণ নতুন নতুন কমান্ড তৈরি করে খুব সহজেই সিস্টেমে সংযুক্ত করতে পারে \nএতে কমান্ড ইন্টারপ্রেটারে কোনো পরিবর্তন করার প্রয়োজন হয় না\nঅপারেটিং সিস্টেমের সঙ্গে Interface করার জন্য আরও একটি User friendly প্রক্রিয়া হলো Graphical user interface বা GUI\nএই  প্রক্রিয়ায় ব্যবহারকারী বা user কমান্ড লাইন ইন্টারফেসের মতো সরাসরি কমান্ড প্রদানের পরিবর্তে Mouse based window and menu সিস্টেম ব্যবহার করে থাকে \n User  মাউস পয়েন্টার কম্পিউটার Screen Desktop এর ছবি বা icon এর উপর নিয়ে মাউসের বাটন click করার মাধ্যমে প্রয়োজনীয় কমান্ড প্রদান করে\nগ্রাফিক্যাল ইউজার ইন্টারফেস সর্বপ্রথম  সালে Xerox PARC তাদের Researchএর কাজে ব্যবহার করে \nতবে এই গ্রাফিক্যাল ইউজার ইন্টারফেস ব্যাপকভাবে ব্যবহার শুরু করে Apple macintosh কম্পিউটার  সালের দিকে\nআর Microsoftএর Windowsএর প্রথম ভার্সন Version LO অপারেটিং সিস্টেমে MSDOSএর সঙ্গে GUI interface অতিরিক্ত যুক্ত করা হয় \nপরবর্তীতে Windowsএর সকল Versionএ বিভিন্ন সুবিধা যুক্ত করে এই GUI বহুল ব্যবহৃত হচ্ছে \nঐতিহ্যগতভাবে UNIX অপারেটিং সিস্টেম যদিও Command line interface ব্যবহার করে থাকে তবে বর্তমানে GUI interlace ব্যবহার হয়ে থাকে \nগ্রাফিক্যাল ইউজার ইন্টারফেসে ব্যবহৃত মাউস দ্বারা অধিকাংশ মোবাইল সিস্টেম Smartphone Handheld tablet কম্পিউটারে ইন্টারফেস করা বাস্তবক্ষেত্রে অত্যন্ত কঠিন\nকাজেই এ সকল সিস্টেমের সঙ্গে ইন্টারফেস করার জন্য Touchscreen interface ব্যবহৃত হয় \n এখানে User সাধারণত হাতের আঙুল দ্বারা Screenএর উপর প্রয়োজনীয় icon বা ছবিতে Press করে swipping করে সিস্টেমের সঙ্গে ইন্টারফেস করে থাকে \nযদিও আগের smartphoneএর সঙ্গে Physical keyboard ব্যবহার করা হতো কিন্তু বর্তমানে touchscreenএর উপরই keyboard থাকে\nসাধারণত ইউজারদের নিজস্ব Performanceএর উপর ভিত্তি করে কেউ Commandline ইন্টারফেস বা কেউ GUI ইন্টারফেস ব্যবহার করে থাকে \nতবে System administrator যাদের সিস্টেম সম্পর্কে গভীর জ্ঞান রয়েছে তারা কিছু সুবিধার জন্য Commandline ইন্টারফেস ব্যবহার করে থাকেন\nকমান্ড লাইন ইন্টারফেস ব্যবহার করা খুবই efficient হয়\nকমান্ড লাইন ইন্টারফেস ইউজ করলে বিভিন্ন কাজে Faster access করা যায়\nকোনো কোনো কাজের ক্ষেত্রে GUIএর চেয়ে কমান্ডলাইনে কম কমান্ড প্রয়োজন হয়\n সর্বোপরি Commandline ইন্টারফেসে Repetitive tasks প্রোগ্রামের মতো করে কোনো ফাইলে রেকর্ড করা খুবই সহজ হয়\nএতো সুবিধার পরও Windows ব্যবহারকারীরা সাধারণত Windowsএর GUI ব্যবহার করতে বেশি স্বাচ্ছন্দ্যবোধ করে \nএমনকি তারা কখনো MSDOS shell ব্যবহার করে না \nকেননা এই ইন্টারফেস অত্যন্ত User friendly এবং system সম্পর্কে পূর্ব ধারণা না থাকলেও সহজে সিস্টেমের সঙ্গে ইন্টারফেস করা সম্ভব\n\nঅপারেটিং সিস্টেম যে সকল সার্ভিস প্রদান করে তাদের সাথে ইন্টারফেস করার জন্য সিস্টেম কলস  System calls ব্যবহার  করা হয় \nএ callগুলো সাধারণত C এবং C ভাষায় লেখা হয়ে থাকে \nতবে কিছু Low level কাজের জন্য যা সরাসরি Hardwareএর সাথে সম্পর্কিত তা Assemblylanguageএর মাধ্যমে লেখা \nঅপারেটিং সিস্টেম কোনো কাজ করার জন্য অসংখ্য System calls ব্যবহার করে থাকে\nযেমন আমরা যদি একটি ফাইল থেকে Data read করে অন্য আর একটি ফাইলে write করতে চাই তাহলে Operating system বিভিন্ন ধাপে  বিভিন্ন System calls ব্যবহার করে\nপ্রথমত ইনপুট ফাইলের নাম ও তার location জানার জন্য System calls এবং পরে যে ফাইলে write করতে হবে তার নাম ও location জানার জন্য প্রয়োজনীয় System calls \nআবার ইনপুট ফাইলের নাম সঠিক না হলে বা নির্দিষ্ট location ফাইলটি পাওয়া না গেলে Error message প্রদর্শনের জন্য অন্য System callএর প্রয়োজন হয় \nএককথায় কোনো ছোট একটি Operation করার জন্যও অপারেটিং সিস্টেমের হাজার হাজার System callsএর প্রয়োজন হয়\nআধুনিক সিস্টেমের আরও একটি গুরুত্বপূর্ণ অংশ হলো অনেকগুলো System programsএর সমন্বয়\nপূর্বে আমরা দেখেছি Computer hierarchyএর সর্বনিম্ন স্তরে থাকে Hardware তারপর Operating system এবং এরপর System programs আর সর্বশেষে থাকে বিভিন্ন Application programs \nকাজেই System program System utilitiesও বলা হয় বিভিন্ন প্রোগ্রাম development  এবং execution করার জন্য convenient পরিবেশ তৈরি করে \n কিছু System program খুবই সাধারণ কাজ করে থাকলেও বেশিরভাগ সময়ই অনেক জটিল কাজ করে থাকে\nঅপারেটিং সিস্টেমের অন্তর্গত system programসমূহকে কিছু  ক্যাটাগরিতে ভাগ করা যায়\nফাইল ম্যানেজমেন্ট File management এই সকল সিস্টেম প্রেগ্রামগুলো ফাইল তৈরি Create মুছা Delete কপি Copy পুনরায় নামকরণ Rename প্রিন্ট Print dump ও লিস্ট List তৈরি করে \n তা ছাড়া ফাইল ও ডিরেক্টরিগুলো Manipulate করাও এই প্রেগ্রামগুলো করে থাকে\n স্ট্যাটাস ইনফরমেশন Status information এই সিস্টেম প্রোগ্রামসমূহ সাধারণত তারিখ সময় খালি মেমরি বা Disk space কতজন ইউজার রয়েছে এ সকল Status information সংরক্ষণ করে\nএ ছাড়া কোনো সিস্টেমের Performamce logging এবং Debugging তথ্যও এরা প্রদান করে থাকে \nকোনো কোনো সিস্টেম Registry support করে যা সিস্টেমের Configuration তথ্য store করা এবং retrieve করার জন্য ব্যবহৃত হয়\nফাইল মডিফিকেশন File modification কতিপয় টেক্সট এডিটর Text editors পাওয়া যায় যা ফাইল Create করা ও Disk বা অন্য কোনো Storage deviceএ সংরক্ষিত ফাইলের content পরিবর্তন Modify করার কাজ করে\nএই প্রোগ্রামগুলোর বিশেষ command রয়েছে যা ফাইলের contents খুঁজা search বা Text transformations করে থাকে\n প্রোগ্রামিং ল্যাংগুয়েজ সাপোর্ট Programming language support বিভিন্ন প্রোগ্রামিং ভাষার যেমন C C Java ও PERL জন্য প্রয়োজনীয় Compilers assemblers debuggers এবং interpreters অপারেটিং সিস্টেমের সঙ্গে provide করা হয় যা আলাদাভাবে download করা যায়\nপ্রোগ্রাম লোডিং ও চালানো Program loading and execution  যখন কোনো প্রোগ্রাম assembled বা compiled করা হয় তখন তা মেমরিতে load করা এবং execution করার কাজ এই প্রোগ্রামসমূহ করে থাকে \nতা ছাড়া Higher level language বা Machine languageএর জন্য প্রয়োজনীয় Debugging systemও থাকে\nযোগাযোগ Communication এই সকল সিস্টেম প্রোগ্রামসমূহ Processes users এবং Computer systems এর মধ্যে একটি Virtual connections প্রতিষ্ঠিত করে\nUser একজন অপরজনের নিকট messages পাঠানো Web page browse করা বা email পাঠানো ইত্যাদি বিভিন্ন ধরনের communication করার কাজও করে থাকে \n সকল Generalpurpose সিস্টেমে নির্দিষ্ট কিছু System program process রয়েছে যা boot timeএ সিস্টেম চালু করার কাজ করে থাকে \nএ ছাড়া কোনো সিস্টেম বন্ধ হওয়ার পূর্ব পর্যন্ত বিভিন্ন system program রান করতে থাকে যা Services subsystems or daemons নামে পরিচিত\nকোনো অপারেটিং সিস্টেমে ব্যবহৃত System callসমূহকে মোটামুটিভাবে টি categoriesএ ভাগ করা যায় \nকোনো সিস্টেম একটি প্রসেস তৈরি করা থেকে শুরু করে প্রসেস রান করা এবং সর্বশেষ stop করা ইত্যাদি সকল কাজের জন্য যে সকল System calls এর প্রয়োজন হয় তা Process control ক্যাটাগরির অন্তর্ভুক্ত \nপ্রসেস কনট্রোল সিস্টেম কলস এর কাজ কোনো Processকে end বা abort করা\nপ্রসেস কনট্রোল সিস্টেম কলস এর কাজ প্রসেসকে মেমরিতে load করা এবং execute করা\nপ্রসেস কনট্রোল সিস্টেম কলস এর কাজ প্রসেস create করা এবং terminate করা\nপ্রসেস কনট্রোল সিস্টেম কলস এর কাজ প্রসেসের বিভিন্ন attribute বের করা এবং প্রয়োজন অনুযায়ী সে সকল attribute set করা\nপ্রসেস কনট্রোল সিস্টেম কলস এর কাজ প্রয়োজনীয় সময়ের জন্য অপেক্ষা করা\nপ্রসেস কনট্রোল সিস্টেম কলস এর কাজ প্রসেস execute করার সময় প্রয়োজন অনুযায়ী Wait event এবং Signal event পাঠানো \nপ্রসেস কনট্রোল সিস্টেম কলস এর কাজ প্রসেসকে প্রয়োজনীয় মেমরি allocate করা এবং কাজ শেষে মেমরিকে পুনরায় free করা\nযে সকল System callসমূহ একটি তৈরি করা ডিলিট করা এবং বিভিন্ন ধরনের Manipulation করার কাজে ব্যবহৃত হয় তারা ফাইল ম্যানেজমেন্ট ক্যাটাগরির অন্তর্ভুক্ত \nফাইল ম্যানেজমেন্ট System callsএর কাজ কোনো ফাইল তৈরি করা Create এবং ডিলিট Delete করা\nফাইল ম্যানেজমেন্ট System callsএর কাজ ফাইল খোলা Open বা বন্ধ Close করা\nফাইল ম্যানেজমেন্ট System callsএর কাজ  ফাইল Read write এবং reposition করা\nফাইল ম্যানেজমেন্ট System callsএর কাজ ফাইলের বিভিন্ন attributes বের করা এবং প্রয়োজনীয় Attributes set করা\nএকটি প্রসেস execute করার সময় বিভিন্ন ধরনের Resourcesএর প্রয়োজন হয় \nকখনো Main memory কখনও disk drives আবার কখনো কোনো ফাইল access করা ইত্যাদি\nযদি প্রয়োজনীয় Resources পাওয়া যায় তাহলে তা allocate করা হয় অন্যথায় প্রসেসকে Resource free না হওয়া পর্যন্ত অপেক্ষা করতে হয়\nএই সকল বিভিন্ন ডিভাইস Physical devices abstract or virtual devices নিয়ন্ত্রণের কাজ ডিভাইস ম্যানেজমেন্ট System callসমূহ করে থাকে \n\nডিভাইস ম্যানেজমেন্ট System callsএর কাজ প্রসেসের প্রয়োজনীয় ডিভাইসের জন্য request করা\nডিভাইস ম্যানেজমেন্ট System callsএর কাজ প্রসেসে ব্যবহৃত বা allocated ডিভাইসকে কাজ শেষে release করা\nডিভাইস ম্যানেজমেন্ট System callsএর কাজ ডিভাইস থেকে কোনো তথ্য Read  করা বা ডিভাইসে কোনো তথ্য Write করা এবং reposition করা\nডিভাইস ম্যানেজমেন্ট System callsএর কাজ কোনো ডিভাইসের প্রয়োজনীয় attributes বের করা এবং set করা\n\nডিভাইস ম্যানেজমেন্ট System callsএর প্রসেসের প্রয়োজন অনুযায়ী logically কোনো ডিভাইসকে attach বা detach  করা\nঅনেক System calls রয়েছে যারা শুধুমাত্র User program এবং অপারেটিং সিস্টেমের মধ্যে তথ্য আদানপ্রদান করে থাকে\nঅধিকাংশ সিস্টেমের মধ্যে System calls রয়েছে যা বর্তমান সময় ও তারিখের তথ্য প্রদান করে \nইনফরমেশন মেইনটেন্যান্স System callsএর কাজ কোনো প্রসেস কখন তৈরি হলো বা রান করে তার সময় ও তারিখ বের করা\nইনফরমেশন মেইনটেন্যান্স System callsএর কাজ  প্রয়োজনীয় ক্ষেত্রে বিভিন্ন প্রসেসের জন্য সময় ও তারিখ নির্ধারণ করা\nইনফরমেশন মেইনটেন্যান্স System callsএর কাজ  সিস্টেম থেকে প্রয়োজনীয় Data নেয়া এবং প্রয়োজন অনুযায়ী সিস্টেমে Data set করা\nইনফরমেশন মেইনটেন্যান্স System callsএর কাজ  কোনো প্রসেস ফাইল বা ডিভাইসের attribute বের করা\nইনফরমেশন মেইনটেন্যান্স System callsএর কাজ প্রয়োজন অনুযায়ী কোনো প্রসেস ফাইল বা ডিভাইসের Attribute set করা\nকোনো সিস্টেমের মধ্যে একাধিক প্রসেস বা অন্য কম্পিউটার যা Networkএর মাধ্যমে সংযুক্ত তাদের মধ্যে যোগাযোগ রক্ষা করা প্রয়োজন \nযে সকল সিস্টেম কল এই যোগাযোগ রক্ষার কাজ করে থাকে তারাই Communication system calls নামে পরিচিত \n কোনো সিস্টেমে Interprocess communicationএর জন্য দুটি models রয়েছে\nমেসেজ পাসিং মডেলে প্রসেসগুলো মেসেজের মাধ্যমে পরস্পর তথ্যের আদানপ্রদান করে থাকে \nএই মেসেজ প্রসেসের মধ্যে সরাসরি আদানপ্রদান করে আবার কখনো Common mailboxএর মাধ্যমে আদানপ্রদান করে থাকে\nআর শেয়ার মেমরি মডেলে প্রসেসগুলো মেমরির একটি অংশ নির্ধারণ করে যেখানে প্রত্যেকেই নিজেদের প্রয়োজন অনুযায়ী মেমরি থেকে ডাটা বা তথ্য Head অথবা Write করতে পারে\nকমিউনিকেশন System callsএর কাজ কমিউনিকেশনের জন্য সংযোগ তৈরি Create বা বিচ্ছিন্ন Delete করা\nকমিউনিকেশন System callsএর কাজ  প্রসেসের মধ্যে মেসেজ আদানপ্রদান করা Send receive message\nকমিউনিকেশন System callsএর কাজ  প্রয়োজন অনুযায়ী কোনো প্রসেসের Status information transfer করা\nকোনো কম্পিউটার সিস্টেমে ব্যবহৃত রিসোর্সসমূহের access নিয়ন্ত্রণ করাই Protection system callsএর প্রধান কাজ \nঐতিহাসিকভাবে যদিও Protection কেবলমাত্র Multiprogrammed কম্পিউটার সিস্টেমে যেখানে একাধিক ইউজার রয়েছে তার মধ্যে ব্যবহৃত হয় \nতবে বর্তমানে নেটওয়ার্কিং এবং ইন্টারনেটের কারণে সকল কম্পিউটার সিস্টেমগুলোই server থেকে শুরু করে Mobile handheld ডিভাইসসমূহ সকলের জন্যই এই Protection অত্যন্ত প্রয়োজন\nProtection system callsএর কাজ বিভিন্ন রিসোর্সের মধ্যে ফাইল disk Permission set করা এবং get করা\nProtection system callsএর কাজ  কোনো ব্যবহারকারীকে কোনো রিসোর্স ব্যবহার করার অনুমতি দেয়া Allow অথবা অনুমতি না দেয়া Deny\nকোনো অপারেটিং সিস্টেম ডিজাইন এবং বাস্তবায়ন করার সময় বিভিন্ন প্রকার সমস্যার সম্মুখীন হতে হয়এ সকল সমস্যার কোনো পরিপূর্ণ সমাধান নেই \nকোনো সিস্টেম ডিজাইন ও বাস্তবায়নের ক্ষেত্রে সর্বপ্রথম যে সমস্যার সম্মুখীন হতে হয় তা হলো সিস্টেমের goals এবং specifications নির্দিষ্ট করার ক্ষেত্রে\n সর্বপ্রথম প্রভাব পড়ে প্রয়োজনীয় Hardware বাছাই করা এবং সিস্টেমের ধরন যেমন Batch time sharing single user multiuser distributed real time or general purpose নির্ধারণ করার সময় \nতা হাড়া প্রয়োজনীয় Requirement বা চাহিদা নির্দিষ্ট করাও অত্যন্ত জটিল কাজ \nচাহিদা বা Requirementকে দুটি Basic groupsএ ভাগ করা যায়\nব্যবহারকারীগণ একটি সিস্টেমে নির্দিষ্ট কিছু বৈশিষ্ট্য চায় \nকাজেই সংক্ষেপে অপারেটিং সিস্টেমের জন্য প্রয়োজনীয় Requirements নির্দিষ্ট করার এই সমস্যার একক কোনো সমাধান নেই আবার বড় কোনো সিস্টেমের ক্ষেত্রে Requirements ভিন্ন রকম হয় যার সমাধানও সম্পূর্ণ অন্য রকম \nফলে অপারেটিং সিস্টেমের Requirements নির্দিষ্ট করা এবং ডিজাইন করা অত্যন্ত উচ্চ স্বরের Creative task যদিও কোনো টেক্সট বইয়ে কীভাবে কাজটি করা হবে তা বলে নি তবু এখানে সাধারণ কিছু Principles নিয়মনীতি তৈরি করা হয়েছে Software engineeringএর সাপেক্ষে \nপ্রথম গুরুত্বপূর্ণ নিয়ম হলো Policyকে Mechanism থেকে আলাদা করতে হবে\nউদাহরণস্বরূপ বলা যায় CPUএর কার্যক্রম নিয়ন্ত্রণ করার জন্য একটি টাইমার তৈরি করতে হবে যা মেকানিজমের অন্তর্গত\nকিন্তু উক্ত টাইমার Timer একজন ব্যবহারকারীর User জন্য কত সময়ের জন্য Set করা হবে তা সিদ্ধান্ত নেয়াই হলো পলিসির কাজ \nকাজের সুবিধা Flexibility পাওয়ার জন্য পলিসি এবং মেকানিজম আলাদা করা অত্যন্ত জরুরি \nপরিবেশ পরিস্থিতি ও সময়ের সাপেক্ষে পলিসির মধ্যে পরিবর্তন আসতে পারে \nকিন্তু সবচেয়ে ক্ষতিকর বিষয় হলো যদি প্রদেয় মেকানিজমের মধ্যের পরিবর্তন আসে \nসাধারণত মেকানিজম পরিবর্তনের চেয়ে পলিসি পরিবর্তন অধিকতর সহজ\nকোনো সিস্টেমে মেকানিজম ও পলিসি সঠিকভাবে আলাদা করা থাকলে পলিসি সময়ের সাথে ভিন্নভাবে ডিজাইন করা যেতে পারে\nসাধারণ Microkernel based  অপারেটিং সিস্টেম যেমন UNIX মেকানিজম এবং পলিসি আলাদাভাবে বাস্তবায়ন করা হয় \n ফলে মেকানিজম ঠিক থাকলেও পলিসি পরিবর্তন হতে পারে\nপ্রাথমিক অবস্থায় UNIX বিভিন্ন প্রসেস রান করার জন্য Time sharing সিডিউলিং ব্যবহার করা হতো \nকিন্তু সর্বশেষ Latest ভার্শনে সিডিউলিং Loadable table দ্বারা নিয়ন্ত্রিত \nটেবিলে কোনো এক সময় Loaded প্রসেসের উপর ভিত্তি করে Time sharing batch processing realtime Fairshare অথবা একাধিক সিডিউলিংএর সমন্বয় করা হয় \nঅপরদিতে Windows এবং Mac OS X অপারেটিং সিস্টেমে মেকানিজম ও পলিসি উভয়কে একসাথে encode করা থাকে\nএকটি সিস্টেমে সকল রিসোর্স বরাদ্দ allocation দেয়ার ক্ষেত্রে পলিসি সিদ্ধান্ত গুরুত্বপূর্ণ\nমেকানিজম হলো কোনো রিসোর্স বরাদ্দ দেয়া হবে কি না তা ঠিক করা \nআর কীভাবে রিসোর্স বরাদ্দ দেয়া হবে তা নির্ধারিত হবে পলিসির সিদ্ধান্ত মোতাবেক\nঅপারেটিং সিস্টেম ডিজাইন কাজ সম্পন্ন হওয়ার পর তা বাস্তবায়ন করতে হয় \nঅপারেটিং সিস্টেম হলো অনেকগুলে প্রোগ্রামের সমন্বয় যা বহু মানুষের দীর্ঘসময় ধরে লিখিত \n এ সকল প্রোগ্রামের একটি সাধারণ Statementsএর মাধ্যমে বাস্তবায়ন করা কঠিন\nপ্রাথমিক অবস্থায় অপারেটিং সিস্টেম assembly ভাষায় লেখা হতো \nযদিও এখনো কিছু অপারেটিং সিস্টেম assembly ভাষায় লেখা হয় তবে বেশিরভাগ প্রোগ্রামই কোনো উচ্চ স্তরের ভাষায় Highlevel language যেমন C বা C এ লিখা হয়\nপ্রকৃতপক্ষে একটি অপারেটিং সিস্টেম একাধিক ভাষায় লিখা হতে পারে \nসাধারণত kernelএর নিম্নস্তরে Lowest level assembly ভাষা ব্যবহার করা হয় আর Higher level routineগুলো C ভাষায় সিস্টেম প্রোগ্রামগুলো C বা C interpreted scripting ভাষায় যেমন PERL বা python অথবা shell script ব্যবহার করা হয়\nকোনো অ্যাপ্লিকেশন প্রোগ্রাম লিখার জন্য উচ্চ স্তরের ভাষা ব্যবহারের যে সকল সুবিধা রয়েছে এখানে অর্থাৎ অপারেটিং সিস্টেম বাস্তবায়নের ক্ষেত্রেও একই সুবিধা পাওয়া যায় \nঅপারেটিং সিস্টেম বাস্তবায়নের ক্ষেত্রেও  অতি দ্রুত কোড করা যায়\nঅপারেটিং সিস্টেম বাস্তবায়নের ক্ষেত্রেও  কোড compact হয়\nঅপারেটিং সিস্টেম বাস্তবায়নের ক্ষেত্রেও সহজে বুঝা যায়\nঅপারেটিং সিস্টেম বাস্তবায়নের ক্ষেত্রেও ডিবাগিং করাও সুবিধাজনক\nঅপারেটিং সিস্টেম বাস্তবায়নের ক্ষেত্রে উন্নত কম্পাইলার দ্বারা recompile করে অপারেটিং সিস্টেমও উন্নত করা যায়\nসর্বশেষে বলা যায় উচ্চ স্তরের ভাষায় লিখিত অপারেটিং সিস্টেম সহজে পরিবর্তন করা যায়\nউচ্চ স্তরের ভাষায় লিখিত অপারেটিং সিস্টেমের সবচেয়ে বড় অসুবিধা হলো গতি Speed কমে যাওয়া\nউচ্চ স্তরের ভাষায় লিখিত অপারেটিং সিস্টেমের সবচেয়ে বড় অসুবিধা হলো অতিরিক্ত Storage প্রয়োজন হয়\nউচ্চ স্তরের ভাষায় লিখিত অপারেটিং সিস্টেমের সবচেয়ে বড় অসুবিধা হলো  Efficiency  কমে যায়\nযাইহোক প্রকৃতপক্ষে একটি অপারেটিং সিস্টেমের মূল Performance উন্নত করার পিছনে সবচেয়ে বড় ভূমিকা হলো Data structure এবং Algorithmএর উন্নত Assembly languageএর সাপেক্ষে\n তা ছাড়া একটি অপারেটিং সিস্টেম অনেক বড় একটি প্রোগ্রাম যেখানে অল্প কিছু কোড High Performanceএর ক্ষেত্রে বাধা হতে পারে \nকাজেই একটি অপারেটিং সিস্টেম লিখে যখন দেখা যায় তা সঠিকভাবে কাজ করে তখন সমস্যাযুক্ত Routineগুলো নির্দিষ্ট করে তা Assemblylanguageএর মাধ্যমে পরিবর্তন করা যায়\nবিশাল বড় ও জটিল আধুনিক অপারেটিং সিস্টেম তৈরি করার সময় অত্যন্ত সতর্কতা অবলম্বন করতে হয় যাতে তা সঠিকভাবে কাজ করে এবং সহজে modify করা যায় \nসাধারণ প্রস্তাব হলো পুরো কাজকে ছোট ছোট Components বা Moduleএ ভাগ করা এবং প্রতিটি module খুবই সতর্কতার সাথে input output এবং functionসমূহ define করা হয় \nপূর্ববর্তী অধ্যায়ে অপারেটিং সিস্টেমের বিভিন্ন components নিয়ে আলোচনা করা হয়েছে \nঅনেক অপারেটিং সিস্টেমের Welldefined কোনো স্ট্রাকচার নেই\nএই ধরনের সিস্টেম প্রথমে ছোট থেকে শুরু করা হয় এবং পরবর্তীতে আস্তে আস্তে বড় করা হয়\nMSDOS হলো এ ধরনের সিস্টেমের প্রকৃত উদাহরণ এই সিস্টেম অল্প কিছু লোক মিলে ডিজাইন এবং বাস্তবায়ন করে যারা ধারণাও করতে পারে নি তা এত জনপ্রিয় হবে\nএই প্রোগ্রাম এমনভাবে লেখা হয়েছে যাতে বেশিরভাগ Functionগুলো অল্প জায়গার Least space মাধ্যমে করা যায়\nMSDOS সিস্টেমের মধ্যে interfaces এবং Level of functionality ভালোভাবে আলাদা করা হয় নি \nকাজেই কোনো অ্যাপ্লিকেশন প্রোগ্রাম খুব সহজেই basic IO Routine সরাসরি access করে display এবং disk driveএর মধ্যে write করতে পারতো \nএই স্বাধীনতার কারণে MSDOS সিস্টেমে কোনো User প্রোগ্রাম fall করলে পুরো সিস্টেম crash করতো \n তা ছাড়া MSDOS একটি Hardware limited অপারেটিং সিস্টেম\nআর একটি Limited স্ট্রাকচার অপারেটিং সিস্টেম হলো Original UNIX অপারেটিং সিস্টেম\nMSDOSএর মতো UNIXও শুরুতে Limited ছিল Hardware functionalityএর দিকে এর দুটি আলাদা অংশ রয়েছে kemel এবং System program \n কার্নেল পরবর্তীতে অনেক interfaces এবং Device driversএর মাধ্যমে আলাদা করা হয়\nTraditional UNIX স্ট্রাকচার দেখতে অনেকগুলো layerএর সমন্বয়\nএখানে System call ইন্টারফেসের নিচে এবং Physical hardwareএর উপরের অংশই হলো kemel \nএই Kernel  সাধারণত File system CPU scheduling memory management এবং অপারেটিং সিস্টেমের অন্যান্য কাজে প্রয়োজনীয় System calls প্রদান করে থাকে \nএ থেকে দেখা যায় যে অপারেটিং সিস্টেমের মূল কাজই এই Kernel করে থাকে \nকাজেই structure বাস্তবায়ন implement এবং রক্ষণাবেক্ষণ maintain করা অত্যন্ত কঠিন\nএকটি সিস্টেমকে অনেকভাবে moduler করা যায় \nকটি প্রক্রিয়া হলো Layered approach যেখানে অপারেটিং সিস্টেমকে অনেকগুলো layer বা levelএ ভাগ করা হয় \nবচেয়ে নিচের স্তরে Layer O থাকে সকল Hardware এবং সর্ব উচ্চ স্তরে Layer N থাকে User interface \nএই Layered approach অপারেটিং সিস্টেমের সবচেয়ে বড় সুবিধা হলো Simplicity of construction এবং debugging আর Layerগুলো এমনভাবে Select করা হয় যাতে প্রত্যেকে কেবল তার নিচের Levelএর layerএর functions Operation এবং Services ব্যবহার করতে পারে \nএমনিভাবে Debugging করার ক্ষেত্রে যখন সবচেয়ে নিচের Level Layer O করা হয় তখন অন্য কোনো layerএর সঙ্গে সমন্বয় করতে হয় না \nকারণ তা শুধুমাত্র Basic hardware ব্যবহার করে \nযখন প্রথম layerএর debugging শেষ হয় তখন দ্বিতীয় Layerএর debugging করা হয় এবং পর্যায়ক্রমে অন্যান্য Layerএর debugging করা হয় \n যদি কোনো ভুল error পাওয়া যায় তাহলে তা শুধুমাত্র ঐ Layerএর জন্যই সংশোধন করতে হয় কেননা তার নিচের সকল Level পূর্বেই debugging সম্পন্ন করা হয়েছে\n এ কারণেই ডিজাইন এবং বাস্তবায়ন implement করা এই সিস্টেমে সহজ Simplied\nপ্রত্যেক layer এমনভাবে বাস্তবায়ন করা হয় যাতে কেবলমাত্র তার নিচের layer হতে প্রাপ্ত Operationগুলো Execute করতে পারে\nএই Layerএর উক্ত Operation সম্পর্কে জানা থাকা প্রয়োজন নেই \nশুধুমাত্র এই সকল Operation দ্বারা কী কাজ হবে তা জানা থাকলেই হবে \nকাজেই প্রত্যেক Layerই তার উপরের Layerএর নিকট Data structure operations এবং hardware গোপন রাখে\nতবে Layered approach সিস্টেমের সবচেয়ে বড় অসুবিধা হলো প্রত্যেক Layerকে আলাদা আলাদাভাবে define করা  \nকারণ একটি Layer কেবলমাত্র তার নিচের Layerগুলো ব্যবহার করতে পারে \nঅর্থাৎ যদি এমন হয় একটি layerএর উপরের কোনো layerএর operation প্রয়োজন হয় তাহলে তা ব্যবহার করতে পারবে না \nসর্বশেষে বলা যায় যে Layered implementationএর আরও একটি অসুবিধা হলো less efficiency \nযখন কোনো ইউজার প্রোগ্রাম IO অপারেশন execute করে তা IO layerএর System call করে যা পরে Memory management layerকে call করে \nউক্ত Layer তখন CPU Scheduling layerকেও সর্বশেষ Hardware layerএর নিকট pass করা হয় \nআর প্রতিটি Layerএরই প্রয়োজনীয় parameter পরিবর্তন হয় এবং বিভিন্ন overhead যুক্ত হয় \nফলে এই সিস্টেম কলের জন্য অধিক সময়ের প্রয়োজন হয়\n\nআমরা জানি UNIX যে Kernel ব্যবহার করতো তা অনেক বড় ছিল এবং manage করাও কঠিন ছিল\n  সালের মাঝামাঝি সময়ে Carnegie Mellon Universityএর গবেষকগণ একটি অপারেটিং সিস্টেম develop করেন যার নাম Mach \nএই অপারেটিং সিস্টেমটি Microkernel approach সর্বপ্রথম ব্যবহার করে \nএই পদ্ধতিতে অপারেটিং সিস্টেম Structure হতে সকল অপ্রয়োজনীয় Componentগুলো Kernel থেকে সরিয়ে তাদেরকে system এবং User level program হিসাবে বাস্তবায়ন করা হয় \nতার ফলশ্রুতিতে Kernelটি ছোট হয়ে যায় এবং এই Microkernels অত্যন্ত কম Space ব্যবহার করে \nএকটি Microkernelএর প্রধান কাজ হলো Client প্রোগ্রাম এবং বিভিন্ন প্রকার Servicesএর সঙ্গে সংযোগ স্থাপন করা \nআর এই যোগাযোগ message passing প্রক্রিয়া করে থাকে \nযেমন যদি কোনো client প্রোগ্রাম একটি File access করতে চায় তাহলে তা ফাইল সার্ভারের সঙ্গে যোগাযোগ করে\nকোনো Client প্রোগ্রাম কখনো serviceএর সঙ্গে সরাসরি যোগাযোগ interact করে না \nবরং এই যোগায়োগটি পরোক্ষভাবে Microkernelএর Message exchangeএর মাধ্যমে হয়ে থাকে\nএকটি বড় সুবিধা হলো Microkernel approachএ অপারেটিং সিস্টেমকে খুব সহজে বর্ধিত করা যায়\nসকল নতুন সার্ভিসসমূহ User spaceএ যুক্ত করা হয় \nএতে kernelএর মধ্যে কোনো পরিবর্তন করতে হয় না \nআবার যদি কখনো kernel পরিবর্তন করার প্রয়োজন হয় তাহলে তা খুব সহজেই করা যায় কেননা Microkernel পূর্বেই খুব ছোট থাকে \nকাজেই এ অপারেটিং সিস্টেম সহজেই Part করা যায় এক Hardware design থেকে অন্য Hardware designএ \nMicrokernel সিস্টেম অতিরিক্ত Security এবং reliabilityও প্রদান করে \nযেহেতু সার্ভিসগুলো User spaceএ রান করে kernelএ নয় তখন কোনো সার্ভিস Fail হলে অপারেটিং সিস্টেমের অন্য অংশে কোনো ব্যাঘাত সৃষ্টি হয় না\nদুঃখজনকভাবে বলা যায় Microkernelএর Performance পাওয়ার ক্ষেত্রে বড় বাধা হয়ে দাঁড়িয়েছে বর্ধিত System functionএর overhead\nসম্ভবত বর্তমান সময়ে ব্যবহৃত বিভিন্ন অপারেটিং সিস্টেম ডিজাইন পদ্ধতির মধ্যে ভালো হলো Loadable kernel modules \nএখানে kernelএর এক সেট Core components থাকে এবং তারা অতিরিক্ত বিভিন্ন সার্ভিসের সঙ্গে যুক্ত থাকে মডিউলের মাধ্যমে তা boot করার সময় এবং Run করার সময় উভয় অবস্থায়ই হতে পারে \nআধুনিক UNIX যেমন Solaris Linux Mac OSX এবং এমনকি Windowsও বর্তমানে এই পদ্ধতিতে অপারেটিং সিস্টেম বাস্তবায়ন করে থাকে\nএই পদ্ধতিতে kernel সাধারণত Care serviceগুলো প্রদান করে আর অন্য serviceগুলো প্রয়োজন অনুসার dynamically বাস্তবায়ন করা হয়\nসরাসরি কোনো Feature kernelএর সঙ্গে যুক্ত না করে Dynamically linked করা হয়  \nযেমন Kernelএ সরাসরি CPU scheduling এবং memory management অ্যালগরিদম তৈরি করা হয় এবং তারপর এ প্রয়োজনীয় বিভিন্ন সিস্টেম Loadable modules আকারে যুক্ত করা হয়\nসর্বোপরি এই সিস্টেমটি Layered systemএর মতো kernel অংশটি define করা হয় এবং Protected interfaces তৈরি করা হয়\nকিন্তু তা Layered system থেকে বেশি flexible হয়\nকেননা একটি Module ইচ্ছামতো প্রয়োজনে অন্য যেকোনে Moduleকে কল করতে পারে \nকিন্তু Layer systemএ উপরের Layerকে নিচের Layer ব্যবহার করতে পারে না \nএই পদ্ধতি আবার microkarnelএর মতো কিন্তু তা থেকে বেশি efficiency পাওয়া যায় কেননা একটি modulesকে অন্য module এই সঙ্গে Message passingএর মাধ্যমে যোগাযোগ রক্ষা করতে হয় না\nএই সিস্টেমে একটি Core kernel রয়েছে আর এর চারপাশে টি Loadable kernel module রয়েছে\nপ্রকৃতপক্ষে কোনো অপারেটিং সিস্টেমই কেবলমাত্র একটি স্ট্রাকচার অনুসরণ করে না \n বরং একাধিক স্ট্রাকচারের সমন্বয়ে তৈরি করা হয় যাতে Performance বৃদ্ধি পায় অধিক Security নিশ্চিত হয় এবং usability বৃদ্ধি পায় \n এ ধরনের একাধিক  স্ট্রাকচারের সমন্বয়ে তৈরি অপারেটিং সিস্টেমকে হাইব্রিড সিস্টেম বলা হয়\n\nউদাহরণস্বরূপ বলা যায় Linux এবং Solaris উভয়ই Performance বেশি পাওয়ার জন্য Single address space ব্যবহার করে\nআবার এরা modular সিস্টেমও support করে ফলে নতুন functionality অতি সহজে dynamically সিস্টেমের kernel এর সঙ্গে যুক্ত করা যায়\n\nএকইভাবে Windows বেশিরভাগই Monolithic অর্থাৎ Single address space ব্যবহার করে Performance বেশি পাওয়ার জন্য\nকিন্তু এটি কোনো কোনো ক্ষেত্রে microkernel সিস্টেমও ব্যবহার করে\nএ ছাড়া Windows অপারেটিং সিস্টেম Dynamically loadable kernel modules সিস্টেমও support করে \nApple Mac OS X অপারেটিং সিসৌম একটি হাইব্রিড স্ট্রাকচার Hybrid structure \nএই অপারেটিং সিস্টেম একটি Layered system\nএখানে সবচেয়ে উপরের স্তরে Aqua নামে একটি User interface রয়েছে\nবিশেষভাবে এই স্তরের Cocoa environment একটি API নির্দিষ্ট করে Specifics ObjectiveC প্রোগ্রামিং ভাষার জন্য যা Mac OS Xএ বিভিন্ন অ্যাপ্লিকেশন তৈরির কাজে ব্যবহৃত হয়\nএর নিচের স্তরে রয়েছে Kemel environment যাতে প্রাথমিকভাবে Mach microkernel এবং BSD UNIX kernel রয়েছে \nMach অংশ Remote procedure calls RPCs এবং Interprocess communication IPCএর জন্য মেমরি ম্যানেজমেন্ট support প্রদান করে\nএ ছাড়া message passing এবং thread schedulingও এর অন্তর্গত \nআর BSD অংশটি Commandline interface প্রদান করে Networking file systemএর জন্য\nএ ছাড়া kernel environment অংশ Mach ও BSD বিভিন্ন Device driver তৈরি করার জন্য IO kit এবং Dynamically loadable modules  Mac OS X Kernel extensions নামে পরিচিত রয়েছে\nBSD application environment সরাসরি kernel অংশের BSD facilities ব্যবহার করতে পারে\nIOS একটি মোবাইল অপারেটিং সিস্টেম যা Apple কর্তৃক ডিজাইন করা হয়েছে তাদের Smartphone iphone এর জন্য \nএ ছাড়া তাদের Tablet computer iPadও উক্ত অপারেটিং সিস্টেম ব্যবহার করে \nOSএর স্ট্রাকচার মূলত Mac OS অপারেটিং সিস্টেমের স্ট্রাকচার যেখানে অতিরিক্ত functionality যুক্ত হয়েছে Mobile deviceএর জন্য \nকিন্তু এই স্ট্রাকচার Mac OS Xএ তৈরিকৃত applications সরাসরি রান করা যায় না \nএখানে Cocoa touch হলো একটি API ObjectiveC এর জন্য যা বিভিন্ন Frameworks প্রদান করে iOS ডিভাইসে রান করার উপযোগী Application তৈরি করার জন্য \nপূর্বের Cocoa এবং Cocoa touchএর মধ্যে কাজের দিক দিয়ে মূল পার্থক্য হলো Cocoa touch নির্দিষ্ট Hardware মোবাইল ডিভাইসের support প্রদান করে \nআর Media service লেয়ারটি Graphics audio এবং Videoএর জন্য সার্ভিস প্রদান করে\nCore service লেয়ার Cloud computing databaseএর supportসহ বিভিন্ন ধরনের Features সাপোর্ট করে \nসবচেয়ে নিচের স্তরে রয়েছে Care OS যা Mac OS Xএর Kernel environmentএর মতো\nAndroid অপারেটিং সিস্টেমটি Open handset alliance ডিজাইন করেছিল যার অগ্রভাগে Google ছিল \nএটি মূলত develop করা হয় Android smartphone এবং Tablet computerএর জন্য \nAndroid বিভিন্ন প্রকার Mobile platforms এ রান করে এবং এটি একটি Opensourced প্রোগ্রামও\nAndroid অপারেটিং সিস্টেমের স্ট্রাকচার OSএর মতো layered structure যার অনেক Frame works রয়েছে বিভিন্ন  মোবাইল অ্যাপ্লিকেশন তৈরি করার জন্য \n সবচেয়ে নিচে রয়েছে Linux kernel যদিও তা পরবর্তীতে Google পরিবর্তন করেছিল \nLinux প্রাথমিকভাবে process memory এবং device drive সাপোর্ট করার জন্য ব্যবহার করা হয়\nআর Android runtime environmentএর মধ্যে অনেক Core libraries এবং Dalvik virtual machine অন্তর্ভুক্ত রয়েছে\nAndroid deviceএর কোনো application তৈরি করার জন্য Software designerগণ Java language ব্যবহার করে থাকে\nপ্রত্যেক Computer systemএর জন্য Operating system একটি গুরুত্বপূর্ণ অংশ\nসকল Computer ব্যবহারকারীদের Operating systemএর সাথে কমবেশি সম্পর্ক থাকে\nবর্তমান যুগের কোনো Computerই Operating system ছাড়া কল্পনা করা যায় না\nOperating system মূলত এক ধরনের System software যা Computerএর Hardware এবং ব্যবহারকারীর User মধ্যে সমন্বয় সাধন করে থাকে \nOS হলো Hardware এবং Userএর মধ্যকার মধ্যস্থতাকারী Intermediary প্রোগ্রামের সমষ্টি\nঅপারেটিং সিস্টেম হলো এক ধরনের Integrated program বা এক গুচ্ছ Components এবং Resources যেমন Main memory CPU Peripheral devices etcগুলোকে পরিচালনা এবং সার্বিক ব্যবস্থাপনা করে থাকে\nOS কম্পিউটারের Information managementএর কাজও করে থাকে\nকম্পিউটার সিস্টেমকে ব্যবহার উপযোগী Usable ও Computer hardwareসমূহকে কার্যদক্ষ করাই হচ্ছে Operating systemএর মূল উদ্দেশ্য\nOperating system program এবং প্রোগ্রাম ব্যবহারকারীদের সুনির্দিষ্ট কিছু সার্ভিস প্রদান করে থাকে\nComputerএর যাবতীয় কার্য বা Operation সঠিক ও সুষ্ঠুভাবে সম্পন্ন করার জন্য Operating system আবশ্যক\nঅপারেটিং সিস্টেম হলো এক ধরনের প্রোগ্রাম বা একগুচ্ছ প্রোগ্রামের সমষ্টি Integrated set of programs যা কম্পিউটারের সকল operation সম্পাদন করে এবং নিয়ন্ত্রণ করে\nকম্পিউটার সিস্টেমের কার্যক্রমের সাথে মিল রেখে OS তৈরি করা হয়\nঅপারেটিং সিস্টেমের দুই ধরনের Goal বা উদ্দেশ্য রয়েছে\nকম্পিউটারের চালিকাশক্তি যেমন OS তেমনি Kernel হলো OSএর চালিকাশক্তি\nযে Program টি Computerএ সব সময় running থাকে সেটিই হলো Kernel\n সিপিইউ হলো Central Processing Unit বা কেন্দ্রীয় নিয়ন্ত্রণ অংশ এর তিনটি অংশ নিম্নরূপঃ ক এএলইউ খ রেজিস্টার গ কন্ট্রোল ইউনিট Control Unit\nএএলইউ ALU  ALU এর পূর্ণরূপ হলো Arithmetic Logic Unit বা গাণিতিক যুক্তি অংশ\nরেজিস্টার Register  এদের বিভিন্ন কাজের সময় ডাটা অস্থায়ী ফলাফল বা মেমরি অ্যাড্রেস ধারণ করতে ব্যবহার করা হয়\nকন্ট্রোল ইউনিট Control Unit কম্পিউটার প্রোগ্রামের নির্দেশসমূহকে অনুধাবনের পর নির্বাহ করে থাকে\nপ্রোগ্রাম এর  বিভিন্ন ইনস্ট্রাকশন নির্বাহ কন্ট্রোল ইউনিট নিয়ন্ত্রণ করে\nপ্রোগ্রাম ও ডাটাসমূহকে ধারণ করার জন্য এ মেমরি ব্যবহৃত হয়\nমেমরিকে সাধারণত দুভাগে ভাগ করা হয়\nপ্রধান মেমরিকে অনেক সময় এক্সিকিউটেবল মেমরিও বলা হয়\nRAMথেকে যেমন পড়া যায় তেমনি এতে লেখাও যায়\nরম মেমরি ROM Memory হলো স্থায়ী মেমরি এ মেমরি থেকে শুধুমাত্র ডাটা পড়া যায়\nসেকেন্ডারি মেমরি সহায়ক স্মৃতি হিসেবে ব্যবহৃত হয়\nসেকেন্ডারি মেমরি হিসেবে হার্ড ডিস্ক ফ্লপি ডিস্ক ম্যাগনেটিক ডিস্ক চুম্বকীয় টেপ ইত্যাদি ব্যবহৃত হয়\nইনপুট ডিভাইসের মাধ্যমে কম্পিউটারে উপাত্ত প্রেরণ করা হয় এবং বিভিন্ন ক্ষেত্রে বিশেষ নির্দেশ প্রেরণ করা হয় উদাহরণ কীবোর্ড মাউস ইত্যাদি\nআউটপুট ডিভাইসের সাহায্যে আমরা কম্পিউটারের প্রক্রিয়াকরণের ফলাফল জানতে পারি উদাহারণ মনিটর প্রিন্টার ইত্যাদি\nআধুনিক কম্পিউটার হলো এমন একটি স্বয়ংক্রিয় ইলেকট্রনিক যন্ত্র যাতে পূর্ব থেকেই কিছু তথ্য সংরক্ষিত থাকে Manufacturer কর্তৃক প্রদত্ত যা ইনপুটে নির্দেশমতো প্রদত্ত উপাত্ত ও তথ্যকে গাণিতিক ও যৌক্তিক বিশ্লেষণ করে নিজে থেকেই সমস্যা সমাধান করে আউটপুটে কাঙ্ক্ষিত ফলাফল প্রদান করে এবং প্রয়োজনে তথ্য ও উপাত্তকে Memoryতে সংরক্ষণ করে\nআধুনিক কম্পিউটার মূলত পাঁচটি অংশ নিয়ে গঠিত\nমাইক্রোপ্রসেসর এক ধরনের ইলেকট্রনিক চিপ\nমাইক্রোকম্পিউটারসহ অন্যান্য ইলেকট্রনিক যন্ত্রে মাইক্রোপ্রসেসর ব্যবহৃত হয়ে থাকে\nমাইক্রোকম্পিউটারের মাইক্রোপ্রসেসরকে বলা হয় সিপিইউ সেন্ট্রাল প্রসেসিং ইউনিট বা কেন্দ্রীয় প্রক্রিয়াকরণ অংশ\nমাইক্রোপ্রসেসরের মধ্যে রয়েছে অ্যারিথমেটিক লজিক ইউনিট কন্ট্রোল ইউনিট রেজিস্টর এবং অসংখ্য লজিক সেট বা যুক্তি বর্তনী\nআধুনিক জেনারেল পারপাস কম্পিউটার সিস্টেম এক বা একাধিক CPU দ্বারা গঠিত এবং Shared মেমরি অ্যাক্সেস করার জন্য এক বা একাধিক ডিভাইস কন্ট্রোলারগুলো কমন বাসের সাথে কানেকটেড থাকে\nমেমরি সাইকেল পূর্ণ করার জন্য CPU ও ডিভাইসগুলোর এক্সিকিউশন একই সাথে হয়\n ডিভাইস ও CPU একই সাথে এক্সিকিউট হয় এবং প্রত্যেকটি ডিভাইস কন্ট্রোলের একটি নির্দিষ্ট ধরনের ডিভাইসের জন্য দায়িত্বপ্রাপ্ত হয়\nপ্রত্যেক ডিভাইস কন্ট্রোলারের একটি লোকাল বাফার থাকে\nCPU ডাটাকে লোকাল বাফার ও মেইন মেমরির মধ্যে আদানপ্রদান করে থাকে\nবিভিন্ন IOগুলো বিভিন্ন ডিভাইস থেকে কন্ট্রোলারের লোকাল বাফারে ম্যাপিং হয়\nডিভাইস কন্ট্রোলার একটি ইন্টারান্ট সূচনা করে CPUকে জানায় যে তার অপারেশন শেষ হয়েছে\nকম্পিউটারে যখন পাওয়ার দেয়া হয় বা রিবুট করা হয় তখন একে রান করার জন্য ইনিশিয়াল প্রোগ্রাম বা বুটস্ট্রাপ প্রেগ্রাম দরকার হয়\nঅপারেটিং সিস্টেমকে লোড ও সিস্টেমের execution শুরু করার জন্য bootstrap প্রোগ্রামকে অবশ্যই লোড করতে হবে\nকম্পিউটার প্রোগ্রামগুলো এক্সিকিউশনের জন্য মেইন মেমরিতে থাকে যা প্রসেসর সরাসরি অ্যাক্সেস করতে পারে\nসাধারণত Dynamic Random Access Memory DRAM সেমিকন্ডাক্টর টেকনোলজিতে কার্যকর হয় যা মেমরি ওয়ার্ডগুলোর একটি অ্যারে গঠন করে\nপ্রত্যেকটি ওয়ার্ডের নিজস্ব অ্যাড্রেস আছে\nনির্দিষ্ট মেমরি অ্যাড্রেসে একটি ধারাবাহিক লোড বা স্টোর ইনস্ট্রাকশনের মাধ্যমে ইন্টারেকশন হয়\nলোড ইনস্ট্রাকশন একটি ওয়ার্ডকে মেইন মেমরি থেকে CPUএর ইন্টারনাল রেজিস্টারে স্থানান্তর করে\nস্টোর ইনস্ট্রাকশন রেজিস্টারের কন্টেন্টকে মেইন মেমরিতে স্থানান্তর করে\nCPU স্বয়ংক্রিয়ভাবে ইনস্ট্রাকশনগুলো এক্সিকিউশনের জন্য মেইন মেমরিতে লোড করে\nমেইন মেমরিতে টি কারণে স্থায়ীভাবে ভাষা ও প্রোগ্রাম রাখা সম্ভব নয়\nমেইন মেমরি প্রয়োজনীয় সকল প্রোগ্রাম ও data স্টোর করার জন্য খুবই ছোট\nমেইন মেমরি ভোলাটাইল স্টোরেজ ডিভাইস হওয়া বিদ্যুৎ চলে গেলে এর কন্টেন্ট মুছে যায়\nঅধিকাংশ কম্পিউটার সিস্টেম মেইন মেমরির সাথে সেকেন্ডারি স্টোরেজ ব্যবহার করে\nসবচেয়ে কমন সেকেন্ডারি স্টোরেজ হলো ম্যাগনেটিক ডিস্ক যা প্রোগ্রাম ও ডাটা উভয়কে স্টোর করতে পারে\nঅনেক স্টোরেজ সিস্টেমের মধ্যে কিছু স্টোরেজ স্ট্রাকচার রেজিস্টার মেইন মেমরি ও ম্যাগনেটিক স্টোরেজ দ্বারা গঠিত\nঅন্যান্য স্টোরেজ স্ট্রাকচার ক্যাশ মেমরি সিডি রম ম্যাগনেটিক টেপস দ্বারা গঠিত হয়\nমূলত বিভিন্ন স্টোরেজ সিস্টেমের ভিন্নতা নির্ভর করে এদের গতি মূল্য আকৃতি ও ভোলাটিলিটি বৈশিষ্ট্যের উপর\nজেনারেল পারপাস কম্পিউটার সিস্টেম কতকগুলো সিপিইউ ও বহু সংখ্যক ডিভাইস কন্ট্রোলারের সমন্বয়ে গঠিত যেগুলো একটি কমন বাসের মাধ্যমে সংযুক্ত থাকে\nপ্রত্যেক ডিভাইস কন্ট্রোলার কোনো নির্দিষ্ট ধরনের ডিভাইসের জন্য কাজ করে\nকন্ট্রোলারের উপর নির্ভর করে একাধিক ডিভাইস সংযুক্ত থাকতে পারে\nডিভাইস কন্ট্রোলার কিছু লোকাল বাফার স্টোরেজ এবং একসেট স্পেশাল পারপাস রেজিস্টারকে মেইনটেইন করে\nপেরিফেরাল ডিভাইস ও লোকাল বাফার স্টোরেজের মধ্যে ডাটা স্থানান্তর করে\nপ্রত্যেক ডিভাইস কন্ট্রোলারের জন্য OS এর একটি ডিভাইস ড্রাইভার রয়েছে যা ডিভাইস কন্ট্রোলারকে বুঝতে পারে\nIO অপারেশন শুরু করার জন্য ডিভাইস ড্রাইভার উপযুক্ত রেজিস্টারগুলো ডিভাইস কন্ট্রোলারের মধ্যে লোড করে\nডিভাইস কন্ট্রোলার এরপর কী কাজ করতে হবে তা নির্ণয় করার জন্য রেজিস্টারগুলোর কন্টেন্টগুলোকে পরীক্ষা করে\nকন্ট্রোলার ডিভাইস থেকে এর লোকাল বাফারে ডাটা ট্রান্সফার শুরু করে\nডাটা ট্রান্সফার শেষ হলে ডিভাইস কন্ট্রোলার একটি ইন্টারান্টের মাধ্যমে ডিভাইস ড্রাইভারকে জানায় যে কাজ শেষ হয়েছে\nডিভাইস ড্রাইভার অপারেটিং সিস্টেমকে কন্ট্রোল ফিরিয়ে দেয় এবং অন্যান্য অপারেশনের জন্য স্ট্যাটাস ইনফরমেশন ফেরত পাঠায়\nযদি প্রত্যেক প্রসেসর এর কাজ সঠিকভাবে ডিস্ট্রিবিউট করা যায় তাহলে একটি প্রসেসর অকেজো হলে পুরো System অকেজো হয়ে পড়বে না বরং Slow হয়ে পড়বে \nপ্রসেসরের সংখ্যা বৃদ্ধি করে আমরা কম সময়ে ও সঠিকভাবে অধিক কাজ করতে পারি\nMultiprocessor systemএর খরচ Multiple single processorএর খরচের তুলনায় কম\nMultiprocessor systemএর গুরুত্ব দিন দিন বৃদ্ধি পাচ্ছে\nযদি একটি মাত্র General purpose CPU থাকে তাহলে সেই systemকে আমরা একটি Single processor system বলতে পারি\nSpecial purpose microprocessor সাধারণভাবে ব্যবহৃত হয় কিন্তু এটি একটি Single processor system Multiprocessor systemএ convert করতে পারে না\nবর্তমানে  ধরনের Multiprocessor system ব্যবহৃত হয়\nAsymmetric multiprocessing যেখানে প্রত্যেক প্রসেসর একটি নির্দিষ্ট কাজ করার জন্য assing করা থাকে\nক্লাস্টারড সিস্টেম Clustered system  এক ধরনের Multiple CPU system যেখানে Multiprocessor systemএর মতো অনেকগুলো processor একসাথে গণনার কাজ করে থাকে\nClustered system Computerগুলো Storage শেয়ার করে এবং একটি Local area network বা একটি Faster interconnect যেমন Infinibandএর মাধ্যমে যুক্ত থাকে\nযদি ক্লাস্টারে এক বা একাধিক সিস্টেম fall করে তাহলেও service চলতে থাকবে\nসিস্টেমে একটি Level of redundancy সংযুক্ত করে service এর উচ্চ প্রাপ্যতা নিশ্চিত হয়\nCluster softwareএর একটি স্তর Cluster nodeগুলোর উপর gun করে\nপ্রত্যেকটি nodo অপর এক বা একাধিক node কে LANএর মধ্যে monitor করতে পারে\nযদি মনিটরকৃত মেশিন ফেইল করে মনিটরিং মেশিন এর Storageএর দায়িত্ব নিতে পারে তাহলে ফেইলড মেশিনে run কৃত অ্যাপ্লিকেশনগুলো restart করে\nঅ্যাপ্লিকেশনগুলোর ইউজার এবং ক্লায়েন্টরা কেবলমাত্র সার্ভিসের ফোনিক ইন্টারাপশন দেখতে পায়\nClustering asymmetrically অথবা symmetrically গঠিত হতে পারে\nAsymmetric ক্লাস্টারিংএ একটি মেশিন Hot standby মোডে থাকে ও অন্যটি অ্যাপ্লিকেশনগুলো রান করে\nHot standby হোস্ট অ্যাকটিভ সার্ভারকে মনিটর করে ও  সার্ভার fail করলে তা অ্যাকটিভ সার্ভার হিসেবে কাজ করে\nSymmetric মোডে দুই বা ততোধিক অ্যাপ্লিকেশন রান করে এবং একে অপরকে মনিটর করে\nআধুনিক অপারেটিং সিস্টেমগুলো হলো ইন্টারাপট ট্রিভেন\nট্র্যাপ সংগঠিত হওয়ার মাধ্যমে ইভেন্টগুলো সিগন্যাল প্রাপ্ত হয় \nCPUএর উপর অপারেটিং সিস্টেমের control বজায় রাখার জন্য এবং User programকে Infinite loopএ আটকে পড়া থেকে বিরত রাখতে অথবা System service call করতে যাতে ব্যর্থ না হয় এবং কখনই Operating systemকে Control return করতে যাতে ব্যর্থ না হয় এই উদ্দেশ্যগুলো সম্পূর্ণ করার জন্য timer ব্যবহার করা হয়\nযদি timer ইন্টারাপ্ট করে তাহলে স্বয়ংক্রিয়ভাবে অপারেটিং সিস্টেমের কাছে control ট্রান্সফার হয়ে যায়\nট্র্যাপ হলো একটি সফটওয়্যার জেনারেটেড  ইন্টারাপ্ট যা Error দ্বারা হতে পারে অথবা user প্রোগ্রাম হতে নির্দিষ্ট্র রিকুয়েস্ট ধারা হতে পারে \nঅপারেটিং সিস্টেমের ইন্টারাপ্ট ড্রিভেন nature ঐ সিস্টেমের জেনারেল স্ট্রাকচার ডিফাইন করে\nপ্রত্যেক ধরনের  ইন্টারাপ্ট অপারেটিং সিস্টেম কোডের পৃথক সেগমেন্টস রয়েছে যা কোন ধরনের কাজ করতে হবে তা নির্ধারণ করে\nOperationএর Mode দুই ধরনের User mode ও Kemal mode\nযখন কোনো কম্পিউটার সিস্টেম User applicationএর পক্ষ থেকে execute করা হয় তখন সিস্টেমটি User modeএ থাকে\nPrivileged instruction শুধু kernel mode execute হয়\nসার্ভার সিস্টেম বৃহৎভাবে দুই ধরনের হতে পারে\nএকটি সার্ভার একটি ডাটাবেস রান করছে যা একটি ক্লায়েন্টের ডাটার জন্য রিকুয়েস্ট এ সাড়া প্রদান করছে\nডিস্ট্রিবিউটেড সিস্টেমের আরেকটি স্ট্রাকচার হলো পিয়ারটুপিয়ার PLP সিস্টেম মডেল\nপিয়ার টু পিয়ার সিস্টেমের নেটওয়ার্কের সর্বত্র থাকা নোডসমূহ সার্ভিস প্রদান করে\nযেহেতু PC গুলো দ্রুত অধিক শক্তিশালী এবং সস্তা তাই ডিজাইনাররা সেন্ট্রালাইজড সিস্টেম আর্কিটেকচার থেকে দূরে সরে গিয়েছে\nসেন্ট্রালাইজড সিস্টেম কানেকটেড টার্মিনালগুলোর পরিবর্তনে পিসি ও মোবাইল ডিভাইস ব্যবহৃত হচ্ছে\n",
          "output_type": "stream"
        }
      ]
    },
    {
      "cell_type": "code",
      "source": [
        "stop =[\"অতএব\",\"অথচ\",\"অথবা\",\"অনুযায়ী\",\"অনেক\",\"অনেকে\",\"অনেকেই\",\"অন্তত\",\"অন্য\",\"অবধি\",\"অবশ্য\",\"অর্থাত\",\"আই\",\"আগামী\",\"আগে\",\"আগেই\",\"আছে\",\"আজ\",\"আদ্যভাগে\",\"আপনার\",\"আপনি\",\"আবার\",\"আমরা\",\"আমাকে\",\"আমাদের\",\"আমার\",\"আমি\",\"আর\",\"আরও\",\"ই\",\"ইত্যাদি\",\"ইহা\",\"উচিত\",\"উত্তর\",\"উনি\",\"উপর\",\"উপরে\",\"এ\",\"এঁদের\",\"এঁরা\",\"এই\",\"একই\",\"একটি\",\"একবার\",\"একে\",\"এক্\",\"এখন\",\"এখনও\",\"এখানে\",\"এখানেই\",\"এটা\",\"এটাই\",\"এটি\",\"এত\",\"এতটাই\",\"এতে\",\"এদের\",\"এব\",\"এবং\",\"এবার\",\"এমন\",\"এমনকী\",\"এমনি\",\"এর\",\"এরা\",\"এল\",\"এস\",\"এসে\",\"ঐ\",\"ও\",\"ওঁদের\",\"ওঁর\",\"ওঁরা\",\"ওই\",\"ওকে\",\"ওখানে\",\"ওদের\",\"ওর\",\"ওরা\",\"কখনও\",\"কত\",\"কবে\",\"কমনে\",\"কয়েক\",\"কয়েকটি\",\"করছে\",\"করছেন\",\"করতে\",\"করবে\",\"করবেন\",\"করলে\",\"করলেন\",\"করা\",\"করাই\",\"করায়\",\"করার\",\"করি\",\"করিতে\",\"করিয়া\",\"করিয়ে\",\"করে\",\"করেই\",\"করেছিলেন\",\"করেছে\",\"করেছেন\",\"করেন\",\"কাউকে\",\"কাছ\",\"কাছে\",\"কাজ\",\"কাজে\",\"কারও\",\"কারণ\",\"কি\",\"কিংবা\",\"কিছু\",\"কিছুই\",\"কিন্তু\",\"কী\",\"কে\",\"কেউ\",\"কেউই\",\"কেখা\",\"কেন\",\"কোটি\",\"কোন\",\"কোনও\",\"কোনো\",\"ক্ষেত্রে\",\"কয়েক\",\"খুব\",\"গিয়ে\",\"গিয়েছে\",\"গিয়ে\",\"গুলি\",\"গেছে\",\"গেল\",\"গেলে\",\"গোটা\",\"চলে\",\"চান\",\"চায়\",\"চার\",\"চালু\",\"চেয়ে\",\"চেষ্টা\",\"ছাড়া\",\"ছাড়াও\",\"ছিল\",\"ছিলেন\",\"জন\",\"জনকে\",\"জনের\",\"জন্য\",\"জন্যওজে\",\"জানতে\",\"জানা\",\"জানানো\",\"জানায়\",\"জানিয়ে\",\"জানিয়েছে\",\"জে\",\"জ্নজন\",\"টি\",\"ঠিক\",\"তখন\",\"তত\",\"তথা\",\"তবু\",\"তবে\",\"তা\",\"তাঁকে\",\"তাঁদের\",\"তাঁর\",\"তাঁরা\",\"তাঁাহারা\",\"তাই\",\"তাও\",\"তাকে\",\"তাতে\",\"তাদের\",\"তার\",\"তারপর\",\"তারা\",\"তারৈ\",\"তাহলে\",\"তাহা\",\"তাহাতে\",\"তাহার\",\"তিনঐ\",\"তিনি\",\"তিনিও\",\"তুমি\",\"তুলে\",\"তেমন\",\"তো\",\"তোমার\",\"থাকবে\",\"থাকবেন\",\"থাকা\",\"থাকায়\",\"থাকে\",\"থাকেন\",\"থেকে\",\"থেকেই\",\"থেকেও\",\"দিকে\",\"দিতে\",\"দিন\",\"দিয়ে\",\"দিয়েছে\",\"দিয়েছেন\",\"দিলেন\",\"দু\",\"দুই\",\"দুটি\",\"দুটো\",\"দেওয়া\",\"দেওয়ার\",\"দেওয়া\",\"দেখতে\",\"দেখা\",\"দেখে\",\"দেন\",\"দেয়\",\"দ্বারা\",\"ধরা\",\"ধরে\",\"ধামার\",\"নতুন\",\"নয়\",\"না\",\"নাই\",\"নাকি\",\"নাগাদ\",\"নানা\",\"নিজে\",\"নিজেই\",\"নিজেদের\",\"নিজের\",\"নিতে\",\"নিয়ে\",\"নিয়ে\",\"নেই\",\"নেওয়া\",\"নেওয়ার\",\"নেওয়া\",\"নয়\",\"পক্ষে\",\"পর\",\"পরে\",\"পরেই\",\"পরেও\",\"পর্যন্ত\",\"পাওয়া\",\"পাচ\",\"পারি\",\"পারে\",\"পারেন\",\"পি\",\"পেয়ে\",\"পেয়্র্\",\"প্রতি\",\"প্রথম\",\"প্রভৃতি\",\"প্রযন্ত\",\"প্রাথমিক\",\"প্রায়\",\"প্রায়\",\"ফলে\",\"ফিরে\",\"ফের\",\"বক্তব্য\",\"বদলে\",\"বন\",\"বরং\",\"বলতে\",\"বলল\",\"বললেন\",\"বলা\",\"বলে\",\"বলেছেন\",\"বলেন\",\"বসে\",\"বহু\",\"বা\",\"বাদে\",\"বার\",\"বি\",\"বিনা\",\"বিভিন্ন\",\"বিশেষ\",\"বিষয়টি\",\"বেশ\",\"বেশি\",\"ব্যবহার\",\"ব্যাপারে\",\"ভাবে\",\"ভাবেই\",\"মতো\",\"মতোই\",\"মধ্যভাগে\",\"মধ্যে\",\"মধ্যেই\",\"মধ্যেও\",\"মনে\",\"মাত্র\",\"মাধ্যমে\",\"মোট\",\"মোটেই\",\"যখন\",\"যত\",\"যতটা\",\"যথেষ্ট\",\"যদি\",\"যদিও\",\"যা\",\"যাঁর\",\"যাঁরা\",\"যাওয়া\",\"যাওয়ার\",\"যাওয়া\",\"যাকে\",\"যাচ্ছে\",\"যাতে\",\"যাদের\",\"যান\",\"যাবে\",\"যায়\",\"যার\",\"যারা\",\"যিনি\",\"যে\",\"যেখানে\",\"যেতে\",\"যেন\",\"যেমন\",\"র\",\"রকম\",\"রয়েছে\",\"রাখা\",\"রেখে\",\"লক্ষ\",\"শুধু\",\"শুরু\",\"সঙ্গে\",\"সঙ্গেও\",\"সব\",\"সবার\",\"সমস্ত\",\"সম্প্রতি\",\"সহ\",\"সহিত\",\"সাথে\",\"সাধারণ\",\"সামনে\",\"সি\",\"সুতরাং\",\"সে\",\"সেই\",\"সেখান\",\"সেখানে\",\"সেটা\",\"সেটাই\",\"সেটাও\",\"সেটি\",\"স্পষ্ট\",\"স্বয়ং\",\"হইতে\",\"হইবে\",\"হইয়া\",\"হওয়া\",\"হওয়ায়\",\"হওয়ার\",\"হচ্ছে\",\"হত\",\"হতে\",\"হতেই\",\"হন\",\"হবে\",\"হবেন\",\"হয়\",\"হয়তো\",\"হয়নি\",\"হয়ে\",\"হয়েই\",\"হয়েছিল\",\"হয়েছে\",\"হয়েছেন\",\"হল\",\"হলে\",\"হলেই\",\"হলেও\",\"হলো\",\"হাজার\",\"হিসাবে\",\"হৈলে\",\"হোক\",\"হয়\"]\n",
        "display(stop)"
      ],
      "metadata": {
        "execution": {
          "iopub.status.busy": "2024-05-20T16:00:11.472702Z",
          "iopub.execute_input": "2024-05-20T16:00:11.473098Z",
          "iopub.status.idle": "2024-05-20T16:00:11.509054Z",
          "shell.execute_reply.started": "2024-05-20T16:00:11.473065Z",
          "shell.execute_reply": "2024-05-20T16:00:11.508095Z"
        },
        "trusted": true,
        "id": "1AhfPFV3V9jW",
        "outputId": "d183d087-7f74-4405-caa2-7900444281a4"
      },
      "execution_count": null,
      "outputs": [
        {
          "output_type": "display_data",
          "data": {
            "text/plain": "['অতএব',\n 'অথচ',\n 'অথবা',\n 'অনুযায়ী',\n 'অনেক',\n 'অনেকে',\n 'অনেকেই',\n 'অন্তত',\n 'অন্য',\n 'অবধি',\n 'অবশ্য',\n 'অর্থাত',\n 'আই',\n 'আগামী',\n 'আগে',\n 'আগেই',\n 'আছে',\n 'আজ',\n 'আদ্যভাগে',\n 'আপনার',\n 'আপনি',\n 'আবার',\n 'আমরা',\n 'আমাকে',\n 'আমাদের',\n 'আমার',\n 'আমি',\n 'আর',\n 'আরও',\n 'ই',\n 'ইত্যাদি',\n 'ইহা',\n 'উচিত',\n 'উত্তর',\n 'উনি',\n 'উপর',\n 'উপরে',\n 'এ',\n 'এঁদের',\n 'এঁরা',\n 'এই',\n 'একই',\n 'একটি',\n 'একবার',\n 'একে',\n 'এক্',\n 'এখন',\n 'এখনও',\n 'এখানে',\n 'এখানেই',\n 'এটা',\n 'এটাই',\n 'এটি',\n 'এত',\n 'এতটাই',\n 'এতে',\n 'এদের',\n 'এব',\n 'এবং',\n 'এবার',\n 'এমন',\n 'এমনকী',\n 'এমনি',\n 'এর',\n 'এরা',\n 'এল',\n 'এস',\n 'এসে',\n 'ঐ',\n 'ও',\n 'ওঁদের',\n 'ওঁর',\n 'ওঁরা',\n 'ওই',\n 'ওকে',\n 'ওখানে',\n 'ওদের',\n 'ওর',\n 'ওরা',\n 'কখনও',\n 'কত',\n 'কবে',\n 'কমনে',\n 'কয়েক',\n 'কয়েকটি',\n 'করছে',\n 'করছেন',\n 'করতে',\n 'করবে',\n 'করবেন',\n 'করলে',\n 'করলেন',\n 'করা',\n 'করাই',\n 'করায়',\n 'করার',\n 'করি',\n 'করিতে',\n 'করিয়া',\n 'করিয়ে',\n 'করে',\n 'করেই',\n 'করেছিলেন',\n 'করেছে',\n 'করেছেন',\n 'করেন',\n 'কাউকে',\n 'কাছ',\n 'কাছে',\n 'কাজ',\n 'কাজে',\n 'কারও',\n 'কারণ',\n 'কি',\n 'কিংবা',\n 'কিছু',\n 'কিছুই',\n 'কিন্তু',\n 'কী',\n 'কে',\n 'কেউ',\n 'কেউই',\n 'কেখা',\n 'কেন',\n 'কোটি',\n 'কোন',\n 'কোনও',\n 'কোনো',\n 'ক্ষেত্রে',\n 'কয়েক',\n 'খুব',\n 'গিয়ে',\n 'গিয়েছে',\n 'গিয়ে',\n 'গুলি',\n 'গেছে',\n 'গেল',\n 'গেলে',\n 'গোটা',\n 'চলে',\n 'চান',\n 'চায়',\n 'চার',\n 'চালু',\n 'চেয়ে',\n 'চেষ্টা',\n 'ছাড়া',\n 'ছাড়াও',\n 'ছিল',\n 'ছিলেন',\n 'জন',\n 'জনকে',\n 'জনের',\n 'জন্য',\n 'জন্যওজে',\n 'জানতে',\n 'জানা',\n 'জানানো',\n 'জানায়',\n 'জানিয়ে',\n 'জানিয়েছে',\n 'জে',\n 'জ্নজন',\n 'টি',\n 'ঠিক',\n 'তখন',\n 'তত',\n 'তথা',\n 'তবু',\n 'তবে',\n 'তা',\n 'তাঁকে',\n 'তাঁদের',\n 'তাঁর',\n 'তাঁরা',\n 'তাঁাহারা',\n 'তাই',\n 'তাও',\n 'তাকে',\n 'তাতে',\n 'তাদের',\n 'তার',\n 'তারপর',\n 'তারা',\n 'তারৈ',\n 'তাহলে',\n 'তাহা',\n 'তাহাতে',\n 'তাহার',\n 'তিনঐ',\n 'তিনি',\n 'তিনিও',\n 'তুমি',\n 'তুলে',\n 'তেমন',\n 'তো',\n 'তোমার',\n 'থাকবে',\n 'থাকবেন',\n 'থাকা',\n 'থাকায়',\n 'থাকে',\n 'থাকেন',\n 'থেকে',\n 'থেকেই',\n 'থেকেও',\n 'দিকে',\n 'দিতে',\n 'দিন',\n 'দিয়ে',\n 'দিয়েছে',\n 'দিয়েছেন',\n 'দিলেন',\n 'দু',\n 'দুই',\n 'দুটি',\n 'দুটো',\n 'দেওয়া',\n 'দেওয়ার',\n 'দেওয়া',\n 'দেখতে',\n 'দেখা',\n 'দেখে',\n 'দেন',\n 'দেয়',\n 'দ্বারা',\n 'ধরা',\n 'ধরে',\n 'ধামার',\n 'নতুন',\n 'নয়',\n 'না',\n 'নাই',\n 'নাকি',\n 'নাগাদ',\n 'নানা',\n 'নিজে',\n 'নিজেই',\n 'নিজেদের',\n 'নিজের',\n 'নিতে',\n 'নিয়ে',\n 'নিয়ে',\n 'নেই',\n 'নেওয়া',\n 'নেওয়ার',\n 'নেওয়া',\n 'নয়',\n 'পক্ষে',\n 'পর',\n 'পরে',\n 'পরেই',\n 'পরেও',\n 'পর্যন্ত',\n 'পাওয়া',\n 'পাচ',\n 'পারি',\n 'পারে',\n 'পারেন',\n 'পি',\n 'পেয়ে',\n 'পেয়্র্',\n 'প্রতি',\n 'প্রথম',\n 'প্রভৃতি',\n 'প্রযন্ত',\n 'প্রাথমিক',\n 'প্রায়',\n 'প্রায়',\n 'ফলে',\n 'ফিরে',\n 'ফের',\n 'বক্তব্য',\n 'বদলে',\n 'বন',\n 'বরং',\n 'বলতে',\n 'বলল',\n 'বললেন',\n 'বলা',\n 'বলে',\n 'বলেছেন',\n 'বলেন',\n 'বসে',\n 'বহু',\n 'বা',\n 'বাদে',\n 'বার',\n 'বি',\n 'বিনা',\n 'বিভিন্ন',\n 'বিশেষ',\n 'বিষয়টি',\n 'বেশ',\n 'বেশি',\n 'ব্যবহার',\n 'ব্যাপারে',\n 'ভাবে',\n 'ভাবেই',\n 'মতো',\n 'মতোই',\n 'মধ্যভাগে',\n 'মধ্যে',\n 'মধ্যেই',\n 'মধ্যেও',\n 'মনে',\n 'মাত্র',\n 'মাধ্যমে',\n 'মোট',\n 'মোটেই',\n 'যখন',\n 'যত',\n 'যতটা',\n 'যথেষ্ট',\n 'যদি',\n 'যদিও',\n 'যা',\n 'যাঁর',\n 'যাঁরা',\n 'যাওয়া',\n 'যাওয়ার',\n 'যাওয়া',\n 'যাকে',\n 'যাচ্ছে',\n 'যাতে',\n 'যাদের',\n 'যান',\n 'যাবে',\n 'যায়',\n 'যার',\n 'যারা',\n 'যিনি',\n 'যে',\n 'যেখানে',\n 'যেতে',\n 'যেন',\n 'যেমন',\n 'র',\n 'রকম',\n 'রয়েছে',\n 'রাখা',\n 'রেখে',\n 'লক্ষ',\n 'শুধু',\n 'শুরু',\n 'সঙ্গে',\n 'সঙ্গেও',\n 'সব',\n 'সবার',\n 'সমস্ত',\n 'সম্প্রতি',\n 'সহ',\n 'সহিত',\n 'সাথে',\n 'সাধারণ',\n 'সামনে',\n 'সি',\n 'সুতরাং',\n 'সে',\n 'সেই',\n 'সেখান',\n 'সেখানে',\n 'সেটা',\n 'সেটাই',\n 'সেটাও',\n 'সেটি',\n 'স্পষ্ট',\n 'স্বয়ং',\n 'হইতে',\n 'হইবে',\n 'হইয়া',\n 'হওয়া',\n 'হওয়ায়',\n 'হওয়ার',\n 'হচ্ছে',\n 'হত',\n 'হতে',\n 'হতেই',\n 'হন',\n 'হবে',\n 'হবেন',\n 'হয়',\n 'হয়তো',\n 'হয়নি',\n 'হয়ে',\n 'হয়েই',\n 'হয়েছিল',\n 'হয়েছে',\n 'হয়েছেন',\n 'হল',\n 'হলে',\n 'হলেই',\n 'হলেও',\n 'হলো',\n 'হাজার',\n 'হিসাবে',\n 'হৈলে',\n 'হোক',\n 'হয়']"
          },
          "metadata": {}
        }
      ]
    },
    {
      "cell_type": "code",
      "source": [
        "def stopwordRemoval(text):\n",
        "    x=str(text)\n",
        "    l=x.split()\n",
        "\n",
        "    stm=[elem for elem in l if elem not in stop]\n",
        "\n",
        "    out=' '.join(stm)\n",
        "\n",
        "    return str(out)"
      ],
      "metadata": {
        "execution": {
          "iopub.status.busy": "2024-05-20T16:00:25.576523Z",
          "iopub.execute_input": "2024-05-20T16:00:25.576981Z",
          "iopub.status.idle": "2024-05-20T16:00:25.582501Z",
          "shell.execute_reply.started": "2024-05-20T16:00:25.576944Z",
          "shell.execute_reply": "2024-05-20T16:00:25.581617Z"
        },
        "trusted": true,
        "id": "VcmFAWIYV9jX"
      },
      "execution_count": null,
      "outputs": []
    },
    {
      "cell_type": "code",
      "source": [
        "# Apply the stopwordRemoval function to the 'clean text' column\n",
        "data['cleaned'] = data['cleaned'].apply(lambda x: stopwordRemoval(str(x)))\n",
        "\n",
        "# Iterate through the first 1000 rows and print the 'clean text' column values\n",
        "sample_data = range(0, 1000)\n",
        "for i in sample_data:\n",
        "    print(data['cleaned'][i])"
      ],
      "metadata": {
        "execution": {
          "iopub.status.busy": "2024-05-20T16:00:31.307246Z",
          "iopub.execute_input": "2024-05-20T16:00:31.307694Z",
          "iopub.status.idle": "2024-05-20T16:00:31.940869Z",
          "shell.execute_reply.started": "2024-05-20T16:00:31.307655Z",
          "shell.execute_reply": "2024-05-20T16:00:31.939883Z"
        },
        "trusted": true,
        "id": "nR2XVZJXV9jX",
        "outputId": "d82d58c7-d85e-4a56-c714-443495c86b9c"
      },
      "execution_count": null,
      "outputs": [
        {
          "name": "stdout",
          "text": "সফটওয়্যার ইঞ্জিনিয়ারিং দুইটি শব্দ সফটওয়্যার ইঞ্জিনিয়ারিংএর সমন্বয়ে গঠিত\nসফটওয়্যার প্রোগ্রামের সমষ্টি\nপ্রোগ্রাম নির্ধারিত সমস্যা সমাধানের উদ্দেশ্যে তৈরি সফটওয়্যার প্রোডাক্ট\nঅপরদিকে ইঞ্জিনিয়ারিং সকল নীতিমালা মেথড সমূহ প্রোডাক্টটি Software ফিনিশিং প্রোডাক্ট সেগুলোর সুশৃঙ্খল প্রয়োগ করাকে বুঝায়\nসফটওয়্যার ইঞ্জিনিয়ারিং বুঝায়\nসফটওয়্যার ইঞ্জিনিয়ারিং ইঞ্জিনিয়ারিং শাখা সফটওয়্যার প্রডাক্ট ডেভেলপমেন্টের সুনির্ধারিত বৈজ্ঞানিক নীতিমালা Scientific principle মেথড ব্যবহৃত প্রক্রিয়া Procedures সম্পর্কিত\nসফটওয়্যার ইঞ্জিনিয়ারিংএর outcome দক্ষ Efficient নির্ভরযোগ্য Reliable সফটওয়্যার প্রোডাক্ট\nঅর্থাৎ ডেভেলপমেন্ট অপারেশন সফটওয়্যার সংরক্ষণের সুষম শৃঙ্খলাবদ্ধ quantifiable পদ্ধতির সফল প্রয়োগই সফটওয়্যার ইঞ্জিনিয়ারিং\nজার্মান কম্পিউটার বিজ্ঞানী Fritz Bauer মতে প্রকৃত মেশিনসমূহে কার্যকরিভাবে সাউন্ড ইঞ্জিনিয়ারিং Core Engineeringএর নীতিসমূহ সফটওয়্যার সমূহে সুষ্ঠ ব্যবহারই সফটওয়্যার ইঞ্জিনিয়ারিং\nপরিশেষে পূর্ণ সফটওয়্যার ডিজাইন ডেভেলপমেন্ট রক্ষণাবেক্ষণের ইঞ্জিনিয়ারিং শাখা সফটওয়্যার ইঞ্জিনিয়ারিং\nসফটওয়্যার ইঞ্জিনিয়ারিং নীতি পদ্ধতিসমূহ সফটওয়্যার প্রোডাক্ট তৈরীর প্রক্রিয়াকে সফটওয়্যার বিবর্তন Software evaluation\nসফটওয়্যার তৈরীর রক্ষণাবেক্ষণ প্রয়োজনীয় আপডেট Final প্রোডাক্ট প্রাপ্তি সকল বিষয়ই সফটওয়্যার বিবর্তনের আওতাধীন\nসফটওয়্যার বিকাশের ধাপসমূহ সফটওয়্যার প্রোডাক্ট তৈরির প্রয়োজনীয় তথ্য সংগ্রহ ডেভেলপার কর্তৃক প্রোটোটাইপ তৈরি ImpactAnalysis\nসফটওয়্যার বিকাশের ধাপসমূহ তৈরিকৃত সফটওয়্যার প্রোটোটাইপ ব্যবহারকারীদের Users নিকট প্রদর্শন মতামত Feedback গ্রহণ\nসফটওয়্যার বিকাশের ধাপসমূহ ব্যবহারকারীর মতামত প্রয়োজনীয় পরিবর্তন সাধন Release planning\nসফটওয়্যার বিকাশের ধাপসমূহ সিস্টেম আপডেট করন\nসফটওয়্যার বিকাশের ধাপসমূহ ব্যবহারকারীকে সফটওয়্যার প্রোডাক্টটি প্রদান\nসফটওয়্যার বিকাশের ধাপসমূহ আপডেটকৃত সফটওয়্যার প্রোডাক্টটি ব্যবহারকারীর নিকট উন্নত টেকনোলজি বাজারে আসে খাপ খাওয়ানোর প্রোডাক্টটির প্রয়োজনীয় পরিবর্তন সাধন\nসফটওয়্যার বিকাশের ধাপসমূহ প্রয়োজনবোধে সফটওয়্যার প্রোডাক্টটি যুগোপযোগী Scratch তৈরি একটার একটা চাহিদা বিশ্লেষণ\nসফটওয়্যার বিকাশের ধাপসমূহ সর্বশেষ টেকনোলজি সমৃদ্ধ প্রোডাক্টটি বাজারজাত System Release\nসফটওয়্যার Paradigm মেথড ধাপসমূহ বুঝায় যেগুলো সফটওয়্যার ডিজাইন সময় বিবেচনা\nবর্তমানে মেথড সফটওয়্যার ডিজাইন ব্যবহৃত\nমেথড গুলোকে শ্রেণীতে বিভক্ত অপরটির অবস্থান পরস্পর সম্পর্কযুক্ত\nপ্রোগ্রামিং প্যারাডিগম সফটওয়্যার ডিজাইন প্যারাডিগমের সাবসেট সফটওয়্যার ডেভেলপমেন্ট প্যারাডিগমেরও সাবসেট\nসফটওয়্যার Paradigm সফটওয়্যার ইঞ্জিনিয়ারিং সফটওয়্যার Paradigm\nসফটওয়্যার ডেভেলপ ইঞ্জিনিয়ারিং সকল ধারণা প্রয়োগ\nপূর্ণ সফটওয়্যার তৈরি সহায়তাকারী গবেষণার প্রয়োজনীয় সংগ্রহ\nসফটওয়্যার ডেভেলপমেন্ট লাইফ সাইকেল SDLC সফটওয়্যার প্রোডাক্ট তৈরি পূর্বে তৈরিকৃত সফটওয়্যার পরিবর্তন পর্যায়ক্রমিক প্রক্রিয়া\nSDLC মূলত কাস্টমারদের চাহিদা মোতাবেক উচ্চ গুণগত মানসম্পন্ন সফটওয়্যার ডিজাইন ডেভেলপমেন্ট পরীক্ষণের পদ্ধতি\nSDLC ফ্রেমওয়ার্ক সফটওয়্যার ডেভেলপমেন্ট প্রসেস নামেও পরিচিত\nসফটওয়্যার ডেভেলপমেন্ট লাইফ সাইকেল SDLC সফটওয়্যার প্রোডাক্ট ডেভেলপ পর্যায়ক্রমিক গাঠনিক ধাপের সমন্বয়\nSDLC ফ্রেমওয়ার্ক ধাপগুলো হলোঃ যোগাযোগ প্রয়োজনীয় তথ্য সংগ্রহ সম্ভাব্যতা যাচাই সিস্টেম বিশ্লেষণ সফটওয়্যার ডিজাইন কোডিং কোড পরীক্ষণ ইন্টিগ্রেশন বাস্তবায়ন অপারেশন রক্ষণাবেক্ষণ প্রবণতা\nযোগাযোগ SDLC ধাপ\nSDLC যোগাযোগ ধাপে ইউজার সার্ভিস প্রদানকারী কর্তৃপক্ষের নিকট প্রয়োজনীয় কথা লিখিত আকারে প্রদান মোতাবেক সফটওয়্যার তৈরির অনুরোধ জানায়\nপ্রয়োজনীয় তথ্য সংগ্রহ ধাপে সফটওয়্যার ডেভেলপমেন্ট টিম সফটওয়্যার তৈরির বিষয়ে প্রয়োজনীয় তথ্যাদি সংগ্রহ সংগৃহীত তথ্যাদি সম্পর্কে ইউজারের চাহিদা সিস্টেমের চাহিদা ফাংশনাল চাহিদা অনুযায়ী বিভক্ত\nপ্রয়োজনীয় তথ্য সংগ্রহ ধাপে বিদ্যমান সিস্টেম সফটওয়্যার সম্পর্কে জ্ঞাত হওয়া\nপ্রয়োজনীয় তথ্য সংগ্রহ ধাপে ইউজার ভেভেলপারদের ইন্টার্ভিউ ব্যবস্থা করণ\nপ্রয়োজনীয় তথ্য সংগ্রহ ধাপে ডাটাবেজ রেফার\nপ্রয়োজনীয় তথ্য সংগ্রহ ধাপে প্রশ্ন সংগ্রহ\nপ্রয়োজনীয় তথ্যাদি সংগ্রহের ডেভেলপমেন্ট টিম সম্ভাব্যতা যাচাই ধাপে সফটওয়্যার প্রক্রিয়ায় রূপান্তরের খসড়া পরিকল্পনা দাড় করায়\nসম্ভাব্যতা যাচাই টিম ইউজার সকল চাহিদা বিশ্লেষণ অপ্রয়োজনীয় তথ্য বাদ দেয় স্পফটোয়্যার তৈরির সকল সম্ভাব্যতা যাচাই টিম এক্ষেত্রে আর্থিক ব্যবহারগত দিক ব্যবহৃত টেকনোলজির সম্ভাব্যতা যাচাই লাভজনক কাজটি গ্রহণ\nSDLC তে সম্ভাব্যতা যাচাই পাঁচটি বিষয় যাচাই\nসিস্টেম বিশ্লেষণ ধাপে ডেভেলপারগণ পরিকল্পনার রোডম্যাপ তৈরি প্রজেক্টির সবচেয়ে উপযোগী মডেলটি প্রদানের\nসিস্টেম বিশ্লেষণ ধাপে সফটওয়্যার প্রোডাক্টির সীমাবদ্ধতা অনুধাবন\nসিস্টেম বিশ্লেষণ ধাপে লার্নিং সিস্টেমটির সম্পর্কিত সমস্যাসমূহ বিদ্যমান সিস্টেম সমস্যাসমূহ ক্লায়েন্টকে প্রদানের পূর্বেই পরিবর্তন করণ\nসিস্টেম বিশ্লেষণ ধাপে প্রজেক্ট প্রতিষ্ঠান প্রতিষ্ঠানের জনবলের ধরণের প্রভাব বিস্তার নির্ধারণ অনুধাবন করণ\nসফটওয়্যার ডিজাইন ধাপে পূর্বের ধাপসমূহের সংগৃহীত তথ্য বিশ্লেষণের আলোকে সফটওয়্যার প্রোডাক্ট ডিজাইন\nসফটওয়্যার ডিজাইন ধাপে ইউজার প্রদত্ত তথ্য অন্যান্য সংগৃহীত অন্যান্য তথ্যাদি ইনপুট হিসেবে গৃহীত\nসফটওয়্যার ডিজাইন ধাপে আউটপুট হিসেবে লজিক্যাল ডিজাইন ফিজিক্যাল ডিজাইন ফর্মে পাওয়া যায় ইঞ্জিনিয়ারগ্ণ এক্ষেত্রে মেটা ডাটা ডাটা ডিকশনারি লজিক্যাল ডায়াগ্রাম ডাটা ফ্লো ডায়াগ্রাম প্রয়োজনবোধে সিডো কোড তৈরি\nসফটওয়্যার ডিজাইনে ধাপে ডিজাইন ডকুমেন্ট উচ্চস্তরের ডিজাইন নিম্নস্তরের ডিজাইন\nসফটওয়্যার ইঞ্জিনিয়ারিং কোডিং ধাপটি প্রোগ্রামিং ধাপ নামেও পরিচিত\nসফটওয়্যার ডিজাইনে ব্যবহারিক প্রয়োগ প্রোগ্রাম কোডের\nকোডিং ধাপের ডেভেলপারগণ উপযোগী প্রোগ্রামিং ভাষাতে কোড লিখে ত্রুটিমুক্ত কার্যকর এক্সিকিউটেবল প্রোগ্রাম রচনা\nপরিপূর্ণ প্রোগ্রাম রচনার টাস্ক সমূহকে মডিউল ইউনিটে বিভক্ত\nডেভেলপারগণ পূর্ব নির্ধারিত কোডিং গাইড লাইন অনুযায়ী কোড লিখে সম্বলিত মডিউল এক্সিকিউটেবল প্রোগ্রাম তৈরিতে কম্পাইলার ইন্টারপ্রেটার ডিবাগার টুলস\nকোডিং শেষ ভেভেলপারগণ প্রোগ্রাম পরীক্ষা\nটেস্টিং টিম প্রোগ্রাম সম্পন্ন পরিপূর্ণ ফাংশনালিটি কাস্টমারের চাহিদা মোতাবেক কিনা পরীক্ষা\nQA টেস্টিং টিম পরীক্ষা ত্রুটি Bug পেলে ডেভেলপারদেরকে জানায় ডেভেলপারগণ ত্রুটি সংশোধন পুনরায় QA টেস্টিং টিম নিকট পরীক্ষণের পাঠায়\nreliable সফটওয়্যার তখনই পাওয়া দ্রুত ত্রুটি মুক্ত\nইন্টিগ্রেশন ধাপে সফটওয়্যারকে অন্যান্য প্রোগ্রাম যুক্ত\nসফটওয়্যারকে লাইব্রেরি প্রোগ্রাম ডাটাবেজ অন্যান্য প্রোগ্রাম ইন্টিগ্রেট প্রয়োজন\nসফল পরীক্ষণ ইন্টিগ্রেশন শেষে সফটওয়্যারটি কাস্টমার মেশিনে ইন্সটল\nবাস্তবায়নের সময় সফটওয়্যারটি কাস্টমার মেশিনে কনফিগার এটির পোর্টাবিলিটি এডাপ্টাফিলিটি ইন্টিগ্রেশন বিষয়সমূহ সমাধান\nঅপারেশন রক্ষণাবেক্ষণ সফটওয়্যারটি কাস্টমারের মেশিনে সঠিকভাবে কিনা পরীক্ষা\nঅপারেশন রক্ষণাবেক্ষণ প্রয়োজন অনুযায়ী কাস্টমারকে ট্রেনিং অপারেটিং ডকুমেন্ট প্রদান\nকাস্টমার এন্ড মেশিন টেকনলজির পরিবর্তন ঘটলে মোতাবেক কোড আপডেট\nঅপারেশন রক্ষণাবেক্ষণ ধাপে লুকায়িত Bug পরিপূর্ণ অপারেশন সম্পাদনে সমস্যার\nসময় পরিবর্তনের সফটওয়্যারটির কারযপ্রক্রিয়া কমে সফটওয়্যারটি একেবারে অকার্যকর হওতে আপগ্রেডেটেশনের প্রয়োজন হয়ে\nপ্রবণতা ধাপে সফটওয়্যারটির প্রয়োজনীয় কম্পোনেন্টসমূহ ডাটা ব্যাকআপ\nপ্রবণতা ধাপে সিস্টেম ডাউন প্রয়োজনীয় মডিফিকেশন আপগ্রেডেশন শেষে পুনরায় ইন্সটল\nসফটওয়্যার ডেভেলপমেন্ট মডেল ডেভেলপারকে সফটওয়্যার ডেভেলপ সাহায্য\nসফটওয়্যার মডেলের নিজস্ব টুলস মেথড প্রসিডিওর যেগুলো সফটওয়্যার ডেভেলপমেন্ট জীবনচক্র সঠিকভাবে নির্ধারণ\nসফটওয়্যার ডেভেলপমেন্ট প্যারাডিগমের সবচেয়ে সরল মডেল ওয়াটারফল Waterfall মডেল\nওয়াটারফল Waterfall মডেল SDLC সকল ধাপ একটার একটা বর্ণনা\nওয়াটারফল Waterfall মডেল পূর্বের ধাপে ফেরত undo রেড যায়\nওয়াটারফল মডেলটি নেয় পূর্বের ধাপের সকল কার্যাদি সঠিকভাবে সম্পাদিত\nওয়াটারফল মডেলটি নেয় পূর্বের ধাপের বাকি থাকলে সঠিকভাবে\nপ্রতিষ্ঠানে requirements দ্রুত পরিবর্তন সেক্ষেত্রে ওয়াটারফল Waterfall মডেল ব্যবহৃত\nঅ্যাপ্লিকেশন বড় কমপ্লিকেটেড সেক্ষেত্রে ওয়াটারফল মডেল ব্যবহৃত\nছোটো প্রজেক্ট ওয়াটারফল মডেল ব্যবহৃত\nRequirements সমূহ পরিষ্কারভাবে উল্লেখ সেক্ষেত্রে ওয়াটারফল মডেল ব্যবহৃত\nব্যবহৃত টুলস টেকনোলজিসমূহ স্ট্যাবল ডাইনামিক সেক্ষেত্রে ওয়াটারফল মডেল ব্যবহৃত\nপুনরাবৃত্তিক মডেল Iterative model চক্রে সকল ধাপ অনুসরন সফটওয়্যারটি ক্ষুদ্র পরিসরে তৈরি\nপরবর্তী চক্রে অতিরিক্ত বৈশিষ্ট্য মডিউল ডিজাইন প্রয়োজনীয় কোড লিখা পরীক্ষণ শেষে সফটওয়্যার যুক্ত\nএক্ষেত্রে প্রতিটি চক্রেই বৈশিষ্ট্য সমূহ সফটওয়্যারে যুক্ত পূর্বের চক্রের তুলনায় পরবর্তী চক্র capability সম্পন্ন\nspiral মডেল iterative মডেলের মডেলের সমন্বয়\nস্পাইরাল মডেলটি ডেভেলপমেন্ট টিমকে waterfall incremental মডেলের প্রসেস মডেলের উপাদানসমূহ অবলম্বন মডেলের যুক্ত ডিজাইন ডেভেলপমেন্ট কার্যাদি সম্পন্ন সাহায্য\nমডেলটি ইন্টারেশন সফটওয়্যার অবজেক্টিভ কনস্টেইন\nপরবর্তী ধাপে রিস্ক বিশ্লেষণ risk analysis সফটওয়্যার প্রোটোটাইপিং\nএরপর স্ট্যান্ডার্ড মডেল সফটওয়্যার তৈরীতে ব্যবহৃত\nচতুর্থ ধাপে পরবর্তী ইন্টারেশনের পরিকল্পনা গ্রহণ\nWaterfall মডেল বড় অসুবিধা পরবর্তী ধাপে তখনই পারব ধাপের কার্য সম্পাদিত ধাপে ত্রুটি পড়লে পূর্ববর্তী ধাপে যায়\nV মডেল সফটওয়্যারের প্রতিটি ধাপ রিভার্স অর্ডারে পরীক্ষণের সুযোগ প্রদান\nV মডেলের প্রতিটি ধাপের টেস্ট তৈরি ধাপের requirement পূর্ণ কিনা verify validate\nV মডেলে ভেরিফিকেশন ভ্যালিডেশন সমান চলতে\nমডেলকে ভেরিফিকেশন ভ্যালিডেশন মডেল\nBig bang সরলতম মডেল\nমডেলে স্বল্প পরিকল্পনা প্রোগ্রামিং ফান্ডিং প্রয়োজন\nকাস্টমার requirements ভবিষ্যৎ প্রয়োজনীয়তা অনুধাবন ইনপুট প্রদান একাধিক প্রোগ্রাম তৈরি সফটওয়্যার আকারের কাস্টমারের নিকট উপস্থাপন\nবৃহৎ সফটওয়্যার প্রজেক্টের মডেলটি প্রযোজ্য\nAgile মডেল ইন্টারেটিভ ইনক্রিমেনটাল প্রসেস মডেলের সমন্বয় ওটি দ্রুত কাস্টমারের চাহিদা পূরণ সাপেক্ষে সফটওয়্যার ডেলিভারি সাহায্য\nমডেল প্রোডাক্ট কতগুলো ছোট ছোট ইনক্রিমেন্টাল build বিভক্ত\nBuild সমূহ ইটারেশন provide\nপ্রত্যেক ইটারেশন এক তিন সপ্তাহ মেয়াদের\nইটারেশন শেষে কার্যরত প্রোডাক্টটি কাস্টমার গুরুত্বপূর্ণ stakeholder দের নিকট প্রদর্শন\nAgile ডেভেলপমেন্ট সফটওয়্যার ডেভেলপমেন্ট মেথডোলজি সমূহের শ্রেণী ইটারেটিভ ইনক্রিমেন্টাল ডেভেলপমেন্ট মডেল ভিত্তি প্রতিষ্ঠিত\nrequirement সমূহ সমাধান self organizing cross functional টিমসমূহের পরস্পর collaboration সম্পাদিত\nAgile ডেভেলপমেন্ট Timeboxed ইটারেটিভ পদ্ধতি সুপারিশ দ্রুত পরিবর্তনের বিষয়ে প্রতিক্রিয়া ব্যক্ত\nScrum Agile প্রসেস ফ্রেমওয়ার্ক প্রয়োজনীয় Practices সমূহ নির্ধারণ\nঅ্যাজাইল সফটওয়্যার ডেভেলপমেন্ট মডেলে প্রথমে কাজকে ছোট ছোট অংশে ভাগ\nঅ্যাজাইল মডেল পুনরাবৃত্তিমূলক Iterative ডেভেলপমেন্ট প্রক্রিয়ায়\nপ্রতিটি অংশ একেকটি পুনরাবৃত্তিমূলক Interiative প্রক্রিয়ায় ভাগ ক্রমবর্ধমান Incremental অংশসমূহ সমাধান\nসহজে কার্যসম্পাদনের প্রতিটি ইটারেশন ছোট প্রতিটি ইটারেশন সপ্তাহের সম্পন্ন একসাথে শুধুমাত্র ইটারেশন পরিকল্পনা সম্পন্ন গ্রাহকদের উপস্থাপন\nঅ্যাজাইল মডেল পুনরাবৃত্তিমূলক ক্রমবর্ধমান প্রক্রিয়ার সমন্বয় মডেল\nপুনরাবৃত্তি iteration সম্পন্ন হওয়ার সময়কালকে টাইমবক্স একজন গ্রাহককে পুনরাবৃত্তি প্রদানের সর্বাধিক পরিমাণ সময়কে টাইমবক্স বুঝায়\nসফটওয়্যার ডেভেলপমেন্ট কর্তৃক সালে Agile মেনিফেস্টো প্রকাশিত\nডেভেলপমেন্ট টিম প্রয়োজনীয়তাকে প্রাধান্য হয়েছে ডেভেলপমেন্টের Requirements প্রয়োজনবোধে পরিবর্তন কাস্টমারকে যুক্ত তাগিদ হয়েছে\nAgile মেনিফেস্টোরে নিম্নলিখিত মূল নীতি আলোকপাত হয়েছে\nSatisfaction and deliveryনির্ধারিত সময়ের পূর্বেই কার্যকারী সফটওয়্যার কাস্টমারকে প্রদানের কাস্টমারের আস্থা অর্জন যায়\nWelcoming changeডেভেলপমেন্টের শেষের দিকের ধাপে Requirement সমূহের পরিবর্তনকে গুরুত্ব প্রয়োজন\nDeliver frequentlyকার্যকারী সফটওয়্যার ঘন ঘন মাসের পরিবর্তে সপ্তাহে সপ্তাহে প্রদান বিষয়ে গুরুত্ব\nCommunication is the keyপ্রতিনিয়ত ব্যবসায়ী জনতার ডেভেলপার যোগাযোগ নিশ্চিত ভাল সফটওয়্যার ডেভেলপএর অতি গুরুত্ব\nকাজের গুরুত্ব অনুধাবনকারী বাক্তিদের প্রজেক্ট টিম গঠন প্রয়োজনীয় সহযোগিতা আস্থা অতি জরুরী\nসরাসরি কথোপকথন কার্যকারী উপযোগী সফটওয়্যার তৈরিতে উৎসাহিত\nSoftware as measure of progressঅগ্রগতি অনুধাবনের মাপকাটি কার্যকারী সফটওয়্যার\nsustainable development ডেভেলপমেন্টের নির্দিষ্ট গতি বজায় টেকসই ডেভেলপমেন্ট সমর্থ্য অর্জনে সচেষ্ট অতি জরুরী\nAttention to detailsভাল ডিজাইন কারিগরি মান সম্পন্ন ডেভেলপমেন্টের মনোযোগের ধারাবাহিকতা বজায় রাখতে\nThe power of lessসফটওয়্যারের সরল গঠন হওয়া বাঞ্চনীয়\nSelforganizing teamsকার্যকর পরিবর্তনশীল পরিস্থিতিতে টিম প্রতিনিয়ত মনোযোগী\nReview the Work Regularlyনির্দিষ্ট বিরতিতে সম্পাদিত কার্যাদি Review team effectively behavior adjust\nসফটওয়্যার ডেভেলপমেন্ট টিম প্রকল্পকে ভিন্নভাবে সম্পাদনের প্রক্রিয়াই অ্যাজাইল\nডিএসডিএম DSDM ডাইনামিক সিস্টেম ডেভেলপমেন্ট মেথড সফটওয়্যার প্রকল্পের উপযোগী অ্যাজাইল কাঠামো\nডিএসডিএমএর সর্বশেষ সংস্করণকে ডিএসডিএম অ্যাটার্ন অ্যাটার্ন নামটি আর্কটিক টার্নের সংক্ষেপ আর্কটিক পাখির নাম প্রকার পাখি বহুদূর উড়তে রূপক অর্থে অ্যাজাইল কাঠামোর প্রাধান্যভিত্তিক সহযোগিতামূলক বৈশিষ্ট্যের উপাদানগত বিস্তৃতির ব্যাপকতা নির্দেশ\nঅ্যাজাইল ক্রাম মেথড Agile Scrum Method সবচেয়ে জনপ্রিয় অ্যাজাইল পরিকাঠামো\nদলগত ডেভেলপমেন্ট পরিবেশে উপযোগী\nক্রাম ইন্টারেরিভ ইনক্রিমেন্ট মডেল ইটারেশনের সংক্ষিপ্ত রূপ\nক্রাম তুলনামূলকভাবে সহজ দ্রুত উৎপাদনের উপযোগী\nএক্সপি XP এক্সট্রিম প্রোগ্রামিং একপ্রকারের অ্যাজাইল সফটওয়্যার ডেভেলপমেন্ট মডেল\nএক্সপি XP ক্ষুদ্র ডেভেলপমেন্ট চক্রেই ঘন ঘন উৎপাদনের স্বার্থে উৎপাদনশীলতা বৃদ্ধি ক্ষেত্র তৈরি গ্রাহকের নতুনতর প্রয়োজন সমন্বয়\nপ্রণালির নামকরণের ধারণা নেয়া হয়েছে এক্সট্রিম ধারণা প্রথাগত সফটওয়্যার প্রকৌশল উপাদানকে এক্সট্রিম অর্থাৎ চূড়ান্ত পর্যায়ে নেয়া হয়েছে এক্সট্রিম প্রোগ্রামিং সফটওয়্যার ডেভেলপমেন্টের ধারা কর্মীদের অধিক মানসম্পন্ন সফটওয়্যার উৎপাদনশীলতার উৎপাদনে উৎসাহিত\nএক্সপি বিষয়গুলো সেগুলো বিশ্লেষণ ডেভেলপমেন্ট নতুনভাবে উদ্ভাবিত ধারণার পরীক্ষামূলক ক্ষেত্র কিনা চূড়ান্তভাবে উৎপাদিত পণ্যের অন্তনির্হিত মানের তুলনা\nটিডিডি TDD টেস্টড্রিভেন ডেভেলপমেন্ট একপ্রকার সফটওয়্যার ডেভেলপমেন্ট প্রক্রিয়া যেটিতে অত্যন্ত ক্ষুদ্র ডেভেলপমেন্টের চক্র ঘন ঘন পুনরাবৃত্তি\nপ্রথমে ডেভেলপার কাঙ্খিত পরিবর্তন ফাংশন সংবলিত স্বয়ংক্রিয় টেস্ট কেস লিখেন এরপর টেস্ট পাসের সর্বনিম্ন কোড নির্দেশ এরপর কোডকে গ্রহণযোগ্য মানে আসা\nলিন কানবান সফটওয়্যার ডেভেলপমেন্ট উৎপাদন প্রক্রিয়া লক্ষ্যের রিসোর্স বরাদ্দ চূড়ান্ত পর্যায়ে গ্রাহকের অপচয় রোধের\nগ্রাহকের দৃষ্টি দিয়ে বিষয়টি দেখার কতটুকু পণ্য সেবার গ্রাহক অর্থ পরিশোধ রাজি আছেন\nকানবান উৎপাদন ব্যবস্থা নিয়ন্ত্রণের ভালো টুল উন্নতির নির্ভরযোগ্য সিস্টেমও বটে\nসফটওয়্যার প্রজেক্ট ম্যানেজার একজন ব্যক্তি সফটওয়্যার প্রজেক্ট নির্বাহের দায়িত্ব পালন\nসফটওয়্যার প্রজেক্ট ম্যানেজার সফটওয়্যারের SDLC সকল ধাপের বিষয়ে পুরোপুরি সচেতন\nসাধারণত প্রজেক্ট ম্যানেজার সরাসরি ফাইনাল প্রোডাক্ট উৎপাদনে সরাসরি জড়িত প্রজেক্ট নিয়ন্ত্রণ প্রোডাক্ট উৎপাদনের ক্রিয়াকলাপসমূদ্ধ পরিচালনা\nএকজন প্রজেক্ট ম্যানেজার ডেভেলপমেন্ট প্রক্রিয়া নিবিড়ভাবে মনিটর পরিকল্পনা গ্রহণ নির্বাহ\nএকজন প্রজেক্ট ম্যানেজার প্রয়োজনীয় পর্যাপ্ত সংস্থাগুলো পরিচালনা খরচ বাজেট রিসোর্সসমূহ সময় গুনগতমান গ্রাহক সন্তুষ্টি বিষয়ে সকল টিমের সদস্যদের যোগাযোগ রক্ষা\nকার্যকর প্রজেক্ট ব্যবস্থাপনায় সফটওয়্যার প্রজেক্ট ম্যানেজমেন্ট টুলস ব্যবহৃত Gantt চাট Pert চাট রিসোর্স হিস্টোগ্রাম Critical পথ বিশ্লেষণ\nসফটওয়্যার প্রজেক্ট ব্যবস্থাপনা নির্ধারিত সময়ের সফটওয়্যার প্রোডাক্ট পাওয়ার নির্দিষ্ট\nমেথডোলজি তথ্য সংগ্রহ সফটওয়্যার টেক্টিং রক্ষণাবেক্ষণ সফটওয়্যার ডেভেলপমেন্টের সকল কাৰ্য্যাবলিকে বুঝায়\nকনফিগারেশন ব্যবস্থাপনা প্রয়োজনীয়তা ডিজাইন ফাংশনসমূহ প্রোজেক্ট ডেভেলপমেন্টের পরিপ্রেক্ষিতে সফটওয়্যারের প্রয়োজনীয় পরিবর্তন নিয়ন্ত্রন প্রক্রিয়া\nপ্রকল্প Project সুনির্দিষ্ট নির্ধারিত লক্ষ্য অর্জনের অপারেশনের সমন্বয় সফটওয়্যার ডেভেলপমেন্ট ডেলিভারি\nসফটওয়্যার প্রকল্প নির্দিষ্ট সময়ের সফটওয়্যার পণ্য অর্জনের সফটওয়্যার ডেভেলপমেন্টের প্রয়োজন সংগ্রহ টেস্টিং রক্ষণাবেক্ষণ সম্পূর্ণ পদ্ধতি\nভালো মানের পণ্য তৈরি ক্লায়েন্টের বাজেটের সীমাবদ্ধতার খরচ বজায় নির্ধারিত সময় অনুসারে প্রকল্প সরবরাহ সফটওয়্যার প্রকল্পের তিনটি সীমান্ধতাকে একত্রে সফটওয়্যার প্রকল্পের ট্রিপল সীমাবদ্ধতা\nসফটওয়্যার প্রকল্প ব্যবস্থাপক একজন ব্যক্তি সফটওয়্যার প্রকল্প নির্বাহের দায়িত্ব পালন\nএকজন সফটওয়্যার প্রকল্প ব্যবস্থাপক সফটওয়্যারের ডেভেলপমেন্ট লাইফ সাইকেল সবগুলো পর্যায় সম্পর্কে সচেতন\nসাধারণত সফটওয়্যার প্রকল্প পরিকল্পনা Software Project Planning সফটওয়্যার তৈরির পূর্বেই সম্পন্ন হয়ে একাধিক প্রসেসএর সমন্বয় সফটওয়্যারর তৈরিকে সহজতর\nসফটওয়্যার আকার KLOC Kilo Line of Code সফটওয়্যারের ফাংশন পয়েন্টগুলোর সংখ্যা গণনা কর অনুমান\nপরিবর্তন নিয়ন্ত্রণ কনফিগারেশন ব্যবস্থাপনার ফাংশন সফটওয়্যার সিস্টেমে পরিবর্তন সামঞ্জস্যপূর্ণ সাংগঠনিক নিয়ম প্রবিধান অনুযায়ী তৈরি হয়েছে কিনা নিশ্চিত\nসফটওয়্যার প্রজেক্ট ব্যবস্থাপনার প্রয়োজনীয়তা সফটওয়্যারকে ট্রানজিবল প্রোডাক্ট বিবেচনা\nসফটওয়্যার ডেভেলপমেন্ট বিশ্বব্যাপী ব্যবসা বিস্তারের ক্ষেত্র সফটওয়্যার পণ্যগুলো নির্মাণের সকল প্রসিডিউর মেথডোলজি অনুযায়ী নির্মাণের অভিজ্ঞতাও কম\nঅধিকাংশ সফটওয়্যার প্রডাক্ট ক্লায়েন্টের চাহিদা মোতাবেক তৈরি\nগুরুত্বপূর্ণ বিষয় অন্তনিহিত প্রযুক্তি পরিবর্তন দ্রুত সম্পাদিত প্রোডাক্টের অভিজ্ঞতা পুরোপুরি প্রোডাক্টে প্রয়োগ যায়\nধরনের সমস্যা ব্যবসা পরিবেশগত সীমাবদ্ধতা সফটওয়্যার উন্নয়নের ঝুঁকি আসে\nদক্ষতার সফটওয়্যার একল্প পরিচালনা অপরিহার্য\nসফটওয়্যার প্রকল্প ব্যবস্থাপনার কার্যক্রম রয়েছে যেগুলোর প্রজেক্ট পরিকল্পনা সফটওয়্যার প্রোডাক্টের স্কোপ নির্ধারণ টার্মের মূল্য নির্ধারণ টাস্ক ইভেন্টসমূহের সিডিউল নির্ধারণ সম্পদ Resource ব্যবস্থাপনা বিষয়সমূহ উল্লেখযোগ্য\nসফটওয়্যার প্রজেক্ট পরিকল্পনা সফটওয়্যার প্রোডাক্টটি গ্রহণ\nএকাধিক প্রসেসের সেট সফটওয়্যার প্রোডাকশন প্রক্রিয়াকে সহজতর\nএক্সট্রিম প্রোগ্রামিং Extreme Programming এক্সপি XP এক্সট্রিম প্রোগ্রামিং একপ্রকারের অ্যাজাইন সফটওয়্যার ডেভেলপমেন্ট মডেল\nক্ষুদ্র ডেভেলপমেন্ট চক্রেই ঘন ঘন উৎপাদনের স্বার্থে উৎপাদনশীলতা বৃদ্ধিই ক্ষেত্র তৈরি গ্রাহকের নতুনতর প্রয়োজন সমন্বয় প্রণালির নামকরণের ধারণা নেয়া হয়েছে এক্সট্রিম ধারণা\nপ্রথাগত সফটওয়্যার প্রকৌশল উপাদানকে এক্সট্রিম অর্থাৎ চূড়ান্ত পর্যায়ে নেয়া হয়েছে এক্সট্রিম প্রোগ্রামিং সফটওয়্যার ডেভেলপমেন্টের ধারা কর্মীদের অধিক মানসম্পন্ন সফটওয়্যার উৎপাদনশীলতার উৎপাদনে উৎসাহিত\nসফটওয়্যার রিকয়্যারমেন্ট সিস্টেমটিকে লক্ষ্য সফটওয়্যার ডেভেলপ বৈশিষ্ট্য কার্যাবলিসমূহ বর্ণনা\nরিকয়্যারমেন্টসমূহ ইউজারের চাহিদা মোতাবেক সফটওয়্যার প্রডাক্টটি তৈরিতে প্রয়োজন\nক্লায়েন্টের নিকট সফটওয়্যারএর প্রয়োজনীয়তা Requirements সংগ্রহ সেগুলো বিশ্লেষণ সেগুলো নথিভূয় Documented করাকে রিকয়্যারমেন্ট ইঞ্জিনিয়ারিং\nরিকয়্যারমেন্ট ইঞ্জিনিয়ারিং লক্ষ্য সুন্দর সিস্টেমের সফটওয়্যার ডেভেলপ রিকয়্যারমেন্ট সমূহের প্রয়োজন সেগুলো বর্ণনা স্পেসিফিকেশন নথি Document তৈরি রক্ষণাবেক্ষণ\nরিকয়্যারমেন্ট ইঞ্জিনিয়ারিং প্রক্রিয়াতে চারটি ধাপ\nক্লায়েন্ট আকাঙ্খিত প্রডাক্টটির ডেভেলপ প্রতিষ্ঠানের আসে প্রতিষ্ঠানের সফটওয়্যার বিষয়গুলো ফোকাস অপারেশন সম্পাদিত ধারণা প্রদান\nপ্রাপ্ত তথ্যাদি এনালিস্টগণ বিশ্লেষণ পছন্দ সিস্টেম অপারেশন বিকাশের সম্ভাব্যতা যাচাই\nএক্ষেত্রে প্রাপ্ত তথ্য চাহিদা মোতাবেক বাস্তবিক সফটওয়্যার তৈরি প্রয়োগ কিনা প্রতিষ্ঠানের প্রজেক্টের খরচ প্রজেক্ট সীমাবদ্ধতা প্রজেক্ট বাস্তবায়ন খরচ বিষয়ে গুরুত্ব দিয়ে বিশ্লেষণ\nসফটওয়্যার রিকয়ারমেন্ট ইঞ্জিনিয়ারিং যোগ্যতা রক্ষণাবেক্ষণ উৎপাদনশীলতা ইন্ডিগ্রেশন বিষয়াদি\nপ্রয়োজনীয় তথ্যাদি সংগ্রহঃ তথ্য যাচাই ফলাফল গ্রহণযোগ্য প্রতিষ্ঠানের এনালিস্ট প্রকৌশলীগণ ক্লায়েন্ট ইন্ড ইউজারদের যোগাযোগ স্থাপন কাংঙ্গিত চাহিদা বৈশিষ্ট্য সফটওয়্যারে যুক্ত চায় বিষয়ে অবহিত\nসফটওয়্যারের প্রয়োজনীয় স্পেসিফিকেশন তৈরিঃ স্টোক হোল্ডার প্রয়োজনীয় তথ্যাদি সংগ্রহের সিস্টেম এনালিস্ট SRS নথি তৈরি\nSRS সফটওয়্যারটি কিভাবে হাডওয়্যারের যোগাযোগ রক্ষা বাহ্যিক ইন্টারফেস অপারেশনের গতি রেসপন্স টাইম প্ল্যাটফর্মে সফটওয়্যারের পোর্টাবিলিটি রক্ষণাবেক্ষণ পুনরুদ্ধার সুবিধা নিরাপত্তা গুণগতমান সীমাবদ্ধতার বিষয়গুলো নির্ধারণ\nরিকয়্যারমেন্ট Elicitation পদ্ধতি ক্লায়েন্ট ইন্ড ইউজার সিস্টেম ইউজার সফটওয়্যার সিস্টেম বিকাশে অংশীদারিত্ব রয়েছে যোগাযোগ স্থাপনের সিস্টেম রিকয়্যারমেন্টসমূহ খুজে বের সাহায্য\nইন্টারভিউ রিকয়্যারমেন্টসমূহ সংগ্রহ শক্তিশালী মাধ্যম\nপ্রতিষ্ঠান পদ্ধতিতে ইন্টারভিউ সম্প্রদান\nকাঠামোবদ্ধ ইন্টারভিউ Structured closed interviews ধারনের ইন্টারভিউ প্রত্যেক একক তথ্য যেগুলো গ্রহণ প্রয়োজন সেগুলোর পূর্ব সিদ্ধান্ত গ্রহণ\nইন্টারভিউ প্যাটার্ন আলোচনার বিষয়াদি পূর্ব নির্ধারিত\nঅকাঠামোগত ইন্টাভিউ Nonstructured open interviews এক্ষেত্রে তথ্য সংগ্রহের পূর্ব সিদ্ধান্ত গৃহীত\nখোলামেলা প্রয়োজনীয় বিষয় সরাসরি ইন্টারভিউ তথ্য সংগৃহীত\nপ্রকৌশলী ডেভেলপার টিম মিলে সিস্টেমটি দরকার অপারেশন বিশ্লেষণ\nক্লায়েন্টএর ইতিমধ্যে অপারেশন সম্পদনের সফটওয়্যার পর্যবেক্ষণ প্রস্তাবিত সিস্টেমের রিকয়্যারমেন্ট সংগ্রহ\nপ্রত্যেক সফটওয়্যার ডোমেইন শ্রেণীতে বিভক্ত\nডোমেইনের অভিজ্ঞ ব্যক্তি রিকয়্যারমেন্টসমূহের নির্দিষ্ট বিষয়াদি বিশ্লেষণ সাহায্য\nস্টেকহোল্ডারদের অনুষ্ঠিত ইনফরমাল বিতর্ক সংঘটিত ইনপুটসমূহ পরবর্তীতে বিশ্লেষণ রেকর্ড\nটিম নিজেরা সিদ্ধান্তে উপনীত যেগুলো সফটওয়্যার প্রাপ্ত সুবিধাদি সম্বন্ধে সাহায্য\nসফটওয়্যার রিকয়্যারমেন্টের সংগ্রহ রিকয়্যারমেন্ট পূর্ণ সফটওয়্যার ডেভেলপমেন্ট প্রজেক্টের একটা ভিত্তি\nসফটওয়্যার রিকয়্যারমেন্টসমূহ পরিষ্কার সঠিক নির্ধারিত হওয়া প্রয়োজন\nপূর্ণ সফটওয়্যার রিকয়্যারমেন্ট স্পেসিফিকেশন অবশ্যই স্বচ্ছ Clear হওয়া প্রয়োজন\nপূর্ণ সফটওয়্যার রিকয়্যারমেন্ট স্পেসিফিকেশন অবশ্যই নির্ভুল Correct হওয়া প্রয়োজন\nপূর্ণ সফটওয়্যার রিকয়্যারমেন্ট স্পেসিফিকেশন অবশ্যই প্রতিপাদ্য Verifiable হওয়া প্রয়োজন\nপূর্ণ সফটওয়্যার রিকয়্যারমেন্ট স্পেসিফিকেশন অবশ্যই অগ্রাধিকারযোগ্য Prioritized হওয়া প্রয়োজন\nপূর্ণ সফটওয়্যার রিকয়্যারমেন্ট স্পেসিফিকেশন অবশ্যই দ্ব্যর্থহীন Unambiguous হওয়া প্রয়োজন\nপূর্ণ সফটওয়্যার রিকয়্যারমেন্ট স্পেসিফিকেশন অবশ্যই সামঞ্জস্যপূর্ণ Consistent হওয়া প্রয়োজন\nপূর্ণ সফটওয়্যার রিকয়্যারমেন্ট স্পেসিফিকেশন অবশ্যই সুসংগত Coherent হওয়া প্রয়োজন\nপূর্ণ সফটওয়্যার রিকয়্যারমেন্ট স্পেসিফিকেশন অবশ্যই বোধগম্য Comprehensible হওয়া প্রয়োজন\nপূর্ণ সফটওয়্যার রিকয়্যারমেন্ট স্পেসিফিকেশন অবশ্যই পরিবর্তনযোগ্য Modifiable হওয়া প্রয়োজন\nপূর্ণ সফটওয়্যার রিকয়্যারমেন্ট স্পেসিফিকেশন অবশ্যই অনুসরণযোগ্য Traceable হওয়া প্রয়োজন\nপূর্ণ সফটওয়্যার রিকয়্যারমেন্ট স্পেসিফিকেশন অবশ্যই নির্ভরযোগ্য সূত্রসম্পন্ন Credible source হওয়া প্রয়োজন\nসফটওয়্যার রিকয়্যারমেন্টসমূহকে দুইটি ভাগে ভাগ যায়\nরিকয়্যারমেন্ট সফটওয়্যারের ফাংশনাল Aspect সম্পর্কিত সেগুলোকেফাংশনাল রিকয়্যারমেন্ট\nএগুলো সফটওয়্যারের ফাংশন ফাংশনসমূহের কার্যাবলিসমূহ নির্ধারণ\nননফাংশনাল রিকয়্যারমেন্টসমূহ প্রকারের রিকয়্যারমেন্টসমূহ সফটওয়্যারের ফাংশনাল Aspect সম্পর্কিত\nননফাংশনাল রিকয়্যারমেন্টসমূহ নিরাপত্তা Securityলগইন Loggingস্টোরেজ Storageকনফিগারেশন Configuration পারফরমেন্স Performanceমূল্য Costআন্তঃক্রিয়া Interoperabilityনমনীয়তা Flexibility\nআবশ্যিক রিকয়ারমেন্ট ছাড়া সফটওয়্যারকে অপারেশন যায়\nShould have রিকয়ারমেন্ট সমূহ সফটওয়্যারের ফাংশনালিটি বৃদ্ধি\nভালো Could have সফটওয়্যার রিকয়ারমেন্ট যেগুলো সফটওয়্যার যথাযথভাবে কার্য সম্পাদন\nউইশ লিস্ট Wish লিস্ট রিকয়্যারমেন্টসমূহ সফটওয়্যারের অবজেকটিভ ম্যাপ\nসফটওয়্যার তৈরির সময় Must have অবশ্যই প্রয়োগ প্রয়োজন\nসফটওয়্যার হার্ডওয়্যার হাইব্রিড সিস্টেমের ইউজার ইন্টারফেস রিকোয়ারমেন্ট খুবই গুরুত্বপূর্ণ\nসফটওয়্যার ব্যাপকভাবে গৃহীত তখনই সফটওয়্যারটি সহজে চালানো যায়\nসফটওয়্যার ব্যাপকভাবে গৃহীত তখনই সফটওয়্যারটি দ্রুত সাড়া দেয়\nসফটওয়্যার ব্যাপকভাবে গৃহীত তখনই সফটওয়্যারটি দক্ষতার ভুল সংশোধন\nসফটওয়্যার ব্যাপকভাবে গৃহীত তখনই সফটওয়্যারটি সহজ মৌলিক ইউজার ইন্টারফেস\nগ্রাহকরা কীভাবে সফটওয়্যারটি এটির গ্রহণযোগ্যতা নির্ভর\nভালোভাবে পারফর্ম সফটওয়্যার সিস্টেমে আকর্ষণীয় সঙ্গত প্রতিক্রিয়াশীল ইউজার ইন্টারফেস\nসিস্টেমের ফাংশনালিটি সঠিকভাবে\nসফটওয়্যার সিস্টেম তখনি ভালো এটিকে দক্ষতার চালানো যায়\nযেকোন IT প্রতিষ্ঠানে সিস্টেম এনালিস্ট একজন গুরুত্বপূর্ণ ব্যক্তি\nসিস্টেম এনালিস্ট প্রস্তাবিত সিস্টেমের রিকয়্যারমেন্টসমূহ বিশ্লেষণ\nসিস্টেম এনালিস্ট নথিসমূহ Documents গ্রহণ পূর্বক সেগুলো যথাযথ সঠিকভাবে হয়েছে কিনা বিষয় নিশ্চিত\nএনালিস্টের SDLC সফটওয়্যার বিশ্লেষণ ধাপ\nতৈরিকৃত সফটওয়্যার ক্লায়েন্টের চাহিদা পূরণে সক্ষম কিনা নিশ্চিত করনের দায়িত্ব সিস্টেম এনালিস্টের\nসিস্টেম এনালিস্ট দায়িত্ব চাহিত সফটওয়্যারের রিকয়্যারমেন্টসমূহ অনুধাবন বিশ্লেষণ\nসিস্টেম এনালিস্ট দায়িত্ব প্রজেক্টটি প্রতিষ্ঠানের লক্ষে কিভাবে অবদান Contribute রাখবে অনুধাবন\nসিস্টেম এনালিস্ট দায়িত্ব রিকয়্যারমেন্টসমূহের উৎসসমূহ নির্ধারণ\nসিস্টেম এনালিস্ট দায়িত্ব ম্যানেজমেন্টের প্রয়োজনীয় পরিকল্পনা তৈরি প্রয়োগ\nসিস্টেম এনালিস্ট দায়িত্ব ব্যবসায়িক কারিগরি প্রক্রিয়া প্রোডাক্টের প্রয়োজনীয় বিষয়সমূহ নথিভুক্তকরণ\nসিস্টেম এনালিস্ট দায়িত্ব ক্লায়েন্টের প্রয়োজনীয় বিষয়গুলোকে প্রাধান্য প্রদানপূর্বক অপ্রয়োজনীয় বিষয়গুলোকে বাদ দেওয়ার বিষয়ে ক্লায়েন্টের সমন্বয়ক করণ\nসিস্টেম এনালিস্ট দায়িত্ব ক্লায়েন্ট অন্যান্য স্টোকহোল্ডারদের গ্রহণযোগ্যতা নিশ্চিত করন\nসফটওয়্যারের বিষয়সমূহ সফটওয়্যারের অ্যাট্রিবিউটসমূহকে সিম্বলের প্রক্রিয়া করাকে সফটওয়্যার মেজার\nসফটওয়্যার ম্যাট্রিক্স সফটওয়্যার প্রক্রিয়া সফটওয়্যার প্রোডাক্টের দিক Measure ব্যবহৃত\nসফটওয়্যার Measure সফটওয়্যার ইঞ্জিনিয়ারিংএর ফান্ডামেন্টাল রিকয়্যারমেন্ট\nসফটওয়্যার Measure সফটওয়্যার উন্নয়ন প্রক্রিয়া নিয়ন্ত্রনের ক্ষেত্রেই প্রোডাক্টটি অতি মানসম্পন্ন সাহায্য\nসফটওয়্যার ইঞ্জিনিয়ার Tom De Marco মতে You cannot control what you cannot measure অর্থা Measure পার নিয়ন্ত্রণ পারবে মন্তব্য Measure সমূহের গুরুত্ব বোঝা যায়\nLOC Lines of code ডেলিভারকৃত সংখ্যক সোর্স কোড লাইনসমূহ গণনা ব্যবহৃত সাইজ মেট্রিক্স সফটওয়্যার মেট্রিক্স ব্যবহৃত\nসফটওয়্যারের ফাংশানালিটি ভিত্তি ফাংশন পয়েন্ট গণনা\nরিকয়ারমেন্ট ইঞ্জিনিয়ারিং প্রক্রিয়াতে চারটি ধাপ\nরিকয়ারমেন্ট ইঞ্জিনিয়ারিং লক্ষ্য সুন্দর সিস্টেমের সফটওয়্যার ডেভেলপ রিকয়ারমেন্ট সমূহের প্রয়োজন সেগুলো বর্ণনা কয়রা স্পেসিফিকেশন নথি Document তৈরি সংরক্ষণ\nরিকয়ারমেন্ট ইঞ্জিনিয়ারিং প্রক্রিয়ার ধাপ সম্ভাব্যতা যাচাই\nরিকয়ারমেন্ট ইঞ্জিনিয়ারিং প্রক্রিয়ার দ্বিতীয় ধাপ প্রয়োজনীয় তথ্যাদি সংগ্রহ\nরিকয়ারমেন্ট ইঞ্জিনিয়ারিং প্রক্রিয়ার তৃতীয় ধাপ সফটওয়্যারের প্রয়োজনীয় স্পেসিফিকেশন\nরিকয়ারমেন্ট ইঞ্জিনিয়ারিং প্রক্রিয়ার চতুর্থ ধাপ সফটওয়্যারের বৈধতা প্রদান\nরিকয়ারমেন্ট Elicitation পদ্ধতি ক্লায়েন্ট ইন্ড ইউজার সিস্টেম ইউজার সফটওয়্যার সিস্টেম বিকাশে অংশীদারিত্ব রয়েছে যোগাযোগ স্থাপনের সিস্টেম রিকয়ারমেন্টসমূহ খুঁজে বের সাহায্য\nসফটওয়্যার রিকয়ারমেন্ট প্রত্যাশিত সিস্টেম ফিচার প্রকার ফাংশনালিটির বিবরণ\nসফটওয়্যার রিকয়ারমেন্ট গ্রাহকদের সফটওয়্যার প্রত্যাশা নির্দেশ যায়\nগ্রাহকদের রিকয়ারমেন্ট সংগ্রহ সেগুলোকে বিশ্লেষণ লিপিবদ্ধ প্রক্রিয়াকে রিকোয়ারমেন্ট প্রকৌশল রিকোয়ারমেন্ট ইঞ্জিনিয়ারিং\nগ্রাহক সফটওয়্যার প্রতিষ্ঠানে কাঙ্ক্ষিত সফটওয়্যার পণ্যের আসে পণ্যটি সুবিধা দিবে এঁর ফিচার রূপরেখা নির্ধারণ করাকে সম্ভাব্যতা নিরূপণ\nসফটওয়্যার রিকোয়ারমেন্ট জানার পাচটি পদ্ধতি সাক্ষাৎকার জরিপ প্রশ্নমালা বিশ্লেষণ ডোমেন বিশ্লেষণ\nসফটওয়্যার রিকোয়ারমেন্ট স্পেসিফিকেশন মূলত ডকুমেন্ট বিশ্লেষকের গ্রাহকদের চাহিদা মাথায় নির্ধারণ\nSRS কীভাবে নির্দিষ্ট সফটওয়্যার হার্ডওয়্যার এঁর কীভাবে অভ্যন্তরীণ ইন্টারফেস সিস্টেমের সময় প্লাটফর্মের রক্ষণাবেক্ষণ সিস্টেমের নষ্ট কীভাবে পুনরুদ্ধার\nব্রেইনস্টরমিং এক প্রকার অনিয়ন্ত্রিত বিতর্ক আয়োজন ফলাফল পরবর্তী বিশ্লেষন সংরক্ষিত\nফাংশনাল রিকয়ারমেন্ট সফটওয়্যার সিস্টেম ফাংশন ফাংশনালিটি বিবৃত উৎস সার্চ অপশন\nসফটওয়্যার নন ফাংশনাল রিকয়ারমেন্টগুলো শ্রেণিতে নিরাপত্তা লগইন\nসফটওয়্যার সিস্টেম বিশ্লেষক হলেন ব্যক্তি প্রস্তাবিত প্রকল্পের রিকয়ারমেন্টগুলো বিশ্লেষণ নিশ্চিত করেনরিকয়ারমেন্টগুলো সঠিকভাবে নিয়মানুযায়ী চিন্তাভাবনা কাগজেকলমে লিপিবদ্ধ হয়েছে কিনা সেগুলো যাচাই\nসফটওয়্যার পরিমাপ প্রক্রিয়া যেটিতে সফটওয়্যারের সূচকে পরিমাপ প্রকাশ\nসফওয়্যার ম্যাট্রিক্স প্রক্রিয়া পন্যের সাপেক্ষে প্রকার মাপ দিয়ে\nরিকয়ারমেন্ট Elicitation ডায়াগ্রামের প্রয়োজনীয় তথ্য সংগ্রহ ধাপে ডেভেলপার ক্লায়েন্ট ইন্ড ইউজার দের আলোচনা সফটওয়্যার প্রত্যাশা বিষয়ে অবগত\nপ্রয়োজনীয়তা সমূহ সংগঠিত ধাপে ডেভেলপার সফটওয়্যার রিকয়ারমেন্ট সমূহের গুরুত্ব প্রয়োজনীয়তা সুবিধা অনুযায়ী প্রায়োরিটি প্রদান অনুযায়ী সাজান\nআলোচনা সমঝোতা ধাপে রিকয়ারমেন্টসমূহের conflict স্টক হোল্ডারদের আলোচনা সমঝোতার রিকয়ারমেন্ট সমূহের প্রায়ওরিটি প্রদান\nসফটওয়্যার রিকয়ারমেন্ট স্পেসিফিকেশন সংক্ষেপে SRS নামেও চিহ্নিত\nস্টোক হোল্ডারদের প্রয়োজনীয় তথ্যাদি সংগ্রহের সিস্টেম এনালিস্ট SRS নথি তৈরি\nSRS সফটওয়্যারটি কিভাবে হারডওয়্যার যোগাযোগ রক্ষা বাহ্যিক ইন্টারফেস অপারেশন গতি রেসপন্স টাইম প্লাটফর্মে সফটওয়্যারের পোর্টাবিলিটি রক্ষনাবেক্ষন পুনরুদ্ধার সুবিধা নিরাপত্তা গুনগতমান সীমাবদ্ধতার বিষয়গুলো নির্ধারন\nSRS ইউজারের প্রয়োজনীয় চাহিদা ন্যাচারাল লাংগুয়েজ উপস্থাপন\nSRS কারিগরি বিষয়গুলো স্ট্রাকচার লাংগুয়েজের প্রতিষ্ঠানে উপস্থাপন\nSRS ডিজাইন সংক্রান্ত বিষয়াদি সিডোকোডের লিখিত আকারে বর্ণিত\nSRS DFD Dataflow Diagram শর্তযুক্ত গাণিতিক কোটেশন সমূহ উপস্থাপন\nসফটওয়্যার রিকয়ারমেন্ট চূড়ান্তকরণ প্রয়োজনীয় চাহিদা স্পেসিফিকেশন তৈরির নথিতে উল্লেখিত প্রয়োজনীয়তা সমূহ যাচাই\nসফটওয়্যার রিকয়ারমেন্ট চূড়ান্তকরণ রিকয়ারমেন্ট সমূহ বাস্তবে প্রয়োগ কিনা চেক\nসফটওয়্যার রিকয়ারমেন্ট চূড়ান্তকরণ রিকয়ারমেন্ট সমূহ সফটওয়্যার ডোমেন ফাংশনালিটি অনুযায়ী হয়েছে কিনা চেক\nসফটওয়্যার রিকয়ারমেন্ট চূড়ান্তকরণ রিকয়ারমেন্ট সমূহ ambiguous কিনা চেক\nসফটওয়্যার রিকয়ারমেন্ট চূড়ান্তকরণ রিকয়ারমেন্ট সমূহ সম্পূর্ণ complete কিনা চেক\nসফটওয়্যার রিকয়ারমেন্ট চূড়ান্তকরণ রিকয়ারমেন্ট সমূহ প্রদর্শন কিনা চেক\nইউজার কর্তৃক সংগৃহীত উপকরণসমূহ সিস্টেম স্পেসিফিকেশন অনুযায়ী তৈরিকৃত সফটওয়্যার মূল্যায়ন প্রক্রিয়াকে সফটওয়্যার টেস্টিং\nসফটওয়ার ডেভেলপমেন্ট লাইফ সাইকেল SDLC phase স্তরে প্রোগ্রাম কোডের মডিউল স্তরে টেস্টিং কার্যাদি সম্পাদন\nসফটওয়্যার টেস্টিং প্রক্রিয়ায় ভেলিডেশন ভেরিফিকেশন সম্পাদন\nসফটওয়্যার ভেলিডেশন প্রক্রিয়া ইউজারের চাহিদা মোতাবেক সফটওয়্যারটি তৈরি হয়েছে পরীক্ষনের ব্যবহৃত\nSDLC শেষে সফটওয়্যার ভেলিডেশন সম্পাদন\nপ্রতিষ্ঠান ব্যক্তির সফটওয়্যারটি তৈরি চাহিদা মোতাবেক সফটওয়্যারটি ভেলিডেট\nভেলিডেশন সুবিধা সফটওয়্যার প্রোডাক্টটি ইউজারের চাহিদা মোতাবেক তৈরি কিনা নিশ্চিত\nভেলিডেশন সুবিধা পন্য ডেভেলপ করছি যেখান ইউজারের সকল চাহিদা সফটওয়্যার পূর্ণ প্রশ্নের প্রদান\nসফটওয়্যার ভেলিডেশন ইউজারের প্রয়োজনীয়তার গুরুত্ব দেয়\nভেলিডেশন নির্ধারণ সিস্টেমটি কারণে তৈরি চাহিদা কার্যাদি সঠিকভাবে সম্পাদন সক্ষম\nভেলিডেশন প্রতিষ্ঠানের লক্ষ্য ইউজারের চাহিদা পূরণের সবসময় গুরুত্ব আরোপ\nভেরিফিকেশন যাচাইকরণ প্রক্রিয়া সফটওয়্যারটি ব্যবসায়িক প্রয়োজনীয়তাগুলো পূরণ কিনা সফটওয়্যারটি যথাযথ স্পেসিফিকেশন মেথডোলজি অনুসরণ ডেভেলপ হয়েছে কিনা বিষয়গুলো নিশ্চিত\nভেরিফিকেশন প্রোডাক্টটি তৈরি ডিজাইন স্পেসিফিকেশন অনুযায়ী কিনা নিশ্চিত\nভেরিফিকেশন ডিজাইন সিস্টেম স্পেসিফিকেশনের গুরুত্ব আরোপ\nভেরিফিকেশন যাচাইকরণ সফটওয়্যার ডেভেলপমেন্ট প্রক্রিয়ার শুরুতেই\nপ্রয়োজনীয় ডকুমেন্টসমূহ পরিকল্পনা কোড প্রয়োজনীয়তা স্পেসিফিকেশন মূল্যায়ন ভেরিফিকেশন reviewer and meeting walk through inspection ব্যবস্থা\nসফটওয়্যারের ত্রুটি ডেভেলপারদের তৈরি প্রকৃত কোডিং ভুলসমূহ\nএছাড়া ত্রুটিকে সফটওয়্যার প্রদত্ত আউটপুট প্রত্যাশিত আউটপুটের পার্থক্য Error হিসেবে বিবেচনা\nসফটওয়্যার সিস্টেমে Error থাকলে Fault সংঘটিত\nFault বাগ Bug\nবাগ সফটওয়্যার Error ফলাফল সিস্টেম Fail হওয়ার\nসিস্টেম কাংখিত কাজটি অসামর্থ্য Failure চিহ্নিত\nসিস্টেমে Fault Failure সংঘটিত\nসফটওয়্যার টেস্টিং কার্যাদি ম্যানুয়ালি সয়ংক্রিয় টেস্টিং টুল সম্পাদিত\nসয়ংক্রিয় টেস্টিং টুলস সমূহের সাহায্য ছাড়াই ম্যানুয়াল টেস্টিং সম্পাদিত\nএক্ষেত্রে সফটওয়্যার টেস্টার শাখা কোড লেভেলের টেস্টকেস তৈরি\nটেস্টাররা টেস্টসমূহ নির্বাহ ম্যানেজারের নিকট ফলাফল রিপোর্ট প্রদান\nম্যানুয়াল টেস্টিং সময় রিসোর্স উভয়ই প্রয়োজন\nসঠিক টেস্টকেস ব্যবহৃত হয়েছে কিনা বিষয়ে টেস্টারকে নিশ্চিত\nটেস্টিং major অংশ ম্যানুয়াল টেস্টিং সম্পাদিত\nস্বয়ংক্রিয় টেস্টিং টুল সমূহের সহায়তায় স্বয়ংক্রিয় টেস্টিং কার্যাদি সম্পাদিত\nম্যানুয়াল টেস্টিং সমস্যা সমূহ স্বয়ংক্রিয় টেস্টিং প্রক্রিয়ায় দূর যায়\nওয়েবপেইজ ইন্টারনেট এক্সপ্লোরারে ওপেন হয়েছে কিনা সহজেই ম্যানুয়াল টেস্টিং চেক যায়\nওয়েব সার্ভার মিলিয়ন ইউজারকে লোড সমর্থ্য কিনা ম্যানুয়াল টেস্টিং নির্ণয় অসম্ভব\nসফটওয়্যার হার্ডওয়্যার টুলসমূহ বিদ্যমান যেগুলোর লোড টেস্টিং stress টেস্টিং রিগ্রেশন টেস্টিং ধরণের টেস্টিং সম্পাদন যায়\nটেস্টিং এপ্রোচ ভিত্তি সম্পাদিত\nটেস্টিং এপ্রোচ ফাংশনালিটি টেস্টিং ইমপ্লিমেন্টেশন টেস্টিং\nফাংশনালিটি বাস্তব প্রয়োগ implementation ছাড়াই টেস্ট এটিকে ব্লাক বক্স Black box টেস্টিং\nperfect testing সবচেয়ে কাংখিত মেথড Exhaustive test\nইনপুট আউটপুট রেঞ্জের সকল একক সম্ভাব্য মান exhaustive testing টেস্ট\nবাস্তব ইনপুট আউটপুট রেঞ্জ প্রত্যেক একক মান টেস্ট সম্ভব\nপ্রোগ্রামের ফাংশনালিটি টেস্ট ব্লাক বক্স টেস্টিং\nব্লাক বক্স টেস্টিং বিহেভিওরাল টেস্টিং\nটেস্টারের ব্লাক বক্স টেস্টিং এক সেট ইনপুট ভ্যালু সংশ্লিষ্ট আউটপুট ফলাফল\nপ্রদত্ত ইনপুট অনুযায়ী প্রাপ্ত আউটপুট কাংখিত ফলাফল প্রোগ্রামের টেস্ট অন্যথায় সমস্যা সংবলিত\nব্লাক বক্স টেস্টিং মেথডে কোডের ডিজাইন স্ট্রাকচার টেস্টারের নিকট অজানা টেস্টিং ইঞ্জিনিয়ারিং ইন্ড ইউজারগণ সফটওয়্যার টেস্টটি সম্পাদন\nইকুইভ্যালেন্স পার্টিশনিং ইনপুট ধরনের ক্লাস সমূহে বিভক্ত\nইকুইভ্যালেন্স পার্টিশনিং ক্লাসের উপাদান টেস্টে উত্তীর্ণ সকল ক্লাস উত্তীর্ণ\nবাউন্ডারি ভ্যালু আন্যালাইসিস ইনপুট হায়ার লোয়ার ইন্ড ভ্যালুতে বিভক্ত\nবাউন্ডারি ভ্যালু অ্যানালাইসিস হায়ার লোয়ার ইন্ড ভ্যালুগুলো টেস্টে উত্তীর্ণ ইন্ড মধ্যবর্তী সকল ভ্যালুও উত্তীর্ণ\nকজ ইফেক্ট টেস্টিং পদ্ধতি ইনপুট ভ্যালু সমূহের কম্বিনেশন সিস্টেমেটিক প্রক্রিয়ায় টেস্ট\nসফটওয়্যার আচরণ একাধিক প্যারামিটার নির্ভরশীল\nপেয়ার ওয়াইজ টেস্টিং প্রক্রিয়ায় একাধিক প্যারামিটার ভিন্ন ভিন্ন মানের পেয়ার ওয়াইজ টেস্ট\nব্ল্যাক বক্স টেস্টিং সুবিধা ইউজার পয়েন্ট অফ ভিউ সফটওয়্যার টেস্ট যায়\nব্ল্যাক বক্স টেস্টিং সুবিধা টেস্টারের প্রোগ্রামিং জ্ঞানের দরকার পড়ে\nব্ল্যাক বক্স টেস্টিং সুবিধা স্পেসিফিকেশনের ভিত্তি সফটওয়্যার টেস্ট স্পেসিফিকেশন জানার টেস্ট তৈরি যায়\nব্লাক বক্স টেস্টিং অসুবিধা স্পেসিফিকেশন ভিত্তি টেস্ট কারণে শুধুমাত্র ইনপুট সংশ্লিষ্ট আউটপুটের জোর দেয়া\nব্লাক বক্স টেস্টিং অসুবিধা সফটওয়্যার বেশিরভাগ অংশ টেস্টিং আওতায় আনা সম্ভব\nস্পেসিফিকেশন ছাড়া সঠিকভাবে টেস্ট কেস ডিজাইন যায়\nপ্রোগ্রাম কোডের দক্ষতা স্ট্রাকচার পরিবর্তনের প্রোগ্রাম এটির প্রয়োগ টেস্ট\nহোয়াইট বক্স টেস্টিং স্ট্রাকচারাল টেস্টিং\nহোয়াইট বক্স টেস্টিং মেথডে ডিজাইন কোডের স্ট্রাকচার টেস্টারের টেস্টারের নিকট\nকোডের প্রোগ্রামারগণ কোডের কার্যাদি টেস্ট অপারেশন সম্পাদন\nকন্ট্রোল ফ্লো টেস্টিং উদ্দেশ্য টেস্ট কেস সেট সকল স্টেটমেন্ট ব্রাঞ্চিং শর্তসমূহ কভার\nকন্ট্রোল ফ্লো টেস্টিং ব্রাঞ্চে শর্তসমূহ টেস্ট\nডাটা ফ্লো টেস্টিং পদ্ধতি সকল ডাটা ভ্যারিয়েবল টেস্টিং গুরুত্ব দেয়\nহোয়াইট বক্স টেস্টিং বেসিক তিনটি ধাপ রয়েছে\nপ্রস্তুতি পর্বে হোয়াইট বক্স টেস্টিং সকল বেসিক ইনফরমেশনের গঠন নকশা প্রণয়ন হয়ে\nপ্রসেসিং ধাপ মূলত টেস্ট কেস তৈরি ধাপ\nপ্রসেসিং ধাপে টেস্ট কেস দিয়ে পুংখানুপুংখভাবে সফটওয়্যার এপ্লিকেশনটি পরীক্ষা পরীক্ষার ফলাফল সঠিকভাবে লিপিবদ্ধ\nআউটপুট পর্যায়ের হোয়াইট বক্স টেস্টিং চূড়ান্ত রিপোর্ট দেয়া প্রিপারেশন প্রসেসিং স্টেজের সকল তথ্য প্রাপ্ত ফলাফল সংরক্ষিত\nহোয়াইট বক্স টেস্টিং প্রোগ্রামের অভ্যন্তরীণ বিষয়গুলো বিধায় টেস্টিং প্রসেস সফটওয়্যারের এরর সমস্যা শনাক্ত কার্যকর\nসফটওয়্যারের হিডেন ইরর যেটা সরাসরি বুঝা যায় হোয়াইট বক্স টেস্টিং শনাক্ত সম্ভব\nভবিষ্যতে সফটওয়্যারের সোর্স কোডে ডেভেলপার পরিবর্তন আনেহোয়াইট বক্স টেস্টিং সহজেই ফেলতে পারবে\nহোয়াইট বক্স টেস্টিং অসুবিধা গভীর প্রোগ্রামিং জ্ঞানের দরকার\nহোয়াইট বক্স টেস্টিং ইমপ্লিমেন্টেশনের পরিবর্তনের টেস্ট কেসেরও পরিবর্তন\nটেস্টিং SDLC স্তরে সংজ্ঞায়িত যায়\nসফটওয়্যার ডেভেলপমেন্ট সমান্তরালভাবে টেস্টিং প্রক্রিয়া সম্পাদিত\nপরবর্তী পর্যায়ে জাম্প পূর্বে পর্যায়ে টেস্ট যাচাইকরণ বৈধতা প্রদান প্রস্তুতি কার্যাদি সম্পাদিত\nসফটওয়্যার লুকায়িত বাগ ত্রুটি কিনা নিশ্চিত পৃথকভাবে টেস্টিং সম্পাদন\nসফটওয়্যার স্তরে টেস্ট\nকোডিং সময় প্রোগ্রামার প্রোগ্রামের ইউনিট পরীক্ষা ত্রুটিমুক্ত কিনা\nহোয়াইট বক্স টেস্টিং এপ্রোচের টেস্টিং সম্পাদিত\nইউনিট টেস্টিং ডেভেলপারদেরকে প্রোগ্রামের ইউনিট প্রয়োজনীয় চাহিদা মোতাবেক সম্পাদিত কিনা ত্রুটিমুক্ত কিনা বিষয়ে সিদ্ধান্ত সহযোগিতা\nইন্টিগ্রেশন টেস্টিং সফটওয়্যারের সকল ইউনিট পৃথক পৃথক সঠিকভাবে কার্যাদি সম্পাদন করলেও এগুলো ইন্টিগ্রেটেড অবস্থায় ত্রুটিমুক্ত কিনা জানার প্রয়োজন\nইন্টিগ্রেশন টেস্টিং উদাহরণস্বরুপ আর্গুমেন্ট পাসিং ডাটা আপডেট\nসিস্টেম টেস্টিং সফটওয়্যারটি প্রোডাক্ট কম্পাইল এরপর পরিপূর্ণ টেস্ট সম্পাদন নিম্নলিখিত এক একাধিক টেস্টের সম্পাদন\nফাংশনালিটি টেস্টিং প্রয়োজনীয় চাহিদা মোতাবেক সফটওয়্যারটি সকল কার্যাদি সম্পাদন সক্ষম কিনা টেস্ট\nপারফরম্যান্স টেস্টিং পরীক্ষার সফটওয়্যার দক্ষভাবে পারবে প্রমাণ পাওয়া যায়\nকাংখিত কাজটি সম্পাদনে সফটওয়্যারটি কার্যকরীভাবে অপারেশন সম্পাদনে গড়ে পরিমাণ সময় ব্যয় পরীক্ষা পারফরম্যান্স টেস্টিং\nসফটওয়্যারটি হাই ইউজার পারিপার্শ্বিক অবস্থায় ডাটা লোডকরে লোড টেস্টিং স্ট্রেস টেস্টিং পারফরম্যান্স টেস্টিং সম্পাদন\nসফটওয়্যারটি প্লাটফর্মে অসংখ্য ব্যক্তি এক্সেস টেস্ট গুলো সম্বন্ধ\nএক্সেপ্টেন্স টেস্টিং সফটওয়্যারটি কাস্টমারের নিকট হ্যান্ড ওভার প্রস্তুত\nটেস্টিং শেষ ফেজ ইউজারের আন্তক্রিয়া রেসপন্স পরীক্ষা\nএক্সেপ্টেন্স টেস্টিং অতি গুরুত্বপূর্ণ সফটওয়্যারটি ইউজারের সকল চাহিদা পূরণ সক্ষম এটির এপিয়ারেন্স কার্য প্রক্রিয়া ইউজারের নিকট পছন্দ হওয়ার কারণে রিজেক্ট\nডেভেলপার টিম নিজেরা সিস্টেম আলফা টেস্টিং সম্পাদন\nসফটওয়্যারের কার্যাদি সম্পাদনে ইউজার কিভাবে রিয়েক্ট সিস্টেম ইনপুটে কিভাবে প্রতিক্রিয়া জানার আলফা টেস্টের\nবেটা টেস্টিং সফটওয়্যারটি ডেভেলপার কর্তৃক টেস্ট সংক্রান্ত কার্যাদি সম্পন্ন হওয়ার ইউজারের নিকট প্রদান প্রোডাক্ট environment\nফাইনাল প্রোডাক্ট ডেভেলপারগণ এক্ষেত্রে নেয় ইউজার ছোট ছোট সমস্যা চিহ্নিত যেগুলো ফাইনাল প্রোডাক্ট প্রদানের পূর্বেই সংশোধন\nকোড ফিচার ফাংশনালিটি সফটওয়্যার আপডেট সিস্টেমে কোডের কারণে বিপরীতমুখী প্রতিক্রিয়া কিনা নির্ণয়ের সকল ফাংশনালিটি পরীক্ষা এটিকে রিগ্রেশন টেস্টিং\nটেস্টিং ডকুমেন্ট পর্যায়ে তৈরি\nটেস্ট কেসসমূহ জেনারেশন টেস্টিং কার্য\nSRS ডকুমেন্ট ফাংশনালিটি সম্পাদনে প্রয়োজনীয় ডকুমেন্ট\nপ্রোডাক্ট প্রদানের পূর্বে টেস্টিং প্রক্রিয়া কতদূর টেস্ট পলিসি ডকুমেন্ট পাওয়া যায়\nটেস্ট স্ট্রাটিজি ডকুমেন্ট টেস্ট টিম এসপেক্টসমূহ রেসপন্সিবিলিটি ম্যাট্রিক্স এন্ড রাইটস টেস্ট ম্যানেজার টেস্ট ইঞ্জিনিয়ারদের দায়িত্ব বিষয় উল্লেখ\nট্রাসেবিলিটি ম্যাট্রিক্স ডকুমেন্ট SDLC ডকুমেন্ট প্রয়োজনীয় উপকরণসমূহ সংগ্রহ প্রক্রিয়ার সম্পর্কিত\nচাহিদা আসলে ট্রাসেবিলিটি ম্যাট্রিক্স ডকুমেন্ট যুক্ত\nএগুলো ফরোয়ার্ড ব্যাকওয়ার্ড উভয় প্রক্রিয়ায় ট্রেস যায়\nম্যাট্রিক্স গুলো পরীক্ষককে প্রয়োজনীয় উপকরণ সমূহের উৎস সাহায্য\nটেস্টিং সংক্রান্ত কার্যাদি সম্পাদনা ডকুমেন্ট সমূহের প্রয়োজন\nটেস্ট কেস ডকুমেন্ট টেস্ট সম্পাদন সেগুলোর তালিকা প্রদান\nটেস্ট কেস ডকুমেন্ট ইউনিট টেস্ট পরিকল্পনা ইন্টিগ্রেশন টেস্ট পরিকল্পনা সিস্টেম টেস্ট পরিকল্পনা এক্সেপ্টেন্স টেস্ট পরিকল্পনা সংক্রান্ত বিষয়াদি\nটেস্ট বর্ননা ডকুমেন্ট টেস্ট কেস নির্বাহ পদ্ধতি বিস্তারিত আকারে বর্নিত\nটেস্টের ফলাফল হিসেবে টেস্ট কেস রিপোর্ট\nপ্রত্যেক টেস্ট কেস রিপোর্টের টেস্ট লগসমূহ ডকুমেন্ট টেস্ট লগসমূহ ধারণ\nটেস্ট সামারি ফাইলটি সকল টেস্ট রিপোর্ট লগসমূহ সামগ্রিকভাবে বিশ্লেষণ\nটেস্ট সামারি ফাইল সফটওয়্যার লঞ্চ প্রস্তুত কিনা বিষয়ে সারাংশ প্রদান\nসফটওয়্যার লঞ্চ উপযোগী ভার্সন নিয়ন্ত্রণ সিস্টেম অধীনে রিলিজ\nসফটওয়্যার ডেভেলপমেন্ট প্রয়োগ ব্যবহৃত টার্মসমূহ যথা সফটওয়্যার টেস্টিং সফটওয়্যার কোয়ালিটি এসিউরেন্স সফটওয়্যার কোয়ালিটি কন্ট্রোল সফটওয়্যার অডিটিং পার্থক্য\nসফটওয়্যার ডেভেলপমেন্ট প্রক্রিয়া মনিটরিং সফটওয়্যার কোয়ালিটি এসিউরেন্স টার্মটি ব্যবহৃত\nসফটওয়্যার কোয়ালিটি এসিউরেন্স সফটওয়্যারের মেজার সমূহ প্রতিষ্ঠানের স্টান্ডার্ড অনুযায়ী হয়েছে\nসফটওয়্যার ডেভেলপমেন্ট প্রক্রিয়ার প্রয়োজনীয় মেথডসমূহ মানা হয়েছে বিষয়টি নিশ্চিত হওয়ার মনিটরিং প্রক্রিয়া সম্পাদন\nসফটওয়্যার প্রোডাক্টটির কোয়ালিটি মেইনটেইন সফটওয়্যার কোয়ালিটি কন্ট্রোল টার্মটি ব্যবহৃত\nসফটওয়্যার কোয়ালিটি কন্ট্রোল সফটওয়্যার প্রোডাক্টের সকল ফাংশনাল নন ফাংশনাল ধারণাসমূহ অন্তর্ভুক্ত\nসিস্টেমটি কাস্টমার চাহিদা মোতাবেক কোয়ালিটি প্রোডাক্ট গ্রহণ কিনা প্রোডাক্টটি ফিট ফর ইউজ সার্টিফাইড কিনা বিষয়ে নিশ্চিত\nসফটওয়্যার অডিট প্রতিষ্ঠান কর্তৃক সফটওয়্যার ডেভেলপ সময় ব্যবহৃত রিভিউ প্রসিডিওর\nঅডিটরদের টিম SDLC সফটওয়্যার প্রক্রিয়া প্রসিডিওর প্রয়োজনীয় চাহিদা অন্যান্য দিকগুলো পরীক্ষা\nসফটওয়্যার অডিটের উদ্দেশ্য সফটওয়্যার এটির ডেভেলপমেন্ট প্রক্রিয়া উভয়ই স্টান্ডার্ড রুলস রেগুলেশনস অনুযায়ী হয়েছে কিনা যাচাই\nভেরিফিকেশন প্রক্রিয়া সফটওয়্যারটি ব্যবসায়িক প্রয়োজনীয়তা গুলো পূরণ কিনা সফটওয়্যার যথাযথ স্পেসিফিকেশন মেথডলজি অনুসরণ ডেভেলপ হয়েছে কিনা বিষয়গুলো নিশ্চিত\nভেলিডেশন প্রক্রিয়া ইউজারের চাহিদা মোতাবেক সফটওয়্যারটি তৈরি হয়েছে পরীক্ষনের ব্যবহৃত\nSDLC শেষে সম্পাদনা\nসফটওয়্যার টেস্টিং প্রক্রিয়ায় ভেলিডেশন ভেরিফিকেশন সম্পাদনা\nসফটওয়্যার তৈরি হওয়ার সেটির ত্রুটি কিনা খুজে বের সফটওয়্যার টেস্টিং\nসফটওয়্যার ভেরিফিকেশন ইরর ফল্ট ফেইলিউর পরীক্ষা\nলো লেভেল সফটওয়্যার টেস্টিং যাচাই ছোট কোড সেগমেন্টগুলো ঠিকঠাকমতো বাস্তবায়ন হয়েছে কিনা\nহাই লেভেল সফটওয়্যার টেস্টিং সফটওয়্যারটির মূল ফাংশন ঠিকঠাক যাচাই\nব্যবহারকারীর চাহিদাকে সফটওয়্যার সন্তুষ্ট পরীক্ষা প্রক্রিয়াকে সফটওয়্যার বৈধকরব সফটওয়্যার ভেলিডেশন\nপ্রকার টেস্টিং টুলস টেস্টিং প্রক্রিয়া সম্পন্ন টেস্টিং প্রক্রিয়াকে অটোমেটিক টেস্টিং\nব্ল্যাক বক্স টেস্টিং সফটওয়্যার টেস্টিং প্রক্রিয়া এপ্লিকেশনকে পরীক্ষা স্পেসিফিকেশন ভিত্তি\nব্লাক বক্স টেস্টিং টেস্টারের সফটওয়্যারের অভ্যন্তরীণ বিষয়ে ধারণা\nইকুভ্যালেন্স পার্টিশনিং ব্লাক বক্স টেস্টিং টেস্ট ডিজাইন টেকনিকযেখানে ইনপুট গুলোকে ভ্যালিড আনভ্যালিড দুইটি পার্টিশনে ভাগ টেস্ট ডাটা\nহোয়াইট বক্স টেস্টিংকে গ্লাস বক্স টেস্টিং ক্লিয়ার বক্স টেস্টিং\nহোয়াইট বক্স টেস্টিং টেকনিকে সফটওয়্যারের অভ্যন্তরীণ বিষয়গুলো জানার প্রয়োজন পড়ে\nইউনিট টেস্টিং স্তরে কোড লেখার সময় প্রতিটি ইউনিটকে আলাদা আলাদা টেস্ট\nকতকগুলো ফাংশনাল ইউনিট একসাথে ইন্টারেকশন সময় কেমন টেস্ট পদ্ধতিই ইন্টিগ্রেশন টেস্টিং\nকতগুলো ফাংশনাল ইউনিট একসাথে মিলে সফটওয়্যার টোটাল সিস্টেম\nসফটওয়্যার টোটাল সিস্টেম টেস্ট পদ্ধতিই সিস্টেম টেস্টিং\nসম্পূর্ণ সিস্টেম ইউজারের কতটুকু চাহিদা পূরণ পারবে টেস্ট অ্যাকসেপট্যান্স টেস্ট ইউজার অ্যাকসেপট্যান্স টেস্ট\nব্লাক বক্স টেস্টিং টেকনিক দিয়ে ফাংশনের ভুল শনাক্ত যায়\nব্লাক বক্স টেস্টিং টেকনিক দিয়ে ইন্টারফেসের এরর শনাক্ত যায়\nব্লাক বক্স টেস্টিং টেকনিক দিয়ে ডাটা স্ট্রাকচার ডাটাবেস এক্সেসের ভুল থাকলে শনাক্ত যায়\nব্লাক বক্স টেস্টিং টেকনিক দিয়ে বিহেভিয়ারাল পারফরম্যান্স এরর থাকলে শনাক্ত যায়\nসফটওয়্যার ডিজাইন প্রক্রিয়া ইউজার চাহিদাকে উপযোগী ফরমে পরিবর্তন ব্যবহৃত\nসফটওয়্যার ডিজাইন ডেভেলপার প্রোগ্রামারকে সফটওয়্যার প্রয়োজনীয় কোড লিখতে কোড সমূহের ব্যবহারিক প্রয়োগ সাহায্য\nসফটওয়্যার রিকয়ারমেন্ট স্পেসিফিকেশন SRS ইউজার রিকয়ারমেন্ট সমূহ গ্রহণ\nইউজার রিকয়ারমেন্ট সমূহ সফটওয়্যার টার্মের প্রোগ্রামিং ভাষায় লিখিত কোড ইমপ্লিমেন্ট\nযেকোনো সফটওয়্যার ডিজাইন সাধারণত তিনটি স্তর মেনে চলতে\nসফটওয়্যার ডিজাইন তিনটি স্তর স্থাপত্য নকশা উচ্চস্তরের নকশা বিস্তারিত নকশা\nস্থাপত্য নকশা সিস্টেমের সর্বোচ্চ এবস্ট্রাকট সংস্কারণ\nসফটওয়্যারের কম্পোনেন্টসমূহ কম্পোনেন্ট সমূহের অপরের ইন্টারফেসিং বিষয়টি নির্ধারণ\nএক্ষেত্রে সফটওয়্যার ডিজাইনার প্রস্তাবিত সমাধান প্রক্রিয়া বিষয়ে ধারণা পায়\nউচ্চ স্তরের নকশা স্থাপত্য নকশা ধারণার সিংগেল এনটিটি মাল্টিপল কম্পোনেন্ট অল্প সংখ্যক এবস্ট্রাকট ভিউ মডিউলে বিভক্ত অপরের আন্ত সংযোগের বিষয়টি\nস্তরের ডিজাইন সিস্টেমের সকল কম্পোনেন্ট কিভাবে মডিউল হিসেবে প্রয়োগ যায় বিষয়ে আলোকপাত\nপ্রতিটি উপ সিস্টেমের মডুলার গঠন অপরের সম্পর্ক আন্তক্রিয়াকে রিকগনাইজ\nবিস্তারিত নকশা পূর্ববর্তী ডিজাইনের সিস্টেম এটির সাব সিস্টেমকে কিভাবে প্রয়োগ যায় বিষয়ে\nবিস্তারিত নকশা মডিউল সমূহের অপারেশন প্রয়োগ সম্বন্ধে বিস্তারিত বিবরণ\nপ্রত্যেক মডিউল লজিক্যাল গঠন মডিউল সমূহ অপরের কিভাবে যোগাযোগ রক্ষা নির্ধারণপূর্বক ইন্টারফেস সম্পাদন\nমডুলারাইজেশন কৌশল সফটওয়্যার সিস্টেম কতকগুলো পৃথক স্বতন্ত্র মডিউল বিভক্ত\nমডিউল সমূহ পৃথক পৃথক অপারেশন সম্পাদন সক্ষম\nমডিউল সমূহ পূর্ণ সফটওয়্যার মৌলিক গঠন\nডিজাইনার গণ মডিউল গুলোকে এমনভাবে তৈরি যেনো মডিউল গুলো পৃথক স্বাধীনভাবে কম্পাইল যায়\nমডুলার ডিজাইন সফটওয়্যারের সুবিধা পাওয়ার\nমডুলার ডিজাইন ডিভাইড এন্ড কনকিউয়ার পদ্ধতি অনুসরণ মডিউলে বিভক্ত\nমডুলারাইজেশনে ছোট ছোট মডিউল সমূহ সহজে মেইনটেইন যায়\nমডুলারাইজেশনে প্রোগ্রামের ফাংশনালিটি অনুযায়ী মডিউলে বিভক্ত যায়\nমডুলারাইজেশনে প্রোগ্রাম স্তরে আনা যায়\nমডুলারাইজেশনে মডিউল সমূহ যায়\nমডুলারাইজেশনে মডিউল সমূহ কনকারেন্টলি নির্বাহ যায়\nমডুলারাইজেশনে মডিউল সমূহ প্রয়োজনীয় নিরাপত্তা প্রদান\nকনকারেন্সি সময়ে একাধিক প্রোগ্রাম নির্বাহকে বুঝায়\nসফটওয়্যার ডিজাইন সফটওয়্যারকে কতগুলো ক্ষুদ্র ক্ষুদ্র মডিউলে বিভক্ত\nমডিউল সমূহ প্যারালালি নির্বাহ সফটওয়্যারের অপারেশন সম্পাদন\nকনকারেন্সি সফটওয়্যারের একাধিক কোড প্যারালালি নির্বাহ সুবিধা প্রদান\nপ্রোগ্রামার ডিজাইনারদের মডিউল প্যারালালি নির্বাহ সেগুলো চিহ্নিত প্রয়োজন\nওয়ার্ড প্রসেসরের বানান পরীক্ষন বৈশিষ্ট্য সফটওয়্যারের মডিউল ওয়ার্ড প্রসেসরের নির্বাহ\nসফটওয়্যার প্রোগ্রাম মডুলাইজ টাস্ক সমূহ বৈশিষ্ট্যের ভিত্তি মডিউলে বিভক্ত\nপ্রত্যেক মডিউল সংখ্যক ইন্সট্রাকশন টাস্ক সম্পাদন\nমডিউল সমূহ পৃথকভাবে নির্বাহ এগুলো প্রয়োজনবোধে অপরের সংযোগের একত্রিভূত\nমডিউল সমূহের গুনগত মান সংযোগ আন্তক্রিয়া বিষয়টি বিবেচনা মেজার\nব্যবস্থাসমূহকে সফটওয়্যার ইঞ্জিনিয়ারিং কাপলিং কোহেশন\nকাপলিং প্রোগ্রামের মডিউল সমূহের আন্তনির্ভরশীলতার স্তর নির্ধারণ ব্যবহৃত\nকাপলিং মডিউল সমূহ স্তরে অপরকে আন্ত ক্রিয়া উল্লেখ\nকাপলিং কম প্রোগ্রাম ভালো\nকাপলিং পাচটি স্তর রয়েছে\nমডিউল সরাসরি এক্সেস সংশোধন মডিউল কন্টেন্ট রেফার এটিকে কনটেন্ট লেভেল কাপলিং\nএকাধিক মডিউল সমূহের গ্লোবাল ডাটা রিড রাইট এক্সেস গ্লোবাল সংযোজন\nদুইটি মডিউল নিয়ন্ত্রণ সংযোজন মডিউল মডিউল ফাংশন নির্ধারণ নির্বাহের প্রবাহ পরিবর্তন\nএকাধিক মডিউল তথ্য সমূহ শেয়ার তথ্য সমূহের অংশে এটিকে স্ট্যাম্প কাপলিং\nএক্ষেত্রে দুইটি মডিউল অপরের ডাটা পাসিং প্যারামিটার আন্তক্রিয়া সম্পাদন\nমডিউল প্যারামিটার ডাটা পাঠায় গ্রহণ কারী মডিউলকে উপাদান\nবস্তুত কাপলিং সর্বোত্তম\nমডিউল উপাদান সমূহের আন্তনির্ভরশীলতা ডিগ্রী নির্ধারণ\nমডিউল সমূহের আন্তনির্ভরশীলতা গ্রোগ্রাম ডিজাইন ততো ভালো\nসফটওয়্যার ডিজাইনে কোহেশন সাত ধরনের\nধরনের কোহেশন কো ইনসিডেন্টাল কোহেশন যৌক্তিক সমন্বয় সাময়িক সংযুক্তি পদ্ধতিগত সংযুক্তি যোগাযোগগত সংযুক্তি পর্যায়ক্রমিক সংযোজন ফাংশনাল সংযুক্তি\nকো ইনসিডেন্টাল কোহেশন অপরিকল্পিত র্যান্ডম একত্রিকরণ পদ্ধতি\nধরনের মডুলারাইজেশন প্রক্রিয়ায় প্রোগ্রামকে ছোট ছোট মডিউলে বিভক্ত\nঅপরিকল্পিতভাবে মডিউলে বিভক্ত করায় প্রোগ্রামারদের নিকট বিভ্রান্তি কর ধরনের পদ্ধতির গ্রহণযোগ্যতা কম\nযৌক্তিকভাবে শ্রেণিবদ্ধ উপাদানসমূহকে মডিউলে একত্রিত এটিকে যৌক্তিক সমন্বয়\nমডিউল উপাদান সমূহ সংঘবদ্ধ এগুলো একক সময়ে নির্বাহ এটিকে সাময়িক সংযুক্তি\nমডিউল উপাদান গুলো একসাথে গ্রুপভুক্ত টাস্ক সম্পাদনে পর্যায়ক্রমিকভাবে নির্বাহ এটিকে পদ্ধতিগত সংযুক্ত\nমডিউল উপাদান গুলোকে গ্রুপভুক্ত পর্যায়ক্রমিক ডাটার অপারেশন সম্পাদন ত্রুটিকে যোগাযোগ গত সংযুক্তির\nমডিউলের উপাদান গুলোকে গ্রুপ ভুক্ত উপাদানের আউটপুট উপাদানের ইনপুট হিসেবে ব্যবহৃত এটিকে পর্যায়ক্রমিক সংযোজন\nফাংশনাল সংযুক্তি একত্রীকরণের সর্বোচ্চ ডিগ্রি হিসেবে ব্যবহৃত\nফাংশনাল সংযুক্তিতে মডিউলের উপাদান গুলো এমনভাবে গ্রুপ ভুক্ত এগুলো সুনির্ধারিত ফাংশনে একসাথে\nফাংশনাল সংযুক্তিতে মডিউলের উপাদান গুলো এমনভাবে গ্রুপভুক্ত পুনরায়\nসফটওয়্যার ডিজাইন প্রক্রিয়ার ফলাফল সেগুলো ডকুমেন্টেশন ডিজাইন সিডোকোডসমূহবিস্তারিত যৌক্তিক ডায়াগ্রামসমূহ প্রসেস ডায়াগ্রামসমূহ সকল ফাংশনাল নন ফাংশনাল প্রয়োজনীয়তা সমূহের বিস্তারিত বিবরণ\nসফটওয়্যার ডিজাইন প্রক্রিয়ার ফলাফল সকল ফলাফলের ভিত্তি পরবর্তী ধাপে সফটওয়্যার ইমপ্লিমেন্ট\nসফটওয়্যার ডিজাইনে শুরুতে ত্রুটি পড়লে সহজে সংশোধন\nপ্রোডাক্টটি পরীক্ষণ ত্রুটি নাও ডিজাইন ধাপের ফলাফল সমূহ প্রয়োজনীয় মোতাবেক যাচাইকরণের সংশ্লিষ্ট টুলস\nপ্রাপ্ত ফলাফলসমূহ চাহিদা মোতাবেক পুনরায় সফটওয়্যার ডিজাইন পুঙ্খানুপুঙ্খভাবে যাচাই দরকার\nসফটওয়্যার ডিজাইন সফটওয়্যার ডিজাইনাররা প্রকার ডিজাইন টুলস\nডাটা ডায়াগ্রাম স্ট্রাকচার চার্ট বহুল ব্যবহৃত সফটওয়্যার ডিজাইন টুলস\nডাটা ফ্লো ডায়াগ্রাম তথ্য প্রবাহকে চিত্রের উপস্থাপন\nএটির আগত ডাটা স্টোরকৃত ডাটা আউটপুট ডাটা ফ্লো বর্ণনা\nডাটা ফ্লো ডায়াগ্রামে সিস্টেমের ডাটা কিভাবে ফ্লো সেগুলো সম্বন্ধে উল্লেখ\nডি এফ ডি ফ্লোচার্ট পার্থক্য\nফ্লোচারটে প্রোগ্রাম মডিউল সমূহের ফ্লো নিয়ন্ত্রণ বর্ণনা\nডি এফ ডি তে নিয়ন্ত্রণ ব্রাঞ্চিং উপাদান\nঅপরদিকে ডি এফ ডি সিস্টেমের স্তরের ডাটা ফ্লো বর্ণনা\nডাটা ফ্লো ডায়াগ্রাম ধরনের\nধরনের ডাটা ফ্লো ডায়াগ্রাম লজিক্যাল ডাটা ফ্লো ডায়াগ্রাম ফিজিক্যাল ডাটা ফ্লো ডায়াগ্রাম\nযৌক্তিক dfd লজিক্যাল ডাটা ফ্লো ডায়াগ্রামে সিস্টেমের ডাটা প্রবাহের দৃষ্টি আরোপ\nব্যাংকিং সফটওয়্যার সিস্টেমে ডাটা সমূহ কিভাবে এন্টিটি আদান প্রদান যৌক্তিক dfd বর্ণনা\nফিজিক্যাল ডি এফ ডি কিভাবে ডাটা সমূহ সিস্টেমে ইমপ্লিমেন্ট প্রদর্শন\nফিজিক্যাল ডি এফ ডি তে ডাটার বিস্তারিত বিবরণ\nডি এফ ডি ডাটার উৎস ডাটার মন্তব্য সংরক্ষণ ডাটা প্রবাহ এনটিটি প্রসেস ডাটা স্টোর ডাটা ফ্লো উপস্থাপন\nউৎস ডাটা গন্তব্য ডাটা উপস্থাপনের সফটওয়্যার ইঞ্জিনিয়ারিংয়ে এন্টিটি ব্যবহৃত\nএন্টিটিকে আয়তক্ষেত্র Rectangle উপস্থাপন\nডাটা সম্পাদিত প্রক্রিয়াprocess উপস্থাপন\nপ্রক্রিয়াকে বৃত্তcircle roundedged আয়ত উপস্থাপন\nডাটা সংরক্ষণ সংক্রান্ত তথ্য উপস্থাপনের দুইটি প্রতীকের উপস্থাপন\nক্ষুদ্র দুইটি বাহু আয়ত এক দিক খোলা আয়ত ডাটা স্টোরেজকে উপস্থাপন\nডাটা স্থানান্তর উৎস গন্তব্যের দিক বোঝানোর তীর চিহ্ন তিরের মাথাটি গন্তব্যের নির্দেশিত\nDFD abstraction স্তরের সর্বোচ্চ স্তর স্তর level\nডি এফ ডি তে স্তর জিরো সমগ্র তথ্য সিস্টেমের সকল অন্তর্নিহিত বিবরণ গোপন চিত্র হিসেবে দেখায়\nডি এফ ডি স্তর কন্টেক্স স্তর ডিএফডি\nস্তর ডি এফ ডি আরো নির্দিষ্টকরণের স্তর ওয়ানে ভাগ\nস্তর ডি এফ ডি সিস্টেমের মৌলিক মডিউল সমূহ মডিউল সমূহের ডাটা প্রবাহের বিষয়গুলো বর্ণনা\nএছাড়া স্তর ডি এফ ডি মৌলিক প্রক্রিয়াসমূহ তথ্যের উৎস সমূহ উল্লেখ\nস্তর ডি এফ ডি স্তর উল্লেখিত মডিউল সমূহের ডাটা কিভাবে প্রবাহিত প্রদর্শন\nউচ্চস্তরের ডি এফ ডি সমূহ আরো নির্দিষ্ট নিম্নস্তরের ডিএফডি সমূহে রূপান্তরিত যতক্ষণ স্পেসিফিকেশনের পছন্দ সই স্তর অর্জন\nসফটওয়্যার ইঞ্জিনিয়ারিং স্ট্রাকচার তালিকা ডাটা ফ্লো ডায়াগ্রাম প্রাপ্ত তালিকা\nস্ট্রাকচার চার্ট সমূহ সিস্টেমকে ডিএফডি তুলনায় আরো বিস্তারিতভাবে উপস্থাপন ব্যবহৃত\nস্ট্রাকচার চার্ট সমূহ সমগ্র সিস্টেমকে সর্বনিম্ন কার্যকরী মডিউল সমূহে বিভক্ত ডি এফ ডি তুলনায় মডিউল সমূহের ফাংশন সাব ফাংশন সমূহ বর্ণনা\nস্ট্রাকচার চার্ট মডিউল সমূহের অনুক্রমিক গঠনকে উপস্থাপন\nস্ট্রাকচার চার্ট গঠনের তালিকা তে ব্যবহৃত প্রতীক সমূহ মডিউলস কন্ডিশনসলুপস ডাটা কাপলস কন্ট্রোল কাপলস\nমডিউল প্রক্রিয়া সাইবার টিম টাস্ক উপস্থাপন নিয়ন্ত্রক মডিউল একাধিক সাব শাখা বাধ্য\nলাইব্রেরি মডিউল সমূহ পুনঃ মডিউল\nসফটওয়্যার ইঞ্জিনিয়ারিং শর্ত ক্ষুদ্র ডায়মন্ডের উপস্থাপন\nশর্ত বর্ণনা নিয়ন্ত্রণ মডিউল শর্তের ভিত্তিতে সাবরুটিং নির্ধারণ\nমডিউলের ভিতর তীর চিহ্ন নিয়ন্ত্রণ সাবমডিউলে জাম্প করাকে নির্দেশ\nবক্র তির চিহ্ন লুপকে উপস্থাপন মডিউলের সকল সাবমডিউল এক্ষেত্রে পুনরাবৃত্তি নির্বাহ\nহায়ারারকিকাল ইনপুট প্রসেস আউটপুট HIPO মডেল IBM কর্তৃক সালে তৈরি\nসিস্টেমে বিশ্লেষণ প্রয়োজনীয় নথিভুক্ত উদ্দেশ্যে দুইটি অরগানাইজড মেথডের সমন্বয়ে HIPO ডায়াগ্রাম তৈরি\nঅনুক্রমিক পদ্ধতিতে ফাংশন সমূহ সাবফাংশনে কম্পোস সিস্টেম কর্তৃক সম্পাদিত কার্যাদি বর্ণনা\nনথিভুক্ত HIPO ডায়াগ্রাম প্রয়োজনীয় টুল\nহিপো ডায়াগ্রামের চিত্রভিত্তিক উপস্থাপনা সহজেই ডিজাইনার ব্যবস্থাপকদেরকে সিস্টেমের গঠন সম্মন্ধে সম্যক ধারণা প্রদান\nহিপো ডায়াগ্রাম মডিউলে ডাটা নিয়ন্ত্রণের প্রবাহকে বর্ণনা ডাটা প্রবাহ নিয়ন্ত্রণ প্রবাহ সংক্রান্ত তথ্য প্রদান\nহিপো ডায়াগ্রামের উভয় অংশ অনুক্রমিক উপস্থাপনা IPO তালিকা সফটওয়্যার প্রোগ্রামের স্ট্রাকচার ডিজাইন প্রয়োজনের নথিভুক্তি করণে ব্যবহৃত\nঅধিকাংশ প্রোগ্রামার পূর্ণ সফটওয়্যার অবগত\nপ্রোগ্রামার শুধুমাত্র কাজগুলোই যেগুলো ব্যবস্থাপক তাদেরকে সম্পাদনের নির্দেশ প্রদান\nএকজন উঁচু মানের ব্যবস্থাপকের মূল দায়িত্ব প্রোগ্রামারদেরকে সঠিক তথ্য প্রদান সঠিক স্বল্প সময়ে নির্বাহযোগ্য প্রোগ্রাম রচনা\nসফটওয়্যার তৈরিতে সকল মেথড চিত্র ডায়াগ্রাম সেগুলোর স্ট্রাকচার ইংলিশ কোড তৈরিতে প্রয়োজন সেগুলোর বর্ণনা এগুলোর কোড কিভাবে তৈরি বর্ণনা\nস্ট্রাকচার্ড ইংলিশ প্রোগ্রামারকে ত্রুটিমুক্ত কোড লিখতে সাহায্য\nস্ট্রাকচার্ড ইংলিশ মূলত বাস্তব কোড কোড লিখতে দরকার কিভাবে এটির কোড এক ধরনের বর্ণনা\nস্ট্রাকচার্ড ইংলিশ স্ট্রাকচার প্রোগ্রাম পযারাডিগমের সকল ইংরেজি শব্দ\nসিডো কোড প্রোগ্রামিং ভাষার কাছাকাছি\nসিডোকোডকে অগমেন্টেড প্রোগ্রামিং ভাষামন্তব্যসহ প্রয়োজনীয় বর্ণনা গণ্য\nসিডোকোডে ভেরিয়েবল উল্লেখ প্রয়োজন\nসিডো কোডে স্ট্রাকচার ইংলিশের তুলনায় প্রোগ্রামিং বিস্তারিত অংশ\nসফটওয়্যার ইঞ্জিনিয়ারিংয়ে ডিসিশন টেবিল গঠনিক টেবুলার ফরমেটে সকল শর্ত প্রয়োজনীয় কার্যাদি সম্পাদনের বিষয়গুলো\nত্রুটি বের ডিবাগিং ডিসিশন টেবিল অতি শক্তিশালী টুল\nডিসিশন টেবিল ধরনের শ্রেণীভুক্ত তথ্য একক টেবিলে সংরক্ষণ সবশেষে টেবিল সমূহ যুক্ত সহজ উপযোগী সিদ্ধান্ত গ্রহণে সাহায্য\nসিদ্ধান্ত মূলক টেবিল তৈরিতে সফটওয়্যার ডেভেলপারকে চারটি ধাপ মেনে চলতে\nসিদ্ধান্ত মূলক টেবিল তৈরির ধাপ প্রয়োজনীয় সকল শর্ত সমূহ নির্ধারণ\nসিদ্ধান্ত মূলক টেবিল তৈরি দ্বিতীয় ধাপ নির্ধারিত সকল শর্তের কার্যাদি নির্ধারণ\nসিদ্ধান্ত মূলক টেবিল তৈরি তৃতীয় ধাপ সর্বোচ্চ সংখ্যক মন্তব্য রুল সমূহ তৈরি\nসিদ্ধান্ত মূলক টেবিল তৈরির চতুর্থ ধাপ প্রত্যেক রুল অ্যাকশন নির্ধারণ\nসিদ্ধান্ত মূলক টেবিল এন্ড ইউজার কর্তৃক যাচাই প্রয়োজন পরবর্তীতে ডুপ্লিকেট রুল কার্যাদি বাদ সিমপ্লিফাইড প্রয়োজন\nএনটিটি রিলেশনশিপ মডেল ডাটাবেজ এক ধরনের মডেল এনটিটি সম্পর্কের বিষয় আলোচনা\nএনটিটি রিলেশনশিপ মডেল বাস্তবসম্মত এনটিটি সেট এন্টিটি সমূহের অ্যাট্রিবিউট সমূহ তৈরি কনস্টেইন সেট এন্টিটি সমূহের রিলেশন তৈরি ব্যবহৃত\nডাটাবেজের কনসেপচুয়াল ডিজাইন তৈরির ইআর মডেলের ডাটাবেজের পরিচ্ছন্ন চিত্র উপস্থাপন\nডায়াগ্রামে সচরাচর ব্যবহৃত প্রতীকগুলো আয়তক্ষেত্রযা এনটিটি উপস্থাপনের ব্যবহৃত উপবৃত্তযা এট্রিবিউট উপস্থাপনের ব্যবহৃত ডায়মন্ড সম্পর্ক বুঝাতে ব্যবহৃত লাইনযা লিংক বোঝাতে ব্যবহৃত\nএনটিটি বিষয় বস্তু বাস্তব অস্তিত্ব এট্রিবিউটের একটিকে অপরটি পৃথক\nপ্রতিটি এট্রিবিউটকে সাম্প্রতিক একসেট মান নির্ধারণ\nপ্রতিটি এট্রিবিউটকে সাম্প্রতিক এক সেট মান নির্ধারণ মানসমূহকে ডোমেইন\nবিদ্যালয়ের ডেটাবেজের কথা ধরতে প্রতিটি স্টুডেন্ট এক এন্টিটি এন্টিটির এট্রিবিউট গুলো নাম আইডি বয়স ক্লাস\nরিলেশনশীপ এন্টিটি সমূহের যৌক্তিক সংঘ\nরিলেশনশিপ এনটিটি সমূহের ম্যাপিং\nম্যাপিং কার্ডিনালিটির দুইটি এন্টিটি অ্যাসোসিয়েশন সংখ্যা নির্ধারণ\nম্যাপিং কার্ডিনালিটি উপায়ে সংঘটিত\nরিলেশনশিপ মডেলে ম্যাপিং প্রকার\nরিলেশনশিপ মডেলের প্রকার ম্যাপিং ওয়ান টু ওয়ান ওয়ান টু মেনি মেনি টু ওয়ান মেনি টু মেনি\nওয়ান টু ওয়ান ম্যাপিং কার্ডিনালিটি এনটিটি সেটের এন্টিটি এনটিটি সেটের এন্টিটির সম্পর্ক স্থাপন\nওয়ান টু মেনি ম্যাপিং কার্ডিনালিটি এনটিটি সেটের এন্টিটি অপর এনটিটি সেটের একাধিক এনটিটির সম্পর্ক স্থাপন\nওয়ান টু ওয়ান ম্যাপিং কার্ডিনালিটির উদাহরণ একজন শিক্ষক বিষয় পড়াতে\nওয়ান টু মেনি ম্যাপিং কার্ডিনারিটির উদাহরণ একজন শিক্ষক একাধিক বিষয় পাঠদান\nমেনি টু ওয়ান ম্যাপিং কার্ডিনালিটির দুইটি এনটিটি সেটের একটির একাধিক এন্টিটি অন্যটির এন্টিটির সম্পর্ক স্থাপন\nমেনি টু ওয়ান ম্যাপিং কার্ডিনালিটির উদাহরণ একাধিক শিক্ষক বিষয় পাঠদান\nমেনি টু মেনি ম্যাপিং কার্ডিনালিটির দুইটি এনটিটি সেটের একটির একাধিক এন্টিটি অপরটির একাধিক এন্টিটির সম্পর্ক স্থাপন\nমেনি টু মেনি ম্যাপিং কার্ডিনালিটির উদাহরণ একাধিক শিক্ষক কর্তৃক একাধিক বিষয়ে পাঠদান\nসফটওয়্যার ইঞ্জিনিয়ারিং ডাটা সম্পর্কিত তথ্যের কেন্দ্রীয় সংগ্রহই ডাটা ডিকশনারি\nডাটা ডিকশনারি অর্থসহ ডাটার উৎস বাহ্যিক ডাটা সম্পর্ক ডাটা ফরমেট\nবিষয় সমূহ সংরক্ষণ সফটওয়্যার ডিজাইনার ব্যবহারকারীর সুবিধা প্রদান ডাটা ডিকশনারি বিভিন্নভাবে সংজ্ঞায়িত\nডাটা ডিকশনারি মেটা ডাটাও ডাটা সম্পর্কিত ডাটা\nসফটওয়্যার প্রোগ্রামের ডিএফডি মডেল তৈরির ডাটা ডিকশনারিও তৈরি ডি এফ ডি পরিবর্তন আপডেট ডাটা ডিকশনারি আপডেট\nসফটওয়্যার ডিজাইন প্রয়োগের সময় ডাটা ডিকশনারি ডাটা রেফারেন্স\nসফটওয়্যার ডিজাইনে ডাটা সমূহের অসংলগ্নতা দিলে ডাটা ডিকশনারি রিমুভ\nডাটা ডিকশনারি প্রোগ্রামের সর্বত্র অবজেক্ট রেফারেন্স প্রোগ্রামার ডিজাইনারদের কাজকে সিনক্রোনাইড\nস্থানে পূর্ণ ডাটাবেজ সিস্টেম নথিভুক্ত পদ্ধতি ডাটা ডিকশনারি প্রদান\nডি এফ ডি ভ্যালিডেশন ডাটা ডিকশনারির\nডাটা ডিকশনারিতে তথ্যগুলো ডাটা প্রবাহডাটা স্ট্রাকচারডাটা উপাদানসমূহ ডাটা জমা করন ডাটা প্রক্রিয়াকরণ\nডাটা প্রবাহকে ডিএফডি সমূহের বর্ণনা বীজগণিতীয় পদ্ধতিতে রিপ্রেজেন্ট\nডাটা উপাদানসমূহ ডাটা নাম বর্ণনা নিয়ন্ত্রণ আইটেমসমূহ অভ্যন্তরীণ বাহ্যিক ডাটা সংরক্ষণ গঠিত\nসিস্টেমে কোথা ডাটা প্রবেশ বের সংক্রান্ত ডাটা তথ্য জমা\nসফটওয়্যার ডিজাইন স্ট্রাটিজি ডিসিপ্লিন প্রতিষ্ঠানকে দ্রুততম সময়ে দীর্ঘ মেয়াদী উভয় তৈরি কিভাবে সংশ্লিষ্ট বিষয়গুলোকে ডিজাইন বিষয়ে সিদ্ধান্ত গ্রহণ সাহায্য\nসফটওয়্যার ডিজাইন স্ট্রাটেজি মূলত ডিজাইন ডিজাইন কর্মকাণ্ড সমূহ গুরুত্ব প্রদান\nসফটওয়্যার ডিজাইন স্ট্রাটেজি ডিজাইনার সাধারন সমস্যা সমাধান সহায়তা\nসফটওয়্যার ডিজাইন স্ট্রাটেজি প্রযুক্তি গ্রহণে সহায়তা\nসফটওয়্যার ডিজাইন স্ট্রাটেজি প্রতিষ্ঠানের প্রোডাক্ট সার্ভিস প্রদানের সক্ষম নির্ধারণ\nসফটওয়্যার ডিজাইন স্ট্রাটেজি অর্ডার সমূহের প্রায়োরিটি প্রদান\nসফটওয়্যার ডিজাইন স্ট্রাটেজি মৌলিক দৃষ্টিভঙ্গি অনুসারে ডিজাইন সমূহ ইন্টিগ্রেট\nঅধ্যায়ে মূলত স্ট্রাকচার ডিজাইন ফাংশন ওরিয়েন্টেড ডিজাইন অবজেক্ট অরিয়েন্টেড ডিজাইন সফটওয়্যার ডিজাইন ফাংশন সফটওয়্যার ডিজাইনসমূহ আলোচনা\nসফটওয়্যার ডিজাইন প্রক্রিয়া সফটওয়্যার তৈরির দরকার বিষয়গুলোকে সফটওয়্যার প্রয়োগ\nসফটওয়্যার ডিজাইন ইউজারের প্রয়োজনীয়তাকে চ্যালেঞ্জ হিসেবে গ্রহণ অপ্টিমাম সমাধান পেতে\nসফটওয়্যারের তৈরীর ধারণা মাথায় তখনই সম্ভাব্য সুন্দর ডিজাইনের পরিকল্পনা প্রয়োজনীয় সমাধান সফটওয়্যার\nসফটওয়্যার ডিজাইন প্রকারের\nপ্রকার সফটওয়্যার ডিজাইন ফাংশন ওরিয়েন্টেড ডিজাইন অবজেক্ট অরিয়েন্টেড ডিজাইন স্ট্রাকচার ডিজাইন\nস্ট্রাকচার ডিজাইন ধারনাকৃত সমস্যাকে কতকগুলো সমাধানযোগ্য উপাদানসমূহে বিভক্ত প্রক্রিয়া\nস্ট্রাকচার ডিজাইনে সলিউশন ডিজাইন প্রাধান্য\nস্ট্রাকচার ডিজাইন সমস্যা কিভাবে সমাধান বিষয়ে স্বচ্ছ ধারণা প্রদান\nস্ট্রাকচার ডিজাইন সরল ডিজাইনারের উপস্থাপন ডিজাইনার আরো সঠিকভাবে বিষয়টিতে দৃষ্টিপাত\nস্ট্রাকচার ডিজাইনে ক্ষুদ্র ক্ষুদ্র সমস্যা সমূহ বিভক্ত ডিভাইড এন্ড কনকুয়ার ভিত্তি সম্পন্ন\nস্ট্রাকচার ডিজাইনে প্রত্যেক ক্ষুদ্র সমস্যা পৃথক পৃথকভাবে সম্পন্ন যতক্ষণ সকল সমস্যা সমাধান\nস্ট্রাকচার ডিজাইনের ক্ষুদ্র ক্ষুদ্র সমস্যা সমূহ সলিউশন মডেল সমূহের সমাধান\nপ্রয়োজনীয় সমাধান পাওয়ার সলিউশন মডিউল সমূহকে যথাযথভাবে অরগানাইজ\nসলিউশন মডেল সমূহ হায়ারার্কি সাজানো\nসলিউশন মডেলসমূহ অপরের যোগাযোগ রক্ষা\nসুন্দর স্ট্রাকচার ডিজাইন অনেকগুলো মডিউলের যোগাযোগ রক্ষা নিয়ম নীতি মেনে\nকোহেশন সকল ফাংশন সম্পর্কিত উপাদান সমূহ শ্রেণীবদ্ধ\nকাপলিং মডিউলের যোগাযোগ স্থাপন\nভালো স্ট্রাকচার ডিজাইনে উচ্চমানের কোহেশন নিম্নমানের কাপলিং এরেঞ্জ\nফাংশন ওরিয়েন্টেড ডিজাইনে সিস্টেমকে কতগুলো ক্ষুদ্র ক্ষুদ্র সাব সিস্টেমে বিভক্ত\nফাংশন ওরিয়েন্টেড ডিজাইন সাব সিস্টেম গুলোকে ফাংশন\nফাংশনগুলো সিস্টেমের প্রয়োজনীয় অপারেশন সম্পাদনে ব্যবহৃত\nফাংশন ওরিয়েন্টেড ডিজাইন ডিভাইড এন্ড কনকুয়োর মেথডোলজি স্ট্রাকচার ডিজাইনের প্রপার্টি সমূহ ইনহেরিট\nফাংশন ওরিয়েন্টেড ডিজাইন পদ্ধতি সম্পূর্ণ সিস্টেমকে ক্ষুদ্র ক্ষুদ্র ফাংশন সমূহে বিভক্ত\nপ্রত্যেক ফাংশন সিস্টেমের নির্ধারিত অপারেশন সম্পাদন প্রয়োজনের ফাংশন সমূহ অপরের তথ্য পাঠানোর ব্যবহারযোগ্য তথ্যসমূহ শেয়ার\nপ্রোগ্রাম ফাংশন ফল ফাংশন প্রোগ্রামের অবস্থার পরিবর্তন ঘটায় কখনো কখনো মডিউল কর্তৃক গ্রহণযোগ্য\nফাংশন ওরিয়েন্টেড ডিজাইন ভালো\nসিস্টেম অবস্থা বিবেচ্য বিষয় প্রোগ্রাম ফাংশন অবস্থায় ইনপুট করাকে প্রাধান্য\nডিজাইন প্রক্রিয়ার সম্পূর্ণ সিস্টেমটি ডাটা ফ্লো ডায়াগ্রাম ডাটা কিভাবে প্রবাহ\nডিজাইন প্রক্রিয়ার সম্পূর্ণ সিস্টেমে ফাংশন কিভাবে ডাটা অবস্থার পরিবর্তন ডিএফডি বর্ণনা\nকাজের ভিত্তি সম্পূর্ণ সিস্টেমকে যৌক্তিক ক্ষুদ্র ক্ষুদ্র অংশে ফাংশনে বিভক্ত\nসফটওয়্যার ডিজাইন প্রক্রিয়ায় প্রত্যেক ফাংশন এরপর বিশদভাবে বর্ণনা\nঅবজেক্ট অরিয়েন্টেড ডিজাইন সফটওয়্যার সিস্টেমে ব্যবহৃত ফাংশন সমূহের পরিবর্তে এনটিটি সমূহ বৈশিষ্ট্য গুলোর\nসফটওয়্যার পূর্ণ ধারণা ব্যবহৃত এনটিটি সমূহ অবলম্বন revolve\nঅবজেক্ট অরিয়েন্টের ডিজাইনে ব্যবহৃত গুরুত্বপূর্ণ টার্মসমূহ অবজেক্ট ক্লাসসমূহ এনক্যাপসুলেশন ইনহেরিটেন্স পলিমরফিজম\nইনহেরিটেন্স অর্থ উত্তরাধিকার সূত্রে\nসিস্টেমে ব্যবহৃত সকল এন্টিটিকে অবজেক্ট\nউদাহরণস্বরূপ পার্সন ব্যাংক কোম্পানি সবগুলোই এক অবজেক্ট\nপ্রত্যেক এন্টিটিতে সংখ্যক ডাটা ডাটা সমূহের কার্যাদি সম্পাদনের অর্থাৎ অবজেক্ট কার্যাদি সম্পাদনের ফাংশন ব্যবহৃত\nঅবজেক্টকে ক্লাসের বর্ণনা\nক্লাসকে অবজেক্টের টেমপ্লেট অব্জেক্টকে ক্লাসের ইনস্ট্যান্স\nঅবজেক্টের ফাংশনালিটি নির্ধারণে এট্রিবিউট মেথডসমূহ ব্যবহৃত ক্লাস সেগুলো নির্ধারণ\nসলিউশন ডিজাইনে ক্লাসে ব্যবহৃত এট্রিবিউটসমূহ ভেরিয়েবল হিসেবে সম্পাদিত কার্যাদি মেথড প্রসিডিওর নির্ধারণ\nঅবজেক্ট ওরিয়েন্টেড ডিজাইনে অ্যাট্রিবিউটসমূহ ব্যবহৃত মেথডসমূহ একত্রে যুক্ত করাকে এনক্যাপসুলেশন\nএনক্যাপসুলেশন অবজেক্ট গুরুত্বপূর্ণ তথ্য যুক্ত ডাটা মেথডসমূহ বাহিরের অবাঞ্চিত রক্ষা\nক্লাস যেকোনো মেম্বার ফাংশন ক্লাসের সকল মেম্বার ভেরিয়েবল\nক্লাসের মেম্বার ফাংশন বাইরের ফাংশন এগুলো প্রকার পরিবর্তন\nএটিকে তথ্যা লুকায়িত ইনফরমেশন হাইডিং\nপ্রক্রিয়ার ক্লাস অবজেক্ট ক্লাস অবজেক্টের বৈশিষ্ট্য অর্জন ইনহেরিটেন্স\nইনহেরিটেন্সে পুরাতন ক্লাস বৈশিষ্ট্য ক্লাস তৈরি\nইনহেরিটেন্স পুরাতন ক্লাস পরের ক্লাস বেজ ক্লাস ক্লাস ইনহেরিটেন্স ক্লাস ডিরাইভড ক্লাস চাইল্ড ক্লাস\nএক্ষেত্রে অবজেক্ট ওরিয়েন্টেড প্যারাডিগম পূর্ণ ব্যবহারযোগ্যতা বাস্তবায়িত\nচাইল্ড ক্লাস ইমিডিয়েট প্যারেন্ট ক্লাস সুপার ক্লাস ভ্যারিয়েবল মেথডসমূহ ইমপোর্ট পুন\nপলি অর্থ মরফিজম অর্থ অবস্থা\nপলিমরফিজম অর্থ ভিন্ন ভিন্ন অবস্থায় অবজেক্টের ভিন্ন ভিন্ন ফল\nঅবজেক্ট ওরিয়েন্টেড ডিজাইন কাঠামোতে মেথডসমুহ অপারেশন সম্পাদন এগুলোর আর্গুমেন্ট ভিন্ন ভিন্ন\nপলিমরফিজমে মেথড ভিন্ন ভিন্ন বৈশিষ্ট্য প্রদর্শন\nপুরো অবস্থা সফটওয়্যার ইঞ্জিনিয়ারিং পলিমরফিজম\nমেথড ওভারলোডিং ওভার রাইড পলিমরফিজমের উদাহরণ\nঅবজেক্ট ওরিয়েন্টেড ডিজাইন বেনিফিট সফটওয়্যার ফাস্টার ডেভেলপমেন্ট সাহায্য\nঅবজেক্ট ওরিয়েন্টেড ডিজাইন বেনিফিট মেইনটেইন সহজ\nঅবজেক্ট ওরিয়েন্টেড ডিজাইন বেনিফিট হ্যাসেল ফ্রি আপগ্রেড সাপোর্ট\nঅবজেক্ট ওরিয়েন্টেড ডিজাইন বেনিফিট টায় অবজেক্ট ডিজাইন মেথডসমূহ পুনব্যবহার যায়\nঅবজেক্ট ওরিয়েন্টেড ডিজাইন বেনিফিট কমপ্লেক্স সিস্টেম ইন্টিগ্রেশনের সময় ডেভেলপমেন্ট রিস্ক কমায়\nসফটওয়্যার ডিজাইন প্রক্রিয়া কতগুলো ধারাবাহিক ধাপের ব্যাখ্যা যায়\nসফটওয়্যার ডিজাইন প্যাটার্নে সলিউশন ডিজাইন প্রয়োজনীয় উপকরণ পূর্বে ব্যবহৃত সিস্টেম সিস্টেম পর্যায় ডায়াগ্রাম তৈরি\nসফটওয়্যার ডিজাইন প্যাটার্নে এট্রিবিউটের বৈশিষ্ট্য সমূহকে ভিত্তি অবজেক্ট সমূহকে নির্ধারণ শ্রেণীভুক্ত\nসফটওয়্যার ডিজাইন প্যাটার্নে ক্লাস সমূহের হায়ারারকী সম্পর্ক নির্ধারণ\nসফটওয়্যার ডিজাইন প্যাটার্নে এপ্লিকেশন ফ্রেমওয়ার্ক নির্ধারণ\nডিজাইন প্যাটার্ন ডেভেলপারদেরকে সফটওয়্যার ইটারেশন সমূহের সুপরিচিত নামগুলো যোগাযোগ করিয়ে দেয়\nডিজাইন প্যাটার্নসমূহ সময় পরিবর্তনের উন্নয়ন দেখানো\nসফটওয়্যার ডিজাইন প্যাটার্নে ধরনের প্যাটার্ন ব্যবহৃত\nক্রিয়েশনাল ডিজাইন প্যাটার্নসমূহ ক্লাস ইন্সটলেশনের সম্পর্কিত\nক্রিয়েশনাল ডিজাইন প্যাটার্ন ক্লাস ক্রিয়েশন ক্লাস অবজেক্ট ক্রিয়েশন ক্লাসে বিভক্ত\nক্লাস ক্রিয়েশন প্যাটার্ন ইনহেরিটেন্স অবজেক্ট ক্রিয়েশন প্যাটার্ন ডেলিগেশন কার্যাদি সম্পাদন\nএবস্ট্রাকট ফ্যাক্টরি একাধিক ক্লাস ইন্সট্যান্স তৈরি\nবিল্ডার অবজেক্ট কন্সট্রাকশনকে এটির উপস্থাপনা পৃথক\nফ্যাক্টরি মেথড ডিজাইন ক্লাস সমূহের ইন্সট্যান্স তৈরি\nঅবজেক্ট পুল অব্যবহৃত অবজেক্ট সমূহকে রি সাইকেল\nপ্রোটোটাইপ ইনিসিপোলাইজডকৃত ইন্সট্যান্স কপি ক্লোন\nসিংলেটন ক্লাস ইন্সট্যান্স\nস্ট্রাকচারাল ডিজাইন প্যাটার্নগুলো ক্লাস অবজেক্ট কম্পোজিশনের সম্পর্কিত\nস্ট্রাকচারাল ডিজাইন প্যাটার্ন ইন্টারফেস সমূহ কম্পোজ ইনহেরিটেন্স\nফাংশনালিটি পাওয়ার অবজেক্টসমূহ কম্পোজ নির্ধারণ\nএডাপ্টার ক্লাসের ইন্টারফেস সমূহকে ম্যাচ\nব্রিজ অবজেক্ট ইন্টারফেসকে ইমপ্লিমেন্টেশন পৃথক\nকম্পোজিট অবজেক্ট সমূহের ট্রি স্ট্রাকচার\nডিডোরেটর অবজেক্টসমূহকে ডাইনামিক্যালি রেসপনসেবলিটি সমূহ যুক্ত\nফ্যাসাদ সরল ক্লাস সম্পূর্ণ সাব সিস্টেমকে উপস্থাপনা\nFlycocesnal efficical কেয়ারিং ব্যবহৃত ফাইন গ্রেইনড ইন্সট্যান্স\nপ্রাইভেট ক্লাস ডাটা অ্যাফ্যম নিয়ন্ত্রণ\nপ্রক্সি অবজেক্ট অবজেক্ট উপস্থাপন\nবিহেভিয়ারেল ডিজাইন প্যাটার্নস ক্লাসের অবজেক্ট সমূহের যোগাযোগ সংক্রান্ত বিষয়ের আলোকপাত\nবিয়েভেরিয়াল প্যাটার্ন প্যাটার্ন অবজেক্ট সমূহের যোগাযোগ বিষয়ের সংশ্লিষ্ট\nচেইন অফ রেসপনসেবলিটি পদ্ধতি চেইন অবজেক্ট সমূহের অনুরোধ পাঠানোর\nসফটওয়্যার ইঞ্জিনিয়ারিং কমান্ড অনুরোধ অবজেক্ট এনক্যাপসুলেট\nইন্টারপ্রেটার একটা প্রোগ্রাম ল্যাংগুয়েজ ইলিমেন্ট ইনক্লুড পদ্ধতি\nমেডিয়েটর ক্লাস সমূহের সরল যোগাযোগ স্থাপন\nমেমেন্টো অবজেক্ট অভ্যন্তরীণ অবস্থা ক্যাপচার রিস্টোর\nনাল অবজেক্ট অবজেক্টের ডিফল্ট ভ্যালু ডিজাইন হয়েছে\nঅবজারভার পদ্ধতি ক্লাস সমূহের সংখ্যা পরিবর্তনের নোটিফাই\nস্টেট অবজেক্টের অবস্থা পরিবর্তিত এটির বিহেভিয়ার অলটার\nস্ট্রাটেজি ক্লাসের অভ্যন্তরে এলগরিদম এনক্যাপসুলেট\nটেমপ্লেট মেথড সাব ক্লাসে এলগোরিদমের সঠিক ধাপসমূহ পৃথক\nভিজিটর ক্লাসে পরিবর্তন ছাড়াই অপারেশন নির্ধারণ\nসফটওয়্যার ডিজাইনে ধরনের অ্যাপ্রোস ব্যবহৃত\nসফটওয়্যার ডিজাইনের ধরনের এপ্রোস টপ ডাউন ডিজাইন বটম আপ ডিজাইন\nজানি সিস্টেমে একাধিক সাব সিস্টেম এটিতে গুলো উপাদান সাব সিস্টেম উপাদানসমূহের নিজস্ব সাব সেট উপাদান সমূহ থাকতে এগুলোর সিস্টেমের অনুক্রমিক গঠন তৈরি\nটপ ডাউন ডিজাইন সম্পূর্ণ সিস্টেমটিকে এনটিটি নেয়\nটপ ডাউন ডিজাইনে সংখ্যক বৈশিষ্ট্য ভিত্তিতে এটিকে একাধিক সাব সিস্টেম উপাদানে ডিকম্পোজ\nটপ ডাউন ডিজাইনে প্রত্যেক সাব সিস্টেম উপাদান সিস্টেম গন্য পুনরায় ডিকম্পোজ\nডিকম্পোজিশনের প্রক্রিয়া চলতে যতক্ষন সিস্টেমের সর্বনিম্ন স্তর উপনীত হওয়া যায়\nটপ ডাউন ডিজাইন সিস্টেমের মডেল প্রক্রিয়া সিস্টেমের নির্দিষ্ট অংশ চিহ্নিত\nটপ ডাউন ডিজাইনে সকল উপাদান কম্পোজ হয়ে সিস্টেমের এক্সিস্টেন্স পাওয়া যায়\nটপ ডাউন ডিজাইন এপ্রোচটি উপযোগী সফটওয়্যার সমাধান স্ক্র্যাচ ডিজাইন প্রয়োজন বিস্তারিত বিষয়গুলো অজানা\nবটম আপ ডিজাইন নির্দিষ্ট মৌলিক উপাদান সমূহ\nবটম আপ ডিজাইন মৌলিক নিম্ন স্তরের উপাদানসমূহ উচ্চ স্তরের উপাদানসমূহ কম্পোজ\nডিজাইনে কাংখিত সিস্টেমটিকে একক উপাদান পাওয়া উচ্চ স্তরের উপাদান সমূহ তৈরি\nপ্রত্যেক উচ্চ স্তরের এবস্ট্রাকশন সংখ্যা বৃদ্ধি পেতে\nসাধারণত পূর্বে তৈরিকৃত সিস্টেম সিস্টেম তৈরির প্রয়োজন বটম আপ স্ট্রাটেজি উপযোগী\nএক্ষেত্রে মৌলিক উপাদানগুলো সিস্টেমে ব্যবহৃত\nটপ ডাউন বটম আপ এপ্রোচ ব্যবহারিক ক্ষেত্রর এককভাবে ব্যবহৃত\nব্যবহারিক টপ ডাউন বটম আপ দুইটির সংমিশ্রণ\nইউজার ইন্টারফেস এপ্লিকেশনের ফ্রন্ট ইন্ড ভিউ সফটওয়্যার ইউজার ইন্টারেক্ট\nইউজার ইন্টারফেসের ইউজার সফটওয়্যার হার্ডওয়্যার নিয়ন্ত্রণ ম্যানিপুলেট\nবর্তমানে কম্পিউটার মোবাইল ফোনগাড়িমিউজিক প্লেয়ারবিমানজাহাজ ডিজিটাল টেকনোলজি বিদ্যমান সেখানেই ইউজার ইন্টারফেস বিদ্যমান\nহিউম্যান কম্পিউটার আন্তক্রিয়ার ইউজার ইন্টারফেস প্লাটফর্ম\nইউজার ইন্টারফেস চিত্রভিত্তিক বর্নভিত্তিক অডিও ভিডিও বেজড ধরনের\nব্যবহৃত হার্ডওয়্যার সফটওয়্যার সংমিশ্রণ Combination নির্ভরশীল ইউজার ইন্টারফেস হার্ডওয়্যার সফটওয়্যার উভয়ের সংমিশ্রণে\nসফটওয়্যার জনপ্রিয় হবার ইউজার ইন্টারফেসটির নিম্নোক্ত বৈশিষ্ট্য প্রয়োজন\nসফটওয়্যার জনপ্রিয় হবার ইউজার ইন্টারফেস আকর্ষণীয় হওয়া প্রয়োজন\nসফটওয়্যার জনপ্রিয় হবার ইউজার ইন্টারফেসটি সহজেই ব্যবহারযোগ্য হওয়া প্রয়োজন\nসফটওয়্যার জনপ্রিয় হবার ইউজার ইন্টারফেসটি স্বল্প সময়ের ব্যবহারকারীর প্রতিক্রিয়া প্রদান প্রয়োজন\nসফটওয়্যার জনপ্রিয় হবার ইউজার ইন্টারফেসটি সহজেই বোধগম্য হওয়া প্রয়োজন\nসফটওয়্যার জনপ্রিয় হবার ইউজার ইন্টারফেসটি সবগুলো ইন্টারফেসিং স্ক্রিন সামঞ্জস্যপূর্ণ প্রয়োজন\nইউজার ইন্টারফেসকে সাধারণত বিভাগে ভাগ\nপ্রথমটি কমান্ড লাইন ইন্টারফেস CLI\nদ্বিতীয়টি গ্রাফিক্যাল ইউজার ইন্টারফেস GUL\nভিডিও ডিসপ্লে মনিটর আসার কম্পিউটারের আন্তঃক্রিয়া সম্পাদনের CLI অতি প্রয়োজনীয় টুল\nটেকনিক্যাল ইউজার প্রোগ্রামারদের CLI পছন্দের\nসফওয়্যারের সর্বনিম্ন ইন্টারফেসের ইউজার প্রয়োজনীয় কার্যাদি সম্পাদন\nCLI কমান্ড প্রম্পট প্রদান\nকমান্ড প্রম্পটে ইউজার কমান্ড টাইপ সিস্টেমে যুক্ত\nইউজারকে কমান্ডটির সিনট্যাক্স সম্পর্কে\nকমান্ড টেক্সটবেজড রেফারেন্স এক সেট ইন্সট্রাকশন যেগুলো সিস্টেম নির্বাহ প্রত্যাশা\nম্যাক্রো script ইত্যাদির মেথড সহজে ইউজার কর্তৃক অপারেট ব্যবহৃত\nCLI গ্রাফিক্যাল ইউজার ইন্টারফেস তুলনায় অতি অল্প সংখ্যাক কম্পিউটার resource ব্যবহৃত\nকমান্ড প্রম্পট CMD টেক্সভিত্তিক বিজ্ঞাপক নোটিফায়ার\nকমান্ড প্রম্পট CMD ব্যবহারকারীর কার্যাবলির কনটেক্সটসমূহ\nকমান্ড প্রম্পট CMD সিস্টেম সফটওয়্যার কর্তৃক জেনারেট\nকার্সর Cursor ক্ষুদ্র অনুভূমিক Horizontal লাইন লাইনের উচ্চতার উল্লম্ব Vertical টাইপ সময় অক্ষরের Character অবস্থা উপস্থাপন\nকার্সরকে Cursor বেশিরভাগ Blinking আস্থায় পাওয়া যায়\nইউজার লিখতে মুছে ফেলতে চালনা ঘুরায়\nকমান্ড Command কমান্ড নির্বাহরত Executable ইন্সট্রাকশন\nকমান্ড এক একাধিক প্যারামিটার থাকতে\nকমান্ড নির্বাহের ফলাফল পর্দায় দেখানো\nআউটপুট তৈরি কমান্ড প্রম্পট পরবর্তী লাইনে প্রদর্শিত\nগ্রাফিক্যাল ইউজার ইন্টারফেসের ইউজার সিস্টেমের গ্রাফিক্যালি আন্তঃ ক্রিয়া সম্পাদন\nGUI হার্ডওয়্যার সফটওয়্যার সমন্বয়ে\nGUI ইউজার সফটওয়্যার ইন্টারফেস\nসাধারণত GUI CLI রিসোর্স\nটেকনোলজির উন্নতির প্রোগ্রামার ডিজাইনারগণ জটিল GUI ডিজাইন\nজটিল GUI অধিক দক্ষতা নির্ভুলতা গতির\nGUI এক সেট কম্পোনেন্টের সফটওয়্যার হার্ডওয়্যারের যোগাযোগ সম্পন্ন\nপ্রত্যেক গ্রাফিক্যাল উপাদান সিস্টেমে উপায় নিশ্চিত\nউইন্ডো জায়গা অ্যাপ্লিকেশনের কনন্টেটগুলো প্রদর্শিত\nউইন্ডো ফাইল স্ট্রাকচার উপস্থাপন অ্যাপ্লিকেশনের কনটেন্টসমূহ লিস্ট আইকন আকারে প্রদর্শন\nইউজারের উইন্ডো এস্কপ্লোয়ারে ফাইল সিস্টেম নেভিগেট সহজ বিষয়\nস্ক্রিন আকৃতি অনুযায়ী উইন্ডোকে ছোট বড় রিসাইজ যায়\nউইন্ডোকে স্ক্রিনের স্থানে স্থানান্তর যায়\nঅ্যাপ্লিকেশন উইন্ডো ভিতর একাধিক উইন্ডো ধারণ\nউইন্ডোর ভিতর একাধিক উইন্ডো এগুলোকে চাইল্ড উইন্ডো\nঅ্যাপ্লিকেশন এটির একাধিক ইন্সট্যান্স নির্বাহ করাকে অনুমতি প্রদান এগুলো পৃথক উইন্ডো আবির্ভূত\nট্যাবড ডকুমেন্ট ইন্টারফেস TDI একাধিক ডকুমেন্টকে উইন্ডোতে ওপেন ব্যবহৃত\nবর্তমানে ব্যবহৃত সকল ওয়েব ব্রাউজার ট্যাবড ডকুমেন্ট ইন্টারফেস TDI ধরনের বৈশিষ্ট্যসমূহ\nমেনু একত্রে গ্রুপভুক্ত সংখ্যক স্টার্ডাড কমান্ডের এ্যারে\nমেনু সাধারণত আ্যাপ্লিকেশন উইন্ডোর প্রদর্শিত\nমাউস ক্লিক প্রোগ্রাম মেনুকে লুকায়িত অবস্থায় Hide যায় লুকায়িত অবস্থা প্রদর্শন যায়\nআইকন ক্ষুদ্র চিত্র সংশ্লিষ্ট অ্যাপ্লিকেশন উপস্থাপনে ব্যবহৃত\nপ্লিকেশন উপস্থাপনে ব্যবহৃত আইকনসমূহ দুইবার ক্লিক অ্যাপ্লিকেশন উইন্ডো Open\nআইকন অ্যাপ্লিকেশন ক্ষুদ্র ছবির সিস্টেমে ইন্সটলকৃত প্রোগ্রামসমূহ প্রদর্শন\nGUI উপস্থাপিত মাউস টাচ প্যাড ডিজিটাল পেন কার্সর নামে পরিচিত\nকার্সর স্ক্রিনে হার্ডওয়্যার প্রাপ্ত ইন্সট্যাকশনসমূহ Follow\nপ্রাপ্ত ইন্সট্যাকশনসমূহ সাধারণতঃ রিয়েল টাইমে সম্পাদন\nGUI সিস্টেমে কার্সরকে পয়েন্টার\nএগুলো মেনু উইন্ডো অন্যান্য অ্যাপ্লিকেশনএর বৈশিষ্ট্যসমূহ নির্বাচন ব্যবহৃত\nGUI অ্যাপ্লিকেশনে নিম্নলিখিত এক একাধিক উপাদানসমূহ\nঅ্যাপ্লিকেশনের বিষয়সমূহ Contents ধারণ বেশিরভাগ অ্যাপ্লিকেশন উইন্ডোগুলো অপারেটিং সিস্টেমসমূহের সরবরাহকৃত কনস্ট্রান্টগুলো\nঅ্যাপ্লিকেশন নিজস্ব গ্রাহক Customer তৈরি উইন্ডোসমূহ\nডায়ালগ বক্স Dialogue Box চাইল্ড উইন্ডো ইউজার বার্তা ধারণ পদক্ষেপ নেওয়ার অনুরোধ জানায়\nডায়ালগ বক্সের উদাহরণ ফাইল মুছে দেওয়ার উইজার নিকট নিশ্চিতকরণের ডায়ালগ তৈরি\nইউজার ইন্টারফেস ডিজাইন গুলো সম্পাদন\nগ্রাফিকাল ইউজার ইন্টারফেস ডিজাইন প্রক্রিয়া প্রয়োগ SDLC\nওয়াটারফল ইটারেটিভ স্পাইরাল মডেলের যেকোনো মডেল গ্রাফিকাল ইউজার ইন্টারফেস প্রয়োগ যায়\nGUI ডিজাইন ডেভেলপমেন্ট ব্যবহৃত মডেলকে GUI নির্ধারিত ধাপসমূহ পূর্ণ\nGUI ডিজাইন ডেভেলপমেন্ট GUI নির্ধারিত ধাপসমূহ GUI প্রয়োজনীয় উপকরণসমূহ সংগ্রহ ইউজার বিশ্লেষণ টাস্ক বিশ্লেষণ GUI ডিজাইন প্রয়োগ পরীক্ষন\nসফটওয়্যার ডিজাইনারগন GUI সকল কার্যকরী অকার্যকরী উপকরণ সমূহের তালিকা পেতে চাইতে\nGUI উপকরণ সমূহ ইউজার বিদ্যমান সফটওয়্যার সলিউশন\nডিজাইনার সফটওয়্যার GUI বিষয়ে অবগত\nগ্রাফিকাল ইউজার ইন্টারফেস জ্ঞান ইউজার স্তর অনুযায়ী সফটওয়্যার প্রয়োজনীয় পরিবর্তন\nইউজার কারিগরি জ্ঞান সম্পন্ন উচ্চমানের তুলনামূলক কমপ্লেক্স GUI বিষয়টি চিন্তা\nইউজার দের সফটওয়্যার অপারেশন সংক্রান্ত সহজবোধ্য তথ্য যুক্ত\nটাক্স বিশ্লেষণ ধাপে ডিজাইনারদেরকে সফটওয়্যার সলিউশন কার্যাদি সম্পাদিত বিশ্লেষণের প্রয়োজন\nGUI GUI কিভাবে কার্যাদি সম্পাদন বিষয়ে আলোকপাত\nটাক্স বিশ্লেষণ ধাপে টাক্সসমূহ অনুক্রমিক উপস্থাপন অতি গুরুত্বপূর্ণ কাজকে বেজ\nটাক্স বিশ্লেষণ ধাপে এটিকে কতগুলো সাবটাস্কে বিভক্ত\nসাব টাস্ক সমূহের তথ্যাদির প্রবাহের মাধ্যমেই সফটওয়্যারের GUI কনটেন্ট প্রবাহ নির্ধারণ যায়\nপরীক্ষন টেস্টিং ধাপে GUI পরীক্ষন বিভিন্নভাবে যায়\nGUI ডেভেলপমেন্টের পরীক্ষন ধাপে প্রতিষ্ঠান কর্তৃক ইন হাউস ইন্সপেকশন ইউজারকে সরাসরি যুক্ত Beta ভার্সন প্রদর্শন বিষয়ে পরীক্ষা যায়\nGUI ডেভেলপমেন্টের পরীক্ষনের যোগ্যতা কম্পাটিবিলিটিইউজার গ্রহনযোগ্যতা বিষয়গুলো\nGUI ডিজাইন প্রয়োগ ধাপে ডিজাইনারগণ সফটওয়্যার ডিজাইনের প্রয়োজনীয় উপকরণসমূহ পায়প্রয়োজনীয় কার্যাদি ইউজার পরিবেশ সম্বন্ধে অবগত হয়তখন GUI ডিজাইন\nGUI ডিজাইন প্রয়োগ ধাপে ডিজাইনারগণ কোডের প্রয়োগ GUI কার্যরত ডামি সফটওয়্যারের ব্যাক গ্রাউন্ডের যুক্ত এরপর ডেভেলপার দের ফাংশনালিটি পরীক্ষা\nধরনের টুলস বিদ্যমান যেগুলো ডিজাইনার সমগ্র GUI তৈরি\nটুলস সফটওয়্যারের এমব্যাডেড অবস্থায় IDE\nGUI টুলসমূহ GUI পাওয়ারফুল নিয়ন্ত্রণ এরে প্রয়োগ সফটওয়্যার কাস্টমাইজেশনে ডিজাইন প্রয়োজন মোতাবেক কোড পরিবর্তন\nGUI টুলসমূহের উদাহরণ মোবাইল GUI কম্পিউটার GUL টাচ স্ক্রিন GUI\nGUI তৈরিতে ব্যবহৃত ধরনের টুলগুলো হলোঃ ফ্লুয়িড অ্যাপ ইন ভেন্টর লুসিড চার্ট ভিজুয়্যাল স্টূডিও\nGUI ডিজাইনের গোল্ডেন নীতি Strive for Consistency তে ধরণের পরিস্থিতিতে কার্যাদির ক্রমসমূহের সামঞ্জস্য\nGUI ডিজাইনের গোল্ডেন নীতি Strive for Consistency তে ব্যবহৃত শব্দভাণ্ডার প্রম্পটস মেনু সাহায্যকারী স্ক্রিনসমূহ ধরণের হওয়া\nGUI ডিজাইনের গোল্ডেন নীতি Strive for Consistency তে কমান্ড সমূহের সামঞ্জস্য\nEnable frequent users to use shortcuts নীতিতে ইউজার ক্রমান্বয়ে ক্রিয়াশীলতা কমাতে চায়\nEnable frequent users to use shortcuts নীতিতে এক্ষেত্রে Abbreviations ফাংশন সমূহ লুকানো কমান্ডসমূহ মাক্রো এক্ষেত্রে অভিজ্ঞ ইউজারএর খুবই সহায়ক\nOffer informative ফিডব্যাক প্রতিটি অপারেটর কর্মের সিস্টেম ফিডব্যাক\nসচরাচর ব্যবহৃত ছোট কাজের Response Modest হওয়া কম ব্যবহৃত গুরুত্বপূর্ণ কাজগুলোর Responsible হওয়া\nDesign dialog to yield closure কাজের কর্মসমূহ শুরুতে মাঝামাঝি শেষে শ্রেণীগতভাবে Organized\nশ্রেনীভুক্ত কার্যাদির তথ্যগত ফিডব্যাক অপারেটরদের সাফল্য এনে দেয় পরবর্তী শ্রেনীবদ্ধ কার্যাদি সম্পাদনের উপায় দেয়\nOffer simple error handling যতদূর সম্ভব সিস্টেম এমনভাবে ডিজাইন দরকার ইউজার মারাত্মক ভুল\nত্রুটি পড়ে সিস্টেমের নির্ণয় ত্রুটি হ্যান্ডলিং সরল বোধগম্য পদ্ধতি প্রস্তাব দরকার\nPermit easy reversal of actions বৈশিষ্ট্য ইউজার উদবেগ মুক্ত বাস্তব ত্রুটিগুলো কিভাবে পূর্বাবস্থায় ফিরিয়ে আনা যায় ইউজার সকল বিকল্প ব্যবস্থার অপরিচিত অপশন সমূহ সম্বন্ধে অবগত\nপারমিট ইজি রিভার্সাল অফ একশনস প্রক্রিয়ায় একক একক ডাটা ত্রুটি শ্রেণীবদ্ধ কার্যাদি সম্পাদন\nসাপোর্ট ইন্টার্নাল লোকাস অফ কন্ট্রোল অভিজ্ঞ অপারেটর সিস্টেমের পরিবর্তন সম্পাদিত কার্যাদি অনুযায়ী সিস্টেমের রেসপন্ডারস প্রত্যাশা\nরেসপন্ডারদের তুলনায় কার্য ইনিশিয়েটরদের প্রত্যাশা অনুযায়ী সিস্টেম ডিজাইন দরকার\nহিউম্যান ইনফরমেশন প্রসেসিং সিস্টেমের স্বল্প সময়ে মেমোরি লোডের সীমাবদ্ধতা প্রদর্শিত হওয়ার তথ্যসমূহ যতদূর সম্ভব সরল\nহিউম্যান ইনফরমেশন প্রসেসিং সিস্টেমের স্বল্প সময়ে মেমোরি লোডের সীমাবদ্ধতা একাধিক পেজ প্রদর্শন কনসোলিডেটেড\nহিউম্যান ইনফরমেশন প্রসেসিং সিস্টেমের স্বল্প সময়ে মেমোরি লোডের সীমাবদ্ধতা উইন্ডো মোশন ফ্রিকোয়েন্সি কমানো কোডসমূহ নেমোনিক্স\nহিউম্যান ইনফরমেশন প্রসেসিং সিস্টেমের স্বল্প সময়ে মেমোরি লোডের সীমাবদ্ধতা ক্রমাগত কার্যাদির পর্যাপ্ত ট্রেনিং সময় বরাদ্দ\nসফটওয়্যার প্রয়োগ বাস্তবায়ন মূলত সাংগঠনিক কাঠামো সফটওয়্যার ভিত্তিক সার্ভিস উপাদানসমূহ ইন্ড ইউজার প্রতিষ্ঠানের কার্যাদি সম্পাদনে যুক্তভাবে\nসফটওয়্যার নির্দিষ্ট অংশ সফটওয়্যারের সফটওয়্যারের বৈশিষ্ট্য গুনগত মানের বিষয়টি বর্ণিত\nসফটওয়্যার নির্দিষ্ট প্রোগ্রামিং ভাষার প্রয়োগ\nকম্পিউটার প্রোগ্রামিং ভাষা প্রয়োগের সফটওয়্যার নির্মাণের বিস্তারিত প্রক্রিয়া\nসফটওয়্যারের উপাদান সমূহ যুক্ত প্রতিষ্ঠান ইন্ড ইউজারের কার্যপ্রবাহকে সফটওয়্যারের প্রয়োগ\nকোডিং প্রক্রিয়াতে কোডের লাইন সংখ্যা ক্রমাগত বৃদ্ধির সফটওয়্যারের আকার বৃদ্ধি পায়\nকোডের লাইন সংখ্যা বৃদ্ধির পরবর্তীতে প্রোগ্রামের প্রবাহ কষ্টসাধ্য হয়ে যায়\nসফটওয়্যারের প্রোগ্রাম ফাইল প্রসিডিওরসমূহ কিভাবে সংঘটিত ভুলে যায় প্রোগ্রাম শেয়ার ডিবাগ প্রোগ্রাম মডিফিকেশনের কার্যাদি কঠিন হয়ে যায়\nসফটওয়্যারের প্রোগ্রাম ফাইল প্রসিডিওরসমূহ কিভাবে সংঘটিত ভুলে যায় সমস্যাগুলোর সমাধান পাওয়া যায় স্ট্রাকচার প্রোগ্রামিং\nস্ট্রাকচার প্রোগ্রামিং ডেভেলপারকে কোডে সহজে জাম্প ইন্সট্রাকশন ব্যবহারের পরিবর্তে সাব রুটিন লুপসমূহ উৎসাহিত\nস্ট্রাকচার প্রোগ্রামিং ডেভেলপারকে কোডে সহজে জাম্প ইন্সট্রাকশন ব্যবহারের পরিবর্তে সাব রুটিন লুপসমূহ ব্যবহারের কোডটিতে স্বচ্ছতা আসে প্রোগ্রামের দক্ষতা বৃদ্ধি পায়\nএছাড়া স্ট্রাকচার প্রোগ্রামিং প্রোগ্রামারকে কোডিং টাইপ কমাতে কোডটি সঠিকভাবে সংগঠন সহায়তা\nস্ট্রাকচার প্রোগ্রামিং প্রসিডিউরাল প্রোগ্রামিং উপসেট\nস্ট্রাকচার প্রোগ্রামিং প্রোগ্রামে যৌক্তিক কাঠামো প্রয়োগ\nস্ট্রাকচার প্রোগ্রামিং কোডকে দক্ষসহজ বোধগম্য সংশোধন প্রক্রিয়াকে সহজতর\nস্ট্রাকচার প্রোগ্রামিং কখনো কখনো মডুলার প্রোগ্রামিং\nপ্রোগ্রামের কোডিং কিভাবে স্ট্রাকচার প্রোগ্রামিং বর্ণনা\nমূলত স্ট্রাকচার প্রোগ্রামিং তিনটি প্রধান ধারণা\nস্ট্রাকচার প্রোগ্রামিং তিনটি প্রধান ধারণা টপ ডাউন এনালাইসিস মডুলার প্রোগ্রামিং স্ট্রাকচারড কোডিং\nসফটওয়্যার সবসময় যুক্তিসমূহ সম্পাদনের তৈরি\nযৌক্তিক সমস্যাটি সফটওয়্যার পারল্যান্স সমস্যা নামে পরিচিত\nসফটওয়্যার তৈরির সবসময় কিভাবে সমস্যাটি সমাধান যায় বিষয়ে ভালো ধারণা থাকতে\nটপ ডাউন বিশ্লেষণে সমস্যাকে কতগুলো ক্ষুদ্র ক্ষুদ্র সমস্যাতে বিভক্ত প্রত্যেক অংশকে পৃথক পৃথক সমাধান\nটপ ডাউন বিশ্লেষণে সমস্যার পূর্ণ সমাধান পেতে প্রত্যেক ধাপসমূহের ফলাফলগুলো পর্যায়ক্রমিক যুক্ত\nটপ ডাউন বিশ্লেষণ সমস্যা সমাধানের প্রক্রিয়া সমস্যাটি সহজে সমাধানযোগ্য উপ সমস্যাগুলোতে পৌছানো ক্ষুদ্র ক্ষুদ্রতর উপ সমস্যা অপারেশনসমূহে বিভক্ত\nটপ ডাউন বিশ্লেষণে উপ সমস্যা গুলোকে স্তরদ্বিতীয় স্তর এভাবে ক্রমান্বয়ে স্তর নম্বর\nটপ ডাউন বিশ্লেষণে প্রতিটি স্তর শীর্ষ স্তরের ভিন্ন এবস্ট্রাকশন সম্পন্ন\nটপ ডাউন পদ্ধতি প্রোগ্রামকে বিস্তারিতভাবে বিভক্ত যায়\nসহজে সমাধানযোগ্য উপ সমস্যা শনাক্ত টপ ডাউন বিশ্লেষণের মূল লক্ষ্য\nপ্রোগ্রামিং সময় কোডকে ক্ষুদ্র ক্ষুদ্র ইন্সট্রাকশন গ্রুপে বিভক্ত\nগ্রুপসমূহকে মডিউল সাব প্রোগ্রাম সাব রুটিন\nমডুলার প্রোগ্রামিং টপ ডাউন বিশ্লেষণের ধারণা অনুযায়ী\nমডুলার প্রোগ্রামিং প্রোগ্রাম গো টু স্টেটমেন্ট জাম্প করাকে অবমূল্যায়ন গো টু ব্যবহারে প্রোগ্রামের প্রবাহ ট্রাস যায়\nস্ট্রাকচার প্রোগ্রামিং মডুলার ফরম্যাট প্রয়োগ গুরুত্ব\nটপ ডাউন বিশ্লেষণ রেফারেন্স স্ট্রাকচার কোডিং নির্বাহের ক্রম অনুযায়ী মডিউল সমূহকে ক্ষুদ্র ক্ষুদ্র ইউনিটে বিভক্ত\nস্ট্রাকচার প্রোগ্রামিং নিয়ন্ত্রণ কাঠামো প্রোগ্রামের প্রবাহ নিয়ন্ত্রণ\nস্ট্রাকচার কোডিং নির্দিষ্ট প্যাটার্নের নির্দেশ সংগঠিত নিয়ন্ত্রণ কাঠামো কন্ট্রোল স্ট্রাকচার\nফাংশনাল প্রোগ্রামিং প্রোগ্রামিং ভাষার স্টাইল গাণিতিক ফাংশনসমূহ ব্যবহারের ধারণা প্রদান\nগণিতের ফাংশন সময় আর্গুমেন্ট প্রাপ্তিতে ফলাফল প্রদান\nপ্রসিডিউরাল ভাষায় প্রোগ্রামের প্রবাহ প্রসিডিওর সমূহের নির্বাহ\nপ্রোগ্রামের নিয়ন্ত্রণ প্রোগ্রামে ট্রান্সফার\nনিয়ন্ত্রণ প্রবাহ এক প্রসিডিউর প্রসিডিউরে ট্রান্সফার প্রোগ্রাম অবস্থা পরিবর্তন\nপ্রসিডিউরাল প্রোগ্রামিং প্রসিডিউর কলড আর্গুমেন্ট ভিন্ন ভিন্ন ফলাফল প্রদান\nপ্রসিডিউরাল প্রোগ্রামিং প্রপার্টি প্রসিডিউর নির্বাহের ক্রম সময় গুরুত্বপূর্ণ\nফাংশনাল প্রোগ্রামিং গাণিতিক ফাংশন কম্পিউট প্রোগ্রামের অবস্থা অনুযায়ী ফলাফল প্রদান\nফাংশনাল প্রোগ্রামিং ব্যবহৃত কনসেপ্ট সমূহ ফাস্ট ক্লাস হাই অর্ডার ফাংশন পিউর ফাংশন রিকার্সন স্ট্রিক্ট ইভালুয়েশন ল্যামডা ক্যালকুলাস\nফাস্ট ক্লাস হাই অর্ডার ফাংশন গুলো ফাংশনকে আর্গুমেন্ট গ্রহণ ফলাফল ফাংশনও রিটার্ন\nপিউর ফাংশনগুলির সমস্যা সৃষ্টিকারী আপডেট\nIO মেমোরি প্রভাবিত এগুলো সহজেই প্রোগ্রামের সমস্যা সৃষ্টি প্রোগ্রাম সরানো যায়\nরিকার্সন প্রোগ্রামিং কৌশল ফাংশন নিজেকে কল নির্ধারিত শর্ত ম্যাচ হওয়া প্রোগ্রাম কোড পুনরাবৃত্তি\nফাংশনাল প্রোগ্রামিং লুপ তৈরি রিকার্সন ব্যবহৃত\nএক্সপ্রেসন আর্গুমেন্ট ফাংশনে পাস ব্যবহৃত পদ্ধতি স্ট্রিক্ট ইভালুয়েশন\nফাংশনাল প্রোগ্রামিং ধরণের মূল্যায়ন পদ্ধতি ব্যবহৃত\nফাংশনাল প্রোগ্রামিং ধরণের মূল্যায়ন পদ্ধতি স্ট্রিক্ট নন স্ট্রিক্ট\nস্ট্রিক্ট ইভালুয়েশন সময় ফাংশন ইনভোক ইভালুয়েট\nনন স্ট্রিক্ট এক্সপ্রেশন দরকার ইভালুয়েবল\nবেশিরভাগ ফাংশনাল প্রোগ্রামিং ভাষা ল্যামডা ক্যালকুলাসকে টাইপ সিস্টেম হিসেবে\nল্যামডা এক্সপ্রেশন গুলো সংঘটিত ইভালুয়েট নির্বাহ\nCommon Lisp Scala Haskell Erlang F ফাংশনাল ভাষায় উদাহরণ\nপ্রোগ্রামিং স্টাইল কোডিং নীতিসমূহের সেট যেগুলো প্রোগ্রামারগণ কোডে লেখার সময় অনুসরণ\nএকাধিক প্রোগ্রামার সফটওয়্যার প্রজেক্টে ডেভেলপার কর্তৃক লিখিত প্রোগ্রাম কোডে প্রয়োজন\nউপযুক্ত প্রোগ্রামিং স্টাইলের সংশ্লিষ্ট ফাংশন ভেরিয়েবলের নাম\nউপযুক্ত প্রোগ্রামিং স্টাইলের ওয়েল প্লেসড ইনডেনটেশন\nউপযুক্ত প্রোগ্রামিং স্টাইলের পাঠকদের উপযুক্ত মন্তব্য কোড\nউপযুক্ত প্রোগ্রামিং স্টাইলের সকল কোড উপস্থাপনা\nউপযুক্ত প্রোগ্রামিং স্টাইলের সকলে সহজে প্রোগ্রাম কোড পড়তে বুঝতে সহজে ডিবাগ ত্রুটি সংশোধন যায়\nএছাড়া যথাযথ কোড স্টাইল সহজে ডকুমেন্টেশন তৈরি আপডেট সুবিধা প্রদান\nকোডিং গাইডলাইনস গত দিক কোডিং স্টাইল প্রতিষ্ঠান অঅপারেটিং সিস্টেম কোডিং ভাষা অনুযায়ী ভিন্ন\nপ্রতিষ্ঠানের কোডিং গাইডলাইনের কোডিং উপাদানসমূহ নির্ধারণ\nনামকরণ সেকশন দেয় কিভাবে ভ্যারিয়েবল কনস্ট্যান্ট গ্লোবাল ভেরিয়েবল ফাংশনের নাম\nস্পেসকরণ লাইনের শুরুতে বামদিকে কতগুলো স্পেস দেয়\nসাধারণত এক্ষেত্রে হোয়াইট স্পেস সিংগেল ট্যাব\nহোয়াইট স্পেস সাধারণত লাইনের শেষে বাদ\nঅপারেটর গাণিতিক যৌক্তিক এসাইনমেন্ট অপারেটর সমূহ লেখার নীতি নির্ধারণ\nএসাইনমেন্ট অপারেটর উদাহরণ স্বরুপ এক্ষেত্রে চিহ্নের পূর্বে একটা স্পেস\nকন্ট্রোল স্ট্রাকচার ইফ এলসকেস সুইচ হোয়াইল আনটিল ফর কন্ট্রোল প্রবাহে একক নেস্টেড ফ্যাশনে লিখতে নীতিসমূহ অনুসরণ নির্ধারণ\nলাইনের দৈর্ঘ্য নির্ধারণ লাইনে কতগুলো ক্যারেক্টর নির্ধারণ\nসাধারণত লাইনে ক্যারেক্টার\nলাইন বড় কিভাবে wrapped wrapping নির্ধারণ\nফাংশন প্যারামিটার প্যারামিটার ছাড়া ফাংশন কিভাবে ডিক্লেয়ার ইনভোক নির্ধারণ\nধরনের ডাটা টাইপের ভেরিয়েবল কিভাবে ডিক্লেয়ার নির্ধারণ উল্লেখ\nকমেন্ট কোডিং উপাদানসমূহের গুরুত্বপূর্ণ উপাদান\nমন্তব্যের কোড সম্পাদন আরো সংশ্লিষ্ট অন্যান্য বিষয়সমূহের বর্ণনা\nকমেন্ট অন্যান্য ডেভেলপার দের সাহায্য কারী ডকুমেন্টেশন তৈরিতে সাহায্য\nসফটওয়্যার প্রক্রিয়ার গুরুত্বপূর্ণ অংশ সফটওয়্যার ডকুমেন্টেশন\nসফটওয়্যার প্রক্রিয়া সম্বন্ধে জানার সুন্দর তথ্যবহুল লিখিত ডকুমেন্ট ভালো টুল হিসেবে ব্যবহৃত\nসফটওয়্যার ডকুমেন্টেশন প্রোডাক্ট কিভাবে ব্যবহৃত বিষয়েও তথ্য প্রদান\nপ্রয়োজনীয় ডকুমেন্টেশন সফটওয়্যার ডিজাইনার ডেভেলপার টেস্ট টিম নিকট নিজ নিজ কার্যাদির key টুল\nপ্রয়োজনীয় ডকুমেন্ট সফটওয়্যারের সকল ফাংশনাল নন ফাংশনাল বিহেভিওরাল বর্ণনা ধারণ\nডকুমেন্টের উৎস সফটওয়্যার সম্পর্কে পূর্বে জমাকৃত ডাটাইতিমধ্যে ক্লায়েন্ট ইন্ডে সফটওয়্যার নির্বাহ ক্লায়েন্ট ইন্টারভিউ কোশ্চেনারিজ গবেষণা কর্ম\nডকুমেন্টেশন সফটওয়্যার তৈরি ভিত প্রধানত ভেরিফিকেশন ভেলিডেশন স্তর সমূহে ব্যবহৃত\nঅধিকাংশ টেস্ট কেস সরাসরি রিকয়ারমেন্ট ডকুমেন্টেশন তৈরি\nসফটওয়্যার ডিজাইন ডকুমেন্টেশনসমূহ সফটওয়্যার তৈরিতে সকল তথ্য দরকার সেগুলো ধারণ\nপ্রযুক্তি গত ডকুমেন্টেশনসমূহ ডেভেলপার কোডারদের মেইনটেইন\nপ্রযুক্তিগত ডকুমেন্টেশন সমূহ কোড সংক্রান্ত তথ্য উপস্থাপন\nকোড লেখার সময় প্রোগ্রামারগণ কোড উদ্দেশ্য কারা লিখছে কোথায় প্রয়োজন\nকিভাবে সম্পাদন অন্যান্য উৎসসমূহ কোড বিষয়ের তথ্য উল্লেখ\nপ্রযুক্তিগত ডকুমেন্টেশন তৈরিতে ধরনের স্বয়ংক্রিয় টুল পাওয়া যায়\nপ্রযুক্তিগত ডকুমেন্টেশন তৈরির টুল প্রোগ্রামিং ভাষার সাথেও আসে\nজাভা কোড টেকনিক্যাল ডকুমেন্টশন তৈরি জাভা জাভাডক টুল ব্যবহৃত\nইউজার ডকুমেন্টশনটি সফটওয়্যার প্রোডাক্টটি কিভাবে কাংখিত ফলাফল পেতে কিভাবে বিষয়ে ব্যাখ্যা\nইউজার ডকুমেন্টশন সমূহে সফটওয়্যার ইন্সটলেশন প্রসিডিউর সমূহ\nইউজার ডকুমেন্টশন সমূহে কিভাবে গাইড বিষয়ে তথ্যাদি ইউজার গাইড আন ইন্সটলেশন পদ্ধতি\nইউজার ডকুমেন্টশন সমূহে লাইসেন্স আপডেট জাতীয় তথ্যাদির রেফারেন্সসমূহ\nসফটওয়্যার প্রয়োগ ডেভেলপমেন্ট টিমকে চ্যালেঞ্জ মোকাবেলা\nবর্তমানে ব্যবহৃত কোডের ভাষাসমূহ অত্যন্ত সফিসটিকেটেড লাইব্রেরি ফাংশন\nতাছাড়া ইন্ড প্রোডাক্টটির খরচ কমাতে প্রতিষ্ঠানের ব্যবস্থাপনা কোড রি ইউজ করাকে গুরুত্ব দেয়\nরি ইউজকৃত কোড গুলো সফটওয়্যার পূর্বে তৈরি হয়েছিলো\nএক্ষেত্রে প্রোগ্রামারকে কমপ্যাটিবিলিটি চেক কোডের কতটুকু অংশ রি ইউজ বিষয়ে সিদ্ধান্ত গ্রহণে অনেকগুলো ইস্যু ফেস\nকাস্টমারকে সফটওয়্যার প্রদানের প্রতিকারই ডেভেলপারকে ভার্সন কনফিগারেশন সংক্রান্ত ডকুমেন্টেশন মেইনটেইন\nসফটওয়্যার প্রোগ্রাম তৈরি কাস্টমার ইন্ডের হোস্ট মেশিনে ইন্সটলেশনের বিষয়টি মাথায় ডিজাইন দরকার\nবর্তমান সময়ে শুধুমাত্র টার্গেট মেশিনে বিষয়টি বিবেচনা সফটওয়্যার ডিজাইন অসম্ভব ব্যাপার\nভার্সন কনফিগারেশন সংক্রান্ত ডকুমেন্টেশন অধিক মাত্রায় সঠিক প্রয়োজনীয় সময়ে পাওয়ার প্রয়োজন\nসফটওয়্যার ইঞ্জিনিয়ারিং সফটওয়্যার রক্ষনাবেক্ষন সফটওয়্যার প্রোডাক্ট বিতরণ ত্রুটিসমূহ নিরুপন দক্ষতা বৃদ্ধি অন্যান্য এট্রিবিউটসমূহের প্রয়োজনীয় সংশোধন\nরক্ষনাবেক্ষন ধারণা রক্ষনাবেক্ষন শুধুমাত্র ত্রুটি সংশোধনের সম্পর্কিত\nপ্রকৃতপক্ষে রক্ষনাবেক্ষন সিস্টেমের কার্যকারিতা বৃদ্ধি\nগবেষণায় যায় সফটওয়্যার প্রোডাক্ট রক্ষনাবেক্ষন ব্যবহৃত\nসফটওয়্যার রক্ষনাবেক্ষন প্রয়োজন মূলত বাজারের অবস্থা ক্লায়েন্ট চাহিদাসমূহ হোস্ট মডিফিকেশন প্রতিষ্ঠানের ব্যবসায়িক পরিবর্তন বিষয়সমূহের কারণে\nসফটওয়্যারের জীবন চক্রে সফটওয়্যারের প্রকৃতির ভিত্তি রক্ষনাবেক্ষন ধরন পরিবর্তিত\nকঠিন রক্ষনাবেক্ষন ইউজার কর্তৃক নির্ণয়কৃত বাগ\nরক্ষনাবেক্ষণের আকার প্রকৃতির ভিত্তি বড় ইভেন্টও\nসংশোধনমূলক রক্ষনাবেক্ষন ধরনের রক্ষনাবেক্ষণের সমস্যা চিহ্নিত করণ সংশোধন আপডেট\nসমস্যাগুলো ইউজার কর্তৃক আবিষ্কৃত ইউজার ত্রুটি প্রতিবেদন কনক্লুড\nআডাপ্টিভ রক্ষনাবেক্ষন টেকনোলজি ব্যবসায়িক পরিবেশ পরিবর্তনের কারণে সিস্টেম সংশোধন আপডেট সম্পর্কিত\nদীর্ঘদিন যাবত সফটওয়্যার ব্যবহারের এটির কর্মদক্ষতা কমে যায় যুগোপযোগী কার্যাদি সম্পাদন\nসফটওয়্যারটি যুগোপযোগী সফটওয়্যারটিতে ফিচার যুক্ত করণ ইউজারের চাহিদা মোতাবেক আধুনিকিকরণ বিশ্বস্ততা দক্ষতা বৃদ্ধি কার্যাদি সম্পাদনে প্রয়োজনীয় সংশোধন আপডেট প্রয়োজন\nপ্রিভেনটিভ রক্ষনাবেক্ষন ভবিষ্যতে সম্ভাব্য সমস্যাসমূহ দূর সফটওয়্যারের প্রয়োজনীয় সংশোধন আপডেট কার্য সম্পাদন এটির উদ্দেশ্য সমস্যাগুলোর বর্তমানে প্রভাব ভবিষ্যতে মারাত্মক সমস্যা ঘটাতে সেগুলো চিহ্নিত প্রয়োজনীয় সংশোধন আপডেটের ব্যবস্থা\nগবেষণায় সফটওয়্যার রক্ষনাবেক্ষনের খরচ সম্পূর্ণ সফটওয়্যার প্রসেস সাইকেলের\nগড়ে সফটওয়্যার রক্ষনাবেক্ষনের খরচ SDLC সকল ফেজ খরচ বৃদ্ধির পিছনে গুলো ফ্যাক্টর\nসফটওয়্যারের রক্ষনাবেক্ষন খরচ বৃদ্ধির বাস্তবভিত্তিক ফ্যাক্টর সফটওয়্যারের স্টান্ডার্ড বয়স বছরের\nসফটওয়্যারের রক্ষনাবেক্ষন খরচ বৃদ্ধির বাস্তবভিত্তিক ফ্যাক্টর পুরাতন সফটওয়্যার যেগুলো কম মেমোরি কম স্টোরেজ ধীর গতির মেশিনে করত সেগুলোর আগত সফটওয়্যার আধুনিক হার্ডওয়্যারের চ্যালেঞ্জ ক্ষমতা\nসফটওয়্যারের রক্ষনাবেক্ষন খরচ বৃদ্ধির বাস্তবভিত্তিক ফ্যাক্টর টেকনোলজির উন্নয়নের পুরাতন সফটওয়্যার মেইনটেইন ব্যয়বহুল\nসফটওয়্যারের রক্ষনাবেক্ষন খরচ বৃদ্ধির বাস্তবভিত্তিক ফ্যাক্টর অধিকাংশ মেইনটিন্যান্স ইঞ্জিনিয়ারগণ ট্রায়াল এন্ড ইরর মেথড সমস্যা রেকটিফাই\nসফটওয়্যারের রক্ষনাবেক্ষন খরচ বৃদ্ধির বাস্তবভিত্তিক ফ্যাক্টর যেকোন ধরনের পরিবর্তন সাধারণত মূল কাঠামোতে আঘাত হানে পরিবর্তন সিস্টেমকে জটিল দেয়\nসফটওয়্যারের রক্ষনাবেক্ষন খরচ বৃদ্ধির বাস্তবভিত্তিক ফ্যাক্টর প্রায়শ পরিবর্তনসমূহে নথিভুক্ত ভবিষ্যতে সাংগঠিক\nপ্রোগ্রামিং অন্যান্য ফ্যাক্টর কারণে সসফটওয়্যারের রক্ষনাবেক্ষন খরচ বৃদ্ধি পায় সেগুলো সফটওয়্যার প্রোগ্রামের গঠন প্রোগ্রামিং ভাষা বাহ্যিক পরিবেশ নির্ভরতা স্টাফ নির্ভরযোগ্যতা বিশ্বস্ততা\nIEEE পর্যায়ক্রমিক বাস্তবায়ন প্রক্রিয়ার কার্যকলাপসমূহ উপস্থাপনের ফ্রেমওয়ার্ক প্রদান\nফ্রেমওয়ার্ক পুনরাবৃত্তি মূলক ব্যবস্থায় কাস্টমাইজ আইটেম প্রক্রিয়াসমূহ যুক্ত বর্ধিত\nসফটওয়্যার রক্ষনাবেক্ষনের ক্রিয়াকলাপ সমূহের ফেস গুলো সনাক্তকরণ ট্রেসিং বিশ্লেষণ ডিজাইন প্রয়োগ বাস্তবায়ন সিস্টেম যাচাইকরণ স্বীকৃতি যাচাইকরণ বিতরণরক্ষনাবেক্ষন ব্যবস্থাপনা\nসনাক্তকরণ টেস্টিং ধাপে সংশোধন রক্ষনাবেক্ষণের প্রয়োজনীয়তা সম্পর্কিত কার্যক্রম জড়িত ইউজার কর্তৃক তৈরি সিস্টেম লগ ত্রুটি বার্তা রিপোর্ট\nসনাক্তকরণ টেস্টিং ধাপে রক্ষনাবেক্ষন টাইপ শ্রেণীবদ্ধও\nবিশ্লেষণ ধাপে প্রয়োজনীয় পরিবর্তন সংশোধনের সিস্টেমের নিরাপত্তা সংশ্লিষ্ট অন্যান্য বিষয়াদিতে কেমন প্রভাব পড়বে বিশ্লেষণ\nপরিবর্তন সিস্টেমে সমস্যা মেমোরিতে প্রক্রিয়া অবলম্বন\n",
          "output_type": "stream"
        }
      ]
    },
    {
      "cell_type": "code",
      "source": [
        "# Split the data into training, validation, and testing sets\n",
        "train_data, test_data = train_test_split(data, test_size=0.2, random_state=42)\n",
        "val_data, test_data = train_test_split(test_data, test_size=0.5, random_state=42)\n",
        "\n",
        "# Print the shapes of the resulting datasets\n",
        "print(\"Training data shape:\", train_data.shape)\n",
        "print(\"Validation data shape:\", val_data.shape)\n",
        "print(\"Testing data shape:\", test_data.shape)"
      ],
      "metadata": {
        "execution": {
          "iopub.status.busy": "2024-05-20T16:00:52.327651Z",
          "iopub.execute_input": "2024-05-20T16:00:52.328524Z",
          "iopub.status.idle": "2024-05-20T16:00:52.339253Z",
          "shell.execute_reply.started": "2024-05-20T16:00:52.328488Z",
          "shell.execute_reply": "2024-05-20T16:00:52.338178Z"
        },
        "trusted": true,
        "id": "hIRMMvppV9jX",
        "outputId": "bd73d0b2-e848-4b40-a3f4-e1402d2c2ec9"
      },
      "execution_count": null,
      "outputs": [
        {
          "name": "stdout",
          "text": "Training data shape: (5840, 3)\nValidation data shape: (730, 3)\nTesting data shape: (730, 3)\n",
          "output_type": "stream"
        }
      ]
    },
    {
      "cell_type": "code",
      "source": [
        "train_data['enc_label'] = train_data['label'].replace({'Software Engineering':0, 'DBMS':1, 'Data Communication':2 ,'Cyber Security':3,\n",
        " 'Operating System':4})\n",
        "val_data['enc_label'] = val_data['label'].replace({'Software Engineering':0, 'DBMS':1, 'Data Communication':2 ,'Cyber Security':3,\n",
        " 'Operating System':4})"
      ],
      "metadata": {
        "execution": {
          "iopub.status.busy": "2024-05-20T16:00:54.822284Z",
          "iopub.execute_input": "2024-05-20T16:00:54.82305Z",
          "iopub.status.idle": "2024-05-20T16:00:54.837522Z",
          "shell.execute_reply.started": "2024-05-20T16:00:54.823013Z",
          "shell.execute_reply": "2024-05-20T16:00:54.836463Z"
        },
        "trusted": true,
        "id": "mKbpsnTCV9jX"
      },
      "execution_count": null,
      "outputs": []
    },
    {
      "cell_type": "code",
      "source": [
        "train_data['cleaned'].tolist()"
      ],
      "metadata": {
        "execution": {
          "iopub.status.busy": "2024-05-20T16:00:58.000337Z",
          "iopub.execute_input": "2024-05-20T16:00:58.001035Z",
          "iopub.status.idle": "2024-05-20T16:00:58.033059Z",
          "shell.execute_reply.started": "2024-05-20T16:00:58.000995Z",
          "shell.execute_reply": "2024-05-20T16:00:58.031972Z"
        },
        "trusted": true,
        "id": "N5x_Gx-VV9jX",
        "outputId": "50d3bdbf-cfd8-40ff-fea5-69c2bc433ea7"
      },
      "execution_count": null,
      "outputs": [
        {
          "execution_count": 20,
          "output_type": "execute_result",
          "data": {
            "text/plain": "['টপ ডাউন ডিজাইনে সংখ্যক বৈশিষ্ট্য ভিত্তিতে এটিকে একাধিক সাব সিস্টেম উপাদানে ডিকম্পোজ',\n 'সফ্টওয়্যার প্রকল্পের শুরুতে ব্যবসার প্রয়োজন প্রায়ই কথোপকথনের অংশ অনানুষ্ঠানিকভাবে প্রকাশ',\n 'অপারেটিং সিস্টেমের অন্তর্গত system programসমূহকে ক্যাটাগরিতে ভাগ যায়',\n 'Accelerometer মোবাইল ডিভাইসকে গ্রাউন্ডের সাপেক্ষে ওরিয়েন্টেশন ডিটেক্ট অন্যান্য নির্দিষ্ট ফোর্সসমূহকে ডিটেক্ট',\n 'perfect testing সবচেয়ে কাংখিত মেথড Exhaustive test',\n 'তৃতীয়ত অপারেটিং সিস্টেম সিস্টেমের সকল উপাদান Components সংযোগ রক্ষা',\n 'সফটওয়্যার ভেলিডেশন প্রক্রিয়া ইউজারের চাহিদা মোতাবেক সফটওয়্যারটি তৈরি হয়েছে পরীক্ষনের ব্যবহৃত',\n 'সফ্টওয়্যার ডিজাইনের ল্যান্ডমার্ক পেপারে প্রতিটি মডিউলের স্বাধীনতাকে উন্নত কৌশলগুলিকে পরিমার্জন ইঙ্গিত',\n 'Tape Diskএর গতি বাইট',\n 'ট্রোজান হর্স এক ধরনের ক্ষতিকর Program Software ইন্টারনেট অ্যাক্টিভিটিস ডেটা নেটওয়ার্কের ক্ষতি কম্পিউটার সিস্টেমের সুরক্ষা বিঘ্নিত',\n 'ফার্স্ট ফিট পদ্ধতিতে প্রসেস পর্যাপ্ত সাইজের ফ্রি পার্টিশন পাবে সেখানেই প্রসেসটি লোড',\n 'Multiprocessor systemএর খরচ Multiple single processorএর খরচের তুলনায় কম',\n 'কেন্দ্রীভূত ক্লায়েন্টসার্ভার ডাটাবেস সিস্টেমগুলি ধরনের অ্যাপ্লিকেশনগুলি পরিচালনা শক্তিশালী',\n 'ছাড়াও ফ্ল্যাশ টেকনোলজির ফ্ল্যাশ ফিশিং অ্যান্টি ফিশিং পদ্ধতিগুলোকে ধোকা',\n 'Nonpreemptive resourceএর Deadlock সৃষ্টি',\n 'Process Shared memory Message passingএর পরস্পর যোগাযোগ রক্ষা',\n 'ফ্রন্টএন্ড ব্যাকএন্ড ডাটাবেস অন্যান্য অ্যাপ্লিকেশন প্রোগ্রাম ইন্টারফেস',\n 'আজকের কম্পিউটিং পরিবেশে স্পেসিফিকেশনগুলি মুহূর্তের নোটিশে পরিবর্তিত হার্ডওয়্যার প্ল্যাটফর্মগুলি মাস পুরানো অপ্রচলিত সফ্টওয়্যার জীবনকাল সাধারণত বছরের পরিবর্তে মাসে পরিমাপ',\n 'সফটওয়্যারের প্রোগ্রাম ফাইল প্রসিডিওরসমূহ কিভাবে সংঘটিত ভুলে যায় প্রোগ্রাম শেয়ার ডিবাগ প্রোগ্রাম মডিফিকেশনের কার্যাদি কঠিন হয়ে যায়',\n 'সিগন্যাল ট্রান্সমিট মডেম কিছুর প্রয়োজন অর্থাৎ সরাসরি ট্রান্সমিট যায় বেসব্যান্ড',\n 'উচ্চ প্রাপ্যতা নিশ্চিত প্রতিলিপি অন্যান্য কৌশলগুলি সমান্তরাল বিতরণকৃত উভয় ডেটাবেসে বাস্তবায়নের বিবরণ ভিন্ন',\n 'জিনিসটির স্কেচ তৈরি করুন বড় ছবি বুঝতে পারবেন স্থাপত্যগতভাবে কেমন',\n 'অবস্থায় UNIX প্রসেস রান Time sharing সিডিউলিং হতো',\n 'সমগ্র সমাবেশকে ঘিরে কন্ডাক্টিভ লেয়ার টিউবুলার শিল্ড',\n 'এছাড়াও কারণসমূহের ফায়ারওয়াল প্রয়োজন',\n 'ইন্টিগ্রেশন টেস্টিং সফটওয়্যারের সকল ইউনিট পৃথক পৃথক সঠিকভাবে কার্যাদি সম্পাদন করলেও এগুলো ইন্টিগ্রেটেড অবস্থায় ত্রুটিমুক্ত কিনা জানার প্রয়োজন',\n 'David Bhom Nikki Halcy মতে কম্পিউটার প্রযুক্তি ব্যবহারের অপরাধ সংঘটন করাকে সাইবার ক্রাইম অপরাধ',\n 'চটপটে অভিযোজিত সমস্যা প্রকল্প দল সাংগঠনিক সংস্কৃতিতে',\n 'সময় আর্থিক সাশ্রয় সিস্টেমের বিশ্বস্ততা Reliability নিরাপত্তা Security সঞ্চয় মাধ্যআিাদামদকে নিশ্চিত হার্ডওয়্যার রিসোর্সসমূহ শেয়ারিং একাদিক কম্পিউটারের তথ্য কারো আদান প্রদান কম্পিউটার নেটওয়ার্কের মৌলিক উদ্দেশ্য',\n 'অধ্যায়টি স্ট্রিম সাইফারের ভূমিকা',\n 'সফ্টওয়্যার বিকাশের পণ্যের শ্রোতা সম্ভাব্যভাবে বড়',\n 'সফ্টওয়্যার সেফহোম পণ্য লাইন তৈরি ভাঙবে',\n 'অপারেশন ট্র্যানজ্যাকশনকে ছোট ছোট ট্র্যানজ্যাকশনে বিভক্ত প্যারালালী প্রসেসিংএ থ্রোপুট রেসপন্স টাইম বৃদ্ধি পায় Improve',\n 'Memory Rateএ Data Printerকে Delivery দিবে Printer Rateএ Receive Print',\n 'সফ্টওয়্যার সম্পর্কে উদ্বেগের প্রকাশ কীভাবে উদ্বেগ তৈরি সফ্টওয়্যার ইঞ্জিনিয়ারিং অনুশীলন গ্রহণের পরিচালিত',\n 'ডিস্ট্রিবিউটেড সিস্টেম ফিজিক্যাল আলাদা বিভিন্নধর্মী কম্পিউটার সিস্টেমসমূহের সংগ্রহ নেটওয়ার্কে ইউজারসমূহকে সিস্টেমে মেইনটেইনকৃত রিসোর্স অ্যাকসেস দেয়',\n 'ডাটাবেস সিস্টেম অনেকগুলো নোডের সমন্বয়ে তৈরি প্রত্যেকটি নোড আলাদা আলাদা লোকাল ডাটাবেস সিস্টেমকে মেইনটেইন ডাটাবেস সিস্টেমকে ডিস্ট্রিবিউটেড ডাটাবেস সিস্টেম',\n 'স্ট্রিক্ট ইভালুয়েশন সময় ফাংশন ইনভোক ইভালুয়েট',\n 'কৌশলটি তুলনামূলকভাবে সস্তা সুবিধা প্রয়োগ করুন স্যাটেলাইটে ভারী ট্রাফিক লোডিং থাকলে স্যাটেলাইট সংঘর্ষকারী প্যাকেটের পরিপূর্ণ সংঘর্ষগুলি কেবল এড়ানো ট্রান্সমিশন বন্ধ প্রয়োজনীয় র্যান্ডম বিলম্ব বৃদ্ধি পুনঃপ্রচার',\n 'স্তরযুক্ত পদ্ধতির প্রধান সুবিধা নির্মাণের সরলতা ডিবাগিং',\n 'সমস্যা সমাধান প্রথমে হার্ডড্রাইভটিতে কম্পিউটারের লাগিয়ে চেক',\n 'প্রথমেই হ্যাশিং একটু যাক',\n 'ধরনের ডাটাবেজ সিস্টেমে নেটওয়ার্ক তৈরি তুলনামূলক কম খরচ পড়ে',\n 'নেটওয়ার্কের বাইর দেখেই ফিজিক্যাল টপোলজি',\n 'নেটওয়ার্কে অপারেটিং সিস্টেমের কম্পিউটার থাকতে',\n 'অর্থাৎ মূল সিগন্যালের পাওয়ার অনাকাঙ্খিত সিগন্যালের Noise পাওয়ারএর অনুপাতকে বুঝায়',\n 'স্ট্রং উইক এনটিটি সেটের পার্থক্য রয়েছে',\n 'কাজের গুরুত্ব অনুধাবনকারী বাক্তিদের প্রজেক্ট টিম গঠন প্রয়োজনীয় সহযোগিতা আস্থা অতি জরুরী',\n 'কাপলিং কম প্রোগ্রাম ভালো',\n 'কম্পিউটার সিস্টেম প্রসেসের ভিত্তি কতটি প্রসেস একসাথে রান নির্ধারিত',\n 'ইথিক্যাল হ্যাকিং প্রত্যেকটি সিস্টেমকে খতিয়ে ম্যালিসিয়াস হ্যাকিংএর সিস্টেমটিতে অ্যাটাক চালানো সমস্যা খুজে পেলে কোম্পানি সরকার সমস্যাটি সম্পর্কে জানিয়ে দেয়া দ্রুত সম্ভব ফিক্স',\n 'ভেলিডেশন সুবিধা সফটওয়্যার প্রোডাক্টটি ইউজারের চাহিদা মোতাবেক তৈরি কিনা নিশ্চিত',\n 'Normalization Database বড় বড় Table ছোট ছোট Table বিভক্ত',\n 'Protection system callsএর ব্যবহারকারীকে রিসোর্স অনুমতি দেয়া Allow অনুমতি দেয়া Deny',\n 'কমেন্ট অন্যান্য ডেভেলপার দের সাহায্য কারী ডকুমেন্টেশন তৈরিতে সাহায্য',\n 'Compilationএ Error থাকলে Object code তৈরি Program নির্বাহও',\n 'প্রতিটি স্যাটেলাইটকে সিঙ্ক্রোনাস কক্ষপথের অবস্থান ফ্রিকোয়েন্সি ব্যান্ড নির্ধারণ',\n 'সফটওয়্যার ডিজাইন প্রক্রিয়া ইউজার চাহিদাকে উপযোগী ফরমে পরিবর্তন ব্যবহৃত',\n 'ধরনের রিলেশনশিপ ডাটাবেসে বহুল ব্যবহৃত',\n 'Offer simple error handling যতদূর সম্ভব সিস্টেম এমনভাবে ডিজাইন দরকার ইউজার মারাত্মক ভুল',\n 'কম্পিউটার নেটওয়ার্ক সুরক্ষা শক্তিশালী অনুপ্রবেশ পরীক্ষা সঞ্চালনের হ্যাকিং প্রয়োজনীয়',\n 'PAN Personal area network তৈরি ফোন হ্যান্ডসেটের স্মার্টফোন ডেস্কটপ কম্পিউটারের',\n 'ডিগ্রী গ্রাহক অন্যান্য স্টেকহোল্ডাররা প্রকল্পের জড়িত',\n 'ডাটাবেস প্রকার অবজেক্ট এনটিটি বৈশিষ্ট্য মধ্যকার রিলেশনসমূহের ম্যাপ চিত্রই লজিক্যাল স্কীমা',\n 'ম্যালওয়্যারের প্রকার',\n 'ডাটাবেস মডিফিকেশনের সময় রেফারেন্সিয়াল ইন্টিগ্রিটি ভঙ্গ ব্যবস্থা',\n 'এপ্লিকেশন প্রোগ্রামার গ্রপের ব্যবহারকারীগন সফটওয়্যার ডাটাবেজের ডিজাইন লেভেল সম্পর্কে ওয়াকিবহাল',\n 'এক্ষেত্রে হ্যাকারকে সল্ট কোথায় যোগ হয়েছে সল্টিং অক্ষরটি অক্ষর যোগ হয়েছে',\n 'রেডিও কমিউনিকেশন সাধারণত কয়েকশত কিলোমিটার Data transmit',\n 'গঠনে সর্বোচ্চ bit প্রসেসর সমর্থন',\n 'ডিজাইনের সময় সিদ্ধান্তগুলি নেন শেষ সফ্টওয়্যার নির্মাণের সাফল্যকে প্রভাবিত গুরুত্বপূর্ণ সফ্টওয়্যারটি বজায় সহজ',\n 'Limited স্ট্রাকচার অপারেটিং সিস্টেম Original UNIX অপারেটিং সিস্টেম',\n 'রেডিও কমিউনিকেশনের রেডিও ওয়েভের ব্যবহৃত সিগন্যালের রেঞ্জ কিলো হার্জ গিগা হার্জ',\n 'Multiprogramming সম্ভব systemএর throughput বৃদ্ধি পায়',\n 'SRS ডিজাইন সংক্রান্ত বিষয়াদি সিডোকোডের লিখিত আকারে বর্ণিত',\n 'সফ্টওয়্যার ইঞ্জিনিয়ারিংয়ের প্রসঙ্গে প্রক্রিয়া কম্পিউটার সফ্টওয়্যার কীভাবে তৈরি কঠোর প্রেসক্রিপশন অভিযোজিত পদ্ধতি ব্যক্তিদের সফ্টওয়্যার দল কর্ম কাজের উপযুক্ত সেট বাছাই বেছে সক্ষম উদ্দেশ্য সবসময় সফ্টওয়্যারটি সময়মত পর্যাপ্ত মানের সরবরাহ এটির স্পনসর সন্তুষ্ট',\n 'এভাবে প্রোগ্রামকে মেইন মেমোরি সেকেন্ডারি মেমোরির স্থানান্তর প্রক্রিয়াকে সোয়াপিং',\n 'পদ্ধতিটি গঠন কার্নেল অপ্রয়োজনীয় উপাদানগুলি সরিয়ে অপারেটিং সিস্টেম সিস্টেম ব্যবহারকারীস্তরের প্রোগ্রাম বাস্তবায়ন',\n 'মূলত ইউজার ইন্টারফেস আলোচনা হয়েছে',\n 'ম্যালওয়ার কম্পিউটার সিস্টেমের ক্ষতিকারক প্রোগ্রাম ব্যবহারকারীদের অনুমতি ছাড়া পরিকল্পিত নেটওয়ার্কের যায়গায় আঘাত তথ্য ডাটা হাতিয়ে নেয় চুরি কম্পিউটারের ক্ষতি',\n 'মানে প্রদত্ত ব্লকের যেকোনো প্লেইনটেক্সট বিটের এনক্রিপশন নির্ভর ব্লকের প্রতিটি প্লেইনটেক্সট বিটে',\n 'ক্রিপ্টোগ্রাফি প্রায়শই সুরক্ষিত সিস্টেম তৈরির গুরুত্বপূর্ণ হাতিয়ার অন্যদিকে সুরক্ষিত সিস্টেম ডিজাইন অন্যান্য দিককে অন্তর্ভুক্ত',\n 'ফিজিক্যালি ড্যামেজ ফাইল রিকভার সবচেয়ে উত্তম উপায় ড্রাইভটি রিকভারি বিশেষজ্ঞ রিকভারি প্রতিষ্ঠান রিকভার করিয়ে নেয়া',\n 'গুরুত্বপূর্ণ বিষয় ডিলিট ফাইলটির সাইজ ফাইলটি স্থায়ীভাবে ডিলিট হয়ে সেক্ষেত্রে ফাইলটি রিকভারি অনেকটাই কঠিন হয়ে পড়ে',\n 'রেফারেন্সিয়াল ইন্ট্রিগিটির Primary key যেটি অবস্থান Master মেইন টেবিলে অন্যটি Foreign key annex সংযোজিত টেবিলে অবস্থান',\n 'কম্পিউটারে ফাইল থাকলে নেটওয়ার্কের অন্যান কম্পিউটারের শেয়ার দিলে সহজেই অন্যান্য কম্পিউটার পারবে',\n 'পূর্বে বরাদ্দকৃত অথরাইজেশনকে বাতিলের revoke স্টেটমেন্টটি ব্যবহৃত',\n 'ডিভাইস ম্যানেজমেন্ট System callsএর প্রসেসের প্রয়োজন অনুযায়ী logically ডিভাইসকে attach detach',\n 'ওয়েবমোবাইল অ্যাপ্লিকেশন নেটওয়ার্ককেন্দ্রিক সফ্টওয়্যার বিভাগটি অ্যাপ্লিকেশনগুলির বিস্তৃত অ্যারেকে বিস্তৃত ব্রাউজারভিত্তিক অ্যাপ্লিকেশন ক্লাউড কম্পিউটিং পরিষেবাভিত্তিক কম্পিউটিং মোবাইল ডিভাইসে সফ্টওয়্যারগুলিকে অন্তর্ভুক্ত',\n 'সমাধান উপস্থাপন কার্যকরী বাস্তবায়নের পরিচালিত নকশা মডেল তৈরি',\n 'আগের smartphoneএর Physical keyboard হতো বর্তমানে touchscreenএর উপরই keyboard',\n 'এনটিটি রিলেশনশিপ মডেল ডাটাবেজ এক ধরনের মডেল এনটিটি সম্পর্কের বিষয় আলোচনা',\n 'ইন্টিগ্রেশন ধাপে সফটওয়্যারকে অন্যান্য প্রোগ্রাম যুক্ত',\n 'শেয়ারড মিডিয়াম হাব কনফিগারেশনে কেন্দ্রীয় হাব',\n 'উইন্ডো ফাইল স্ট্রাকচার উপস্থাপন অ্যাপ্লিকেশনের কনটেন্টসমূহ লিস্ট আইকন আকারে প্রদর্শন',\n 'রেডিও ওয়েভ আলোর বেগে অর্থাৎ msec বেগে ভ্রমণ',\n 'ডেটা ফাইলে ছড়িয়ে ছিটিয়ে ফাইলগুলি ফরম্যাটে উপযুক্ত ডেটা পুনরুদ্ধার অ্যাপ্লিকেশন প্রোগ্রাম লেখা কঠিন',\n 'সিগন্যাল প্রসেসরে এডিসি উত্স সরবরাহ ইনপুট সংকেত কোডিং',\n 'এছাড়াও আলাদা ডেডিকেটেড ফায়ারওয়াল ডিভাইস বাজারে কিনতে পাওয়া যায়',\n 'ওয়েব অ্যাপ্লিকেশনগুলির কোড ডেটা ম্যানুয়ালি ওয়েব সার্ভারে সরানো রও ইমেজ পুশ',\n 'Multiplexer সংক্ষেপে Mux',\n 'অপারেটিং সিস্টেম খোলা ফাইল লক সুবিধা প্রদান',\n 'OOP Object Oriented Programming সাধারণত ইনহেরিটেন্স অবজেক্ট আইডেন্টিটি ইনক্যাপসুলেশন ইত্যাদির Object Interfacing অনুমোদন',\n 'সবচেয়ে সহজ ডিরেক্টরি কাঠামো এককস্তরের ডিরেক্টরি',\n 'কারণে কম্পিউটার অন্যান্য ইলেকট্রনিক যন্ত্রের ন্যায় যেকোন সময় failure নষ্ট',\n 'সাইবার সিকিউরিটি ডেটা নিরাপত্তার সাইবার থ্রেড Pushing Baiting Data breach',\n 'কম্পিউটারের দৃষ্টিকোণ অপারেটিং সিস্টেম প্রোগ্রাম হার্ডওয়্যারের সবচেয়ে ঘনিষ্ঠভাবে জড়িত',\n 'ক্লায়েন্টসার্ভার নেটওয়ার্ক দামি শক্তিশালী রিসোর্স সকল ইউজার সমভাবে',\n 'রিসিভিং টার্মিনালে স্টেশনের ট্রান্সমিশনের আপকনভার্ট ফ্রিকুয়েন্সি fতে রূপান্তর',\n 'রাউটার এটিও বিবেচনায় আনে ডেটা প্যাকেট ট্রান্সমিশনের রুট খরচ পড়বে',\n 'সম্পদের মান সময়ের পরিবর্তিত ক্ষতির মাত্রা হুমকির তীব্রতা পরিবর্তনও',\n 'প্রয়োজনীয় তথ্যাদি সংগ্রহঃ তথ্য যাচাই ফলাফল গ্রহণযোগ্য প্রতিষ্ঠানের এনালিস্ট প্রকৌশলীগণ ক্লায়েন্ট ইন্ড ইউজারদের যোগাযোগ স্থাপন কাংঙ্গিত চাহিদা বৈশিষ্ট্য সফটওয়্যারে যুক্ত চায় বিষয়ে অবহিত',\n 'সোশ্যাল ইঞ্জিনিয়ারিং এক ধরনের মনোবৈজ্ঞানিক কৌশল অত্যন্ত চতুরতার ভিকটিমের গুরুত্বপূর্ণ তথ্য বের আনা',\n 'কম্পিউটার সিস্টেমে শূন্য ফাইল সিস্টেম ফাইল সিস্টেম থাকতে ধরনের',\n 'উচ্চ ফ্রিকুয়েন্সি বিশিষ্ট ক্যারিয়ারের অ্যামপ্লিচিউড ফ্রিকুয়েন্সি ফেজ অ্যাঙ্গেলকে মডুল্যাটিং সিগন্যালের তাৎক্ষণিক মান অডিও সিগন্যাল অনুযায়ী পরিবর্তন প্রক্রিয়াকে মড্যুলেশন',\n 'সফটওয়্যার ভেরিফিকেশন ইরর ফল্ট ফেইলিউর পরীক্ষা',\n 'Terminated Processএ Stateএ execution শেষ',\n 'নথিভুক্ত HIPO ডায়াগ্রাম প্রয়োজনীয় টুল',\n 'উদাহরণস্বরূপ লোন loan পেমেন্ট payment নামক দুইটি এনটিটি সেটের কথা যাক এক্ষেত্রে পেমেন্ট এনটিটি সেটটি লোনের বিপরীত পেমেন্ট সংক্রান্ত তথ্য সংরক্ষণ পেমেন্ট এনটিটি সেটকে Payment number payment date paymentamount বর্ণনা দুইটি এনটিটি সেটের One to many রিলেশনশিপ লোন পেমেন্টের লোনপেমেন্ট তৈরি প্রতিটি পেমেন্ট এনটিটি অবশ্যই লোন এনটিটির এসোসিয়েটেড লোন এনটিটি মুছে ফেলা পেমেন্ট এনটিটিগুলো অবশ্যই মুছে পেমেন্ট এনটিটিগুলো মুহলে লোন এনটিটি সেটের ঘটবে উদাহরণে লোন ডোমিনেন্ট পেমেন্ট সাবর্ডিনেট এনটিটি',\n 'যোগাযোগ ব্যবস্থায় প্রাপ্ত তরঙ্গরূপ সাধারণত পছন্দসই অংশে শ্রেণীবদ্ধ তথ্য বহিরাগত অবাঞ্ছিত অংশ ধারণকারী',\n 'মিডিয়া এক্সেস কন্ট্রোল এড্রেসটি নেটওয়ার্ক এডাপ্টার প্রস্তুত প্রোডাক্টে স্থাপন দেয় তাদেরকে সহজে চিহ্নিত যায়',\n 'একমাত্র ফরেনসিক প্লাটফর্ম মাল্টিকোর কম্পিউটার গুলোতে স্বাচ্ছন্দ্যে চলতে',\n 'অপারেশন সম্পন্ন সময়ই রেসপন্স টাইম Response time',\n 'সাধারণত ডিস্ক স্টোরেজ Disk Storage ডাইরেক্ট অ্যাক্সেস স্টোরেজ Direct Access Storage',\n 'যেকোনো সফটওয়্যার ডিজাইন সাধারণত তিনটি স্তর মেনে চলতে',\n 'DES সুবিধা ডিক্রিপশন মূলত এনক্রিপশনের ফাংশন',\n 'কয়েকশত বছর পূর্বে মানুষ প্রয়োজনে তৈরি করেছিল Calculator',\n 'প্যারালাল ডাটাবেস সিস্টেমে কুয়েরীর Query বিপুল সংখ্যক ডাটা প্রয়োজনীয় ডাটা অতিদ্রুত রিট্রিভ যায়',\n 'অপারেটিংসিস্টেম কার্নেল ডিবাগিং জটিল কার্নেলের আকার জটিলতা হার্ডওয়্যার নিয়ন্ত্রণ ব্যবহারকারীস্তরের ডিবাগিং টুলের অভাব',\n 'মাল্টিপ্লেক্সিংএর ব্যান্ড উইথ দক্ষতা অনেকটা বৃদ্ধি যায়',\n 'ডিজিটাল নিরাপত্তা আইন ধারায় হয়েছে ব্যক্তি অফিশিয়াল সিক্রেট অ্যাক্ট আওতাভুক্ত অপরাধ কম্পিউটার ডিজিটাল ডিভাইস কম্পিউটার নেটওয়ার্ক ডিজিটাল নেটওয়ার্ক ডিজিটাল সংঘঠন সহায়তা সর্বোচ্চ বছরের কারাদণ্ড লাখ টাকা জরিমানা উভয় দণ্ডে দণ্ডিত',\n 'ধরনের একাধিক স্ট্রাকচারের সমন্বয়ে তৈরি অপারেটিং সিস্টেমকে হাইব্রিড সিস্টেম',\n 'মানি লন্ডারিং অবৈধ কালো অর্থকে লেনদেন চক্রের বৈধ স্বচ্ছতাদান প্রক্রিয়া',\n 'প্রাপ্ত তথ্যাদি এনালিস্টগণ বিশ্লেষণ পছন্দ সিস্টেম অপারেশন বিকাশের সম্ভাব্যতা যাচাই',\n 'অপরাধীর বিরুদ্ধে আইনগত ব্যবস্থা গ্রহণে জটিলতার কারণে সাইবার অপরাধ সংগঠিত',\n 'ট্যাবড ডকুমেন্ট ইন্টারফেস TDI একাধিক ডকুমেন্টকে উইন্ডোতে ওপেন ব্যবহৃত',\n 'সুপারকিতে বহিরাগত বৈশিষ্ট্য থাকতে',\n 'উইন্ডোজ ফায়ারওয়াল সবসময় মনিটর আউটগোয়িং ট্র্যাফিক ইনকামিং ট্রাফিক উৎস কোথায় আইপি অ্যাড্রেস বিশ্বস্ত কিনা',\n 'পৃথক সফটওয়্যার ছাড়াই অন্যান্য পিসির তথ্যাদি আদানপ্রদান ধরনের সফট্ওয়্যারকে নেটওয়ার্ক অপারেটিং সিস্টেম নস NOSNetwork Operating System',\n 'মডুলেশনের ওয়্যারলেস কমিউনিকেশন অর্থাৎ ছাড়া সিগন্যাল ট্রান্সমিট সম্ভব',\n 'ফ্রিকুয়েন্সি ডিভিশন মাল্টিপ্লেক্সিং অ্যানালগ কৌশল',\n 'গৃহীত ডাটা সহজে ক্যারেকটার নির্ণয় যায়',\n 'লাউড স্পিকার শব্দে রূপান্তরিত',\n 'মোটের কম্পিউটার আইডল সময় কমে যায়',\n 'অ্যালগরিদমকে হ্যাশিং হ্যাশ ফাংশন',\n 'ধরনের ত্রুটি লেনদেন ব্যর্থ',\n 'ডাটা স্থানান্তর উৎস গন্তব্যের দিক বোঝানোর তীর চিহ্ন তিরের মাথাটি গন্তব্যের নির্দেশিত',\n 'ব্যবসার প্রয়োজনীয়তা বাস্তবায়নের সফটওয়্যারটি অবশ্যই উন্নত',\n 'পদ্ধতি ধারণ অনুক্রমিক অভিবৃদ্ধিপূর্ণ আধুনিক সফটওয়্যার উন্নতির প্রয়োজনীয় বিবর্তনশীল অনুভূতি সরবরাহ',\n 'Flycocesnal efficical কেয়ারিং ব্যবহৃত ফাইন গ্রেইনড ইন্সট্যান্স',\n 'ছাড়া এনক্রিপশনের কৌশল নাম নিম্নে',\n 'Node Compatibility অর্থাৎ Incompatible',\n 'প্রোগ্রামার শুধুমাত্র কাজগুলোই যেগুলো ব্যবস্থাপক তাদেরকে সম্পাদনের নির্দেশ প্রদান',\n 'কারণে কম্পিউটার নিরাপত্তার আধার নিয়ন্ত্রিত অ্যাক্সেস কার্যক্রিয়া অনুমোদিত',\n 'কাজগুলো মেমরি ম্যানেজমেন্ট কর্তৃক সম্পাদিত',\n 'প্রকার ম্যাপিং কারডিনালিটির Aএর এনটিটি সর্বোচ্চ Bএর এনটিটির এসোসিয়েটেড এনটিটি সর্বোচ্চ Aএর এনটিটির এসোসিয়েটেড',\n 'বিশ্বস্ত তৃতীয় পক্ষ কোডের ডিজিটাল স্বাক্ষর সংযুক্ত সাপেক্ষে বিশ্বাসী কোড নির্দেশ ধারণা',\n 'প্রক্রিয়া কার্যকর প্রোগ্রাম চিন্তা',\n 'ফাংশনাল প্রোগ্রামিং লুপ তৈরি রিকার্সন ব্যবহৃত',\n 'ডিভাইস কন্ট্রোলার এরপর নির্ণয় রেজিস্টারগুলোর কন্টেন্টগুলোকে পরীক্ষা',\n 'স্ট্রং এনটিটি সেটকে সিংগেল আয়তক্ষেত্রের উপস্থাপন',\n 'Named pipe তৈরি একাধিক প্রসেস যোগাযোগের',\n 'বাস্তব হুমকির নেতিবাচক পরিণতি ক্ষতি',\n 'ধরনের Attack সম্পূর্ণভাবে Web Application Target',\n 'এমনকি কখনো MSDOS shell',\n 'অপারেটিং সিস্টেম কর্তৃক ব্যবহারকারীর User মেমরির বরাদ্দকৃত অংশকে ডাইনামিক্যালি বিভক্ত মেমোরি ম্যানেজমেন্ট',\n 'ক্যারিয়ার ওয়েভের অ্যামপ্লিচিউড সিগন্যাল ওয়েভের তাৎক্ষণিক মান অনুসারে পরিবর্তন অ্যামপ্লিচিউড মড্যুলেশন Amplitude modulation সংক্ষেপে AM',\n 'রিলেশনাল ডাটাবেস টেবিলের সংগ্রহ গঠিত প্রতিটি বরাদ্দ অনন্য নাম',\n 'আধুনিক ডাটাবেস ইঞ্জিনগুলি সমান্তরাল ডেটা স্টোরেজ সমান্তরাল ক্যোয়ারী প্রক্রিয়াকরণে মনোযোগ',\n 'নামকরণ সেকশন দেয় কিভাবে ভ্যারিয়েবল কনস্ট্যান্ট গ্লোবাল ভেরিয়েবল ফাংশনের নাম',\n 'কম্পিউটার কম্পিউটার সিস্টেম কম্পিউটার নেটওয়ার্কে বৈধ ক্ষমতাপ্রাপ্ত ব্যক্তিকে উপায়ে প্রবেশ বাধা সৃষ্টি বাধা সৃষ্টির',\n 'ডাটাবেস মানেই ডাটার সমাহার অর্থাৎ প্রকার ডাটার সংগ্রহশালা',\n 'স্ট্যাটিক রাউটিং নেটওয়ার্ক এডমিনিস্ট্রেটর নেটওয়ার্ক সেগমেন্টগুলোর পথ রাউটিং কনফিগার',\n 'সফটওয়্যার বিকাশের ধাপসমূহ সিস্টেম আপডেট করন',\n 'কথায় নির্দিষ্ট আর্থ স্টেশন বিস্ফোরণটি আসতে স্যাটেলাইটে স্টেশনের নির্ধারিত সঠিক সময়ের স্লটে সংকেত অন্যান্য আর্থ স্টেশন আসা বিস্ফোরণগুলিতে হস্তক্ষেপ সংলগ্ন সময় নির্ধারিত স্লট',\n 'সঠিক টেস্টকেস ব্যবহৃত হয়েছে কিনা বিষয়ে টেস্টারকে নিশ্চিত',\n 'অনেকগুলো Job একত্রে Input দেয়ার Priority Jobএর গুরুত্ব বুঝে execute ব্যবস্থা Setup যায় গুরুত্বপূর্ণ Program complete সময় লাগে',\n 'উক্ত যেহেতু Job to job switching computer কাজেই পূর্ববর্তী System অপেক্ষা সময় অপচয় কমে যায় সর্বশেষে Output হিসেবে Punch card Line printer Print copy তৈরি',\n 'ছাড়াও DBMSএ ডাটাবেস ম্যানেজার গুরুত্বপূর্ণ সম্পাদন',\n 'এটিএমের পিন নম্বর জেনে প্রতারণা',\n 'স্যাটেলাইট কমিউনিকেশন সিস্টেমের সবচেয়ে কাঙ্খিত ফ্রিকোয়েন্সি ব্যান্ড আপলিংকে GHz আর্থটুস্যাটেলাইট ট্রান্সমিশন ডাউনলিংকে GHz স্যাটেলাইটটুআর্থ ট্রান্সমিশন',\n 'প্যাকেট অ্যাক্সেস রিজেক্টএর অ্যাডমিনিস্ট্রেটর ইচ্ছেমতো নিয়মকানুন নির্ধারণ ডিফল্ট রুলগুলো সেট',\n 'সফ্টওয়্যার সিস্টেম বিকাশের উচ্চ স্তরের পুনঃব্যবহার যুক্তিযুক্তভাবে সবচেয়ে কঠিন লক্ষ্য কোড ডিজাইনের পুনঃব্যবহারকে অবজেক্টওরিয়েন্টেড প্রযুক্তি ব্যবহারের প্রধান সুবিধা ঘোষণা যাইহোক বিনিয়োগের রিটার্ন স্বয়ংক্রিয় পুনঃব্যবহারের পরিকল্পনা খরচ কমায় পুনঃব্যবহারযোগ্য উপাদান সেগুলি সিস্টেমে অন্তর্ভুক্ত উভয়ের মান বৃদ্ধি',\n 'কমপ্লিট পূর্ণাঙ্গ ফিজিক্যাল ডাটা মডেলে নির্দিষ্ট পারফরমেন্স অর্জন যায়',\n 'পদ্ধতিগুলিকে চ্যানেল কোডিং হিসাবেও শ্রেণীবদ্ধ এগুলি চ্যানেলের শব্দের কারণে ত্রুটিগুলি সংশোধন ব্যবহৃত',\n 'ডেফিনেশন সেট লিখে অরিজিনাল ডাটাবেস স্কীমা তৈরি',\n 'Database ছোট হওয়ার কারণে Computer Storage Device জায়গা কম ব্যবহৃত এজন্যে DBMS খরচ কমে যায়',\n 'মজার বিষয় হার্ডওয়্যারে পারমুটেশন সহজেই প্রয়োগ সফ্টওয়্যারে দ্রুত',\n 'অন্যান্য নীতি এটিকে সমর্থন',\n 'এজাইল দলে সফটওয়্যার ইঞ্জিনিয়ার অন্যান্য প্রকল্পের অংশগ্রহণকারী পরিচালকগণ গ্রাহকগণ শেষ ব্যবহারকারীগণ একসাথে',\n 'দ্রষ্টব্য করুন সময়মান ভুলযোগ্যতা নিরাপত্তা পদক্ষেপ বাধাগ্রস্ত চিত্র কেবলমাত্র গ্রাহকটি চিনতে পারবে ফ্যাক্টর প্রমাণীকরণ',\n 'ফাইবার অপটিক্যাল ক্যাবল প্রকার সিস্টেমের প্রয়োজনীয় কাঁচামাল সহজলভ্য',\n 'নেইভ ইউজার সমগ্র ডাটাবেসের শুধুমাত্র ভিউ লেভেল',\n 'নেটওয়ার্কে ব্রিজ পরই সক্রিয় ম্যাক অ্যাড্রেসসমূহের তালিকা নেয় অ্যাড্রেস তালিকা লাগিয়ে ডেস্টিনেশন কম্পিউটারে ডেটা প্যাকেটগুলো পাঠিয়ে দেয়',\n 'দুইটি প্রধান টপোলজি টাপোলজি বাস টপোলজিং রিং',\n 'কম্পিউটারের কীবোর্ড সিস্টেম ইউনিটে সিস্টেম ইউনিট মনিটরে সিমপ্লেক্স ডাটা ট্রান্সমিশনের উদাহরণ',\n 'বৃহত্তর অর্থে রেজিস্টার প্রধান মেমরি চৌম্বকীয় ডিস্কগুলির সমন্বয়ে স্টোরেজ কাঠামোটি বর্ণনা করেছি অনেকগুলির সম্ভাব্য স্টোরেজ সিস্টেম',\n 'Multiplexer ডিভাইস ডাটাকে Compress',\n 'পদ্ধতিতে একাধিক জব টাস্ক প্রতিটির মেমোরিতে জায়গা নির্দিষ্ট',\n 'কাস্টমারের নাম থাকলে Customername অ্যাট্রিবিউটের ভ্যালু নাল',\n 'চারটি শর্তে সিস্টেমে ডেডলক ঘটতে',\n 'জেনে ব্যান্ডউইডথ ডেটা ট্রান্সমিশন গতি কেবিপিএস নিচে নেমে আসে',\n 'Twisted pair cable ধরনের হয়ে',\n 'ক্রিয়াকলাপ রাখতে চাই ব্যবহারকারীকে ফাইলের স্থিতি নির্ধারণ ফাইলের দৈর্ঘ্য ফাইলের মালিকের ফাইলের বৈশিষ্ট্যগুলি সেট',\n 'যেহেতু Group আকারে Solution তৈরি কাজেই Groupএর Jobএর সমস্যার সকল Jobকে অপেক্ষা হয়ফলে সকলের Output পেতে দেরি',\n 'সিস্টেমের একাধিক প্রসেস কম্পিউটার Networkএর সংযুক্ত যোগাযোগ রক্ষা প্রয়োজন',\n 'কাজের GUIএর চেয়ে কমান্ডলাইনে কম কমান্ড প্রয়োজন',\n 'টেস্টিং ডকুমেন্ট পর্যায়ে তৈরি',\n 'কমান্ড ইন্টারপ্রেটার কমান্ডসমূহ বুঝতে কেবলমাত্র ফাইল মেমরিতে লোড Execute বুঝতে',\n 'DBMS উদ্দেশ্য ইন্টিগ্রিটি সমস্যা দূরীকরণ',\n 'প্রোগ্রামগুলোর command রয়েছে ফাইলের contents খুঁজা search Text transformations',\n 'কম্পিউটার প্রোগ্রামগুলো এক্সিকিউশনের মেইন মেমরিতে প্রসেসর সরাসরি অ্যাক্সেস',\n 'ডাটা পাঠানোর প্রেরক গ্রাহকের সর্বাধিক কার্যোপযোগী পথ খুজে বের প্রয়োজন',\n 'স্টোরেজ মিডিয়ামের ধারণ ক্ষমতা সর্বাধিক হয়ে',\n 'অপারেটিং সিস্টেম সবসময় সিস্টেমইমপ্লিমেন্টেশনে লেখা ভাষা উচ্চস্তরের ভাষায়',\n 'হ্যাকিং শব্দটির প্রচলন কখন',\n 'দীর্ঘ দূরত্বের টেলিকমিউনিকেশনে নেটওয়ার্কের Cband ডমিন্যান্ট ব্যান্ড',\n 'ডাটাবেস মূলত প্রতিষ্ঠানের নির্দিষ্ট বিষয়ের তথ্য ধারণ',\n 'সাইবার নিরাপত্তা সংস্থার তথ্য সুরক্ষা প্রযুক্তিকে অননুমোদিত আইসিটি ডিজিটাল অ্যাক্সেস রক্ষা',\n 'এসাইনমেন্ট অপারেটর উদাহরণ স্বরুপ এক্ষেত্রে চিহ্নের পূর্বে একটা স্পেস',\n 'অনলাইন নিরাপত্তার পদক্ষেপ নেয়া জরুরী',\n 'ডিজাইন প্যাটার্নসমূহ সময় পরিবর্তনের উন্নয়ন দেখানো',\n 'ডি এফ ডি স্তর কন্টেক্স স্তর ডিএফডি',\n 'মাইক্রোওয়েভ সাধারণত পৃথিবীর বক্রতার নিচু',\n 'অব্যবহৃত ফ্রাগমেন্টেশন সংখ্যা বৃদ্ধি পায়',\n 'ভাষা প্রকাশিত সংজ্ঞাগুলির সেট ডাটাবেস স্কিমা নির্দিষ্ট এটিকে ডেটা সংজ্ঞা ভাষা',\n 'সফটওয়্যার ডিজাইন প্রক্রিয়ায় প্রত্যেক ফাংশন এরপর বিশদভাবে বর্ণনা',\n 'SDLC যোগাযোগ ধাপে ইউজার সার্ভিস প্রদানকারী কর্তৃপক্ষের নিকট প্রয়োজনীয় কথা লিখিত আকারে প্রদান মোতাবেক সফটওয়্যার তৈরির অনুরোধ জানায়',\n 'ডিস্ট্রিবিউটেড ডাটাবেস সিস্টেম পরিচালনার খরচ পড়ে যায়',\n 'সিস্টেম বিশ্লেষণ ধাপে লার্নিং সিস্টেমটির সম্পর্কিত সমস্যাসমূহ বিদ্যমান সিস্টেম সমস্যাসমূহ ক্লায়েন্টকে প্রদানের পূর্বেই পরিবর্তন করণ',\n 'ড্রাইভটির অপারেটিং সিস্টেম করাপ্টেড সহজেই বাকি ডাটাগুলো কপি নেয়া যায়',\n 'শেয়ারড মিডিয়াম হাবকে সুইচিং হাবে রূপান্তরের সংযুক্ত ডিভাইস স্টেশনগুলোর সফটওয়্যার হার্ডওয়্যারের পরিবর্তন আনার প্রয়োজন',\n 'রি ইউজকৃত কোড গুলো সফটওয়্যার পূর্বে তৈরি হয়েছিলো',\n 'ডাটাবেস অ্যাপ্লিকেশনগুলির বেশিরভাগ ব্যবহারকারীর ব্যবহারের মোড উল্লেখ করেছি',\n 'রেডিও কমিউনিকেশনে ট্রান্সমিটার প্রেরিক সিগন্যাল কিলোমিটার দূরে',\n 'বার্তা প্রমাণীকরণ কোড MAC ক্রিপ্টোগ্রাফিক চেকসাম নামেও পরিচিত কীড হ্যাশ ফাংশন অনুশীলনে ব্যাপকভাবে ব্যবহৃত',\n 'আজকাল পাতলা মেটালিক ফয়েল Foil শিল্ডও ব্যবহৃত',\n 'অ্যালগরিদমের একমাত্র অরৈখিক উপাদান বিভ্রান্তি প্রদান',\n 'হ্যাকার কাকে',\n 'সফটওয়্যার পাইরেসি বুঝায় অবৈধভাবে সফটওয়্যার প্রোগ্রাম কপি পুনরুৎপাদন ডিস্ট্রিবিউট অবৈধভাবে ইন্টারনেট ডাউনলোড নামে বিতরন প্রকার পরিবর্তনের নামে চালিয়ে দেয়া কার্যক্রমকে বুঝায়',\n 'ফাইল রিসোর্স অনাকাঙ্খিত ব্যবহারকারীর হাত সুরক্ষিত নেটওয়ার্কে নিরাপত্তা গোপনীয়তা অক্ষুন্ন',\n 'Becond Normal Form NF Relational Database System অপর গুরুত্বপূর্ণ Normalization বৈশিষ্ট্য',\n 'এক্ষেত্রে প্রোগ্রাম নির্বাহ প্রোগ্রাম নির্বাহের প্রস্তুত',\n 'অক্ষের অন্তঃমুখীভাবে বক্রতাপ্রাপ্ত',\n 'ইব্যাংকিং ব্যবহারের একাধিক হিসাবের অর্থ স্থানান্তর',\n 'পূর্ণ সফটওয়্যার তৈরি সহায়তাকারী গবেষণার প্রয়োজনীয় সংগ্রহ',\n 'এজন্য প্রোগ্রামারকে ওভারলেয়িং পদ্ধতির ব্যস্ত থাকতে',\n 'অপারেশন রক্ষণাবেক্ষণ সফটওয়্যারটি কাস্টমারের মেশিনে সঠিকভাবে কিনা পরীক্ষা',\n 'ডাটা রিডান্ডেন্সী সমস্যার কারনে ইনকনসিসটেন্সি সমস্যাও',\n 'পারমাণবিকতা স্থায়িত্ব বৈশিষ্ট্যগুলি নিশ্চিত ডাটাবেস সিস্টেমেরই দায়িত্ব বিশেষত পুনরুদ্ধার ব্যবস্থাপকের',\n 'টিসিপি আইপি ভিত্তিক নেটওয়ার্কের রাউটার গেটওয়ে অর্থে',\n 'ক্ষতি রক্ষা নিরপেক্ষ হুমকি দুর্বলতা বন্ধ উভয়',\n 'স্কীমা অবজেক্টে ডিস্কের ফিজিক্যাল ফাইলে onetoone করেস্পন্ডিংএ ডাটা ইনফরমেশন জমা',\n 'সফটওয়্যার ব্যাপকভাবে গৃহীত তখনই সফটওয়্যারটি সহজ মৌলিক ইউজার ইন্টারফেস',\n 'তারে সাধারণত ½ কিলোমিটার রিপিটার',\n 'চ্যানেলে সক্রিয় পরিবর্ধক ডিভাইস থাকতে টেলিফোন সিস্টেমে রিপিটার স্পেস কমিউনিকেশন সিস্টেমে স্যাটেলাইট ট্রান্সপন্ডার',\n 'সাইবার নিরাপত্তার নিশ্চিত প্রকার ডিভাইস ডাটার অপব্যবহার',\n 'ফায়ারওয়াল কিভাবে ব্যাখ্যা কর',\n 'বিচ্ছিন্ন ত্রুটিগুলি ডিকোডারের কোডেড ডেটা পাস সংশোধন',\n 'কেননা প্রশাসনিক কারিগরি দক্ষতার ডাটাবেস ম্যানেজমেন্টের সার্বিক সাফল্য নির্ভরশীল',\n 'হ্যাকাররা সিস্টেম হ্যাক সিস্টেমের গঠন কার্যপ্রণালি সিস্টেমটি কিভাবে সকল তথ্য সম্পর্কে অভিজ্ঞ',\n 'ভার্সন কনফিগারেশন সংক্রান্ত ডকুমেন্টেশন অধিক মাত্রায় সঠিক প্রয়োজনীয় সময়ে পাওয়ার প্রয়োজন',\n 'অ্যাপ্লিকেশন প্রোগ্রাম লিখার উচ্চ স্তরের ভাষা ব্যবহারের সকল সুবিধা রয়েছে অর্থাৎ অপারেটিং সিস্টেম বাস্তবায়নের ক্ষেত্রেও সুবিধা পাওয়া যায়',\n 'অকার্য সাইটের ডাটা সাইট সংগ্রহ সম্ভব',\n 'উইন্ডোজ ভিত্তিক নস যথাযথভাবে কনফিগার অন্যান্য ননউইন্ডোজ অপারেটিং সিস্টেম ম্যাকওএস ইউনিক্স লিনাক্সের সহজেই যোগাযোগ কমিউনিকেট যায়',\n 'কারো ছবি সুপারইমপোজ ছড়ানো',\n 'ইন্টারাপ্ট কম্পিউটার আর্কিটেকচারের গুরুত্বপূর্ণ অংশ',\n 'প্রথাগতভাবে স্ট্রিম সাইফারগুলি ব্লক সাইফারের তুলনায় দক্ষতার এনক্রিপ্ট প্রবণতা রাখে',\n 'Programmer Punch cardএর বৈশিষ্ট্য অনুযায়ী Program create করত Data Control information Program punch Computerএর উপযোগী হতো',\n 'সম্প্রসারণ এসবক্স স্থানচ্যুতি P সৃষ্ট প্রসারণ গ্যারান্টি পঞ্চম রাউন্ডের শেষে প্রতিটি বিট প্রতিটি প্লেইনটেক্সট বিট প্রতিটি বিটের ফাংশন',\n 'ফাইবার অপটিক ক্যাবলে পুরোপুরি অ্যাটেনুয়েশনমুক্ত',\n 'ওয়ার্মস প্রোগ্রাম নিজেদেরকে কপি পারার সিস্টেম স্লো হয়ে যায়',\n 'Batch mode operating systemএ অনেকগুলো Job stack আকারে Computerএ প্রবেশ করানো',\n 'ক্যোয়ারী প্রসেসর গুরুত্বপূর্ণ ডাটাবেস সিস্টেমকে সহজ সাহায্য তথ্য অ্যাক্সেস সহজতর',\n 'ফায়ারওয়াল কম্পিউটার সিস্টেমের সুরক্ষা প্রদান',\n 'ধারার উদ্দেশ্যপূরণকল্পে ডিজিটাল ইলেকট্রনিক জালিয়াতি অর্থ ব্যক্তি কর্তৃক অধিকারে প্রদত্ত অধিকারের অতিরিক্ত অনধিকার চর্চার কম্পিউটার ডিজিটাল ডিভাইসের ইনপুট আউটপুট প্রস্তুত পরিবর্তন মুছিয়া ফেলা লুকাইবার অশুদ্ধ ডাটা প্রোগ্রাম তথ্য ভ্রান্ত কার্য তথ্য সিস্টেম কম্পিউটার ডিজিটাল নেটওয়ার্ক পরিচালনা',\n 'ট্রান্সমিশন মিডিয়ার বৈশিষ্ট্য Characteristics of Transmission Media প্রতিটি Transmission Media ক্ষেত্রেই নিজস্ব বৈশিষ্ট্য বিদ্যমান অন্যদের আলাদা তোলে',\n 'রিকয়ারমেন্ট ইঞ্জিনিয়ারিং লক্ষ্য সুন্দর সিস্টেমের সফটওয়্যার ডেভেলপ রিকয়ারমেন্ট সমূহের প্রয়োজন সেগুলো বর্ণনা কয়রা স্পেসিফিকেশন নথি Document তৈরি সংরক্ষণ',\n 'Operating system program প্রোগ্রাম ব্যবহারকারীদের সুনির্দিষ্ট সার্ভিস প্রদান',\n 'উপরন্তু প্রতিটি ফাইলকে অপারেটিং সিস্টেম সমর্থিত ফাইল প্রকারের সংজ্ঞায়িত প্রয়োজন',\n 'বিদ্বেষপরায়ণতা প্রসৃত ডাটার ক্ষতি ব্যাকআপ সিস্টেম পরিত্রাণের ব্যবস্থা',\n 'প্রেরক প্রান্তে কয়েকশত টেলিফোন চ্যানেল এবংঅথবা টেলিভিশন চ্যানেলকে MHz বেসব্যান্ড ব্যান্ডপাসের ফ্রিকুয়েন্সি মাল্টিপ্লেক্সড ইনপুট গঠন',\n 'দ্রুত ডাটা কানেকশন হোম কম্পিউটারগুলোকে ওয়েভ পেজ প্রিন্টার ক্লায়েন্ট পিসি সার্ভারযুক্ত নেটওয়ার্ক রান সুযোগ দিয়েছে',\n 'একজন কম্পিউটার ফরেনসিক এক্সপার্টকে ধরনের ফরেনসিক সফটওয়্যার এপ্লিকেশনের দক্ষ',\n 'ইব্যাংকিং ব্যবহারের চেক পেমেন্ট বাতিল',\n 'কমিউনিকেশন প্রক্রিয়ায় ধরনের Cable সংযোগ ছাড়াই এক স্থান স্থানে এক কম্পিউটার কম্পিউটারে মেসেজ ডাটা ট্রান্সমিট যায় Wireless Communication',\n 'এক ধরনের অপারেটিং সিস্টেমের সার্ভিসের ধরনের অপারেটিং সিস্টেমের পার্থক্য রয়েছে',\n 'ট্র্যাপ সফটওয়্যার জেনারেটেড ইন্টারাপ্ট Error user প্রোগ্রাম নির্দিষ্ট্র রিকুয়েস্ট ধারা',\n 'অপরপক্ষে Multiple core সিস্টেমে threadsগুলো parallel রান',\n 'একমাত্র অসুবিধা প্রত্যেক User threadsএর Kernel threads তৈরি',\n 'ম্যাক্রো ভাইরাস Microsoft word Microsoft Excel জাতীয় software গুলোতে হামলা',\n 'নেটওয়ার্কভুক্ত কম্পিউটার কারণে অকেজো হয়ে কম্পিউটার দিয়ে উক্ত কম্পিউটারের যায়',\n 'ম্যানইনদিব্রাউজার আক্রমণ ক্ষতিগ্রস্ত কোডের উদাহরণ যেটি ব্রাউজার ইনফেক্ট',\n 'ফাংশন ওরিয়েন্টেড ডিজাইন সাব সিস্টেম গুলোকে ফাংশন',\n 'আরো রকমের স্ক্যাম রয়েছে ফিশিং অকশন ফ্রড ডার্ক প্যাটার্ন ক্যাটফিশ কোল্ড কল স্ক্যাম চেইন মেইল স্ক্যাম অনলাইন সার্ভে স্ক্যাম',\n 'স্কিল প্র্যাকটিস হ্যাকার রা হ্যাকিং',\n 'সার্ভিস ট্রান্সমিশনের বরাদ্দকৃত ফ্রিকুয়েন্সি রেঞ্জকে নির্দেশ চ্যানেল শব্দটিকে প্রায়ই',\n 'পারসোনাল কম্পিউটারকে পরস্পরের সংযুক্ত অপারেট যায়',\n 'ভেলিডেশন প্রতিষ্ঠানের লক্ষ্য ইউজারের চাহিদা পূরণের সবসময় গুরুত্ব আরোপ',\n 'সফটওয়্যারের ত্রুটি ডেভেলপারদের তৈরি প্রকৃত কোডিং ভুলসমূহ',\n 'সুপারকি এক একাধিক বৈশিষ্ট্যের সেট সম্মিলিতভাবে সম্পর্কের টাপলকে অনন্যভাবে সনাক্ত',\n 'প্রত্যেক Deviceএর নিজস্ব Device queue রয়েছে',\n 'নেটওয়ার্ক ইউজাররা এনটি সার্ভারের নভেল নেটওয়্যার অপারেটিং সিস্টেম বিশিষ্ট সার্ভারের ফাইল প্রিন্ট রিসোর্স পারবে',\n 'বিবর্ধিত অডিও সিগন্যাল ক্যারিয়ার ওয়েভ উভয়ে মডুলেটরে প্রয়োগ',\n 'একক সময়ে অধিক পরিমাণ শেষ সম্ভব Throaughput বৃদ্ধি পায়',\n 'ফিজিক্যাল লেআউট বোঝানো হয়েছে কম্পিউটার প্রিন্টারের অবস্থান ক্যাবল তারগুলো এদেরকে সংযুক্ত কীভাবে বিন্যস্ত হয়েছে বিষয়টি',\n 'অবজেক্ট অরিয়েন্টের ডিজাইনে ব্যবহৃত গুরুত্বপূর্ণ টার্মসমূহ অবজেক্ট ক্লাসসমূহ এনক্যাপসুলেশন ইনহেরিটেন্স পলিমরফিজম',\n 'কিনা চুল বিভক্ত চাই ধরনের আক্রমণ নির্দেশিত হয়যে সফ্টওয়্যার পণ্যের দিকেঅথবা এলোমেলোভাবে যেকোনো ব্যবহারকারীর বিরুদ্ধে পণ্যের বিন্দু শব্দার্থিক পরিপূর্ণতা আক্রমণ রক্ষা',\n 'একাধিক স্ট্রাকচারের সমন্বয়ে তৈরি Performance বৃদ্ধি পায় অধিক Security নিশ্চিত usability বৃদ্ধি পায়',\n 'জেনারেল পারপাস কম্পিউটার সিস্টেম কতকগুলো সিপিইউ সংখ্যক ডিভাইস কন্ট্রোলারের সমন্বয়ে গঠিত যেগুলো কমন বাসের সংযুক্ত',\n 'মেগাহার্টজের হার্টজের সিগন্যাল ionosphere প্রতিফলিত অতিক্রম সুযোগও সিগন্যাল সরাসরি অত্যন্ত দ্রুত গতিতে ট্রান্সমিট হয়ে যায়',\n 'সিস্টেম এনালিস্ট দায়িত্ব ম্যানেজমেন্টের প্রয়োজনীয় পরিকল্পনা তৈরি প্রয়োগ',\n 'জটিল GUI অধিক দক্ষতা নির্ভুলতা গতির',\n 'অবজেক্ট বেসড লজিক্যাল মডেলস মডেল মূল পার্থক্য এদেরকে ডাটাবেস সমগ্র লজিক্যাল কাঠামো Overall logical structureকে সুস্পষ্ট Specify বাস্তবায়ন Implementation উচ্চতর স্তর Higher level বর্ণনা সরবরাহ জন্যে',\n 'এক কথায় DBMS ডাটাবেস তৈরি একসেস রক্ষণাবেক্ষণের যাবতীয় কার্যাবলি সম্পাদন',\n 'অপটিক্যাল ফাইবার ক্যাবল মধ্য দিয়ে কপার তারের চেয়ে তথ্য পাঠানো সম্ভব',\n 'রক্ষনাবেক্ষণের আকার প্রকৃতির ভিত্তি বড় ইভেন্টও',\n 'অ্যাপ্লিকেশন নিজস্ব গ্রাহক Customer তৈরি উইন্ডোসমূহ',\n 'Traffic controllerএ Process পরিবর্তনের অবস্থা পর্যবেক্ষণের কৌশল Technique মেকানিজম',\n 'প্যারালাল ডাটাবেস সিস্টেমে কুয়েরি প্রসেসিং অত্যন্ত কম সময়ের প্রয়োজন',\n 'রিকয়ারমেন্ট Elicitation পদ্ধতি ক্লায়েন্ট ইন্ড ইউজার সিস্টেম ইউজার সফটওয়্যার সিস্টেম বিকাশে অংশীদারিত্ব রয়েছে যোগাযোগ স্থাপনের সিস্টেম রিকয়ারমেন্টসমূহ খুঁজে বের সাহায্য',\n 'অননুমোদিতভাবে ডাটা মডিফাই',\n 'স্ট্রাকচার কোডিং নির্দিষ্ট প্যাটার্নের নির্দেশ সংগঠিত নিয়ন্ত্রণ কাঠামো কন্ট্রোল স্ট্রাকচার',\n 'ডিফল্ট সিমেট্রিক সাইফার আজকাল প্রায়শই AES উপরন্তু চারটি AES ফাইনালিস্ট সাইফার সবগুলোই নিরাপদ দক্ষ',\n 'অর্থাৎ ব্যয়বহুল স্টোরেজ মিডিয়াম Storage Medium',\n 'ডাটাবেসের শ্রেণীবদ্ধ ডাটাবেস ব্যবহারকারী ডাটাবেস প্রশাসক হিসেবে',\n 'ট্রান্সপোর্ট লেয়ার সিকিউরিটি TLS স্কিম প্রতিটি ওয়েব ব্রাউজারে ব্যবহৃত ক্রিপ্টোগ্রাফিক প্রোটোকলের উদাহরণ',\n 'একজোড়া Processes নেটওয়ার্কের যোগাযোগ তৈরি Processএর সকেটের প্রয়োজন',\n 'DDOS এটিকে ভাষায় Cyber Attack যেটির মূল উদ্দেশ্য ওয়েব সার্ভার Down পরিষেবা বন্ধ',\n 'উদাহরণস্বরূপ নির্দিষ্ট সিস্টেম অননুমোদিত ডেটা পরিবর্তনের দুর্বল সিস্টেম ডেটা অ্যাক্সেস অনুমোদন ব্যবহারকারীর পরিচয় যাচাই',\n 'আজকাল সিভিলিয়ন সিস্টেম Civilian system জনগণ ইনফরমেশন কমিউনিকেশন সময় ইনক্রিপশন পদ্ধতি',\n 'একজন ব্ল্যাক হ্যাট হ্যাকার সবসময় নেটওয়র্কে অনধিকার প্রবেশের খারাপ উদ্দেশ্য',\n 'ট্রিতে পেরেন্টের অসীম সংখ্যক চিলড্রেন থাকতে',\n 'অপারেটিং সিস্টেম ফাইলের ধরন চিনতে পরিচালনা যুক্তিসঙ্গত উপায়ে ফাইলে',\n 'হাইব্রিড স্কিম উল্লেখ',\n 'প্রতিটি গ্রুপকে রিসিভ রিসিভারকে পৃথক পৃথক স্যাম্পল ব্লক তৈরি',\n 'আইপি এড্রেস গড়ে উঠে বত্রিশ বিট',\n 'দুর্বল সিগন্যালের শক্তি বৃদ্ধি মাইক্রোফোনের আউটপুটকে মাল্টিস্টেজ অডিও অ্যামপ্লিফায়ারে প্রয়োগ',\n 'এক্ষেত্রে লিঙ্ককে পয়েন্টার হিসেবে দেখানো',\n 'রেড হ্যাট হ্যাকাররা বিশ্বের হুমকি',\n 'প্রতিস্থাপন সাইফারের জনপ্রিয় কেস সিজার সাইফারযা জুলিয়াস সিজার সেনাবাহিনীর যোগাযোগের',\n 'Multiprocessor systemএর গুরুত্ব বৃদ্ধি পাচ্ছে',\n 'কম্পিউটার নিরাপত্তা কম্পিউটার কম্পিউটার সিস্টেমের মূল্যবান জিনিসগুলির সুরক্ষা কম্পিউটার কম্পিউটার সিস্টেমের সম্পত্তি',\n 'সময় হয়তো ড্রাইভটির কন্ট্রোলার বোর্ড হেড ড্যামেজ হয়এই অবস্থায় এগুলোকে পরিবর্তন ড্রাইভটি রিপেয়ার',\n 'মাধ্যমের সাহাযো কমিউনিকেশন নেটওয়ার্ক সম্পাদন',\n 'Scheduler Policy machanismএর সমন্বয় OS কর্তৃক algorithm',\n 'অনলাইন নিরাপত্তার একজন ব্যবহারকারী সমস্যার সম্মুখীন বর্ণনা কর',\n 'রেডিও ফ্রিকুয়েন্সি স্টেজের সাহায্যে ক্যারিয়ার ওয়েভের পাওয়ার লেভেলকে উপযুক্ত পরিমাণে বাড়ানো মান KW হয়ে',\n 'ছাড়াও কম্পিউটারের প্রকৃত ব্যবহারকারী ব্যতীত Error প্রবেশ দেয়',\n 'বচেয়ে নিচের স্তরে Layer O সকল Hardware সর্ব উচ্চ স্তরে Layer N User interface',\n 'Computer প্রাত্যহিক জীবনের সকল ক্ষেত্রেই',\n 'সফটওয়্যার স্তরে টেস্ট',\n 'পাবলিককী ক্রিপ্টোগ্রাফিতে একজন ব্যবহারকারীর সিমেট্রিক ক্রিপ্টোগ্রাফির গোপন পাবলিক কীও',\n 'ব্যবসার রেকর্ড ব্যক্তিগত তথ্য সম্পত্তি সম্পর্কিত তথ্য',\n 'প্রতিটি স্তর শুধুমাত্র নিম্নস্তরের স্তর প্রদত্ত ক্রিয়াকলাপগুলির প্রয়োগ',\n 'প্রত্যেক layer এমনভাবে বাস্তবায়ন কেবলমাত্র নিচের layer প্রাপ্ত Operationগুলো Execute',\n 'SDLC ফ্রেমওয়ার্ক সফটওয়্যার ডেভেলপমেন্ট প্রসেস নামেও পরিচিত',\n 'ডিজিটাল নিরাপত্তা আইন ধারায় হয়েছে কম্পিউটার কম্পিউটার প্রোগ্রাম কম্পিউটার সিস্টেম কম্পিউটার নেটওয়ার্ক ডিভাইস ডিজিটাল সিস্টেম ডিজিটাল নেটওয়ার্ক প্রবেশাধিকার ব্যাহত ডিজিটাল সন্ত্রাসী কাজের অপরাধী এজন্য অনধিক বছর কারাদণ্ড অনধিক এক অর্থদণ্ডঅথবা উভয় দণ্ডে দণ্ডিত',\n 'ইনফরমেশন মেইনটেন্যান্স System callsএর সিস্টেম প্রয়োজনীয় Data নেয়া প্রয়োজন অনুযায়ী সিস্টেমে Data set',\n 'অপটিক্যাল ফাইবার ক্যাবলে কাজেই তারের লাইন মাইক্রোওয়েভ সিস্টেম এরূপ লাইনের খরচ কম',\n 'উপরন্তু অপারেটিং সিস্টেম বাধ্যতামূলক উপদেষ্টা ফাইল লকিং প্রক্রিয়া প্রদান',\n 'ডাটাবেস ব্যবহৃত ধরনের Data নির্দিষ্ট প্রয়োজনীয় কমান্ডমূহ SQL অংশে অন্তর্ভুক্ত',\n 'Processor managementএর মূল উদ্দেশ্য overhead খরচ সর্বনিম্ন প্রত্যেক processকে processorএর সময় অংশের Time slice ভিত্তিতে বরাদ্দ',\n 'Software as measure of progressঅগ্রগতি অনুধাবনের মাপকাটি কার্যকারী সফটওয়্যার',\n 'ফাইল রিকভারি সফটওয়্যার আগের ফাইলটি অর্থাৎ ধবংস হওয়ার আগের ভার্সনটি খোজার খুজে পায় পার্টিশন টেবিল ফাইল রিকভারি সম্ভব',\n 'প্রকল্পের গৃহীত প্রক্রিয়া প্রকল্পের গৃহীত প্রক্রিয়া উল্লেখযোগ্যভাবে ভিন্ন',\n 'কোএক্সিয়াল ক্যাবলের টুইস্টেড পেয়ার অধিক ব্যয়বহুল নেটওয়ার্ক স্ট্যান্ডার্ড সাপোর্ট টোকেন রিং',\n 'তথ্য যোগাযোগ প্রযুক্তি আইন নীতিমালা সমূহ মেনে চলা',\n 'সাবধানে ডিজাইন শক্তিশালী সাইফার',\n 'চ্যানেলের রিসিভিং অ্যান্টিনাতে পৌঁছার রেডিও ওয়েভ ক্ষুদ্র emf আবিষ্ট',\n 'বিশেষজ্ঞদের ধারণা ওয়াইফাই তথ্য প্রযুক্তির জগতে ব্যাপক পরিবর্তনের সূচনা',\n 'ডাটাবেস ম্যানেজমেন্ট সিস্টেমে অথরাইজেশন প্রক্রিয়া অত্যন্ত গুরুত্বপূর্ণ বিষয়',\n 'পাঠ্যের বড় অংশ রিলেশনাল মডেলের দৃষ্টি নিবদ্ধ বেশিরভাগ ডাটাবেস অ্যাপ্লিকেশনের ভিত্তি',\n 'Asymmetric ক্লাস্টারিংএ মেশিন Hot standby মোডে অন্যটি অ্যাপ্লিকেশনগুলো রান',\n 'মেনি টু মেনি ম্যাপিং কার্ডিনালিটির উদাহরণ একাধিক শিক্ষক কর্তৃক একাধিক বিষয়ে পাঠদান',\n 'ওয়াটারফল মডেলটি নেয় পূর্বের ধাপের সকল কার্যাদি সঠিকভাবে সম্পাদিত',\n 'এনটিটি রিলেশনশিপ ER মডেলকে এট্রিবিউট এনটিটি এনটিটি সেটরিলেশনশিপ রিলেশনশিপ সেট ইত্যাদির ব্যবহৃত সিম্বলের এনটিটি রিলেশনশিপ মডেল প্রকাশ',\n 'এনটিটি সেটের সাধারনতঃ এট্রিবিউটকে প্রাইমারী হিসেবে',\n 'ল্যান আওতা বিল্ডিং কলেজ ক্যাম্পাস',\n 'সফ্টওয়্যার ডিজাইনের বিবর্তন চলমান প্রক্রিয়া ছয় দশকেরও সময় বিস্তৃত',\n 'টার্মিনাল স্টেশনগুলোতে অ্যান্টেনা ব্যবহৃত রিসিভিংএর অন্যটি ট্রান্সমিটিং',\n 'আলোর উৎসটি ফাইবারঅপ্টিক তারের মিলিত তারটি চ্যানেল ট্রান্সমিশন মাধ্যম',\n 'মার্কিন যুক্তরাষ্ট্রের আর্মি নৌবাহিনী নাসার বড় বড় সরকারি দপ্তরের কম্পিউটার হ্যাক গ্যারি ম্যাককিনন',\n 'ফায়ারওয়াল নেটওয়ার্ক ইন্টারফেসের নেটওয়ার্কের বাহ্যিক দিকের',\n 'একজন প্রজেক্ট ম্যানেজার ডেভেলপমেন্ট প্রক্রিয়া নিবিড়ভাবে মনিটর পরিকল্পনা গ্রহণ নির্বাহ',\n 'নেটওয়ার্ক এক্সেস লেয়ার প্রান্ত সিস্টেম নেটওয়ার্ক লজিক্যাল ইন্টারফেস দায়িত্ব পালন',\n 'কুয়েরি প্রসেসর কুয়েরিকে অনুবাদ ইউজারের অথরাইজেশন স্তর বিবেচনা',\n 'কারণে যেকোনো সংস্থা মূল্যবান সম্পদ তৈরি সংরক্ষণ কম্পিউটার সংস্থা উত্তরদায়ীভাবে ঠিকমতো কার্যকর নিরাপত্তা পরিকল্পনা',\n 'প্রত্যেক মডিউল লজিক্যাল গঠন মডিউল সমূহ অপরের কিভাবে যোগাযোগ রক্ষা নির্ধারণপূর্বক ইন্টারফেস সম্পাদন',\n 'প্রতিটি নিরাপত্তা পরিকল্পনায় ফরম্যাট থাকুক মৌলিক উপাদান',\n 'স্বাস্থ্যসেবা পৌরসভায় সেবা সরকারি খোলা সরকারি কর্মকর্তাকর্মচারীদের বেতনভাতা কম্পিউটার নেটওয়ার্কের',\n 'ভেরিফিকেশন প্রক্রিয়া সফটওয়্যারটি ব্যবসায়িক প্রয়োজনীয়তা গুলো পূরণ কিনা সফটওয়্যার যথাযথ স্পেসিফিকেশন মেথডলজি অনুসরণ ডেভেলপ হয়েছে কিনা বিষয়গুলো নিশ্চিত',\n 'রিমোট কন্ট্রোল IRDA Infrared Data Association ডিভাইসগুলোতে Infrared lightemitting diode LEDS',\n 'অ্যাপ্লিকেশনের বিষয়সমূহ Contents ধারণ বেশিরভাগ অ্যাপ্লিকেশন উইন্ডোগুলো অপারেটিং সিস্টেমসমূহের সরবরাহকৃত কনস্ট্রান্টগুলো',\n 'ব্যবহারকারীর তথ্য এপ্লিকেশন ফাইল সিস্টেম ফাইল সবকিছু পদ্ধতিতে ব্যাক আ হয়ে',\n 'ফাইল ওভাররাইট হয়ে সেক্ষেত্রে রিকভারি একটু জটিল',\n 'ইউজার ডকুমেন্টশন সমূহে সফটওয়্যার ইন্সটলেশন প্রসিডিউর সমূহ',\n 'ফায়ারওয়ালের প্রয়োজনীয়তা লেখ',\n 'উক্ত DDL স্টেটমেন্টসমূহকে কম্পাইলেশন একসেট টেবিল পাওয়া যায় টেবিলগুলোকে নির্দিষ্ট ফাইলে জমা',\n 'উদাহরণস্বরূপ ডিজাইনের পুনরাবৃত্তি বড় উপাদান তৈরি কম সংহতি প্রদর্শন অর্থাৎ তিনটি ফাংশন সম্পাদন অপরের শুধুমাত্র সীমিত সম্পর্ক',\n 'ডায়ালগ বক্স Dialogue Box চাইল্ড উইন্ডো ইউজার বার্তা ধারণ পদক্ষেপ নেওয়ার অনুরোধ জানায়',\n 'অনলাইন গেমাররা অরক্ষিত গেম সার্ভার ফায়ারওয়াল এক্ষেত্রে সুরক্ষা প্রদান',\n 'ডাটাবেসে কুয়েরী আপডেট অপারেশন সম্পন্ন DML ব্যবহৃত',\n 'টুলস সফটওয়্যারের এমব্যাডেড অবস্থায় IDE',\n 'যোগাযোগ ব্যবস্থায় লিনিয়ার ডিভাইস বিক্রেতাদের সরবরাহ প্রায়শই সামগ্রিক সিস্টেম গঠনের একসাথে ক্যাসকেড',\n 'সফ্টওয়্যার তৈরি রক্ষণাবেক্ষণ অগ্রগতি পরিমাপ অসুবিধা',\n 'অ্যালগরিদমের হার্ডওয়্যার সমর্থন প্রয়োজন অগ্রণী সিস্টেমে ঘনিষ্ঠভাবে হার্ডওয়্যার অপারেটিংসিস্টেম মেমরি ব্যবস্থাপনা',\n 'নিরাপত্তা ফাংশনগুলি অর্জন বিশদে আলোচনা খুবই শিক্ষণীয় ডিজিটাল স্বাক্ষর',\n 'ডিবিএমএস সামগ্রিক গঠনের ব্যবহৃত ফাংশনাল কম্পোনেন্টগুলোকে প্রধান তিনটি ভাগে বিভক্ত যায়',\n 'ডাটাবেস সিস্টেম সেন্ট্রালাইজড সিস্টেম ক্লায়েন্টসার্ভার সিস্টেম প্যারালাল সিস্টেম ডিসট্রিবিউটেড সিস্টেমের',\n 'সফ্টওয়্যার আর্কিটেকচার সফ্টওয়্যারটির সামগ্রিক কাঠামো কাঠামো যেভাবে সিস্টেমের ধারণাগত অখণ্ডতা প্রদান নির্দেশ',\n 'যেমনটি এইমাত্র দেখেছি সাধারণউদ্দেশ্যের কম্পিউটার সিস্টেমে একাধিক স্টোরেজ ডিভাইস ডিভাইসগুলিকে ফাইল সিস্টেম ধারণ ভলিউমগুলিতে ভাগ',\n 'নিশ্চিত পদ্ধতি প্রদান বার্তা একজন ব্যবহারকারীর খাঁটি অর্থাৎ প্রকৃতপক্ষে ব্যক্তির উদ্ভূত বার্তাটি তৈরি দাবি',\n 'রেডিও অন শব্দ শোনা যায়',\n 'ঝুঁকি ভুলটির নিয়ন্ত্রণে বাধা',\n 'সাইবার এথিকস',\n 'উপরন্তু সার্বজনীনভাবে স্বীকৃত সংজ্ঞা অংশ অপারেটিং সিস্টেম',\n 'যখনই সাইবার সম্পর্কে চিন্তা নিরাপত্তা মনের আসে সাইবার অপরাধ বাড়ছে',\n 'মূল ধারণা ব্যক্তি বার্তাটিতে স্বাক্ষর ব্যক্তিগত গ্রহণকারী পক্ষ মিল সর্বজনীন',\n 'সাইফারের উপরোক্ত মৌলিক বৈশিষ্ট্য বিভ্রান্তি প্রসারণ এফফাংশনের উপলব্ধি',\n 'কয়েকটি হার্ডওয়্যার নির্ভর ফায়ারওয়াল হলোWatch Guard Check PointCisco PIXNET Screen etc',\n 'এছাড়া কনভেনশনাল ফাইল প্রসেসিং সিস্টেমের যেসব সীমাবদ্ধতা সেসব সীমাবদ্ধতা দূর করাও DBMS অন্যতম উদ্দেশ্য',\n 'নেটওয়ার্ক প্রোটোকল যেগুলো রাউট্যাবল',\n 'পিজিপি প্লেইনটেক্সট মেসেজের মূলত ডিজাইন এসমাইম ধরণের সংযুক্তি হ্যান্ডেল ডেটা ফাইল যেমনঃ স্প্রেডশীট গ্রাফিক্স প্রেজেন্টেশন মুভি সাউন্ড',\n 'Rijndael algorithm সালে Encryption আবিষ্কারক V Rijmen J Decimen নাম অনুসারে এটির নামকরণ',\n 'কোডের প্রোগ্রামারগণ কোডের কার্যাদি টেস্ট অপারেশন সম্পাদন',\n 'বিস্তারিত নকশা মডিউল সমূহের অপারেশন প্রয়োগ সম্বন্ধে বিস্তারিত বিবরণ',\n 'অবজেক্টের ফাংশনালিটি নির্ধারণে এট্রিবিউট মেথডসমূহ ব্যবহৃত ক্লাস সেগুলো নির্ধারণ',\n 'এক্সট্রিম প্রোগ্রামিং Extreme Programming এক্সপি XP এক্সট্রিম প্রোগ্রামিং একপ্রকারের অ্যাজাইন সফটওয়্যার ডেভেলপমেন্ট মডেল',\n 'সুপার এনটিটি সেটের এনটিটিকে এককভাবে সনাক্ত',\n 'মাল্টিইউজার ডাটাবেস সিস্টেমও',\n 'এমবেডেড সফ্টওয়্যার পণ্য সিস্টেমের শেষ ব্যবহারকারীর সিস্টেমের বৈশিষ্ট্য ফাংশনগুলিকে বাস্তবায়ন নিয়ন্ত্রণ ব্যবহৃত এমবেডেড সফ্টওয়্যার সীমিত গুপ্ত কার্য সম্পাদন মাইক্রোওয়েভ ওভেনের প্যাড নিয়ন্ত্রণ উল্লেখযোগ্য ফাংশন নিয়ন্ত্রণ ক্ষমতা প্রদান অটোমোবাইলে ডিজিটাল ফাংশন জ্বালানী নিয়ন্ত্রণ ড্যাশবোর্ড প্রদর্শন ব্রেকিং সিস্টেম',\n 'মেসেজ পাসিং মডেলে প্রসেসগুলো মেসেজের পরস্পর তথ্যের আদানপ্রদান',\n 'হাই লেভেল সফটওয়্যার টেস্টিং সফটওয়্যারটির মূল ফাংশন ঠিকঠাক যাচাই',\n 'যোগাযোগ ব্যবস্থার বিষয়বস্তু অপরিসীম',\n 'ডাটাবেস সিস্টেমের কার্যক্রম অপারেটিং সিস্টেমের সম্পন্ন হয়ে',\n 'টপ ডাউন বিশ্লেষণ সমস্যা সমাধানের প্রক্রিয়া সমস্যাটি সহজে সমাধানযোগ্য উপ সমস্যাগুলোতে পৌছানো ক্ষুদ্র ক্ষুদ্রতর উপ সমস্যা অপারেশনসমূহে বিভক্ত',\n 'ওয়ার্ল্ড ওয়াইড ওয়েব ইমেইল কম্পিউটার ফাইল শেয়ারিংএর ভাইরাস সংক্রমণ ঘটতে',\n 'এনটিটি রিলেশনাল ডাটা মডেল কতকগুলো অবজেক্ট সমষ্টি সম্পর্ক গঠিত ডাটা মডেল',\n 'একাউন্টে প্রবেশের ব্যাংক গ্রাহককে প্রয়োজনীয় তথ্য সাধারণত আইডি পাসওয়ার্ড সরবরাহ',\n 'উপরন্তু সিগন্যাল প্রসেসর ডিজিটালে প্যারিটি বিট যোগ চ্যানেল কোডিং প্রদান শব্দ ত্রুটি সনাক্তকরণ সংশোধন রিসিভারে সংকেত প্রসেসর চ্যানেলে গোলমালের কারণে বিট ত্রুটিগুলি কমাতে দূর',\n 'Attenuation Transmission Media পরিমাণ সূক্ষ্মতা Attenuation Reliability Data Transmit Attenuation নির্বাচন দেয়',\n 'ডেটাবেস সিস্টেমগুলি অত্যন্ত মূল্যবান তুলনামূলকভাবে বড় একাধিক ব্যবহারকারী অ্যাপ্লিকেশন প্রায়ই সময়ে অ্যাক্সেস ডেটার সংগ্রহ পরিচালনা ব্যবহৃত',\n 'অপারেটিং সিস্টেম কার্নেলে কমান্ড ইন্টারপ্রেটার অন্তর্ভুক্ত',\n 'কম্পিউটার ফরেনসিক কৌশল ডিভাইস প্রমানগুলো খুজে বের সংরক্ষণ ব্যবহৃত',\n 'Build সমূহ ইটারেশন provide',\n 'ধারা ব্যক্তি কম্পিউটার সিস্টেমের হ্যাক অনধিক বছরের কারাদণ্ডে ন্যূনতম বৎসর কারাদণ্ডে অনধিক অর্থদণ্ডে দণ্ডিত উভয় দণ্ডে দণ্ডিত',\n 'নাম সেগুলি তৈরি মুছতে প্রদত্ত ফাইল অনুসন্ধান তালিকা ফাইল তথ্য',\n 'প্রক্রিয়ার ফাইল খোলা সিস্টেমওয়াইড টেবিলে ফাইলটির এন্ট্রি অন্তর্ভুক্ত',\n 'রিং টপোলজির ব্যবহৃত সফটওয়্যার জটিল নেটওয়ার্ক সেটআপ কৌশলও কঠিন',\n 'প্রোগ্রাম ইনস্ট্রাকশন নির্বাহ কন্ট্রোল ইউনিট নিয়ন্ত্রণ',\n 'অফিস চলাকালীন সময়ের চ্যাট নেট ব্রাউজ অযথা সময় অপচয়',\n 'ডাটাবেসের নিরাপত্তা লংঘনের জন্যে এটিও উল্লেখযোগ্য',\n 'Clone phishing ধরনের ফিশিংএ পূর্বে প্রেরিত ইমেইল ক্লোন কন্টেন্টসমূহ লিংকসমূহ পরিবর্তনের ইমেইল অ্যাড্রেস প্রেরণ অরিজিনাল অ্যাড্রেস প্রেরিত',\n 'ওয়্যার ওয়্যারলেস সিস্টেমের উচ্চগতির ডেটা ট্রান্সমিশনের নিরলস ধাক্কা',\n 'মূল্যবান কর্পোরেশন শারীরিক সম্পদের কারণে নিজস্ব তথ্যের কারণে মূল্যবান',\n 'রাউটার একেক নেটওয়ার্কের মাঝে কমিউনিকেশন পথ রাস্তা তৈরি',\n 'ট্রান্সমিটার রেডিও ওয়েভকে ট্রান্সমিটিং অ্যান্টিনাতে যুক্ত ওয়েভ স্পেসে ছেড়ে দেয়া সর্বদিকে ছড়িয়ে পড়ে',\n 'মেমরি memory Preemptable resourceএর উদাহরণ',\n 'ক্রাম ইন্টারেরিভ ইনক্রিমেন্ট মডেল ইটারেশনের সংক্ষিপ্ত রূপ',\n 'মৌলিকভাবে রিমোট কন্ট্রোলারের ট্রান্সমিটার সার্কিট অংশ ইনফ্রারেড লাইট ইমিটিং ডায়োড IRLED',\n 'তাছাড়া যেহেতু হ্যাস মিলে গেলেই হ্যাকারকে আসল পাসওয়ার্ড জানার দরকারও পড়ে',\n 'সকল অ্যাট্রিবিউটকে অংশে সাবপার্টে বিভক্ত যায় সরল সিম্পল অ্যাট্রিবিউট',\n 'বেশিরভাগ যোগাযোগ স্যাটেলাইট জিওস্টেশনারি কক্ষপথে জিও স্থাপন',\n 'Mach অংশ Remote procedure calls RPCs Interprocess communication IPCএর মেমরি ম্যানেজমেন্ট support প্রদান',\n 'সুবিধা মডিউলকে পৃথকভাবে লেখা কম্পাইল যায়',\n 'যাই প্রসেস Block হয়ে blocking system call',\n 'ফাইল অপারেশন অনুরোধ ফাইল টেবিলে সূচকের নির্দিষ্ট অনুসন্ধানের প্রয়োজন',\n 'শেয়ারড মিডিয়াম হাবের ডেটা প্যাকেট সংঘর্ষ এড়ানোর নির্দিষ্ট সমেয় স্টেশনই ডেটা প্যাকেট প্রেরণ',\n 'ডাটাবেস অ্যাক্সেস ডিএমএল স্টেটমেন্টগুলি হোস্ট পাঠাতে ডাটাবেস কার্যকর',\n 'ব্যক্তি নেটওয়ার্ক অ্যাডমিনিস্ট্রেটর সিস্টেমের নিরাপত্তার স্বার্থে সিস্টেমের মাঝে দুর্বলতা চেক ভালনারেবিলিটি স্ক্যানিং',\n 'ধরনের সিস্টেমগুলি সংখ্যক ব্যবহারকারীকে পরিবেশন সিস্টেমের দূরবর্তীভাবে সংযুক্ত সার্ভার সিস্টেম',\n 'বিরতি নির্দেশ অলস Idle চ্যানেল অনেকগুলো স্টপ বিট',\n 'ডাটাকে নির্দিষ্ট গ্রুপে বিভক্ত',\n 'GUI অ্যাপ্লিকেশনে নিম্নলিখিত এক একাধিক উপাদানসমূহ',\n 'তাছাড়াও প্যারালালিজম বৃদ্ধির প্যারালাল ডাটাবেস সিস্টেমের স্পীডআপ Speedup স্কেলআপ Scaleup বৃদ্ধি সম্ভব',\n 'বিতরণ ব্যবস্থার নোডগুলি অপরের যোগাযোগ যোগাযোগ মাধ্যমের উচ্চগতির ব্যক্তিগত নেটওয়ার্ক ইন্টারনেট',\n 'মডুলারাইজেশনে প্রোগ্রাম স্তরে আনা যায়',\n 'টপ ডাউন বিশ্লেষণে সমস্যাকে কতগুলো ক্ষুদ্র ক্ষুদ্র সমস্যাতে বিভক্ত প্রত্যেক অংশকে পৃথক পৃথক সমাধান',\n 'এইভাবে ইউজার ইন্টারফেসগুলি ডাটাবেসের অ্যাক্সেসের বিবরণ লুকিয়ে রাখে বেশিরভাগ লোক এমনকি জানেন ডাটাবেসের ডিল ডাটাবেসগুলি অ্যাক্সেস ফর্ম প্রত্যেকের জীবনের অপরিহার্য অংশ',\n 'প্রথমে ফিজিক্যালি ড্যামেজ ড্রাইভটি রান করিয়ে স্পেশাল সফটওয়্যার ডাটাগুলোকে রিকভার',\n 'মাল্টিপল পার্টিশন এলোকেশন পদ্ধতি ব্যয়বহুল',\n 'যোগাযোগ ব্যবস্থা উড়োজাহাজ ট্রেন স্টেশন অগ্রিম টিকেট রিজার্ভ আসন বণ্টন সম্পন্ন',\n 'সিগন্যাল রোধ ক্যারিয়ার ফ্রিকুয়েন্সি মূল ডাটা ফ্রিকুয়েন্সিকে বিঘ্ন ঘটায় গার্ড ব্যান্ড',\n 'আইকন ক্ষুদ্র চিত্র সংশ্লিষ্ট অ্যাপ্লিকেশন উপস্থাপনে ব্যবহৃত',\n 'প্রস্তুতি পর্বে হোয়াইট বক্স টেস্টিং সকল বেসিক ইনফরমেশনের গঠন নকশা প্রণয়ন হয়ে',\n 'ব্রাউটার মূলত সফট্ওয়্যার রাউটারের',\n 'ডাটাবেস স্কিমা বর্ণনা ধরনের ল্যাংগুয়েজ ব্যবহৃত ডাটা ডেফিনিশন ল্যাংগুয়েজ DDL',\n 'অপারেটিং সিস্টেমের সামান্য ভিন্ন দৃষ্টিভঙ্গি প্রয়োজনের জোর IO ডিভাইস ব্যবহারকারী প্রোগ্রাম নিয়ন্ত্রণ করুন',\n 'গ্রুপ প্রেরণ শেষ স্টপ বিট সাধারণত প্রেরণ',\n 'গ্রাহকের দৃষ্টি দিয়ে বিষয়টি দেখার কতটুকু পণ্য সেবার গ্রাহক অর্থ পরিশোধ রাজি আছেন',\n 'টেস্টিং শেষ ফেজ ইউজারের আন্তক্রিয়া রেসপন্স পরীক্ষা',\n 'ধরি customer Account এনটিটি সেট Depositor রিলেশনশিপ সেট',\n 'ক্যারেকটারের বিরতি',\n 'রেডিও স্টেশনের ট্রান্সমিটারটি শব্দ তরঙ্গকে ইলেকট্রোম্যাগনেটিক ওয়েভে রূপান্তর রেডিও ফ্রিকুয়েন্সি রেঞ্জে AM রেঞ্জ KHz FM স্টেশনের MHz ইলেকট্রোম্যাগনেটিক ওয়েভের ইনকোড',\n 'ফাইবার অপটিক ক্যাবলে কনভার্টার প্রয়োজন পড়ে',\n 'বাংলাদেশে সাইবার সিকিউরিটি আইন প্রণয়ন',\n 'Communication is the keyপ্রতিনিয়ত ব্যবসায়ী জনতার ডেভেলপার যোগাযোগ নিশ্চিত ভাল সফটওয়্যার ডেভেলপএর অতি গুরুত্ব',\n 'অপটিক্যাল ফাইবারের কোরের Refractive index m ধ্রুব ক্ল্যাডিংএর Refractive index µ সামান্য কম স্টেপ ইনডেক্স ফাইবার',\n 'রিপিটারকে দুইভাবে ভাগ যায়',\n 'আইএমইআই IMEI নাম্বার ফোন নাম্বার ব্যক্তি ডিভাইসে জুড়ে আইপি অ্যাড্রেস কখনোই কারো নামে রেজিস্টার',\n 'অ্যাপ্লিকেশন গেটওয়ে এফটিপি টেলনেট সার্ভারের অ্যাপ্লিকেশনের সিকিউরিটি মেকানিজম প্রয়োগ',\n 'মডুলেশন পদ্ধতির কারণে অডিও সিগন্যালের ট্রান্সমিশন সম্ভব',\n 'ডিস্ট্রিবিউটেড ডাটাবেস ডাটার আপটুডেট বর্তমান অবস্থান uptodate and current নিশ্চিত',\n 'ফিজিক্যাল ডাটা মডেল মূলত ডাটা ডিজাইনকে রিপ্রেজেন্ট উপস্থাপন',\n 'সফটওয়্যার টেস্টিং প্রক্রিয়ায় ভেলিডেশন ভেরিফিকেশন সম্পাদনা',\n 'ধরনের Attack Bits Per Second হিসেবে মাপা',\n 'আগের আলোচনা স্মরণ ক্রিপ্টানালাইসিসকে বিশ্লেষণাত্মক আক্রমণে ভাগ এনক্রিপশন পদ্ধতির অভ্যন্তরীণ কাঠামোকে লাগায় ব্রুটফোর্স আক্রমণ এনক্রিপশন অ্যালগরিদমকে ব্ল্যাক বক্স বিবেচনা পরীক্ষা সম্ভাব্য',\n 'মাল্টিইউজার পরিবেশে ডাটাবেজ কিভাবে নিয়ন্ত্রণ ডাটাবেজ সিকিউরিটি ফিচার রয়েছে',\n 'ধরনের সিস্টেমের বিস্তার বড় প্রতিষ্ঠানের মাথাব্যথার দাঁড়ায় রক্ষণাবেক্ষণের ব্যয়বহুল বিকাশের ঝুঁকিপূর্ণ',\n 'বাস্তবে আলোক উৎস কোণে পথে বাউন্ডারি স্তরে আলো আপতিত',\n 'অজানা সঠিকভাবে সমস্যা সমাধানের ডেটা ফাংশন বৈশিষ্ট্যগুলির প্রয়োজন সমস্যাটি বিভক্ত',\n 'অপারেটিং সিস্টেমটি জটিল ব্যবহারকারীদের আশা',\n 'হিপো ডায়াগ্রাম মডিউলে ডাটা নিয়ন্ত্রণের প্রবাহকে বর্ণনা ডাটা প্রবাহ নিয়ন্ত্রণ প্রবাহ সংক্রান্ত তথ্য প্রদান',\n 'বিতরণ ডাটাবেস আলাদাভাবে প্রশাসিত প্রতিটি সাইট রাখার স্বায়ত্তশাসন ডিগ্রী অপারেশন',\n 'Link manipulation ভিকটিম ম্যালিশিয়াস ওয়েবসাইটে ব্রিডিরেক্ট',\n 'অ্যানালগ পিরিয়ডিক সিগন্যালের প্রকৃষ্ট উদাহরণ সাইন ওয়েভ',\n 'এজন্য এসারশন তৈরির সময় খুবই যত্নশীল',\n 'প্রত্যেক PCBএর Pointer field Ready queueএর Next processকে point',\n 'ফিজিক্যাললজিক্যাল ভিউ লেভেলে ডাটাবেসের ডিজাইন ফরমেটকে ডাটা মডেল অনুমোদন',\n 'স্তরযুক্ত পদ্ধতির প্রধান অসুবিধা স্তরগুলিকে যথাযথভাবে সংজ্ঞায়িত',\n 'প্রাইমারি হিসেবে ব্যবহৃত এট্রিবিউটের মান সাধারণত পরিবর্তিত',\n 'প্রত্যেক ডিভাইস কন্ট্রোলারের OS ডিভাইস ড্রাইভার রয়েছে ডিভাইস কন্ট্রোলারকে বুঝতে',\n 'লেনদেন ব্যবস্থাপক গুরুত্বপূর্ণ অ্যাপ্লিকেশন বিকাশকারীদের ডাটাবেস অ্যাক্সেসের ক্রমকে এমনভাবে আচরণ একক ইউনিট সম্পূর্ণতা',\n 'রেস্টিকটেড ডাটাকে পূর্বেই ডাটা টাইপ নির্দিষ্ট ডোমেইন ইন্টিগ্রিটি',\n 'ফাইবার অপটিক ক্যাবলে Installation cost Requirement cost Installation processও জটিল',\n 'পার্থক্যগুলির ক্রিয়াকলাপ ক্রিয়া কাজের সামগ্রিক প্রবাহ আন্তঃনির্ভরতা',\n 'ট্রান্সমিটারের সাহায্যে ইনপুট সিগন্যালকে হাই ফ্রিকুয়েন্সির ক্যারিয়ার ওয়েবের মিশ্রিত দূরদূরান্তে প্রেরণ উপযোগী',\n 'ইতিমধ্যে দেখেছি আধুনিক কম্পিউটার সফটওয়্যারগুলি অবিরত পরিবর্তনের অধীনে অত্যন্ত সঙ্কীর্ণ সময়সূচীতে গ্রাহকব্যবহারকারী সন্তুষ্টিতে জোরদার প্রয়োজন চিহ্নিত',\n 'একেক নেটওয়ার্কের অধীনে ইউজার আইপি অ্যাড্রেস',\n 'ফ্রিকুয়েন্সি বিশিষ্ট একাধিক চ্যানেল সিগন্যাল ট্রান্সমিট রিসিভারে টিউনিং সম্ভব হতো',\n 'Translatorএর Source codeকে Machine codeএ রূপান্তর',\n 'অন্যদিকে নন রাউট্যাবল প্রোটোকল নেটবুই ব্রাউটারের ব্রিজ অংশ',\n 'বিশাল বড় জটিল আধুনিক অপারেটিং সিস্টেম তৈরি সময় অত্যন্ত সতর্কতা অবলম্বন সঠিকভাবে সহজে modify যায়',\n 'ঘুষ ব্ল্যাকমেইলিং প্রতারণা ধ্রুপদী গুপ্তচরবৃত্তি মানুষকে জড়িত গোপন পেতে',\n 'ডাটার পরিমান কম পার্সোনাল ডাটা এগুলোকে এক্সটার্নাল ড্রাইভে ইউএসবি হার্ড ডিস্ক পেনড্রাইকে ব্যাকআপ যায়',\n 'ডাটাপ্রসেসিং গতি আইও গতি বেড়ে যায় সিস্টেমের পারফরমেন্স বৃদ্ধি পায়',\n 'পদ্ধতিরও অনুরূপ মাইক্রোকারনেল পদ্ধতিতে মডিউলটির শুধুমাত্র মূল ফাংশন অন্যান্য মডিউলগুলির কীভাবে লোড যোগাযোগ সম্পর্কে জ্ঞান কার্যকর মডিউলগুলিকে বার্তা পাঠানোর আহ্বান জানানোর প্রয়োজন',\n 'দীর্ঘদিন যাবত সফটওয়্যার ব্যবহারের এটির কর্মদক্ষতা কমে যায় যুগোপযোগী কার্যাদি সম্পাদন',\n 'কম্পিউটার সিস্টেমে প্রকার ডাটা স্টোরেজ মিডিয়া ব্যবহৃত হয়ে',\n 'নির্বাচন জড়িত প্রশমিত হুমকি ঝুঁকি ব্যবস্থাপনা নামক প্রক্রিয়া সুরক্ষার ক্ষমতার বিরুদ্ধে হুমকির গুরুত্বের ওজন',\n 'সিনক্রোনাস ভাটা ট্রান্সমিশন মোডের কম্পিউটার কম্পিউটারে ডাটা প্রেরণে ব্যবহৃত',\n 'এভাবে জব সম্পন্ন হওয়ার জব মেমোরি নির্বাচিত অংশ খালি হয়ে যায়',\n 'ডাটাবেস ডিজাইনারকে ব্যাপকভাবে যোগাযোগ কাজটি সম্পন্ন ডোমেন বিশেষজ্ঞ ব্যবহারকারীদের',\n 'জাতীয় এনটিটি সমূহের সেট সমাবেশই এনটিটি সেট বৈশিষ্ট্য এট্রিবিউটকে শেয়ার',\n 'সফটওয়্যার অডিটের উদ্দেশ্য সফটওয়্যার এটির ডেভেলপমেন্ট প্রক্রিয়া উভয়ই স্টান্ডার্ড রুলস রেগুলেশনস অনুযায়ী হয়েছে কিনা যাচাই',\n 'অডিও অ্যামপ্লিফায়ার সিগন্যালকে বিবর্ধন সাউন্ড ওয়েভে পুনরুৎপাদন স্পিকারে প্রদান',\n 'সফটওয়্যার সিস্টেম বিশ্লেষক হলেন ব্যক্তি প্রস্তাবিত প্রকল্পের রিকয়ারমেন্টগুলো বিশ্লেষণ নিশ্চিত করেনরিকয়ারমেন্টগুলো সঠিকভাবে নিয়মানুযায়ী চিন্তাভাবনা কাগজেকলমে লিপিবদ্ধ হয়েছে কিনা সেগুলো যাচাই',\n 'কম্পিউটার নিরাপত্তার মোডেল অ্যাক্সেস নিয়ন্ত্রণ নীতি প্রয়োগ কম্পিউটার নিরাপত্তা সুরক্ষিত অবজেক্টের মোডে সাবজেক্টদের অ্যাক্সেস নিয়ন্ত্রণ',\n 'উদাহরণস্বরূপ ঘন ঘন সেট প্রয়োজন কমান্ডলাইন পদক্ষেপ পদক্ষেপগুলি ফাইলে রেকর্ড ফাইলটি প্রোগ্রামের চালানো',\n 'হ্যাকারা সার্ভার প্রোটোকল Attack Botnet ডাটা Packet সার্ভার পাঠিয়ে সার্ভারের Resource সার্ভার তাড়াতাড়ি Crash',\n 'সফটওয়্যার পূর্ণ ধারণা ব্যবহৃত এনটিটি সমূহ অবলম্বন revolve',\n 'প্যারালাল ডাটাবেস সিস্টেমে একাধিক সিপিইউ ডিস্ককে শক্তিশালী দ্রুতগতি সম্পন্ন ইন্টারকানেকশন নেটওয়ার্ক পরষ্পর প্যারালালি সংযুক্ত',\n 'কেননা প্রতিটি ভাগ আলাদাভাবে রান আলাদা আলাদা coresএর',\n 'Band Usage Transmission Media নির্বাচনে Media Baseband Broadband',\n 'ক্লায়েন্টসার্ভার নেটওয়ার্কের নেটওয়ার্কভুক্ত কম্পিউটারসমূহকে কেন্দ্রীয়ভাবে নিয়ন্ত্রণ যায়',\n 'টুইস্টেড পেয়ার ক্যাবল পাকানোর ক্রসটক Crosstalk ইন্টারফারেন্স সমস্যা হ্রাস পায়',\n 'বর্তমানে উন্নত বিশ্বে সাইবার অপরাধ অপরাধের তালিকায় শীর্ষে স্থান নিয়েছে',\n 'ইউজার লিখতে মুছে ফেলতে চালনা ঘুরায়',\n 'বিবৃতিটি ধারণাগতভাবে ফাংশন তথ্যকে বর্ণনা ফাংশনের অভ্যন্তরীণ তথ্যের অভ্যন্তরীণ কাঠামোর ইঙ্গিত',\n 'রিলেশনশিপ মডেলে ম্যাপিং প্রকার',\n 'মেমোরি ম্যানেজমেন্ট সবচেয়ে সরল পদ্ধতি সিংগেল কনটিজিয়াস এলোকেশন পদ্ধতি',\n 'মোবাইল টেলিফোন যোগাযোগ ফুলডুপ্লেক্সএর উদাহরণ',\n 'স্টার্টস্টপ বিট প্রয়োজন',\n 'সিস্টেম Registry support সিস্টেমের Configuration তথ্য store retrieve ব্যবহৃত',\n 'স্টোরেজ ম্যানেজার ডাটাবেসে ডেটা সংরক্ষণ পুনরুদ্ধার আপডেট দায়ী',\n 'বিষয় সমূহ সংরক্ষণ সফটওয়্যার ডিজাইনার ব্যবহারকারীর সুবিধা প্রদান ডাটা ডিকশনারি বিভিন্নভাবে সংজ্ঞায়িত',\n 'Media service লেয়ারটি Graphics audio Videoএর সার্ভিস প্রদান',\n 'ভুলবসত ডাটা ডিলিট হয়ে হার্ডড্রাইভ অকেজো হয়ে গেলেসফটওয়্যারে ত্রুটি থাকলে ডাটা করাপশন হয়ে গেলেহ্যাকিং কবলে পড়লে এমনকি বিদ্যুৎ ডাটা লস ঘটতে',\n 'অনুমতি ব্যতীত সংরক্ষিত সিস্টেমে ব্যক্তি প্রবেশ অনুমতি ব্যতীত সংরক্ষিত সিস্টেমে ব্যক্তি প্রবেশ অনধিক বছরের কারাদণ্ডে নুন্যতম বৎসর কারাদণ্ডে অনধিক টাকা অর্থদণ্ডে দণ্ডিত উভয় দণ্ডে দণ্ডিত',\n 'সিংলেটন ক্লাস ইন্সট্যান্স',\n 'পরিস্থিতিতে প্রক্রিয়া প্রক্রিয়ার তথ্য বিনিময়',\n 'অপটিক্যাল ফাইবার প্রধানত প্রকার',\n 'পিয়ারটুপিয়ার নেটওয়ার্কের খরচ কম',\n 'বর্তমানে মোবাইল কম্পিউটিংএর ধরনের অপারেটিং সিস্টেম কর্তৃত্ব প্রদান পরছে',\n 'পলিমরফিজমে মেথড ভিন্ন ভিন্ন বৈশিষ্ট্য প্রদর্শন',\n 'নেটওয়ার্কে ডেটা এক কম্পিউটার কম্পিউটারে প্রবাহের সুনির্দিষ্ট ধাপ পদ্ধতি',\n 'Operating system মূলত এক ধরনের System software Computerএর Hardware ব্যবহারকারীর User সমন্বয় সাধন',\n 'মাঝে মাঝে অনেকগুলো Lowbanwidth চ্যানেলকে এক Combin Larger Bandwidth চ্যানেল তৈরি প্রয়োজন',\n 'ইউজার প্রোগ্রাম IO অপারেশন execute IO layerএর System call Memory management layerকে call',\n 'ব্লু হ্যাট হ্যাকার রা অত্যন্ত মেধাবী',\n 'ক্রিয়েশনাল ডিজাইন প্যাটার্নসমূহ ক্লাস ইন্সটলেশনের সম্পর্কিত',\n 'নিশ্চয়ই আশা ব্যবহারকারী ব্যাংকের গ্রাহকদের এ্যাকাউন্ট সম্পর্কে যাবতীয় বিষয় জেনে যাক কোম্পানির মালিক নিশ্চয়ই কম্পিউটারে রক্ষিত কোম্পানি লেনদেনসংক্রান্ত যাবতীয় তথ্য দ্বিতীয় প্রতিষ্ঠান জেনে যাক',\n 'নেটওয়ার্ক এক কম্পিউটার কম্পিউটারের কিভাবে ডাটা আদান প্রদান লজিক্যাল টপোলজি',\n 'DES নকশা প্রক্রিয়া প্রযুক্তিগত বোঝার খুবই সহায়ক আধুনিক ক্রিপ্টোগ্রাফির রাজনৈতিক বিবর্তন',\n 'কল পক্ষটি মোবাইল সংযোগটি সেলুলার সাইটের তৈরি কল পার্টিটি এলাকায় অবস্থিত সেটিকে কভার সম্পর্কিত কক্ষে উপলব্ধ রেডিও চ্যানেল নামক দল',\n 'ডেটাবেস সিস্টেমে সমান্তরালতার লক্ষ্য সাধারণত তৈরি নিশ্চিত ডাটাবেসের আকার লেনদেনের সংখ্যা বৃদ্ধির ডাটাবেস সিস্টেম গ্রহণযোগ্য গতিতে চালিয়ে',\n 'অ্যাজাইল মডেল পুনরাবৃত্তিমূলক Iterative ডেভেলপমেন্ট প্রক্রিয়ায়',\n 'সর্বদা উচ্চ সংহতির অর্থাৎ এককমনোভাব প্রায়শই প্রয়োজনীয় পরামর্শ সফ্টওয়্যার উপাদান একাধিক ফাংশন সম্পাদন যাইহোক সিজোফ্রেনিক উপাদান মডিউল প্রতিঅনেকগুলি সম্পর্কহীন ফাংশন গঠন ভাল নকশা অর্জন এড়ানো',\n 'সফটওয়্যার ফায়ারওয়াল বিদ্যমান নেটওয়ার্কে ডিভাইসে ইনস্টল সাধারণত হার্ডওয়্যার ফায়ারওয়াল চেয়ে সস্তা',\n 'ইন্টারনেট শুধুমাত্র ধরনের তথ্যের মূল উৎস লোকেরা ব্যবসায়িক কার্যক্রমও',\n 'প্রতিটি গ্রুপের ট্রান্সমিশন টাইম সমান',\n 'উচ্চ ফ্রিকুয়েন্সির সিগন্যালের মিশ্রিত উচ্চ ফ্রিকুয়েন্সির সিগন্যালকে ক্যারিয়ার সিগন্যাল',\n 'Alternation Authorization অথরাইজেশনের স্তরের সাহায্যে একজন ইউজারকে রিলেশনের অ্যাট্রিবিউট ডিলিট অ্যাট্রিবিউট সংযুক্ত অনুমতি দেয়া যায়',\n 'অবশ্যই সকল প্রোগ্রামের ফাইলে Read Write অপারেশন প্রয়োজন',\n 'User একজন অপরজনের নিকট messages পাঠানো Web page browse email পাঠানো ধরনের communication কাজও',\n 'ছাড়া Higher level language Machine languageএর প্রয়োজনীয় Debugging systemও',\n 'বই ক্রিপ্টো অ্যালগরিদমগুলির সাহায্যে উন্নত পরিষেবাগুলির বেশিরভাগই অর্জন',\n 'ডাটাবেস স্কিমা ফরেন সীমাবদ্ধতার স্কিমা ডায়াগ্রাম চিত্রিত',\n 'যেকোনো কম্পিউটার সিস্টেমে প্রবেশ জরুরী তথ্য নষ্ট কম্পিউটার সিস্টেমকে স্লো দেয় বিকল',\n 'সফটওয়্যার ডিজাইনে ডাটা সমূহের অসংলগ্নতা দিলে ডাটা ডিকশনারি রিমুভ',\n 'দৃশ্যমান আলো ইনফ্রারেড আল্ট্রাভায়োলেট Xray গামা রেএর রেডিও ওয়েভ ইলেকট্রোম্যাগনেটিক ওয়েভ শূন্য স্থানের মধ্য দিয়ে চলতে',\n 'স্টার টপোলজিতে ধরনের হাবসুইচ',\n 'ডাটাবেসে ডাটার পরিবর্তন ইন্টিগ্রিটি কন্সট্রেইন্ট ভেলিডেশন নিয়ম অনুসরণ',\n 'User thread kemel threadএর একটির যুক্ত Onetoone model',\n 'অপারেটিং সিস্টেমে নেটওয়ার্ক প্রোটোকলের ইন্টারফেসিং ডিভাইস হিসেবে নেটওয়ার্ক অ্যাডাপ্টার প্রয়োজন',\n 'বইয়ের অংশে বিশদভাবে সফ্টওয়্যার প্রক্রিয়া পরীক্ষা',\n 'ইব্যাংকিং ব্যবহারের হিসাবের ব্যালেন্স অনুসন্ধান',\n 'ফাইল সঠিকভাবে সংজ্ঞায়িত বিবেচনা ক্রিয়াকলাপ ফাইলগুলিতে সঞ্চালিত',\n 'বড় প্রতিষ্ঠানের আঞ্চলিক অফিসকে একসাথে নেটওয়ার্কের আওতায় আনার প্রয়োজন একক টপোলজি পদ্ধতি অসুবিধাজনক',\n 'যেহেতু স্টার্ট স্টপ বিট রিসিভারে ত্রুটিমুক্ত রিসিপশন পাওয়ার সঠিক বিটের হিসাব রাখতে',\n 'সঠিক সিস্টেমের অপারেশন ব্যবহারকারীর প্রক্রিয়া অ্যাক্সেস অপারেটিং সিস্টেম রক্ষা আবশ্যক',\n 'গতানুগতিক পদ্ধতিতে অপরাধ সংঘটনের সুযোগ ক্ষেত্র কমে যাওয়ার কারণে সাইবার অপরাধ সংগঠিত',\n 'পূর্বে রাজা বাদশাহদের রাজপ্রাসাদের নিরাপত্তার প্রাসাদের চারপাশে পরিখা খনন করতো রাজ প্রাসাদে অযাচিত প্রবেশ',\n 'সবচেয়ে নিচে রয়েছে Linux kernel পরবর্তীতে Google পরিবর্তন করেছিল',\n 'ইন্টারনেট গ্রাহকদের যোগাযোগ আর্থিক লেনদেন সম্পাদন',\n 'বিদ্যালয়ের ডেটাবেজের কথা ধরতে প্রতিটি স্টুডেন্ট এক এন্টিটি এন্টিটির এট্রিবিউট গুলো নাম আইডি বয়স ক্লাস',\n 'মাল্টিপ্লেক্সিংএর কমিউনিকেশনে কম চ্যানেলের প্রয়োজন',\n 'Hz বুঝায় একক সময়ে ফ্রিকুয়েন্সির সর্বোচ্চ সর্বনিম্ন মানের মধ্যকার পার্থক্য এক',\n 'Systemএ Suspended state নামে state যোগ',\n 'লিগ্যাসি সফ্টওয়্যারটি ব্যবহারকারীদের চাহিদা পূরণ নির্ভরযোগ্যভাবে চালায় ভাঙা প্রয়োজন',\n 'সিস্টেম m নামে ফাইলটি খুঁজে বের মেমরিতে লোড Parameter filetxt execute',\n 'একজন কম্পিউটার ফরেনসিক এক্সপার্টকে নেটওয়ার্কিং নেটওয়ার্ক কমিউনিকেশন টিসিপি আইপি প্রটোকল নেটওয়ার্ক ট্রেসিং সম্পর্কে দক্ষ',\n 'অপারেটিং সিস্টেম ছয়টি মৌলিক ফাইল অপারেশন প্রতিটি সঞ্চালন',\n 'ব্যাপক প্রযুক্তির প্রচার প্রসারের মানুষের হাতে হাতে পৌঁছে স্মার্টফোন কম্পিউটার ডিজিটাল ডিভাইস',\n 'সরলতম আকারে আর্কিটেকচার প্রোগ্রাম উপাদানগুলির গঠন সংগঠন মডিউল উপাদানগুলি যেভাবে মিথস্ক্রিয়া ডেটার গঠন প্রতিটি ডিজাইনের প্যাটার্নের উদ্দেশ্য বর্ণনা প্রদান একজন ডিজাইনারকে নির্ধারণ সক্ষম',\n 'উপরন্তু ওয়েব অ্যাক্সেস সম্পর্কে ডেটা ডাটাবেসে সংরক্ষিত',\n 'প্রসেস চলমান কার্য',\n 'ব্লাক বক্স টেস্টিং অসুবিধা সফটওয়্যার বেশিরভাগ অংশ টেস্টিং আওতায় আনা সম্ভব',\n 'ডাটাবেস সিস্টেমের ডেটা সার্ভার কার্যকারিতা অফার পৃষ্ঠা টুপল ফাইলের ছোট বস্তুর ডেটার ইউনিট সমর্থন',\n 'সিগন্যালকে একস্থান অন্যত্র পৌঁছানোর ব্যবস্থাকে যোগাযোগ',\n 'পরিষেবা ব্যবহারকারীর জায়গায় যোগ কার্নেলের পরিবর্তনের প্রয়োজন',\n 'অর্থাৎ সিগন্যাল শক্তিকে বাড়িয়ে দেয়া সিগন্যাল আরো দূরত্ব অতিক্রম',\n 'একমাত্র যুক্তিসঙ্গত যতক্ষণ উত্তরাধিকার ব্যবস্থায় উল্লেখযোগ্য পরিবর্তন আনতে',\n 'বৈশিষ্ট্যগুলি নেতৃত্ব খরচ প্রচেষ্টা বক্ররেখায় দেখানো',\n 'কম্পিউটার নিরাপত্তা বৈশিষ্ট্য',\n 'চতুর্থ ধাপে পরবর্তী ইন্টারেশনের পরিকল্পনা গ্রহণ',\n 'হাইব্রিড টপোলজি প্রতিটি অফিস স্থানীয় প্রয়োজনানুসারে নেটওয়ার্ক স্থাপনের সুযোগ পায়',\n 'অন্যদিকে ইচ্ছায় অনিচ্ছায় ফাইল ডিলিট ফাইল ওভাররাইট হওয়ার কারণে রিকভারি সফটওয়্যার রিকভারি',\n 'ডিজিটাল নিরাপত্তা আইন',\n 'ব্রডব্যান্ড ক্যাবল ইউনিডিরেকশনাল Data transfer',\n 'বর্তমান আল্ট্রাবুকগুলোতে সলির স্টেট ড্রাইভ থাকছে প্রধান চমক হিসেবে',\n 'আধুনিক কম্পিউটারসমূহে ডাটা এড্রেস আলাদা ব্যবস্থা বিধায় ওয়ার্ডকে পরিবর্তন মনিটর',\n 'বিরুদ্ধে রক্ষা ক্ষতি কমাতে দূর হুমকি',\n 'কোএক্সিয়াল ক্যাবলের বরাবর কন্ডাক্টরদ্বয়ের স্পেসিংএর উল্লেখযোগ্য পরিবর্তন ঘটলে সোর্সের রেডিও ফ্রিকুয়েন্সি পাওয়ার পুনঃপ্রতিফলিত স্ট্যান্ডিং ওয়েভ সৃষ্টি',\n 'ডকুমেন্টেশন সফটওয়্যার তৈরি ভিত প্রধানত ভেরিফিকেশন ভেলিডেশন স্তর সমূহে ব্যবহৃত',\n 'ইথারনেটে UTP ক্যাবল হয়ে',\n 'সিগন্যাল দুর্বল হয়ে নয়েজ সিগন্যালকে সম্পূর্ণভাবে বিনষ্ট',\n 'লুকানো মডিউল মডিউল ব্যবহৃত যেকোন স্থানীয় ডেটা কাঠামোর উভয় পদ্ধতিগত বিবরণে অ্যাক্সেসের সীমাবদ্ধতাকে সংজ্ঞায়িত প্রয়োগ',\n 'পরবর্তীতে কেভিন মিটনিক বড় প্রতিষ্ঠান মটোরোলা নকিয়া ফুজিসু ইত্যাদির মত প্রতিষ্ঠানের কম্পিউটার সিস্টেম হ্যাক করেছিল',\n 'নকশা উপস্থাপনের গুণমান মূল্যায়ন আপনাকে সফ্টওয়্যার দলের অন্যান্য সদস্যদের অবশ্যই ভাল ডিজাইনের প্রযুক্তিগত মানদণ্ড স্থাপন ডিজাইনের ধারণাগুলি আলোচনা যেগুলি সফ্টওয়্যার মানের মানদণ্ড হিসাবেও',\n 'অপারেটিং সিস্টেম নেটওয়ার্ক অ্যাকসেসকে ফাইল অ্যাকসেস ফরমরূপে',\n 'রিলোকেট্যাবল ডাইনামিক্যালি রিলোকেট্যাবল পার্টিশনড এলোকেশন পদ্ধতিতে সিপিইউ আইডল টাইম হ্রাস পায়',\n 'কর্মক্ষমতা অবশ্যই ব্যবহারকারীর গুরুত্বপূর্ণ ধরনের সিস্টেম প্রয়োজনীয়তার পরিবর্তে এককব্যবহারকারীর অভিজ্ঞতার অপ্টিমাইজ একাধিক ব্যবহারকারী',\n 'Manytomany modelএ পূর্বে বর্ণিত Onetomany model উভয়ের অসুবিধাগুলো',\n 'একইভাবে Windows বেশিরভাগই Monolithic অর্থাৎ Single address space Performance পাওয়ার',\n 'প্রক্সি সার্ভার নেটওয়ার্কের প্রবেশ বের হওয়ার সময় প্রতিটা মেসেজ চেক',\n 'Kernelএ সরাসরি CPU scheduling memory management অ্যালগরিদম তৈরি প্রয়োজনীয় সিস্টেম Loadable modules আকারে যুক্ত',\n 'IO deviceএর service পাওয়ার Ready queueতে গমন',\n 'প্রস্তুত তালিকা Ready list Run হওয়ার process নির্বাচন Selection',\n 'এলোকেটেড মেমোরি রিকুয়েস্টেড মেমোরি অপেক্ষা অল্প একটু বড়',\n 'ক্যান্ডিডেট সুপার যাই পুরো সম্পর্কের সম্পত্তি পরিবর্তে পৃথক টাপলস',\n 'উদাহরণস্বরূপ উইন্ডোজ এনটিএফএস NTFS ফাইল সিস্টেম ফাইল ফাইলের ডাটা ডিলিট হওয়ার বিবরণী তথ্য সংরক্ষণ রাখে',\n 'ওয়াইফাই ওয়াকিটকির প্রযুক্তিতে রেডিও ফ্রিকোয়েন্সি রয়েছে শক্তিশালী সেকেন্ডে তথ্য প্রেরণ সম্ভব',\n 'স্পাইরাল মডেলটি বড় ধরনের সিস্টেম সফটওয়্যারের উন্নতি বাস্তবগত পদ্ধতি',\n 'কিশোরকিশোরীরাই কেবল ধরনের জড়িত ভেবে বুলিং সজ্ঞায়িত দেখাযায় প্রাপ্তবয়স্ক ধরনের জড়িত',\n 'ডিজিটাল সিগন্যালিংয়ের অন্যান্য মৌলিক সীমাগুলি নাইকোয়েস্ট সালে আবিষ্কার হার্টলি সালে',\n 'বাংলাদেশ সাইবার সিকিউরিটি আইন অনুযায়ী ধারাটি',\n 'কারখানায় একজন শ্রমিক প্রতিদিন পাঁচ ঘন্টার প্রতিমাসে ঘণ্টার ওভারটাইম পারবে ধরনের constraint user অবশ্যই পালন ব্যবস্থা Database manager',\n 'এক্ষেত্রে নিচের স্তরে এনটিটিসমূহ প্রারম্ভিক কার্যাবলী সম্পন্ন উপরের স্তরের এনটিটি সমূহ সার্ভিস প্রদান',\n 'কম্পিউটার কম্পিউটার সিস্টেম কম্পিউটার নেটওয়ার্কে অন্যায়ভাবে হস্তক্ষেপ কারসাজি করিয়া ব্যক্তির সেবা গ্রহণ ধার্যকৃত চার্জ অন্যের জমা করিবার',\n 'রিলোকেট্যাবল ডাইনামিক্যালি রিলোকেট্যাবল পার্টিশনড এলোকেশন পদ্ধতিতে ফ্রাগমেন্টেশন সমস্যা বললেই',\n 'ডাটাবেসসিস্টেম ব্যবহারকারীদের চারটি ভিন্ন ধরণের যেভাবে আলাদা আলাদা সিস্টেমের ইন্টারঅ্যাক্ট আশা',\n 'কার্যকর প্রজেক্ট ব্যবস্থাপনায় সফটওয়্যার প্রজেক্ট ম্যানেজমেন্ট টুলস ব্যবহৃত Gantt চাট Pert চাট রিসোর্স হিস্টোগ্রাম Critical পথ বিশ্লেষণ',\n 'Common Lisp Scala Haskell Erlang F ফাংশনাল ভাষায় উদাহরণ',\n 'অ্যাট্রিবিউটগুলোর ভ্যালুর সমন্বয়ে নির্দিষ্ট কাস্টমারের তথ্য Information পাওয়া যায়',\n 'মার্কিন যুক্তরাষ্ট্রে উভয় স্যাটেলাইট একযোগে সংকেত গ্রহণ',\n 'কেন্দ্রীভূত সিস্টেমে কেন্দ্রীয় সাইটের ডাটাবেস অ্যাডমিনিস্ট্রেটর ডাটাবেস নিয়ন্ত্রণ',\n 'কম্পিউটারে প্রবেশ করিয়ে গুরুত্বপূর্ণ ডাটা অনলাইন একাউন্ট ইনফরমেশন ক্রেডিট কার্ড ইনফরমেশন চুরি',\n 'হার্ডওয়্যার সফ্টওয়্যার ডেটা সমন্বিত কম্পিউটার সিস্টেমকেও',\n 'এট্রিবিউট এট্রিবিউটসমূহের ভিত্তি এনটিটি সেট এনাটটি সনাক্তকরন অনুসন্ধান সম্পর্ক স্থাপন যায় এট্রিবিউট এট্রিবিউট সমূহের কম্বিনেশনকে',\n 'সফটওয়্যার রিকয়ারমেন্ট ইঞ্জিনিয়ারিং যোগ্যতা রক্ষণাবেক্ষণ উৎপাদনশীলতা ইন্ডিগ্রেশন বিষয়াদি',\n 'এইভাবে সত্যই সমান্তরালে চলমান একাধিক প্রক্রিয়া পরিচালনার অনেকগুলি সমস্যা ডেটাতে একযোগে অ্যাক্সেস এককপ্রসেসর মেশিনের ডিজাইন ডেটাবেস ইতিমধ্যেই সমাধান',\n 'সেগমেন্ট তথ্যের সমষ্টি এনটিটির ন্যায় আচরণ',\n 'নেটওয়ার্ক ইন্টারফেসিং ডিভাইস ড্রাইভার নেটওয়ার্কিং ডিটেইলস',\n 'ওয়ার্ড প্রসেসরের বানান পরীক্ষন বৈশিষ্ট্য সফটওয়্যারের মডিউল ওয়ার্ড প্রসেসরের নির্বাহ',\n 'সফটওয়্যার প্রোগ্রাম তৈরি কাস্টমার ইন্ডের হোস্ট মেশিনে ইন্সটলেশনের বিষয়টি মাথায় ডিজাইন দরকার',\n 'পূর্ণ সফটওয়্যার রিকয়্যারমেন্ট স্পেসিফিকেশন অবশ্যই বোধগম্য Comprehensible হওয়া প্রয়োজন',\n 'ডিসট্রিবিউটেড ডাটাবেস সিস্টেম অনেকগুলো Node সমন্বয়ে তৈরী এক ধরনের ডাটাবেস সিস্টেম Nodeগুলো Main মেমোরী Main Storage Device শেয়ার ডাটাবেসকে কম্পিউটারে সংরক্ষণ',\n 'প্রসিডিউরাল ভাষায় প্রোগ্রামের প্রবাহ প্রসিডিওর সমূহের নির্বাহ',\n 'প্রসেস ইন্টারনাল এড্রেসগুলোর রিলোকেশন স্ট্যাটিক্যালি লোড টাইমে সংঘটিত কমপ্যাকশন সম্ভব',\n 'কীলগার এক ধরনের প্রোগ্রাম ইউজারের কম্পিউটার গোপনীয় তথ্য ইউজার আইডি পাসওয়ার্ড যেকোনো লগইন তথ্য সবকিছু সংগ্রহ পরবর্তীতে লগারের প্রেগ্রামারকে তথ্য পাঠিয়ে দেয়',\n 'সেকেন্ডারি মেমরি হিসেবে হার্ড ডিস্ক ফ্লপি ডিস্ক ম্যাগনেটিক ডিস্ক চুম্বকীয় টেপ ব্যবহৃত',\n 'ম্যাগনেটিক্যালি ইনকোডেড ডাটা Magnetical Encoded Data অপটিক্যালি Optically রিড Read যায়',\n 'সাইবার তথ্য নিরাপত্তা গোপন তথ্যসমূহ নিরাপদে রাখে',\n 'নির্ধারিত Structure পরবর্তিতে Definition Language Compile',\n 'অ্যান্ড্রয়েড ডিভাইস জিমেইলএ ইমেইল গ্রেডিং নিয়ন্ত্রণ Conversation Viewএর পাশের চেকবক্সটিতে টিক',\n 'ফাইল ম্যানেজমেন্ট File management সকল সিস্টেম প্রেগ্রামগুলো ফাইল তৈরি Create মুছা Delete কপি Copy পুনরায় নামকরণ Rename প্রিন্ট Print dump লিস্ট List তৈরি',\n 'সময়ে নেটওয়ার্কের অব্যবহৃত অন্যান্য লাইনগুলো ট্রাফিক সুইচিং ট্রান্সমিশনের',\n 'বুটুথ Bluetooth ডিভাইসগুলো feet দূরত্বে কমিউনিকেট ওয়্যারলেস টেকনোলজি',\n 'ইন্টারনেটের যেকোনো অপরাধ সংঘটিত সাইবার অপরাধ',\n 'লব্ধ ওয়েভকে মডুলেট ওয়েভ রেডিও ওয়েভ পদ্ধতিকে মডুলেশন',\n 'মূলত স্টোরেজ সিস্টেমের ভিন্নতা নির্ভর গতি মূল্য আকৃতি ভোলাটিলিটি বৈশিষ্ট্যের',\n 'নিরাপত্তার ভাঙ্গন প্রতিরোধ পর্যাপ্ত প্রতিরোধমূলক ব্যবস্থা',\n 'প্রতিষ্ঠান ব্যক্তির সফটওয়্যারটি তৈরি চাহিদা মোতাবেক সফটওয়্যারটি ভেলিডেট',\n 'ক্রিপ্টোগ্রাফিক সিস্টেমের বিরুদ্ধে আক্রমণের তালিকাটি অবশ্যই সম্পূর্ণ',\n 'কমিউনিকেশন সংযোগ কম্পিউটারের প্রসেসের প্রসেসগুলো কম্পিউটারে পরস্পর নেটওয়ার্কের সংযুক্ত',\n 'ইনফ্রারেড কমিউনিকেশন স্ট্যান্ডার্ডটি IRDA ইন্ডাস্ট্রি বেসড গ্রুপ কর্তৃক সংজ্ঞা দান হয়েছে',\n 'প্রয়োজনীয়তা সমূহ সংগঠিত ধাপে ডেভেলপার সফটওয়্যার রিকয়ারমেন্ট সমূহের গুরুত্ব প্রয়োজনীয়তা সুবিধা অনুযায়ী প্রায়োরিটি প্রদান অনুযায়ী সাজান',\n 'মানুষের ত্রুটির কারণে ডাটা মুছে ডাটা চুরি হয়ে প্রাকৃতিক দুর্যোগ ডিভাইস চুরি ডাটাবেস পুনরুদ্ধারের মূল উদ্দেশ্য লস হওয়া ডাটার ব্যবহারযোগ্য কপি তৈরি',\n 'সহজভাবে অবৈধ উদ্দেশ্যে কম্পিউটার নেটওয়ার্ক সুরক্ষা সিস্টেমে অননুমোদিত অ্যাক্সেস নিয়ন্ত্রণ প্রচেষ্টার নামই হ্যাকিং',\n 'পারফরম্যান্স খুবই দুর্বল',\n 'ইনফরমেশন মেইনটেন্যান্স System callsএর প্রয়োজনীয় প্রসেসের সময় তারিখ নির্ধারণ',\n 'টুইস্টেড পেয়ার ক্যাবল অন্যান্য LAN ক্যাবলের তুলনায় মিটার UTPএর দাম কম পড়ে',\n 'টেবিল মুছে ফেলার DROP স্টেটমেন্ট',\n 'মনুষ্যযান মহাকাশে উৎক্ষেপণের সময় নাসা National Aeronautics And Space AdministrationNASA এভাবে উৎক্ষেপণের স্থান হেড কোয়ার্টারে রিপোর্ট প্রদান করেছিল',\n 'আনঅথেনটিক পেন ড্রাইভ পিসিতে সংযোগ করলেও ভালোভাবে Scan',\n 'প্রসেস সিডিউলিংএর উদ্দেশ্য এক একাধিক Processorএর Process রেসপন্স টাইম Response time Throughput Processor efficiency বিবেচনা processসমূহ নির্বাহ তাদেরকে assign',\n 'নেটওয়ার্কসমূহের প্রোটোকল সম্পূর্ণ ভিন্ন রকমের রাউটারের চেয়েও অধিক শক্তিশালী বুদ্ধিমান ডিভাইসের প্রয়োজন হয়আর ডিভাইসটি গেটওয়ে',\n 'নিরাপত্তা পরিকল্পনার কন্টেন্ট থাকতে প্রয়োজনীয় প্রভাব উত্পন্ন',\n 'একাধিক প্রসেস একসঙ্গে রান অবশ্যই প্রসেস প্রসেসকে বাধাগ্রস্ত Interfere অপারেটিং সিস্টেম নিয়ন্ত্রণ',\n 'কম্পিউটারের চালিকাশক্তি OS তেমনি Kernel OSএর চালিকাশক্তি',\n 'স্টার টপোলজি নেটওয়ার্কে গঠন সহজ কন্ট্রোল সফটওয়্যার সরল',\n 'যেহেতু কোরের অভ্যন্তরে Refractive Index সুষমভাবে বণ্টিত কোরের অক্ষ দূরত্বের হ্রাস পায় কাজেই আলোক রশ্মিগুলো প্রতিসরণের বাঁকা হয়ে যায়',\n 'টেলিভিশন রিসিভঅনলি টিভিআরও টার্মিনালের লিঙ্ক বাজেট টিভি সিগন্যাল গ্রহণের ব্যবহৃত স্যাটেলাইট মূল্যায়ন',\n 'স্পাইওয়্যার বৈধ কোড সফটওয়্যারেও থাকতে',\n 'সফটওয়্যার ডিজাইন স্ট্রাটিজি ডিসিপ্লিন প্রতিষ্ঠানকে দ্রুততম সময়ে দীর্ঘ মেয়াদী উভয় তৈরি কিভাবে সংশ্লিষ্ট বিষয়গুলোকে ডিজাইন বিষয়ে সিদ্ধান্ত গ্রহণ সাহায্য',\n 'রিপিটার স্টেশনে মূল স্টেশনের তাক অ্যান্টেনা f ফ্রিকুয়েন্সির সিগন্যাল গৃহীত',\n 'স্টোরেজ সিস্টেমের বিস্তৃত বৈচিত্র্য অনুক্রমের সংগঠিত',\n 'চ্যানেল লিংকের অংশ একজোড়া লাইনের Stream বহনে সহায়তা',\n 'ধরনের পরিস্থিতি মোকাবেলা দরকার ইন্টেলেকচুয়াল প্রপার্টি আইনের প্রয়োগ',\n 'কম্পিউটার ভাইরাস মূলত প্রোগ্রামারদের ডেভেলপ ক্ষতিকর প্রোগ্রাম',\n 'তাছাড়া ভাটা দ্রুত পড়া Read যায়',\n 'প্রযুক্তির অনুমতি প্রক্রিয়াকরণ ট্রান্সপন্ডার ত্রুটি কর্মক্ষমতা ডিজিটাল সিগন্যালিংয়ের উন্নতি উপলব্ধি ব্যবহারে আসা',\n 'ফাইল মুছে ফেলার নামযুক্ত ফাইলের ডিরেক্টরি অনুসন্ধান',\n 'আরেক দল ক্র্যাকার সফটওয়্যার টুলের সিস্টেমে অবৈধভাবে প্রবেশ',\n 'পাসিং রেফারেন্স বাদ কথোপকথনের অংশ সফ্টওয়্যার কমই উল্লেখ',\n 'মডুলেটেড ক্যারিয়ার ওয়েভের প্রেক্ষিতেও মডুলেশন ইনডেক্সকে সংজ্ঞায়িত যায়',\n 'অবজেক্ট অরিয়েন্টেড ডাটা মডেল মূলত অবজেক্ট অরিয়েন্টেড প্রোগ্রামিং ল্যাংগুয়েজের ধারণার প্রতিষ্ঠিত',\n 'সিস্টেমটি ব্যবহারযোগ্য দক্ষতার ডেটা পুনরুদ্ধার',\n 'কমান্ড পেলে প্রোগ্রাম ডিস্ক মেমোরিতে পূর্বের প্রোগ্রাম ওভাররাইট',\n 'সিগন্যালের সেকেন্ডে ডাটা ট্রান্সফারের হারকে Data Rate',\n 'কোড লেখার সময় প্রোগ্রামারগণ কোড উদ্দেশ্য কারা লিখছে কোথায় প্রয়োজন',\n 'উপাদানস্তরের নকশা সফ্টওয়্যার আর্কিটেকচারের কাঠামোগত উপাদানগুলিকে সফ্টওয়্যার উপাদানগুলির পদ্ধতিগত বিবরণে রূপান্তরিত',\n 'অননুমোদিত ব্যবহারকারী এসব সেজন্য ডাটাবেস সিস্টেমে ডাটাবেসের ব্যবহারকে কঠোরভাবে নিয়ন্ত্রণ',\n 'OS কম্পিউটারের Information managementএর কাজও',\n 'যেহেতু একাধিক প্রক্রিয়া শেয়ার্ড মেমরিতে ডেটা স্ট্রাকচারের আপডেট পড়তে সম্পাদন পারস্পরিক বর্জন নিশ্চিত অবশ্যই ব্যবস্থা থাকতে অর্থাৎ ডাটা স্ট্রাকচার একবারে সর্বাধিক প্রক্রিয়া পরিবর্তিত প্রক্রিয়াই ডেটা স্ট্রাকচার পড়ছে অন্যান্য প্রক্রিয়া লেখা',\n 'অর্থাৎ মধ্যবর্তী কার্যকরী প্রতিনিধি ব্যতিরেকেই উপাত্ত নিয়ন্ত্রণ তথ্য এনটিটিসমূহের সরাসরি বিনিময়',\n 'ডাটা ডিকশনারি ফাইল মেটা ডাটা অর্থাৎ ডাটা সম্পর্কিত ডাটা গঠিত',\n 'যেকোনো Programকে Computer Execute প্রয়োজনীয় Translator Like compiler assembler or interpreter দরকার',\n 'ক্রিপ্টোগ্রাফি আধুনিক ইলেকট্রনিক যোগাযোগের ঘনিষ্ঠভাবে যুক্ত',\n 'যাইহোক Rijndael ডিজাইনাররা পদ্ধতির প্রস্তাব দ্রুত সফ্টওয়্যার বাস্তবায়ন',\n 'Ransomware আক্রমণের বিরুদ্ধে ব্যবসার মূল্যবান তথ্য রক্ষা একাধিক স্থানে ব্যাকআপ',\n 'রাউটার ব্রিজের বিপরীত কাজটিই ডেটা ট্রাফিক ফরোয়ার্ড',\n 'ভেলিডেশন প্রক্রিয়া ইউজারের চাহিদা মোতাবেক সফটওয়্যারটি তৈরি হয়েছে পরীক্ষনের ব্যবহৃত',\n 'কম্পিউটারের প্রসেস Process প্রসেসের প্রকার তথ্যের আদানপ্রদানের সংযোগ রক্ষা',\n 'সিডো কোড প্রোগ্রামিং ভাষার কাছাকাছি',\n 'ধরনের কম্পিউটার সিস্টেমে ডাটাবেস সিস্টেমকে রান করানো সিস্টেমের ভিত্তি ডাটাবেস সিস্টেম গড়ে উঠে',\n 'প্রথমে ডেভেলপার কাঙ্খিত পরিবর্তন ফাংশন সংবলিত স্বয়ংক্রিয় টেস্ট কেস লিখেন এরপর টেস্ট পাসের সর্বনিম্ন কোড নির্দেশ এরপর কোডকে গ্রহণযোগ্য মানে আসা',\n 'ট্রিগারকে ইভেন্ট কন্ডিশন নামক অংশে ভাগ',\n 'পুরানো অপারেটিং সিস্টেম অ্যান্টিভাইরাস প্রোগ্রামের অনুপস্থিতিতে সহজে আক্রমণ',\n 'অপারেটিংসিস্টেম ডিজাইনের সম্ভবত সেরা বর্তমান পদ্ধতি জড়িত লোডযোগ্য কার্নেল মডিউল',\n 'ডাটাবেস ব্যাক আপ ডাটাবেসের ডাটা নিরাপদ স্থানে সংরক্ষিত',\n 'databaseএর বিশ্বস্ততা বৃদ্ধি পায়',\n 'সিনক্রোনাস টাইম ডিভিশন মাল্টিপ্লেক্সিং ডাটা ইউনিটের চারটিকে ঘুরে ফ্রেমে ইনপুট সংযোগগুলোকে সংগ্রহ',\n 'পাওয়ার অকৃতকার্য Failure ডাটা নষ্ট',\n 'মডিউল উপাদান গুলো একসাথে গ্রুপভুক্ত টাস্ক সম্পাদনে পর্যায়ক্রমিকভাবে নির্বাহ এটিকে পদ্ধতিগত সংযুক্ত',\n 'IBM cabling system কর্তৃক স্পেসিফিকেশনকৃত STP ক্যাবল টোকেন রিং নেটওয়ার্কগুলোতে ব্যবহৃত',\n 'বিপরীতে আধুনিক ডাটাবেস অ্যাপ্লিকেশনগুলি ত্রিস্তরীয় স্থাপত্য ক্লায়েন্ট মেশিন শুধুমাত্র ফ্রন্ট এন্ড সরাসরি ডাটাবেস কল',\n 'রিলেশনাল মডেলে ডেটা টেবিলের আকারে উপস্থাপিত',\n 'অবজারভার পদ্ধতি ক্লাস সমূহের সংখ্যা পরিবর্তনের নোটিফাই',\n 'Processing result main memory সরাসরি Printerএ পাঠিয়ে Disk Tapeএর পাঠানো',\n 'নিরাপদ প্রতিসম সাইফারের বড় স্পেস প্রয়োজনীয় পর্যাপ্ত শর্ত',\n 'একমাত্র Trigger তৈরির কাজটি',\n 'স্ক্রিপ্ট কিডি হ্যাকার বুঝায়',\n 'ডাটাবেজ সিকিউরিটি ফিচার দিয়ে ইউজার এ্যাকশন অডিট',\n 'প্রক্রিয়ায় প্রোগ্রামারগণ কমান্ড তৈরি সহজেই সিস্টেমে সংযুক্ত',\n 'উপায়ে সফ্টওয়্যার ডিজাইন প্রতিটি মডিউল প্রয়োজনীয়তার নির্দিষ্ট উপসেটকে সম্বোধন প্রোগ্রামের অন্যান্য অংশ সহজ ইন্টারফেস গঠন স্বাধীনতা গুরুত্বপূর্ণ জিজ্ঞাসা ন্যায়সঙ্গত',\n 'Programএর নির্বাহের শেষ হওয়া Program সম্পন্ন',\n 'সুইচের অন্যান্য হাবের প্রধান পার্থক্য সুইচ সিগন্যাল রিসিভ সরাসরি টার্গেট পোর্ট পোর্টসমূহে প্রেরণ',\n 'স্থাপত্য নকশা সফ্টওয়্যারের প্রধান কাঠামোগত উপাদান স্থাপত্য শৈলী নিদর্শনগুলির সম্পর্ককে সংজ্ঞায়িত সিস্টেমের সংজ্ঞায়িত প্রয়োজনীয়তাগুলি অর্জন স্থাপত্য বাস্তবায়নের উপায়কে প্রভাবিত বাধাগুলি',\n 'Scrum Agile প্রসেস ফ্রেমওয়ার্ক প্রয়োজনীয় Practices সমূহ নির্ধারণ',\n 'ম্যাগনেটিক ডিস্ক Magnetic Disk Storage বহুল ব্যবহৃত দীর্ঘস্থায়ী স্টোরেজ মিডিয়াম',\n 'বরাদ্দকৃত সময় শেষে Running processকে সাময়িকভাবে স্থগিত',\n 'এজন্য সিম্যান্টিক ডাটা মডেলকে মাঝে মাঝে কনসেপচুয়াল ডাটা মডেল Conceptual data modelও',\n 'পাসওয়ার্ডের স্বাদ কিছুটা দেয়',\n 'কম্পিউটার সিস্টেমে অনুমতিবিহীন অ্যাক্সেসের তথ্য প্রযুক্তির সাইবার ক্রাইমসের কম্পিউটারে উপস্থিত ডেটার ক্ষতি মুছে ফেলা পরিবর্তন যায়',\n 'কানেক্টরের অবস্থান ক্যাবল নেটওয়ার্ক ইন্টারফেস কার্ডের NIC Network Interface Card',\n 'প্রতিটি সাইটের কম্পিউটারসমূহ ডাটা আদানপ্রদান লোকালট্যানজ্যাকশন',\n 'বাউন্ডারি ভ্যালু অ্যানালাইসিস হায়ার লোয়ার ইন্ড ভ্যালুগুলো টেস্টে উত্তীর্ণ ইন্ড মধ্যবর্তী সকল ভ্যালুও উত্তীর্ণ',\n 'প্রোগ্রাম শুধুমাত্র Userএর নির্দেশ মেনে',\n 'ইব্যাংকিং ব্যবহারের চেক বই অনুরোধ',\n 'এগুলো একাধিক বর্ণের ফ্রিকুয়েন্সির',\n 'রাউটার ডেটা প্যাকেটের প্রকৃতি ধরন পরিবর্তন সক্ষম',\n 'টেমপ্লেট মেথড সাব ক্লাসে এলগোরিদমের সঠিক ধাপসমূহ পৃথক',\n 'কমান্ড টেক্সটবেজড রেফারেন্স এক সেট ইন্সট্রাকশন যেগুলো সিস্টেম নির্বাহ প্রত্যাশা',\n 'সাধারণত Deadlock detection algorithm দুধরনের',\n 'ডিকশনারি অ্যাটাককে আরেকটু কার্যকরী আরেকটু কঠিন পাসওয়ার্ড ক্র্যাক সাহায্য হাইব্রিড অ্যাটাক',\n 'বাগ সফটওয়্যার Error ফলাফল সিস্টেম Fail হওয়ার',\n 'ডাটাবেস সিস্টেমকে সহজে সুশৃংখলভাবে উপস্থাপনের ER ডায়াগ্রামের গুরুত্ব অপরিসীম',\n 'এরূপ ডিভাইসের অন্যতম রাউটার ব্রাউটার সিএসইউডিএসইউ গেটওয়ে',\n 'স্টার টপোলজি কারণে ব্যর্থ পুরো নেটওয়ার্ক ব্যবস্থা ভেঙে পড়বে',\n 'মডেলিং একজন ল্যান্ডস্কেপার একজন ব্রিজ নির্মাতা একজন অ্যারোনটিক্যাল ইঞ্জিনিয়ার একজন ছুতার একজন স্থপতি প্রতিদিন মডেলদের',\n 'ক্রিপ্টোগ্রাফিক আদিম অর্জন পাবলিককী ক্রিপ্টোগ্রাফি প্রয়োগ',\n 'কারণে সংঘর্ষ এড়ায় আংশিক প্যাকেট ওভারল্যাপ',\n 'এটিতে Level of block আকারে disk striping array ব্যবহৃত',\n 'আজকের ব্লক সাইফার প্রোডাক্ট সাইফার রাউন্ড গঠিত ডেটাতে বারবার প্রয়োগ',\n 'ছয়টি নীতি প্রয়োগ তীব্র চিন্তার প্রয়োজন সম্ভাব্য পুরষ্কারগুলি প্রচুর',\n 'Program নির্বাহের শেষ হওয়া program সম্পন্ন',\n 'ডাটা পরিবর্তনের সময় নির্ধারিত সময়সীমার মাঝে স্নাপশট পরিবর্তনগুলো দীর্ঘ সময়ের সংগৃহীত নিয়ার সিডিপি ব্যবহৃত',\n 'টেলিযোগাযোগ উন্নয়ন খাত ITUD প্রযুক্তিগত সহায়তা প্রদান উন্নয়নশীল দেশগুলির',\n 'টুইস্টেড পেয়ার ক্যাবল সাধারণত টেলিফোন লাইন',\n 'সফটওয়্যার মডেলের নিজস্ব টুলস মেথড প্রসিডিওর যেগুলো সফটওয়্যার ডেভেলপমেন্ট জীবনচক্র সঠিকভাবে নির্ধারণ',\n 'কোএক্সিয়াল লাইনে বাতাস গ্যাস স্পেসার শিল্ডকে ইনার কন্ডাক্টর স্পর্শ হাত মুক্ত',\n 'নেটওয়ার্ক সুরক্ষিত সম্ভাব্য হুমকিগুলো নেটওয়ার্কে প্রবেশ নেটওয়ার্কের বাহির ব্লক হয়ে যায়',\n 'এনটিটি এনটিটির এট্রিবিউটসমূহ রিলেশনশিপ রিলেশনশিপ সেট সম্পর্ক স্থাপন নিয়ম নীতিগুলো বর্নিত',\n 'ডাটাবেজ ম্যানেজমেন্ট সিস্টেমের Relational Database Redundancy Dependency Minimize Field Tableসমূহকে সুসংগঠিত পদ্ধতি ব্যবহৃত Normalization',\n 'তারপরও নেটওয়ার্ক এডমিনিস্ট্রেটরকে এসকল অ্যাড্রেস সম্পর্কে স্বচ্ছ ধারণা রাখতে',\n 'কাপলিং সফ্টওয়্যার কাঠামোর মডিউলগুলির আন্তঃসংযোগের ইঙ্গিত',\n 'ডিলেট হওয়া ফাইল রিকভারি নির্ভর ডাটার ফাইল সিস্টেমের',\n 'তারপরও প্রব্লেম ছাড়া ফাইবার',\n 'রেডিও কমিউনিকেশন ততোধিক অংশের সিম্বল সিগনাল ইন্টেলিজেন্সের Intelligence আদানপ্রদান ট্রান্সমিশনের মাধ্যম হিসেবে ইলেকট্রোম্যাগনেটিক ওয়েভকে',\n 'উদাহরণস্বরূপ অপারেটিং সিস্টেমের প্রয়োজন এক্সিকিউটেবল ফাইলের নির্দিষ্ট কাঠামো নির্ধারণ ফাইলটি মেমরিতে কোথায় লোড নির্দেশের অবস্থান',\n 'Database ব্যবহারিক উদ্দেশ্য নির্ণয়করণ কাজটি ভালভাবে পারলে অন্যান্য ধাপের কাজগুলো সহজ সঠিকভাবে সম্পন্ন',\n 'টেবিলে ধরনের রো প্রবেশের অনুমতি অনুমোদন Entity Integrity',\n 'উক্ত কারণগুলোর যেকোনো সংঘটিত সিপিইউ পরবর্তী প্রাধান্যের জব এসাইন',\n 'পার্সোনাল কম্পিউটার পিসি অপারেটিং সিস্টেম জটিল গেম ব্যবসায়িক অ্যাপ্লিকেশন সবকিছুকে সমর্থন',\n 'বাস টপোলজির সুবিধা কম্পিউটার অকেজো সংযোগচ্যুত অন্যান্য কম্পিউটারগুলো স্বাভাবিকভাবে চালিয়ে',\n 'ডাটাবেসের ডাটাকে ইনক্রিপ্ট পদ্ধতি প্রচলিত',\n 'একজন হ্যাকারের সিস্টেমটির নিরাপত্তা ভেদ মূল সিস্টেমে প্রবেশ সিস্টেমের নিয়ন্ত্রণ গ্রহণ',\n 'ধরনের Database system সাধারণত SQL database language ব্যবহৃত',\n 'Critical section problemএর যেকোনো সমাধানের পূর্বশর্ত রয়েছে',\n 'Android অপারেটিং সিস্টেমটি Open handset alliance ডিজাইন করেছিল অগ্রভাগে Google',\n 'Drop Authorization সাহায্যে একজন ইউজারকে ডাটাবেসের রিলেশন ডিলিট কর্তৃক দেয়া',\n 'সংশোধনমূলক রক্ষনাবেক্ষন ধরনের রক্ষনাবেক্ষণের সমস্যা চিহ্নিত করণ সংশোধন আপডেট',\n 'ধরনের নন রাউট্যাবল প্রোটোকলের সিগন্যালকে এক সেগমেন্ট সেগমেন্টে পাঠাতে ব্রিজ ব্যবহৃত',\n 'প্রোগ্রামগুলিতে প্রোগ্রামগুলির ব্যবহারকারীদের নির্দিষ্ট পরিষেবা সরবরাহ',\n 'ক্র্যাকারদের শ্রেণিতে অগ যায়',\n 'ত্রুটি পড়ে সিস্টেমের নির্ণয় ত্রুটি হ্যান্ডলিং সরল বোধগম্য পদ্ধতি প্রস্তাব দরকার',\n 'Computer hardware Computer userএর সমন্বয় Interface তৈরি Operating system OSএর প্রধান',\n 'সিগন্যাল ফ্রিকুয়েন্সির সর্বোচ্চ সর্বনিম্ন মানের মধ্যকার পার্থক্যকে Bandwidth',\n 'রিপিটার হাব নেটওয়ার্ক অ্যাড্রেস ডেটা প্যাকেটের জটিল বিষয়গুলো অনুধাবন সক্ষম',\n 'ব্যবহারকারী ডাটাবেসকে',\n 'লক্ষ্যটি সম্পন্ন বুটস্ট্র্যাপ প্রোগ্রামটিকে অবশ্যই অপারেটিংসিস্টেম কার্নেল সনাক্ত মেমরিতে লোড করুন',\n 'সফটওয়্যার ডিজাইন ধাপে ইউজার প্রদত্ত তথ্য অন্যান্য সংগৃহীত অন্যান্য তথ্যাদি ইনপুট হিসেবে গৃহীত',\n 'যেকোন Apps দুর্বল বানানোর attack',\n 'সিম্যান্টেক ডাট্যমডেল মূলত অ্যাবস্ট্রাক্ট জমাকৃত সিম্বল ডাটাকে রিয়াল ওয়ার্ল্ড Real worldএর সম্পর্ক তৈরিতে ডিফাইন সাহায্য উপস্থাপন',\n 'সবচেয়ে কম ট্রান্সমিশন মিডিয়াম টুইস্টেড পেয়ার',\n 'সফটওয়্যারের কম্পোনেন্টসমূহ কম্পোনেন্ট সমূহের অপরের ইন্টারফেসিং বিষয়টি নির্ধারণ',\n 'স্পাইওয়্যার এক ধরনের সফটওয়্যার ইউজারের অজান্তেই কম্পিউটারে ডাউনলোড হয়ে ইন্সটেল ইউজারের কম্পিউটারে ধরনের তথ্য চুরি পাচার',\n 'স্পীড মূল্য দিক ক্যাশ মেমোরি মেইন মেমোরির অবস্থান',\n 'সচরাচর ব্যবহৃত ছোট কাজের Response Modest হওয়া কম ব্যবহৃত গুরুত্বপূর্ণ কাজগুলোর Responsible হওয়া',\n 'মেইন মেমরি ভোলাটাইল স্টোরেজ ডিভাইস হওয়া বিদ্যুৎ কন্টেন্ট মুছে যায়',\n 'Skywave propagation পদ্ধতিতে মেগাহার্টজের বেশী মেগাহার্টজের কম মেগাহার্টজের ধরনের signal পদ্ধতি ব্যাবহার',\n 'Processor Hardware device instructionসমূহকে পর্যায়ক্রমে সম্পাদন execution সামর্থ্য যোগ্যতা রাখে',\n 'ব্লকের ডিল সময় গুরুত্বপূর্ণ সম্পত্তি সাইফার',\n 'সার্ভার ডাটাবেস রান ক্লায়েন্টের ডাটার রিকুয়েস্ট সাড়া প্রদান',\n 'ডিসজয়েন্ট জেনারালাইজেশনকে উপস্থাপন সিম্বলটি',\n 'সফ্টওয়্যার ইঞ্জিনিয়ারিং সরঞ্জামগুলি প্রক্রিয়া পদ্ধতিগুলির স্বয়ংক্রিয় আধাস্বয়ংক্রিয় সহায়তা প্রদান',\n 'প্রটোকল ডাটা ফ্রেমের ত্রুটি নির্ণয়ক বিট প্রেরক প্রাপকের ঠিকানা সংযুক্ত',\n 'কৃত্রিম বুদ্ধিমত্তা সফ্টওয়্যার নিয়মিত গণনা সহজবোধ্য বিশ্লেষণের উপযুক্ত জটিল সমস্যা সমাধানের হিউরিস্টিকস এলাকার অ্যাপ্লিকেশনগুলির রোবোটিক্স সিদ্ধান্ত সিস্টেম প্যাটার্ন রিক অগ্নিশন ছবি ভয়েস মেশিন লার্নিং উপপাদ্য প্রমাণ গেম খেলা',\n 'কমান্ডলাইন ইন্টারফেসগুলি সাধারণত পুনরাবৃত্তিমূলক কাজগুলিকে সহজ তোলে নিজস্ব প্রোগ্রামযোগ্যতা',\n 'অপারেটিং সিস্টেমের ইন্টারফেস দ্বিতীয় কৌশল ব্যবহারকারীবান্ধব গ্রাফের',\n 'ভাইরাস VIRUS শব্দের পূর্ণরূপ Vital Information Resources Vnder Seize অর্থ জরুরী তথ্যের উৎসগুলো বাজেয়াপ্ত হয়েছে',\n 'ডাটাবেসের রেকর্ড টেবিল মুছে ফেলার Delete কমান্ডটি ব্যবহৃত',\n 'কমান্ড নির্বাহের ফলাফল পর্দায় দেখানো',\n 'ফাইলের বৈশিষ্ট্যগুলি অপারেটিং সিস্টেম অন্যটিতে পরিবর্তিত',\n 'ব্যক্তিগত সনাক্তকরণ তথ্যের সুরক্ষার আপনাকে সচেতন থাকতে',\n 'সাইনওয়েভের প্যারামিটার',\n 'অ্যামপ্লিচিউড মডুলেশনের অ্যামপ্লিচিউড মডুলেটেড ওয়েভের ফ্রিকুয়েন্সি অর্থাৎ ক্যারিয়ার ফ্রিকুয়েন্সি fcএর সমান',\n 'ডিভাইস কন্ট্রোলার লোকাল বাফার স্টোরেজ একসেট স্পেশাল পারপাস রেজিস্টারকে মেইনটেইন',\n 'সমাধানের উপাদানগুলি পুনরায় ব্যবহারযোগ্য',\n 'ফাইবার অপটিক ক্যাবলে ধরনের ক্যাবলিং Cost Requirement cost বর্তমানে দাম কমে আসছে',\n 'ER EntityRelationship এন্টারপ্রাইজ স্কীমা সুনির্দিষ্ট কনস্ট্রেইন্টকে ডিফাইন অবশ্যই ডাটাবেস কন্টেন্টের অনুরূপ',\n 'ডাটালস প্রতিহত সবচেয়ে ভাল উপায় ডাটা ব্যাকআপ',\n 'ডাটাবেস সিস্টেমে ডাটাবেসকে সার্ভার কম্পিউটারের মেমোরিতে সংরক্ষিত নেটওয়ার্কিং সহায়তা একাধিক ক্লায়েন্টের পরিচালনা নিয়ন্ত্রণ যায় সার্ভার ডাটাবেস সিস্টেম',\n 'সিস্টেমে ব্যবহৃত কম্পিউটারগুলো কমিউনিকেশন মিডিয়া ইন্টারনেট কর্পোরেট ইন্ট্রানেট এক্সট্রানেট কোম্পানীর প্রাইভেট নেটওয়ার্ক টেলিফোন লাইনএর সাহায্যে একটির অপরটি সংযুক্ত',\n 'আলোকে কোরের নির্দিষ্ট অ্যাঙ্গেলে নিক্ষেপ',\n 'আক্রান্ত কম্পিউটার আরেকটি কম্পিউটারে কপি কম্পিউটারকেও আক্রান্ত ফাইল নামের ফোল্ডার তৈরি সিস্টেমকে স্লো ফেলে',\n 'সিস্টেম কম্পিউটার নেটওয়ার্কের দুর্বলতা খুজে বের সেটির নিরাপত ভাংগাই হ্যাকারদের',\n 'টিসিপি আইপির পোর্ট এড্রেস আইপি এড্রেস একত্রিত হয়ে গঠন সকেট',\n 'এক্ষেত্রে দুইটি মডিউল অপরের ডাটা পাসিং প্যারামিটার আন্তক্রিয়া সম্পাদন',\n 'তরঙ্গ দৈর্ঘ্য Wave Length সিগন্যাল পিরিয়ডে দূরত্ব অতিক্রম তরঙ্গ দৈর্ঘ্য The Wave length is the distance a simple signal can travel in one period তরঙ্গ দৈর্ঘ্য সিগন্যালের বৈশিষ্ট্য ফ্রিকুয়েন্সি মাধ্যমের নির্ভরশীল',\n 'ওয়্যারলেস মিডিয়া মানে তারবিহীন মাধ্যম',\n 'এছাড়াও যৌন উত্তেজনা সৃষ্টিকারী অশ্লীল বই সাময়িকী ভাস্কর্য কল্পমূর্তি মূর্তি কার্টুন লিফলেটও পর্নোগ্রাফি',\n 'প্রচেষ্টা সাধারণত আবর্জনা উত্পাদন সফল অপারেটিং সিস্টেম ফাইলটি বাইনারিঅবজেক্ট প্রোগ্রাম',\n 'সফটওয়্যার ডেভেলপমেন্ট লাইফ সাইকেল SDLC সফটওয়্যার প্রোডাক্ট ডেভেলপ পর্যায়ক্রমিক গাঠনিক ধাপের সমন্বয়',\n 'Site communication সময় অনুবাদক Program দরকার',\n 'মোডে ট্রান্সমিট কারণে সিঙ্গেল মোড স্টেপ ইনডেক্স ফাইবারের সুবিধা Low intermodal dispersion একাধিক প্রোপাগেটিং মোডগুলোর গ্রুপ ভেলোসিটি বিভিন্নতার কারণে মাল্টিমোড স্টেপ ইনডেক্স ফাইবারের উল্লেখযোগ্য dispersion থাকতে',\n 'এমনভাবে ট্রানসমিটার রিসিভারকে সেট ডাটা সোজাসুজি ট্রান্সমিট',\n 'Multiplexer অ্যানালগ মডিউলেট সিগন্যালগুলোকে Multiplexing Composite Baseband সিগন্যাল mbt উৎপন্ন',\n 'Requset পায় গ্রহণ উভয়ের সংযোগ তৈরি প্রয়োজনীয় সার্ভিস প্রদান',\n 'Symmetric মোডে ততোধিক অ্যাপ্লিকেশন রান অপরকে মনিটর',\n 'তথ্য নিরাপত্তার উপশ্রেণীর স্থানটি নিরাপদ নিশ্চিত ফিজিক্যাল পরিবেশের সুরক্ষা',\n 'সুন্দর স্ট্রাকচার ডিজাইন অনেকগুলো মডিউলের যোগাযোগ রক্ষা নিয়ম নীতি মেনে',\n 'বেশিরভাগ কম্পিউটার নিরাপত্তা কার্যকলাপ দূষিত মানব সৃষ্ট ক্ষতির সম্পর্কিত',\n 'রাখবেন উভয় স্থানান্তর বৃদ্ধি পায় DES নিরাপত্তা সময়ে',\n 'CREATE TABLE কমান্ডে Column definition ক্লজ a single clause রয়েছে প্রত্যেক কলামে প্যারামিটার রয়েছে কমা পৃথক',\n 'সফটওয়্যারের উপাদান সমূহ যুক্ত প্রতিষ্ঠান ইন্ড ইউজারের কার্যপ্রবাহকে সফটওয়্যারের প্রয়োগ',\n 'ফরেনসিক শব্দটির অর্থ অপরাধীদের খোজার তদন্তকারীদের ব্যবহৃত কৌশল বুঝায়',\n 'ফাস্ট ক্লাস হাই অর্ডার ফাংশন গুলো ফাংশনকে আর্গুমেন্ট গ্রহণ ফলাফল ফাংশনও রিটার্ন',\n 'ক্লায়েন্টসার্ভার নেটওয়ার্কে গুরুত্বপূর্ণ তথ্য ফাইলগুলো কয়েকটি সার্ভারে কেন্দ্রীভূত সহজেই এগুলো নিয়মিত ব্যাক আপ যায়',\n 'অ্যাজাইল সফটওয়্যার ডেভেলপমেন্ট মডেলে প্রথমে কাজকে ছোট ছোট অংশে ভাগ',\n 'বিমূর্ততা একজন ব্যক্তিকে জেনেই জটিল ডিভাইস সিস্টেম কীভাবে ডিভাইস সিস্টেমটি তৈরি বিশদ বিবরণ',\n 'মূল ডেটাকে গোপন পদ্ধতিকে এনক্রিপশন',\n 'কেবলমাত্র প্রয়োজনীয় সিগন্যাল রিসিভ নিশ্চয়তা প্রদান করেতারপর রিসিভার সিগন্যালকে ডিমডুলেট',\n 'টুইস্টেড পেয়ার ক্যাবল এক পেয়ারের চেয়ে পেয়ারকে একত্রে আঁটি ক্যাবল আকৃতিতে আনা যায়',\n 'নিরাপত্তা নীতি সংগ্রহশীল দলের নিরাপত্তা প্রয়োজনাগুলি অগ্রাধিকারগুলি নথী',\n 'হারিয়ে তথ্য পুনরুদ্ধারের যেমনঃ পাসওয়ার্ড হারিয়ে সেক্ষেত্রে হ্যাকিং প্রয়োজনীয়',\n 'Data splitting Applicationকে ভাগ ব্যবহৃত Dataসমূহকেও ভাগ আলাদা Coresএর run',\n 'এক্ষেত্রে সাইট পাবলিক নেটওয়ার্কের পরস্পরের সংযুক্ত',\n 'সিনক্রোনাস অপটিক্যাল নেটওয়ার্ক SONET WDM প্রয়োগ',\n 'টেকনোলজির উন্নতির প্রোগ্রামার ডিজাইনারগণ জটিল GUI ডিজাইন',\n 'পারমাণবিক সম্পত্তি নিশ্চিত চাই ব্যর্থ লেনদেন অবশ্যই ডাটাবেসের অবস্থার প্রভাব ফেলবে',\n 'বর্তমানে সকল অপারেটিং সিস্টেম ডিলিট হয়ে যেকোনো ফাইল স্থায়ীভাবে ডিলিট পুনরায় ব্যবহারকারীর নিশ্চিত করণের মেসেজ প্রদান ব্যবহারকারী ফাইল ডিলেট নিশ্চিত',\n 'কন্ট্রোলার ডিভাইস লোকাল বাফারে ডাটা ট্রান্সফার',\n 'সময় টেলিফোন কমিউনিকেশন Telephone Communication ইলেকট্রিক সিগন্যাল পাঠানোর একমাত্র মাধ্যম ধাতব মিডিয়া Metallic Media ধাতব মিডিয়ার কোয়ালিটি অত্যন্ত Poor লাইন Noisy পরিপূর্ণ প্রযুক্তি Technology অনভিজ্ঞতাসাহজিক',\n 'অন্যরা Windows UNIX কমান্ড ইন্টারপ্রেটারকে প্রোগ্রাম বিবেচনা যেটি চলছে একজন ব্যবহারকারী লগ ইন ইন্টারেক্টিভ অন সিস্টেম',\n 'কম্পিউটারে ডাটাবেস পরিচালিত ডাটাবেস সিস্টেমকে সেন্ট্রালাইজড সিস্টেম',\n 'ডাটা ইন্টিগ্রিটিকে তিন ভাগে ভাগ যায়',\n 'Traffic controller সাহায্য Scheduler processor processএর allocate',\n 'ফাইলের তথ্য ডাইরেক্টরি স্ট্রাকচারে এছাড়াও সেকেন্ডারি স্টোরেজে',\n 'কোম্পানিগুলো ইন্টারনাল সার্ভারসমূহে ওয়েভ অ্যাকসেসেবিলিটির পোর্টাল স্থাপন',\n 'ধরনের ডাটাবেস প্রায়ই ফলাফল প্রশ্ন লেনদেন ডাটাবেসের সীমানা অতিক্রম অনুমতি বিদ্যমান ডাটাবেসের একীকরণ',\n 'ইনফ্রারেড কমিউনিকেশনের এক কিলোমিটারের কম দূরত্বে Data transmit যায়',\n 'তথ্য নিরাপত্তা ব্যাক্তির পরিচয় চুরি Identity therat রক্ষা লক্ষ্যেও ব্যবহৃত',\n 'এক্ষেত্রে Encryption নিরাপত্তা পর্যাপ্তভাবে যায়নি',\n 'বিমূর্ততা সফ্টওয়্যারটি তৈরি পদ্ধতিগত তথ্যমূলক সত্তাগুলিকে সংজ্ঞায়িত সহায়তা',\n 'ডাটা পাঠাতে স্টোরেজের প্রয়োজন',\n 'প্রত্যেকটি সেগমেন্ট স্বতন্ত্র আলাদা লিনিয়ার মেমরি প্রত্যেকটি সেগমেন্ট আলাদা আকার',\n 'কাজেই রিপিটারের ব্যবস্থা',\n 'একাধিক সাইটের নির্বাচন কেবলমাত্র পাসওয়ার্ড হ্যাকারের অনেকেটাই কমিয়ে দেয়',\n 'Protection system callsএর রিসোর্সের ফাইল disk Permission set get',\n 'এগুলি ক্রিপ্টো অ্যালগরিদম দীর্ঘকাল ক্রিপ্টো বিশ্লেষণ সহ্য বেশিরভাগ দশক',\n 'উদাহরণস্বরূপ যায় Linux Solaris উভয়ই Performance পাওয়ার Single address space',\n 'নেটওয়ার্কের প্রিন্টার ইন্টারনেট কানেকশন হার্ডডিস্কস্পেস প্রভৃতির মত দামি রিসোর্স শেয়ার সম্ভব',\n 'রিকয়্যারমেন্ট ইঞ্জিনিয়ারিং লক্ষ্য সুন্দর সিস্টেমের সফটওয়্যার ডেভেলপ রিকয়্যারমেন্ট সমূহের প্রয়োজন সেগুলো বর্ণনা স্পেসিফিকেশন নথি Document তৈরি রক্ষণাবেক্ষণ',\n 'ভাইরাস এক ধরনের ক্ষতিকারক প্রোগ্রাম',\n 'স্টার টপোলজির কেন্দ্রীয় কম্পিউটার সার্বক্ষণিক সচল থাকতে',\n 'লোকেরা আইটি সিস্টেমটি ভাঙ্গতে ইতিমধ্যেই ভাঙছে নিয়ম এইভাবে অন্যায্য',\n 'Database Administrator ডাটাবেস স্কীমা ফিজিক্যাল স্টোরেজ অর্গানাইজেশন বর্ণনার একসেট ডেফিনিশন লিখে তাদেরকে মডিফাই ডিডি কম্পাইলার ডাটা স্টোরেজ DDL কম্পাইলার ব্যবহৃত',\n 'একটা উপযোগী পদ্ধতিতে অডিও সিগন্যালটি ক্যারিয়ার ওয়েভের সুপারইমপোজ',\n 'লেজার ডায়োডকে এলইডির পছন্দ সুসংগত আলো উৎপন্ন উচ্চ আউটপুট শক্তি',\n 'ইনফরমেশন সিকিউরিটির তিনটি নিরাপত্তা লক্ষ্য তথ্যসম্পদ সততা গোপনীয়তা প্রাপ্যতা নিশ্চিত',\n 'হার্ডওয়্যার উপাদান পরিধান অতিরিক্ত অংশ প্রতিস্থাপিত',\n 'ভিওআইপি প্রটোকল ইন্টারনেটের মধ্য দিয়ে ভয়েস প্রেরণের',\n 'ডেটাসার্ভার সিস্টেমগুলি মূলত অবজেক্ট ওরিয়েন্টেড ডেটাবেস ডেটা অ্যাক্সেস সমর্থন তৈরি অবজেক্টওরিয়েন্টেড ডাটাবেস প্রোগ্রামারদের প্রোগ্রামিং ভাষা অনুমতি ক্রমাগত অবজেক্ট তৈরি পুনরুদ্ধার আপডেট অনুমতি',\n 'এতেও ডাটা লেখা পুনরায় লেখা Rewrite সম্ভব',\n 'GUI ডেভেলপমেন্টের পরীক্ষন ধাপে প্রতিষ্ঠান কর্তৃক ইন হাউস ইন্সপেকশন ইউজারকে সরাসরি যুক্ত Beta ভার্সন প্রদর্শন বিষয়ে পরীক্ষা যায়',\n 'সাইবার Cyber শব্দের অর্থ অনলাইন জগত',\n 'আজকাল নিরাপদ নির্ধারিত আক্রমণকারীর বিরুদ্ধে DES স্থানটি ছোট লিগ্যাসি অ্যাপ্লিকেশনে ব্যবহৃত',\n 'স্ট্রাকচার ডিজাইনে সলিউশন ডিজাইন প্রাধান্য',\n 'আইবিএমএর টোকেন রিং নেটওয়ার্কের লজিক্যাল টপোলজি রিং ফিজিক্যাল টপোলজি স্টার',\n 'ডিজাইনের প্রয়োজনীয়তা মডেলের সুস্পষ্ট প্রয়োজনীয়তাগুলি বাস্তবায়ন স্টেকহোল্ডারদের কাঙ্খিত অন্তর্নিহিত প্রয়োজনীয়তাগুলিকে মিটমাট',\n 'প্রতিষ্ঠানের কোডিং গাইডলাইনের কোডিং উপাদানসমূহ নির্ধারণ',\n 'সফটওয়্যার ভেলিডেশন ইউজারের প্রয়োজনীয়তার গুরুত্ব দেয়',\n 'শ্রেণির ডাটাবেস ইউজার রয়েছে',\n 'অনলাইন নিরাপত্তা মূলত সচেতনতা উপায় ব্যক্তিগত কম্পিউটার ধরনের ডিজিটাল ডিভাইস কম্পিউটার সিস্টেম ইত্যাদিকে হ্যাকিং ধরনের আক্রমণ নিরাপদ',\n 'সাইবার বুলিং সামাজিক অর্থে অনলাইন জগতে দুজনএকাধিক ব্যক্তির তর্ক কথা কাটাকাটি দোষারপ খারাপ ভাষায় আক্রমন বুঝায়',\n 'প্রোগ্রাম সুষ্ঠুভাবে পরিচালনার অপারেটিং সিস্টেম পরিবেশ সৃষ্টি',\n 'প্রয়োজনীয় ডকুমেন্টেশন সফটওয়্যার ডিজাইনার ডেভেলপার টেস্ট টিম নিকট নিজ নিজ কার্যাদির key টুল',\n 'যাইহোক আধুনিক সফটওয়্যার ইঞ্জিনিয়ারিং প্রক্রিয়া কর্মতত্পর',\n 'অধ্যায়ে সংক্ষিপ্তভাবে ডাটাবেস সিস্টেমের নীতিগুলি উপস্থাপন',\n 'সফটওয়্যার বিকাশের ধাপসমূহ সফটওয়্যার প্রোডাক্ট তৈরির প্রয়োজনীয় তথ্য সংগ্রহ ডেভেলপার কর্তৃক প্রোটোটাইপ তৈরি ImpactAnalysis',\n 'ডাটাবেসের ডিজাইন কাঠামোকে ডাটাবেস স্কীমা DDL Data Definition Languageএর সাহায্যে স্বীমাকে ডিজাইন বর্ণনা',\n 'নিম্নগতির Device Dataকে Magnetic disk Tapeএ জমা Main memoryতে নির্বাহ একইভাবে ফলাফল Outputএ প্রদানের যায় গতিতে Disk Tape ডাটাকে Main memoryতে জমা গতিতে CPU মেইন মেমরি ডাটা প্রোগ্রাম নির্বাহ Disk Tapeএর Outputএ ফলাফল প্রদান',\n 'ডেটা নেটওয়ার্কে প্যাকেট আকারে চলাচল',\n 'প্রকার ট্রান্সমিশনের সবচেয়ে বড় সমস্যা সিগন্যাল অধিক তাপমাত্রা ভূপৃষ্টের সিগন্যালের টান্সমিশনে ব্যাঘাত সৃষ্টি',\n 'সেক্ষেত্রে আইপি কেবল আইএসপি নাম ঠিকানা পাওয়া যায়',\n 'অ্যাট্রিবিউটের মান তাকেও নাল অ্যাট্রিবিউট',\n 'GUI হার্ডওয়্যার সফটওয়্যার সমন্বয়ে',\n 'অ্যাপ্লিকেশনগুলির আর্কিটেকচারকে বিবেচনা ব্যাকএন্ড ডেটাবেস',\n 'টুকরা প্রতিটি ভালবিন্যস্ত অংশ সিস্টেম সাবধানে সংজ্ঞায়িত ইনপুট আউটপুট ফাংশন',\n 'ভবিষ্যতে হাইডেফিনেশন এইচডি ভিডিও ডাউনলোড ব্যবস্থা জানিয়েছে',\n 'ভাইরাস ছড়ানো স্প্যামিং কর্মকাণ্ডকে প্রতিহত',\n 'সফটওয়্যার আর্কিটেকচারের গুরুত্বপূর্ণ ভূমিকা সঠিক লক্ষ্যগুলি বোঝার সহজতা ভবিষ্যতের পরিবর্তনের নির্ভরশীলতা পুনঃব্যবহারের গুরুত্ব বৃদ্ধি',\n 'অবজেক্ট অরিয়েন্টেড ডিজাইন সফটওয়্যার সিস্টেমে ব্যবহৃত ফাংশন সমূহের পরিবর্তে এনটিটি সমূহ বৈশিষ্ট্য গুলোর',\n 'বিতরণ ডাটাবেসগুলি ডেটা সঞ্চয়ের অনুমতি একাধিক ভৌগলিকভাবে পৃথক মেশিন জুড়ে অনুসন্ধান প্রক্রিয়াকরণ',\n 'কম্পিউটার নিরাপত্তায় অপরাধ ঠেকাতে সাধারণত কম্পিউটার নেটওয়ার্ক অন্যান্য ডিভাইসগুলোর এক্সেস ব্যবহারে যথাযথ নিয়ন্ত্রণই কম্পিউটারের ফরেনসিক',\n 'প্রথমত শেয়ার্ডডিস্ক সিস্টেম শেয়ার্ডমেমরি সিস্টেমের সংখ্যক প্রসেসরে স্কেল',\n 'অপটিক্যাল ফাইবার ক্যাবল সমতুল্য তামার তারের তুলনায়এর ডাটা প্রবাহের হার',\n 'স্টোরেজ ম্যানেজার মিথস্ক্রিয়া দায়ী ফাইল ম্যানেজারের',\n 'ক্লায়েন্টসার্ভার নেটওয়ার্ক ব্যবহারকারীর নেটওয়ার্ক এডমিনিস্ট্রেশন প্রয়োজন পড়ে',\n 'সময় সিস্টেমেও ঢুকে তথ্য চুরি বেরিয়ে আসে',\n 'লাইন অব সাইট প্রোপাগেশন পদ্ধতিতে মেগাহার্টজের হার্টজের সিগন্যাল ব্যাবহার প্রকার ট্রান্সমিশন উভয় অ্যান্টেনা অবশ্যই অন্যের দৃশ্যমান কার্যকর দৃষ্টি সীমার থাকতে',\n 'নেমড পাইপে যোগাযোগ bidirectional Parentchild সম্পর্কে প্রয়োজন',\n 'ব্যর্থতায় তথ্য হারিয়ে',\n 'স্ট্রাকচারের ট্রিটমেন্ট ডাটা value গুলো Present child রিলেশনশিপের মধ্য দিয়ে লিড',\n 'ডিসিশন টেবিল ধরনের শ্রেণীভুক্ত তথ্য একক টেবিলে সংরক্ষণ সবশেষে টেবিল সমূহ যুক্ত সহজ উপযোগী সিদ্ধান্ত গ্রহণে সাহায্য',\n 'ফিজিক্যাল স্কীমা ডাটা অ্যাবস্ট্রাকশনের ফিজিক্যাল লেভেলের ডাটাবেস ডিজাইনকে বর্ণনা',\n 'সকল তথ্য নিরাপদ প্রয়োজন নিরাপদ প্রক্রিয়াকেই তথ্য নিরাপত্তা',\n 'ইন্টারনেট ওয়ার্কের সম্ভাব্য রুট খুঁজে বের রাউটার সর্বদা রুট ডিসকোভারি অ্যালগোরিদম Route Discovery Algorithm',\n 'শেয়ারড রিসোর্স অ্যাকসেস কম্পিউটেশন স্পিড ফাংশনালিটি ডাটা আাভেইলেবিলিটি বৃদ্ধি',\n 'সাধারণত পাওয়ার অকৃতকার্য Power Failure মেইন মেমোরির ডাটা হারিয়ে যায়',\n 'FTK শক্ত ডাটা কারভিং ইঞ্জিন ব্যবস্থা রয়েছে',\n 'সিস্টেমসমূহ সুইচড যোগাযোগ নেটওয়ার্ক সংযুক্ত কোনক্রমেই প্রত্যক্ষ প্রটোকল যায়',\n 'ইউজার কর্তৃক সংগৃহীত উপকরণসমূহ সিস্টেম স্পেসিফিকেশন অনুযায়ী তৈরিকৃত সফটওয়্যার মূল্যায়ন প্রক্রিয়াকে সফটওয়্যার টেস্টিং',\n 'সাধারণত অপারেটিং সিস্টেম ম্যানেজ',\n 'অপারেটিং সিস্টেম আলোচনা সময় প্রশ্ন উত্থাপিত কল CPU কার্যক্রম',\n 'চ্যানেল বিভাগে শ্রেণীবদ্ধ বেতার',\n ...]"
          },
          "metadata": {}
        }
      ]
    },
    {
      "cell_type": "code",
      "source": [
        "train_data['enc_label'].value_counts()"
      ],
      "metadata": {
        "execution": {
          "iopub.status.busy": "2024-05-20T16:01:27.619362Z",
          "iopub.execute_input": "2024-05-20T16:01:27.620134Z",
          "iopub.status.idle": "2024-05-20T16:01:27.628985Z",
          "shell.execute_reply.started": "2024-05-20T16:01:27.620097Z",
          "shell.execute_reply": "2024-05-20T16:01:27.627944Z"
        },
        "trusted": true,
        "id": "X557i1ELV9jY",
        "outputId": "14f1d9d8-e8fe-4a4c-ec18-22f2f16fe963"
      },
      "execution_count": null,
      "outputs": [
        {
          "execution_count": 21,
          "output_type": "execute_result",
          "data": {
            "text/plain": "3    1273\n2    1239\n0    1150\n1    1096\n4    1082\nName: enc_label, dtype: int64"
          },
          "metadata": {}
        }
      ]
    },
    {
      "cell_type": "code",
      "source": [
        "val_data['enc_label'].value_counts()"
      ],
      "metadata": {
        "execution": {
          "iopub.status.busy": "2024-05-20T16:01:30.577704Z",
          "iopub.execute_input": "2024-05-20T16:01:30.578451Z",
          "iopub.status.idle": "2024-05-20T16:01:30.586636Z",
          "shell.execute_reply.started": "2024-05-20T16:01:30.578416Z",
          "shell.execute_reply": "2024-05-20T16:01:30.585649Z"
        },
        "trusted": true,
        "id": "nVe5FZK6V9jY",
        "outputId": "bb612678-3575-4fe9-9f35-c6e924db83e6"
      },
      "execution_count": null,
      "outputs": [
        {
          "execution_count": 22,
          "output_type": "execute_result",
          "data": {
            "text/plain": "3    159\n2    147\n0    144\n1    141\n4    139\nName: enc_label, dtype: int64"
          },
          "metadata": {}
        }
      ]
    },
    {
      "cell_type": "code",
      "source": [
        "import pandas as pd\n",
        "from sklearn.preprocessing import OneHotEncoder"
      ],
      "metadata": {
        "execution": {
          "iopub.status.busy": "2024-05-20T16:01:32.873391Z",
          "iopub.execute_input": "2024-05-20T16:01:32.874322Z",
          "iopub.status.idle": "2024-05-20T16:01:32.878686Z",
          "shell.execute_reply.started": "2024-05-20T16:01:32.874282Z",
          "shell.execute_reply": "2024-05-20T16:01:32.877646Z"
        },
        "trusted": true,
        "id": "eydlO9BwV9jY"
      },
      "execution_count": null,
      "outputs": []
    },
    {
      "cell_type": "code",
      "source": [
        "train_data = train_data.rename(columns={'label_Software Engineering':'Software Engineering','label_DBMS':'DBMS',\n",
        "                                        'label_Data Communication':'Data Communication','label_Cyber Security':'Cyber Security','label_Operating System':'Operating System'})\n",
        "\n",
        "train_data"
      ],
      "metadata": {
        "execution": {
          "iopub.status.busy": "2024-05-20T16:01:35.722504Z",
          "iopub.execute_input": "2024-05-20T16:01:35.722944Z",
          "iopub.status.idle": "2024-05-20T16:01:35.739578Z",
          "shell.execute_reply.started": "2024-05-20T16:01:35.722904Z",
          "shell.execute_reply": "2024-05-20T16:01:35.738517Z"
        },
        "trusted": true,
        "id": "opxBBckwV9jY",
        "outputId": "b0c3dfef-1233-4aa9-9177-7ad14f677077"
      },
      "execution_count": null,
      "outputs": [
        {
          "execution_count": 24,
          "output_type": "execute_result",
          "data": {
            "text/plain": "                                                   text                 label  \\\n730   টপ ডাউন ডিজাইনে কিছু সংখ্যক বৈশিষ্ট্য এর ভিত্ত...  Software Engineering   \n5780  একটি সফ্টওয়্যার প্রকল্পের শুরুতে, ব্যবসার প্র...  Software Engineering   \n4685  অপারেটিং সিস্টেমের অন্তর্গত system program-সমূ...      Operating System   \n5041  Accelerometer মোবাইল ডিভাইসকে গ্রাউন্ডের সাপেক...      Operating System   \n325   একটি perfect testing এর সবচেয়ে কাংখিত মেথড হলো...  Software Engineering   \n...                                                 ...                   ...   \n5191  স্বয়ংক্রিয়ভাবে এক জব থেকে অন্য জবে যাওয়ার উপর ...      Operating System   \n5226  সার্ভার প্রথমে ক্লায়েন্টের নিকট হতে নির্দিষ্ট ...      Operating System   \n5390  যদি কোনো System-এ Deadlock prevention বা Deadl...      Operating System   \n860   কম্পিউটার প্রোগ্রামিং ভাষা প্রয়োগের মাধ্যমে সফ...  Software Engineering   \n7270  সমান্তরালতা অধ্যয়নের দুটি গুরুত্বপূর্ণ বিষয় ...                  DBMS   \n\n                                                cleaned  enc_label  \n730   টপ ডাউন ডিজাইনে সংখ্যক বৈশিষ্ট্য ভিত্তিতে এটিক...          0  \n5780  সফ্টওয়্যার প্রকল্পের শুরুতে ব্যবসার প্রয়োজন ...          0  \n4685  অপারেটিং সিস্টেমের অন্তর্গত system programসমূহ...          4  \n5041  Accelerometer মোবাইল ডিভাইসকে গ্রাউন্ডের সাপেক...          4  \n325   perfect testing সবচেয়ে কাংখিত মেথড Exhaustive ...          0  \n...                                                 ...        ...  \n5191  স্বয়ংক্রিয়ভাবে এক জব জবে যাওয়ার ভিত্তি অপারেটি...          4  \n5226  সার্ভার প্রথমে ক্লায়েন্টের নিকট নির্দিষ্ট Part...          4  \n5390  Systemএ Deadlock prevention Deadlock avoidance...          4  \n860   কম্পিউটার প্রোগ্রামিং ভাষা প্রয়োগের সফটওয়্যার ...          0  \n7270  সমান্তরালতা অধ্যয়নের গুরুত্বপূর্ণ বিষয় গতি স...          1  \n\n[5840 rows x 4 columns]",
            "text/html": "<div>\n<style scoped>\n    .dataframe tbody tr th:only-of-type {\n        vertical-align: middle;\n    }\n\n    .dataframe tbody tr th {\n        vertical-align: top;\n    }\n\n    .dataframe thead th {\n        text-align: right;\n    }\n</style>\n<table border=\"1\" class=\"dataframe\">\n  <thead>\n    <tr style=\"text-align: right;\">\n      <th></th>\n      <th>text</th>\n      <th>label</th>\n      <th>cleaned</th>\n      <th>enc_label</th>\n    </tr>\n  </thead>\n  <tbody>\n    <tr>\n      <th>730</th>\n      <td>টপ ডাউন ডিজাইনে কিছু সংখ্যক বৈশিষ্ট্য এর ভিত্ত...</td>\n      <td>Software Engineering</td>\n      <td>টপ ডাউন ডিজাইনে সংখ্যক বৈশিষ্ট্য ভিত্তিতে এটিক...</td>\n      <td>0</td>\n    </tr>\n    <tr>\n      <th>5780</th>\n      <td>একটি সফ্টওয়্যার প্রকল্পের শুরুতে, ব্যবসার প্র...</td>\n      <td>Software Engineering</td>\n      <td>সফ্টওয়্যার প্রকল্পের শুরুতে ব্যবসার প্রয়োজন ...</td>\n      <td>0</td>\n    </tr>\n    <tr>\n      <th>4685</th>\n      <td>অপারেটিং সিস্টেমের অন্তর্গত system program-সমূ...</td>\n      <td>Operating System</td>\n      <td>অপারেটিং সিস্টেমের অন্তর্গত system programসমূহ...</td>\n      <td>4</td>\n    </tr>\n    <tr>\n      <th>5041</th>\n      <td>Accelerometer মোবাইল ডিভাইসকে গ্রাউন্ডের সাপেক...</td>\n      <td>Operating System</td>\n      <td>Accelerometer মোবাইল ডিভাইসকে গ্রাউন্ডের সাপেক...</td>\n      <td>4</td>\n    </tr>\n    <tr>\n      <th>325</th>\n      <td>একটি perfect testing এর সবচেয়ে কাংখিত মেথড হলো...</td>\n      <td>Software Engineering</td>\n      <td>perfect testing সবচেয়ে কাংখিত মেথড Exhaustive ...</td>\n      <td>0</td>\n    </tr>\n    <tr>\n      <th>...</th>\n      <td>...</td>\n      <td>...</td>\n      <td>...</td>\n      <td>...</td>\n    </tr>\n    <tr>\n      <th>5191</th>\n      <td>স্বয়ংক্রিয়ভাবে এক জব থেকে অন্য জবে যাওয়ার উপর ...</td>\n      <td>Operating System</td>\n      <td>স্বয়ংক্রিয়ভাবে এক জব জবে যাওয়ার ভিত্তি অপারেটি...</td>\n      <td>4</td>\n    </tr>\n    <tr>\n      <th>5226</th>\n      <td>সার্ভার প্রথমে ক্লায়েন্টের নিকট হতে নির্দিষ্ট ...</td>\n      <td>Operating System</td>\n      <td>সার্ভার প্রথমে ক্লায়েন্টের নিকট নির্দিষ্ট Part...</td>\n      <td>4</td>\n    </tr>\n    <tr>\n      <th>5390</th>\n      <td>যদি কোনো System-এ Deadlock prevention বা Deadl...</td>\n      <td>Operating System</td>\n      <td>Systemএ Deadlock prevention Deadlock avoidance...</td>\n      <td>4</td>\n    </tr>\n    <tr>\n      <th>860</th>\n      <td>কম্পিউটার প্রোগ্রামিং ভাষা প্রয়োগের মাধ্যমে সফ...</td>\n      <td>Software Engineering</td>\n      <td>কম্পিউটার প্রোগ্রামিং ভাষা প্রয়োগের সফটওয়্যার ...</td>\n      <td>0</td>\n    </tr>\n    <tr>\n      <th>7270</th>\n      <td>সমান্তরালতা অধ্যয়নের দুটি গুরুত্বপূর্ণ বিষয় ...</td>\n      <td>DBMS</td>\n      <td>সমান্তরালতা অধ্যয়নের গুরুত্বপূর্ণ বিষয় গতি স...</td>\n      <td>1</td>\n    </tr>\n  </tbody>\n</table>\n<p>5840 rows × 4 columns</p>\n</div>"
          },
          "metadata": {}
        }
      ]
    },
    {
      "cell_type": "code",
      "source": [
        "def char_length(row):\n",
        "    return len(row.split())"
      ],
      "metadata": {
        "execution": {
          "iopub.status.busy": "2024-05-20T16:01:39.264551Z",
          "iopub.execute_input": "2024-05-20T16:01:39.265462Z",
          "iopub.status.idle": "2024-05-20T16:01:39.269803Z",
          "shell.execute_reply.started": "2024-05-20T16:01:39.265421Z",
          "shell.execute_reply": "2024-05-20T16:01:39.26882Z"
        },
        "trusted": true,
        "id": "NzNEXrTrV9jY"
      },
      "execution_count": null,
      "outputs": []
    },
    {
      "cell_type": "code",
      "source": [
        "lables = ['Software Engineering' 'DBMS' 'Data Communication' 'Cyber Security'\n",
        " 'Operating System']\n",
        "\n",
        "# Count number of unique words in each set\n",
        "def dataset_statistics(dataset):\n",
        "  for l in lables:\n",
        "    word_list = [word.strip() for t in list(dataset[dataset[l]==1.0].cleaned) for word in t.strip().split()]\n",
        "    print(f\"\\nClass Name:--> {l} \")\n",
        "    print(\"Number of Words:{}\".format(len(word_list)))\n",
        "    print(\"Number of Unique Words:{}\".format(len(np.unique(word_list))))\n",
        "    print(\"Maximum post length: {}\".format(max(dataset[dataset[l]==1.0].cleaned.apply(char_length))))\n",
        "    print(\"Average Words in texts: {}\".format(np.mean(dataset[dataset[l]==1.0].cleaned.apply(char_length))))"
      ],
      "metadata": {
        "execution": {
          "iopub.status.busy": "2024-05-20T16:01:42.140432Z",
          "iopub.execute_input": "2024-05-20T16:01:42.141313Z",
          "iopub.status.idle": "2024-05-20T16:01:42.14903Z",
          "shell.execute_reply.started": "2024-05-20T16:01:42.141275Z",
          "shell.execute_reply": "2024-05-20T16:01:42.148047Z"
        },
        "trusted": true,
        "id": "YJXvIxz5V9jY"
      },
      "execution_count": null,
      "outputs": []
    },
    {
      "cell_type": "code",
      "source": [
        "# Class Distribution\n",
        "class_distribution = train_data['label'].value_counts()\n",
        "\n",
        "# Text Length Distribution\n",
        "train_data['text_length'] = train_data['cleaned'].apply(lambda x: len(x.split()))\n",
        "text_length_stats = train_data['text_length'].describe()\n",
        "\n",
        "print(\"Class Distribution:\")\n",
        "print(class_distribution)\n",
        "print(\"\\nText Length Distribution:\")\n",
        "print(text_length_stats)"
      ],
      "metadata": {
        "execution": {
          "iopub.status.busy": "2024-05-20T16:01:45.197519Z",
          "iopub.execute_input": "2024-05-20T16:01:45.198283Z",
          "iopub.status.idle": "2024-05-20T16:01:45.222932Z",
          "shell.execute_reply.started": "2024-05-20T16:01:45.198245Z",
          "shell.execute_reply": "2024-05-20T16:01:45.2219Z"
        },
        "trusted": true,
        "id": "HLIAZ6-9V9jZ",
        "outputId": "2267d27b-b2ee-4033-dc88-318a3db6567b"
      },
      "execution_count": null,
      "outputs": [
        {
          "name": "stdout",
          "text": "Class Distribution:\nCyber Security          1273\nData Communication      1239\nSoftware Engineering    1150\nDBMS                    1096\nOperating System        1082\nName: label, dtype: int64\n\nText Length Distribution:\ncount    5840.000000\nmean        9.955993\nstd         4.812670\nmin         1.000000\n25%         7.000000\n50%         9.000000\n75%        12.000000\nmax        69.000000\nName: text_length, dtype: float64\n",
          "output_type": "stream"
        }
      ]
    },
    {
      "cell_type": "code",
      "source": [
        "class_statistics = {}\n",
        "\n",
        "# Iterate over each unique class\n",
        "for class_name in train_data['label'].unique():\n",
        "    # Filter the training data for the current class\n",
        "    class_data = train_data[train_data['label'] == class_name]\n",
        "\n",
        "    # Number of Words\n",
        "    total_words = class_data['cleaned'].apply(lambda x: len(x.split())).sum()\n",
        "\n",
        "    # Number of Unique Words\n",
        "    unique_words = len(set(\" \".join(class_data['cleaned']).split()))\n",
        "\n",
        "    # Maximum Post Length\n",
        "    max_length = class_data['cleaned'].apply(lambda x: len(x.split())).max()\n",
        "\n",
        "    # Average Words in Texts\n",
        "    average_length = class_data['cleaned'].apply(lambda x: len(x.split())).mean()\n",
        "\n",
        "    # Store the statistics for the current class\n",
        "    class_statistics[class_name] = {\n",
        "        'Number of Words': total_words,\n",
        "        'Number of Unique Words': unique_words,\n",
        "        'Maximum post length': max_length,\n",
        "        'Average Words in texts': average_length\n",
        "    }\n",
        "\n",
        "# Print the statistics for each class\n",
        "for class_name, stats in class_statistics.items():\n",
        "    print(\"Class Name:\", class_name)\n",
        "    for stat_name, value in stats.items():\n",
        "        print(f\"{stat_name}: {value}\")\n",
        "    print()\n"
      ],
      "metadata": {
        "execution": {
          "iopub.status.busy": "2024-05-20T16:01:49.381071Z",
          "iopub.execute_input": "2024-05-20T16:01:49.381755Z",
          "iopub.status.idle": "2024-05-20T16:01:49.449538Z",
          "shell.execute_reply.started": "2024-05-20T16:01:49.381714Z",
          "shell.execute_reply": "2024-05-20T16:01:49.44859Z"
        },
        "trusted": true,
        "id": "4Z1dAXIBV9jZ",
        "outputId": "d9e2eddb-d551-4115-a38d-d495ce8442fe"
      },
      "execution_count": null,
      "outputs": [
        {
          "name": "stdout",
          "text": "Class Name: Software Engineering\nNumber of Words: 12080\nNumber of Unique Words: 3401\nMaximum post length: 57\nAverage Words in texts: 10.504347826086956\n\nClass Name: Operating System\nNumber of Words: 10435\nNumber of Unique Words: 3268\nMaximum post length: 34\nAverage Words in texts: 9.644177449168208\n\nClass Name: Cyber Security\nNumber of Words: 12662\nNumber of Unique Words: 3934\nMaximum post length: 59\nAverage Words in texts: 9.946582875098192\n\nClass Name: DBMS\nNumber of Words: 10883\nNumber of Unique Words: 3095\nMaximum post length: 69\nAverage Words in texts: 9.929744525547445\n\nClass Name: Data Communication\nNumber of Words: 12083\nNumber of Unique Words: 3802\nMaximum post length: 33\nAverage Words in texts: 9.752219531880549\n\n",
          "output_type": "stream"
        }
      ]
    },
    {
      "cell_type": "code",
      "source": [
        "!pip install ktrain"
      ],
      "metadata": {
        "execution": {
          "iopub.status.busy": "2024-05-20T16:01:55.256176Z",
          "iopub.execute_input": "2024-05-20T16:01:55.257096Z",
          "iopub.status.idle": "2024-05-20T16:02:32.865694Z",
          "shell.execute_reply.started": "2024-05-20T16:01:55.257056Z",
          "shell.execute_reply": "2024-05-20T16:02:32.864631Z"
        },
        "trusted": true,
        "id": "H4cgZ3PjV9jZ",
        "outputId": "1bccf160-2b49-4d56-94f6-0e0667cf491c"
      },
      "execution_count": null,
      "outputs": [
        {
          "name": "stdout",
          "text": "Collecting ktrain\n  Downloading ktrain-0.41.3.tar.gz (25.3 MB)\n\u001b[2K     \u001b[90m━━━━━━━━━━━━━━━━━━━━━━━━━━━━━━━━━━━━━━━━\u001b[0m \u001b[32m25.3/25.3 MB\u001b[0m \u001b[31m47.2 MB/s\u001b[0m eta \u001b[36m0:00:00\u001b[0m00:01\u001b[0m00:01\u001b[0m\n\u001b[?25h  Preparing metadata (setup.py) ... \u001b[?25ldone\n\u001b[?25hRequirement already satisfied: scikit-learn in /opt/conda/lib/python3.7/site-packages (from ktrain) (1.0.2)\nRequirement already satisfied: matplotlib>=3.0.0 in /opt/conda/lib/python3.7/site-packages (from ktrain) (3.5.3)\nRequirement already satisfied: pandas>=1.0.1 in /opt/conda/lib/python3.7/site-packages (from ktrain) (1.3.5)\nRequirement already satisfied: fastprogress>=0.1.21 in /opt/conda/lib/python3.7/site-packages (from ktrain) (1.0.3)\nRequirement already satisfied: requests in /opt/conda/lib/python3.7/site-packages (from ktrain) (2.28.1)\nRequirement already satisfied: joblib in /opt/conda/lib/python3.7/site-packages (from ktrain) (1.0.1)\nRequirement already satisfied: packaging in /opt/conda/lib/python3.7/site-packages (from ktrain) (22.0)\nCollecting langdetect\n  Downloading langdetect-1.0.9.tar.gz (981 kB)\n\u001b[2K     \u001b[90m━━━━━━━━━━━━━━━━━━━━━━━━━━━━━━━━━━━━━━\u001b[0m \u001b[32m981.5/981.5 kB\u001b[0m \u001b[31m53.1 MB/s\u001b[0m eta \u001b[36m0:00:00\u001b[0m\n\u001b[?25h  Preparing metadata (setup.py) ... \u001b[?25ldone\n\u001b[?25hRequirement already satisfied: jieba in /opt/conda/lib/python3.7/site-packages (from ktrain) (0.42.1)\nRequirement already satisfied: charset-normalizer in /opt/conda/lib/python3.7/site-packages (from ktrain) (2.1.0)\nRequirement already satisfied: chardet in /opt/conda/lib/python3.7/site-packages (from ktrain) (5.0.0)\nCollecting syntok>1.3.3\n  Downloading syntok-1.4.4-py3-none-any.whl (24 kB)\nCollecting tika\n  Downloading tika-2.6.0.tar.gz (27 kB)\n  Preparing metadata (setup.py) ... \u001b[?25ldone\n\u001b[?25hRequirement already satisfied: transformers in /opt/conda/lib/python3.7/site-packages (from ktrain) (4.20.1)\nRequirement already satisfied: sentencepiece in /opt/conda/lib/python3.7/site-packages (from ktrain) (0.1.97)\nCollecting keras_bert>=0.86.0\n  Downloading keras-bert-0.89.0.tar.gz (25 kB)\n  Preparing metadata (setup.py) ... \u001b[?25ldone\n\u001b[?25hCollecting whoosh\n  Downloading Whoosh-2.7.4-py2.py3-none-any.whl (468 kB)\n\u001b[2K     \u001b[90m━━━━━━━━━━━━━━━━━━━━━━━━━━━━━━━━━━━━━━\u001b[0m \u001b[32m468.8/468.8 kB\u001b[0m \u001b[31m35.6 MB/s\u001b[0m eta \u001b[36m0:00:00\u001b[0m\n\u001b[?25hRequirement already satisfied: numpy in /opt/conda/lib/python3.7/site-packages (from keras_bert>=0.86.0->ktrain) (1.21.6)\nCollecting keras-transformer==0.40.0\n  Downloading keras-transformer-0.40.0.tar.gz (9.7 kB)\n  Preparing metadata (setup.py) ... \u001b[?25ldone\n\u001b[?25hCollecting keras-pos-embd==0.13.0\n  Downloading keras-pos-embd-0.13.0.tar.gz (5.6 kB)\n  Preparing metadata (setup.py) ... \u001b[?25ldone\n\u001b[?25hCollecting keras-multi-head==0.29.0\n  Downloading keras-multi-head-0.29.0.tar.gz (13 kB)\n  Preparing metadata (setup.py) ... \u001b[?25ldone\n\u001b[?25hCollecting keras-layer-normalization==0.16.0\n  Downloading keras-layer-normalization-0.16.0.tar.gz (3.9 kB)\n  Preparing metadata (setup.py) ... \u001b[?25ldone\n\u001b[?25hCollecting keras-position-wise-feed-forward==0.8.0\n  Downloading keras-position-wise-feed-forward-0.8.0.tar.gz (4.1 kB)\n  Preparing metadata (setup.py) ... \u001b[?25ldone\n\u001b[?25hCollecting keras-embed-sim==0.10.0\n  Downloading keras-embed-sim-0.10.0.tar.gz (3.6 kB)\n  Preparing metadata (setup.py) ... \u001b[?25ldone\n\u001b[?25hCollecting keras-self-attention==0.51.0\n  Downloading keras-self-attention-0.51.0.tar.gz (11 kB)\n  Preparing metadata (setup.py) ... \u001b[?25ldone\n\u001b[?25hRequirement already satisfied: pyparsing>=2.2.1 in /opt/conda/lib/python3.7/site-packages (from matplotlib>=3.0.0->ktrain) (3.0.9)\nRequirement already satisfied: fonttools>=4.22.0 in /opt/conda/lib/python3.7/site-packages (from matplotlib>=3.0.0->ktrain) (4.33.3)\nRequirement already satisfied: python-dateutil>=2.7 in /opt/conda/lib/python3.7/site-packages (from matplotlib>=3.0.0->ktrain) (2.8.2)\nRequirement already satisfied: pillow>=6.2.0 in /opt/conda/lib/python3.7/site-packages (from matplotlib>=3.0.0->ktrain) (9.1.1)\nRequirement already satisfied: kiwisolver>=1.0.1 in /opt/conda/lib/python3.7/site-packages (from matplotlib>=3.0.0->ktrain) (1.4.3)\nRequirement already satisfied: cycler>=0.10 in /opt/conda/lib/python3.7/site-packages (from matplotlib>=3.0.0->ktrain) (0.11.0)\nRequirement already satisfied: pytz>=2017.3 in /opt/conda/lib/python3.7/site-packages (from pandas>=1.0.1->ktrain) (2022.1)\nRequirement already satisfied: regex>2016 in /opt/conda/lib/python3.7/site-packages (from syntok>1.3.3->ktrain) (2021.11.10)\nRequirement already satisfied: six in /opt/conda/lib/python3.7/site-packages (from langdetect->ktrain) (1.15.0)\nRequirement already satisfied: urllib3<1.27,>=1.21.1 in /opt/conda/lib/python3.7/site-packages (from requests->ktrain) (1.26.13)\nRequirement already satisfied: certifi>=2017.4.17 in /opt/conda/lib/python3.7/site-packages (from requests->ktrain) (2022.12.7)\nRequirement already satisfied: idna<4,>=2.5 in /opt/conda/lib/python3.7/site-packages (from requests->ktrain) (3.3)\nRequirement already satisfied: threadpoolctl>=2.0.0 in /opt/conda/lib/python3.7/site-packages (from scikit-learn->ktrain) (3.1.0)\nRequirement already satisfied: scipy>=1.1.0 in /opt/conda/lib/python3.7/site-packages (from scikit-learn->ktrain) (1.7.3)\nRequirement already satisfied: setuptools in /opt/conda/lib/python3.7/site-packages (from tika->ktrain) (59.8.0)\nRequirement already satisfied: filelock in /opt/conda/lib/python3.7/site-packages (from transformers->ktrain) (3.7.1)\nRequirement already satisfied: huggingface-hub<1.0,>=0.1.0 in /opt/conda/lib/python3.7/site-packages (from transformers->ktrain) (0.10.1)\nRequirement already satisfied: importlib-metadata in /opt/conda/lib/python3.7/site-packages (from transformers->ktrain) (4.13.0)\nRequirement already satisfied: pyyaml>=5.1 in /opt/conda/lib/python3.7/site-packages (from transformers->ktrain) (6.0)\nRequirement already satisfied: tokenizers!=0.11.3,<0.13,>=0.11.1 in /opt/conda/lib/python3.7/site-packages (from transformers->ktrain) (0.12.1)\nRequirement already satisfied: tqdm>=4.27 in /opt/conda/lib/python3.7/site-packages (from transformers->ktrain) (4.64.0)\nRequirement already satisfied: typing-extensions>=3.7.4.3 in /opt/conda/lib/python3.7/site-packages (from huggingface-hub<1.0,>=0.1.0->transformers->ktrain) (4.1.1)\nRequirement already satisfied: zipp>=0.5 in /opt/conda/lib/python3.7/site-packages (from importlib-metadata->transformers->ktrain) (3.8.0)\nBuilding wheels for collected packages: ktrain, keras_bert, keras-transformer, keras-embed-sim, keras-layer-normalization, keras-multi-head, keras-pos-embd, keras-position-wise-feed-forward, keras-self-attention, langdetect, tika\n  Building wheel for ktrain (setup.py) ... \u001b[?25ldone\n\u001b[?25h  Created wheel for ktrain: filename=ktrain-0.41.3-py3-none-any.whl size=25316979 sha256=69c84e4e71974d6a46d45f74ac4911aee23908e664d2a5a595d1c4132b695ec4\n  Stored in directory: /root/.cache/pip/wheels/97/cd/a7/3ef9b6abdab10d64a111bac7f6f1cc4e9ea818c478335fb394\n  Building wheel for keras_bert (setup.py) ... \u001b[?25ldone\n\u001b[?25h  Created wheel for keras_bert: filename=keras_bert-0.89.0-py3-none-any.whl size=33517 sha256=0b3056b573bd0b16d8565e6abff7a3b225ce74dd125ac52ec462fd264f24ce0a\n  Stored in directory: /root/.cache/pip/wheels/a4/e8/45/842b3a39831261aef9154b907eacbc4ac99499a99ae829b06f\n  Building wheel for keras-transformer (setup.py) ... \u001b[?25ldone\n\u001b[?25h  Created wheel for keras-transformer: filename=keras_transformer-0.40.0-py3-none-any.whl size=12305 sha256=729776fb26617aa5f753771fb5a7deb902ff84d1d53dc87c8e9608f51b980efa\n  Stored in directory: /root/.cache/pip/wheels/46/68/26/692ed21edd832833c3b0a0e21615bcacd99ca458b3f9ed571f\n  Building wheel for keras-embed-sim (setup.py) ... \u001b[?25ldone\n\u001b[?25h  Created wheel for keras-embed-sim: filename=keras_embed_sim-0.10.0-py3-none-any.whl size=3960 sha256=cb962e64957b27e9cef51f16bf8c383a59359e3d6a1f8193587f77287055c14a\n  Stored in directory: /root/.cache/pip/wheels/81/67/b5/d847588d075895281e1cf5590f819bd4cf076a554872268bd5\n  Building wheel for keras-layer-normalization (setup.py) ... \u001b[?25ldone\n\u001b[?25h  Created wheel for keras-layer-normalization: filename=keras_layer_normalization-0.16.0-py3-none-any.whl size=4668 sha256=633701c42901fb22a150e60d255648cceec973823f38840a5ece678ba220f50a\n  Stored in directory: /root/.cache/pip/wheels/85/5d/1c/2e619f594f69fbcf8bc20943b27d414871c409be053994813e\n  Building wheel for keras-multi-head (setup.py) ... \u001b[?25ldone\n\u001b[?25h  Created wheel for keras-multi-head: filename=keras_multi_head-0.29.0-py3-none-any.whl size=14993 sha256=940b3d477d1e62605e8b39b1ce1611eb12b3310c576d6df8e677047f6790c94d\n  Stored in directory: /root/.cache/pip/wheels/86/aa/3c/9d15d24005179dae08ff291ce99c754b296347817d076fd9fb\n  Building wheel for keras-pos-embd (setup.py) ... \u001b[?25ldone\n\u001b[?25h  Created wheel for keras-pos-embd: filename=keras_pos_embd-0.13.0-py3-none-any.whl size=6962 sha256=a9b8761a61cb6e8bde50e3a2ab6cee6b8d0f91f1bb717045785bea45e9375d53\n  Stored in directory: /root/.cache/pip/wheels/8d/c1/a0/dc44fcf68c857b7ff6be9a97e675e5adf51022eff1169b042f\n  Building wheel for keras-position-wise-feed-forward (setup.py) ... \u001b[?25ldone\n\u001b[?25h  Created wheel for keras-position-wise-feed-forward: filename=keras_position_wise_feed_forward-0.8.0-py3-none-any.whl size=4983 sha256=c85eea82dc85d2630e417c821eb26262c0c23f595b4cc3a0f8ee722da57b1413\n  Stored in directory: /root/.cache/pip/wheels/c2/75/6f/d42f6e051506f442daeba53ff1e2d21a5f20ef8c411610f2bb\n  Building wheel for keras-self-attention (setup.py) ... \u001b[?25ldone\n\u001b[?25h  Created wheel for keras-self-attention: filename=keras_self_attention-0.51.0-py3-none-any.whl size=18912 sha256=a9870a376fabd8a85b61db8db5e8d117641984e36688b93177dda0bfd818e6af\n  Stored in directory: /root/.cache/pip/wheels/95/b1/a8/5ee00cc137940b2f6fa198212e8f45d813d0e0d9c3a04035a3\n  Building wheel for langdetect (setup.py) ... \u001b[?25ldone\n\u001b[?25h  Created wheel for langdetect: filename=langdetect-1.0.9-py3-none-any.whl size=993242 sha256=ad1018bd34f53df4d38c92b7af2517fe7beffb330ba59cb94bd92bac671576c2\n  Stored in directory: /root/.cache/pip/wheels/c5/96/8a/f90c59ed25d75e50a8c10a1b1c2d4c402e4dacfa87f3aff36a\n  Building wheel for tika (setup.py) ... \u001b[?25ldone\n\u001b[?25h  Created wheel for tika: filename=tika-2.6.0-py3-none-any.whl size=32642 sha256=3223592cceace6fc77b00ca979c629b0416cce4ace9d151a077a7d0f5f60929d\n  Stored in directory: /root/.cache/pip/wheels/d0/e8/f2/4d6ee3cf46b79e22dcc7d4cdcbeed804c985d346b44a213672\nSuccessfully built ktrain keras_bert keras-transformer keras-embed-sim keras-layer-normalization keras-multi-head keras-pos-embd keras-position-wise-feed-forward keras-self-attention langdetect tika\nInstalling collected packages: whoosh, syntok, langdetect, keras-self-attention, keras-position-wise-feed-forward, keras-pos-embd, keras-layer-normalization, keras-embed-sim, tika, keras-multi-head, keras-transformer, keras_bert, ktrain\nSuccessfully installed keras-embed-sim-0.10.0 keras-layer-normalization-0.16.0 keras-multi-head-0.29.0 keras-pos-embd-0.13.0 keras-position-wise-feed-forward-0.8.0 keras-self-attention-0.51.0 keras-transformer-0.40.0 keras_bert-0.89.0 ktrain-0.41.3 langdetect-1.0.9 syntok-1.4.4 tika-2.6.0 whoosh-2.7.4\n\u001b[33mWARNING: Running pip as the 'root' user can result in broken permissions and conflicting behaviour with the system package manager. It is recommended to use a virtual environment instead: https://pip.pypa.io/warnings/venv\u001b[0m\u001b[33m\n\u001b[0m",
          "output_type": "stream"
        }
      ]
    },
    {
      "cell_type": "code",
      "source": [
        "%reload_ext autoreload\n",
        "%autoreload 2\n",
        "%matplotlib inline\n",
        "import os\n",
        "os.environ[\"CUDA_DEVICE_ORDER\"] = \"PCI_BUS_ID\"\n",
        "os.environ[\"CUDA_VISIBLE_DEVICES\"] = \"0\""
      ],
      "metadata": {
        "execution": {
          "iopub.status.busy": "2024-05-20T16:02:37.043084Z",
          "iopub.execute_input": "2024-05-20T16:02:37.043495Z",
          "iopub.status.idle": "2024-05-20T16:02:37.157717Z",
          "shell.execute_reply.started": "2024-05-20T16:02:37.043453Z",
          "shell.execute_reply": "2024-05-20T16:02:37.156733Z"
        },
        "trusted": true,
        "id": "Dh-p-reHV9jZ"
      },
      "execution_count": null,
      "outputs": []
    },
    {
      "cell_type": "code",
      "source": [
        "import ktrain\n",
        "from ktrain import text"
      ],
      "metadata": {
        "execution": {
          "iopub.status.busy": "2024-05-20T16:02:40.256452Z",
          "iopub.execute_input": "2024-05-20T16:02:40.256842Z",
          "iopub.status.idle": "2024-05-20T16:02:41.82382Z",
          "shell.execute_reply.started": "2024-05-20T16:02:40.256809Z",
          "shell.execute_reply": "2024-05-20T16:02:41.822536Z"
        },
        "trusted": true,
        "id": "FD0atx72V9ja"
      },
      "execution_count": null,
      "outputs": []
    },
    {
      "cell_type": "code",
      "source": [
        "train_data['label'].value_counts()"
      ],
      "metadata": {
        "execution": {
          "iopub.status.busy": "2024-05-20T16:02:45.365538Z",
          "iopub.execute_input": "2024-05-20T16:02:45.366544Z",
          "iopub.status.idle": "2024-05-20T16:02:45.475238Z",
          "shell.execute_reply.started": "2024-05-20T16:02:45.366502Z",
          "shell.execute_reply": "2024-05-20T16:02:45.473914Z"
        },
        "trusted": true,
        "id": "CyF_50t-V9ja",
        "outputId": "99c03080-2a3d-4784-c827-0972ac82c420"
      },
      "execution_count": null,
      "outputs": [
        {
          "execution_count": 32,
          "output_type": "execute_result",
          "data": {
            "text/plain": "Cyber Security          1273\nData Communication      1239\nSoftware Engineering    1150\nDBMS                    1096\nOperating System        1082\nName: label, dtype: int64"
          },
          "metadata": {}
        }
      ]
    },
    {
      "cell_type": "code",
      "source": [
        "val_data['label'].value_counts()"
      ],
      "metadata": {
        "execution": {
          "iopub.status.busy": "2024-05-20T16:02:48.972631Z",
          "iopub.execute_input": "2024-05-20T16:02:48.972991Z",
          "iopub.status.idle": "2024-05-20T16:02:49.068504Z",
          "shell.execute_reply.started": "2024-05-20T16:02:48.972964Z",
          "shell.execute_reply": "2024-05-20T16:02:49.067465Z"
        },
        "trusted": true,
        "id": "OLem_s9BV9ja",
        "outputId": "5858845c-a581-4c13-9781-b4317daa34e7"
      },
      "execution_count": null,
      "outputs": [
        {
          "execution_count": 33,
          "output_type": "execute_result",
          "data": {
            "text/plain": "Cyber Security          159\nData Communication      147\nSoftware Engineering    144\nDBMS                    141\nOperating System        139\nName: label, dtype: int64"
          },
          "metadata": {}
        }
      ]
    },
    {
      "cell_type": "code",
      "source": [
        "categories = ['Software Engineering', 'DBMS' ,'Data Communication', 'Cyber Security',\n",
        " 'Operating System']"
      ],
      "metadata": {
        "execution": {
          "iopub.status.busy": "2024-05-20T16:02:51.675208Z",
          "iopub.execute_input": "2024-05-20T16:02:51.675681Z",
          "iopub.status.idle": "2024-05-20T16:02:51.767903Z",
          "shell.execute_reply.started": "2024-05-20T16:02:51.675644Z",
          "shell.execute_reply": "2024-05-20T16:02:51.766738Z"
        },
        "trusted": true,
        "id": "GWke1INvV9ja"
      },
      "execution_count": null,
      "outputs": []
    },
    {
      "cell_type": "code",
      "source": [
        "X_train = train_data['cleaned'].tolist()\n",
        "y_train = train_data['label'].tolist()\n",
        "\n",
        "X_valid = val_data['cleaned'].tolist()\n",
        "y_valid = val_data['label'].tolist()\n",
        "\n",
        "X_test = test_data['cleaned'].tolist()\n",
        "y_test = test_data['label'].tolist()"
      ],
      "metadata": {
        "execution": {
          "iopub.status.busy": "2024-05-20T16:02:54.501532Z",
          "iopub.execute_input": "2024-05-20T16:02:54.501979Z",
          "iopub.status.idle": "2024-05-20T16:02:54.598116Z",
          "shell.execute_reply.started": "2024-05-20T16:02:54.501944Z",
          "shell.execute_reply": "2024-05-20T16:02:54.597025Z"
        },
        "trusted": true,
        "id": "0LWTFMKhV9ja"
      },
      "execution_count": null,
      "outputs": []
    },
    {
      "cell_type": "code",
      "source": [
        "model_name = 'csebuetnlp/banglabert'\n",
        "trans = text.Transformer(model_name,maxlen=100,class_names=categories)"
      ],
      "metadata": {
        "execution": {
          "iopub.status.busy": "2024-05-20T16:02:57.185446Z",
          "iopub.execute_input": "2024-05-20T16:02:57.185844Z",
          "iopub.status.idle": "2024-05-20T16:03:19.096821Z",
          "shell.execute_reply.started": "2024-05-20T16:02:57.185808Z",
          "shell.execute_reply": "2024-05-20T16:03:19.095798Z"
        },
        "trusted": true,
        "id": "FRR_D7GvV9ja",
        "outputId": "6fb5336b-7d9f-41b2-b81e-6ec3c6702ff0",
        "colab": {
          "referenced_widgets": [
            "e300d59ae14241b491e6d5ae7687f2cb",
            "31b5d6f63cd04ca190a264acf2d87f9c"
          ]
        }
      },
      "execution_count": null,
      "outputs": [
        {
          "output_type": "display_data",
          "data": {
            "text/plain": "Downloading:   0%|          | 0.00/586 [00:00<?, ?B/s]",
            "application/vnd.jupyter.widget-view+json": {
              "version_major": 2,
              "version_minor": 0,
              "model_id": "e300d59ae14241b491e6d5ae7687f2cb"
            }
          },
          "metadata": {}
        },
        {
          "output_type": "display_data",
          "data": {
            "text/plain": "Downloading:   0%|          | 0.00/422M [00:00<?, ?B/s]",
            "application/vnd.jupyter.widget-view+json": {
              "version_major": 2,
              "version_minor": 0,
              "model_id": "31b5d6f63cd04ca190a264acf2d87f9c"
            }
          },
          "metadata": {}
        }
      ]
    },
    {
      "cell_type": "code",
      "source": [
        "train = trans.preprocess_train(X_train,y_train)\n",
        "valid = trans.preprocess_test(X_valid,y_valid)"
      ],
      "metadata": {
        "execution": {
          "iopub.status.busy": "2024-05-20T16:03:31.875835Z",
          "iopub.execute_input": "2024-05-20T16:03:31.876788Z",
          "iopub.status.idle": "2024-05-20T16:03:36.160337Z",
          "shell.execute_reply.started": "2024-05-20T16:03:31.876751Z",
          "shell.execute_reply": "2024-05-20T16:03:36.15935Z"
        },
        "trusted": true,
        "id": "eThCGyL5V9jb",
        "outputId": "eb4d2530-3119-4300-9c34-f314d648a837",
        "colab": {
          "referenced_widgets": [
            "a11cd114af314232b7162dae59dbd128",
            "fc9b8ca3e04f4520aadf97e6befa6e6c",
            "2422cbe6a9ce473287390470161cff00"
          ]
        }
      },
      "execution_count": null,
      "outputs": [
        {
          "name": "stdout",
          "text": "preprocessing train...\nlanguage: bn\ntrain sequence lengths:\n\tmean : 10\n\t95percentile : 19\n\t99percentile : 26\n",
          "output_type": "stream"
        },
        {
          "output_type": "display_data",
          "data": {
            "text/plain": "Downloading:   0%|          | 0.00/119 [00:00<?, ?B/s]",
            "application/vnd.jupyter.widget-view+json": {
              "version_major": 2,
              "version_minor": 0,
              "model_id": "a11cd114af314232b7162dae59dbd128"
            }
          },
          "metadata": {}
        },
        {
          "output_type": "display_data",
          "data": {
            "text/plain": "Downloading:   0%|          | 0.00/516k [00:00<?, ?B/s]",
            "application/vnd.jupyter.widget-view+json": {
              "version_major": 2,
              "version_minor": 0,
              "model_id": "fc9b8ca3e04f4520aadf97e6befa6e6c"
            }
          },
          "metadata": {}
        },
        {
          "output_type": "display_data",
          "data": {
            "text/plain": "Downloading:   0%|          | 0.00/112 [00:00<?, ?B/s]",
            "application/vnd.jupyter.widget-view+json": {
              "version_major": 2,
              "version_minor": 0,
              "model_id": "2422cbe6a9ce473287390470161cff00"
            }
          },
          "metadata": {}
        },
        {
          "output_type": "display_data",
          "data": {
            "text/plain": "<IPython.core.display.HTML object>",
            "text/html": "\n<style>\n    /* Turns off some styling */\n    progress {\n        /* gets rid of default border in Firefox and Opera. */\n        border: none;\n        /* Needs to be in here for Safari polyfill so background images work as expected. */\n        background-size: auto;\n    }\n    progress:not([value]), progress:not([value])::-webkit-progress-bar {\n        background: repeating-linear-gradient(45deg, #7e7e7e, #7e7e7e 10px, #5c5c5c 10px, #5c5c5c 20px);\n    }\n    .progress-bar-interrupted, .progress-bar-interrupted::-webkit-progress-bar {\n        background: #F44336;\n    }\n</style>\n"
          },
          "metadata": {}
        },
        {
          "output_type": "display_data",
          "data": {
            "text/plain": "<IPython.core.display.HTML object>",
            "text/html": ""
          },
          "metadata": {}
        },
        {
          "name": "stdout",
          "text": "Is Multi-Label? False\npreprocessing test...\nlanguage: bn\ntest sequence lengths:\n\tmean : 10\n\t95percentile : 19\n\t99percentile : 25\n",
          "output_type": "stream"
        },
        {
          "output_type": "display_data",
          "data": {
            "text/plain": "<IPython.core.display.HTML object>",
            "text/html": "\n<style>\n    /* Turns off some styling */\n    progress {\n        /* gets rid of default border in Firefox and Opera. */\n        border: none;\n        /* Needs to be in here for Safari polyfill so background images work as expected. */\n        background-size: auto;\n    }\n    progress:not([value]), progress:not([value])::-webkit-progress-bar {\n        background: repeating-linear-gradient(45deg, #7e7e7e, #7e7e7e 10px, #5c5c5c 10px, #5c5c5c 20px);\n    }\n    .progress-bar-interrupted, .progress-bar-interrupted::-webkit-progress-bar {\n        background: #F44336;\n    }\n</style>\n"
          },
          "metadata": {}
        },
        {
          "output_type": "display_data",
          "data": {
            "text/plain": "<IPython.core.display.HTML object>",
            "text/html": ""
          },
          "metadata": {}
        }
      ]
    },
    {
      "cell_type": "code",
      "source": [
        "model = trans.get_classifier()"
      ],
      "metadata": {
        "execution": {
          "iopub.status.busy": "2024-05-20T16:04:32.337663Z",
          "iopub.execute_input": "2024-05-20T16:04:32.338687Z",
          "iopub.status.idle": "2024-05-20T16:04:33.946834Z",
          "shell.execute_reply.started": "2024-05-20T16:04:32.338633Z",
          "shell.execute_reply": "2024-05-20T16:04:33.945778Z"
        },
        "trusted": true,
        "id": "KojaM0_mV9jb"
      },
      "execution_count": null,
      "outputs": []
    },
    {
      "cell_type": "code",
      "source": [
        "learner = ktrain.get_learner(model, train_data=train,val_data=valid, batch_size=32)"
      ],
      "metadata": {
        "execution": {
          "iopub.status.busy": "2024-05-20T16:04:54.754196Z",
          "iopub.execute_input": "2024-05-20T16:04:54.755288Z",
          "iopub.status.idle": "2024-05-20T16:04:55.903704Z",
          "shell.execute_reply.started": "2024-05-20T16:04:54.755244Z",
          "shell.execute_reply": "2024-05-20T16:04:55.902637Z"
        },
        "trusted": true,
        "id": "7X1YvPpcV9jf"
      },
      "execution_count": null,
      "outputs": []
    },
    {
      "cell_type": "code",
      "source": [
        "from sklearn.utils import class_weight\n",
        "class_weights = class_weight.compute_class_weight('balanced'\n",
        "                                               ,classes = np.unique(train_data['enc_label'])\n",
        "                                               ,y = train_data['enc_label'])\n",
        "class_weights = dict(zip(np.unique(train_data['enc_label']), class_weights))"
      ],
      "metadata": {
        "execution": {
          "iopub.status.busy": "2024-05-20T16:05:04.493839Z",
          "iopub.execute_input": "2024-05-20T16:05:04.494874Z",
          "iopub.status.idle": "2024-05-20T16:05:04.602027Z",
          "shell.execute_reply.started": "2024-05-20T16:05:04.494824Z",
          "shell.execute_reply": "2024-05-20T16:05:04.600788Z"
        },
        "trusted": true,
        "id": "-qtzvI-oV9jf"
      },
      "execution_count": null,
      "outputs": []
    },
    {
      "cell_type": "code",
      "source": [
        "weight = {i : class_weights[i] for i in range(5)}\n",
        "weight"
      ],
      "metadata": {
        "execution": {
          "iopub.status.busy": "2024-05-20T16:05:07.593297Z",
          "iopub.execute_input": "2024-05-20T16:05:07.593682Z",
          "iopub.status.idle": "2024-05-20T16:05:07.688042Z",
          "shell.execute_reply.started": "2024-05-20T16:05:07.593649Z",
          "shell.execute_reply": "2024-05-20T16:05:07.68701Z"
        },
        "trusted": true,
        "id": "hmLyC-YRV9jf",
        "outputId": "7732f69d-f09d-4808-e29e-bde17ffea923"
      },
      "execution_count": null,
      "outputs": [
        {
          "execution_count": 42,
          "output_type": "execute_result",
          "data": {
            "text/plain": "{0: 1.0156521739130435,\n 1: 1.0656934306569343,\n 2: 0.9426957223567393,\n 3: 0.9175176747839748,\n 4: 1.0794824399260627}"
          },
          "metadata": {}
        }
      ]
    },
    {
      "cell_type": "code",
      "source": [
        "learner.fit_onecycle(2e-5,10,class_weight=weight)"
      ],
      "metadata": {
        "execution": {
          "iopub.status.busy": "2024-05-20T16:05:16.834415Z",
          "iopub.execute_input": "2024-05-20T16:05:16.834864Z",
          "iopub.status.idle": "2024-05-20T16:17:44.123776Z",
          "shell.execute_reply.started": "2024-05-20T16:05:16.834825Z",
          "shell.execute_reply": "2024-05-20T16:17:44.12287Z"
        },
        "trusted": true,
        "id": "voqQVuP9V9jf",
        "outputId": "b260b970-606f-404a-bd12-87575400fad8"
      },
      "execution_count": null,
      "outputs": [
        {
          "name": "stdout",
          "text": "\n\nbegin training using onecycle policy with max lr of 2e-05...\nEpoch 1/10\n183/183 [==============================] - 97s 411ms/step - loss: 1.5901 - accuracy: 0.2928 - val_loss: 1.4876 - val_accuracy: 0.5219\nEpoch 2/10\n183/183 [==============================] - 72s 395ms/step - loss: 1.1369 - accuracy: 0.6818 - val_loss: 0.7320 - val_accuracy: 0.8041\nEpoch 3/10\n183/183 [==============================] - 72s 395ms/step - loss: 0.5964 - accuracy: 0.8330 - val_loss: 0.4579 - val_accuracy: 0.8658\nEpoch 4/10\n183/183 [==============================] - 72s 395ms/step - loss: 0.3693 - accuracy: 0.8904 - val_loss: 0.4903 - val_accuracy: 0.8479\nEpoch 5/10\n183/183 [==============================] - 72s 394ms/step - loss: 0.2366 - accuracy: 0.9344 - val_loss: 0.4287 - val_accuracy: 0.8781\nEpoch 6/10\n183/183 [==============================] - 72s 395ms/step - loss: 0.1634 - accuracy: 0.9558 - val_loss: 0.4729 - val_accuracy: 0.8712\nEpoch 7/10\n183/183 [==============================] - 72s 395ms/step - loss: 0.1076 - accuracy: 0.9709 - val_loss: 0.4307 - val_accuracy: 0.8808\nEpoch 8/10\n183/183 [==============================] - 72s 395ms/step - loss: 0.0661 - accuracy: 0.9849 - val_loss: 0.4258 - val_accuracy: 0.8822\nEpoch 9/10\n183/183 [==============================] - 72s 395ms/step - loss: 0.0478 - accuracy: 0.9904 - val_loss: 0.4019 - val_accuracy: 0.8959\nEpoch 10/10\n183/183 [==============================] - 72s 395ms/step - loss: 0.0368 - accuracy: 0.9928 - val_loss: 0.4234 - val_accuracy: 0.8890\n",
          "output_type": "stream"
        },
        {
          "execution_count": 43,
          "output_type": "execute_result",
          "data": {
            "text/plain": "<keras.callbacks.History at 0x7db922e30990>"
          },
          "metadata": {}
        }
      ]
    },
    {
      "cell_type": "code",
      "source": [
        "learner.validate(class_names=categories)"
      ],
      "metadata": {
        "execution": {
          "iopub.status.busy": "2024-05-20T16:20:50.115013Z",
          "iopub.execute_input": "2024-05-20T16:20:50.115734Z",
          "iopub.status.idle": "2024-05-20T16:20:53.259891Z",
          "shell.execute_reply.started": "2024-05-20T16:20:50.115696Z",
          "shell.execute_reply": "2024-05-20T16:20:53.258872Z"
        },
        "trusted": true,
        "id": "X93Ms14XV9jg",
        "outputId": "276f9162-adcf-4a2b-b863-87f61125a3f4"
      },
      "execution_count": null,
      "outputs": [
        {
          "name": "stdout",
          "text": "                      precision    recall  f1-score   support\n\nSoftware Engineering       0.93      0.89      0.91       159\n                DBMS       0.80      0.90      0.85       141\n  Data Communication       0.94      0.90      0.92       147\n      Cyber Security       0.87      0.88      0.88       139\n    Operating System       0.91      0.86      0.89       144\n\n            accuracy                           0.89       730\n           macro avg       0.89      0.89      0.89       730\n        weighted avg       0.89      0.89      0.89       730\n\n",
          "output_type": "stream"
        },
        {
          "execution_count": 45,
          "output_type": "execute_result",
          "data": {
            "text/plain": "array([[142,   5,   3,   6,   3],\n       [  3, 127,   1,   6,   4],\n       [  1,   7, 133,   3,   3],\n       [  3,   9,   2, 123,   2],\n       [  4,  10,   3,   3, 124]])"
          },
          "metadata": {}
        }
      ]
    },
    {
      "cell_type": "code",
      "source": [
        "save_path = '/kaggle/working/banglabert'\n",
        "ktrain.get_predictor(learner.model, preproc=trans).save(save_path)"
      ],
      "metadata": {
        "execution": {
          "iopub.status.busy": "2024-05-20T16:21:18.124512Z",
          "iopub.execute_input": "2024-05-20T16:21:18.125316Z",
          "iopub.status.idle": "2024-05-20T16:21:19.052709Z",
          "shell.execute_reply.started": "2024-05-20T16:21:18.125265Z",
          "shell.execute_reply": "2024-05-20T16:21:19.051802Z"
        },
        "trusted": true,
        "id": "0CtkmoUJV9jg"
      },
      "execution_count": null,
      "outputs": []
    },
    {
      "cell_type": "code",
      "source": [
        "# Import necessary packages\n",
        "from sklearn.metrics import accuracy_score, classification_report\n",
        "import ktrain\n",
        "\n",
        "# Specify the file path for saving and loading the model in the Kaggle working directory\n",
        "save_path = '/kaggle/working/banglabert'\n",
        "\n",
        "# Load the predictor from the specified path\n",
        "predictor = ktrain.load_predictor(save_path)\n",
        "\n",
        "# Assuming you have your test data available as 'X_test' and 'y_test' in your Kaggle environment\n",
        "# Make predictions on the test data using the loaded predictor\n",
        "y_pred = predictor.predict(X_test)\n",
        "\n",
        "# Calculate accuracy by comparing the predicted labels with true labels\n",
        "accuracy = accuracy_score(y_test, y_pred)\n",
        "print(f\"Test data accuracy: {accuracy:.2%}\")\n",
        "\n",
        "# Generate classification report\n",
        "report = classification_report(y_test, y_pred, digits=4)\n",
        "\n",
        "# Print the classification report\n",
        "print(\"Classification Report:\")\n",
        "print(report)\n"
      ],
      "metadata": {
        "execution": {
          "iopub.status.busy": "2024-05-20T16:21:22.480879Z",
          "iopub.execute_input": "2024-05-20T16:21:22.481268Z",
          "iopub.status.idle": "2024-05-20T16:21:28.701645Z",
          "shell.execute_reply.started": "2024-05-20T16:21:22.481234Z",
          "shell.execute_reply": "2024-05-20T16:21:28.700394Z"
        },
        "trusted": true,
        "id": "POeAIMZqV9jg",
        "outputId": "6a2f0d50-d353-4c68-8574-5c6fc9428bae"
      },
      "execution_count": null,
      "outputs": [
        {
          "name": "stdout",
          "text": "Test data accuracy: 89.45%\nClassification Report:\n                      precision    recall  f1-score   support\n\n      Cyber Security     0.9324    0.9079    0.9200       152\n                DBMS     0.8916    0.9024    0.8970       164\n  Data Communication     0.9103    0.8919    0.9010       148\n    Operating System     0.8478    0.8864    0.8667       132\nSoftware Engineering     0.8872    0.8806    0.8839       134\n\n            accuracy                         0.8945       730\n           macro avg     0.8939    0.8938    0.8937       730\n        weighted avg     0.8952    0.8945    0.8947       730\n\n",
          "output_type": "stream"
        }
      ]
    },
    {
      "cell_type": "code",
      "source": [
        "model_name = 'xlm-roberta-base'\n",
        "trans = text.Transformer(model_name,maxlen=100,class_names=categories)"
      ],
      "metadata": {
        "execution": {
          "iopub.status.busy": "2024-05-20T16:21:39.152335Z",
          "iopub.execute_input": "2024-05-20T16:21:39.15312Z",
          "iopub.status.idle": "2024-05-20T16:22:34.808512Z",
          "shell.execute_reply.started": "2024-05-20T16:21:39.153081Z",
          "shell.execute_reply": "2024-05-20T16:22:34.807492Z"
        },
        "trusted": true,
        "id": "n0SPeNfSV9jg",
        "outputId": "e291e7bc-c212-4463-eae0-ad3e10bb9015",
        "colab": {
          "referenced_widgets": [
            "adfa91621acd4e40bc4438b9cb5c5c2c",
            "6f4c2c2e2279412db7275a461f1e3024",
            "33955927c00a406ea7e86dc61ed9a132"
          ]
        }
      },
      "execution_count": null,
      "outputs": [
        {
          "output_type": "display_data",
          "data": {
            "text/plain": "Downloading:   0%|          | 0.00/615 [00:00<?, ?B/s]",
            "application/vnd.jupyter.widget-view+json": {
              "version_major": 2,
              "version_minor": 0,
              "model_id": "adfa91621acd4e40bc4438b9cb5c5c2c"
            }
          },
          "metadata": {}
        },
        {
          "output_type": "display_data",
          "data": {
            "text/plain": "Downloading:   0%|          | 0.00/512 [00:00<?, ?B/s]",
            "application/vnd.jupyter.widget-view+json": {
              "version_major": 2,
              "version_minor": 0,
              "model_id": "6f4c2c2e2279412db7275a461f1e3024"
            }
          },
          "metadata": {}
        },
        {
          "output_type": "display_data",
          "data": {
            "text/plain": "Downloading:   0%|          | 0.00/1.76G [00:00<?, ?B/s]",
            "application/vnd.jupyter.widget-view+json": {
              "version_major": 2,
              "version_minor": 0,
              "model_id": "33955927c00a406ea7e86dc61ed9a132"
            }
          },
          "metadata": {}
        }
      ]
    },
    {
      "cell_type": "code",
      "source": [
        "train = trans.preprocess_train(X_train,y_train)\n",
        "valid = trans.preprocess_test(X_valid,y_valid)"
      ],
      "metadata": {
        "execution": {
          "iopub.status.busy": "2024-05-20T16:23:56.718841Z",
          "iopub.execute_input": "2024-05-20T16:23:56.719258Z",
          "iopub.status.idle": "2024-05-20T16:24:02.242993Z",
          "shell.execute_reply.started": "2024-05-20T16:23:56.719225Z",
          "shell.execute_reply": "2024-05-20T16:24:02.241991Z"
        },
        "trusted": true,
        "id": "0BybjaOOV9jg",
        "outputId": "162898ee-4637-4f8e-d808-6d9a896d6f49",
        "colab": {
          "referenced_widgets": [
            "042c946ee7ba40a1b9a5c9825cd87a04"
          ]
        }
      },
      "execution_count": null,
      "outputs": [
        {
          "name": "stdout",
          "text": "preprocessing train...\nlanguage: bn\ntrain sequence lengths:\n\tmean : 10\n\t95percentile : 19\n\t99percentile : 26\n",
          "output_type": "stream"
        },
        {
          "output_type": "display_data",
          "data": {
            "text/plain": "Downloading:   0%|          | 0.00/4.83M [00:00<?, ?B/s]",
            "application/vnd.jupyter.widget-view+json": {
              "version_major": 2,
              "version_minor": 0,
              "model_id": "042c946ee7ba40a1b9a5c9825cd87a04"
            }
          },
          "metadata": {}
        },
        {
          "output_type": "display_data",
          "data": {
            "text/plain": "<IPython.core.display.HTML object>",
            "text/html": "\n<style>\n    /* Turns off some styling */\n    progress {\n        /* gets rid of default border in Firefox and Opera. */\n        border: none;\n        /* Needs to be in here for Safari polyfill so background images work as expected. */\n        background-size: auto;\n    }\n    progress:not([value]), progress:not([value])::-webkit-progress-bar {\n        background: repeating-linear-gradient(45deg, #7e7e7e, #7e7e7e 10px, #5c5c5c 10px, #5c5c5c 20px);\n    }\n    .progress-bar-interrupted, .progress-bar-interrupted::-webkit-progress-bar {\n        background: #F44336;\n    }\n</style>\n"
          },
          "metadata": {}
        },
        {
          "output_type": "display_data",
          "data": {
            "text/plain": "<IPython.core.display.HTML object>",
            "text/html": ""
          },
          "metadata": {}
        },
        {
          "name": "stdout",
          "text": "Is Multi-Label? False\npreprocessing test...\nlanguage: bn\ntest sequence lengths:\n\tmean : 10\n\t95percentile : 19\n\t99percentile : 25\n",
          "output_type": "stream"
        },
        {
          "output_type": "display_data",
          "data": {
            "text/plain": "<IPython.core.display.HTML object>",
            "text/html": "\n<style>\n    /* Turns off some styling */\n    progress {\n        /* gets rid of default border in Firefox and Opera. */\n        border: none;\n        /* Needs to be in here for Safari polyfill so background images work as expected. */\n        background-size: auto;\n    }\n    progress:not([value]), progress:not([value])::-webkit-progress-bar {\n        background: repeating-linear-gradient(45deg, #7e7e7e, #7e7e7e 10px, #5c5c5c 10px, #5c5c5c 20px);\n    }\n    .progress-bar-interrupted, .progress-bar-interrupted::-webkit-progress-bar {\n        background: #F44336;\n    }\n</style>\n"
          },
          "metadata": {}
        },
        {
          "output_type": "display_data",
          "data": {
            "text/plain": "<IPython.core.display.HTML object>",
            "text/html": ""
          },
          "metadata": {}
        }
      ]
    },
    {
      "cell_type": "code",
      "source": [
        "model = trans.get_classifier()"
      ],
      "metadata": {
        "execution": {
          "iopub.status.busy": "2024-05-20T16:24:05.592367Z",
          "iopub.execute_input": "2024-05-20T16:24:05.593168Z",
          "iopub.status.idle": "2024-05-20T16:24:08.12849Z",
          "shell.execute_reply.started": "2024-05-20T16:24:05.593127Z",
          "shell.execute_reply": "2024-05-20T16:24:08.127622Z"
        },
        "trusted": true,
        "id": "jUTwLX2KV9jh"
      },
      "execution_count": null,
      "outputs": []
    },
    {
      "cell_type": "code",
      "source": [
        "learner = ktrain.get_learner(model, train_data=train,val_data=valid, batch_size=32)"
      ],
      "metadata": {
        "execution": {
          "iopub.status.busy": "2024-05-20T16:24:12.262441Z",
          "iopub.execute_input": "2024-05-20T16:24:12.263341Z",
          "iopub.status.idle": "2024-05-20T16:24:14.65724Z",
          "shell.execute_reply.started": "2024-05-20T16:24:12.263302Z",
          "shell.execute_reply": "2024-05-20T16:24:14.65637Z"
        },
        "trusted": true,
        "id": "KM9e8WMCV9jh"
      },
      "execution_count": null,
      "outputs": []
    },
    {
      "cell_type": "code",
      "source": [
        "from sklearn.utils import class_weight\n",
        "class_weights = class_weight.compute_class_weight('balanced'\n",
        "                                               ,classes = np.unique(train_data['enc_label'])\n",
        "                                               ,y = train_data['enc_label'])\n",
        "class_weights = dict(zip(np.unique(train_data['enc_label']), class_weights))"
      ],
      "metadata": {
        "execution": {
          "iopub.status.busy": "2024-05-20T16:24:19.58646Z",
          "iopub.execute_input": "2024-05-20T16:24:19.587359Z",
          "iopub.status.idle": "2024-05-20T16:24:19.686156Z",
          "shell.execute_reply.started": "2024-05-20T16:24:19.587322Z",
          "shell.execute_reply": "2024-05-20T16:24:19.685261Z"
        },
        "trusted": true,
        "id": "XWx4kZ3uV9jh"
      },
      "execution_count": null,
      "outputs": []
    },
    {
      "cell_type": "code",
      "source": [
        "weight = {i : class_weights[i] for i in range(5)}\n",
        "weight"
      ],
      "metadata": {
        "execution": {
          "iopub.status.busy": "2024-05-20T16:24:23.480115Z",
          "iopub.execute_input": "2024-05-20T16:24:23.481027Z",
          "iopub.status.idle": "2024-05-20T16:24:23.578907Z",
          "shell.execute_reply.started": "2024-05-20T16:24:23.480984Z",
          "shell.execute_reply": "2024-05-20T16:24:23.577825Z"
        },
        "trusted": true,
        "id": "oVhCL-sRV9jh",
        "outputId": "5e2d797f-16dc-4ce2-ca49-bf9465fc759c"
      },
      "execution_count": null,
      "outputs": [
        {
          "execution_count": 53,
          "output_type": "execute_result",
          "data": {
            "text/plain": "{0: 1.0156521739130435,\n 1: 1.0656934306569343,\n 2: 0.9426957223567393,\n 3: 0.9175176747839748,\n 4: 1.0794824399260627}"
          },
          "metadata": {}
        }
      ]
    },
    {
      "cell_type": "code",
      "source": [
        "learner.fit_onecycle(2e-5,10,class_weight=weight)"
      ],
      "metadata": {
        "execution": {
          "iopub.status.busy": "2024-05-20T16:24:30.272067Z",
          "iopub.execute_input": "2024-05-20T16:24:30.272987Z",
          "iopub.status.idle": "2024-05-20T16:38:05.840843Z",
          "shell.execute_reply.started": "2024-05-20T16:24:30.272937Z",
          "shell.execute_reply": "2024-05-20T16:38:05.839635Z"
        },
        "trusted": true,
        "id": "TW5gHOMXV9jh",
        "outputId": "a4d0fbb1-eb4d-4b69-93f5-c5e0e4da55ac"
      },
      "execution_count": null,
      "outputs": [
        {
          "name": "stdout",
          "text": "\n\nbegin training using onecycle policy with max lr of 2e-05...\nEpoch 1/10\n183/183 [==============================] - 102s 449ms/step - loss: 1.5684 - accuracy: 0.2875 - val_loss: 1.2341 - val_accuracy: 0.5822\nEpoch 2/10\n183/183 [==============================] - 79s 433ms/step - loss: 0.9914 - accuracy: 0.6712 - val_loss: 0.6202 - val_accuracy: 0.8027\nEpoch 3/10\n183/183 [==============================] - 79s 434ms/step - loss: 0.6408 - accuracy: 0.7995 - val_loss: 0.5240 - val_accuracy: 0.8219\nEpoch 4/10\n183/183 [==============================] - 79s 433ms/step - loss: 0.4753 - accuracy: 0.8462 - val_loss: 0.4196 - val_accuracy: 0.8616\nEpoch 5/10\n183/183 [==============================] - 79s 433ms/step - loss: 0.3740 - accuracy: 0.8810 - val_loss: 0.3974 - val_accuracy: 0.8781\nEpoch 6/10\n183/183 [==============================] - 79s 433ms/step - loss: 0.2744 - accuracy: 0.9168 - val_loss: 0.3721 - val_accuracy: 0.8836\nEpoch 7/10\n183/183 [==============================] - 79s 433ms/step - loss: 0.2037 - accuracy: 0.9361 - val_loss: 0.3881 - val_accuracy: 0.8945\nEpoch 8/10\n183/183 [==============================] - 79s 434ms/step - loss: 0.1334 - accuracy: 0.9613 - val_loss: 0.3903 - val_accuracy: 0.9027\nEpoch 9/10\n183/183 [==============================] - 79s 433ms/step - loss: 0.1016 - accuracy: 0.9687 - val_loss: 0.3890 - val_accuracy: 0.9082\nEpoch 10/10\n183/183 [==============================] - 79s 433ms/step - loss: 0.0733 - accuracy: 0.9791 - val_loss: 0.4042 - val_accuracy: 0.9000\n",
          "output_type": "stream"
        },
        {
          "execution_count": 54,
          "output_type": "execute_result",
          "data": {
            "text/plain": "<keras.callbacks.History at 0x7db4cb7d7490>"
          },
          "metadata": {}
        }
      ]
    },
    {
      "cell_type": "code",
      "source": [
        "learner.validate(class_names=categories)"
      ],
      "metadata": {
        "execution": {
          "iopub.status.busy": "2024-05-20T16:39:50.217429Z",
          "iopub.execute_input": "2024-05-20T16:39:50.218243Z",
          "iopub.status.idle": "2024-05-20T16:39:56.112609Z",
          "shell.execute_reply.started": "2024-05-20T16:39:50.218201Z",
          "shell.execute_reply": "2024-05-20T16:39:56.111646Z"
        },
        "trusted": true,
        "id": "hsHgo6WYV9jh",
        "outputId": "0e1ff731-36a4-4a8d-ee4d-32c4dbadda38"
      },
      "execution_count": null,
      "outputs": [
        {
          "name": "stdout",
          "text": "                      precision    recall  f1-score   support\n\nSoftware Engineering       0.90      0.87      0.89       159\n                DBMS       0.83      0.89      0.86       141\n  Data Communication       0.93      0.93      0.93       147\n      Cyber Security       0.90      0.91      0.91       139\n    Operating System       0.93      0.90      0.91       144\n\n            accuracy                           0.90       730\n           macro avg       0.90      0.90      0.90       730\n        weighted avg       0.90      0.90      0.90       730\n\n",
          "output_type": "stream"
        },
        {
          "execution_count": 55,
          "output_type": "execute_result",
          "data": {
            "text/plain": "array([[139,   7,   5,   4,   4],\n       [  8, 126,   0,   5,   2],\n       [  4,   4, 136,   2,   1],\n       [  1,   6,   3, 127,   2],\n       [  2,   8,   2,   3, 129]])"
          },
          "metadata": {}
        }
      ]
    },
    {
      "cell_type": "code",
      "source": [
        "save_path = '/kaggle/working/roberta'\n",
        "ktrain.get_predictor(learner.model, preproc=trans).save(save_path)"
      ],
      "metadata": {
        "execution": {
          "iopub.status.busy": "2024-05-20T16:40:00.159865Z",
          "iopub.execute_input": "2024-05-20T16:40:00.160249Z",
          "iopub.status.idle": "2024-05-20T16:40:02.964944Z",
          "shell.execute_reply.started": "2024-05-20T16:40:00.160216Z",
          "shell.execute_reply": "2024-05-20T16:40:02.964086Z"
        },
        "trusted": true,
        "id": "l69QeSzwV9ji"
      },
      "execution_count": null,
      "outputs": []
    },
    {
      "cell_type": "code",
      "source": [
        "# Import necessary packages\n",
        "from sklearn.metrics import accuracy_score, classification_report\n",
        "import ktrain\n",
        "\n",
        "# Specify the file path for saving and loading the model in the Kaggle working directory\n",
        "save_path = '/kaggle/working/roberta'\n",
        "\n",
        "# Load the predictor from the specified path\n",
        "predictor = ktrain.load_predictor(save_path)\n",
        "\n",
        "# Assuming you have your test data available as 'X_test' and 'y_test' in your Kaggle environment\n",
        "# Make predictions on the test data using the loaded predictor\n",
        "y_pred = predictor.predict(X_test)\n",
        "\n",
        "# Calculate accuracy by comparing the predicted labels with true labels\n",
        "accuracy = accuracy_score(y_test, y_pred)\n",
        "print(f\"Test data accuracy: {accuracy:.2%}\")\n",
        "\n",
        "# Generate classification report\n",
        "report = classification_report(y_test, y_pred,digits=4)\n",
        "\n",
        "# Print the classification report\n",
        "print(\"Classification Report:\")\n",
        "print(report)\n"
      ],
      "metadata": {
        "execution": {
          "iopub.status.busy": "2024-05-20T16:40:32.179086Z",
          "iopub.execute_input": "2024-05-20T16:40:32.179905Z",
          "iopub.status.idle": "2024-05-20T16:40:42.067546Z",
          "shell.execute_reply.started": "2024-05-20T16:40:32.17987Z",
          "shell.execute_reply": "2024-05-20T16:40:42.066546Z"
        },
        "trusted": true,
        "id": "s0sJOj6IV9ji",
        "outputId": "197cd942-2a0a-4646-994c-f2f8b57b8f0b"
      },
      "execution_count": null,
      "outputs": [
        {
          "name": "stdout",
          "text": "Test data accuracy: 89.86%\nClassification Report:\n                      precision    recall  f1-score   support\n\n      Cyber Security     0.9384    0.9013    0.9195       152\n                DBMS     0.9161    0.8659    0.8903       164\n  Data Communication     0.9073    0.9257    0.9164       148\n    Operating System     0.8489    0.8939    0.8708       132\nSoftware Engineering     0.8777    0.9104    0.8938       134\n\n            accuracy                         0.8986       730\n           macro avg     0.8977    0.8994    0.8982       730\n        weighted avg     0.8998    0.8986    0.8988       730\n\n",
          "output_type": "stream"
        }
      ]
    },
    {
      "cell_type": "code",
      "source": [
        "model_name = 'google-bert/bert-base-multilingual-cased'\n",
        "trans = text.Transformer(model_name,maxlen=100,class_names=categories)"
      ],
      "metadata": {
        "execution": {
          "iopub.status.busy": "2024-05-20T16:40:48.169303Z",
          "iopub.execute_input": "2024-05-20T16:40:48.169706Z",
          "iopub.status.idle": "2024-05-20T16:41:16.508496Z",
          "shell.execute_reply.started": "2024-05-20T16:40:48.169673Z",
          "shell.execute_reply": "2024-05-20T16:41:16.507332Z"
        },
        "trusted": true,
        "id": "4zBY7vmWV9ji",
        "outputId": "a7140e53-0025-4686-c4d2-119ffd19e829",
        "colab": {
          "referenced_widgets": [
            "28cd840f7ad5401c990a6553fbf0974d",
            "c96c2091129d432eb28c5e6c905df0fc"
          ]
        }
      },
      "execution_count": null,
      "outputs": [
        {
          "output_type": "display_data",
          "data": {
            "text/plain": "Downloading:   0%|          | 0.00/625 [00:00<?, ?B/s]",
            "application/vnd.jupyter.widget-view+json": {
              "version_major": 2,
              "version_minor": 0,
              "model_id": "28cd840f7ad5401c990a6553fbf0974d"
            }
          },
          "metadata": {}
        },
        {
          "output_type": "display_data",
          "data": {
            "text/plain": "Downloading:   0%|          | 0.00/1.01G [00:00<?, ?B/s]",
            "application/vnd.jupyter.widget-view+json": {
              "version_major": 2,
              "version_minor": 0,
              "model_id": "c96c2091129d432eb28c5e6c905df0fc"
            }
          },
          "metadata": {}
        }
      ]
    },
    {
      "cell_type": "code",
      "source": [
        "train = trans.preprocess_train(X_train,y_train)\n",
        "valid = trans.preprocess_test(X_valid,y_valid)"
      ],
      "metadata": {
        "execution": {
          "iopub.status.busy": "2024-05-20T16:42:20.671344Z",
          "iopub.execute_input": "2024-05-20T16:42:20.67176Z",
          "iopub.status.idle": "2024-05-20T16:42:25.13643Z",
          "shell.execute_reply.started": "2024-05-20T16:42:20.671721Z",
          "shell.execute_reply": "2024-05-20T16:42:25.135436Z"
        },
        "trusted": true,
        "id": "dg2Gq7UAV9jj",
        "outputId": "21530bd9-5291-452a-8f89-8f29d7c70589",
        "colab": {
          "referenced_widgets": [
            "6706a6730f9040ff87817e4ea6b3d846",
            "0e254c754363407c857e83f7c397215a",
            "34b40c0af83340b7ae9c776e8599d7cd"
          ]
        }
      },
      "execution_count": null,
      "outputs": [
        {
          "name": "stdout",
          "text": "preprocessing train...\nlanguage: bn\ntrain sequence lengths:\n\tmean : 10\n\t95percentile : 19\n\t99percentile : 26\n",
          "output_type": "stream"
        },
        {
          "output_type": "display_data",
          "data": {
            "text/plain": "Downloading:   0%|          | 0.00/49.0 [00:00<?, ?B/s]",
            "application/vnd.jupyter.widget-view+json": {
              "version_major": 2,
              "version_minor": 0,
              "model_id": "6706a6730f9040ff87817e4ea6b3d846"
            }
          },
          "metadata": {}
        },
        {
          "output_type": "display_data",
          "data": {
            "text/plain": "Downloading:   0%|          | 0.00/972k [00:00<?, ?B/s]",
            "application/vnd.jupyter.widget-view+json": {
              "version_major": 2,
              "version_minor": 0,
              "model_id": "0e254c754363407c857e83f7c397215a"
            }
          },
          "metadata": {}
        },
        {
          "output_type": "display_data",
          "data": {
            "text/plain": "Downloading:   0%|          | 0.00/1.87M [00:00<?, ?B/s]",
            "application/vnd.jupyter.widget-view+json": {
              "version_major": 2,
              "version_minor": 0,
              "model_id": "34b40c0af83340b7ae9c776e8599d7cd"
            }
          },
          "metadata": {}
        },
        {
          "output_type": "display_data",
          "data": {
            "text/plain": "<IPython.core.display.HTML object>",
            "text/html": "\n<style>\n    /* Turns off some styling */\n    progress {\n        /* gets rid of default border in Firefox and Opera. */\n        border: none;\n        /* Needs to be in here for Safari polyfill so background images work as expected. */\n        background-size: auto;\n    }\n    progress:not([value]), progress:not([value])::-webkit-progress-bar {\n        background: repeating-linear-gradient(45deg, #7e7e7e, #7e7e7e 10px, #5c5c5c 10px, #5c5c5c 20px);\n    }\n    .progress-bar-interrupted, .progress-bar-interrupted::-webkit-progress-bar {\n        background: #F44336;\n    }\n</style>\n"
          },
          "metadata": {}
        },
        {
          "output_type": "display_data",
          "data": {
            "text/plain": "<IPython.core.display.HTML object>",
            "text/html": ""
          },
          "metadata": {}
        },
        {
          "name": "stdout",
          "text": "Is Multi-Label? False\npreprocessing test...\nlanguage: bn\ntest sequence lengths:\n\tmean : 10\n\t95percentile : 19\n\t99percentile : 25\n",
          "output_type": "stream"
        },
        {
          "output_type": "display_data",
          "data": {
            "text/plain": "<IPython.core.display.HTML object>",
            "text/html": "\n<style>\n    /* Turns off some styling */\n    progress {\n        /* gets rid of default border in Firefox and Opera. */\n        border: none;\n        /* Needs to be in here for Safari polyfill so background images work as expected. */\n        background-size: auto;\n    }\n    progress:not([value]), progress:not([value])::-webkit-progress-bar {\n        background: repeating-linear-gradient(45deg, #7e7e7e, #7e7e7e 10px, #5c5c5c 10px, #5c5c5c 20px);\n    }\n    .progress-bar-interrupted, .progress-bar-interrupted::-webkit-progress-bar {\n        background: #F44336;\n    }\n</style>\n"
          },
          "metadata": {}
        },
        {
          "output_type": "display_data",
          "data": {
            "text/plain": "<IPython.core.display.HTML object>",
            "text/html": ""
          },
          "metadata": {}
        }
      ]
    },
    {
      "cell_type": "code",
      "source": [
        "model = trans.get_classifier()"
      ],
      "metadata": {
        "execution": {
          "iopub.status.busy": "2024-05-20T16:42:28.191089Z",
          "iopub.execute_input": "2024-05-20T16:42:28.192026Z",
          "iopub.status.idle": "2024-05-20T16:42:29.935234Z",
          "shell.execute_reply.started": "2024-05-20T16:42:28.191986Z",
          "shell.execute_reply": "2024-05-20T16:42:29.934383Z"
        },
        "trusted": true,
        "id": "rKDWbbhKV9jj"
      },
      "execution_count": null,
      "outputs": []
    },
    {
      "cell_type": "code",
      "source": [
        "learner = ktrain.get_learner(model, train_data=train,val_data=valid, batch_size=32)"
      ],
      "metadata": {
        "execution": {
          "iopub.status.busy": "2024-05-20T16:42:36.764574Z",
          "iopub.execute_input": "2024-05-20T16:42:36.764973Z",
          "iopub.status.idle": "2024-05-20T16:42:38.07866Z",
          "shell.execute_reply.started": "2024-05-20T16:42:36.764942Z",
          "shell.execute_reply": "2024-05-20T16:42:38.077802Z"
        },
        "trusted": true,
        "id": "Lus4aydOV9jj"
      },
      "execution_count": null,
      "outputs": []
    },
    {
      "cell_type": "code",
      "source": [
        "from sklearn.utils import class_weight\n",
        "class_weights = class_weight.compute_class_weight('balanced'\n",
        "                                               ,classes = np.unique(train_data['enc_label'])\n",
        "                                               ,y = train_data['enc_label'])\n",
        "class_weights = dict(zip(np.unique(train_data['enc_label']), class_weights))"
      ],
      "metadata": {
        "execution": {
          "iopub.status.busy": "2024-05-20T16:42:41.977301Z",
          "iopub.execute_input": "2024-05-20T16:42:41.977811Z",
          "iopub.status.idle": "2024-05-20T16:42:42.077172Z",
          "shell.execute_reply.started": "2024-05-20T16:42:41.977774Z",
          "shell.execute_reply": "2024-05-20T16:42:42.075947Z"
        },
        "trusted": true,
        "id": "IfMIbWO9V9jj"
      },
      "execution_count": null,
      "outputs": []
    },
    {
      "cell_type": "code",
      "source": [
        "weight = {i : class_weights[i] for i in range(5)}\n",
        "weight"
      ],
      "metadata": {
        "execution": {
          "iopub.status.busy": "2024-05-20T16:42:46.182447Z",
          "iopub.execute_input": "2024-05-20T16:42:46.183404Z",
          "iopub.status.idle": "2024-05-20T16:42:46.279854Z",
          "shell.execute_reply.started": "2024-05-20T16:42:46.183362Z",
          "shell.execute_reply": "2024-05-20T16:42:46.278928Z"
        },
        "trusted": true,
        "id": "xB49kJ93V9jj",
        "outputId": "7edd9433-3793-404e-9fdc-f943df6d872d"
      },
      "execution_count": null,
      "outputs": [
        {
          "execution_count": 64,
          "output_type": "execute_result",
          "data": {
            "text/plain": "{0: 1.0156521739130435,\n 1: 1.0656934306569343,\n 2: 0.9426957223567393,\n 3: 0.9175176747839748,\n 4: 1.0794824399260627}"
          },
          "metadata": {}
        }
      ]
    },
    {
      "cell_type": "code",
      "source": [
        "learner.fit_onecycle(2e-5,10,class_weight=weight)"
      ],
      "metadata": {
        "execution": {
          "iopub.status.busy": "2024-05-20T16:42:51.939442Z",
          "iopub.execute_input": "2024-05-20T16:42:51.939808Z",
          "iopub.status.idle": "2024-05-20T16:55:44.124353Z",
          "shell.execute_reply.started": "2024-05-20T16:42:51.939779Z",
          "shell.execute_reply": "2024-05-20T16:55:44.123376Z"
        },
        "trusted": true,
        "id": "7We3oA_8V9jj",
        "outputId": "d33e27a1-897d-4a0b-e540-d176015ab38c"
      },
      "execution_count": null,
      "outputs": [
        {
          "name": "stdout",
          "text": "\n\nbegin training using onecycle policy with max lr of 2e-05...\nEpoch 1/10\n183/183 [==============================] - 97s 425ms/step - loss: 1.5029 - accuracy: 0.3551 - val_loss: 1.1502 - val_accuracy: 0.5781\nEpoch 2/10\n183/183 [==============================] - 75s 410ms/step - loss: 0.8834 - accuracy: 0.7027 - val_loss: 0.6089 - val_accuracy: 0.7945\nEpoch 3/10\n183/183 [==============================] - 75s 410ms/step - loss: 0.5251 - accuracy: 0.8332 - val_loss: 0.4824 - val_accuracy: 0.8452\nEpoch 4/10\n183/183 [==============================] - 75s 410ms/step - loss: 0.3823 - accuracy: 0.8772 - val_loss: 0.4867 - val_accuracy: 0.8384\nEpoch 5/10\n183/183 [==============================] - 75s 410ms/step - loss: 0.2753 - accuracy: 0.9116 - val_loss: 0.4687 - val_accuracy: 0.8562\nEpoch 6/10\n183/183 [==============================] - 75s 410ms/step - loss: 0.1919 - accuracy: 0.9420 - val_loss: 0.4552 - val_accuracy: 0.8712\nEpoch 7/10\n183/183 [==============================] - 75s 410ms/step - loss: 0.1160 - accuracy: 0.9654 - val_loss: 0.4400 - val_accuracy: 0.8781\nEpoch 8/10\n183/183 [==============================] - 75s 410ms/step - loss: 0.0747 - accuracy: 0.9777 - val_loss: 0.4540 - val_accuracy: 0.8767\nEpoch 9/10\n183/183 [==============================] - 75s 410ms/step - loss: 0.0441 - accuracy: 0.9878 - val_loss: 0.4711 - val_accuracy: 0.8849\nEpoch 10/10\n183/183 [==============================] - 75s 410ms/step - loss: 0.0264 - accuracy: 0.9947 - val_loss: 0.4571 - val_accuracy: 0.8863\n",
          "output_type": "stream"
        },
        {
          "execution_count": 65,
          "output_type": "execute_result",
          "data": {
            "text/plain": "<keras.callbacks.History at 0x7db8d0d03150>"
          },
          "metadata": {}
        }
      ]
    },
    {
      "cell_type": "code",
      "source": [
        "learner.validate(class_names=categories)"
      ],
      "metadata": {
        "execution": {
          "iopub.status.busy": "2024-05-20T16:55:57.12465Z",
          "iopub.execute_input": "2024-05-20T16:55:57.125036Z",
          "iopub.status.idle": "2024-05-20T16:56:03.016701Z",
          "shell.execute_reply.started": "2024-05-20T16:55:57.125002Z",
          "shell.execute_reply": "2024-05-20T16:56:03.015705Z"
        },
        "trusted": true,
        "id": "LWnv3iXSV9jk",
        "outputId": "7d2317d5-a635-4cd6-eac7-c0b64fe786a2"
      },
      "execution_count": null,
      "outputs": [
        {
          "name": "stdout",
          "text": "                      precision    recall  f1-score   support\n\nSoftware Engineering       0.91      0.86      0.88       159\n                DBMS       0.86      0.89      0.88       141\n  Data Communication       0.88      0.92      0.90       147\n      Cyber Security       0.90      0.89      0.90       139\n    Operating System       0.89      0.88      0.88       144\n\n            accuracy                           0.89       730\n           macro avg       0.89      0.89      0.89       730\n        weighted avg       0.89      0.89      0.89       730\n\n",
          "output_type": "stream"
        },
        {
          "execution_count": 66,
          "output_type": "execute_result",
          "data": {
            "text/plain": "array([[136,   5,   7,   5,   6],\n       [  4, 126,   3,   5,   3],\n       [  5,   3, 135,   1,   3],\n       [  3,   6,   3, 124,   3],\n       [  2,   7,   6,   3, 126]])"
          },
          "metadata": {}
        }
      ]
    },
    {
      "cell_type": "code",
      "source": [
        "# Save the predictor directly in the working directory\n",
        "save_path = '/kaggle/working/mbert'\n",
        "ktrain.get_predictor(learner.model, preproc=trans).save(save_path)"
      ],
      "metadata": {
        "execution": {
          "iopub.status.busy": "2024-05-20T16:56:07.257668Z",
          "iopub.execute_input": "2024-05-20T16:56:07.25833Z",
          "iopub.status.idle": "2024-05-20T16:56:08.910933Z",
          "shell.execute_reply.started": "2024-05-20T16:56:07.258291Z",
          "shell.execute_reply": "2024-05-20T16:56:08.910049Z"
        },
        "trusted": true,
        "id": "E3MVCHZzV9jk"
      },
      "execution_count": null,
      "outputs": []
    },
    {
      "cell_type": "code",
      "source": [
        "# Import necessary packages\n",
        "from sklearn.metrics import accuracy_score, classification_report\n",
        "import ktrain\n",
        "\n",
        "# Specify the file path for saving and loading the model in the Kaggle working directory\n",
        "save_path = '/kaggle/working/mbert'\n",
        "\n",
        "# Load the predictor from the specified path\n",
        "predictor = ktrain.load_predictor(save_path)\n",
        "\n",
        "# Assuming you have your test data available as 'X_test' and 'y_test' in your Kaggle environment\n",
        "# Make predictions on the test data using the loaded predictor\n",
        "y_pred = predictor.predict(X_test)\n",
        "\n",
        "# Calculate accuracy by comparing the predicted labels with true labels\n",
        "accuracy = accuracy_score(y_test, y_pred)\n",
        "print(f\"Test data accuracy: {accuracy:.2%}\")\n",
        "\n",
        "# Generate classification report\n",
        "report = classification_report(y_test, y_pred, digits=4)\n",
        "\n",
        "# Print the classification report\n",
        "print(\"Classification Report:\")\n",
        "print(report)"
      ],
      "metadata": {
        "execution": {
          "iopub.status.busy": "2024-05-20T16:56:14.740376Z",
          "iopub.execute_input": "2024-05-20T16:56:14.741385Z",
          "iopub.status.idle": "2024-05-20T16:56:22.560807Z",
          "shell.execute_reply.started": "2024-05-20T16:56:14.741342Z",
          "shell.execute_reply": "2024-05-20T16:56:22.559806Z"
        },
        "trusted": true,
        "id": "vBLCAX1NV9jk",
        "outputId": "66eaecba-6aaa-4e82-cd7e-1749841a060b"
      },
      "execution_count": null,
      "outputs": [
        {
          "name": "stdout",
          "text": "Test data accuracy: 90.96%\nClassification Report:\n                      precision    recall  f1-score   support\n\n      Cyber Security     0.9444    0.8947    0.9189       152\n                DBMS     0.9396    0.8537    0.8946       164\n  Data Communication     0.9097    0.9527    0.9307       148\n    Operating System     0.8643    0.9167    0.8897       132\nSoftware Engineering     0.8873    0.9403    0.9130       134\n\n            accuracy                         0.9096       730\n           macro avg     0.9091    0.9116    0.9094       730\n        weighted avg     0.9113    0.9096    0.9095       730\n\n",
          "output_type": "stream"
        }
      ]
    },
    {
      "cell_type": "code",
      "source": [
        "# Import necessary packages\n",
        "import ktrain\n",
        "import numpy as np\n",
        "from sklearn.metrics import accuracy_score, classification_report, confusion_matrix\n",
        "from scipy import stats\n",
        "\n",
        "\n",
        "# Generate confusion matrix\n",
        "conf_matrix = confusion_matrix(y_test, y_pred)\n",
        "\n",
        "# Plot confusion matrix using seaborn heatmap\n",
        "import seaborn as sns\n",
        "import matplotlib.pyplot as plt\n",
        "\n",
        "plt.figure(figsize=(8, 5))\n",
        "sns.heatmap(conf_matrix, annot=True, fmt='d', cmap='Blues', xticklabels=np.unique(y_test), yticklabels=np.unique(y_test))\n",
        "# Rotate x-axis tick labels by 30 degrees\n",
        "plt.xticks(rotation=30, ha='right')\n",
        "plt.xlabel('Predicted Labels')\n",
        "plt.ylabel('True Labels')\n",
        "plt.title('Confusion Matrix')\n",
        "plt.show()"
      ],
      "metadata": {
        "execution": {
          "iopub.status.busy": "2024-05-20T16:58:18.746727Z",
          "iopub.execute_input": "2024-05-20T16:58:18.747722Z",
          "iopub.status.idle": "2024-05-20T16:58:19.242933Z",
          "shell.execute_reply.started": "2024-05-20T16:58:18.747681Z",
          "shell.execute_reply": "2024-05-20T16:58:19.241975Z"
        },
        "trusted": true,
        "id": "8asZO2sUV9jk",
        "outputId": "64570bd7-89d0-4fc1-c8ae-c0bc992f9c9d"
      },
      "execution_count": null,
      "outputs": [
        {
          "output_type": "display_data",
          "data": {
            "text/plain": "<Figure size 576x360 with 2 Axes>",
            "image/png": "[encoded data removed]"
          },
          "metadata": {
            "needs_background": "light"
          }
        }
      ]
    },
    {
      "cell_type": "code",
      "source": [
        "model_name = 'distilbert/distilbert-base-multilingual-cased'\n",
        "trans = text.Transformer(model_name,maxlen=100,class_names=categories)"
      ],
      "metadata": {
        "execution": {
          "iopub.status.busy": "2024-05-20T16:56:43.62927Z",
          "iopub.execute_input": "2024-05-20T16:56:43.630008Z",
          "iopub.status.idle": "2024-05-20T16:57:56.484452Z",
          "shell.execute_reply.started": "2024-05-20T16:56:43.629969Z",
          "shell.execute_reply": "2024-05-20T16:57:56.48358Z"
        },
        "trusted": true,
        "id": "W4Nk28erV9jk",
        "outputId": "a416fa59-3c03-42bb-c4d6-f9cc66ed976a",
        "colab": {
          "referenced_widgets": [
            "e43f150a9667437a84f20204b5335261",
            "0c4f6519940d4e768c98ce7d52d0e578"
          ]
        }
      },
      "execution_count": null,
      "outputs": [
        {
          "output_type": "display_data",
          "data": {
            "text/plain": "Downloading:   0%|          | 0.00/466 [00:00<?, ?B/s]",
            "application/vnd.jupyter.widget-view+json": {
              "version_major": 2,
              "version_minor": 0,
              "model_id": "e43f150a9667437a84f20204b5335261"
            }
          },
          "metadata": {}
        },
        {
          "output_type": "display_data",
          "data": {
            "text/plain": "Downloading:   0%|          | 0.00/869M [00:00<?, ?B/s]",
            "application/vnd.jupyter.widget-view+json": {
              "version_major": 2,
              "version_minor": 0,
              "model_id": "0c4f6519940d4e768c98ce7d52d0e578"
            }
          },
          "metadata": {}
        }
      ]
    },
    {
      "cell_type": "code",
      "source": [
        "train = trans.preprocess_train(X_train,y_train)\n",
        "valid = trans.preprocess_test(X_valid,y_valid)"
      ],
      "metadata": {
        "execution": {
          "iopub.status.busy": "2024-05-20T16:58:40.566494Z",
          "iopub.execute_input": "2024-05-20T16:58:40.566954Z",
          "iopub.status.idle": "2024-05-20T16:58:45.020398Z",
          "shell.execute_reply.started": "2024-05-20T16:58:40.566915Z",
          "shell.execute_reply": "2024-05-20T16:58:45.019441Z"
        },
        "trusted": true,
        "id": "eklsTQaZV9jl",
        "outputId": "499cfe14-5f5b-461b-dbfa-c55adf8e69ad",
        "colab": {
          "referenced_widgets": [
            "5feb88fa132347eb9aff6f9a0927d1cd",
            "6788a4d8cd964575a525534e17a4f792",
            "5488dd4b196c4a5caa23e36d75d87e7f"
          ]
        }
      },
      "execution_count": null,
      "outputs": [
        {
          "name": "stdout",
          "text": "preprocessing train...\nlanguage: bn\ntrain sequence lengths:\n\tmean : 10\n\t95percentile : 19\n\t99percentile : 26\n",
          "output_type": "stream"
        },
        {
          "output_type": "display_data",
          "data": {
            "text/plain": "Downloading:   0%|          | 0.00/49.0 [00:00<?, ?B/s]",
            "application/vnd.jupyter.widget-view+json": {
              "version_major": 2,
              "version_minor": 0,
              "model_id": "5feb88fa132347eb9aff6f9a0927d1cd"
            }
          },
          "metadata": {}
        },
        {
          "output_type": "display_data",
          "data": {
            "text/plain": "Downloading:   0%|          | 0.00/972k [00:00<?, ?B/s]",
            "application/vnd.jupyter.widget-view+json": {
              "version_major": 2,
              "version_minor": 0,
              "model_id": "6788a4d8cd964575a525534e17a4f792"
            }
          },
          "metadata": {}
        },
        {
          "output_type": "display_data",
          "data": {
            "text/plain": "Downloading:   0%|          | 0.00/1.87M [00:00<?, ?B/s]",
            "application/vnd.jupyter.widget-view+json": {
              "version_major": 2,
              "version_minor": 0,
              "model_id": "5488dd4b196c4a5caa23e36d75d87e7f"
            }
          },
          "metadata": {}
        },
        {
          "output_type": "display_data",
          "data": {
            "text/plain": "<IPython.core.display.HTML object>",
            "text/html": "\n<style>\n    /* Turns off some styling */\n    progress {\n        /* gets rid of default border in Firefox and Opera. */\n        border: none;\n        /* Needs to be in here for Safari polyfill so background images work as expected. */\n        background-size: auto;\n    }\n    progress:not([value]), progress:not([value])::-webkit-progress-bar {\n        background: repeating-linear-gradient(45deg, #7e7e7e, #7e7e7e 10px, #5c5c5c 10px, #5c5c5c 20px);\n    }\n    .progress-bar-interrupted, .progress-bar-interrupted::-webkit-progress-bar {\n        background: #F44336;\n    }\n</style>\n"
          },
          "metadata": {}
        },
        {
          "output_type": "display_data",
          "data": {
            "text/plain": "<IPython.core.display.HTML object>",
            "text/html": ""
          },
          "metadata": {}
        },
        {
          "name": "stdout",
          "text": "Is Multi-Label? False\npreprocessing test...\nlanguage: bn\ntest sequence lengths:\n\tmean : 10\n\t95percentile : 19\n\t99percentile : 25\n",
          "output_type": "stream"
        },
        {
          "output_type": "display_data",
          "data": {
            "text/plain": "<IPython.core.display.HTML object>",
            "text/html": "\n<style>\n    /* Turns off some styling */\n    progress {\n        /* gets rid of default border in Firefox and Opera. */\n        border: none;\n        /* Needs to be in here for Safari polyfill so background images work as expected. */\n        background-size: auto;\n    }\n    progress:not([value]), progress:not([value])::-webkit-progress-bar {\n        background: repeating-linear-gradient(45deg, #7e7e7e, #7e7e7e 10px, #5c5c5c 10px, #5c5c5c 20px);\n    }\n    .progress-bar-interrupted, .progress-bar-interrupted::-webkit-progress-bar {\n        background: #F44336;\n    }\n</style>\n"
          },
          "metadata": {}
        },
        {
          "output_type": "display_data",
          "data": {
            "text/plain": "<IPython.core.display.HTML object>",
            "text/html": ""
          },
          "metadata": {}
        }
      ]
    },
    {
      "cell_type": "code",
      "source": [
        "model = trans.get_classifier()"
      ],
      "metadata": {
        "execution": {
          "iopub.status.busy": "2024-05-20T16:58:48.388548Z",
          "iopub.execute_input": "2024-05-20T16:58:48.389518Z",
          "iopub.status.idle": "2024-05-20T16:58:49.734136Z",
          "shell.execute_reply.started": "2024-05-20T16:58:48.389481Z",
          "shell.execute_reply": "2024-05-20T16:58:49.733331Z"
        },
        "trusted": true,
        "id": "jdc0g78kV9jl"
      },
      "execution_count": null,
      "outputs": []
    },
    {
      "cell_type": "code",
      "source": [
        "learner = ktrain.get_learner(model, train_data=train,val_data=valid, batch_size=32)"
      ],
      "metadata": {
        "execution": {
          "iopub.status.busy": "2024-05-20T16:58:56.65621Z",
          "iopub.execute_input": "2024-05-20T16:58:56.656997Z",
          "iopub.status.idle": "2024-05-20T16:58:57.790812Z",
          "shell.execute_reply.started": "2024-05-20T16:58:56.656959Z",
          "shell.execute_reply": "2024-05-20T16:58:57.789964Z"
        },
        "trusted": true,
        "id": "ODNEyx-5V9jl"
      },
      "execution_count": null,
      "outputs": []
    },
    {
      "cell_type": "code",
      "source": [
        "from sklearn.utils import class_weight\n",
        "class_weights = class_weight.compute_class_weight('balanced'\n",
        "                                               ,classes = np.unique(train_data['enc_label'])\n",
        "                                               ,y = train_data['enc_label'])\n",
        "class_weights = dict(zip(np.unique(train_data['enc_label']), class_weights))"
      ],
      "metadata": {
        "execution": {
          "iopub.status.busy": "2024-05-20T16:59:02.740698Z",
          "iopub.execute_input": "2024-05-20T16:59:02.741727Z",
          "iopub.status.idle": "2024-05-20T16:59:02.840196Z",
          "shell.execute_reply.started": "2024-05-20T16:59:02.741682Z",
          "shell.execute_reply": "2024-05-20T16:59:02.839226Z"
        },
        "trusted": true,
        "id": "HvRC5WNiV9jl"
      },
      "execution_count": null,
      "outputs": []
    },
    {
      "cell_type": "code",
      "source": [
        "weight = {i : class_weights[i] for i in range(5)}\n",
        "weight"
      ],
      "metadata": {
        "execution": {
          "iopub.status.busy": "2024-05-20T16:59:05.883594Z",
          "iopub.execute_input": "2024-05-20T16:59:05.883983Z",
          "iopub.status.idle": "2024-05-20T16:59:05.98318Z",
          "shell.execute_reply.started": "2024-05-20T16:59:05.883948Z",
          "shell.execute_reply": "2024-05-20T16:59:05.981991Z"
        },
        "trusted": true,
        "id": "YX_yfu7_V9jl",
        "outputId": "718ad564-5679-4a2b-dbe7-ea972ee2bac3"
      },
      "execution_count": null,
      "outputs": [
        {
          "execution_count": 76,
          "output_type": "execute_result",
          "data": {
            "text/plain": "{0: 1.0156521739130435,\n 1: 1.0656934306569343,\n 2: 0.9426957223567393,\n 3: 0.9175176747839748,\n 4: 1.0794824399260627}"
          },
          "metadata": {}
        }
      ]
    },
    {
      "cell_type": "code",
      "source": [
        "learner.fit_onecycle(2e-5,10,class_weight=weight)"
      ],
      "metadata": {
        "execution": {
          "iopub.status.busy": "2024-05-20T16:59:09.085022Z",
          "iopub.execute_input": "2024-05-20T16:59:09.085417Z",
          "iopub.status.idle": "2024-05-20T17:05:58.391092Z",
          "shell.execute_reply.started": "2024-05-20T16:59:09.08538Z",
          "shell.execute_reply": "2024-05-20T17:05:58.389961Z"
        },
        "trusted": true,
        "id": "UbEoO6HmV9jm",
        "outputId": "cc84f56c-8b13-481a-e32c-2f2969055fe4"
      },
      "execution_count": null,
      "outputs": [
        {
          "name": "stdout",
          "text": "\n\nbegin training using onecycle policy with max lr of 2e-05...\nEpoch 1/10\n183/183 [==============================] - 51s 228ms/step - loss: 1.5781 - accuracy: 0.2962 - val_loss: 1.4235 - val_accuracy: 0.4575\nEpoch 2/10\n183/183 [==============================] - 40s 217ms/step - loss: 1.1346 - accuracy: 0.5983 - val_loss: 0.8188 - val_accuracy: 0.7205\nEpoch 3/10\n183/183 [==============================] - 40s 217ms/step - loss: 0.6874 - accuracy: 0.7711 - val_loss: 0.6676 - val_accuracy: 0.7877\nEpoch 4/10\n183/183 [==============================] - 40s 217ms/step - loss: 0.4944 - accuracy: 0.8392 - val_loss: 0.5413 - val_accuracy: 0.8082\nEpoch 5/10\n183/183 [==============================] - 40s 217ms/step - loss: 0.3387 - accuracy: 0.8945 - val_loss: 0.5041 - val_accuracy: 0.8534\nEpoch 6/10\n183/183 [==============================] - 40s 217ms/step - loss: 0.2519 - accuracy: 0.9219 - val_loss: 0.4698 - val_accuracy: 0.8534\nEpoch 7/10\n183/183 [==============================] - 40s 217ms/step - loss: 0.1489 - accuracy: 0.9541 - val_loss: 0.4484 - val_accuracy: 0.8534\nEpoch 8/10\n183/183 [==============================] - 40s 217ms/step - loss: 0.0997 - accuracy: 0.9700 - val_loss: 0.4352 - val_accuracy: 0.8740\nEpoch 9/10\n183/183 [==============================] - 40s 217ms/step - loss: 0.0652 - accuracy: 0.9839 - val_loss: 0.4606 - val_accuracy: 0.8699\nEpoch 10/10\n183/183 [==============================] - 40s 217ms/step - loss: 0.0520 - accuracy: 0.9878 - val_loss: 0.4627 - val_accuracy: 0.8699\n",
          "output_type": "stream"
        },
        {
          "execution_count": 77,
          "output_type": "execute_result",
          "data": {
            "text/plain": "<keras.callbacks.History at 0x7db4d08b16d0>"
          },
          "metadata": {}
        }
      ]
    },
    {
      "cell_type": "code",
      "source": [
        "# Save the predictor directly in the working directory\n",
        "save_path = '/kaggle/working/dismbert'\n",
        "ktrain.get_predictor(learner.model, preproc=trans).save(save_path)"
      ],
      "metadata": {
        "execution": {
          "iopub.status.busy": "2024-05-20T17:08:58.517071Z",
          "iopub.execute_input": "2024-05-20T17:08:58.517946Z",
          "iopub.status.idle": "2024-05-20T17:09:00.004641Z",
          "shell.execute_reply.started": "2024-05-20T17:08:58.517906Z",
          "shell.execute_reply": "2024-05-20T17:09:00.003603Z"
        },
        "trusted": true,
        "id": "NxOK5SWcV9jm"
      },
      "execution_count": null,
      "outputs": []
    },
    {
      "cell_type": "code",
      "source": [
        "# Import necessary packages\n",
        "from sklearn.metrics import accuracy_score, classification_report\n",
        "import ktrain\n",
        "\n",
        "# Specify the file path for saving and loading the model in the Kaggle working directory\n",
        "save_path = '/kaggle/working/dismbert'\n",
        "\n",
        "# Load the predictor from the specified path\n",
        "predictor = ktrain.load_predictor(save_path)\n",
        "\n",
        "# Assuming you have your test data available as 'X_test' and 'y_test' in your Kaggle environment\n",
        "# Make predictions on the test data using the loaded predictor\n",
        "y_pred = predictor.predict(X_test)\n",
        "\n",
        "# Calculate accuracy by comparing the predicted labels with true labels\n",
        "accuracy = accuracy_score(y_test, y_pred)\n",
        "print(f\"Test data accuracy: {accuracy:.2%}\")\n",
        "\n",
        "# Generate classification report\n",
        "report = classification_report(y_test, y_pred)\n",
        "\n",
        "# Print the classification report\n",
        "print(\"Classification Report:\")\n",
        "print(report)"
      ],
      "metadata": {
        "execution": {
          "iopub.status.busy": "2024-05-20T17:09:07.455025Z",
          "iopub.execute_input": "2024-05-20T17:09:07.455789Z",
          "iopub.status.idle": "2024-05-20T17:09:13.011759Z",
          "shell.execute_reply.started": "2024-05-20T17:09:07.45575Z",
          "shell.execute_reply": "2024-05-20T17:09:13.010682Z"
        },
        "trusted": true,
        "id": "Uwf8wq8kV9jm",
        "outputId": "8238d2ea-5596-47f2-941c-f9fa291ec2cf"
      },
      "execution_count": null,
      "outputs": [
        {
          "name": "stdout",
          "text": "Test data accuracy: 87.95%\nClassification Report:\n                      precision    recall  f1-score   support\n\n      Cyber Security       0.86      0.88      0.87       152\n                DBMS       0.90      0.85      0.87       164\n  Data Communication       0.88      0.92      0.90       148\n    Operating System       0.88      0.86      0.87       132\nSoftware Engineering       0.88      0.89      0.88       134\n\n            accuracy                           0.88       730\n           macro avg       0.88      0.88      0.88       730\n        weighted avg       0.88      0.88      0.88       730\n\n",
          "output_type": "stream"
        }
      ]
    },
    {
      "cell_type": "code",
      "source": [
        "# Import necessary packages\n",
        "import ktrain\n",
        "import numpy as np\n",
        "from sklearn.metrics import accuracy_score, classification_report\n",
        "from scipy import stats\n",
        "\n",
        "# Load the predictors (models) from the specified directories\n",
        "predictor_banglabert = ktrain.load_predictor('/kaggle/working/banglabert')\n",
        "predictor_roberta = ktrain.load_predictor('/kaggle/working/roberta')\n",
        "predictor_mbert = ktrain.load_predictor('/kaggle/working/mbert')\n",
        "predictor_disbert = ktrain.load_predictor('/kaggle/working/dismbert')\n",
        "\n",
        "# Assuming you have your test data available as 'X_test' and 'y_test'\n",
        "# Make predictions on the test data using each of the loaded predictors\n",
        "y_pred_banglabert = predictor_banglabert.predict(X_test)\n",
        "y_pred_roberta = predictor_roberta.predict(X_test)\n",
        "y_pred_mbert = predictor_mbert.predict(X_test)\n",
        "y_pred_disbert = predictor_disbert.predict(X_test)\n",
        "# Ensemble the predictions using majority voting\n",
        "# Majority voting: For each sample, choose the most common prediction among the models\n",
        "y_pred_ensemble = stats.mode([y_pred_banglabert, y_pred_roberta, y_pred_mbert,y_pred_disbert], axis=0)[0][0]\n",
        "\n",
        "# Calculate accuracy by comparing the ensemble predictions with true labels\n",
        "accuracy = accuracy_score(y_test, y_pred_ensemble)\n",
        "print(f\"Ensemble test data accuracy: {accuracy:.2%}\")\n",
        "\n",
        "# Generate classification report for the ensemble predictions\n",
        "report = classification_report(y_test, y_pred_ensemble,digits=4)\n",
        "\n",
        "# Print the classification report\n",
        "print(\"Ensemble classification report:\")\n",
        "print(report)\n"
      ],
      "metadata": {
        "execution": {
          "iopub.status.busy": "2024-05-20T17:09:25.820655Z",
          "iopub.execute_input": "2024-05-20T17:09:25.821645Z",
          "iopub.status.idle": "2024-05-20T17:09:52.402313Z",
          "shell.execute_reply.started": "2024-05-20T17:09:25.821594Z",
          "shell.execute_reply": "2024-05-20T17:09:52.401045Z"
        },
        "trusted": true,
        "id": "8K4kVHgOV9jm",
        "outputId": "230b51ce-32f5-4836-c3fb-80a1293c4079"
      },
      "execution_count": null,
      "outputs": [
        {
          "name": "stdout",
          "text": "Ensemble test data accuracy: 91.92%\nEnsemble classification report:\n                      precision    recall  f1-score   support\n\n      Cyber Security     0.9211    0.9211    0.9211       152\n                DBMS     0.9074    0.8963    0.9018       164\n  Data Communication     0.9400    0.9527    0.9463       148\n    Operating System     0.8815    0.9015    0.8914       132\nSoftware Engineering     0.9466    0.9254    0.9358       134\n\n            accuracy                         0.9192       730\n           macro avg     0.9193    0.9194    0.9193       730\n        weighted avg     0.9194    0.9192    0.9192       730\n\n",
          "output_type": "stream"
        }
      ]
    },
    {
      "cell_type": "code",
      "source": [
        "\n",
        "# Import necessary packages\n",
        "import ktrain\n",
        "import numpy as np\n",
        "from sklearn.metrics import accuracy_score, classification_report, confusion_matrix\n",
        "from scipy import stats\n",
        "\n",
        "\n",
        "# Generate confusion matrix\n",
        "conf_matrix = confusion_matrix(y_test, y_pred_ensemble)\n",
        "\n",
        "# Plot confusion matrix using seaborn heatmap\n",
        "import seaborn as sns\n",
        "import matplotlib.pyplot as plt\n",
        "\n",
        "plt.figure(figsize=(8, 5))\n",
        "sns.heatmap(conf_matrix, annot=True, fmt='d', cmap='Blues', xticklabels=np.unique(y_test), yticklabels=np.unique(y_test))\n",
        "# Rotate x-axis tick labels by 30 degrees\n",
        "plt.xticks(rotation=30, ha='right')\n",
        "plt.xlabel('Predicted Labels')\n",
        "plt.ylabel('True Labels')\n",
        "plt.title('Confusion Matrix')\n",
        "plt.show()"
      ],
      "metadata": {
        "execution": {
          "iopub.status.busy": "2024-05-20T17:10:07.756997Z",
          "iopub.execute_input": "2024-05-20T17:10:07.757389Z",
          "iopub.status.idle": "2024-05-20T17:10:08.196606Z",
          "shell.execute_reply.started": "2024-05-20T17:10:07.757357Z",
          "shell.execute_reply": "2024-05-20T17:10:08.195591Z"
        },
        "trusted": true,
        "id": "CJFGfzK-V9jm",
        "outputId": "5dd5a5e4-2dfe-4682-9354-3b53da4a5af7"
      },
      "execution_count": null,
      "outputs": [
        {
          "output_type": "display_data",
          "data": {
            "text/plain": "<Figure size 576x360 with 2 Axes>",
            "image/png": "[encoded data removed]"
          },
          "metadata": {
            "needs_background": "light"
          }
        }
      ]
    },
    {
      "cell_type": "code",
      "source": [
        "# Assuming 'X_test' is your test data, 'y_test' are the true labels, and 'y_pred_ensemble' are the ensemble predictions\n",
        "\n",
        "# Find indices of misclassified samples\n",
        "misclassified_indices = np.where(y_test != y_pred_ensemble)[0]\n",
        "\n",
        "# Print or inspect misclassified samples\n",
        "print(\"Misclassified samples:\")\n",
        "for idx in misclassified_indices:\n",
        "    print(f\"Index: {idx}\")\n",
        "    print(f\"True Label: {y_test[idx]}\")\n",
        "    print(f\"Predicted Label: {y_pred_ensemble[idx]}\")\n",
        "    print(f\"Sample Data: {X_test[idx]}\")\n",
        "    print(\"-\" * 30)\n",
        "\n",
        "# If 'X_test' is a DataFrame and you want to see the misclassified samples in tabular form\n",
        "import pandas as pd\n",
        "\n",
        "# Assuming X_test is a DataFrame\n",
        "misclassified_samples = X_test.iloc[misclassified_indices]\n",
        "misclassified_samples['True_Label'] = y_test[misclassified_indices]\n",
        "misclassified_samples['Predicted_Label'] = y_pred_ensemble[misclassified_indices]\n",
        "\n",
        "print(\"Misclassified samples in tabular form:\")\n",
        "print(misclassified_samples)"
      ],
      "metadata": {
        "execution": {
          "iopub.status.busy": "2024-05-20T17:11:07.903446Z",
          "iopub.execute_input": "2024-05-20T17:11:07.903876Z",
          "iopub.status.idle": "2024-05-20T17:11:08.032503Z",
          "shell.execute_reply.started": "2024-05-20T17:11:07.90384Z",
          "shell.execute_reply": "2024-05-20T17:11:08.031221Z"
        },
        "trusted": true,
        "id": "DApP9maNV9jn",
        "outputId": "19dc5dac-59e0-43b3-8ac7-d19fd956c885"
      },
      "execution_count": null,
      "outputs": [
        {
          "name": "stdout",
          "text": "Misclassified samples:\nIndex: 0\nTrue Label: Cyber Security\nPredicted Label: Data Communication\nSample Data: হার্ডওয়্যার ফায়ারওয়াল আরেকটি অসুবিধা সংস্থার ডিজাইন ফায়ারওয়াল গুলো কনফিগারেশনের হয়ে\n------------------------------\nIndex: 5\nTrue Label: DBMS\nPredicted Label: Software Engineering\nSample Data: আপ্লিকেশন প্রোগ্রামের প্রভাব ছাড়াই সহজে পরিবর্তিত\n------------------------------\nIndex: 12\nTrue Label: Cyber Security\nPredicted Label: Operating System\nSample Data: বছরগুলো পূর্বে প্রধানগুলি কম্পিউটিং মেইনফ্রেম কম্পিউটারে হতো ডেটা প্রসেসিং সেন্টারগুলি রক্ষা দায়িত্ব পরিদর্শন করতো\n------------------------------\nIndex: 14\nTrue Label: Software Engineering\nPredicted Label: Operating System\nSample Data: এক্ষেত্রে প্রতিটি চক্রেই বৈশিষ্ট্য সমূহ সফটওয়্যারে যুক্ত পূর্বের চক্রের তুলনায় পরবর্তী চক্র capability সম্পন্ন\n------------------------------\nIndex: 17\nTrue Label: DBMS\nPredicted Label: Operating System\nSample Data: যেহেতু প্রোগ্রামাররা দীর্ঘ সময় ফাইল অ্যাপ্লিকেশন প্রোগ্রাম তৈরি ফাইল থাকার সম্ভাবনা কাঠামো প্রোগ্রামগুলি প্রোগ্রামিং ভাষায় লেখা\n------------------------------\nIndex: 43\nTrue Label: Operating System\nPredicted Label: Cyber Security\nSample Data: কৃষিকাজ নগর উন্নয়ন নগর জীবনে ক্ষেত্র Computer\n------------------------------\nIndex: 45\nTrue Label: DBMS\nPredicted Label: Cyber Security\nSample Data: সম্পর্কের পৃথক টাপলস নিষিদ্ধ সময়ে মূল বৈশিষ্ট্যগুলিতে মান\n------------------------------\nIndex: 46\nTrue Label: Operating System\nPredicted Label: DBMS\nSample Data: সর্বশেষ Latest ভার্শনে সিডিউলিং Loadable table নিয়ন্ত্রিত\n------------------------------\nIndex: 82\nTrue Label: Cyber Security\nPredicted Label: Software Engineering\nSample Data: যত্নশীলভাবে লেখা পরিকল্পনা প্রবন্ধকে সমর্থন ম্যানেজমেন্ট কর্মচারীদের নিরাপত্তা ম্যানেজমেন্টের গুরুত্বপূর্ণ\n------------------------------\nIndex: 88\nTrue Label: Cyber Security\nPredicted Label: DBMS\nSample Data: অর্থাৎ ব্যক্তি সংস্থা জ্ঞান বুদ্ধি মনন সৃজনশীলতার বিকাশ ঘটিয়ে তৈরি ব্যক্তি সংস্থার ইন্টেলেকচুয়াল প্রপার্টি\n------------------------------\nIndex: 119\nTrue Label: DBMS\nPredicted Label: Operating System\nSample Data: অপটিক্যাল স্টোরেজ বহুল ব্যবহৃত রূপ কমপ্যাক্ট ডিস্ক রিড অনলি মেমোরি সিডি রম\n------------------------------\nIndex: 121\nTrue Label: Software Engineering\nPredicted Label: Operating System\nSample Data: সিস্টেমের ফাংশনালিটি সঠিকভাবে\n------------------------------\nIndex: 126\nTrue Label: Cyber Security\nPredicted Label: Operating System\nSample Data: এটির আসল উদ্দেশ্য Application টির সম্পূর্ণ দিক দিয়ে ইউজার বন্ধ\n------------------------------\nIndex: 133\nTrue Label: Cyber Security\nPredicted Label: Data Communication\nSample Data: এক্ষেত্রে সাধারণত মূল ডেটাকে কোডের পরিবর্তিত প্রেরণ\n------------------------------\nIndex: 153\nTrue Label: DBMS\nPredicted Label: Software Engineering\nSample Data: কুয়েরি ইভ্যালুয়েশন ইঞ্জিন ইনস্ট্রাকশনগুলোকে বুঝতে\n------------------------------\nIndex: 154\nTrue Label: DBMS\nPredicted Label: Data Communication\nSample Data: ফলস্বরূপ একক ডেটা সেন্টারের নেটওয়ার্কগুলির তুলনায় নেটওয়ার্ক সংযোগগুলিতে কম ব্যান্ডউইথ উচ্চতর লেটেন্সি ব্যর্থতার সম্ভাবনা\n------------------------------\nIndex: 158\nTrue Label: DBMS\nPredicted Label: Operating System\nSample Data: এক্ষেত্রে প্রাইমারি সেকেন্ডারি মেমোরি মুখ্য ভূমিকা পালন\n------------------------------\nIndex: 172\nTrue Label: Operating System\nPredicted Label: Data Communication\nSample Data: তাত্ত্বিকভাবে সেলুলার ধারণাটি রেডিও চ্যানেলের নির্দিষ্ট সেটের যেকোন সংখ্যক মোবাইল ব্যবহারকারীকে থাকার অনুমতি\n------------------------------\nIndex: 207\nTrue Label: Cyber Security\nPredicted Label: Data Communication\nSample Data: সার্ভার ফিরতি প্যাকেট রাউটারের পৌঁছায় প্যাকেটেও নেটওয়ার্ক আইডি যুক্ত\n------------------------------\nIndex: 214\nTrue Label: Operating System\nPredicted Label: Data Communication\nSample Data: মিউজিক ভিডিও চালানো ডিজিটাল বই পড়া ছবি তোলা হাই ডেফিনেশনের ভিডিও রেকর্ডিংএ ব্যবহৃত\n------------------------------\nIndex: 217\nTrue Label: Software Engineering\nPredicted Label: DBMS\nSample Data: রিলেশনশিপ এনটিটি সমূহের ম্যাপিং\n------------------------------\nIndex: 222\nTrue Label: DBMS\nPredicted Label: Cyber Security\nSample Data: Hardware software সম্পর্কীত ত্রুটি মানুষ প্রকৃতি সৃষ্টজনিত দুর্ঘটনার কারণে ভাটা লস ক্ষতিগ্রস্ত হওয়ার হাত রক্ষা ব্যবস্থা গ্রহণ\n------------------------------\nIndex: 223\nTrue Label: Data Communication\nPredicted Label: Cyber Security\nSample Data: ব্রিটেনে প্রযুক্তি ইন্টারনেটকে আরো ছড়িয়ে দেওয়ার একটা উদ্যোগ হয়েছে আরো লোক প্রযুক্তির সুবিধা লন্ডনে ওয়াই ফাইএর আরো হটস্পট তৈরি ইন্টারনেটের সামাজিক বিস্তার ছাড়াও ইন্টারনেট ভিত্তিক ব্যবসারও সুবিধা\n------------------------------\nIndex: 241\nTrue Label: Data Communication\nPredicted Label: Cyber Security\nSample Data: টাইমিং রিকভারি নিম্নলিখিত ফ্যাক্টরগুলো বিবেচনা\n------------------------------\nIndex: 263\nTrue Label: Cyber Security\nPredicted Label: DBMS\nSample Data: তথ্য নির্ভর সার্ভিসভিত্তিক ব্যবসাগুলোর এভেইবিলিটি সবচেয়ে গুরুত্বপূর্ণ বৈশিষ্ট্য\n------------------------------\nIndex: 277\nTrue Label: Operating System\nPredicted Label: Cyber Security\nSample Data: বর্তমানে মোবাইল সিস্টেম ইমেইল ওয়েভ ব্রাউজিংএ ব্যবহৃত\n------------------------------\nIndex: 278\nTrue Label: Software Engineering\nPredicted Label: DBMS\nSample Data: ব্লাক বক্স টেস্টিং টেকনিক দিয়ে ডাটা স্ট্রাকচার ডাটাবেস এক্সেসের ভুল থাকলে শনাক্ত যায়\n------------------------------\nIndex: 295\nTrue Label: Operating System\nPredicted Label: DBMS\nSample Data: ডাটাকে আকস্মিক দুর্ঘটনা বিদ্বেষপরায়ণ পরিবর্তন রক্ষা সম্ভব\n------------------------------\nIndex: 296\nTrue Label: Software Engineering\nPredicted Label: DBMS\nSample Data: ননফাংশনাল রিকয়্যারমেন্টসমূহ নিরাপত্তা Securityলগইন Loggingস্টোরেজ Storageকনফিগারেশন Configuration পারফরমেন্স Performanceমূল্য Costআন্তঃক্রিয়া Interoperabilityনমনীয়তা Flexibility\n------------------------------\nIndex: 348\nTrue Label: DBMS\nPredicted Label: Cyber Security\nSample Data: কম্পিউটার সিস্টেম যেকোনো ডিভাইসের কারণে ব্যর্থতার সাপেক্ষে ডিস্ক ক্র্যাশ পাওয়ার বিভ্রাট সফ্টওয়্যার ত্রুটি মেশিন রুমে আগুন এমনকি নাশকতা\n------------------------------\nIndex: 350\nTrue Label: DBMS\nPredicted Label: Software Engineering\nSample Data: কম্পিউটারের সাহায্যে সমস্যা সমাধানের উদ্দেশ্যে ল্যাংগুয়েজের সাহায্যে প্রেমগ্রাম রচনা তাকেই প্রোগ্রামিং ল্যাংগুয়েজ\n------------------------------\nIndex: 379\nTrue Label: Data Communication\nPredicted Label: Cyber Security\nSample Data: পিয়ারটুপিয়ার নেটওয়ার্ক পদ্ধতিতে ওয়ার্কস্টেশনের ডাটা সিকিউরিটির ওয়ার্কস্টেশন দায়ী\n------------------------------\nIndex: 381\nTrue Label: Data Communication\nPredicted Label: Operating System\nSample Data: প্রতিটি গ্রুপের ভিন্ন ভিন্ন টাইম ইন্টারভ্যাল নির্ধারিত\n------------------------------\nIndex: 390\nTrue Label: Cyber Security\nPredicted Label: DBMS\nSample Data: সম্ভাব্যতঃ গম্ভীর সমস্যা সার্ভার সাইড ইনক্লুড\n------------------------------\nIndex: 411\nTrue Label: Cyber Security\nPredicted Label: Operating System\nSample Data: ইলেকট্রনিক্স ডিভাইস Smartphone Laptop Desktopএ সবসময় ভালোমানের এন্টিভাইরাস ইনস্টল নিয়মিত আপডেট\n------------------------------\nIndex: 415\nTrue Label: DBMS\nPredicted Label: Cyber Security\nSample Data: আধুনিক অ্যাপ্লিকেশনের অত্যন্ত পরিশীলিত বিশ্বব্যাপী উদ্যোগ\n------------------------------\nIndex: 441\nTrue Label: Data Communication\nPredicted Label: Cyber Security\nSample Data: ছবির প্রতিটি ফ্রেমের অপ্রয়োজনীয় ভিডিও নমুনাগুলি সরিয়ে ডেটা সংকুচিত অপ্রয়োজনীয় নমুনা অপসারণ ফ্রেম ফ্রেম ঘটতে\n------------------------------\nIndex: 481\nTrue Label: Software Engineering\nPredicted Label: DBMS\nSample Data: উইশ লিস্ট Wish লিস্ট রিকয়্যারমেন্টসমূহ সফটওয়্যারের অবজেকটিভ ম্যাপ\n------------------------------\nIndex: 521\nTrue Label: Cyber Security\nPredicted Label: DBMS\nSample Data: ওয়েব সার্ভার নির্দিষ্ট Limite পরিমান লোড Lode ওয়েব সার্ভার টিতে যেটি Visitor file Store ক্ষেত্রেও\n------------------------------\nIndex: 526\nTrue Label: DBMS\nPredicted Label: Operating System\nSample Data: সিস্টেমের খরচও কমে যায়\n------------------------------\nIndex: 536\nTrue Label: Operating System\nPredicted Label: Data Communication\nSample Data: মোবাইল কম্পিউটার পিসিগুলোর সিনক্রোনাইজ কোম্পানি ইনফরমেশন পোরটেবল ব্যবহারের\n------------------------------\nIndex: 542\nTrue Label: Software Engineering\nPredicted Label: Operating System\nSample Data: ইউজার ইন্টারফেসকে সাধারণত বিভাগে ভাগ\n------------------------------\nIndex: 546\nTrue Label: DBMS\nPredicted Label: Operating System\nSample Data: ফাইলপ্রসেসিং সিস্টেমটি প্রচলিত অপারেটিং সিস্টেম সমর্থিত\n------------------------------\nIndex: 570\nTrue Label: Software Engineering\nPredicted Label: Data Communication\nSample Data: অবশেষে বিমূর্ততার সর্বনিম্ন স্তরে সমাধানটি এমনভাবে সরাসরি প্রয়োগ সিউডোকোড\n------------------------------\nIndex: 572\nTrue Label: Operating System\nPredicted Label: Software Engineering\nSample Data: অধিকাংশ প্রোগ্রাম প্রোগ্রাম মডিউলে বিভক্ত অংশ ডাটা ধারণ\n------------------------------\nIndex: 586\nTrue Label: Operating System\nPredicted Label: DBMS\nSample Data: প্রতিটি সংযোগই Unique\n------------------------------\nIndex: 587\nTrue Label: Software Engineering\nPredicted Label: DBMS\nSample Data: পদ্ধতিগত বিমূর্ততা খোলার প্রসঙ্গে ক্যামেরা নামক ডেটা বিমূর্ততা সংজ্ঞায়িত\n------------------------------\nIndex: 592\nTrue Label: Operating System\nPredicted Label: DBMS\nSample Data: পিয়ার টু পিয়ার সিস্টেমের নেটওয়ার্কের সর্বত্র নোডসমূহ সার্ভিস প্রদান\n------------------------------\nIndex: 598\nTrue Label: Operating System\nPredicted Label: DBMS\nSample Data: অর্থাৎ কলার প্রোগ্রাম কর্তৃক কল স্টেটমেন্ট নির্বাহের প্রয়োজন লোডিং মেকানিজম কল স্টেটমেন্টকে খুজে বের কোর মেমোরিতে লোড কলিং প্রোগ্রাম কল স্টেটমেন্টকে কলার একত্রে বন্ধন সৃষ্টি\n------------------------------\nIndex: 626\nTrue Label: Operating System\nPredicted Label: Cyber Security\nSample Data: অর্ডারে ইনসার্টেড অর্ডারে কিউ রিমুভ\n------------------------------\nIndex: 635\nTrue Label: DBMS\nPredicted Label: Data Communication\nSample Data: ডাটা ফরম্যাটে বিচ্ছিন্নভাবে ছড়ানো ছিটানো অবস্থায় থাকাকে ডাটা আইসোলেশন\n------------------------------\nIndex: 648\nTrue Label: DBMS\nPredicted Label: Software Engineering\nSample Data: প্রদত্ত সম্পর্কের টাপলগুলিকে কীভাবে আলাদা নির্দিষ্ট অবশ্যই উপায় থাকতে\n------------------------------\nIndex: 652\nTrue Label: Data Communication\nPredicted Label: Operating System\nSample Data: সিস্টেমগুলি যোগাযোগের নীতিগুলির ভিত্তি তৈরি\n------------------------------\nIndex: 659\nTrue Label: Operating System\nPredicted Label: DBMS\nSample Data: স্মার্টফোন ট্যাবলেটে GB স্টোরেজ থাকতে ডেস্কটপ কম্পিউটারে সাধারণত TB স্টোরেজ\n------------------------------\nIndex: 666\nTrue Label: DBMS\nPredicted Label: Software Engineering\nSample Data: পুরো সিস্টেমের মডিউলগুলোর দায়বদ্ধতা\n------------------------------\nIndex: 670\nTrue Label: DBMS\nPredicted Label: Operating System\nSample Data: কর্মকান্ডে কম্পিউটারের সীমাবদ্ধ\n------------------------------\nIndex: 711\nTrue Label: Cyber Security\nPredicted Label: Operating System\nSample Data: সম্পূর্ণ Team তৈরি Botnet\n------------------------------\nIndex: 723\nTrue Label: Software Engineering\nPredicted Label: Operating System\nSample Data: পদ্ধতিগত পদক্ষেপগুলির দীর্ঘ ক্রম বোঝায় মোবাইল ডিভাইসে সেফহোম সিস্টেম সক্রিয় করুন সেফহোম সিস্টেমে লগ ইন করুন প্রিভিউ ক্যামেরা নির্বাচন করুন মোবাইল অ্যাপ ব্যবহারকারী ইন্টারফেসে ক্যামেরা নিয়ন্ত্রণগুলি সনাক্ত করুন\n------------------------------\nIndex: 724\nTrue Label: Data Communication\nPredicted Label: Cyber Security\nSample Data: নেটওয়ার্কে তিনটি বিষয় অবশ্যই থাকতে\n------------------------------\n",
          "output_type": "stream"
        },
        {
          "traceback": [
            "\u001b[0;31m---------------------------------------------------------------------------\u001b[0m",
            "\u001b[0;31mAttributeError\u001b[0m                            Traceback (most recent call last)",
            "\u001b[0;32m/tmp/ipykernel_27/2715853560.py\u001b[0m in \u001b[0;36m<module>\u001b[0;34m\u001b[0m\n\u001b[1;32m     17\u001b[0m \u001b[0;34m\u001b[0m\u001b[0m\n\u001b[1;32m     18\u001b[0m \u001b[0;31m# Assuming X_test is a DataFrame\u001b[0m\u001b[0;34m\u001b[0m\u001b[0;34m\u001b[0m\u001b[0;34m\u001b[0m\u001b[0m\n\u001b[0;32m---> 19\u001b[0;31m \u001b[0mmisclassified_samples\u001b[0m \u001b[0;34m=\u001b[0m \u001b[0mX_test\u001b[0m\u001b[0;34m.\u001b[0m\u001b[0miloc\u001b[0m\u001b[0;34m[\u001b[0m\u001b[0mmisclassified_indices\u001b[0m\u001b[0;34m]\u001b[0m\u001b[0;34m\u001b[0m\u001b[0;34m\u001b[0m\u001b[0m\n\u001b[0m\u001b[1;32m     20\u001b[0m \u001b[0mmisclassified_samples\u001b[0m\u001b[0;34m[\u001b[0m\u001b[0;34m'True_Label'\u001b[0m\u001b[0;34m]\u001b[0m \u001b[0;34m=\u001b[0m \u001b[0my_test\u001b[0m\u001b[0;34m[\u001b[0m\u001b[0mmisclassified_indices\u001b[0m\u001b[0;34m]\u001b[0m\u001b[0;34m\u001b[0m\u001b[0;34m\u001b[0m\u001b[0m\n\u001b[1;32m     21\u001b[0m \u001b[0mmisclassified_samples\u001b[0m\u001b[0;34m[\u001b[0m\u001b[0;34m'Predicted_Label'\u001b[0m\u001b[0;34m]\u001b[0m \u001b[0;34m=\u001b[0m \u001b[0my_pred_ensemble\u001b[0m\u001b[0;34m[\u001b[0m\u001b[0mmisclassified_indices\u001b[0m\u001b[0;34m]\u001b[0m\u001b[0;34m\u001b[0m\u001b[0;34m\u001b[0m\u001b[0m\n",
            "\u001b[0;31mAttributeError\u001b[0m: 'list' object has no attribute 'iloc'"
          ],
          "ename": "AttributeError",
          "evalue": "'list' object has no attribute 'iloc'",
          "output_type": "error"
        }
      ]
    },
    {
      "cell_type": "code",
      "source": [
        "test_data.to_csv('/kaggle/working/test_data.csv', index=False)\n",
        "\n",
        "# Print message to indicate that the file has been saved\n",
        "print(\"Test data saved to '/kaggle/working/test_data.csv'\")"
      ],
      "metadata": {
        "execution": {
          "iopub.status.busy": "2024-05-20T17:12:10.440334Z",
          "iopub.execute_input": "2024-05-20T17:12:10.440753Z",
          "iopub.status.idle": "2024-05-20T17:12:10.552039Z",
          "shell.execute_reply.started": "2024-05-20T17:12:10.440718Z",
          "shell.execute_reply": "2024-05-20T17:12:10.551065Z"
        },
        "trusted": true,
        "id": "JFq8diO3V9jn",
        "outputId": "0f552795-db82-4c40-da4b-ef73b69289d2"
      },
      "execution_count": null,
      "outputs": [
        {
          "name": "stdout",
          "text": "Test data saved to '/kaggle/working/test_data.csv'\n",
          "output_type": "stream"
        }
      ]
    },
    {
      "cell_type": "code",
      "source": [
        "# Import necessary packages\n",
        "import ktrain\n",
        "import numpy as np\n",
        "from sklearn.metrics import accuracy_score, classification_report, confusion_matrix\n",
        "from scipy import stats\n",
        "\n",
        "# Assuming you have already made predictions and calculated the confusion matrix\n",
        "\n",
        "# Normalize the confusion matrix by the total number of samples\n",
        "conf_matrix = confusion_matrix(y_test, y_pred_ensemble)\n",
        "conf_matrix_normalized = conf_matrix.astype('float') / conf_matrix.sum(axis=1)[:, np.newaxis]\n",
        "\n",
        "# Plot confusion matrix with percentages using seaborn heatmap\n",
        "import seaborn as sns\n",
        "import matplotlib.pyplot as plt\n",
        "\n",
        "plt.figure(figsize=(8, 5))\n",
        "sns.heatmap(conf_matrix_normalized, annot=True, fmt='.2%', cmap='Blues', xticklabels=np.unique(y_test), yticklabels=np.unique(y_test))\n",
        "# Rotate x-axis tick labels by 30 degrees\n",
        "plt.xticks(rotation=30, ha='right')\n",
        "plt.xlabel('Predicted Labels')\n",
        "plt.ylabel('True Labels')\n",
        "\n",
        "plt.show()"
      ],
      "metadata": {
        "execution": {
          "iopub.status.busy": "2024-05-20T17:13:06.925715Z",
          "iopub.execute_input": "2024-05-20T17:13:06.926434Z",
          "iopub.status.idle": "2024-05-20T17:13:07.354695Z",
          "shell.execute_reply.started": "2024-05-20T17:13:06.926396Z",
          "shell.execute_reply": "2024-05-20T17:13:07.353733Z"
        },
        "trusted": true,
        "id": "PmvgplYmV9jn",
        "outputId": "c742ecc3-278d-44df-96db-184d9e7e8887"
      },
      "execution_count": null,
      "outputs": [
        {
          "output_type": "display_data",
          "data": {
            "text/plain": "<Figure size 576x360 with 2 Axes>",
            "image/png": "[encoded data removed]"
          },
          "metadata": {
            "needs_background": "light"
          }
        }
      ]
    }
  ]
}